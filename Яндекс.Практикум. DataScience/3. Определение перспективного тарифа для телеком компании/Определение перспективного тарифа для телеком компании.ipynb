{
 "cells": [
  {
   "cell_type": "markdown",
   "metadata": {},
   "source": [
    "# Определение перспективного тарифа для телеком компании"
   ]
  },
  {
   "cell_type": "markdown",
   "metadata": {},
   "source": [
    "Необходимо сделать предварительный анализ тарифов на небольшой выборке клиентов. В вашем распоряжении данные 500 пользователей «Мегалайна»: кто они, откуда, каким тарифом пользуются, сколько звонков и сообщений каждый отправил за 2018 год. Нужно проанализировать поведение клиентов и сделать вывод — какой тариф лучше."
   ]
  },
  {
   "cell_type": "markdown",
   "metadata": {},
   "source": [
    "0. [Подготовка библиотек, функций](#paragraph0)\n",
    "1. [Изучение данных](#paragraph1)\n",
    "2. [Подготовка данных](#paragraph2)\n",
    "3. [Анализ данных](#paragraph3)\n",
    "4. [Проверка гипотез](#paragraph4)\n",
    "5. [Вывод](#paragraph5)"
   ]
  },
  {
   "cell_type": "markdown",
   "metadata": {},
   "source": [
    "<a name=\"paragraph0\"></a>\n",
    "## 0. Подготовка библиотек, функций"
   ]
  },
  {
   "cell_type": "markdown",
   "metadata": {},
   "source": [
    "Импортируем библиотеки"
   ]
  },
  {
   "cell_type": "code",
   "execution_count": 126,
   "metadata": {},
   "outputs": [],
   "source": [
    "from IPython.display import display\n",
    "import pandas as pd\n",
    "\n",
    "import math \n",
    "import numpy as np\n",
    "from scipy import stats as st\n",
    "\n",
    "import seaborn as sns\n",
    "import matplotlib.pyplot as plt\n",
    "import altair as alt # https://altair-viz.github.io/index.html\n",
    "\n",
    "from scipy.stats import levene\n",
    "from scipy.stats import bartlett"
   ]
  },
  {
   "cell_type": "markdown",
   "metadata": {},
   "source": [
    "## Функции"
   ]
  },
  {
   "cell_type": "markdown",
   "metadata": {},
   "source": [
    "### 0.1  sns_hist"
   ]
  },
  {
   "cell_type": "code",
   "execution_count": 127,
   "metadata": {},
   "outputs": [],
   "source": [
    "def sns_hist(series:pd.Series, title:str, ox_label:str, bins = 50):\n",
    "    \"\"\"\n",
    "    Функция для отображения распределения исследуемой величины\n",
    "    series - Исследуемый набор данных \n",
    "    title - заголовок \n",
    "    ox_label - подпись оси Ox\n",
    "    \"\"\"\n",
    "    plt.figure(figsize=(10,5))\n",
    "    #sns.distplot(series)\n",
    "    sns.histplot(series, kde=True, stat = 'probability', bins=bins)\n",
    "    plt.axvline(series.median())\n",
    "    plt.xlabel(ox_label, fontsize=16)\n",
    "    plt.ylabel('Вероятность', fontsize=16)\n",
    "    plt.title(title, fontsize=20)\n",
    "    #rcParams['axes.titlepad'] = 0"
   ]
  },
  {
   "cell_type": "markdown",
   "metadata": {},
   "source": [
    "### 0.2  alt_value_counts"
   ]
  },
  {
   "cell_type": "code",
   "execution_count": 128,
   "metadata": {},
   "outputs": [],
   "source": [
    "def alt_value_counts(df:pd.DataFrame, col:str, title:str):\n",
    "    \"\"\"\n",
    "    Функция для отображения уникальных значений столбца и общего количества значений по каждому уникальному значению\n",
    "    df - DataFrame. Данные для анализа\n",
    "    col - наименование колонки, информацию о которой необходимо отобразить.\n",
    "    title - Заголовок графика\n",
    "    \"\"\"\n",
    "    series_info = df.groupby(col)[col].count()\n",
    "    data_info = pd.DataFrame({col:series_info.index, 'Количество':series_info.values})\n",
    "    \n",
    "    bars = alt.Chart(data_info, title = title).mark_bar().encode(\n",
    "        x='Количество:Q',\n",
    "        y=col + \":O\"\n",
    "    )\n",
    "\n",
    "    text = bars.mark_text(\n",
    "        align='left',\n",
    "        baseline='middle',\n",
    "        dx=3  # Nudges text to right so it doesn't appear on top of the bar\n",
    "    ).encode(\n",
    "        text='Количество:Q'\n",
    "    )\n",
    "\n",
    "    return (bars + text).properties(height = len(series_info) * 20)"
   ]
  },
  {
   "cell_type": "markdown",
   "metadata": {},
   "source": [
    "### 0.3 side_by_side_hist"
   ]
  },
  {
   "cell_type": "code",
   "execution_count": 129,
   "metadata": {},
   "outputs": [],
   "source": [
    "def side_by_side_hist(series_1:pd.Series, series_2:pd.Series, title:str, ox_label:str, legend:list, figsize:tuple=(11,6), bins = 20):\n",
    "    \"\"\"\n",
    "    Функция выводящая сравнение распределений двух наборов данных\n",
    "    series_1: первый набор данных, который участвует в сравнении\n",
    "    series_2: второй набор данных, который участвует в сравнении\n",
    "    title: заголовок\n",
    "    ox_label: подпись оси Ox\n",
    "    legend: легенда\n",
    "    \"\"\"\n",
    "    plt.figure(figsize=figsize)\n",
    "    sns.histplot(series_1, color = '#f8d568', kde=True, stat = 'probability', bins=bins)\n",
    "    sns.histplot(series_2, color = '#18a7b5', kde=True, stat = 'probability', bins=bins)\n",
    "    \n",
    "    plt.axvline(series_1.median(), color = '#f8d568')\n",
    "    plt.axvline(series_2.median(), color = '#18a7b5')\n",
    "    \n",
    "    plt.ylabel('Плотность', fontsize=14)\n",
    "    plt.xlabel(ox_label, fontsize=16)\n",
    "    plt.legend(legend, fontsize=18)\n",
    "    plt.title(title, fontsize=20)"
   ]
  },
  {
   "cell_type": "markdown",
   "metadata": {},
   "source": [
    "<a name=\"paragraph1\"></a>\n",
    "## 1. Изучение данных"
   ]
  },
  {
   "cell_type": "markdown",
   "metadata": {},
   "source": [
    "Откроем файлы с данными\n",
    "\n",
    "    Таблица data_calls (информация о звонках)\n",
    "    Таблица data_users (информация о пользователях)\n",
    "    Таблица data_messages (информация о сообщениях)\n",
    "    Таблица data_internet (информация об интернет-сессиях)\n",
    "    Таблица data_tariffs (информация о тарифах)"
   ]
  },
  {
   "cell_type": "code",
   "execution_count": 130,
   "metadata": {},
   "outputs": [],
   "source": [
    "data_calls = pd.read_csv('datasets/calls.csv')\n",
    "data_users = pd.read_csv('datasets/users.csv')\n",
    "data_messages = pd.read_csv('datasets/messages.csv')\n",
    "data_internet = pd.read_csv('datasets/internet.csv')\n",
    "data_tariffs = pd.read_csv('datasets/tariffs.csv')"
   ]
  },
  {
   "cell_type": "markdown",
   "metadata": {},
   "source": [
    "Начнем изучать данные с информации о звонках"
   ]
  },
  {
   "cell_type": "code",
   "execution_count": 131,
   "metadata": {},
   "outputs": [
    {
     "name": "stdout",
     "output_type": "stream",
     "text": [
      "<class 'pandas.core.frame.DataFrame'>\n",
      "RangeIndex: 202607 entries, 0 to 202606\n",
      "Data columns (total 4 columns):\n",
      " #   Column     Non-Null Count   Dtype  \n",
      "---  ------     --------------   -----  \n",
      " 0   id         202607 non-null  object \n",
      " 1   call_date  202607 non-null  object \n",
      " 2   duration   202607 non-null  float64\n",
      " 3   user_id    202607 non-null  int64  \n",
      "dtypes: float64(1), int64(1), object(2)\n",
      "memory usage: 6.2+ MB\n"
     ]
    }
   ],
   "source": [
    "data_calls.info()"
   ]
  },
  {
   "cell_type": "code",
   "execution_count": 132,
   "metadata": {},
   "outputs": [
    {
     "data": {
      "text/html": [
       "<div>\n",
       "<style scoped>\n",
       "    .dataframe tbody tr th:only-of-type {\n",
       "        vertical-align: middle;\n",
       "    }\n",
       "\n",
       "    .dataframe tbody tr th {\n",
       "        vertical-align: top;\n",
       "    }\n",
       "\n",
       "    .dataframe thead th {\n",
       "        text-align: right;\n",
       "    }\n",
       "</style>\n",
       "<table border=\"1\" class=\"dataframe\">\n",
       "  <thead>\n",
       "    <tr style=\"text-align: right;\">\n",
       "      <th></th>\n",
       "      <th>id</th>\n",
       "      <th>call_date</th>\n",
       "      <th>duration</th>\n",
       "      <th>user_id</th>\n",
       "    </tr>\n",
       "  </thead>\n",
       "  <tbody>\n",
       "    <tr>\n",
       "      <th>0</th>\n",
       "      <td>1000_0</td>\n",
       "      <td>2018-07-25</td>\n",
       "      <td>0.00</td>\n",
       "      <td>1000</td>\n",
       "    </tr>\n",
       "    <tr>\n",
       "      <th>1</th>\n",
       "      <td>1000_1</td>\n",
       "      <td>2018-08-17</td>\n",
       "      <td>0.00</td>\n",
       "      <td>1000</td>\n",
       "    </tr>\n",
       "    <tr>\n",
       "      <th>2</th>\n",
       "      <td>1000_2</td>\n",
       "      <td>2018-06-11</td>\n",
       "      <td>2.85</td>\n",
       "      <td>1000</td>\n",
       "    </tr>\n",
       "    <tr>\n",
       "      <th>3</th>\n",
       "      <td>1000_3</td>\n",
       "      <td>2018-09-21</td>\n",
       "      <td>13.80</td>\n",
       "      <td>1000</td>\n",
       "    </tr>\n",
       "    <tr>\n",
       "      <th>4</th>\n",
       "      <td>1000_4</td>\n",
       "      <td>2018-12-15</td>\n",
       "      <td>5.18</td>\n",
       "      <td>1000</td>\n",
       "    </tr>\n",
       "  </tbody>\n",
       "</table>\n",
       "</div>"
      ],
      "text/plain": [
       "       id   call_date  duration  user_id\n",
       "0  1000_0  2018-07-25      0.00     1000\n",
       "1  1000_1  2018-08-17      0.00     1000\n",
       "2  1000_2  2018-06-11      2.85     1000\n",
       "3  1000_3  2018-09-21     13.80     1000\n",
       "4  1000_4  2018-12-15      5.18     1000"
      ]
     },
     "execution_count": 132,
     "metadata": {},
     "output_type": "execute_result"
    }
   ],
   "source": [
    "data_calls.head()"
   ]
  },
  {
   "cell_type": "markdown",
   "metadata": {},
   "source": [
    "Замечаем, несоответствие типов данных. Колонка call_date должна иметь тип datetime.\n",
    "Пропущенных значений нет. Всё отлично.\n",
    "\n",
    "\n",
    "Продолжаем изучать данные. На очереди data_users.\n"
   ]
  },
  {
   "cell_type": "code",
   "execution_count": 133,
   "metadata": {},
   "outputs": [
    {
     "name": "stdout",
     "output_type": "stream",
     "text": [
      "<class 'pandas.core.frame.DataFrame'>\n",
      "RangeIndex: 500 entries, 0 to 499\n",
      "Data columns (total 8 columns):\n",
      " #   Column      Non-Null Count  Dtype \n",
      "---  ------      --------------  ----- \n",
      " 0   user_id     500 non-null    int64 \n",
      " 1   age         500 non-null    int64 \n",
      " 2   churn_date  38 non-null     object\n",
      " 3   city        500 non-null    object\n",
      " 4   first_name  500 non-null    object\n",
      " 5   last_name   500 non-null    object\n",
      " 6   reg_date    500 non-null    object\n",
      " 7   tariff      500 non-null    object\n",
      "dtypes: int64(2), object(6)\n",
      "memory usage: 31.4+ KB\n"
     ]
    }
   ],
   "source": [
    "data_users.info()"
   ]
  },
  {
   "cell_type": "code",
   "execution_count": 134,
   "metadata": {},
   "outputs": [
    {
     "data": {
      "text/html": [
       "<div>\n",
       "<style scoped>\n",
       "    .dataframe tbody tr th:only-of-type {\n",
       "        vertical-align: middle;\n",
       "    }\n",
       "\n",
       "    .dataframe tbody tr th {\n",
       "        vertical-align: top;\n",
       "    }\n",
       "\n",
       "    .dataframe thead th {\n",
       "        text-align: right;\n",
       "    }\n",
       "</style>\n",
       "<table border=\"1\" class=\"dataframe\">\n",
       "  <thead>\n",
       "    <tr style=\"text-align: right;\">\n",
       "      <th></th>\n",
       "      <th>user_id</th>\n",
       "      <th>age</th>\n",
       "      <th>churn_date</th>\n",
       "      <th>city</th>\n",
       "      <th>first_name</th>\n",
       "      <th>last_name</th>\n",
       "      <th>reg_date</th>\n",
       "      <th>tariff</th>\n",
       "    </tr>\n",
       "  </thead>\n",
       "  <tbody>\n",
       "    <tr>\n",
       "      <th>0</th>\n",
       "      <td>1000</td>\n",
       "      <td>52</td>\n",
       "      <td>NaN</td>\n",
       "      <td>Краснодар</td>\n",
       "      <td>Рафаил</td>\n",
       "      <td>Верещагин</td>\n",
       "      <td>2018-05-25</td>\n",
       "      <td>ultra</td>\n",
       "    </tr>\n",
       "    <tr>\n",
       "      <th>1</th>\n",
       "      <td>1001</td>\n",
       "      <td>41</td>\n",
       "      <td>NaN</td>\n",
       "      <td>Москва</td>\n",
       "      <td>Иван</td>\n",
       "      <td>Ежов</td>\n",
       "      <td>2018-11-01</td>\n",
       "      <td>smart</td>\n",
       "    </tr>\n",
       "    <tr>\n",
       "      <th>2</th>\n",
       "      <td>1002</td>\n",
       "      <td>59</td>\n",
       "      <td>NaN</td>\n",
       "      <td>Стерлитамак</td>\n",
       "      <td>Евгений</td>\n",
       "      <td>Абрамович</td>\n",
       "      <td>2018-06-17</td>\n",
       "      <td>smart</td>\n",
       "    </tr>\n",
       "    <tr>\n",
       "      <th>3</th>\n",
       "      <td>1003</td>\n",
       "      <td>23</td>\n",
       "      <td>NaN</td>\n",
       "      <td>Москва</td>\n",
       "      <td>Белла</td>\n",
       "      <td>Белякова</td>\n",
       "      <td>2018-08-17</td>\n",
       "      <td>ultra</td>\n",
       "    </tr>\n",
       "    <tr>\n",
       "      <th>4</th>\n",
       "      <td>1004</td>\n",
       "      <td>68</td>\n",
       "      <td>NaN</td>\n",
       "      <td>Новокузнецк</td>\n",
       "      <td>Татьяна</td>\n",
       "      <td>Авдеенко</td>\n",
       "      <td>2018-05-14</td>\n",
       "      <td>ultra</td>\n",
       "    </tr>\n",
       "  </tbody>\n",
       "</table>\n",
       "</div>"
      ],
      "text/plain": [
       "   user_id  age churn_date         city first_name  last_name    reg_date  \\\n",
       "0     1000   52        NaN    Краснодар     Рафаил  Верещагин  2018-05-25   \n",
       "1     1001   41        NaN       Москва       Иван       Ежов  2018-11-01   \n",
       "2     1002   59        NaN  Стерлитамак    Евгений  Абрамович  2018-06-17   \n",
       "3     1003   23        NaN       Москва      Белла   Белякова  2018-08-17   \n",
       "4     1004   68        NaN  Новокузнецк    Татьяна   Авдеенко  2018-05-14   \n",
       "\n",
       "  tariff  \n",
       "0  ultra  \n",
       "1  smart  \n",
       "2  smart  \n",
       "3  ultra  \n",
       "4  ultra  "
      ]
     },
     "execution_count": 134,
     "metadata": {},
     "output_type": "execute_result"
    }
   ],
   "source": [
    "data_users.head()"
   ]
  },
  {
   "cell_type": "markdown",
   "metadata": {},
   "source": [
    "\n",
    "В колонке churn_date много пропущенных значений, но это логично исходя из условий задачи. Подбирать замену для пропущенных значений не будем.\n",
    "Снова видим проблемы с типами данных. Нужно привести: \n",
    "\n",
    "    churn_date к типу datetime\n",
    "    reg_date к типу datetime\n",
    "    \n",
    "Продолжаем изучать данные. Переходим к таблице data_messages.\n"
   ]
  },
  {
   "cell_type": "code",
   "execution_count": 135,
   "metadata": {},
   "outputs": [
    {
     "name": "stdout",
     "output_type": "stream",
     "text": [
      "<class 'pandas.core.frame.DataFrame'>\n",
      "RangeIndex: 123036 entries, 0 to 123035\n",
      "Data columns (total 3 columns):\n",
      " #   Column        Non-Null Count   Dtype \n",
      "---  ------        --------------   ----- \n",
      " 0   id            123036 non-null  object\n",
      " 1   message_date  123036 non-null  object\n",
      " 2   user_id       123036 non-null  int64 \n",
      "dtypes: int64(1), object(2)\n",
      "memory usage: 2.8+ MB\n"
     ]
    }
   ],
   "source": [
    "data_messages.info()"
   ]
  },
  {
   "cell_type": "code",
   "execution_count": 136,
   "metadata": {},
   "outputs": [
    {
     "data": {
      "text/html": [
       "<div>\n",
       "<style scoped>\n",
       "    .dataframe tbody tr th:only-of-type {\n",
       "        vertical-align: middle;\n",
       "    }\n",
       "\n",
       "    .dataframe tbody tr th {\n",
       "        vertical-align: top;\n",
       "    }\n",
       "\n",
       "    .dataframe thead th {\n",
       "        text-align: right;\n",
       "    }\n",
       "</style>\n",
       "<table border=\"1\" class=\"dataframe\">\n",
       "  <thead>\n",
       "    <tr style=\"text-align: right;\">\n",
       "      <th></th>\n",
       "      <th>id</th>\n",
       "      <th>message_date</th>\n",
       "      <th>user_id</th>\n",
       "    </tr>\n",
       "  </thead>\n",
       "  <tbody>\n",
       "    <tr>\n",
       "      <th>0</th>\n",
       "      <td>1000_0</td>\n",
       "      <td>2018-06-27</td>\n",
       "      <td>1000</td>\n",
       "    </tr>\n",
       "    <tr>\n",
       "      <th>1</th>\n",
       "      <td>1000_1</td>\n",
       "      <td>2018-10-08</td>\n",
       "      <td>1000</td>\n",
       "    </tr>\n",
       "    <tr>\n",
       "      <th>2</th>\n",
       "      <td>1000_2</td>\n",
       "      <td>2018-08-04</td>\n",
       "      <td>1000</td>\n",
       "    </tr>\n",
       "    <tr>\n",
       "      <th>3</th>\n",
       "      <td>1000_3</td>\n",
       "      <td>2018-06-16</td>\n",
       "      <td>1000</td>\n",
       "    </tr>\n",
       "    <tr>\n",
       "      <th>4</th>\n",
       "      <td>1000_4</td>\n",
       "      <td>2018-12-05</td>\n",
       "      <td>1000</td>\n",
       "    </tr>\n",
       "  </tbody>\n",
       "</table>\n",
       "</div>"
      ],
      "text/plain": [
       "       id message_date  user_id\n",
       "0  1000_0   2018-06-27     1000\n",
       "1  1000_1   2018-10-08     1000\n",
       "2  1000_2   2018-08-04     1000\n",
       "3  1000_3   2018-06-16     1000\n",
       "4  1000_4   2018-12-05     1000"
      ]
     },
     "execution_count": 136,
     "metadata": {},
     "output_type": "execute_result"
    }
   ],
   "source": [
    "data_messages.head()"
   ]
  },
  {
   "cell_type": "markdown",
   "metadata": {},
   "source": [
    "message_date придется привести к типу datetime.\n",
    "\n",
    "Рассмотрим таблицу data_internet"
   ]
  },
  {
   "cell_type": "code",
   "execution_count": 137,
   "metadata": {},
   "outputs": [
    {
     "name": "stdout",
     "output_type": "stream",
     "text": [
      "<class 'pandas.core.frame.DataFrame'>\n",
      "RangeIndex: 149396 entries, 0 to 149395\n",
      "Data columns (total 5 columns):\n",
      " #   Column        Non-Null Count   Dtype  \n",
      "---  ------        --------------   -----  \n",
      " 0   Unnamed: 0    149396 non-null  int64  \n",
      " 1   id            149396 non-null  object \n",
      " 2   mb_used       149396 non-null  float64\n",
      " 3   session_date  149396 non-null  object \n",
      " 4   user_id       149396 non-null  int64  \n",
      "dtypes: float64(1), int64(2), object(2)\n",
      "memory usage: 5.7+ MB\n"
     ]
    }
   ],
   "source": [
    "data_internet.info()"
   ]
  },
  {
   "cell_type": "code",
   "execution_count": 138,
   "metadata": {},
   "outputs": [
    {
     "data": {
      "text/html": [
       "<div>\n",
       "<style scoped>\n",
       "    .dataframe tbody tr th:only-of-type {\n",
       "        vertical-align: middle;\n",
       "    }\n",
       "\n",
       "    .dataframe tbody tr th {\n",
       "        vertical-align: top;\n",
       "    }\n",
       "\n",
       "    .dataframe thead th {\n",
       "        text-align: right;\n",
       "    }\n",
       "</style>\n",
       "<table border=\"1\" class=\"dataframe\">\n",
       "  <thead>\n",
       "    <tr style=\"text-align: right;\">\n",
       "      <th></th>\n",
       "      <th>Unnamed: 0</th>\n",
       "      <th>id</th>\n",
       "      <th>mb_used</th>\n",
       "      <th>session_date</th>\n",
       "      <th>user_id</th>\n",
       "    </tr>\n",
       "  </thead>\n",
       "  <tbody>\n",
       "    <tr>\n",
       "      <th>0</th>\n",
       "      <td>0</td>\n",
       "      <td>1000_0</td>\n",
       "      <td>112.95</td>\n",
       "      <td>2018-11-25</td>\n",
       "      <td>1000</td>\n",
       "    </tr>\n",
       "    <tr>\n",
       "      <th>1</th>\n",
       "      <td>1</td>\n",
       "      <td>1000_1</td>\n",
       "      <td>1052.81</td>\n",
       "      <td>2018-09-07</td>\n",
       "      <td>1000</td>\n",
       "    </tr>\n",
       "    <tr>\n",
       "      <th>2</th>\n",
       "      <td>2</td>\n",
       "      <td>1000_2</td>\n",
       "      <td>1197.26</td>\n",
       "      <td>2018-06-25</td>\n",
       "      <td>1000</td>\n",
       "    </tr>\n",
       "    <tr>\n",
       "      <th>3</th>\n",
       "      <td>3</td>\n",
       "      <td>1000_3</td>\n",
       "      <td>550.27</td>\n",
       "      <td>2018-08-22</td>\n",
       "      <td>1000</td>\n",
       "    </tr>\n",
       "    <tr>\n",
       "      <th>4</th>\n",
       "      <td>4</td>\n",
       "      <td>1000_4</td>\n",
       "      <td>302.56</td>\n",
       "      <td>2018-09-24</td>\n",
       "      <td>1000</td>\n",
       "    </tr>\n",
       "    <tr>\n",
       "      <th>5</th>\n",
       "      <td>5</td>\n",
       "      <td>1000_5</td>\n",
       "      <td>399.97</td>\n",
       "      <td>2018-10-02</td>\n",
       "      <td>1000</td>\n",
       "    </tr>\n",
       "    <tr>\n",
       "      <th>6</th>\n",
       "      <td>6</td>\n",
       "      <td>1000_6</td>\n",
       "      <td>540.08</td>\n",
       "      <td>2018-09-07</td>\n",
       "      <td>1000</td>\n",
       "    </tr>\n",
       "    <tr>\n",
       "      <th>7</th>\n",
       "      <td>7</td>\n",
       "      <td>1000_7</td>\n",
       "      <td>415.70</td>\n",
       "      <td>2018-07-11</td>\n",
       "      <td>1000</td>\n",
       "    </tr>\n",
       "    <tr>\n",
       "      <th>8</th>\n",
       "      <td>8</td>\n",
       "      <td>1000_8</td>\n",
       "      <td>505.40</td>\n",
       "      <td>2018-10-08</td>\n",
       "      <td>1000</td>\n",
       "    </tr>\n",
       "    <tr>\n",
       "      <th>9</th>\n",
       "      <td>9</td>\n",
       "      <td>1000_9</td>\n",
       "      <td>345.54</td>\n",
       "      <td>2018-09-03</td>\n",
       "      <td>1000</td>\n",
       "    </tr>\n",
       "  </tbody>\n",
       "</table>\n",
       "</div>"
      ],
      "text/plain": [
       "   Unnamed: 0      id  mb_used session_date  user_id\n",
       "0           0  1000_0   112.95   2018-11-25     1000\n",
       "1           1  1000_1  1052.81   2018-09-07     1000\n",
       "2           2  1000_2  1197.26   2018-06-25     1000\n",
       "3           3  1000_3   550.27   2018-08-22     1000\n",
       "4           4  1000_4   302.56   2018-09-24     1000\n",
       "5           5  1000_5   399.97   2018-10-02     1000\n",
       "6           6  1000_6   540.08   2018-09-07     1000\n",
       "7           7  1000_7   415.70   2018-07-11     1000\n",
       "8           8  1000_8   505.40   2018-10-08     1000\n",
       "9           9  1000_9   345.54   2018-09-03     1000"
      ]
     },
     "execution_count": 138,
     "metadata": {},
     "output_type": "execute_result"
    }
   ],
   "source": [
    "data_internet.head(10)"
   ]
  },
  {
   "cell_type": "markdown",
   "metadata": {},
   "source": [
    "\n",
    "session_date необходимо привести к типу datetime. \n",
    "\n",
    "И неизвестная колонка \"Unnamed: 0\", которая в условиях к задаче не указана. Скорее всего это продублированный индекс. Видимо, придется эту колонку удалить.\n",
    "\n",
    "Таблица data_tariffs:"
   ]
  },
  {
   "cell_type": "code",
   "execution_count": 139,
   "metadata": {},
   "outputs": [
    {
     "name": "stdout",
     "output_type": "stream",
     "text": [
      "<class 'pandas.core.frame.DataFrame'>\n",
      "RangeIndex: 2 entries, 0 to 1\n",
      "Data columns (total 8 columns):\n",
      " #   Column                 Non-Null Count  Dtype \n",
      "---  ------                 --------------  ----- \n",
      " 0   messages_included      2 non-null      int64 \n",
      " 1   mb_per_month_included  2 non-null      int64 \n",
      " 2   minutes_included       2 non-null      int64 \n",
      " 3   rub_monthly_fee        2 non-null      int64 \n",
      " 4   rub_per_gb             2 non-null      int64 \n",
      " 5   rub_per_message        2 non-null      int64 \n",
      " 6   rub_per_minute         2 non-null      int64 \n",
      " 7   tariff_name            2 non-null      object\n",
      "dtypes: int64(7), object(1)\n",
      "memory usage: 256.0+ bytes\n"
     ]
    }
   ],
   "source": [
    "data_tariffs.info()"
   ]
  },
  {
   "cell_type": "code",
   "execution_count": 140,
   "metadata": {},
   "outputs": [
    {
     "data": {
      "text/html": [
       "<div>\n",
       "<style scoped>\n",
       "    .dataframe tbody tr th:only-of-type {\n",
       "        vertical-align: middle;\n",
       "    }\n",
       "\n",
       "    .dataframe tbody tr th {\n",
       "        vertical-align: top;\n",
       "    }\n",
       "\n",
       "    .dataframe thead th {\n",
       "        text-align: right;\n",
       "    }\n",
       "</style>\n",
       "<table border=\"1\" class=\"dataframe\">\n",
       "  <thead>\n",
       "    <tr style=\"text-align: right;\">\n",
       "      <th></th>\n",
       "      <th>messages_included</th>\n",
       "      <th>mb_per_month_included</th>\n",
       "      <th>minutes_included</th>\n",
       "      <th>rub_monthly_fee</th>\n",
       "      <th>rub_per_gb</th>\n",
       "      <th>rub_per_message</th>\n",
       "      <th>rub_per_minute</th>\n",
       "      <th>tariff_name</th>\n",
       "    </tr>\n",
       "  </thead>\n",
       "  <tbody>\n",
       "    <tr>\n",
       "      <th>0</th>\n",
       "      <td>50</td>\n",
       "      <td>15360</td>\n",
       "      <td>500</td>\n",
       "      <td>550</td>\n",
       "      <td>200</td>\n",
       "      <td>3</td>\n",
       "      <td>3</td>\n",
       "      <td>smart</td>\n",
       "    </tr>\n",
       "    <tr>\n",
       "      <th>1</th>\n",
       "      <td>1000</td>\n",
       "      <td>30720</td>\n",
       "      <td>3000</td>\n",
       "      <td>1950</td>\n",
       "      <td>150</td>\n",
       "      <td>1</td>\n",
       "      <td>1</td>\n",
       "      <td>ultra</td>\n",
       "    </tr>\n",
       "  </tbody>\n",
       "</table>\n",
       "</div>"
      ],
      "text/plain": [
       "   messages_included  mb_per_month_included  minutes_included  \\\n",
       "0                 50                  15360               500   \n",
       "1               1000                  30720              3000   \n",
       "\n",
       "   rub_monthly_fee  rub_per_gb  rub_per_message  rub_per_minute tariff_name  \n",
       "0              550         200                3               3       smart  \n",
       "1             1950         150                1               1       ultra  "
      ]
     },
     "execution_count": 140,
     "metadata": {},
     "output_type": "execute_result"
    }
   ],
   "source": [
    "data_tariffs.head()"
   ]
  },
  {
   "cell_type": "markdown",
   "metadata": {},
   "source": [
    "Всё отлично, кроме.. В таблице data_users колонка тариф именована как 'tariff'. Здесь же - 'tariff_name'. Приведем её к единому наименованию - 'tariff'."
   ]
  },
  {
   "cell_type": "code",
   "execution_count": 141,
   "metadata": {},
   "outputs": [],
   "source": [
    "data_tariffs.columns = ['messages_included', 'mb_per_month_included', 'minutes_included',\n",
    "       'rub_monthly_fee', 'rub_per_gb', 'rub_per_message', 'rub_per_minute',\n",
    "       'tariff']"
   ]
  },
  {
   "cell_type": "code",
   "execution_count": 142,
   "metadata": {},
   "outputs": [
    {
     "data": {
      "text/html": [
       "<div>\n",
       "<style scoped>\n",
       "    .dataframe tbody tr th:only-of-type {\n",
       "        vertical-align: middle;\n",
       "    }\n",
       "\n",
       "    .dataframe tbody tr th {\n",
       "        vertical-align: top;\n",
       "    }\n",
       "\n",
       "    .dataframe thead th {\n",
       "        text-align: right;\n",
       "    }\n",
       "</style>\n",
       "<table border=\"1\" class=\"dataframe\">\n",
       "  <thead>\n",
       "    <tr style=\"text-align: right;\">\n",
       "      <th></th>\n",
       "      <th>messages_included</th>\n",
       "      <th>mb_per_month_included</th>\n",
       "      <th>minutes_included</th>\n",
       "      <th>rub_monthly_fee</th>\n",
       "      <th>rub_per_gb</th>\n",
       "      <th>rub_per_message</th>\n",
       "      <th>rub_per_minute</th>\n",
       "      <th>tariff</th>\n",
       "    </tr>\n",
       "  </thead>\n",
       "  <tbody>\n",
       "    <tr>\n",
       "      <th>0</th>\n",
       "      <td>50</td>\n",
       "      <td>15360</td>\n",
       "      <td>500</td>\n",
       "      <td>550</td>\n",
       "      <td>200</td>\n",
       "      <td>3</td>\n",
       "      <td>3</td>\n",
       "      <td>smart</td>\n",
       "    </tr>\n",
       "    <tr>\n",
       "      <th>1</th>\n",
       "      <td>1000</td>\n",
       "      <td>30720</td>\n",
       "      <td>3000</td>\n",
       "      <td>1950</td>\n",
       "      <td>150</td>\n",
       "      <td>1</td>\n",
       "      <td>1</td>\n",
       "      <td>ultra</td>\n",
       "    </tr>\n",
       "  </tbody>\n",
       "</table>\n",
       "</div>"
      ],
      "text/plain": [
       "   messages_included  mb_per_month_included  minutes_included  \\\n",
       "0                 50                  15360               500   \n",
       "1               1000                  30720              3000   \n",
       "\n",
       "   rub_monthly_fee  rub_per_gb  rub_per_message  rub_per_minute tariff  \n",
       "0              550         200                3               3  smart  \n",
       "1             1950         150                1               1  ultra  "
      ]
     },
     "execution_count": 142,
     "metadata": {},
     "output_type": "execute_result"
    }
   ],
   "source": [
    "data_tariffs.head()"
   ]
  },
  {
   "cell_type": "markdown",
   "metadata": {},
   "source": [
    "### Вывод\n",
    "\n",
    "На этом этапе мы провели первичный анализ данных.\n",
    "Выявили следующие проблемы:\n",
    "\n",
    "    Несоответсвие типов данных. Следующие колонки необходимо привести к типу Datetime.\n",
    "        call_date - data_calls - datetime\n",
    "        churn_date - data_users - datetime\n",
    "        reg_date - data_users - datetime\n",
    "        message_date - data_messages - datetime\n",
    "        session_date - data_internet - datetime\n",
    "    \n",
    "    Лишняя колонка \"Unnamed: 0\" в датасете data_internet. \n",
    "    Несоответсвие наименований колонок тариф в таблицах data_users и data_tariffs (устранено).\n",
    "    \n",
    "    По некоторым колонкам обкаружили отсутствие данных, но оно - не оказалось критичным.\n",
    "    "
   ]
  },
  {
   "cell_type": "markdown",
   "metadata": {},
   "source": [
    "<a name=\"paragraph2\"></a>\n",
    "## 2. Подготовка данных"
   ]
  },
  {
   "cell_type": "markdown",
   "metadata": {},
   "source": [
    "\n",
    "На предыдущем этапе мы выяснили, что следующие колонки в соответствующих таблицах необходимо привести к соответствующему типу данных:\n",
    "\n",
    "    call_date - data_calls - datetime\n",
    "    churn_date - data_users - datetime\n",
    "    reg_date - data_users - datetime\n",
    "    message_date - data_messages - datetime\n",
    "    session_date - data_internet - datetime\n",
    "    \n",
    "Приступим:\n",
    "Действуем по схеме - изменяем и проверяем."
   ]
  },
  {
   "cell_type": "code",
   "execution_count": 143,
   "metadata": {},
   "outputs": [
    {
     "name": "stdout",
     "output_type": "stream",
     "text": [
      "<class 'pandas.core.frame.DataFrame'>\n",
      "RangeIndex: 202607 entries, 0 to 202606\n",
      "Data columns (total 4 columns):\n",
      " #   Column     Non-Null Count   Dtype         \n",
      "---  ------     --------------   -----         \n",
      " 0   id         202607 non-null  object        \n",
      " 1   call_date  202607 non-null  datetime64[ns]\n",
      " 2   duration   202607 non-null  float64       \n",
      " 3   user_id    202607 non-null  int64         \n",
      "dtypes: datetime64[ns](1), float64(1), int64(1), object(1)\n",
      "memory usage: 6.2+ MB\n"
     ]
    }
   ],
   "source": [
    "data_calls['call_date'] = pd.to_datetime(data_calls['call_date'], format='%Y-%m-%d')\n",
    "data_calls.info()"
   ]
  },
  {
   "cell_type": "code",
   "execution_count": 144,
   "metadata": {},
   "outputs": [
    {
     "name": "stdout",
     "output_type": "stream",
     "text": [
      "<class 'pandas.core.frame.DataFrame'>\n",
      "RangeIndex: 500 entries, 0 to 499\n",
      "Data columns (total 8 columns):\n",
      " #   Column      Non-Null Count  Dtype         \n",
      "---  ------      --------------  -----         \n",
      " 0   user_id     500 non-null    int64         \n",
      " 1   age         500 non-null    int64         \n",
      " 2   churn_date  38 non-null     datetime64[ns]\n",
      " 3   city        500 non-null    object        \n",
      " 4   first_name  500 non-null    object        \n",
      " 5   last_name   500 non-null    object        \n",
      " 6   reg_date    500 non-null    datetime64[ns]\n",
      " 7   tariff      500 non-null    object        \n",
      "dtypes: datetime64[ns](2), int64(2), object(4)\n",
      "memory usage: 31.4+ KB\n"
     ]
    }
   ],
   "source": [
    "data_users['churn_date'] = pd.to_datetime(data_users['churn_date'], format='%Y-%m-%d')\n",
    "data_users['reg_date'] = pd.to_datetime(data_users['reg_date'], format='%Y-%m-%d')\n",
    "data_users.info()"
   ]
  },
  {
   "cell_type": "code",
   "execution_count": 145,
   "metadata": {},
   "outputs": [
    {
     "name": "stdout",
     "output_type": "stream",
     "text": [
      "<class 'pandas.core.frame.DataFrame'>\n",
      "RangeIndex: 123036 entries, 0 to 123035\n",
      "Data columns (total 3 columns):\n",
      " #   Column        Non-Null Count   Dtype         \n",
      "---  ------        --------------   -----         \n",
      " 0   id            123036 non-null  object        \n",
      " 1   message_date  123036 non-null  datetime64[ns]\n",
      " 2   user_id       123036 non-null  int64         \n",
      "dtypes: datetime64[ns](1), int64(1), object(1)\n",
      "memory usage: 2.8+ MB\n"
     ]
    }
   ],
   "source": [
    "data_messages['message_date'] = pd.to_datetime(data_messages['message_date'], format='%Y-%m-%d')\n",
    "data_messages.info()"
   ]
  },
  {
   "cell_type": "code",
   "execution_count": 146,
   "metadata": {},
   "outputs": [
    {
     "name": "stdout",
     "output_type": "stream",
     "text": [
      "<class 'pandas.core.frame.DataFrame'>\n",
      "RangeIndex: 149396 entries, 0 to 149395\n",
      "Data columns (total 5 columns):\n",
      " #   Column        Non-Null Count   Dtype         \n",
      "---  ------        --------------   -----         \n",
      " 0   Unnamed: 0    149396 non-null  int64         \n",
      " 1   id            149396 non-null  object        \n",
      " 2   mb_used       149396 non-null  float64       \n",
      " 3   session_date  149396 non-null  datetime64[ns]\n",
      " 4   user_id       149396 non-null  int64         \n",
      "dtypes: datetime64[ns](1), float64(1), int64(2), object(1)\n",
      "memory usage: 5.7+ MB\n"
     ]
    }
   ],
   "source": [
    "data_internet['session_date'] = pd.to_datetime(data_internet['session_date'], format='%Y-%m-%d')\n",
    "data_internet.info()"
   ]
  },
  {
   "cell_type": "markdown",
   "metadata": {},
   "source": [
    "Продолжим без колонки 'Unnamed: 0'. \n",
    "\n",
    "Сразу же и проверим."
   ]
  },
  {
   "cell_type": "code",
   "execution_count": 147,
   "metadata": {},
   "outputs": [
    {
     "name": "stdout",
     "output_type": "stream",
     "text": [
      "<class 'pandas.core.frame.DataFrame'>\n",
      "RangeIndex: 149396 entries, 0 to 149395\n",
      "Data columns (total 4 columns):\n",
      " #   Column        Non-Null Count   Dtype         \n",
      "---  ------        --------------   -----         \n",
      " 0   id            149396 non-null  object        \n",
      " 1   mb_used       149396 non-null  float64       \n",
      " 2   session_date  149396 non-null  datetime64[ns]\n",
      " 3   user_id       149396 non-null  int64         \n",
      "dtypes: datetime64[ns](1), float64(1), int64(1), object(1)\n",
      "memory usage: 4.6+ MB\n"
     ]
    }
   ],
   "source": [
    "data_internet.drop(['Unnamed: 0'], axis='columns', inplace=True)\n",
    "data_internet.info()"
   ]
  },
  {
   "cell_type": "markdown",
   "metadata": {},
   "source": [
    "Приступим к исследованию данных.\n",
    "Начнем с таблицы data_users."
   ]
  },
  {
   "cell_type": "code",
   "execution_count": 148,
   "metadata": {},
   "outputs": [
    {
     "data": {
      "text/plain": [
       "0"
      ]
     },
     "execution_count": 148,
     "metadata": {},
     "output_type": "execute_result"
    }
   ],
   "source": [
    "data_users.duplicated().sum()"
   ]
  },
  {
   "cell_type": "code",
   "execution_count": 149,
   "metadata": {},
   "outputs": [
    {
     "data": {
      "text/plain": [
       "2018-05-28    8\n",
       "2018-10-05    5\n",
       "2018-01-04    5\n",
       "2018-11-16    5\n",
       "2018-04-03    5\n",
       "             ..\n",
       "2018-10-13    1\n",
       "2018-11-13    1\n",
       "2018-02-24    1\n",
       "2018-10-30    1\n",
       "2018-12-21    1\n",
       "Name: reg_date, Length: 270, dtype: int64"
      ]
     },
     "execution_count": 149,
     "metadata": {},
     "output_type": "execute_result"
    }
   ],
   "source": [
    "data_users['reg_date'].value_counts()"
   ]
  },
  {
   "cell_type": "code",
   "execution_count": 150,
   "metadata": {},
   "outputs": [
    {
     "data": {
      "image/png": "[encoded data removed]",
      "text/plain": [
       "<Figure size 720x360 with 1 Axes>"
      ]
     },
     "metadata": {
      "needs_background": "light"
     },
     "output_type": "display_data"
    }
   ],
   "source": [
    "sns_hist(data_users['age'], 'Возраст', 'Возраст', bins = 20)"
   ]
  },
  {
   "cell_type": "code",
   "execution_count": 151,
   "metadata": {},
   "outputs": [
    {
     "data": {
      "text/html": [
       "\n",
       "<div id=\"altair-viz-0fc7c568fe9d4b6a9e63162f5dc436c3\"></div>\n",
       "<script type=\"text/javascript\">\n",
       "  (function(spec, embedOpt){\n",
       "    let outputDiv = document.currentScript.previousElementSibling;\n",
       "    if (outputDiv.id !== \"altair-viz-0fc7c568fe9d4b6a9e63162f5dc436c3\") {\n",
       "      outputDiv = document.getElementById(\"altair-viz-0fc7c568fe9d4b6a9e63162f5dc436c3\");\n",
       "    }\n",
       "    const paths = {\n",
       "      \"vega\": \"https://cdn.jsdelivr.net/npm//vega@5?noext\",\n",
       "      \"vega-lib\": \"https://cdn.jsdelivr.net/npm//vega-lib?noext\",\n",
       "      \"vega-lite\": \"https://cdn.jsdelivr.net/npm//vega-lite@4.8.1?noext\",\n",
       "      \"vega-embed\": \"https://cdn.jsdelivr.net/npm//vega-embed@6?noext\",\n",
       "    };\n",
       "\n",
       "    function loadScript(lib) {\n",
       "      return new Promise(function(resolve, reject) {\n",
       "        var s = document.createElement('script');\n",
       "        s.src = paths[lib];\n",
       "        s.async = true;\n",
       "        s.onload = () => resolve(paths[lib]);\n",
       "        s.onerror = () => reject(`Error loading script: ${paths[lib]}`);\n",
       "        document.getElementsByTagName(\"head\")[0].appendChild(s);\n",
       "      });\n",
       "    }\n",
       "\n",
       "    function showError(err) {\n",
       "      outputDiv.innerHTML = `<div class=\"error\" style=\"color:red;\">${err}</div>`;\n",
       "      throw err;\n",
       "    }\n",
       "\n",
       "    function displayChart(vegaEmbed) {\n",
       "      vegaEmbed(outputDiv, spec, embedOpt)\n",
       "        .catch(err => showError(`Javascript Error: ${err.message}<br>This usually means there's a typo in your chart specification. See the javascript console for the full traceback.`));\n",
       "    }\n",
       "\n",
       "    if(typeof define === \"function\" && define.amd) {\n",
       "      requirejs.config({paths});\n",
       "      require([\"vega-embed\"], displayChart, err => showError(`Error loading script: ${err.message}`));\n",
       "    } else if (typeof vegaEmbed === \"function\") {\n",
       "      displayChart(vegaEmbed);\n",
       "    } else {\n",
       "      loadScript(\"vega\")\n",
       "        .then(() => loadScript(\"vega-lite\"))\n",
       "        .then(() => loadScript(\"vega-embed\"))\n",
       "        .catch(showError)\n",
       "        .then(() => displayChart(vegaEmbed));\n",
       "    }\n",
       "  })({\"config\": {\"view\": {\"continuousWidth\": 400, \"continuousHeight\": 300}}, \"layer\": [{\"mark\": \"bar\", \"encoding\": {\"x\": {\"type\": \"quantitative\", \"field\": \"\\u041a\\u043e\\u043b\\u0438\\u0447\\u0435\\u0441\\u0442\\u0432\\u043e\"}, \"y\": {\"type\": \"ordinal\", \"field\": \"tariff\"}}, \"title\": \"\\u041a\\u043e\\u043b\\u0438\\u0447\\u0435\\u0441\\u0442\\u0432\\u043e \\u043f\\u043b\\u044c\\u0437\\u043e\\u0432\\u0430\\u0442\\u0435\\u043b\\u0435\\u0439 \\u043f\\u043e \\u0442\\u0430\\u0440\\u0438\\u0444\\u0430\\u043c\"}, {\"mark\": {\"type\": \"text\", \"align\": \"left\", \"baseline\": \"middle\", \"dx\": 3}, \"encoding\": {\"text\": {\"type\": \"quantitative\", \"field\": \"\\u041a\\u043e\\u043b\\u0438\\u0447\\u0435\\u0441\\u0442\\u0432\\u043e\"}, \"x\": {\"type\": \"quantitative\", \"field\": \"\\u041a\\u043e\\u043b\\u0438\\u0447\\u0435\\u0441\\u0442\\u0432\\u043e\"}, \"y\": {\"type\": \"ordinal\", \"field\": \"tariff\"}}, \"title\": \"\\u041a\\u043e\\u043b\\u0438\\u0447\\u0435\\u0441\\u0442\\u0432\\u043e \\u043f\\u043b\\u044c\\u0437\\u043e\\u0432\\u0430\\u0442\\u0435\\u043b\\u0435\\u0439 \\u043f\\u043e \\u0442\\u0430\\u0440\\u0438\\u0444\\u0430\\u043c\"}], \"data\": {\"name\": \"data-f796e5e4dc8f754302a531119e3c43f9\"}, \"height\": 40, \"$schema\": \"https://vega.github.io/schema/vega-lite/v4.8.1.json\", \"datasets\": {\"data-f796e5e4dc8f754302a531119e3c43f9\": [{\"tariff\": \"smart\", \"\\u041a\\u043e\\u043b\\u0438\\u0447\\u0435\\u0441\\u0442\\u0432\\u043e\": 351}, {\"tariff\": \"ultra\", \"\\u041a\\u043e\\u043b\\u0438\\u0447\\u0435\\u0441\\u0442\\u0432\\u043e\": 149}]}}, {\"mode\": \"vega-lite\"});\n",
       "</script>"
      ],
      "text/plain": [
       "alt.LayerChart(...)"
      ]
     },
     "execution_count": 151,
     "metadata": {},
     "output_type": "execute_result"
    }
   ],
   "source": [
    "# data_users['tariff'].value_counts()\n",
    "alt_value_counts(data_users, 'tariff', 'Количество пльзователей по тарифам')"
   ]
  },
  {
   "cell_type": "markdown",
   "metadata": {},
   "source": [
    "Никаких заметных отклонений не обнаружили.\n",
    "\n",
    "Проанализируем данные data_calls"
   ]
  },
  {
   "cell_type": "code",
   "execution_count": 152,
   "metadata": {},
   "outputs": [
    {
     "name": "stdout",
     "output_type": "stream",
     "text": [
      "Количество дубликатов -  0\n"
     ]
    }
   ],
   "source": [
    "print('Количество дубликатов - ',data_calls.duplicated().sum())"
   ]
  },
  {
   "cell_type": "markdown",
   "metadata": {},
   "source": [
    "Дубликатов нет."
   ]
  },
  {
   "cell_type": "code",
   "execution_count": 153,
   "metadata": {},
   "outputs": [
    {
     "data": {
      "text/html": [
       "<div>\n",
       "<style scoped>\n",
       "    .dataframe tbody tr th:only-of-type {\n",
       "        vertical-align: middle;\n",
       "    }\n",
       "\n",
       "    .dataframe tbody tr th {\n",
       "        vertical-align: top;\n",
       "    }\n",
       "\n",
       "    .dataframe thead th {\n",
       "        text-align: right;\n",
       "    }\n",
       "</style>\n",
       "<table border=\"1\" class=\"dataframe\">\n",
       "  <thead>\n",
       "    <tr style=\"text-align: right;\">\n",
       "      <th></th>\n",
       "      <th>id</th>\n",
       "      <th>call_date</th>\n",
       "      <th>duration</th>\n",
       "      <th>user_id</th>\n",
       "    </tr>\n",
       "  </thead>\n",
       "  <tbody>\n",
       "    <tr>\n",
       "      <th>0</th>\n",
       "      <td>1000_0</td>\n",
       "      <td>2018-07-25</td>\n",
       "      <td>0.00</td>\n",
       "      <td>1000</td>\n",
       "    </tr>\n",
       "    <tr>\n",
       "      <th>1</th>\n",
       "      <td>1000_1</td>\n",
       "      <td>2018-08-17</td>\n",
       "      <td>0.00</td>\n",
       "      <td>1000</td>\n",
       "    </tr>\n",
       "    <tr>\n",
       "      <th>2</th>\n",
       "      <td>1000_2</td>\n",
       "      <td>2018-06-11</td>\n",
       "      <td>2.85</td>\n",
       "      <td>1000</td>\n",
       "    </tr>\n",
       "    <tr>\n",
       "      <th>3</th>\n",
       "      <td>1000_3</td>\n",
       "      <td>2018-09-21</td>\n",
       "      <td>13.80</td>\n",
       "      <td>1000</td>\n",
       "    </tr>\n",
       "    <tr>\n",
       "      <th>4</th>\n",
       "      <td>1000_4</td>\n",
       "      <td>2018-12-15</td>\n",
       "      <td>5.18</td>\n",
       "      <td>1000</td>\n",
       "    </tr>\n",
       "  </tbody>\n",
       "</table>\n",
       "</div>"
      ],
      "text/plain": [
       "       id  call_date  duration  user_id\n",
       "0  1000_0 2018-07-25      0.00     1000\n",
       "1  1000_1 2018-08-17      0.00     1000\n",
       "2  1000_2 2018-06-11      2.85     1000\n",
       "3  1000_3 2018-09-21     13.80     1000\n",
       "4  1000_4 2018-12-15      5.18     1000"
      ]
     },
     "execution_count": 153,
     "metadata": {},
     "output_type": "execute_result"
    }
   ],
   "source": [
    "data_calls.head()"
   ]
  },
  {
   "cell_type": "markdown",
   "metadata": {},
   "source": [
    "Проверим все ли действительно даты приходятся на 2018-й год. Найдем минимальную и максимальную дату."
   ]
  },
  {
   "cell_type": "code",
   "execution_count": 154,
   "metadata": {},
   "outputs": [
    {
     "name": "stdout",
     "output_type": "stream",
     "text": [
      "Минимальная дата равна 2018-01-01 00:00:00\n",
      "Максимальная дата равна 2018-12-31 00:00:00\n"
     ]
    }
   ],
   "source": [
    "print('Минимальная дата равна {}'.format(data_calls['call_date'].min()))\n",
    "print('Максимальная дата равна {}'.format(data_calls['call_date'].max()))"
   ]
  },
  {
   "cell_type": "markdown",
   "metadata": {},
   "source": [
    "Вспоминаем, что оператор округляет количество минут вверх. Это значит, что нам необходимо округлить сразу же длительность в вверхнюю сторону. Сохраним это значение в отдельном столбце - duration_counted.\n",
    "\n",
    "Также для дальнейшего анализа нам необходимо вычислить месяц. Все даты находятся в 2018-м - можем сразу вычислить месяц. Сохраним его в отдельной колонке. "
   ]
  },
  {
   "cell_type": "code",
   "execution_count": 155,
   "metadata": {},
   "outputs": [],
   "source": [
    "data_calls['duration_counted'] = data_calls['duration'].apply(np.ceil)\n",
    "data_calls['month'] = data_calls['call_date'].dt.month"
   ]
  },
  {
   "cell_type": "code",
   "execution_count": 156,
   "metadata": {},
   "outputs": [
    {
     "data": {
      "text/html": [
       "<div>\n",
       "<style scoped>\n",
       "    .dataframe tbody tr th:only-of-type {\n",
       "        vertical-align: middle;\n",
       "    }\n",
       "\n",
       "    .dataframe tbody tr th {\n",
       "        vertical-align: top;\n",
       "    }\n",
       "\n",
       "    .dataframe thead th {\n",
       "        text-align: right;\n",
       "    }\n",
       "</style>\n",
       "<table border=\"1\" class=\"dataframe\">\n",
       "  <thead>\n",
       "    <tr style=\"text-align: right;\">\n",
       "      <th></th>\n",
       "      <th>duration</th>\n",
       "      <th>user_id</th>\n",
       "      <th>duration_counted</th>\n",
       "      <th>month</th>\n",
       "    </tr>\n",
       "  </thead>\n",
       "  <tbody>\n",
       "    <tr>\n",
       "      <th>count</th>\n",
       "      <td>202607.000000</td>\n",
       "      <td>202607.000000</td>\n",
       "      <td>202607.000000</td>\n",
       "      <td>202607.000000</td>\n",
       "    </tr>\n",
       "    <tr>\n",
       "      <th>mean</th>\n",
       "      <td>6.755887</td>\n",
       "      <td>1253.940619</td>\n",
       "      <td>7.158198</td>\n",
       "      <td>8.574067</td>\n",
       "    </tr>\n",
       "    <tr>\n",
       "      <th>std</th>\n",
       "      <td>5.843365</td>\n",
       "      <td>144.722751</td>\n",
       "      <td>5.959173</td>\n",
       "      <td>2.787093</td>\n",
       "    </tr>\n",
       "    <tr>\n",
       "      <th>min</th>\n",
       "      <td>0.000000</td>\n",
       "      <td>1000.000000</td>\n",
       "      <td>0.000000</td>\n",
       "      <td>1.000000</td>\n",
       "    </tr>\n",
       "    <tr>\n",
       "      <th>25%</th>\n",
       "      <td>1.300000</td>\n",
       "      <td>1126.000000</td>\n",
       "      <td>2.000000</td>\n",
       "      <td>7.000000</td>\n",
       "    </tr>\n",
       "    <tr>\n",
       "      <th>50%</th>\n",
       "      <td>6.000000</td>\n",
       "      <td>1260.000000</td>\n",
       "      <td>6.000000</td>\n",
       "      <td>9.000000</td>\n",
       "    </tr>\n",
       "    <tr>\n",
       "      <th>75%</th>\n",
       "      <td>10.700000</td>\n",
       "      <td>1379.000000</td>\n",
       "      <td>11.000000</td>\n",
       "      <td>11.000000</td>\n",
       "    </tr>\n",
       "    <tr>\n",
       "      <th>max</th>\n",
       "      <td>38.000000</td>\n",
       "      <td>1499.000000</td>\n",
       "      <td>38.000000</td>\n",
       "      <td>12.000000</td>\n",
       "    </tr>\n",
       "  </tbody>\n",
       "</table>\n",
       "</div>"
      ],
      "text/plain": [
       "            duration        user_id  duration_counted          month\n",
       "count  202607.000000  202607.000000     202607.000000  202607.000000\n",
       "mean        6.755887    1253.940619          7.158198       8.574067\n",
       "std         5.843365     144.722751          5.959173       2.787093\n",
       "min         0.000000    1000.000000          0.000000       1.000000\n",
       "25%         1.300000    1126.000000          2.000000       7.000000\n",
       "50%         6.000000    1260.000000          6.000000       9.000000\n",
       "75%        10.700000    1379.000000         11.000000      11.000000\n",
       "max        38.000000    1499.000000         38.000000      12.000000"
      ]
     },
     "execution_count": 156,
     "metadata": {},
     "output_type": "execute_result"
    }
   ],
   "source": [
    "data_calls.describe()"
   ]
  },
  {
   "cell_type": "code",
   "execution_count": 157,
   "metadata": {},
   "outputs": [
    {
     "data": {
      "image/png": "[encoded data removed]",
      "text/plain": [
       "<Figure size 720x360 with 1 Axes>"
      ]
     },
     "metadata": {
      "needs_background": "light"
     },
     "output_type": "display_data"
    }
   ],
   "source": [
    "sns_hist(data_calls['duration_counted'], 'Длительность звонков', 'Длительность звонков', bins = 20)"
   ]
  },
  {
   "cell_type": "code",
   "execution_count": 158,
   "metadata": {},
   "outputs": [],
   "source": [
    "#data_calls.hist('duration_counted', bins = 20)\n",
    "#plt.title(\"Длительность звонков\")\n",
    "#plt.ylabel(\"Количество наблюдений, шт.\")\n",
    "#plt.xlabel(\"Длительность звонков\");"
   ]
  },
  {
   "cell_type": "code",
   "execution_count": 159,
   "metadata": {},
   "outputs": [
    {
     "data": {
      "text/html": [
       "\n",
       "<div id=\"altair-viz-a6f2ff377c9c4afca08066372597c8dd\"></div>\n",
       "<script type=\"text/javascript\">\n",
       "  (function(spec, embedOpt){\n",
       "    let outputDiv = document.currentScript.previousElementSibling;\n",
       "    if (outputDiv.id !== \"altair-viz-a6f2ff377c9c4afca08066372597c8dd\") {\n",
       "      outputDiv = document.getElementById(\"altair-viz-a6f2ff377c9c4afca08066372597c8dd\");\n",
       "    }\n",
       "    const paths = {\n",
       "      \"vega\": \"https://cdn.jsdelivr.net/npm//vega@5?noext\",\n",
       "      \"vega-lib\": \"https://cdn.jsdelivr.net/npm//vega-lib?noext\",\n",
       "      \"vega-lite\": \"https://cdn.jsdelivr.net/npm//vega-lite@4.8.1?noext\",\n",
       "      \"vega-embed\": \"https://cdn.jsdelivr.net/npm//vega-embed@6?noext\",\n",
       "    };\n",
       "\n",
       "    function loadScript(lib) {\n",
       "      return new Promise(function(resolve, reject) {\n",
       "        var s = document.createElement('script');\n",
       "        s.src = paths[lib];\n",
       "        s.async = true;\n",
       "        s.onload = () => resolve(paths[lib]);\n",
       "        s.onerror = () => reject(`Error loading script: ${paths[lib]}`);\n",
       "        document.getElementsByTagName(\"head\")[0].appendChild(s);\n",
       "      });\n",
       "    }\n",
       "\n",
       "    function showError(err) {\n",
       "      outputDiv.innerHTML = `<div class=\"error\" style=\"color:red;\">${err}</div>`;\n",
       "      throw err;\n",
       "    }\n",
       "\n",
       "    function displayChart(vegaEmbed) {\n",
       "      vegaEmbed(outputDiv, spec, embedOpt)\n",
       "        .catch(err => showError(`Javascript Error: ${err.message}<br>This usually means there's a typo in your chart specification. See the javascript console for the full traceback.`));\n",
       "    }\n",
       "\n",
       "    if(typeof define === \"function\" && define.amd) {\n",
       "      requirejs.config({paths});\n",
       "      require([\"vega-embed\"], displayChart, err => showError(`Error loading script: ${err.message}`));\n",
       "    } else if (typeof vegaEmbed === \"function\") {\n",
       "      displayChart(vegaEmbed);\n",
       "    } else {\n",
       "      loadScript(\"vega\")\n",
       "        .then(() => loadScript(\"vega-lite\"))\n",
       "        .then(() => loadScript(\"vega-embed\"))\n",
       "        .catch(showError)\n",
       "        .then(() => displayChart(vegaEmbed));\n",
       "    }\n",
       "  })({\"config\": {\"view\": {\"continuousWidth\": 400, \"continuousHeight\": 300}}, \"layer\": [{\"mark\": \"bar\", \"encoding\": {\"x\": {\"type\": \"quantitative\", \"field\": \"\\u041a\\u043e\\u043b\\u0438\\u0447\\u0435\\u0441\\u0442\\u0432\\u043e\"}, \"y\": {\"type\": \"ordinal\", \"field\": \"duration_counted\"}}, \"title\": \"\\u041f\\u0440\\u043e\\u0434\\u043e\\u043b\\u0436\\u0438\\u0442\\u0435\\u043b\\u044c\\u043d\\u043e\\u0441\\u0442\\u044c \\u0437\\u0432\\u043e\\u043d\\u043a\\u043e\\u0432, \\u043c\\u0438\\u043d.\"}, {\"mark\": {\"type\": \"text\", \"align\": \"left\", \"baseline\": \"middle\", \"dx\": 3}, \"encoding\": {\"text\": {\"type\": \"quantitative\", \"field\": \"\\u041a\\u043e\\u043b\\u0438\\u0447\\u0435\\u0441\\u0442\\u0432\\u043e\"}, \"x\": {\"type\": \"quantitative\", \"field\": \"\\u041a\\u043e\\u043b\\u0438\\u0447\\u0435\\u0441\\u0442\\u0432\\u043e\"}, \"y\": {\"type\": \"ordinal\", \"field\": \"duration_counted\"}}, \"title\": \"\\u041f\\u0440\\u043e\\u0434\\u043e\\u043b\\u0436\\u0438\\u0442\\u0435\\u043b\\u044c\\u043d\\u043e\\u0441\\u0442\\u044c \\u0437\\u0432\\u043e\\u043d\\u043a\\u043e\\u0432, \\u043c\\u0438\\u043d.\"}], \"data\": {\"name\": \"data-8a45758e24c5768326b266e0faa61b97\"}, \"height\": 780, \"$schema\": \"https://vega.github.io/schema/vega-lite/v4.8.1.json\", \"datasets\": {\"data-8a45758e24c5768326b266e0faa61b97\": [{\"duration_counted\": 0.0, \"\\u041a\\u043e\\u043b\\u0438\\u0447\\u0435\\u0441\\u0442\\u0432\\u043e\": 39613}, {\"duration_counted\": 1.0, \"\\u041a\\u043e\\u043b\\u0438\\u0447\\u0435\\u0441\\u0442\\u0432\\u043e\": 8402}, {\"duration_counted\": 2.0, \"\\u041a\\u043e\\u043b\\u0438\\u0447\\u0435\\u0441\\u0442\\u0432\\u043e\": 9194}, {\"duration_counted\": 3.0, \"\\u041a\\u043e\\u043b\\u0438\\u0447\\u0435\\u0441\\u0442\\u0432\\u043e\": 10362}, {\"duration_counted\": 4.0, \"\\u041a\\u043e\\u043b\\u0438\\u0447\\u0435\\u0441\\u0442\\u0432\\u043e\": 10918}, {\"duration_counted\": 5.0, \"\\u041a\\u043e\\u043b\\u0438\\u0447\\u0435\\u0441\\u0442\\u0432\\u043e\": 11411}, {\"duration_counted\": 6.0, \"\\u041a\\u043e\\u043b\\u0438\\u0447\\u0435\\u0441\\u0442\\u0432\\u043e\": 11457}, {\"duration_counted\": 7.0, \"\\u041a\\u043e\\u043b\\u0438\\u0447\\u0435\\u0441\\u0442\\u0432\\u043e\": 11510}, {\"duration_counted\": 8.0, \"\\u041a\\u043e\\u043b\\u0438\\u0447\\u0435\\u0441\\u0442\\u0432\\u043e\": 11272}, {\"duration_counted\": 9.0, \"\\u041a\\u043e\\u043b\\u0438\\u0447\\u0435\\u0441\\u0442\\u0432\\u043e\": 10973}, {\"duration_counted\": 10.0, \"\\u041a\\u043e\\u043b\\u0438\\u0447\\u0435\\u0441\\u0442\\u0432\\u043e\": 10186}, {\"duration_counted\": 11.0, \"\\u041a\\u043e\\u043b\\u0438\\u0447\\u0435\\u0441\\u0442\\u0432\\u043e\": 9385}, {\"duration_counted\": 12.0, \"\\u041a\\u043e\\u043b\\u0438\\u0447\\u0435\\u0441\\u0442\\u0432\\u043e\": 8448}, {\"duration_counted\": 13.0, \"\\u041a\\u043e\\u043b\\u0438\\u0447\\u0435\\u0441\\u0442\\u0432\\u043e\": 7486}, {\"duration_counted\": 14.0, \"\\u041a\\u043e\\u043b\\u0438\\u0447\\u0435\\u0441\\u0442\\u0432\\u043e\": 6554}, {\"duration_counted\": 15.0, \"\\u041a\\u043e\\u043b\\u0438\\u0447\\u0435\\u0441\\u0442\\u0432\\u043e\": 5505}, {\"duration_counted\": 16.0, \"\\u041a\\u043e\\u043b\\u0438\\u0447\\u0435\\u0441\\u0442\\u0432\\u043e\": 4551}, {\"duration_counted\": 17.0, \"\\u041a\\u043e\\u043b\\u0438\\u0447\\u0435\\u0441\\u0442\\u0432\\u043e\": 3671}, {\"duration_counted\": 18.0, \"\\u041a\\u043e\\u043b\\u0438\\u0447\\u0435\\u0441\\u0442\\u0432\\u043e\": 2984}, {\"duration_counted\": 19.0, \"\\u041a\\u043e\\u043b\\u0438\\u0447\\u0435\\u0441\\u0442\\u0432\\u043e\": 2411}, {\"duration_counted\": 20.0, \"\\u041a\\u043e\\u043b\\u0438\\u0447\\u0435\\u0441\\u0442\\u0432\\u043e\": 1806}, {\"duration_counted\": 21.0, \"\\u041a\\u043e\\u043b\\u0438\\u0447\\u0435\\u0441\\u0442\\u0432\\u043e\": 1304}, {\"duration_counted\": 22.0, \"\\u041a\\u043e\\u043b\\u0438\\u0447\\u0435\\u0441\\u0442\\u0432\\u043e\": 975}, {\"duration_counted\": 23.0, \"\\u041a\\u043e\\u043b\\u0438\\u0447\\u0435\\u0441\\u0442\\u0432\\u043e\": 720}, {\"duration_counted\": 24.0, \"\\u041a\\u043e\\u043b\\u0438\\u0447\\u0435\\u0441\\u0442\\u0432\\u043e\": 468}, {\"duration_counted\": 25.0, \"\\u041a\\u043e\\u043b\\u0438\\u0447\\u0435\\u0441\\u0442\\u0432\\u043e\": 363}, {\"duration_counted\": 26.0, \"\\u041a\\u043e\\u043b\\u0438\\u0447\\u0435\\u0441\\u0442\\u0432\\u043e\": 257}, {\"duration_counted\": 27.0, \"\\u041a\\u043e\\u043b\\u0438\\u0447\\u0435\\u0441\\u0442\\u0432\\u043e\": 151}, {\"duration_counted\": 28.0, \"\\u041a\\u043e\\u043b\\u0438\\u0447\\u0435\\u0441\\u0442\\u0432\\u043e\": 104}, {\"duration_counted\": 29.0, \"\\u041a\\u043e\\u043b\\u0438\\u0447\\u0435\\u0441\\u0442\\u0432\\u043e\": 56}, {\"duration_counted\": 30.0, \"\\u041a\\u043e\\u043b\\u0438\\u0447\\u0435\\u0441\\u0442\\u0432\\u043e\": 39}, {\"duration_counted\": 31.0, \"\\u041a\\u043e\\u043b\\u0438\\u0447\\u0435\\u0441\\u0442\\u0432\\u043e\": 30}, {\"duration_counted\": 32.0, \"\\u041a\\u043e\\u043b\\u0438\\u0447\\u0435\\u0441\\u0442\\u0432\\u043e\": 17}, {\"duration_counted\": 33.0, \"\\u041a\\u043e\\u043b\\u0438\\u0447\\u0435\\u0441\\u0442\\u0432\\u043e\": 10}, {\"duration_counted\": 34.0, \"\\u041a\\u043e\\u043b\\u0438\\u0447\\u0435\\u0441\\u0442\\u0432\\u043e\": 3}, {\"duration_counted\": 35.0, \"\\u041a\\u043e\\u043b\\u0438\\u0447\\u0435\\u0441\\u0442\\u0432\\u043e\": 5}, {\"duration_counted\": 36.0, \"\\u041a\\u043e\\u043b\\u0438\\u0447\\u0435\\u0441\\u0442\\u0432\\u043e\": 2}, {\"duration_counted\": 37.0, \"\\u041a\\u043e\\u043b\\u0438\\u0447\\u0435\\u0441\\u0442\\u0432\\u043e\": 2}, {\"duration_counted\": 38.0, \"\\u041a\\u043e\\u043b\\u0438\\u0447\\u0435\\u0441\\u0442\\u0432\\u043e\": 2}]}}, {\"mode\": \"vega-lite\"});\n",
       "</script>"
      ],
      "text/plain": [
       "alt.LayerChart(...)"
      ]
     },
     "execution_count": 159,
     "metadata": {},
     "output_type": "execute_result"
    }
   ],
   "source": [
    "#data_calls['duration_counted'].value_counts()\n",
    "\n",
    "alt_value_counts(data_calls, 'duration_counted', 'Продолжительность звонков, мин.')"
   ]
  },
  {
   "cell_type": "markdown",
   "metadata": {},
   "source": [
    "Замечаем огромное количество нулевых значений. Видимо это пропущенные вызовы и/или прозвоны. Количество таковых значений очень велико - 39613. Это около 19,5% от общей выборки.\n",
    "\n",
    "У нас дилемма.. С одной стороны избавиться от них мы не можем (их число слишком велико), а с другой - они очевидно будут влиять на \"полезные\" данные. Оставим текущий датасет как есть. Но создадим новый - без учета звонков с нулевой длительностью - data_calls_active."
   ]
  },
  {
   "cell_type": "code",
   "execution_count": 160,
   "metadata": {},
   "outputs": [],
   "source": [
    "data_calls_active = data_calls.query('duration > 0 ')"
   ]
  },
  {
   "cell_type": "markdown",
   "metadata": {},
   "source": [
    "Проанализируем теперь этот датасет и сравним результаты с первоначальным."
   ]
  },
  {
   "cell_type": "code",
   "execution_count": 161,
   "metadata": {},
   "outputs": [
    {
     "data": {
      "text/html": [
       "<div>\n",
       "<style scoped>\n",
       "    .dataframe tbody tr th:only-of-type {\n",
       "        vertical-align: middle;\n",
       "    }\n",
       "\n",
       "    .dataframe tbody tr th {\n",
       "        vertical-align: top;\n",
       "    }\n",
       "\n",
       "    .dataframe thead th {\n",
       "        text-align: right;\n",
       "    }\n",
       "</style>\n",
       "<table border=\"1\" class=\"dataframe\">\n",
       "  <thead>\n",
       "    <tr style=\"text-align: right;\">\n",
       "      <th></th>\n",
       "      <th>duration</th>\n",
       "      <th>user_id</th>\n",
       "      <th>duration_counted</th>\n",
       "      <th>month</th>\n",
       "    </tr>\n",
       "  </thead>\n",
       "  <tbody>\n",
       "    <tr>\n",
       "      <th>count</th>\n",
       "      <td>162994.000000</td>\n",
       "      <td>162994.000000</td>\n",
       "      <td>162994.000000</td>\n",
       "      <td>162994.000000</td>\n",
       "    </tr>\n",
       "    <tr>\n",
       "      <th>mean</th>\n",
       "      <td>8.397794</td>\n",
       "      <td>1254.149877</td>\n",
       "      <td>8.897880</td>\n",
       "      <td>8.572960</td>\n",
       "    </tr>\n",
       "    <tr>\n",
       "      <th>std</th>\n",
       "      <td>5.353022</td>\n",
       "      <td>144.751050</td>\n",
       "      <td>5.353761</td>\n",
       "      <td>2.787315</td>\n",
       "    </tr>\n",
       "    <tr>\n",
       "      <th>min</th>\n",
       "      <td>0.010000</td>\n",
       "      <td>1000.000000</td>\n",
       "      <td>1.000000</td>\n",
       "      <td>1.000000</td>\n",
       "    </tr>\n",
       "    <tr>\n",
       "      <th>25%</th>\n",
       "      <td>4.170000</td>\n",
       "      <td>1126.000000</td>\n",
       "      <td>5.000000</td>\n",
       "      <td>7.000000</td>\n",
       "    </tr>\n",
       "    <tr>\n",
       "      <th>50%</th>\n",
       "      <td>7.740000</td>\n",
       "      <td>1261.000000</td>\n",
       "      <td>8.000000</td>\n",
       "      <td>9.000000</td>\n",
       "    </tr>\n",
       "    <tr>\n",
       "      <th>75%</th>\n",
       "      <td>11.850000</td>\n",
       "      <td>1379.000000</td>\n",
       "      <td>12.000000</td>\n",
       "      <td>11.000000</td>\n",
       "    </tr>\n",
       "    <tr>\n",
       "      <th>max</th>\n",
       "      <td>38.000000</td>\n",
       "      <td>1499.000000</td>\n",
       "      <td>38.000000</td>\n",
       "      <td>12.000000</td>\n",
       "    </tr>\n",
       "  </tbody>\n",
       "</table>\n",
       "</div>"
      ],
      "text/plain": [
       "            duration        user_id  duration_counted          month\n",
       "count  162994.000000  162994.000000     162994.000000  162994.000000\n",
       "mean        8.397794    1254.149877          8.897880       8.572960\n",
       "std         5.353022     144.751050          5.353761       2.787315\n",
       "min         0.010000    1000.000000          1.000000       1.000000\n",
       "25%         4.170000    1126.000000          5.000000       7.000000\n",
       "50%         7.740000    1261.000000          8.000000       9.000000\n",
       "75%        11.850000    1379.000000         12.000000      11.000000\n",
       "max        38.000000    1499.000000         38.000000      12.000000"
      ]
     },
     "execution_count": 161,
     "metadata": {},
     "output_type": "execute_result"
    }
   ],
   "source": [
    "data_calls_active.describe()"
   ]
  },
  {
   "cell_type": "code",
   "execution_count": 162,
   "metadata": {},
   "outputs": [
    {
     "data": {
      "image/png": "[encoded data removed]",
      "text/plain": [
       "<Figure size 720x360 with 1 Axes>"
      ]
     },
     "metadata": {
      "needs_background": "light"
     },
     "output_type": "display_data"
    }
   ],
   "source": [
    "sns_hist(data_calls_active['duration_counted'], 'Длительность звонков', 'Длительность звонков', bins = 20)"
   ]
  },
  {
   "cell_type": "markdown",
   "metadata": {},
   "source": [
    "Заметим, что теперь распределение длительности звонков стало похоже на нормальное. \n",
    "Средняя длительность выросла с 6.75 до 8.4, медиана - с 6 до 7.74, а среднеквадрати́чное отклонение уменьшилось с 5,84 до 5,35."
   ]
  },
  {
   "cell_type": "markdown",
   "metadata": {},
   "source": [
    "Проанализируем датасет data_internet. Аналогично количеству минут - количество потраченных Мб округляется вверх, поэтому добавим ещё один столбец mb_used_counted.\n",
    "\n",
    "Также для дальнейшего анализа нам необходимо вычислить месяц. Все даты находятся в 2018-м - можем сразу вычислить месяц. Сохраним его в отдельной колонке. "
   ]
  },
  {
   "cell_type": "code",
   "execution_count": 163,
   "metadata": {},
   "outputs": [
    {
     "name": "stdout",
     "output_type": "stream",
     "text": [
      "Минимальная дата равна 2018-01-01 00:00:00\n",
      "Максимальная дата равна 2018-12-31 00:00:00\n"
     ]
    }
   ],
   "source": [
    "print('Минимальная дата равна {}'.format(data_internet['session_date'].min()))\n",
    "print('Максимальная дата равна {}'.format(data_internet['session_date'].max()))"
   ]
  },
  {
   "cell_type": "code",
   "execution_count": 164,
   "metadata": {},
   "outputs": [],
   "source": [
    "data_internet['mb_used_counted'] = data_internet['mb_used'].apply(np.ceil)\n",
    "data_internet['month'] = data_internet['session_date'].dt.month"
   ]
  },
  {
   "cell_type": "code",
   "execution_count": 165,
   "metadata": {},
   "outputs": [
    {
     "data": {
      "text/html": [
       "<div>\n",
       "<style scoped>\n",
       "    .dataframe tbody tr th:only-of-type {\n",
       "        vertical-align: middle;\n",
       "    }\n",
       "\n",
       "    .dataframe tbody tr th {\n",
       "        vertical-align: top;\n",
       "    }\n",
       "\n",
       "    .dataframe thead th {\n",
       "        text-align: right;\n",
       "    }\n",
       "</style>\n",
       "<table border=\"1\" class=\"dataframe\">\n",
       "  <thead>\n",
       "    <tr style=\"text-align: right;\">\n",
       "      <th></th>\n",
       "      <th>id</th>\n",
       "      <th>mb_used</th>\n",
       "      <th>session_date</th>\n",
       "      <th>user_id</th>\n",
       "      <th>mb_used_counted</th>\n",
       "      <th>month</th>\n",
       "    </tr>\n",
       "  </thead>\n",
       "  <tbody>\n",
       "    <tr>\n",
       "      <th>0</th>\n",
       "      <td>1000_0</td>\n",
       "      <td>112.95</td>\n",
       "      <td>2018-11-25</td>\n",
       "      <td>1000</td>\n",
       "      <td>113.0</td>\n",
       "      <td>11</td>\n",
       "    </tr>\n",
       "    <tr>\n",
       "      <th>1</th>\n",
       "      <td>1000_1</td>\n",
       "      <td>1052.81</td>\n",
       "      <td>2018-09-07</td>\n",
       "      <td>1000</td>\n",
       "      <td>1053.0</td>\n",
       "      <td>9</td>\n",
       "    </tr>\n",
       "    <tr>\n",
       "      <th>2</th>\n",
       "      <td>1000_2</td>\n",
       "      <td>1197.26</td>\n",
       "      <td>2018-06-25</td>\n",
       "      <td>1000</td>\n",
       "      <td>1198.0</td>\n",
       "      <td>6</td>\n",
       "    </tr>\n",
       "    <tr>\n",
       "      <th>3</th>\n",
       "      <td>1000_3</td>\n",
       "      <td>550.27</td>\n",
       "      <td>2018-08-22</td>\n",
       "      <td>1000</td>\n",
       "      <td>551.0</td>\n",
       "      <td>8</td>\n",
       "    </tr>\n",
       "    <tr>\n",
       "      <th>4</th>\n",
       "      <td>1000_4</td>\n",
       "      <td>302.56</td>\n",
       "      <td>2018-09-24</td>\n",
       "      <td>1000</td>\n",
       "      <td>303.0</td>\n",
       "      <td>9</td>\n",
       "    </tr>\n",
       "  </tbody>\n",
       "</table>\n",
       "</div>"
      ],
      "text/plain": [
       "       id  mb_used session_date  user_id  mb_used_counted  month\n",
       "0  1000_0   112.95   2018-11-25     1000            113.0     11\n",
       "1  1000_1  1052.81   2018-09-07     1000           1053.0      9\n",
       "2  1000_2  1197.26   2018-06-25     1000           1198.0      6\n",
       "3  1000_3   550.27   2018-08-22     1000            551.0      8\n",
       "4  1000_4   302.56   2018-09-24     1000            303.0      9"
      ]
     },
     "execution_count": 165,
     "metadata": {},
     "output_type": "execute_result"
    }
   ],
   "source": [
    "data_internet.head()"
   ]
  },
  {
   "cell_type": "code",
   "execution_count": 166,
   "metadata": {},
   "outputs": [
    {
     "data": {
      "text/html": [
       "<div>\n",
       "<style scoped>\n",
       "    .dataframe tbody tr th:only-of-type {\n",
       "        vertical-align: middle;\n",
       "    }\n",
       "\n",
       "    .dataframe tbody tr th {\n",
       "        vertical-align: top;\n",
       "    }\n",
       "\n",
       "    .dataframe thead th {\n",
       "        text-align: right;\n",
       "    }\n",
       "</style>\n",
       "<table border=\"1\" class=\"dataframe\">\n",
       "  <thead>\n",
       "    <tr style=\"text-align: right;\">\n",
       "      <th></th>\n",
       "      <th>mb_used</th>\n",
       "      <th>user_id</th>\n",
       "      <th>mb_used_counted</th>\n",
       "      <th>month</th>\n",
       "    </tr>\n",
       "  </thead>\n",
       "  <tbody>\n",
       "    <tr>\n",
       "      <th>count</th>\n",
       "      <td>149396.000000</td>\n",
       "      <td>149396.000000</td>\n",
       "      <td>149396.000000</td>\n",
       "      <td>149396.000000</td>\n",
       "    </tr>\n",
       "    <tr>\n",
       "      <th>mean</th>\n",
       "      <td>370.192426</td>\n",
       "      <td>1252.099842</td>\n",
       "      <td>370.622098</td>\n",
       "      <td>8.563315</td>\n",
       "    </tr>\n",
       "    <tr>\n",
       "      <th>std</th>\n",
       "      <td>278.300951</td>\n",
       "      <td>144.050823</td>\n",
       "      <td>278.387019</td>\n",
       "      <td>2.788717</td>\n",
       "    </tr>\n",
       "    <tr>\n",
       "      <th>min</th>\n",
       "      <td>0.000000</td>\n",
       "      <td>1000.000000</td>\n",
       "      <td>0.000000</td>\n",
       "      <td>1.000000</td>\n",
       "    </tr>\n",
       "    <tr>\n",
       "      <th>25%</th>\n",
       "      <td>138.187500</td>\n",
       "      <td>1130.000000</td>\n",
       "      <td>139.000000</td>\n",
       "      <td>7.000000</td>\n",
       "    </tr>\n",
       "    <tr>\n",
       "      <th>50%</th>\n",
       "      <td>348.015000</td>\n",
       "      <td>1251.000000</td>\n",
       "      <td>349.000000</td>\n",
       "      <td>9.000000</td>\n",
       "    </tr>\n",
       "    <tr>\n",
       "      <th>75%</th>\n",
       "      <td>559.552500</td>\n",
       "      <td>1380.000000</td>\n",
       "      <td>560.000000</td>\n",
       "      <td>11.000000</td>\n",
       "    </tr>\n",
       "    <tr>\n",
       "      <th>max</th>\n",
       "      <td>1724.830000</td>\n",
       "      <td>1499.000000</td>\n",
       "      <td>1725.000000</td>\n",
       "      <td>12.000000</td>\n",
       "    </tr>\n",
       "  </tbody>\n",
       "</table>\n",
       "</div>"
      ],
      "text/plain": [
       "             mb_used        user_id  mb_used_counted          month\n",
       "count  149396.000000  149396.000000    149396.000000  149396.000000\n",
       "mean      370.192426    1252.099842       370.622098       8.563315\n",
       "std       278.300951     144.050823       278.387019       2.788717\n",
       "min         0.000000    1000.000000         0.000000       1.000000\n",
       "25%       138.187500    1130.000000       139.000000       7.000000\n",
       "50%       348.015000    1251.000000       349.000000       9.000000\n",
       "75%       559.552500    1380.000000       560.000000      11.000000\n",
       "max      1724.830000    1499.000000      1725.000000      12.000000"
      ]
     },
     "execution_count": 166,
     "metadata": {},
     "output_type": "execute_result"
    }
   ],
   "source": [
    "data_internet.describe()"
   ]
  },
  {
   "cell_type": "code",
   "execution_count": 167,
   "metadata": {},
   "outputs": [
    {
     "data": {
      "image/png": "[encoded data removed]",
      "text/plain": [
       "<Figure size 720x360 with 1 Axes>"
      ]
     },
     "metadata": {
      "needs_background": "light"
     },
     "output_type": "display_data"
    }
   ],
   "source": [
    "sns_hist(data_internet['mb_used_counted'], 'Интернет-трафик', 'Количество использованных Мб', bins = 20)"
   ]
  },
  {
   "cell_type": "code",
   "execution_count": 168,
   "metadata": {},
   "outputs": [
    {
     "data": {
      "text/html": [
       "\n",
       "<div id=\"altair-viz-739133dd0ea541e5be93d072e1f12600\"></div>\n",
       "<script type=\"text/javascript\">\n",
       "  (function(spec, embedOpt){\n",
       "    let outputDiv = document.currentScript.previousElementSibling;\n",
       "    if (outputDiv.id !== \"altair-viz-739133dd0ea541e5be93d072e1f12600\") {\n",
       "      outputDiv = document.getElementById(\"altair-viz-739133dd0ea541e5be93d072e1f12600\");\n",
       "    }\n",
       "    const paths = {\n",
       "      \"vega\": \"https://cdn.jsdelivr.net/npm//vega@5?noext\",\n",
       "      \"vega-lib\": \"https://cdn.jsdelivr.net/npm//vega-lib?noext\",\n",
       "      \"vega-lite\": \"https://cdn.jsdelivr.net/npm//vega-lite@4.8.1?noext\",\n",
       "      \"vega-embed\": \"https://cdn.jsdelivr.net/npm//vega-embed@6?noext\",\n",
       "    };\n",
       "\n",
       "    function loadScript(lib) {\n",
       "      return new Promise(function(resolve, reject) {\n",
       "        var s = document.createElement('script');\n",
       "        s.src = paths[lib];\n",
       "        s.async = true;\n",
       "        s.onload = () => resolve(paths[lib]);\n",
       "        s.onerror = () => reject(`Error loading script: ${paths[lib]}`);\n",
       "        document.getElementsByTagName(\"head\")[0].appendChild(s);\n",
       "      });\n",
       "    }\n",
       "\n",
       "    function showError(err) {\n",
       "      outputDiv.innerHTML = `<div class=\"error\" style=\"color:red;\">${err}</div>`;\n",
       "      throw err;\n",
       "    }\n",
       "\n",
       "    function displayChart(vegaEmbed) {\n",
       "      vegaEmbed(outputDiv, spec, embedOpt)\n",
       "        .catch(err => showError(`Javascript Error: ${err.message}<br>This usually means there's a typo in your chart specification. See the javascript console for the full traceback.`));\n",
       "    }\n",
       "\n",
       "    if(typeof define === \"function\" && define.amd) {\n",
       "      requirejs.config({paths});\n",
       "      require([\"vega-embed\"], displayChart, err => showError(`Error loading script: ${err.message}`));\n",
       "    } else if (typeof vegaEmbed === \"function\") {\n",
       "      displayChart(vegaEmbed);\n",
       "    } else {\n",
       "      loadScript(\"vega\")\n",
       "        .then(() => loadScript(\"vega-lite\"))\n",
       "        .then(() => loadScript(\"vega-embed\"))\n",
       "        .catch(showError)\n",
       "        .then(() => displayChart(vegaEmbed));\n",
       "    }\n",
       "  })({\"config\": {\"view\": {\"continuousWidth\": 400, \"continuousHeight\": 300}}, \"layer\": [{\"mark\": \"bar\", \"encoding\": {\"x\": {\"type\": \"quantitative\", \"field\": \"\\u041a\\u043e\\u043b\\u0438\\u0447\\u0435\\u0441\\u0442\\u0432\\u043e\"}, \"y\": {\"type\": \"ordinal\", \"field\": \"mb_used_counted\"}}, \"title\": \"\\u041a\\u043e\\u043b\\u0438\\u0447\\u0435\\u0441\\u0442\\u0432\\u043e \\u0438\\u0441\\u043f\\u043e\\u043b\\u044c\\u0437\\u043e\\u0432\\u0430\\u043d\\u043d\\u044b\\u0445 \\u041c\\u0431\"}, {\"mark\": {\"type\": \"text\", \"align\": \"left\", \"baseline\": \"middle\", \"dx\": 3}, \"encoding\": {\"text\": {\"type\": \"quantitative\", \"field\": \"\\u041a\\u043e\\u043b\\u0438\\u0447\\u0435\\u0441\\u0442\\u0432\\u043e\"}, \"x\": {\"type\": \"quantitative\", \"field\": \"\\u041a\\u043e\\u043b\\u0438\\u0447\\u0435\\u0441\\u0442\\u0432\\u043e\"}, \"y\": {\"type\": \"ordinal\", \"field\": \"mb_used_counted\"}}, \"title\": \"\\u041a\\u043e\\u043b\\u0438\\u0447\\u0435\\u0441\\u0442\\u0432\\u043e \\u0438\\u0441\\u043f\\u043e\\u043b\\u044c\\u0437\\u043e\\u0432\\u0430\\u043d\\u043d\\u044b\\u0445 \\u041c\\u0431\"}], \"data\": {\"name\": \"data-2da4a19d63804f2565ac8afb58e06fd0\"}, \"height\": 28480, \"$schema\": \"https://vega.github.io/schema/vega-lite/v4.8.1.json\", \"datasets\": {\"data-2da4a19d63804f2565ac8afb58e06fd0\": [{\"mb_used_counted\": 0.0, \"\\u041a\\u043e\\u043b\\u0438\\u0447\\u0435\\u0441\\u0442\\u0432\\u043e\": 19598}, {\"mb_used_counted\": 1.0, \"\\u041a\\u043e\\u043b\\u0438\\u0447\\u0435\\u0441\\u0442\\u0432\\u043e\": 102}, {\"mb_used_counted\": 2.0, \"\\u041a\\u043e\\u043b\\u0438\\u0447\\u0435\\u0441\\u0442\\u0432\\u043e\": 98}, {\"mb_used_counted\": 3.0, \"\\u041a\\u043e\\u043b\\u0438\\u0447\\u0435\\u0441\\u0442\\u0432\\u043e\": 96}, {\"mb_used_counted\": 4.0, \"\\u041a\\u043e\\u043b\\u0438\\u0447\\u0435\\u0441\\u0442\\u0432\\u043e\": 100}, {\"mb_used_counted\": 5.0, \"\\u041a\\u043e\\u043b\\u0438\\u0447\\u0435\\u0441\\u0442\\u0432\\u043e\": 107}, {\"mb_used_counted\": 6.0, \"\\u041a\\u043e\\u043b\\u0438\\u0447\\u0435\\u0441\\u0442\\u0432\\u043e\": 102}, {\"mb_used_counted\": 7.0, \"\\u041a\\u043e\\u043b\\u0438\\u0447\\u0435\\u0441\\u0442\\u0432\\u043e\": 99}, {\"mb_used_counted\": 8.0, \"\\u041a\\u043e\\u043b\\u0438\\u0447\\u0435\\u0441\\u0442\\u0432\\u043e\": 98}, {\"mb_used_counted\": 9.0, \"\\u041a\\u043e\\u043b\\u0438\\u0447\\u0435\\u0441\\u0442\\u0432\\u043e\": 116}, {\"mb_used_counted\": 10.0, \"\\u041a\\u043e\\u043b\\u0438\\u0447\\u0435\\u0441\\u0442\\u0432\\u043e\": 101}, {\"mb_used_counted\": 11.0, \"\\u041a\\u043e\\u043b\\u0438\\u0447\\u0435\\u0441\\u0442\\u0432\\u043e\": 100}, {\"mb_used_counted\": 12.0, \"\\u041a\\u043e\\u043b\\u0438\\u0447\\u0435\\u0441\\u0442\\u0432\\u043e\": 111}, {\"mb_used_counted\": 13.0, \"\\u041a\\u043e\\u043b\\u0438\\u0447\\u0435\\u0441\\u0442\\u0432\\u043e\": 125}, {\"mb_used_counted\": 14.0, \"\\u041a\\u043e\\u043b\\u0438\\u0447\\u0435\\u0441\\u0442\\u0432\\u043e\": 99}, {\"mb_used_counted\": 15.0, \"\\u041a\\u043e\\u043b\\u0438\\u0447\\u0435\\u0441\\u0442\\u0432\\u043e\": 122}, {\"mb_used_counted\": 16.0, \"\\u041a\\u043e\\u043b\\u0438\\u0447\\u0435\\u0441\\u0442\\u0432\\u043e\": 107}, {\"mb_used_counted\": 17.0, \"\\u041a\\u043e\\u043b\\u0438\\u0447\\u0435\\u0441\\u0442\\u0432\\u043e\": 107}, {\"mb_used_counted\": 18.0, \"\\u041a\\u043e\\u043b\\u0438\\u0447\\u0435\\u0441\\u0442\\u0432\\u043e\": 115}, {\"mb_used_counted\": 19.0, \"\\u041a\\u043e\\u043b\\u0438\\u0447\\u0435\\u0441\\u0442\\u0432\\u043e\": 112}, {\"mb_used_counted\": 20.0, \"\\u041a\\u043e\\u043b\\u0438\\u0447\\u0435\\u0441\\u0442\\u0432\\u043e\": 115}, {\"mb_used_counted\": 21.0, \"\\u041a\\u043e\\u043b\\u0438\\u0447\\u0435\\u0441\\u0442\\u0432\\u043e\": 118}, {\"mb_used_counted\": 22.0, \"\\u041a\\u043e\\u043b\\u0438\\u0447\\u0435\\u0441\\u0442\\u0432\\u043e\": 121}, {\"mb_used_counted\": 23.0, \"\\u041a\\u043e\\u043b\\u0438\\u0447\\u0435\\u0441\\u0442\\u0432\\u043e\": 105}, {\"mb_used_counted\": 24.0, \"\\u041a\\u043e\\u043b\\u0438\\u0447\\u0435\\u0441\\u0442\\u0432\\u043e\": 107}, {\"mb_used_counted\": 25.0, \"\\u041a\\u043e\\u043b\\u0438\\u0447\\u0435\\u0441\\u0442\\u0432\\u043e\": 106}, {\"mb_used_counted\": 26.0, \"\\u041a\\u043e\\u043b\\u0438\\u0447\\u0435\\u0441\\u0442\\u0432\\u043e\": 113}, {\"mb_used_counted\": 27.0, \"\\u041a\\u043e\\u043b\\u0438\\u0447\\u0435\\u0441\\u0442\\u0432\\u043e\": 119}, {\"mb_used_counted\": 28.0, \"\\u041a\\u043e\\u043b\\u0438\\u0447\\u0435\\u0441\\u0442\\u0432\\u043e\": 114}, {\"mb_used_counted\": 29.0, \"\\u041a\\u043e\\u043b\\u0438\\u0447\\u0435\\u0441\\u0442\\u0432\\u043e\": 99}, {\"mb_used_counted\": 30.0, \"\\u041a\\u043e\\u043b\\u0438\\u0447\\u0435\\u0441\\u0442\\u0432\\u043e\": 113}, {\"mb_used_counted\": 31.0, \"\\u041a\\u043e\\u043b\\u0438\\u0447\\u0435\\u0441\\u0442\\u0432\\u043e\": 128}, {\"mb_used_counted\": 32.0, \"\\u041a\\u043e\\u043b\\u0438\\u0447\\u0435\\u0441\\u0442\\u0432\\u043e\": 123}, {\"mb_used_counted\": 33.0, \"\\u041a\\u043e\\u043b\\u0438\\u0447\\u0435\\u0441\\u0442\\u0432\\u043e\": 96}, {\"mb_used_counted\": 34.0, \"\\u041a\\u043e\\u043b\\u0438\\u0447\\u0435\\u0441\\u0442\\u0432\\u043e\": 111}, {\"mb_used_counted\": 35.0, \"\\u041a\\u043e\\u043b\\u0438\\u0447\\u0435\\u0441\\u0442\\u0432\\u043e\": 108}, {\"mb_used_counted\": 36.0, \"\\u041a\\u043e\\u043b\\u0438\\u0447\\u0435\\u0441\\u0442\\u0432\\u043e\": 111}, {\"mb_used_counted\": 37.0, \"\\u041a\\u043e\\u043b\\u0438\\u0447\\u0435\\u0441\\u0442\\u0432\\u043e\": 104}, {\"mb_used_counted\": 38.0, \"\\u041a\\u043e\\u043b\\u0438\\u0447\\u0435\\u0441\\u0442\\u0432\\u043e\": 98}, {\"mb_used_counted\": 39.0, \"\\u041a\\u043e\\u043b\\u0438\\u0447\\u0435\\u0441\\u0442\\u0432\\u043e\": 103}, {\"mb_used_counted\": 40.0, \"\\u041a\\u043e\\u043b\\u0438\\u0447\\u0435\\u0441\\u0442\\u0432\\u043e\": 115}, {\"mb_used_counted\": 41.0, \"\\u041a\\u043e\\u043b\\u0438\\u0447\\u0435\\u0441\\u0442\\u0432\\u043e\": 128}, {\"mb_used_counted\": 42.0, \"\\u041a\\u043e\\u043b\\u0438\\u0447\\u0435\\u0441\\u0442\\u0432\\u043e\": 125}, {\"mb_used_counted\": 43.0, \"\\u041a\\u043e\\u043b\\u0438\\u0447\\u0435\\u0441\\u0442\\u0432\\u043e\": 121}, {\"mb_used_counted\": 44.0, \"\\u041a\\u043e\\u043b\\u0438\\u0447\\u0435\\u0441\\u0442\\u0432\\u043e\": 126}, {\"mb_used_counted\": 45.0, \"\\u041a\\u043e\\u043b\\u0438\\u0447\\u0435\\u0441\\u0442\\u0432\\u043e\": 124}, {\"mb_used_counted\": 46.0, \"\\u041a\\u043e\\u043b\\u0438\\u0447\\u0435\\u0441\\u0442\\u0432\\u043e\": 133}, {\"mb_used_counted\": 47.0, \"\\u041a\\u043e\\u043b\\u0438\\u0447\\u0435\\u0441\\u0442\\u0432\\u043e\": 98}, {\"mb_used_counted\": 48.0, \"\\u041a\\u043e\\u043b\\u0438\\u0447\\u0435\\u0441\\u0442\\u0432\\u043e\": 127}, {\"mb_used_counted\": 49.0, \"\\u041a\\u043e\\u043b\\u0438\\u0447\\u0435\\u0441\\u0442\\u0432\\u043e\": 122}, {\"mb_used_counted\": 50.0, \"\\u041a\\u043e\\u043b\\u0438\\u0447\\u0435\\u0441\\u0442\\u0432\\u043e\": 132}, {\"mb_used_counted\": 51.0, \"\\u041a\\u043e\\u043b\\u0438\\u0447\\u0435\\u0441\\u0442\\u0432\\u043e\": 146}, {\"mb_used_counted\": 52.0, \"\\u041a\\u043e\\u043b\\u0438\\u0447\\u0435\\u0441\\u0442\\u0432\\u043e\": 108}, {\"mb_used_counted\": 53.0, \"\\u041a\\u043e\\u043b\\u0438\\u0447\\u0435\\u0441\\u0442\\u0432\\u043e\": 142}, {\"mb_used_counted\": 54.0, \"\\u041a\\u043e\\u043b\\u0438\\u0447\\u0435\\u0441\\u0442\\u0432\\u043e\": 141}, {\"mb_used_counted\": 55.0, \"\\u041a\\u043e\\u043b\\u0438\\u0447\\u0435\\u0441\\u0442\\u0432\\u043e\": 131}, {\"mb_used_counted\": 56.0, \"\\u041a\\u043e\\u043b\\u0438\\u0447\\u0435\\u0441\\u0442\\u0432\\u043e\": 120}, {\"mb_used_counted\": 57.0, \"\\u041a\\u043e\\u043b\\u0438\\u0447\\u0435\\u0441\\u0442\\u0432\\u043e\": 131}, {\"mb_used_counted\": 58.0, \"\\u041a\\u043e\\u043b\\u0438\\u0447\\u0435\\u0441\\u0442\\u0432\\u043e\": 136}, {\"mb_used_counted\": 59.0, \"\\u041a\\u043e\\u043b\\u0438\\u0447\\u0435\\u0441\\u0442\\u0432\\u043e\": 109}, {\"mb_used_counted\": 60.0, \"\\u041a\\u043e\\u043b\\u0438\\u0447\\u0435\\u0441\\u0442\\u0432\\u043e\": 137}, {\"mb_used_counted\": 61.0, \"\\u041a\\u043e\\u043b\\u0438\\u0447\\u0435\\u0441\\u0442\\u0432\\u043e\": 119}, {\"mb_used_counted\": 62.0, \"\\u041a\\u043e\\u043b\\u0438\\u0447\\u0435\\u0441\\u0442\\u0432\\u043e\": 111}, {\"mb_used_counted\": 63.0, \"\\u041a\\u043e\\u043b\\u0438\\u0447\\u0435\\u0441\\u0442\\u0432\\u043e\": 111}, {\"mb_used_counted\": 64.0, \"\\u041a\\u043e\\u043b\\u0438\\u0447\\u0435\\u0441\\u0442\\u0432\\u043e\": 123}, {\"mb_used_counted\": 65.0, \"\\u041a\\u043e\\u043b\\u0438\\u0447\\u0435\\u0441\\u0442\\u0432\\u043e\": 119}, {\"mb_used_counted\": 66.0, \"\\u041a\\u043e\\u043b\\u0438\\u0447\\u0435\\u0441\\u0442\\u0432\\u043e\": 129}, {\"mb_used_counted\": 67.0, \"\\u041a\\u043e\\u043b\\u0438\\u0447\\u0435\\u0441\\u0442\\u0432\\u043e\": 117}, {\"mb_used_counted\": 68.0, \"\\u041a\\u043e\\u043b\\u0438\\u0447\\u0435\\u0441\\u0442\\u0432\\u043e\": 135}, {\"mb_used_counted\": 69.0, \"\\u041a\\u043e\\u043b\\u0438\\u0447\\u0435\\u0441\\u0442\\u0432\\u043e\": 136}, {\"mb_used_counted\": 70.0, \"\\u041a\\u043e\\u043b\\u0438\\u0447\\u0435\\u0441\\u0442\\u0432\\u043e\": 124}, {\"mb_used_counted\": 71.0, \"\\u041a\\u043e\\u043b\\u0438\\u0447\\u0435\\u0441\\u0442\\u0432\\u043e\": 142}, {\"mb_used_counted\": 72.0, \"\\u041a\\u043e\\u043b\\u0438\\u0447\\u0435\\u0441\\u0442\\u0432\\u043e\": 137}, {\"mb_used_counted\": 73.0, \"\\u041a\\u043e\\u043b\\u0438\\u0447\\u0435\\u0441\\u0442\\u0432\\u043e\": 134}, {\"mb_used_counted\": 74.0, \"\\u041a\\u043e\\u043b\\u0438\\u0447\\u0435\\u0441\\u0442\\u0432\\u043e\": 114}, {\"mb_used_counted\": 75.0, \"\\u041a\\u043e\\u043b\\u0438\\u0447\\u0435\\u0441\\u0442\\u0432\\u043e\": 131}, {\"mb_used_counted\": 76.0, \"\\u041a\\u043e\\u043b\\u0438\\u0447\\u0435\\u0441\\u0442\\u0432\\u043e\": 137}, {\"mb_used_counted\": 77.0, \"\\u041a\\u043e\\u043b\\u0438\\u0447\\u0435\\u0441\\u0442\\u0432\\u043e\": 118}, {\"mb_used_counted\": 78.0, \"\\u041a\\u043e\\u043b\\u0438\\u0447\\u0435\\u0441\\u0442\\u0432\\u043e\": 128}, {\"mb_used_counted\": 79.0, \"\\u041a\\u043e\\u043b\\u0438\\u0447\\u0435\\u0441\\u0442\\u0432\\u043e\": 139}, {\"mb_used_counted\": 80.0, \"\\u041a\\u043e\\u043b\\u0438\\u0447\\u0435\\u0441\\u0442\\u0432\\u043e\": 134}, {\"mb_used_counted\": 81.0, \"\\u041a\\u043e\\u043b\\u0438\\u0447\\u0435\\u0441\\u0442\\u0432\\u043e\": 130}, {\"mb_used_counted\": 82.0, \"\\u041a\\u043e\\u043b\\u0438\\u0447\\u0435\\u0441\\u0442\\u0432\\u043e\": 125}, {\"mb_used_counted\": 83.0, \"\\u041a\\u043e\\u043b\\u0438\\u0447\\u0435\\u0441\\u0442\\u0432\\u043e\": 145}, {\"mb_used_counted\": 84.0, \"\\u041a\\u043e\\u043b\\u0438\\u0447\\u0435\\u0441\\u0442\\u0432\\u043e\": 147}, {\"mb_used_counted\": 85.0, \"\\u041a\\u043e\\u043b\\u0438\\u0447\\u0435\\u0441\\u0442\\u0432\\u043e\": 152}, {\"mb_used_counted\": 86.0, \"\\u041a\\u043e\\u043b\\u0438\\u0447\\u0435\\u0441\\u0442\\u0432\\u043e\": 138}, {\"mb_used_counted\": 87.0, \"\\u041a\\u043e\\u043b\\u0438\\u0447\\u0435\\u0441\\u0442\\u0432\\u043e\": 134}, {\"mb_used_counted\": 88.0, \"\\u041a\\u043e\\u043b\\u0438\\u0447\\u0435\\u0441\\u0442\\u0432\\u043e\": 127}, {\"mb_used_counted\": 89.0, \"\\u041a\\u043e\\u043b\\u0438\\u0447\\u0435\\u0441\\u0442\\u0432\\u043e\": 132}, {\"mb_used_counted\": 90.0, \"\\u041a\\u043e\\u043b\\u0438\\u0447\\u0435\\u0441\\u0442\\u0432\\u043e\": 133}, {\"mb_used_counted\": 91.0, \"\\u041a\\u043e\\u043b\\u0438\\u0447\\u0435\\u0441\\u0442\\u0432\\u043e\": 125}, {\"mb_used_counted\": 92.0, \"\\u041a\\u043e\\u043b\\u0438\\u0447\\u0435\\u0441\\u0442\\u0432\\u043e\": 119}, {\"mb_used_counted\": 93.0, \"\\u041a\\u043e\\u043b\\u0438\\u0447\\u0435\\u0441\\u0442\\u0432\\u043e\": 130}, {\"mb_used_counted\": 94.0, \"\\u041a\\u043e\\u043b\\u0438\\u0447\\u0435\\u0441\\u0442\\u0432\\u043e\": 126}, {\"mb_used_counted\": 95.0, \"\\u041a\\u043e\\u043b\\u0438\\u0447\\u0435\\u0441\\u0442\\u0432\\u043e\": 146}, {\"mb_used_counted\": 96.0, \"\\u041a\\u043e\\u043b\\u0438\\u0447\\u0435\\u0441\\u0442\\u0432\\u043e\": 114}, {\"mb_used_counted\": 97.0, \"\\u041a\\u043e\\u043b\\u0438\\u0447\\u0435\\u0441\\u0442\\u0432\\u043e\": 113}, {\"mb_used_counted\": 98.0, \"\\u041a\\u043e\\u043b\\u0438\\u0447\\u0435\\u0441\\u0442\\u0432\\u043e\": 125}, {\"mb_used_counted\": 99.0, \"\\u041a\\u043e\\u043b\\u0438\\u0447\\u0435\\u0441\\u0442\\u0432\\u043e\": 131}, {\"mb_used_counted\": 100.0, \"\\u041a\\u043e\\u043b\\u0438\\u0447\\u0435\\u0441\\u0442\\u0432\\u043e\": 130}, {\"mb_used_counted\": 101.0, \"\\u041a\\u043e\\u043b\\u0438\\u0447\\u0435\\u0441\\u0442\\u0432\\u043e\": 159}, {\"mb_used_counted\": 102.0, \"\\u041a\\u043e\\u043b\\u0438\\u0447\\u0435\\u0441\\u0442\\u0432\\u043e\": 137}, {\"mb_used_counted\": 103.0, \"\\u041a\\u043e\\u043b\\u0438\\u0447\\u0435\\u0441\\u0442\\u0432\\u043e\": 164}, {\"mb_used_counted\": 104.0, \"\\u041a\\u043e\\u043b\\u0438\\u0447\\u0435\\u0441\\u0442\\u0432\\u043e\": 154}, {\"mb_used_counted\": 105.0, \"\\u041a\\u043e\\u043b\\u0438\\u0447\\u0435\\u0441\\u0442\\u0432\\u043e\": 157}, {\"mb_used_counted\": 106.0, \"\\u041a\\u043e\\u043b\\u0438\\u0447\\u0435\\u0441\\u0442\\u0432\\u043e\": 138}, {\"mb_used_counted\": 107.0, \"\\u041a\\u043e\\u043b\\u0438\\u0447\\u0435\\u0441\\u0442\\u0432\\u043e\": 160}, {\"mb_used_counted\": 108.0, \"\\u041a\\u043e\\u043b\\u0438\\u0447\\u0435\\u0441\\u0442\\u0432\\u043e\": 135}, {\"mb_used_counted\": 109.0, \"\\u041a\\u043e\\u043b\\u0438\\u0447\\u0435\\u0441\\u0442\\u0432\\u043e\": 145}, {\"mb_used_counted\": 110.0, \"\\u041a\\u043e\\u043b\\u0438\\u0447\\u0435\\u0441\\u0442\\u0432\\u043e\": 137}, {\"mb_used_counted\": 111.0, \"\\u041a\\u043e\\u043b\\u0438\\u0447\\u0435\\u0441\\u0442\\u0432\\u043e\": 147}, {\"mb_used_counted\": 112.0, \"\\u041a\\u043e\\u043b\\u0438\\u0447\\u0435\\u0441\\u0442\\u0432\\u043e\": 145}, {\"mb_used_counted\": 113.0, \"\\u041a\\u043e\\u043b\\u0438\\u0447\\u0435\\u0441\\u0442\\u0432\\u043e\": 131}, {\"mb_used_counted\": 114.0, \"\\u041a\\u043e\\u043b\\u0438\\u0447\\u0435\\u0441\\u0442\\u0432\\u043e\": 139}, {\"mb_used_counted\": 115.0, \"\\u041a\\u043e\\u043b\\u0438\\u0447\\u0435\\u0441\\u0442\\u0432\\u043e\": 150}, {\"mb_used_counted\": 116.0, \"\\u041a\\u043e\\u043b\\u0438\\u0447\\u0435\\u0441\\u0442\\u0432\\u043e\": 143}, {\"mb_used_counted\": 117.0, \"\\u041a\\u043e\\u043b\\u0438\\u0447\\u0435\\u0441\\u0442\\u0432\\u043e\": 133}, {\"mb_used_counted\": 118.0, \"\\u041a\\u043e\\u043b\\u0438\\u0447\\u0435\\u0441\\u0442\\u0432\\u043e\": 135}, {\"mb_used_counted\": 119.0, \"\\u041a\\u043e\\u043b\\u0438\\u0447\\u0435\\u0441\\u0442\\u0432\\u043e\": 133}, {\"mb_used_counted\": 120.0, \"\\u041a\\u043e\\u043b\\u0438\\u0447\\u0435\\u0441\\u0442\\u0432\\u043e\": 137}, {\"mb_used_counted\": 121.0, \"\\u041a\\u043e\\u043b\\u0438\\u0447\\u0435\\u0441\\u0442\\u0432\\u043e\": 156}, {\"mb_used_counted\": 122.0, \"\\u041a\\u043e\\u043b\\u0438\\u0447\\u0435\\u0441\\u0442\\u0432\\u043e\": 147}, {\"mb_used_counted\": 123.0, \"\\u041a\\u043e\\u043b\\u0438\\u0447\\u0435\\u0441\\u0442\\u0432\\u043e\": 150}, {\"mb_used_counted\": 124.0, \"\\u041a\\u043e\\u043b\\u0438\\u0447\\u0435\\u0441\\u0442\\u0432\\u043e\": 164}, {\"mb_used_counted\": 125.0, \"\\u041a\\u043e\\u043b\\u0438\\u0447\\u0435\\u0441\\u0442\\u0432\\u043e\": 162}, {\"mb_used_counted\": 126.0, \"\\u041a\\u043e\\u043b\\u0438\\u0447\\u0435\\u0441\\u0442\\u0432\\u043e\": 158}, {\"mb_used_counted\": 127.0, \"\\u041a\\u043e\\u043b\\u0438\\u0447\\u0435\\u0441\\u0442\\u0432\\u043e\": 167}, {\"mb_used_counted\": 128.0, \"\\u041a\\u043e\\u043b\\u0438\\u0447\\u0435\\u0441\\u0442\\u0432\\u043e\": 143}, {\"mb_used_counted\": 129.0, \"\\u041a\\u043e\\u043b\\u0438\\u0447\\u0435\\u0441\\u0442\\u0432\\u043e\": 136}, {\"mb_used_counted\": 130.0, \"\\u041a\\u043e\\u043b\\u0438\\u0447\\u0435\\u0441\\u0442\\u0432\\u043e\": 153}, {\"mb_used_counted\": 131.0, \"\\u041a\\u043e\\u043b\\u0438\\u0447\\u0435\\u0441\\u0442\\u0432\\u043e\": 165}, {\"mb_used_counted\": 132.0, \"\\u041a\\u043e\\u043b\\u0438\\u0447\\u0435\\u0441\\u0442\\u0432\\u043e\": 161}, {\"mb_used_counted\": 133.0, \"\\u041a\\u043e\\u043b\\u0438\\u0447\\u0435\\u0441\\u0442\\u0432\\u043e\": 147}, {\"mb_used_counted\": 134.0, \"\\u041a\\u043e\\u043b\\u0438\\u0447\\u0435\\u0441\\u0442\\u0432\\u043e\": 180}, {\"mb_used_counted\": 135.0, \"\\u041a\\u043e\\u043b\\u0438\\u0447\\u0435\\u0441\\u0442\\u0432\\u043e\": 150}, {\"mb_used_counted\": 136.0, \"\\u041a\\u043e\\u043b\\u0438\\u0447\\u0435\\u0441\\u0442\\u0432\\u043e\": 163}, {\"mb_used_counted\": 137.0, \"\\u041a\\u043e\\u043b\\u0438\\u0447\\u0435\\u0441\\u0442\\u0432\\u043e\": 155}, {\"mb_used_counted\": 138.0, \"\\u041a\\u043e\\u043b\\u0438\\u0447\\u0435\\u0441\\u0442\\u0432\\u043e\": 153}, {\"mb_used_counted\": 139.0, \"\\u041a\\u043e\\u043b\\u0438\\u0447\\u0435\\u0441\\u0442\\u0432\\u043e\": 132}, {\"mb_used_counted\": 140.0, \"\\u041a\\u043e\\u043b\\u0438\\u0447\\u0435\\u0441\\u0442\\u0432\\u043e\": 152}, {\"mb_used_counted\": 141.0, \"\\u041a\\u043e\\u043b\\u0438\\u0447\\u0435\\u0441\\u0442\\u0432\\u043e\": 140}, {\"mb_used_counted\": 142.0, \"\\u041a\\u043e\\u043b\\u0438\\u0447\\u0435\\u0441\\u0442\\u0432\\u043e\": 171}, {\"mb_used_counted\": 143.0, \"\\u041a\\u043e\\u043b\\u0438\\u0447\\u0435\\u0441\\u0442\\u0432\\u043e\": 159}, {\"mb_used_counted\": 144.0, \"\\u041a\\u043e\\u043b\\u0438\\u0447\\u0435\\u0441\\u0442\\u0432\\u043e\": 185}, {\"mb_used_counted\": 145.0, \"\\u041a\\u043e\\u043b\\u0438\\u0447\\u0435\\u0441\\u0442\\u0432\\u043e\": 154}, {\"mb_used_counted\": 146.0, \"\\u041a\\u043e\\u043b\\u0438\\u0447\\u0435\\u0441\\u0442\\u0432\\u043e\": 142}, {\"mb_used_counted\": 147.0, \"\\u041a\\u043e\\u043b\\u0438\\u0447\\u0435\\u0441\\u0442\\u0432\\u043e\": 140}, {\"mb_used_counted\": 148.0, \"\\u041a\\u043e\\u043b\\u0438\\u0447\\u0435\\u0441\\u0442\\u0432\\u043e\": 152}, {\"mb_used_counted\": 149.0, \"\\u041a\\u043e\\u043b\\u0438\\u0447\\u0435\\u0441\\u0442\\u0432\\u043e\": 154}, {\"mb_used_counted\": 150.0, \"\\u041a\\u043e\\u043b\\u0438\\u0447\\u0435\\u0441\\u0442\\u0432\\u043e\": 162}, {\"mb_used_counted\": 151.0, \"\\u041a\\u043e\\u043b\\u0438\\u0447\\u0435\\u0441\\u0442\\u0432\\u043e\": 155}, {\"mb_used_counted\": 152.0, \"\\u041a\\u043e\\u043b\\u0438\\u0447\\u0435\\u0441\\u0442\\u0432\\u043e\": 160}, {\"mb_used_counted\": 153.0, \"\\u041a\\u043e\\u043b\\u0438\\u0447\\u0435\\u0441\\u0442\\u0432\\u043e\": 168}, {\"mb_used_counted\": 154.0, \"\\u041a\\u043e\\u043b\\u0438\\u0447\\u0435\\u0441\\u0442\\u0432\\u043e\": 147}, {\"mb_used_counted\": 155.0, \"\\u041a\\u043e\\u043b\\u0438\\u0447\\u0435\\u0441\\u0442\\u0432\\u043e\": 171}, {\"mb_used_counted\": 156.0, \"\\u041a\\u043e\\u043b\\u0438\\u0447\\u0435\\u0441\\u0442\\u0432\\u043e\": 155}, {\"mb_used_counted\": 157.0, \"\\u041a\\u043e\\u043b\\u0438\\u0447\\u0435\\u0441\\u0442\\u0432\\u043e\": 127}, {\"mb_used_counted\": 158.0, \"\\u041a\\u043e\\u043b\\u0438\\u0447\\u0435\\u0441\\u0442\\u0432\\u043e\": 154}, {\"mb_used_counted\": 159.0, \"\\u041a\\u043e\\u043b\\u0438\\u0447\\u0435\\u0441\\u0442\\u0432\\u043e\": 201}, {\"mb_used_counted\": 160.0, \"\\u041a\\u043e\\u043b\\u0438\\u0447\\u0435\\u0441\\u0442\\u0432\\u043e\": 150}, {\"mb_used_counted\": 161.0, \"\\u041a\\u043e\\u043b\\u0438\\u0447\\u0435\\u0441\\u0442\\u0432\\u043e\": 150}, {\"mb_used_counted\": 162.0, \"\\u041a\\u043e\\u043b\\u0438\\u0447\\u0435\\u0441\\u0442\\u0432\\u043e\": 150}, {\"mb_used_counted\": 163.0, \"\\u041a\\u043e\\u043b\\u0438\\u0447\\u0435\\u0441\\u0442\\u0432\\u043e\": 161}, {\"mb_used_counted\": 164.0, \"\\u041a\\u043e\\u043b\\u0438\\u0447\\u0435\\u0441\\u0442\\u0432\\u043e\": 161}, {\"mb_used_counted\": 165.0, \"\\u041a\\u043e\\u043b\\u0438\\u0447\\u0435\\u0441\\u0442\\u0432\\u043e\": 173}, {\"mb_used_counted\": 166.0, \"\\u041a\\u043e\\u043b\\u0438\\u0447\\u0435\\u0441\\u0442\\u0432\\u043e\": 168}, {\"mb_used_counted\": 167.0, \"\\u041a\\u043e\\u043b\\u0438\\u0447\\u0435\\u0441\\u0442\\u0432\\u043e\": 147}, {\"mb_used_counted\": 168.0, \"\\u041a\\u043e\\u043b\\u0438\\u0447\\u0435\\u0441\\u0442\\u0432\\u043e\": 178}, {\"mb_used_counted\": 169.0, \"\\u041a\\u043e\\u043b\\u0438\\u0447\\u0435\\u0441\\u0442\\u0432\\u043e\": 170}, {\"mb_used_counted\": 170.0, \"\\u041a\\u043e\\u043b\\u0438\\u0447\\u0435\\u0441\\u0442\\u0432\\u043e\": 131}, {\"mb_used_counted\": 171.0, \"\\u041a\\u043e\\u043b\\u0438\\u0447\\u0435\\u0441\\u0442\\u0432\\u043e\": 133}, {\"mb_used_counted\": 172.0, \"\\u041a\\u043e\\u043b\\u0438\\u0447\\u0435\\u0441\\u0442\\u0432\\u043e\": 157}, {\"mb_used_counted\": 173.0, \"\\u041a\\u043e\\u043b\\u0438\\u0447\\u0435\\u0441\\u0442\\u0432\\u043e\": 139}, {\"mb_used_counted\": 174.0, \"\\u041a\\u043e\\u043b\\u0438\\u0447\\u0435\\u0441\\u0442\\u0432\\u043e\": 167}, {\"mb_used_counted\": 175.0, \"\\u041a\\u043e\\u043b\\u0438\\u0447\\u0435\\u0441\\u0442\\u0432\\u043e\": 156}, {\"mb_used_counted\": 176.0, \"\\u041a\\u043e\\u043b\\u0438\\u0447\\u0435\\u0441\\u0442\\u0432\\u043e\": 142}, {\"mb_used_counted\": 177.0, \"\\u041a\\u043e\\u043b\\u0438\\u0447\\u0435\\u0441\\u0442\\u0432\\u043e\": 170}, {\"mb_used_counted\": 178.0, \"\\u041a\\u043e\\u043b\\u0438\\u0447\\u0435\\u0441\\u0442\\u0432\\u043e\": 148}, {\"mb_used_counted\": 179.0, \"\\u041a\\u043e\\u043b\\u0438\\u0447\\u0435\\u0441\\u0442\\u0432\\u043e\": 174}, {\"mb_used_counted\": 180.0, \"\\u041a\\u043e\\u043b\\u0438\\u0447\\u0435\\u0441\\u0442\\u0432\\u043e\": 154}, {\"mb_used_counted\": 181.0, \"\\u041a\\u043e\\u043b\\u0438\\u0447\\u0435\\u0441\\u0442\\u0432\\u043e\": 170}, {\"mb_used_counted\": 182.0, \"\\u041a\\u043e\\u043b\\u0438\\u0447\\u0435\\u0441\\u0442\\u0432\\u043e\": 166}, {\"mb_used_counted\": 183.0, \"\\u041a\\u043e\\u043b\\u0438\\u0447\\u0435\\u0441\\u0442\\u0432\\u043e\": 157}, {\"mb_used_counted\": 184.0, \"\\u041a\\u043e\\u043b\\u0438\\u0447\\u0435\\u0441\\u0442\\u0432\\u043e\": 165}, {\"mb_used_counted\": 185.0, \"\\u041a\\u043e\\u043b\\u0438\\u0447\\u0435\\u0441\\u0442\\u0432\\u043e\": 165}, {\"mb_used_counted\": 186.0, \"\\u041a\\u043e\\u043b\\u0438\\u0447\\u0435\\u0441\\u0442\\u0432\\u043e\": 170}, {\"mb_used_counted\": 187.0, \"\\u041a\\u043e\\u043b\\u0438\\u0447\\u0435\\u0441\\u0442\\u0432\\u043e\": 171}, {\"mb_used_counted\": 188.0, \"\\u041a\\u043e\\u043b\\u0438\\u0447\\u0435\\u0441\\u0442\\u0432\\u043e\": 144}, {\"mb_used_counted\": 189.0, \"\\u041a\\u043e\\u043b\\u0438\\u0447\\u0435\\u0441\\u0442\\u0432\\u043e\": 159}, {\"mb_used_counted\": 190.0, \"\\u041a\\u043e\\u043b\\u0438\\u0447\\u0435\\u0441\\u0442\\u0432\\u043e\": 166}, {\"mb_used_counted\": 191.0, \"\\u041a\\u043e\\u043b\\u0438\\u0447\\u0435\\u0441\\u0442\\u0432\\u043e\": 175}, {\"mb_used_counted\": 192.0, \"\\u041a\\u043e\\u043b\\u0438\\u0447\\u0435\\u0441\\u0442\\u0432\\u043e\": 155}, {\"mb_used_counted\": 193.0, \"\\u041a\\u043e\\u043b\\u0438\\u0447\\u0435\\u0441\\u0442\\u0432\\u043e\": 176}, {\"mb_used_counted\": 194.0, \"\\u041a\\u043e\\u043b\\u0438\\u0447\\u0435\\u0441\\u0442\\u0432\\u043e\": 138}, {\"mb_used_counted\": 195.0, \"\\u041a\\u043e\\u043b\\u0438\\u0447\\u0435\\u0441\\u0442\\u0432\\u043e\": 189}, {\"mb_used_counted\": 196.0, \"\\u041a\\u043e\\u043b\\u0438\\u0447\\u0435\\u0441\\u0442\\u0432\\u043e\": 167}, {\"mb_used_counted\": 197.0, \"\\u041a\\u043e\\u043b\\u0438\\u0447\\u0435\\u0441\\u0442\\u0432\\u043e\": 156}, {\"mb_used_counted\": 198.0, \"\\u041a\\u043e\\u043b\\u0438\\u0447\\u0435\\u0441\\u0442\\u0432\\u043e\": 181}, {\"mb_used_counted\": 199.0, \"\\u041a\\u043e\\u043b\\u0438\\u0447\\u0435\\u0441\\u0442\\u0432\\u043e\": 152}, {\"mb_used_counted\": 200.0, \"\\u041a\\u043e\\u043b\\u0438\\u0447\\u0435\\u0441\\u0442\\u0432\\u043e\": 165}, {\"mb_used_counted\": 201.0, \"\\u041a\\u043e\\u043b\\u0438\\u0447\\u0435\\u0441\\u0442\\u0432\\u043e\": 155}, {\"mb_used_counted\": 202.0, \"\\u041a\\u043e\\u043b\\u0438\\u0447\\u0435\\u0441\\u0442\\u0432\\u043e\": 167}, {\"mb_used_counted\": 203.0, \"\\u041a\\u043e\\u043b\\u0438\\u0447\\u0435\\u0441\\u0442\\u0432\\u043e\": 164}, {\"mb_used_counted\": 204.0, \"\\u041a\\u043e\\u043b\\u0438\\u0447\\u0435\\u0441\\u0442\\u0432\\u043e\": 172}, {\"mb_used_counted\": 205.0, \"\\u041a\\u043e\\u043b\\u0438\\u0447\\u0435\\u0441\\u0442\\u0432\\u043e\": 191}, {\"mb_used_counted\": 206.0, \"\\u041a\\u043e\\u043b\\u0438\\u0447\\u0435\\u0441\\u0442\\u0432\\u043e\": 173}, {\"mb_used_counted\": 207.0, \"\\u041a\\u043e\\u043b\\u0438\\u0447\\u0435\\u0441\\u0442\\u0432\\u043e\": 167}, {\"mb_used_counted\": 208.0, \"\\u041a\\u043e\\u043b\\u0438\\u0447\\u0435\\u0441\\u0442\\u0432\\u043e\": 147}, {\"mb_used_counted\": 209.0, \"\\u041a\\u043e\\u043b\\u0438\\u0447\\u0435\\u0441\\u0442\\u0432\\u043e\": 180}, {\"mb_used_counted\": 210.0, \"\\u041a\\u043e\\u043b\\u0438\\u0447\\u0435\\u0441\\u0442\\u0432\\u043e\": 188}, {\"mb_used_counted\": 211.0, \"\\u041a\\u043e\\u043b\\u0438\\u0447\\u0435\\u0441\\u0442\\u0432\\u043e\": 171}, {\"mb_used_counted\": 212.0, \"\\u041a\\u043e\\u043b\\u0438\\u0447\\u0435\\u0441\\u0442\\u0432\\u043e\": 166}, {\"mb_used_counted\": 213.0, \"\\u041a\\u043e\\u043b\\u0438\\u0447\\u0435\\u0441\\u0442\\u0432\\u043e\": 193}, {\"mb_used_counted\": 214.0, \"\\u041a\\u043e\\u043b\\u0438\\u0447\\u0435\\u0441\\u0442\\u0432\\u043e\": 187}, {\"mb_used_counted\": 215.0, \"\\u041a\\u043e\\u043b\\u0438\\u0447\\u0435\\u0441\\u0442\\u0432\\u043e\": 174}, {\"mb_used_counted\": 216.0, \"\\u041a\\u043e\\u043b\\u0438\\u0447\\u0435\\u0441\\u0442\\u0432\\u043e\": 174}, {\"mb_used_counted\": 217.0, \"\\u041a\\u043e\\u043b\\u0438\\u0447\\u0435\\u0441\\u0442\\u0432\\u043e\": 181}, {\"mb_used_counted\": 218.0, \"\\u041a\\u043e\\u043b\\u0438\\u0447\\u0435\\u0441\\u0442\\u0432\\u043e\": 181}, {\"mb_used_counted\": 219.0, \"\\u041a\\u043e\\u043b\\u0438\\u0447\\u0435\\u0441\\u0442\\u0432\\u043e\": 190}, {\"mb_used_counted\": 220.0, \"\\u041a\\u043e\\u043b\\u0438\\u0447\\u0435\\u0441\\u0442\\u0432\\u043e\": 180}, {\"mb_used_counted\": 221.0, \"\\u041a\\u043e\\u043b\\u0438\\u0447\\u0435\\u0441\\u0442\\u0432\\u043e\": 193}, {\"mb_used_counted\": 222.0, \"\\u041a\\u043e\\u043b\\u0438\\u0447\\u0435\\u0441\\u0442\\u0432\\u043e\": 199}, {\"mb_used_counted\": 223.0, \"\\u041a\\u043e\\u043b\\u0438\\u0447\\u0435\\u0441\\u0442\\u0432\\u043e\": 171}, {\"mb_used_counted\": 224.0, \"\\u041a\\u043e\\u043b\\u0438\\u0447\\u0435\\u0441\\u0442\\u0432\\u043e\": 202}, {\"mb_used_counted\": 225.0, \"\\u041a\\u043e\\u043b\\u0438\\u0447\\u0435\\u0441\\u0442\\u0432\\u043e\": 174}, {\"mb_used_counted\": 226.0, \"\\u041a\\u043e\\u043b\\u0438\\u0447\\u0435\\u0441\\u0442\\u0432\\u043e\": 177}, {\"mb_used_counted\": 227.0, \"\\u041a\\u043e\\u043b\\u0438\\u0447\\u0435\\u0441\\u0442\\u0432\\u043e\": 169}, {\"mb_used_counted\": 228.0, \"\\u041a\\u043e\\u043b\\u0438\\u0447\\u0435\\u0441\\u0442\\u0432\\u043e\": 172}, {\"mb_used_counted\": 229.0, \"\\u041a\\u043e\\u043b\\u0438\\u0447\\u0435\\u0441\\u0442\\u0432\\u043e\": 189}, {\"mb_used_counted\": 230.0, \"\\u041a\\u043e\\u043b\\u0438\\u0447\\u0435\\u0441\\u0442\\u0432\\u043e\": 141}, {\"mb_used_counted\": 231.0, \"\\u041a\\u043e\\u043b\\u0438\\u0447\\u0435\\u0441\\u0442\\u0432\\u043e\": 179}, {\"mb_used_counted\": 232.0, \"\\u041a\\u043e\\u043b\\u0438\\u0447\\u0435\\u0441\\u0442\\u0432\\u043e\": 180}, {\"mb_used_counted\": 233.0, \"\\u041a\\u043e\\u043b\\u0438\\u0447\\u0435\\u0441\\u0442\\u0432\\u043e\": 181}, {\"mb_used_counted\": 234.0, \"\\u041a\\u043e\\u043b\\u0438\\u0447\\u0435\\u0441\\u0442\\u0432\\u043e\": 167}, {\"mb_used_counted\": 235.0, \"\\u041a\\u043e\\u043b\\u0438\\u0447\\u0435\\u0441\\u0442\\u0432\\u043e\": 175}, {\"mb_used_counted\": 236.0, \"\\u041a\\u043e\\u043b\\u0438\\u0447\\u0435\\u0441\\u0442\\u0432\\u043e\": 171}, {\"mb_used_counted\": 237.0, \"\\u041a\\u043e\\u043b\\u0438\\u0447\\u0435\\u0441\\u0442\\u0432\\u043e\": 157}, {\"mb_used_counted\": 238.0, \"\\u041a\\u043e\\u043b\\u0438\\u0447\\u0435\\u0441\\u0442\\u0432\\u043e\": 179}, {\"mb_used_counted\": 239.0, \"\\u041a\\u043e\\u043b\\u0438\\u0447\\u0435\\u0441\\u0442\\u0432\\u043e\": 174}, {\"mb_used_counted\": 240.0, \"\\u041a\\u043e\\u043b\\u0438\\u0447\\u0435\\u0441\\u0442\\u0432\\u043e\": 171}, {\"mb_used_counted\": 241.0, \"\\u041a\\u043e\\u043b\\u0438\\u0447\\u0435\\u0441\\u0442\\u0432\\u043e\": 197}, {\"mb_used_counted\": 242.0, \"\\u041a\\u043e\\u043b\\u0438\\u0447\\u0435\\u0441\\u0442\\u0432\\u043e\": 185}, {\"mb_used_counted\": 243.0, \"\\u041a\\u043e\\u043b\\u0438\\u0447\\u0435\\u0441\\u0442\\u0432\\u043e\": 164}, {\"mb_used_counted\": 244.0, \"\\u041a\\u043e\\u043b\\u0438\\u0447\\u0435\\u0441\\u0442\\u0432\\u043e\": 188}, {\"mb_used_counted\": 245.0, \"\\u041a\\u043e\\u043b\\u0438\\u0447\\u0435\\u0441\\u0442\\u0432\\u043e\": 187}, {\"mb_used_counted\": 246.0, \"\\u041a\\u043e\\u043b\\u0438\\u0447\\u0435\\u0441\\u0442\\u0432\\u043e\": 191}, {\"mb_used_counted\": 247.0, \"\\u041a\\u043e\\u043b\\u0438\\u0447\\u0435\\u0441\\u0442\\u0432\\u043e\": 159}, {\"mb_used_counted\": 248.0, \"\\u041a\\u043e\\u043b\\u0438\\u0447\\u0435\\u0441\\u0442\\u0432\\u043e\": 203}, {\"mb_used_counted\": 249.0, \"\\u041a\\u043e\\u043b\\u0438\\u0447\\u0435\\u0441\\u0442\\u0432\\u043e\": 170}, {\"mb_used_counted\": 250.0, \"\\u041a\\u043e\\u043b\\u0438\\u0447\\u0435\\u0441\\u0442\\u0432\\u043e\": 157}, {\"mb_used_counted\": 251.0, \"\\u041a\\u043e\\u043b\\u0438\\u0447\\u0435\\u0441\\u0442\\u0432\\u043e\": 185}, {\"mb_used_counted\": 252.0, \"\\u041a\\u043e\\u043b\\u0438\\u0447\\u0435\\u0441\\u0442\\u0432\\u043e\": 198}, {\"mb_used_counted\": 253.0, \"\\u041a\\u043e\\u043b\\u0438\\u0447\\u0435\\u0441\\u0442\\u0432\\u043e\": 222}, {\"mb_used_counted\": 254.0, \"\\u041a\\u043e\\u043b\\u0438\\u0447\\u0435\\u0441\\u0442\\u0432\\u043e\": 208}, {\"mb_used_counted\": 255.0, \"\\u041a\\u043e\\u043b\\u0438\\u0447\\u0435\\u0441\\u0442\\u0432\\u043e\": 177}, {\"mb_used_counted\": 256.0, \"\\u041a\\u043e\\u043b\\u0438\\u0447\\u0435\\u0441\\u0442\\u0432\\u043e\": 176}, {\"mb_used_counted\": 257.0, \"\\u041a\\u043e\\u043b\\u0438\\u0447\\u0435\\u0441\\u0442\\u0432\\u043e\": 172}, {\"mb_used_counted\": 258.0, \"\\u041a\\u043e\\u043b\\u0438\\u0447\\u0435\\u0441\\u0442\\u0432\\u043e\": 183}, {\"mb_used_counted\": 259.0, \"\\u041a\\u043e\\u043b\\u0438\\u0447\\u0435\\u0441\\u0442\\u0432\\u043e\": 183}, {\"mb_used_counted\": 260.0, \"\\u041a\\u043e\\u043b\\u0438\\u0447\\u0435\\u0441\\u0442\\u0432\\u043e\": 183}, {\"mb_used_counted\": 261.0, \"\\u041a\\u043e\\u043b\\u0438\\u0447\\u0435\\u0441\\u0442\\u0432\\u043e\": 173}, {\"mb_used_counted\": 262.0, \"\\u041a\\u043e\\u043b\\u0438\\u0447\\u0435\\u0441\\u0442\\u0432\\u043e\": 177}, {\"mb_used_counted\": 263.0, \"\\u041a\\u043e\\u043b\\u0438\\u0447\\u0435\\u0441\\u0442\\u0432\\u043e\": 178}, {\"mb_used_counted\": 264.0, \"\\u041a\\u043e\\u043b\\u0438\\u0447\\u0435\\u0441\\u0442\\u0432\\u043e\": 186}, {\"mb_used_counted\": 265.0, \"\\u041a\\u043e\\u043b\\u0438\\u0447\\u0435\\u0441\\u0442\\u0432\\u043e\": 198}, {\"mb_used_counted\": 266.0, \"\\u041a\\u043e\\u043b\\u0438\\u0447\\u0435\\u0441\\u0442\\u0432\\u043e\": 186}, {\"mb_used_counted\": 267.0, \"\\u041a\\u043e\\u043b\\u0438\\u0447\\u0435\\u0441\\u0442\\u0432\\u043e\": 203}, {\"mb_used_counted\": 268.0, \"\\u041a\\u043e\\u043b\\u0438\\u0447\\u0435\\u0441\\u0442\\u0432\\u043e\": 168}, {\"mb_used_counted\": 269.0, \"\\u041a\\u043e\\u043b\\u0438\\u0447\\u0435\\u0441\\u0442\\u0432\\u043e\": 192}, {\"mb_used_counted\": 270.0, \"\\u041a\\u043e\\u043b\\u0438\\u0447\\u0435\\u0441\\u0442\\u0432\\u043e\": 205}, {\"mb_used_counted\": 271.0, \"\\u041a\\u043e\\u043b\\u0438\\u0447\\u0435\\u0441\\u0442\\u0432\\u043e\": 173}, {\"mb_used_counted\": 272.0, \"\\u041a\\u043e\\u043b\\u0438\\u0447\\u0435\\u0441\\u0442\\u0432\\u043e\": 179}, {\"mb_used_counted\": 273.0, \"\\u041a\\u043e\\u043b\\u0438\\u0447\\u0435\\u0441\\u0442\\u0432\\u043e\": 211}, {\"mb_used_counted\": 274.0, \"\\u041a\\u043e\\u043b\\u0438\\u0447\\u0435\\u0441\\u0442\\u0432\\u043e\": 209}, {\"mb_used_counted\": 275.0, \"\\u041a\\u043e\\u043b\\u0438\\u0447\\u0435\\u0441\\u0442\\u0432\\u043e\": 195}, {\"mb_used_counted\": 276.0, \"\\u041a\\u043e\\u043b\\u0438\\u0447\\u0435\\u0441\\u0442\\u0432\\u043e\": 175}, {\"mb_used_counted\": 277.0, \"\\u041a\\u043e\\u043b\\u0438\\u0447\\u0435\\u0441\\u0442\\u0432\\u043e\": 197}, {\"mb_used_counted\": 278.0, \"\\u041a\\u043e\\u043b\\u0438\\u0447\\u0435\\u0441\\u0442\\u0432\\u043e\": 194}, {\"mb_used_counted\": 279.0, \"\\u041a\\u043e\\u043b\\u0438\\u0447\\u0435\\u0441\\u0442\\u0432\\u043e\": 192}, {\"mb_used_counted\": 280.0, \"\\u041a\\u043e\\u043b\\u0438\\u0447\\u0435\\u0441\\u0442\\u0432\\u043e\": 186}, {\"mb_used_counted\": 281.0, \"\\u041a\\u043e\\u043b\\u0438\\u0447\\u0435\\u0441\\u0442\\u0432\\u043e\": 180}, {\"mb_used_counted\": 282.0, \"\\u041a\\u043e\\u043b\\u0438\\u0447\\u0435\\u0441\\u0442\\u0432\\u043e\": 196}, {\"mb_used_counted\": 283.0, \"\\u041a\\u043e\\u043b\\u0438\\u0447\\u0435\\u0441\\u0442\\u0432\\u043e\": 172}, {\"mb_used_counted\": 284.0, \"\\u041a\\u043e\\u043b\\u0438\\u0447\\u0435\\u0441\\u0442\\u0432\\u043e\": 168}, {\"mb_used_counted\": 285.0, \"\\u041a\\u043e\\u043b\\u0438\\u0447\\u0435\\u0441\\u0442\\u0432\\u043e\": 194}, {\"mb_used_counted\": 286.0, \"\\u041a\\u043e\\u043b\\u0438\\u0447\\u0435\\u0441\\u0442\\u0432\\u043e\": 202}, {\"mb_used_counted\": 287.0, \"\\u041a\\u043e\\u043b\\u0438\\u0447\\u0435\\u0441\\u0442\\u0432\\u043e\": 188}, {\"mb_used_counted\": 288.0, \"\\u041a\\u043e\\u043b\\u0438\\u0447\\u0435\\u0441\\u0442\\u0432\\u043e\": 192}, {\"mb_used_counted\": 289.0, \"\\u041a\\u043e\\u043b\\u0438\\u0447\\u0435\\u0441\\u0442\\u0432\\u043e\": 194}, {\"mb_used_counted\": 290.0, \"\\u041a\\u043e\\u043b\\u0438\\u0447\\u0435\\u0441\\u0442\\u0432\\u043e\": 160}, {\"mb_used_counted\": 291.0, \"\\u041a\\u043e\\u043b\\u0438\\u0447\\u0435\\u0441\\u0442\\u0432\\u043e\": 174}, {\"mb_used_counted\": 292.0, \"\\u041a\\u043e\\u043b\\u0438\\u0447\\u0435\\u0441\\u0442\\u0432\\u043e\": 211}, {\"mb_used_counted\": 293.0, \"\\u041a\\u043e\\u043b\\u0438\\u0447\\u0435\\u0441\\u0442\\u0432\\u043e\": 194}, {\"mb_used_counted\": 294.0, \"\\u041a\\u043e\\u043b\\u0438\\u0447\\u0435\\u0441\\u0442\\u0432\\u043e\": 188}, {\"mb_used_counted\": 295.0, \"\\u041a\\u043e\\u043b\\u0438\\u0447\\u0435\\u0441\\u0442\\u0432\\u043e\": 162}, {\"mb_used_counted\": 296.0, \"\\u041a\\u043e\\u043b\\u0438\\u0447\\u0435\\u0441\\u0442\\u0432\\u043e\": 197}, {\"mb_used_counted\": 297.0, \"\\u041a\\u043e\\u043b\\u0438\\u0447\\u0435\\u0441\\u0442\\u0432\\u043e\": 190}, {\"mb_used_counted\": 298.0, \"\\u041a\\u043e\\u043b\\u0438\\u0447\\u0435\\u0441\\u0442\\u0432\\u043e\": 196}, {\"mb_used_counted\": 299.0, \"\\u041a\\u043e\\u043b\\u0438\\u0447\\u0435\\u0441\\u0442\\u0432\\u043e\": 191}, {\"mb_used_counted\": 300.0, \"\\u041a\\u043e\\u043b\\u0438\\u0447\\u0435\\u0441\\u0442\\u0432\\u043e\": 195}, {\"mb_used_counted\": 301.0, \"\\u041a\\u043e\\u043b\\u0438\\u0447\\u0435\\u0441\\u0442\\u0432\\u043e\": 202}, {\"mb_used_counted\": 302.0, \"\\u041a\\u043e\\u043b\\u0438\\u0447\\u0435\\u0441\\u0442\\u0432\\u043e\": 195}, {\"mb_used_counted\": 303.0, \"\\u041a\\u043e\\u043b\\u0438\\u0447\\u0435\\u0441\\u0442\\u0432\\u043e\": 197}, {\"mb_used_counted\": 304.0, \"\\u041a\\u043e\\u043b\\u0438\\u0447\\u0435\\u0441\\u0442\\u0432\\u043e\": 195}, {\"mb_used_counted\": 305.0, \"\\u041a\\u043e\\u043b\\u0438\\u0447\\u0435\\u0441\\u0442\\u0432\\u043e\": 195}, {\"mb_used_counted\": 306.0, \"\\u041a\\u043e\\u043b\\u0438\\u0447\\u0435\\u0441\\u0442\\u0432\\u043e\": 191}, {\"mb_used_counted\": 307.0, \"\\u041a\\u043e\\u043b\\u0438\\u0447\\u0435\\u0441\\u0442\\u0432\\u043e\": 186}, {\"mb_used_counted\": 308.0, \"\\u041a\\u043e\\u043b\\u0438\\u0447\\u0435\\u0441\\u0442\\u0432\\u043e\": 188}, {\"mb_used_counted\": 309.0, \"\\u041a\\u043e\\u043b\\u0438\\u0447\\u0435\\u0441\\u0442\\u0432\\u043e\": 193}, {\"mb_used_counted\": 310.0, \"\\u041a\\u043e\\u043b\\u0438\\u0447\\u0435\\u0441\\u0442\\u0432\\u043e\": 181}, {\"mb_used_counted\": 311.0, \"\\u041a\\u043e\\u043b\\u0438\\u0447\\u0435\\u0441\\u0442\\u0432\\u043e\": 192}, {\"mb_used_counted\": 312.0, \"\\u041a\\u043e\\u043b\\u0438\\u0447\\u0435\\u0441\\u0442\\u0432\\u043e\": 197}, {\"mb_used_counted\": 313.0, \"\\u041a\\u043e\\u043b\\u0438\\u0447\\u0435\\u0441\\u0442\\u0432\\u043e\": 198}, {\"mb_used_counted\": 314.0, \"\\u041a\\u043e\\u043b\\u0438\\u0447\\u0435\\u0441\\u0442\\u0432\\u043e\": 181}, {\"mb_used_counted\": 315.0, \"\\u041a\\u043e\\u043b\\u0438\\u0447\\u0435\\u0441\\u0442\\u0432\\u043e\": 194}, {\"mb_used_counted\": 316.0, \"\\u041a\\u043e\\u043b\\u0438\\u0447\\u0435\\u0441\\u0442\\u0432\\u043e\": 183}, {\"mb_used_counted\": 317.0, \"\\u041a\\u043e\\u043b\\u0438\\u0447\\u0435\\u0441\\u0442\\u0432\\u043e\": 195}, {\"mb_used_counted\": 318.0, \"\\u041a\\u043e\\u043b\\u0438\\u0447\\u0435\\u0441\\u0442\\u0432\\u043e\": 180}, {\"mb_used_counted\": 319.0, \"\\u041a\\u043e\\u043b\\u0438\\u0447\\u0435\\u0441\\u0442\\u0432\\u043e\": 190}, {\"mb_used_counted\": 320.0, \"\\u041a\\u043e\\u043b\\u0438\\u0447\\u0435\\u0441\\u0442\\u0432\\u043e\": 192}, {\"mb_used_counted\": 321.0, \"\\u041a\\u043e\\u043b\\u0438\\u0447\\u0435\\u0441\\u0442\\u0432\\u043e\": 201}, {\"mb_used_counted\": 322.0, \"\\u041a\\u043e\\u043b\\u0438\\u0447\\u0435\\u0441\\u0442\\u0432\\u043e\": 186}, {\"mb_used_counted\": 323.0, \"\\u041a\\u043e\\u043b\\u0438\\u0447\\u0435\\u0441\\u0442\\u0432\\u043e\": 208}, {\"mb_used_counted\": 324.0, \"\\u041a\\u043e\\u043b\\u0438\\u0447\\u0435\\u0441\\u0442\\u0432\\u043e\": 178}, {\"mb_used_counted\": 325.0, \"\\u041a\\u043e\\u043b\\u0438\\u0447\\u0435\\u0441\\u0442\\u0432\\u043e\": 210}, {\"mb_used_counted\": 326.0, \"\\u041a\\u043e\\u043b\\u0438\\u0447\\u0435\\u0441\\u0442\\u0432\\u043e\": 196}, {\"mb_used_counted\": 327.0, \"\\u041a\\u043e\\u043b\\u0438\\u0447\\u0435\\u0441\\u0442\\u0432\\u043e\": 206}, {\"mb_used_counted\": 328.0, \"\\u041a\\u043e\\u043b\\u0438\\u0447\\u0435\\u0441\\u0442\\u0432\\u043e\": 182}, {\"mb_used_counted\": 329.0, \"\\u041a\\u043e\\u043b\\u0438\\u0447\\u0435\\u0441\\u0442\\u0432\\u043e\": 180}, {\"mb_used_counted\": 330.0, \"\\u041a\\u043e\\u043b\\u0438\\u0447\\u0435\\u0441\\u0442\\u0432\\u043e\": 209}, {\"mb_used_counted\": 331.0, \"\\u041a\\u043e\\u043b\\u0438\\u0447\\u0435\\u0441\\u0442\\u0432\\u043e\": 200}, {\"mb_used_counted\": 332.0, \"\\u041a\\u043e\\u043b\\u0438\\u0447\\u0435\\u0441\\u0442\\u0432\\u043e\": 175}, {\"mb_used_counted\": 333.0, \"\\u041a\\u043e\\u043b\\u0438\\u0447\\u0435\\u0441\\u0442\\u0432\\u043e\": 231}, {\"mb_used_counted\": 334.0, \"\\u041a\\u043e\\u043b\\u0438\\u0447\\u0435\\u0441\\u0442\\u0432\\u043e\": 222}, {\"mb_used_counted\": 335.0, \"\\u041a\\u043e\\u043b\\u0438\\u0447\\u0435\\u0441\\u0442\\u0432\\u043e\": 192}, {\"mb_used_counted\": 336.0, \"\\u041a\\u043e\\u043b\\u0438\\u0447\\u0435\\u0441\\u0442\\u0432\\u043e\": 205}, {\"mb_used_counted\": 337.0, \"\\u041a\\u043e\\u043b\\u0438\\u0447\\u0435\\u0441\\u0442\\u0432\\u043e\": 191}, {\"mb_used_counted\": 338.0, \"\\u041a\\u043e\\u043b\\u0438\\u0447\\u0435\\u0441\\u0442\\u0432\\u043e\": 178}, {\"mb_used_counted\": 339.0, \"\\u041a\\u043e\\u043b\\u0438\\u0447\\u0435\\u0441\\u0442\\u0432\\u043e\": 209}, {\"mb_used_counted\": 340.0, \"\\u041a\\u043e\\u043b\\u0438\\u0447\\u0435\\u0441\\u0442\\u0432\\u043e\": 192}, {\"mb_used_counted\": 341.0, \"\\u041a\\u043e\\u043b\\u0438\\u0447\\u0435\\u0441\\u0442\\u0432\\u043e\": 172}, {\"mb_used_counted\": 342.0, \"\\u041a\\u043e\\u043b\\u0438\\u0447\\u0435\\u0441\\u0442\\u0432\\u043e\": 178}, {\"mb_used_counted\": 343.0, \"\\u041a\\u043e\\u043b\\u0438\\u0447\\u0435\\u0441\\u0442\\u0432\\u043e\": 207}, {\"mb_used_counted\": 344.0, \"\\u041a\\u043e\\u043b\\u0438\\u0447\\u0435\\u0441\\u0442\\u0432\\u043e\": 181}, {\"mb_used_counted\": 345.0, \"\\u041a\\u043e\\u043b\\u0438\\u0447\\u0435\\u0441\\u0442\\u0432\\u043e\": 187}, {\"mb_used_counted\": 346.0, \"\\u041a\\u043e\\u043b\\u0438\\u0447\\u0435\\u0441\\u0442\\u0432\\u043e\": 197}, {\"mb_used_counted\": 347.0, \"\\u041a\\u043e\\u043b\\u0438\\u0447\\u0435\\u0441\\u0442\\u0432\\u043e\": 188}, {\"mb_used_counted\": 348.0, \"\\u041a\\u043e\\u043b\\u0438\\u0447\\u0435\\u0441\\u0442\\u0432\\u043e\": 205}, {\"mb_used_counted\": 349.0, \"\\u041a\\u043e\\u043b\\u0438\\u0447\\u0435\\u0441\\u0442\\u0432\\u043e\": 193}, {\"mb_used_counted\": 350.0, \"\\u041a\\u043e\\u043b\\u0438\\u0447\\u0435\\u0441\\u0442\\u0432\\u043e\": 191}, {\"mb_used_counted\": 351.0, \"\\u041a\\u043e\\u043b\\u0438\\u0447\\u0435\\u0441\\u0442\\u0432\\u043e\": 185}, {\"mb_used_counted\": 352.0, \"\\u041a\\u043e\\u043b\\u0438\\u0447\\u0435\\u0441\\u0442\\u0432\\u043e\": 185}, {\"mb_used_counted\": 353.0, \"\\u041a\\u043e\\u043b\\u0438\\u0447\\u0435\\u0441\\u0442\\u0432\\u043e\": 190}, {\"mb_used_counted\": 354.0, \"\\u041a\\u043e\\u043b\\u0438\\u0447\\u0435\\u0441\\u0442\\u0432\\u043e\": 192}, {\"mb_used_counted\": 355.0, \"\\u041a\\u043e\\u043b\\u0438\\u0447\\u0435\\u0441\\u0442\\u0432\\u043e\": 202}, {\"mb_used_counted\": 356.0, \"\\u041a\\u043e\\u043b\\u0438\\u0447\\u0435\\u0441\\u0442\\u0432\\u043e\": 161}, {\"mb_used_counted\": 357.0, \"\\u041a\\u043e\\u043b\\u0438\\u0447\\u0435\\u0441\\u0442\\u0432\\u043e\": 187}, {\"mb_used_counted\": 358.0, \"\\u041a\\u043e\\u043b\\u0438\\u0447\\u0435\\u0441\\u0442\\u0432\\u043e\": 181}, {\"mb_used_counted\": 359.0, \"\\u041a\\u043e\\u043b\\u0438\\u0447\\u0435\\u0441\\u0442\\u0432\\u043e\": 205}, {\"mb_used_counted\": 360.0, \"\\u041a\\u043e\\u043b\\u0438\\u0447\\u0435\\u0441\\u0442\\u0432\\u043e\": 196}, {\"mb_used_counted\": 361.0, \"\\u041a\\u043e\\u043b\\u0438\\u0447\\u0435\\u0441\\u0442\\u0432\\u043e\": 191}, {\"mb_used_counted\": 362.0, \"\\u041a\\u043e\\u043b\\u0438\\u0447\\u0435\\u0441\\u0442\\u0432\\u043e\": 160}, {\"mb_used_counted\": 363.0, \"\\u041a\\u043e\\u043b\\u0438\\u0447\\u0435\\u0441\\u0442\\u0432\\u043e\": 195}, {\"mb_used_counted\": 364.0, \"\\u041a\\u043e\\u043b\\u0438\\u0447\\u0435\\u0441\\u0442\\u0432\\u043e\": 183}, {\"mb_used_counted\": 365.0, \"\\u041a\\u043e\\u043b\\u0438\\u0447\\u0435\\u0441\\u0442\\u0432\\u043e\": 194}, {\"mb_used_counted\": 366.0, \"\\u041a\\u043e\\u043b\\u0438\\u0447\\u0435\\u0441\\u0442\\u0432\\u043e\": 195}, {\"mb_used_counted\": 367.0, \"\\u041a\\u043e\\u043b\\u0438\\u0447\\u0435\\u0441\\u0442\\u0432\\u043e\": 221}, {\"mb_used_counted\": 368.0, \"\\u041a\\u043e\\u043b\\u0438\\u0447\\u0435\\u0441\\u0442\\u0432\\u043e\": 172}, {\"mb_used_counted\": 369.0, \"\\u041a\\u043e\\u043b\\u0438\\u0447\\u0435\\u0441\\u0442\\u0432\\u043e\": 182}, {\"mb_used_counted\": 370.0, \"\\u041a\\u043e\\u043b\\u0438\\u0447\\u0435\\u0441\\u0442\\u0432\\u043e\": 185}, {\"mb_used_counted\": 371.0, \"\\u041a\\u043e\\u043b\\u0438\\u0447\\u0435\\u0441\\u0442\\u0432\\u043e\": 165}, {\"mb_used_counted\": 372.0, \"\\u041a\\u043e\\u043b\\u0438\\u0447\\u0435\\u0441\\u0442\\u0432\\u043e\": 189}, {\"mb_used_counted\": 373.0, \"\\u041a\\u043e\\u043b\\u0438\\u0447\\u0435\\u0441\\u0442\\u0432\\u043e\": 173}, {\"mb_used_counted\": 374.0, \"\\u041a\\u043e\\u043b\\u0438\\u0447\\u0435\\u0441\\u0442\\u0432\\u043e\": 213}, {\"mb_used_counted\": 375.0, \"\\u041a\\u043e\\u043b\\u0438\\u0447\\u0435\\u0441\\u0442\\u0432\\u043e\": 165}, {\"mb_used_counted\": 376.0, \"\\u041a\\u043e\\u043b\\u0438\\u0447\\u0435\\u0441\\u0442\\u0432\\u043e\": 162}, {\"mb_used_counted\": 377.0, \"\\u041a\\u043e\\u043b\\u0438\\u0447\\u0435\\u0441\\u0442\\u0432\\u043e\": 224}, {\"mb_used_counted\": 378.0, \"\\u041a\\u043e\\u043b\\u0438\\u0447\\u0435\\u0441\\u0442\\u0432\\u043e\": 190}, {\"mb_used_counted\": 379.0, \"\\u041a\\u043e\\u043b\\u0438\\u0447\\u0435\\u0441\\u0442\\u0432\\u043e\": 160}, {\"mb_used_counted\": 380.0, \"\\u041a\\u043e\\u043b\\u0438\\u0447\\u0435\\u0441\\u0442\\u0432\\u043e\": 199}, {\"mb_used_counted\": 381.0, \"\\u041a\\u043e\\u043b\\u0438\\u0447\\u0435\\u0441\\u0442\\u0432\\u043e\": 202}, {\"mb_used_counted\": 382.0, \"\\u041a\\u043e\\u043b\\u0438\\u0447\\u0435\\u0441\\u0442\\u0432\\u043e\": 228}, {\"mb_used_counted\": 383.0, \"\\u041a\\u043e\\u043b\\u0438\\u0447\\u0435\\u0441\\u0442\\u0432\\u043e\": 190}, {\"mb_used_counted\": 384.0, \"\\u041a\\u043e\\u043b\\u0438\\u0447\\u0435\\u0441\\u0442\\u0432\\u043e\": 176}, {\"mb_used_counted\": 385.0, \"\\u041a\\u043e\\u043b\\u0438\\u0447\\u0435\\u0441\\u0442\\u0432\\u043e\": 176}, {\"mb_used_counted\": 386.0, \"\\u041a\\u043e\\u043b\\u0438\\u0447\\u0435\\u0441\\u0442\\u0432\\u043e\": 179}, {\"mb_used_counted\": 387.0, \"\\u041a\\u043e\\u043b\\u0438\\u0447\\u0435\\u0441\\u0442\\u0432\\u043e\": 148}, {\"mb_used_counted\": 388.0, \"\\u041a\\u043e\\u043b\\u0438\\u0447\\u0435\\u0441\\u0442\\u0432\\u043e\": 199}, {\"mb_used_counted\": 389.0, \"\\u041a\\u043e\\u043b\\u0438\\u0447\\u0435\\u0441\\u0442\\u0432\\u043e\": 171}, {\"mb_used_counted\": 390.0, \"\\u041a\\u043e\\u043b\\u0438\\u0447\\u0435\\u0441\\u0442\\u0432\\u043e\": 197}, {\"mb_used_counted\": 391.0, \"\\u041a\\u043e\\u043b\\u0438\\u0447\\u0435\\u0441\\u0442\\u0432\\u043e\": 195}, {\"mb_used_counted\": 392.0, \"\\u041a\\u043e\\u043b\\u0438\\u0447\\u0435\\u0441\\u0442\\u0432\\u043e\": 184}, {\"mb_used_counted\": 393.0, \"\\u041a\\u043e\\u043b\\u0438\\u0447\\u0435\\u0441\\u0442\\u0432\\u043e\": 175}, {\"mb_used_counted\": 394.0, \"\\u041a\\u043e\\u043b\\u0438\\u0447\\u0435\\u0441\\u0442\\u0432\\u043e\": 195}, {\"mb_used_counted\": 395.0, \"\\u041a\\u043e\\u043b\\u0438\\u0447\\u0435\\u0441\\u0442\\u0432\\u043e\": 192}, {\"mb_used_counted\": 396.0, \"\\u041a\\u043e\\u043b\\u0438\\u0447\\u0435\\u0441\\u0442\\u0432\\u043e\": 153}, {\"mb_used_counted\": 397.0, \"\\u041a\\u043e\\u043b\\u0438\\u0447\\u0435\\u0441\\u0442\\u0432\\u043e\": 193}, {\"mb_used_counted\": 398.0, \"\\u041a\\u043e\\u043b\\u0438\\u0447\\u0435\\u0441\\u0442\\u0432\\u043e\": 199}, {\"mb_used_counted\": 399.0, \"\\u041a\\u043e\\u043b\\u0438\\u0447\\u0435\\u0441\\u0442\\u0432\\u043e\": 183}, {\"mb_used_counted\": 400.0, \"\\u041a\\u043e\\u043b\\u0438\\u0447\\u0435\\u0441\\u0442\\u0432\\u043e\": 191}, {\"mb_used_counted\": 401.0, \"\\u041a\\u043e\\u043b\\u0438\\u0447\\u0435\\u0441\\u0442\\u0432\\u043e\": 177}, {\"mb_used_counted\": 402.0, \"\\u041a\\u043e\\u043b\\u0438\\u0447\\u0435\\u0441\\u0442\\u0432\\u043e\": 206}, {\"mb_used_counted\": 403.0, \"\\u041a\\u043e\\u043b\\u0438\\u0447\\u0435\\u0441\\u0442\\u0432\\u043e\": 196}, {\"mb_used_counted\": 404.0, \"\\u041a\\u043e\\u043b\\u0438\\u0447\\u0435\\u0441\\u0442\\u0432\\u043e\": 189}, {\"mb_used_counted\": 405.0, \"\\u041a\\u043e\\u043b\\u0438\\u0447\\u0435\\u0441\\u0442\\u0432\\u043e\": 192}, {\"mb_used_counted\": 406.0, \"\\u041a\\u043e\\u043b\\u0438\\u0447\\u0435\\u0441\\u0442\\u0432\\u043e\": 200}, {\"mb_used_counted\": 407.0, \"\\u041a\\u043e\\u043b\\u0438\\u0447\\u0435\\u0441\\u0442\\u0432\\u043e\": 186}, {\"mb_used_counted\": 408.0, \"\\u041a\\u043e\\u043b\\u0438\\u0447\\u0435\\u0441\\u0442\\u0432\\u043e\": 199}, {\"mb_used_counted\": 409.0, \"\\u041a\\u043e\\u043b\\u0438\\u0447\\u0435\\u0441\\u0442\\u0432\\u043e\": 189}, {\"mb_used_counted\": 410.0, \"\\u041a\\u043e\\u043b\\u0438\\u0447\\u0435\\u0441\\u0442\\u0432\\u043e\": 195}, {\"mb_used_counted\": 411.0, \"\\u041a\\u043e\\u043b\\u0438\\u0447\\u0435\\u0441\\u0442\\u0432\\u043e\": 184}, {\"mb_used_counted\": 412.0, \"\\u041a\\u043e\\u043b\\u0438\\u0447\\u0435\\u0441\\u0442\\u0432\\u043e\": 204}, {\"mb_used_counted\": 413.0, \"\\u041a\\u043e\\u043b\\u0438\\u0447\\u0435\\u0441\\u0442\\u0432\\u043e\": 178}, {\"mb_used_counted\": 414.0, \"\\u041a\\u043e\\u043b\\u0438\\u0447\\u0435\\u0441\\u0442\\u0432\\u043e\": 205}, {\"mb_used_counted\": 415.0, \"\\u041a\\u043e\\u043b\\u0438\\u0447\\u0435\\u0441\\u0442\\u0432\\u043e\": 166}, {\"mb_used_counted\": 416.0, \"\\u041a\\u043e\\u043b\\u0438\\u0447\\u0435\\u0441\\u0442\\u0432\\u043e\": 190}, {\"mb_used_counted\": 417.0, \"\\u041a\\u043e\\u043b\\u0438\\u0447\\u0435\\u0441\\u0442\\u0432\\u043e\": 160}, {\"mb_used_counted\": 418.0, \"\\u041a\\u043e\\u043b\\u0438\\u0447\\u0435\\u0441\\u0442\\u0432\\u043e\": 188}, {\"mb_used_counted\": 419.0, \"\\u041a\\u043e\\u043b\\u0438\\u0447\\u0435\\u0441\\u0442\\u0432\\u043e\": 181}, {\"mb_used_counted\": 420.0, \"\\u041a\\u043e\\u043b\\u0438\\u0447\\u0435\\u0441\\u0442\\u0432\\u043e\": 190}, {\"mb_used_counted\": 421.0, \"\\u041a\\u043e\\u043b\\u0438\\u0447\\u0435\\u0441\\u0442\\u0432\\u043e\": 184}, {\"mb_used_counted\": 422.0, \"\\u041a\\u043e\\u043b\\u0438\\u0447\\u0435\\u0441\\u0442\\u0432\\u043e\": 179}, {\"mb_used_counted\": 423.0, \"\\u041a\\u043e\\u043b\\u0438\\u0447\\u0435\\u0441\\u0442\\u0432\\u043e\": 211}, {\"mb_used_counted\": 424.0, \"\\u041a\\u043e\\u043b\\u0438\\u0447\\u0435\\u0441\\u0442\\u0432\\u043e\": 183}, {\"mb_used_counted\": 425.0, \"\\u041a\\u043e\\u043b\\u0438\\u0447\\u0435\\u0441\\u0442\\u0432\\u043e\": 157}, {\"mb_used_counted\": 426.0, \"\\u041a\\u043e\\u043b\\u0438\\u0447\\u0435\\u0441\\u0442\\u0432\\u043e\": 192}, {\"mb_used_counted\": 427.0, \"\\u041a\\u043e\\u043b\\u0438\\u0447\\u0435\\u0441\\u0442\\u0432\\u043e\": 210}, {\"mb_used_counted\": 428.0, \"\\u041a\\u043e\\u043b\\u0438\\u0447\\u0435\\u0441\\u0442\\u0432\\u043e\": 187}, {\"mb_used_counted\": 429.0, \"\\u041a\\u043e\\u043b\\u0438\\u0447\\u0435\\u0441\\u0442\\u0432\\u043e\": 175}, {\"mb_used_counted\": 430.0, \"\\u041a\\u043e\\u043b\\u0438\\u0447\\u0435\\u0441\\u0442\\u0432\\u043e\": 178}, {\"mb_used_counted\": 431.0, \"\\u041a\\u043e\\u043b\\u0438\\u0447\\u0435\\u0441\\u0442\\u0432\\u043e\": 194}, {\"mb_used_counted\": 432.0, \"\\u041a\\u043e\\u043b\\u0438\\u0447\\u0435\\u0441\\u0442\\u0432\\u043e\": 191}, {\"mb_used_counted\": 433.0, \"\\u041a\\u043e\\u043b\\u0438\\u0447\\u0435\\u0441\\u0442\\u0432\\u043e\": 189}, {\"mb_used_counted\": 434.0, \"\\u041a\\u043e\\u043b\\u0438\\u0447\\u0435\\u0441\\u0442\\u0432\\u043e\": 187}, {\"mb_used_counted\": 435.0, \"\\u041a\\u043e\\u043b\\u0438\\u0447\\u0435\\u0441\\u0442\\u0432\\u043e\": 194}, {\"mb_used_counted\": 436.0, \"\\u041a\\u043e\\u043b\\u0438\\u0447\\u0435\\u0441\\u0442\\u0432\\u043e\": 173}, {\"mb_used_counted\": 437.0, \"\\u041a\\u043e\\u043b\\u0438\\u0447\\u0435\\u0441\\u0442\\u0432\\u043e\": 185}, {\"mb_used_counted\": 438.0, \"\\u041a\\u043e\\u043b\\u0438\\u0447\\u0435\\u0441\\u0442\\u0432\\u043e\": 193}, {\"mb_used_counted\": 439.0, \"\\u041a\\u043e\\u043b\\u0438\\u0447\\u0435\\u0441\\u0442\\u0432\\u043e\": 205}, {\"mb_used_counted\": 440.0, \"\\u041a\\u043e\\u043b\\u0438\\u0447\\u0435\\u0441\\u0442\\u0432\\u043e\": 167}, {\"mb_used_counted\": 441.0, \"\\u041a\\u043e\\u043b\\u0438\\u0447\\u0435\\u0441\\u0442\\u0432\\u043e\": 198}, {\"mb_used_counted\": 442.0, \"\\u041a\\u043e\\u043b\\u0438\\u0447\\u0435\\u0441\\u0442\\u0432\\u043e\": 203}, {\"mb_used_counted\": 443.0, \"\\u041a\\u043e\\u043b\\u0438\\u0447\\u0435\\u0441\\u0442\\u0432\\u043e\": 197}, {\"mb_used_counted\": 444.0, \"\\u041a\\u043e\\u043b\\u0438\\u0447\\u0435\\u0441\\u0442\\u0432\\u043e\": 191}, {\"mb_used_counted\": 445.0, \"\\u041a\\u043e\\u043b\\u0438\\u0447\\u0435\\u0441\\u0442\\u0432\\u043e\": 182}, {\"mb_used_counted\": 446.0, \"\\u041a\\u043e\\u043b\\u0438\\u0447\\u0435\\u0441\\u0442\\u0432\\u043e\": 183}, {\"mb_used_counted\": 447.0, \"\\u041a\\u043e\\u043b\\u0438\\u0447\\u0435\\u0441\\u0442\\u0432\\u043e\": 180}, {\"mb_used_counted\": 448.0, \"\\u041a\\u043e\\u043b\\u0438\\u0447\\u0435\\u0441\\u0442\\u0432\\u043e\": 201}, {\"mb_used_counted\": 449.0, \"\\u041a\\u043e\\u043b\\u0438\\u0447\\u0435\\u0441\\u0442\\u0432\\u043e\": 195}, {\"mb_used_counted\": 450.0, \"\\u041a\\u043e\\u043b\\u0438\\u0447\\u0435\\u0441\\u0442\\u0432\\u043e\": 168}, {\"mb_used_counted\": 451.0, \"\\u041a\\u043e\\u043b\\u0438\\u0447\\u0435\\u0441\\u0442\\u0432\\u043e\": 183}, {\"mb_used_counted\": 452.0, \"\\u041a\\u043e\\u043b\\u0438\\u0447\\u0435\\u0441\\u0442\\u0432\\u043e\": 171}, {\"mb_used_counted\": 453.0, \"\\u041a\\u043e\\u043b\\u0438\\u0447\\u0435\\u0441\\u0442\\u0432\\u043e\": 178}, {\"mb_used_counted\": 454.0, \"\\u041a\\u043e\\u043b\\u0438\\u0447\\u0435\\u0441\\u0442\\u0432\\u043e\": 182}, {\"mb_used_counted\": 455.0, \"\\u041a\\u043e\\u043b\\u0438\\u0447\\u0435\\u0441\\u0442\\u0432\\u043e\": 180}, {\"mb_used_counted\": 456.0, \"\\u041a\\u043e\\u043b\\u0438\\u0447\\u0435\\u0441\\u0442\\u0432\\u043e\": 157}, {\"mb_used_counted\": 457.0, \"\\u041a\\u043e\\u043b\\u0438\\u0447\\u0435\\u0441\\u0442\\u0432\\u043e\": 185}, {\"mb_used_counted\": 458.0, \"\\u041a\\u043e\\u043b\\u0438\\u0447\\u0435\\u0441\\u0442\\u0432\\u043e\": 193}, {\"mb_used_counted\": 459.0, \"\\u041a\\u043e\\u043b\\u0438\\u0447\\u0435\\u0441\\u0442\\u0432\\u043e\": 161}, {\"mb_used_counted\": 460.0, \"\\u041a\\u043e\\u043b\\u0438\\u0447\\u0435\\u0441\\u0442\\u0432\\u043e\": 181}, {\"mb_used_counted\": 461.0, \"\\u041a\\u043e\\u043b\\u0438\\u0447\\u0435\\u0441\\u0442\\u0432\\u043e\": 180}, {\"mb_used_counted\": 462.0, \"\\u041a\\u043e\\u043b\\u0438\\u0447\\u0435\\u0441\\u0442\\u0432\\u043e\": 181}, {\"mb_used_counted\": 463.0, \"\\u041a\\u043e\\u043b\\u0438\\u0447\\u0435\\u0441\\u0442\\u0432\\u043e\": 179}, {\"mb_used_counted\": 464.0, \"\\u041a\\u043e\\u043b\\u0438\\u0447\\u0435\\u0441\\u0442\\u0432\\u043e\": 178}, {\"mb_used_counted\": 465.0, \"\\u041a\\u043e\\u043b\\u0438\\u0447\\u0435\\u0441\\u0442\\u0432\\u043e\": 165}, {\"mb_used_counted\": 466.0, \"\\u041a\\u043e\\u043b\\u0438\\u0447\\u0435\\u0441\\u0442\\u0432\\u043e\": 170}, {\"mb_used_counted\": 467.0, \"\\u041a\\u043e\\u043b\\u0438\\u0447\\u0435\\u0441\\u0442\\u0432\\u043e\": 152}, {\"mb_used_counted\": 468.0, \"\\u041a\\u043e\\u043b\\u0438\\u0447\\u0435\\u0441\\u0442\\u0432\\u043e\": 179}, {\"mb_used_counted\": 469.0, \"\\u041a\\u043e\\u043b\\u0438\\u0447\\u0435\\u0441\\u0442\\u0432\\u043e\": 186}, {\"mb_used_counted\": 470.0, \"\\u041a\\u043e\\u043b\\u0438\\u0447\\u0435\\u0441\\u0442\\u0432\\u043e\": 161}, {\"mb_used_counted\": 471.0, \"\\u041a\\u043e\\u043b\\u0438\\u0447\\u0435\\u0441\\u0442\\u0432\\u043e\": 174}, {\"mb_used_counted\": 472.0, \"\\u041a\\u043e\\u043b\\u0438\\u0447\\u0435\\u0441\\u0442\\u0432\\u043e\": 187}, {\"mb_used_counted\": 473.0, \"\\u041a\\u043e\\u043b\\u0438\\u0447\\u0435\\u0441\\u0442\\u0432\\u043e\": 169}, {\"mb_used_counted\": 474.0, \"\\u041a\\u043e\\u043b\\u0438\\u0447\\u0435\\u0441\\u0442\\u0432\\u043e\": 174}, {\"mb_used_counted\": 475.0, \"\\u041a\\u043e\\u043b\\u0438\\u0447\\u0435\\u0441\\u0442\\u0432\\u043e\": 166}, {\"mb_used_counted\": 476.0, \"\\u041a\\u043e\\u043b\\u0438\\u0447\\u0435\\u0441\\u0442\\u0432\\u043e\": 170}, {\"mb_used_counted\": 477.0, \"\\u041a\\u043e\\u043b\\u0438\\u0447\\u0435\\u0441\\u0442\\u0432\\u043e\": 189}, {\"mb_used_counted\": 478.0, \"\\u041a\\u043e\\u043b\\u0438\\u0447\\u0435\\u0441\\u0442\\u0432\\u043e\": 156}, {\"mb_used_counted\": 479.0, \"\\u041a\\u043e\\u043b\\u0438\\u0447\\u0435\\u0441\\u0442\\u0432\\u043e\": 194}, {\"mb_used_counted\": 480.0, \"\\u041a\\u043e\\u043b\\u0438\\u0447\\u0435\\u0441\\u0442\\u0432\\u043e\": 170}, {\"mb_used_counted\": 481.0, \"\\u041a\\u043e\\u043b\\u0438\\u0447\\u0435\\u0441\\u0442\\u0432\\u043e\": 158}, {\"mb_used_counted\": 482.0, \"\\u041a\\u043e\\u043b\\u0438\\u0447\\u0435\\u0441\\u0442\\u0432\\u043e\": 192}, {\"mb_used_counted\": 483.0, \"\\u041a\\u043e\\u043b\\u0438\\u0447\\u0435\\u0441\\u0442\\u0432\\u043e\": 158}, {\"mb_used_counted\": 484.0, \"\\u041a\\u043e\\u043b\\u0438\\u0447\\u0435\\u0441\\u0442\\u0432\\u043e\": 165}, {\"mb_used_counted\": 485.0, \"\\u041a\\u043e\\u043b\\u0438\\u0447\\u0435\\u0441\\u0442\\u0432\\u043e\": 180}, {\"mb_used_counted\": 486.0, \"\\u041a\\u043e\\u043b\\u0438\\u0447\\u0435\\u0441\\u0442\\u0432\\u043e\": 168}, {\"mb_used_counted\": 487.0, \"\\u041a\\u043e\\u043b\\u0438\\u0447\\u0435\\u0441\\u0442\\u0432\\u043e\": 194}, {\"mb_used_counted\": 488.0, \"\\u041a\\u043e\\u043b\\u0438\\u0447\\u0435\\u0441\\u0442\\u0432\\u043e\": 172}, {\"mb_used_counted\": 489.0, \"\\u041a\\u043e\\u043b\\u0438\\u0447\\u0435\\u0441\\u0442\\u0432\\u043e\": 158}, {\"mb_used_counted\": 490.0, \"\\u041a\\u043e\\u043b\\u0438\\u0447\\u0435\\u0441\\u0442\\u0432\\u043e\": 181}, {\"mb_used_counted\": 491.0, \"\\u041a\\u043e\\u043b\\u0438\\u0447\\u0435\\u0441\\u0442\\u0432\\u043e\": 185}, {\"mb_used_counted\": 492.0, \"\\u041a\\u043e\\u043b\\u0438\\u0447\\u0435\\u0441\\u0442\\u0432\\u043e\": 164}, {\"mb_used_counted\": 493.0, \"\\u041a\\u043e\\u043b\\u0438\\u0447\\u0435\\u0441\\u0442\\u0432\\u043e\": 167}, {\"mb_used_counted\": 494.0, \"\\u041a\\u043e\\u043b\\u0438\\u0447\\u0435\\u0441\\u0442\\u0432\\u043e\": 182}, {\"mb_used_counted\": 495.0, \"\\u041a\\u043e\\u043b\\u0438\\u0447\\u0435\\u0441\\u0442\\u0432\\u043e\": 166}, {\"mb_used_counted\": 496.0, \"\\u041a\\u043e\\u043b\\u0438\\u0447\\u0435\\u0441\\u0442\\u0432\\u043e\": 166}, {\"mb_used_counted\": 497.0, \"\\u041a\\u043e\\u043b\\u0438\\u0447\\u0435\\u0441\\u0442\\u0432\\u043e\": 161}, {\"mb_used_counted\": 498.0, \"\\u041a\\u043e\\u043b\\u0438\\u0447\\u0435\\u0441\\u0442\\u0432\\u043e\": 151}, {\"mb_used_counted\": 499.0, \"\\u041a\\u043e\\u043b\\u0438\\u0447\\u0435\\u0441\\u0442\\u0432\\u043e\": 164}, {\"mb_used_counted\": 500.0, \"\\u041a\\u043e\\u043b\\u0438\\u0447\\u0435\\u0441\\u0442\\u0432\\u043e\": 184}, {\"mb_used_counted\": 501.0, \"\\u041a\\u043e\\u043b\\u0438\\u0447\\u0435\\u0441\\u0442\\u0432\\u043e\": 162}, {\"mb_used_counted\": 502.0, \"\\u041a\\u043e\\u043b\\u0438\\u0447\\u0435\\u0441\\u0442\\u0432\\u043e\": 163}, {\"mb_used_counted\": 503.0, \"\\u041a\\u043e\\u043b\\u0438\\u0447\\u0435\\u0441\\u0442\\u0432\\u043e\": 165}, {\"mb_used_counted\": 504.0, \"\\u041a\\u043e\\u043b\\u0438\\u0447\\u0435\\u0441\\u0442\\u0432\\u043e\": 176}, {\"mb_used_counted\": 505.0, \"\\u041a\\u043e\\u043b\\u0438\\u0447\\u0435\\u0441\\u0442\\u0432\\u043e\": 167}, {\"mb_used_counted\": 506.0, \"\\u041a\\u043e\\u043b\\u0438\\u0447\\u0435\\u0441\\u0442\\u0432\\u043e\": 185}, {\"mb_used_counted\": 507.0, \"\\u041a\\u043e\\u043b\\u0438\\u0447\\u0435\\u0441\\u0442\\u0432\\u043e\": 163}, {\"mb_used_counted\": 508.0, \"\\u041a\\u043e\\u043b\\u0438\\u0447\\u0435\\u0441\\u0442\\u0432\\u043e\": 159}, {\"mb_used_counted\": 509.0, \"\\u041a\\u043e\\u043b\\u0438\\u0447\\u0435\\u0441\\u0442\\u0432\\u043e\": 166}, {\"mb_used_counted\": 510.0, \"\\u041a\\u043e\\u043b\\u0438\\u0447\\u0435\\u0441\\u0442\\u0432\\u043e\": 164}, {\"mb_used_counted\": 511.0, \"\\u041a\\u043e\\u043b\\u0438\\u0447\\u0435\\u0441\\u0442\\u0432\\u043e\": 191}, {\"mb_used_counted\": 512.0, \"\\u041a\\u043e\\u043b\\u0438\\u0447\\u0435\\u0441\\u0442\\u0432\\u043e\": 178}, {\"mb_used_counted\": 513.0, \"\\u041a\\u043e\\u043b\\u0438\\u0447\\u0435\\u0441\\u0442\\u0432\\u043e\": 159}, {\"mb_used_counted\": 514.0, \"\\u041a\\u043e\\u043b\\u0438\\u0447\\u0435\\u0441\\u0442\\u0432\\u043e\": 150}, {\"mb_used_counted\": 515.0, \"\\u041a\\u043e\\u043b\\u0438\\u0447\\u0435\\u0441\\u0442\\u0432\\u043e\": 179}, {\"mb_used_counted\": 516.0, \"\\u041a\\u043e\\u043b\\u0438\\u0447\\u0435\\u0441\\u0442\\u0432\\u043e\": 145}, {\"mb_used_counted\": 517.0, \"\\u041a\\u043e\\u043b\\u0438\\u0447\\u0435\\u0441\\u0442\\u0432\\u043e\": 151}, {\"mb_used_counted\": 518.0, \"\\u041a\\u043e\\u043b\\u0438\\u0447\\u0435\\u0441\\u0442\\u0432\\u043e\": 161}, {\"mb_used_counted\": 519.0, \"\\u041a\\u043e\\u043b\\u0438\\u0447\\u0435\\u0441\\u0442\\u0432\\u043e\": 163}, {\"mb_used_counted\": 520.0, \"\\u041a\\u043e\\u043b\\u0438\\u0447\\u0435\\u0441\\u0442\\u0432\\u043e\": 149}, {\"mb_used_counted\": 521.0, \"\\u041a\\u043e\\u043b\\u0438\\u0447\\u0435\\u0441\\u0442\\u0432\\u043e\": 147}, {\"mb_used_counted\": 522.0, \"\\u041a\\u043e\\u043b\\u0438\\u0447\\u0435\\u0441\\u0442\\u0432\\u043e\": 175}, {\"mb_used_counted\": 523.0, \"\\u041a\\u043e\\u043b\\u0438\\u0447\\u0435\\u0441\\u0442\\u0432\\u043e\": 154}, {\"mb_used_counted\": 524.0, \"\\u041a\\u043e\\u043b\\u0438\\u0447\\u0435\\u0441\\u0442\\u0432\\u043e\": 180}, {\"mb_used_counted\": 525.0, \"\\u041a\\u043e\\u043b\\u0438\\u0447\\u0435\\u0441\\u0442\\u0432\\u043e\": 184}, {\"mb_used_counted\": 526.0, \"\\u041a\\u043e\\u043b\\u0438\\u0447\\u0435\\u0441\\u0442\\u0432\\u043e\": 161}, {\"mb_used_counted\": 527.0, \"\\u041a\\u043e\\u043b\\u0438\\u0447\\u0435\\u0441\\u0442\\u0432\\u043e\": 156}, {\"mb_used_counted\": 528.0, \"\\u041a\\u043e\\u043b\\u0438\\u0447\\u0435\\u0441\\u0442\\u0432\\u043e\": 159}, {\"mb_used_counted\": 529.0, \"\\u041a\\u043e\\u043b\\u0438\\u0447\\u0435\\u0441\\u0442\\u0432\\u043e\": 182}, {\"mb_used_counted\": 530.0, \"\\u041a\\u043e\\u043b\\u0438\\u0447\\u0435\\u0441\\u0442\\u0432\\u043e\": 151}, {\"mb_used_counted\": 531.0, \"\\u041a\\u043e\\u043b\\u0438\\u0447\\u0435\\u0441\\u0442\\u0432\\u043e\": 182}, {\"mb_used_counted\": 532.0, \"\\u041a\\u043e\\u043b\\u0438\\u0447\\u0435\\u0441\\u0442\\u0432\\u043e\": 146}, {\"mb_used_counted\": 533.0, \"\\u041a\\u043e\\u043b\\u0438\\u0447\\u0435\\u0441\\u0442\\u0432\\u043e\": 156}, {\"mb_used_counted\": 534.0, \"\\u041a\\u043e\\u043b\\u0438\\u0447\\u0435\\u0441\\u0442\\u0432\\u043e\": 165}, {\"mb_used_counted\": 535.0, \"\\u041a\\u043e\\u043b\\u0438\\u0447\\u0435\\u0441\\u0442\\u0432\\u043e\": 167}, {\"mb_used_counted\": 536.0, \"\\u041a\\u043e\\u043b\\u0438\\u0447\\u0435\\u0441\\u0442\\u0432\\u043e\": 175}, {\"mb_used_counted\": 537.0, \"\\u041a\\u043e\\u043b\\u0438\\u0447\\u0435\\u0441\\u0442\\u0432\\u043e\": 140}, {\"mb_used_counted\": 538.0, \"\\u041a\\u043e\\u043b\\u0438\\u0447\\u0435\\u0441\\u0442\\u0432\\u043e\": 163}, {\"mb_used_counted\": 539.0, \"\\u041a\\u043e\\u043b\\u0438\\u0447\\u0435\\u0441\\u0442\\u0432\\u043e\": 178}, {\"mb_used_counted\": 540.0, \"\\u041a\\u043e\\u043b\\u0438\\u0447\\u0435\\u0441\\u0442\\u0432\\u043e\": 150}, {\"mb_used_counted\": 541.0, \"\\u041a\\u043e\\u043b\\u0438\\u0447\\u0435\\u0441\\u0442\\u0432\\u043e\": 152}, {\"mb_used_counted\": 542.0, \"\\u041a\\u043e\\u043b\\u0438\\u0447\\u0435\\u0441\\u0442\\u0432\\u043e\": 154}, {\"mb_used_counted\": 543.0, \"\\u041a\\u043e\\u043b\\u0438\\u0447\\u0435\\u0441\\u0442\\u0432\\u043e\": 155}, {\"mb_used_counted\": 544.0, \"\\u041a\\u043e\\u043b\\u0438\\u0447\\u0435\\u0441\\u0442\\u0432\\u043e\": 162}, {\"mb_used_counted\": 545.0, \"\\u041a\\u043e\\u043b\\u0438\\u0447\\u0435\\u0441\\u0442\\u0432\\u043e\": 159}, {\"mb_used_counted\": 546.0, \"\\u041a\\u043e\\u043b\\u0438\\u0447\\u0435\\u0441\\u0442\\u0432\\u043e\": 150}, {\"mb_used_counted\": 547.0, \"\\u041a\\u043e\\u043b\\u0438\\u0447\\u0435\\u0441\\u0442\\u0432\\u043e\": 157}, {\"mb_used_counted\": 548.0, \"\\u041a\\u043e\\u043b\\u0438\\u0447\\u0435\\u0441\\u0442\\u0432\\u043e\": 140}, {\"mb_used_counted\": 549.0, \"\\u041a\\u043e\\u043b\\u0438\\u0447\\u0435\\u0441\\u0442\\u0432\\u043e\": 148}, {\"mb_used_counted\": 550.0, \"\\u041a\\u043e\\u043b\\u0438\\u0447\\u0435\\u0441\\u0442\\u0432\\u043e\": 162}, {\"mb_used_counted\": 551.0, \"\\u041a\\u043e\\u043b\\u0438\\u0447\\u0435\\u0441\\u0442\\u0432\\u043e\": 131}, {\"mb_used_counted\": 552.0, \"\\u041a\\u043e\\u043b\\u0438\\u0447\\u0435\\u0441\\u0442\\u0432\\u043e\": 166}, {\"mb_used_counted\": 553.0, \"\\u041a\\u043e\\u043b\\u0438\\u0447\\u0435\\u0441\\u0442\\u0432\\u043e\": 137}, {\"mb_used_counted\": 554.0, \"\\u041a\\u043e\\u043b\\u0438\\u0447\\u0435\\u0441\\u0442\\u0432\\u043e\": 166}, {\"mb_used_counted\": 555.0, \"\\u041a\\u043e\\u043b\\u0438\\u0447\\u0435\\u0441\\u0442\\u0432\\u043e\": 158}, {\"mb_used_counted\": 556.0, \"\\u041a\\u043e\\u043b\\u0438\\u0447\\u0435\\u0441\\u0442\\u0432\\u043e\": 159}, {\"mb_used_counted\": 557.0, \"\\u041a\\u043e\\u043b\\u0438\\u0447\\u0435\\u0441\\u0442\\u0432\\u043e\": 141}, {\"mb_used_counted\": 558.0, \"\\u041a\\u043e\\u043b\\u0438\\u0447\\u0435\\u0441\\u0442\\u0432\\u043e\": 159}, {\"mb_used_counted\": 559.0, \"\\u041a\\u043e\\u043b\\u0438\\u0447\\u0435\\u0441\\u0442\\u0432\\u043e\": 166}, {\"mb_used_counted\": 560.0, \"\\u041a\\u043e\\u043b\\u0438\\u0447\\u0435\\u0441\\u0442\\u0432\\u043e\": 149}, {\"mb_used_counted\": 561.0, \"\\u041a\\u043e\\u043b\\u0438\\u0447\\u0435\\u0441\\u0442\\u0432\\u043e\": 142}, {\"mb_used_counted\": 562.0, \"\\u041a\\u043e\\u043b\\u0438\\u0447\\u0435\\u0441\\u0442\\u0432\\u043e\": 137}, {\"mb_used_counted\": 563.0, \"\\u041a\\u043e\\u043b\\u0438\\u0447\\u0435\\u0441\\u0442\\u0432\\u043e\": 150}, {\"mb_used_counted\": 564.0, \"\\u041a\\u043e\\u043b\\u0438\\u0447\\u0435\\u0441\\u0442\\u0432\\u043e\": 133}, {\"mb_used_counted\": 565.0, \"\\u041a\\u043e\\u043b\\u0438\\u0447\\u0435\\u0441\\u0442\\u0432\\u043e\": 178}, {\"mb_used_counted\": 566.0, \"\\u041a\\u043e\\u043b\\u0438\\u0447\\u0435\\u0441\\u0442\\u0432\\u043e\": 148}, {\"mb_used_counted\": 567.0, \"\\u041a\\u043e\\u043b\\u0438\\u0447\\u0435\\u0441\\u0442\\u0432\\u043e\": 133}, {\"mb_used_counted\": 568.0, \"\\u041a\\u043e\\u043b\\u0438\\u0447\\u0435\\u0441\\u0442\\u0432\\u043e\": 127}, {\"mb_used_counted\": 569.0, \"\\u041a\\u043e\\u043b\\u0438\\u0447\\u0435\\u0441\\u0442\\u0432\\u043e\": 177}, {\"mb_used_counted\": 570.0, \"\\u041a\\u043e\\u043b\\u0438\\u0447\\u0435\\u0441\\u0442\\u0432\\u043e\": 134}, {\"mb_used_counted\": 571.0, \"\\u041a\\u043e\\u043b\\u0438\\u0447\\u0435\\u0441\\u0442\\u0432\\u043e\": 144}, {\"mb_used_counted\": 572.0, \"\\u041a\\u043e\\u043b\\u0438\\u0447\\u0435\\u0441\\u0442\\u0432\\u043e\": 146}, {\"mb_used_counted\": 573.0, \"\\u041a\\u043e\\u043b\\u0438\\u0447\\u0435\\u0441\\u0442\\u0432\\u043e\": 134}, {\"mb_used_counted\": 574.0, \"\\u041a\\u043e\\u043b\\u0438\\u0447\\u0435\\u0441\\u0442\\u0432\\u043e\": 157}, {\"mb_used_counted\": 575.0, \"\\u041a\\u043e\\u043b\\u0438\\u0447\\u0435\\u0441\\u0442\\u0432\\u043e\": 144}, {\"mb_used_counted\": 576.0, \"\\u041a\\u043e\\u043b\\u0438\\u0447\\u0435\\u0441\\u0442\\u0432\\u043e\": 149}, {\"mb_used_counted\": 577.0, \"\\u041a\\u043e\\u043b\\u0438\\u0447\\u0435\\u0441\\u0442\\u0432\\u043e\": 132}, {\"mb_used_counted\": 578.0, \"\\u041a\\u043e\\u043b\\u0438\\u0447\\u0435\\u0441\\u0442\\u0432\\u043e\": 160}, {\"mb_used_counted\": 579.0, \"\\u041a\\u043e\\u043b\\u0438\\u0447\\u0435\\u0441\\u0442\\u0432\\u043e\": 147}, {\"mb_used_counted\": 580.0, \"\\u041a\\u043e\\u043b\\u0438\\u0447\\u0435\\u0441\\u0442\\u0432\\u043e\": 153}, {\"mb_used_counted\": 581.0, \"\\u041a\\u043e\\u043b\\u0438\\u0447\\u0435\\u0441\\u0442\\u0432\\u043e\": 152}, {\"mb_used_counted\": 582.0, \"\\u041a\\u043e\\u043b\\u0438\\u0447\\u0435\\u0441\\u0442\\u0432\\u043e\": 146}, {\"mb_used_counted\": 583.0, \"\\u041a\\u043e\\u043b\\u0438\\u0447\\u0435\\u0441\\u0442\\u0432\\u043e\": 147}, {\"mb_used_counted\": 584.0, \"\\u041a\\u043e\\u043b\\u0438\\u0447\\u0435\\u0441\\u0442\\u0432\\u043e\": 116}, {\"mb_used_counted\": 585.0, \"\\u041a\\u043e\\u043b\\u0438\\u0447\\u0435\\u0441\\u0442\\u0432\\u043e\": 149}, {\"mb_used_counted\": 586.0, \"\\u041a\\u043e\\u043b\\u0438\\u0447\\u0435\\u0441\\u0442\\u0432\\u043e\": 156}, {\"mb_used_counted\": 587.0, \"\\u041a\\u043e\\u043b\\u0438\\u0447\\u0435\\u0441\\u0442\\u0432\\u043e\": 122}, {\"mb_used_counted\": 588.0, \"\\u041a\\u043e\\u043b\\u0438\\u0447\\u0435\\u0441\\u0442\\u0432\\u043e\": 163}, {\"mb_used_counted\": 589.0, \"\\u041a\\u043e\\u043b\\u0438\\u0447\\u0435\\u0441\\u0442\\u0432\\u043e\": 165}, {\"mb_used_counted\": 590.0, \"\\u041a\\u043e\\u043b\\u0438\\u0447\\u0435\\u0441\\u0442\\u0432\\u043e\": 142}, {\"mb_used_counted\": 591.0, \"\\u041a\\u043e\\u043b\\u0438\\u0447\\u0435\\u0441\\u0442\\u0432\\u043e\": 143}, {\"mb_used_counted\": 592.0, \"\\u041a\\u043e\\u043b\\u0438\\u0447\\u0435\\u0441\\u0442\\u0432\\u043e\": 140}, {\"mb_used_counted\": 593.0, \"\\u041a\\u043e\\u043b\\u0438\\u0447\\u0435\\u0441\\u0442\\u0432\\u043e\": 166}, {\"mb_used_counted\": 594.0, \"\\u041a\\u043e\\u043b\\u0438\\u0447\\u0435\\u0441\\u0442\\u0432\\u043e\": 147}, {\"mb_used_counted\": 595.0, \"\\u041a\\u043e\\u043b\\u0438\\u0447\\u0435\\u0441\\u0442\\u0432\\u043e\": 137}, {\"mb_used_counted\": 596.0, \"\\u041a\\u043e\\u043b\\u0438\\u0447\\u0435\\u0441\\u0442\\u0432\\u043e\": 134}, {\"mb_used_counted\": 597.0, \"\\u041a\\u043e\\u043b\\u0438\\u0447\\u0435\\u0441\\u0442\\u0432\\u043e\": 139}, {\"mb_used_counted\": 598.0, \"\\u041a\\u043e\\u043b\\u0438\\u0447\\u0435\\u0441\\u0442\\u0432\\u043e\": 131}, {\"mb_used_counted\": 599.0, \"\\u041a\\u043e\\u043b\\u0438\\u0447\\u0435\\u0441\\u0442\\u0432\\u043e\": 134}, {\"mb_used_counted\": 600.0, \"\\u041a\\u043e\\u043b\\u0438\\u0447\\u0435\\u0441\\u0442\\u0432\\u043e\": 166}, {\"mb_used_counted\": 601.0, \"\\u041a\\u043e\\u043b\\u0438\\u0447\\u0435\\u0441\\u0442\\u0432\\u043e\": 110}, {\"mb_used_counted\": 602.0, \"\\u041a\\u043e\\u043b\\u0438\\u0447\\u0435\\u0441\\u0442\\u0432\\u043e\": 140}, {\"mb_used_counted\": 603.0, \"\\u041a\\u043e\\u043b\\u0438\\u0447\\u0435\\u0441\\u0442\\u0432\\u043e\": 131}, {\"mb_used_counted\": 604.0, \"\\u041a\\u043e\\u043b\\u0438\\u0447\\u0435\\u0441\\u0442\\u0432\\u043e\": 139}, {\"mb_used_counted\": 605.0, \"\\u041a\\u043e\\u043b\\u0438\\u0447\\u0435\\u0441\\u0442\\u0432\\u043e\": 112}, {\"mb_used_counted\": 606.0, \"\\u041a\\u043e\\u043b\\u0438\\u0447\\u0435\\u0441\\u0442\\u0432\\u043e\": 137}, {\"mb_used_counted\": 607.0, \"\\u041a\\u043e\\u043b\\u0438\\u0447\\u0435\\u0441\\u0442\\u0432\\u043e\": 129}, {\"mb_used_counted\": 608.0, \"\\u041a\\u043e\\u043b\\u0438\\u0447\\u0435\\u0441\\u0442\\u0432\\u043e\": 141}, {\"mb_used_counted\": 609.0, \"\\u041a\\u043e\\u043b\\u0438\\u0447\\u0435\\u0441\\u0442\\u0432\\u043e\": 131}, {\"mb_used_counted\": 610.0, \"\\u041a\\u043e\\u043b\\u0438\\u0447\\u0435\\u0441\\u0442\\u0432\\u043e\": 155}, {\"mb_used_counted\": 611.0, \"\\u041a\\u043e\\u043b\\u0438\\u0447\\u0435\\u0441\\u0442\\u0432\\u043e\": 120}, {\"mb_used_counted\": 612.0, \"\\u041a\\u043e\\u043b\\u0438\\u0447\\u0435\\u0441\\u0442\\u0432\\u043e\": 133}, {\"mb_used_counted\": 613.0, \"\\u041a\\u043e\\u043b\\u0438\\u0447\\u0435\\u0441\\u0442\\u0432\\u043e\": 128}, {\"mb_used_counted\": 614.0, \"\\u041a\\u043e\\u043b\\u0438\\u0447\\u0435\\u0441\\u0442\\u0432\\u043e\": 130}, {\"mb_used_counted\": 615.0, \"\\u041a\\u043e\\u043b\\u0438\\u0447\\u0435\\u0441\\u0442\\u0432\\u043e\": 141}, {\"mb_used_counted\": 616.0, \"\\u041a\\u043e\\u043b\\u0438\\u0447\\u0435\\u0441\\u0442\\u0432\\u043e\": 142}, {\"mb_used_counted\": 617.0, \"\\u041a\\u043e\\u043b\\u0438\\u0447\\u0435\\u0441\\u0442\\u0432\\u043e\": 125}, {\"mb_used_counted\": 618.0, \"\\u041a\\u043e\\u043b\\u0438\\u0447\\u0435\\u0441\\u0442\\u0432\\u043e\": 125}, {\"mb_used_counted\": 619.0, \"\\u041a\\u043e\\u043b\\u0438\\u0447\\u0435\\u0441\\u0442\\u0432\\u043e\": 98}, {\"mb_used_counted\": 620.0, \"\\u041a\\u043e\\u043b\\u0438\\u0447\\u0435\\u0441\\u0442\\u0432\\u043e\": 133}, {\"mb_used_counted\": 621.0, \"\\u041a\\u043e\\u043b\\u0438\\u0447\\u0435\\u0441\\u0442\\u0432\\u043e\": 134}, {\"mb_used_counted\": 622.0, \"\\u041a\\u043e\\u043b\\u0438\\u0447\\u0435\\u0441\\u0442\\u0432\\u043e\": 104}, {\"mb_used_counted\": 623.0, \"\\u041a\\u043e\\u043b\\u0438\\u0447\\u0435\\u0441\\u0442\\u0432\\u043e\": 126}, {\"mb_used_counted\": 624.0, \"\\u041a\\u043e\\u043b\\u0438\\u0447\\u0435\\u0441\\u0442\\u0432\\u043e\": 131}, {\"mb_used_counted\": 625.0, \"\\u041a\\u043e\\u043b\\u0438\\u0447\\u0435\\u0441\\u0442\\u0432\\u043e\": 134}, {\"mb_used_counted\": 626.0, \"\\u041a\\u043e\\u043b\\u0438\\u0447\\u0435\\u0441\\u0442\\u0432\\u043e\": 117}, {\"mb_used_counted\": 627.0, \"\\u041a\\u043e\\u043b\\u0438\\u0447\\u0435\\u0441\\u0442\\u0432\\u043e\": 117}, {\"mb_used_counted\": 628.0, \"\\u041a\\u043e\\u043b\\u0438\\u0447\\u0435\\u0441\\u0442\\u0432\\u043e\": 118}, {\"mb_used_counted\": 629.0, \"\\u041a\\u043e\\u043b\\u0438\\u0447\\u0435\\u0441\\u0442\\u0432\\u043e\": 139}, {\"mb_used_counted\": 630.0, \"\\u041a\\u043e\\u043b\\u0438\\u0447\\u0435\\u0441\\u0442\\u0432\\u043e\": 138}, {\"mb_used_counted\": 631.0, \"\\u041a\\u043e\\u043b\\u0438\\u0447\\u0435\\u0441\\u0442\\u0432\\u043e\": 124}, {\"mb_used_counted\": 632.0, \"\\u041a\\u043e\\u043b\\u0438\\u0447\\u0435\\u0441\\u0442\\u0432\\u043e\": 107}, {\"mb_used_counted\": 633.0, \"\\u041a\\u043e\\u043b\\u0438\\u0447\\u0435\\u0441\\u0442\\u0432\\u043e\": 109}, {\"mb_used_counted\": 634.0, \"\\u041a\\u043e\\u043b\\u0438\\u0447\\u0435\\u0441\\u0442\\u0432\\u043e\": 131}, {\"mb_used_counted\": 635.0, \"\\u041a\\u043e\\u043b\\u0438\\u0447\\u0435\\u0441\\u0442\\u0432\\u043e\": 126}, {\"mb_used_counted\": 636.0, \"\\u041a\\u043e\\u043b\\u0438\\u0447\\u0435\\u0441\\u0442\\u0432\\u043e\": 106}, {\"mb_used_counted\": 637.0, \"\\u041a\\u043e\\u043b\\u0438\\u0447\\u0435\\u0441\\u0442\\u0432\\u043e\": 112}, {\"mb_used_counted\": 638.0, \"\\u041a\\u043e\\u043b\\u0438\\u0447\\u0435\\u0441\\u0442\\u0432\\u043e\": 129}, {\"mb_used_counted\": 639.0, \"\\u041a\\u043e\\u043b\\u0438\\u0447\\u0435\\u0441\\u0442\\u0432\\u043e\": 122}, {\"mb_used_counted\": 640.0, \"\\u041a\\u043e\\u043b\\u0438\\u0447\\u0435\\u0441\\u0442\\u0432\\u043e\": 110}, {\"mb_used_counted\": 641.0, \"\\u041a\\u043e\\u043b\\u0438\\u0447\\u0435\\u0441\\u0442\\u0432\\u043e\": 118}, {\"mb_used_counted\": 642.0, \"\\u041a\\u043e\\u043b\\u0438\\u0447\\u0435\\u0441\\u0442\\u0432\\u043e\": 110}, {\"mb_used_counted\": 643.0, \"\\u041a\\u043e\\u043b\\u0438\\u0447\\u0435\\u0441\\u0442\\u0432\\u043e\": 113}, {\"mb_used_counted\": 644.0, \"\\u041a\\u043e\\u043b\\u0438\\u0447\\u0435\\u0441\\u0442\\u0432\\u043e\": 128}, {\"mb_used_counted\": 645.0, \"\\u041a\\u043e\\u043b\\u0438\\u0447\\u0435\\u0441\\u0442\\u0432\\u043e\": 122}, {\"mb_used_counted\": 646.0, \"\\u041a\\u043e\\u043b\\u0438\\u0447\\u0435\\u0441\\u0442\\u0432\\u043e\": 130}, {\"mb_used_counted\": 647.0, \"\\u041a\\u043e\\u043b\\u0438\\u0447\\u0435\\u0441\\u0442\\u0432\\u043e\": 113}, {\"mb_used_counted\": 648.0, \"\\u041a\\u043e\\u043b\\u0438\\u0447\\u0435\\u0441\\u0442\\u0432\\u043e\": 119}, {\"mb_used_counted\": 649.0, \"\\u041a\\u043e\\u043b\\u0438\\u0447\\u0435\\u0441\\u0442\\u0432\\u043e\": 106}, {\"mb_used_counted\": 650.0, \"\\u041a\\u043e\\u043b\\u0438\\u0447\\u0435\\u0441\\u0442\\u0432\\u043e\": 123}, {\"mb_used_counted\": 651.0, \"\\u041a\\u043e\\u043b\\u0438\\u0447\\u0435\\u0441\\u0442\\u0432\\u043e\": 106}, {\"mb_used_counted\": 652.0, \"\\u041a\\u043e\\u043b\\u0438\\u0447\\u0435\\u0441\\u0442\\u0432\\u043e\": 114}, {\"mb_used_counted\": 653.0, \"\\u041a\\u043e\\u043b\\u0438\\u0447\\u0435\\u0441\\u0442\\u0432\\u043e\": 120}, {\"mb_used_counted\": 654.0, \"\\u041a\\u043e\\u043b\\u0438\\u0447\\u0435\\u0441\\u0442\\u0432\\u043e\": 128}, {\"mb_used_counted\": 655.0, \"\\u041a\\u043e\\u043b\\u0438\\u0447\\u0435\\u0441\\u0442\\u0432\\u043e\": 110}, {\"mb_used_counted\": 656.0, \"\\u041a\\u043e\\u043b\\u0438\\u0447\\u0435\\u0441\\u0442\\u0432\\u043e\": 110}, {\"mb_used_counted\": 657.0, \"\\u041a\\u043e\\u043b\\u0438\\u0447\\u0435\\u0441\\u0442\\u0432\\u043e\": 116}, {\"mb_used_counted\": 658.0, \"\\u041a\\u043e\\u043b\\u0438\\u0447\\u0435\\u0441\\u0442\\u0432\\u043e\": 122}, {\"mb_used_counted\": 659.0, \"\\u041a\\u043e\\u043b\\u0438\\u0447\\u0435\\u0441\\u0442\\u0432\\u043e\": 123}, {\"mb_used_counted\": 660.0, \"\\u041a\\u043e\\u043b\\u0438\\u0447\\u0435\\u0441\\u0442\\u0432\\u043e\": 103}, {\"mb_used_counted\": 661.0, \"\\u041a\\u043e\\u043b\\u0438\\u0447\\u0435\\u0441\\u0442\\u0432\\u043e\": 103}, {\"mb_used_counted\": 662.0, \"\\u041a\\u043e\\u043b\\u0438\\u0447\\u0435\\u0441\\u0442\\u0432\\u043e\": 121}, {\"mb_used_counted\": 663.0, \"\\u041a\\u043e\\u043b\\u0438\\u0447\\u0435\\u0441\\u0442\\u0432\\u043e\": 116}, {\"mb_used_counted\": 664.0, \"\\u041a\\u043e\\u043b\\u0438\\u0447\\u0435\\u0441\\u0442\\u0432\\u043e\": 129}, {\"mb_used_counted\": 665.0, \"\\u041a\\u043e\\u043b\\u0438\\u0447\\u0435\\u0441\\u0442\\u0432\\u043e\": 115}, {\"mb_used_counted\": 666.0, \"\\u041a\\u043e\\u043b\\u0438\\u0447\\u0435\\u0441\\u0442\\u0432\\u043e\": 119}, {\"mb_used_counted\": 667.0, \"\\u041a\\u043e\\u043b\\u0438\\u0447\\u0435\\u0441\\u0442\\u0432\\u043e\": 117}, {\"mb_used_counted\": 668.0, \"\\u041a\\u043e\\u043b\\u0438\\u0447\\u0435\\u0441\\u0442\\u0432\\u043e\": 114}, {\"mb_used_counted\": 669.0, \"\\u041a\\u043e\\u043b\\u0438\\u0447\\u0435\\u0441\\u0442\\u0432\\u043e\": 120}, {\"mb_used_counted\": 670.0, \"\\u041a\\u043e\\u043b\\u0438\\u0447\\u0435\\u0441\\u0442\\u0432\\u043e\": 123}, {\"mb_used_counted\": 671.0, \"\\u041a\\u043e\\u043b\\u0438\\u0447\\u0435\\u0441\\u0442\\u0432\\u043e\": 119}, {\"mb_used_counted\": 672.0, \"\\u041a\\u043e\\u043b\\u0438\\u0447\\u0435\\u0441\\u0442\\u0432\\u043e\": 108}, {\"mb_used_counted\": 673.0, \"\\u041a\\u043e\\u043b\\u0438\\u0447\\u0435\\u0441\\u0442\\u0432\\u043e\": 88}, {\"mb_used_counted\": 674.0, \"\\u041a\\u043e\\u043b\\u0438\\u0447\\u0435\\u0441\\u0442\\u0432\\u043e\": 120}, {\"mb_used_counted\": 675.0, \"\\u041a\\u043e\\u043b\\u0438\\u0447\\u0435\\u0441\\u0442\\u0432\\u043e\": 110}, {\"mb_used_counted\": 676.0, \"\\u041a\\u043e\\u043b\\u0438\\u0447\\u0435\\u0441\\u0442\\u0432\\u043e\": 101}, {\"mb_used_counted\": 677.0, \"\\u041a\\u043e\\u043b\\u0438\\u0447\\u0435\\u0441\\u0442\\u0432\\u043e\": 105}, {\"mb_used_counted\": 678.0, \"\\u041a\\u043e\\u043b\\u0438\\u0447\\u0435\\u0441\\u0442\\u0432\\u043e\": 108}, {\"mb_used_counted\": 679.0, \"\\u041a\\u043e\\u043b\\u0438\\u0447\\u0435\\u0441\\u0442\\u0432\\u043e\": 113}, {\"mb_used_counted\": 680.0, \"\\u041a\\u043e\\u043b\\u0438\\u0447\\u0435\\u0441\\u0442\\u0432\\u043e\": 120}, {\"mb_used_counted\": 681.0, \"\\u041a\\u043e\\u043b\\u0438\\u0447\\u0435\\u0441\\u0442\\u0432\\u043e\": 114}, {\"mb_used_counted\": 682.0, \"\\u041a\\u043e\\u043b\\u0438\\u0447\\u0435\\u0441\\u0442\\u0432\\u043e\": 120}, {\"mb_used_counted\": 683.0, \"\\u041a\\u043e\\u043b\\u0438\\u0447\\u0435\\u0441\\u0442\\u0432\\u043e\": 106}, {\"mb_used_counted\": 684.0, \"\\u041a\\u043e\\u043b\\u0438\\u0447\\u0435\\u0441\\u0442\\u0432\\u043e\": 118}, {\"mb_used_counted\": 685.0, \"\\u041a\\u043e\\u043b\\u0438\\u0447\\u0435\\u0441\\u0442\\u0432\\u043e\": 110}, {\"mb_used_counted\": 686.0, \"\\u041a\\u043e\\u043b\\u0438\\u0447\\u0435\\u0441\\u0442\\u0432\\u043e\": 109}, {\"mb_used_counted\": 687.0, \"\\u041a\\u043e\\u043b\\u0438\\u0447\\u0435\\u0441\\u0442\\u0432\\u043e\": 112}, {\"mb_used_counted\": 688.0, \"\\u041a\\u043e\\u043b\\u0438\\u0447\\u0435\\u0441\\u0442\\u0432\\u043e\": 110}, {\"mb_used_counted\": 689.0, \"\\u041a\\u043e\\u043b\\u0438\\u0447\\u0435\\u0441\\u0442\\u0432\\u043e\": 103}, {\"mb_used_counted\": 690.0, \"\\u041a\\u043e\\u043b\\u0438\\u0447\\u0435\\u0441\\u0442\\u0432\\u043e\": 94}, {\"mb_used_counted\": 691.0, \"\\u041a\\u043e\\u043b\\u0438\\u0447\\u0435\\u0441\\u0442\\u0432\\u043e\": 119}, {\"mb_used_counted\": 692.0, \"\\u041a\\u043e\\u043b\\u0438\\u0447\\u0435\\u0441\\u0442\\u0432\\u043e\": 113}, {\"mb_used_counted\": 693.0, \"\\u041a\\u043e\\u043b\\u0438\\u0447\\u0435\\u0441\\u0442\\u0432\\u043e\": 89}, {\"mb_used_counted\": 694.0, \"\\u041a\\u043e\\u043b\\u0438\\u0447\\u0435\\u0441\\u0442\\u0432\\u043e\": 96}, {\"mb_used_counted\": 695.0, \"\\u041a\\u043e\\u043b\\u0438\\u0447\\u0435\\u0441\\u0442\\u0432\\u043e\": 104}, {\"mb_used_counted\": 696.0, \"\\u041a\\u043e\\u043b\\u0438\\u0447\\u0435\\u0441\\u0442\\u0432\\u043e\": 94}, {\"mb_used_counted\": 697.0, \"\\u041a\\u043e\\u043b\\u0438\\u0447\\u0435\\u0441\\u0442\\u0432\\u043e\": 101}, {\"mb_used_counted\": 698.0, \"\\u041a\\u043e\\u043b\\u0438\\u0447\\u0435\\u0441\\u0442\\u0432\\u043e\": 108}, {\"mb_used_counted\": 699.0, \"\\u041a\\u043e\\u043b\\u0438\\u0447\\u0435\\u0441\\u0442\\u0432\\u043e\": 101}, {\"mb_used_counted\": 700.0, \"\\u041a\\u043e\\u043b\\u0438\\u0447\\u0435\\u0441\\u0442\\u0432\\u043e\": 110}, {\"mb_used_counted\": 701.0, \"\\u041a\\u043e\\u043b\\u0438\\u0447\\u0435\\u0441\\u0442\\u0432\\u043e\": 92}, {\"mb_used_counted\": 702.0, \"\\u041a\\u043e\\u043b\\u0438\\u0447\\u0435\\u0441\\u0442\\u0432\\u043e\": 99}, {\"mb_used_counted\": 703.0, \"\\u041a\\u043e\\u043b\\u0438\\u0447\\u0435\\u0441\\u0442\\u0432\\u043e\": 107}, {\"mb_used_counted\": 704.0, \"\\u041a\\u043e\\u043b\\u0438\\u0447\\u0435\\u0441\\u0442\\u0432\\u043e\": 102}, {\"mb_used_counted\": 705.0, \"\\u041a\\u043e\\u043b\\u0438\\u0447\\u0435\\u0441\\u0442\\u0432\\u043e\": 88}, {\"mb_used_counted\": 706.0, \"\\u041a\\u043e\\u043b\\u0438\\u0447\\u0435\\u0441\\u0442\\u0432\\u043e\": 104}, {\"mb_used_counted\": 707.0, \"\\u041a\\u043e\\u043b\\u0438\\u0447\\u0435\\u0441\\u0442\\u0432\\u043e\": 94}, {\"mb_used_counted\": 708.0, \"\\u041a\\u043e\\u043b\\u0438\\u0447\\u0435\\u0441\\u0442\\u0432\\u043e\": 101}, {\"mb_used_counted\": 709.0, \"\\u041a\\u043e\\u043b\\u0438\\u0447\\u0435\\u0441\\u0442\\u0432\\u043e\": 85}, {\"mb_used_counted\": 710.0, \"\\u041a\\u043e\\u043b\\u0438\\u0447\\u0435\\u0441\\u0442\\u0432\\u043e\": 87}, {\"mb_used_counted\": 711.0, \"\\u041a\\u043e\\u043b\\u0438\\u0447\\u0435\\u0441\\u0442\\u0432\\u043e\": 98}, {\"mb_used_counted\": 712.0, \"\\u041a\\u043e\\u043b\\u0438\\u0447\\u0435\\u0441\\u0442\\u0432\\u043e\": 93}, {\"mb_used_counted\": 713.0, \"\\u041a\\u043e\\u043b\\u0438\\u0447\\u0435\\u0441\\u0442\\u0432\\u043e\": 96}, {\"mb_used_counted\": 714.0, \"\\u041a\\u043e\\u043b\\u0438\\u0447\\u0435\\u0441\\u0442\\u0432\\u043e\": 88}, {\"mb_used_counted\": 715.0, \"\\u041a\\u043e\\u043b\\u0438\\u0447\\u0435\\u0441\\u0442\\u0432\\u043e\": 91}, {\"mb_used_counted\": 716.0, \"\\u041a\\u043e\\u043b\\u0438\\u0447\\u0435\\u0441\\u0442\\u0432\\u043e\": 105}, {\"mb_used_counted\": 717.0, \"\\u041a\\u043e\\u043b\\u0438\\u0447\\u0435\\u0441\\u0442\\u0432\\u043e\": 117}, {\"mb_used_counted\": 718.0, \"\\u041a\\u043e\\u043b\\u0438\\u0447\\u0435\\u0441\\u0442\\u0432\\u043e\": 91}, {\"mb_used_counted\": 719.0, \"\\u041a\\u043e\\u043b\\u0438\\u0447\\u0435\\u0441\\u0442\\u0432\\u043e\": 87}, {\"mb_used_counted\": 720.0, \"\\u041a\\u043e\\u043b\\u0438\\u0447\\u0435\\u0441\\u0442\\u0432\\u043e\": 102}, {\"mb_used_counted\": 721.0, \"\\u041a\\u043e\\u043b\\u0438\\u0447\\u0435\\u0441\\u0442\\u0432\\u043e\": 85}, {\"mb_used_counted\": 722.0, \"\\u041a\\u043e\\u043b\\u0438\\u0447\\u0435\\u0441\\u0442\\u0432\\u043e\": 86}, {\"mb_used_counted\": 723.0, \"\\u041a\\u043e\\u043b\\u0438\\u0447\\u0435\\u0441\\u0442\\u0432\\u043e\": 81}, {\"mb_used_counted\": 724.0, \"\\u041a\\u043e\\u043b\\u0438\\u0447\\u0435\\u0441\\u0442\\u0432\\u043e\": 91}, {\"mb_used_counted\": 725.0, \"\\u041a\\u043e\\u043b\\u0438\\u0447\\u0435\\u0441\\u0442\\u0432\\u043e\": 114}, {\"mb_used_counted\": 726.0, \"\\u041a\\u043e\\u043b\\u0438\\u0447\\u0435\\u0441\\u0442\\u0432\\u043e\": 98}, {\"mb_used_counted\": 727.0, \"\\u041a\\u043e\\u043b\\u0438\\u0447\\u0435\\u0441\\u0442\\u0432\\u043e\": 80}, {\"mb_used_counted\": 728.0, \"\\u041a\\u043e\\u043b\\u0438\\u0447\\u0435\\u0441\\u0442\\u0432\\u043e\": 105}, {\"mb_used_counted\": 729.0, \"\\u041a\\u043e\\u043b\\u0438\\u0447\\u0435\\u0441\\u0442\\u0432\\u043e\": 101}, {\"mb_used_counted\": 730.0, \"\\u041a\\u043e\\u043b\\u0438\\u0447\\u0435\\u0441\\u0442\\u0432\\u043e\": 119}, {\"mb_used_counted\": 731.0, \"\\u041a\\u043e\\u043b\\u0438\\u0447\\u0435\\u0441\\u0442\\u0432\\u043e\": 90}, {\"mb_used_counted\": 732.0, \"\\u041a\\u043e\\u043b\\u0438\\u0447\\u0435\\u0441\\u0442\\u0432\\u043e\": 64}, {\"mb_used_counted\": 733.0, \"\\u041a\\u043e\\u043b\\u0438\\u0447\\u0435\\u0441\\u0442\\u0432\\u043e\": 93}, {\"mb_used_counted\": 734.0, \"\\u041a\\u043e\\u043b\\u0438\\u0447\\u0435\\u0441\\u0442\\u0432\\u043e\": 82}, {\"mb_used_counted\": 735.0, \"\\u041a\\u043e\\u043b\\u0438\\u0447\\u0435\\u0441\\u0442\\u0432\\u043e\": 83}, {\"mb_used_counted\": 736.0, \"\\u041a\\u043e\\u043b\\u0438\\u0447\\u0435\\u0441\\u0442\\u0432\\u043e\": 78}, {\"mb_used_counted\": 737.0, \"\\u041a\\u043e\\u043b\\u0438\\u0447\\u0435\\u0441\\u0442\\u0432\\u043e\": 89}, {\"mb_used_counted\": 738.0, \"\\u041a\\u043e\\u043b\\u0438\\u0447\\u0435\\u0441\\u0442\\u0432\\u043e\": 85}, {\"mb_used_counted\": 739.0, \"\\u041a\\u043e\\u043b\\u0438\\u0447\\u0435\\u0441\\u0442\\u0432\\u043e\": 88}, {\"mb_used_counted\": 740.0, \"\\u041a\\u043e\\u043b\\u0438\\u0447\\u0435\\u0441\\u0442\\u0432\\u043e\": 87}, {\"mb_used_counted\": 741.0, \"\\u041a\\u043e\\u043b\\u0438\\u0447\\u0435\\u0441\\u0442\\u0432\\u043e\": 91}, {\"mb_used_counted\": 742.0, \"\\u041a\\u043e\\u043b\\u0438\\u0447\\u0435\\u0441\\u0442\\u0432\\u043e\": 90}, {\"mb_used_counted\": 743.0, \"\\u041a\\u043e\\u043b\\u0438\\u0447\\u0435\\u0441\\u0442\\u0432\\u043e\": 71}, {\"mb_used_counted\": 744.0, \"\\u041a\\u043e\\u043b\\u0438\\u0447\\u0435\\u0441\\u0442\\u0432\\u043e\": 84}, {\"mb_used_counted\": 745.0, \"\\u041a\\u043e\\u043b\\u0438\\u0447\\u0435\\u0441\\u0442\\u0432\\u043e\": 85}, {\"mb_used_counted\": 746.0, \"\\u041a\\u043e\\u043b\\u0438\\u0447\\u0435\\u0441\\u0442\\u0432\\u043e\": 84}, {\"mb_used_counted\": 747.0, \"\\u041a\\u043e\\u043b\\u0438\\u0447\\u0435\\u0441\\u0442\\u0432\\u043e\": 100}, {\"mb_used_counted\": 748.0, \"\\u041a\\u043e\\u043b\\u0438\\u0447\\u0435\\u0441\\u0442\\u0432\\u043e\": 102}, {\"mb_used_counted\": 749.0, \"\\u041a\\u043e\\u043b\\u0438\\u0447\\u0435\\u0441\\u0442\\u0432\\u043e\": 81}, {\"mb_used_counted\": 750.0, \"\\u041a\\u043e\\u043b\\u0438\\u0447\\u0435\\u0441\\u0442\\u0432\\u043e\": 80}, {\"mb_used_counted\": 751.0, \"\\u041a\\u043e\\u043b\\u0438\\u0447\\u0435\\u0441\\u0442\\u0432\\u043e\": 80}, {\"mb_used_counted\": 752.0, \"\\u041a\\u043e\\u043b\\u0438\\u0447\\u0435\\u0441\\u0442\\u0432\\u043e\": 83}, {\"mb_used_counted\": 753.0, \"\\u041a\\u043e\\u043b\\u0438\\u0447\\u0435\\u0441\\u0442\\u0432\\u043e\": 91}, {\"mb_used_counted\": 754.0, \"\\u041a\\u043e\\u043b\\u0438\\u0447\\u0435\\u0441\\u0442\\u0432\\u043e\": 82}, {\"mb_used_counted\": 755.0, \"\\u041a\\u043e\\u043b\\u0438\\u0447\\u0435\\u0441\\u0442\\u0432\\u043e\": 85}, {\"mb_used_counted\": 756.0, \"\\u041a\\u043e\\u043b\\u0438\\u0447\\u0435\\u0441\\u0442\\u0432\\u043e\": 73}, {\"mb_used_counted\": 757.0, \"\\u041a\\u043e\\u043b\\u0438\\u0447\\u0435\\u0441\\u0442\\u0432\\u043e\": 88}, {\"mb_used_counted\": 758.0, \"\\u041a\\u043e\\u043b\\u0438\\u0447\\u0435\\u0441\\u0442\\u0432\\u043e\": 89}, {\"mb_used_counted\": 759.0, \"\\u041a\\u043e\\u043b\\u0438\\u0447\\u0435\\u0441\\u0442\\u0432\\u043e\": 96}, {\"mb_used_counted\": 760.0, \"\\u041a\\u043e\\u043b\\u0438\\u0447\\u0435\\u0441\\u0442\\u0432\\u043e\": 76}, {\"mb_used_counted\": 761.0, \"\\u041a\\u043e\\u043b\\u0438\\u0447\\u0435\\u0441\\u0442\\u0432\\u043e\": 66}, {\"mb_used_counted\": 762.0, \"\\u041a\\u043e\\u043b\\u0438\\u0447\\u0435\\u0441\\u0442\\u0432\\u043e\": 58}, {\"mb_used_counted\": 763.0, \"\\u041a\\u043e\\u043b\\u0438\\u0447\\u0435\\u0441\\u0442\\u0432\\u043e\": 86}, {\"mb_used_counted\": 764.0, \"\\u041a\\u043e\\u043b\\u0438\\u0447\\u0435\\u0441\\u0442\\u0432\\u043e\": 87}, {\"mb_used_counted\": 765.0, \"\\u041a\\u043e\\u043b\\u0438\\u0447\\u0435\\u0441\\u0442\\u0432\\u043e\": 78}, {\"mb_used_counted\": 766.0, \"\\u041a\\u043e\\u043b\\u0438\\u0447\\u0435\\u0441\\u0442\\u0432\\u043e\": 86}, {\"mb_used_counted\": 767.0, \"\\u041a\\u043e\\u043b\\u0438\\u0447\\u0435\\u0441\\u0442\\u0432\\u043e\": 88}, {\"mb_used_counted\": 768.0, \"\\u041a\\u043e\\u043b\\u0438\\u0447\\u0435\\u0441\\u0442\\u0432\\u043e\": 66}, {\"mb_used_counted\": 769.0, \"\\u041a\\u043e\\u043b\\u0438\\u0447\\u0435\\u0441\\u0442\\u0432\\u043e\": 77}, {\"mb_used_counted\": 770.0, \"\\u041a\\u043e\\u043b\\u0438\\u0447\\u0435\\u0441\\u0442\\u0432\\u043e\": 83}, {\"mb_used_counted\": 771.0, \"\\u041a\\u043e\\u043b\\u0438\\u0447\\u0435\\u0441\\u0442\\u0432\\u043e\": 67}, {\"mb_used_counted\": 772.0, \"\\u041a\\u043e\\u043b\\u0438\\u0447\\u0435\\u0441\\u0442\\u0432\\u043e\": 81}, {\"mb_used_counted\": 773.0, \"\\u041a\\u043e\\u043b\\u0438\\u0447\\u0435\\u0441\\u0442\\u0432\\u043e\": 62}, {\"mb_used_counted\": 774.0, \"\\u041a\\u043e\\u043b\\u0438\\u0447\\u0435\\u0441\\u0442\\u0432\\u043e\": 74}, {\"mb_used_counted\": 775.0, \"\\u041a\\u043e\\u043b\\u0438\\u0447\\u0435\\u0441\\u0442\\u0432\\u043e\": 73}, {\"mb_used_counted\": 776.0, \"\\u041a\\u043e\\u043b\\u0438\\u0447\\u0435\\u0441\\u0442\\u0432\\u043e\": 66}, {\"mb_used_counted\": 777.0, \"\\u041a\\u043e\\u043b\\u0438\\u0447\\u0435\\u0441\\u0442\\u0432\\u043e\": 83}, {\"mb_used_counted\": 778.0, \"\\u041a\\u043e\\u043b\\u0438\\u0447\\u0435\\u0441\\u0442\\u0432\\u043e\": 70}, {\"mb_used_counted\": 779.0, \"\\u041a\\u043e\\u043b\\u0438\\u0447\\u0435\\u0441\\u0442\\u0432\\u043e\": 82}, {\"mb_used_counted\": 780.0, \"\\u041a\\u043e\\u043b\\u0438\\u0447\\u0435\\u0441\\u0442\\u0432\\u043e\": 66}, {\"mb_used_counted\": 781.0, \"\\u041a\\u043e\\u043b\\u0438\\u0447\\u0435\\u0441\\u0442\\u0432\\u043e\": 74}, {\"mb_used_counted\": 782.0, \"\\u041a\\u043e\\u043b\\u0438\\u0447\\u0435\\u0441\\u0442\\u0432\\u043e\": 75}, {\"mb_used_counted\": 783.0, \"\\u041a\\u043e\\u043b\\u0438\\u0447\\u0435\\u0441\\u0442\\u0432\\u043e\": 88}, {\"mb_used_counted\": 784.0, \"\\u041a\\u043e\\u043b\\u0438\\u0447\\u0435\\u0441\\u0442\\u0432\\u043e\": 76}, {\"mb_used_counted\": 785.0, \"\\u041a\\u043e\\u043b\\u0438\\u0447\\u0435\\u0441\\u0442\\u0432\\u043e\": 79}, {\"mb_used_counted\": 786.0, \"\\u041a\\u043e\\u043b\\u0438\\u0447\\u0435\\u0441\\u0442\\u0432\\u043e\": 56}, {\"mb_used_counted\": 787.0, \"\\u041a\\u043e\\u043b\\u0438\\u0447\\u0435\\u0441\\u0442\\u0432\\u043e\": 76}, {\"mb_used_counted\": 788.0, \"\\u041a\\u043e\\u043b\\u0438\\u0447\\u0435\\u0441\\u0442\\u0432\\u043e\": 71}, {\"mb_used_counted\": 789.0, \"\\u041a\\u043e\\u043b\\u0438\\u0447\\u0435\\u0441\\u0442\\u0432\\u043e\": 64}, {\"mb_used_counted\": 790.0, \"\\u041a\\u043e\\u043b\\u0438\\u0447\\u0435\\u0441\\u0442\\u0432\\u043e\": 68}, {\"mb_used_counted\": 791.0, \"\\u041a\\u043e\\u043b\\u0438\\u0447\\u0435\\u0441\\u0442\\u0432\\u043e\": 53}, {\"mb_used_counted\": 792.0, \"\\u041a\\u043e\\u043b\\u0438\\u0447\\u0435\\u0441\\u0442\\u0432\\u043e\": 71}, {\"mb_used_counted\": 793.0, \"\\u041a\\u043e\\u043b\\u0438\\u0447\\u0435\\u0441\\u0442\\u0432\\u043e\": 47}, {\"mb_used_counted\": 794.0, \"\\u041a\\u043e\\u043b\\u0438\\u0447\\u0435\\u0441\\u0442\\u0432\\u043e\": 71}, {\"mb_used_counted\": 795.0, \"\\u041a\\u043e\\u043b\\u0438\\u0447\\u0435\\u0441\\u0442\\u0432\\u043e\": 85}, {\"mb_used_counted\": 796.0, \"\\u041a\\u043e\\u043b\\u0438\\u0447\\u0435\\u0441\\u0442\\u0432\\u043e\": 60}, {\"mb_used_counted\": 797.0, \"\\u041a\\u043e\\u043b\\u0438\\u0447\\u0435\\u0441\\u0442\\u0432\\u043e\": 58}, {\"mb_used_counted\": 798.0, \"\\u041a\\u043e\\u043b\\u0438\\u0447\\u0435\\u0441\\u0442\\u0432\\u043e\": 74}, {\"mb_used_counted\": 799.0, \"\\u041a\\u043e\\u043b\\u0438\\u0447\\u0435\\u0441\\u0442\\u0432\\u043e\": 76}, {\"mb_used_counted\": 800.0, \"\\u041a\\u043e\\u043b\\u0438\\u0447\\u0435\\u0441\\u0442\\u0432\\u043e\": 66}, {\"mb_used_counted\": 801.0, \"\\u041a\\u043e\\u043b\\u0438\\u0447\\u0435\\u0441\\u0442\\u0432\\u043e\": 64}, {\"mb_used_counted\": 802.0, \"\\u041a\\u043e\\u043b\\u0438\\u0447\\u0435\\u0441\\u0442\\u0432\\u043e\": 73}, {\"mb_used_counted\": 803.0, \"\\u041a\\u043e\\u043b\\u0438\\u0447\\u0435\\u0441\\u0442\\u0432\\u043e\": 70}, {\"mb_used_counted\": 804.0, \"\\u041a\\u043e\\u043b\\u0438\\u0447\\u0435\\u0441\\u0442\\u0432\\u043e\": 60}, {\"mb_used_counted\": 805.0, \"\\u041a\\u043e\\u043b\\u0438\\u0447\\u0435\\u0441\\u0442\\u0432\\u043e\": 64}, {\"mb_used_counted\": 806.0, \"\\u041a\\u043e\\u043b\\u0438\\u0447\\u0435\\u0441\\u0442\\u0432\\u043e\": 73}, {\"mb_used_counted\": 807.0, \"\\u041a\\u043e\\u043b\\u0438\\u0447\\u0435\\u0441\\u0442\\u0432\\u043e\": 62}, {\"mb_used_counted\": 808.0, \"\\u041a\\u043e\\u043b\\u0438\\u0447\\u0435\\u0441\\u0442\\u0432\\u043e\": 68}, {\"mb_used_counted\": 809.0, \"\\u041a\\u043e\\u043b\\u0438\\u0447\\u0435\\u0441\\u0442\\u0432\\u043e\": 59}, {\"mb_used_counted\": 810.0, \"\\u041a\\u043e\\u043b\\u0438\\u0447\\u0435\\u0441\\u0442\\u0432\\u043e\": 69}, {\"mb_used_counted\": 811.0, \"\\u041a\\u043e\\u043b\\u0438\\u0447\\u0435\\u0441\\u0442\\u0432\\u043e\": 55}, {\"mb_used_counted\": 812.0, \"\\u041a\\u043e\\u043b\\u0438\\u0447\\u0435\\u0441\\u0442\\u0432\\u043e\": 75}, {\"mb_used_counted\": 813.0, \"\\u041a\\u043e\\u043b\\u0438\\u0447\\u0435\\u0441\\u0442\\u0432\\u043e\": 54}, {\"mb_used_counted\": 814.0, \"\\u041a\\u043e\\u043b\\u0438\\u0447\\u0435\\u0441\\u0442\\u0432\\u043e\": 59}, {\"mb_used_counted\": 815.0, \"\\u041a\\u043e\\u043b\\u0438\\u0447\\u0435\\u0441\\u0442\\u0432\\u043e\": 75}, {\"mb_used_counted\": 816.0, \"\\u041a\\u043e\\u043b\\u0438\\u0447\\u0435\\u0441\\u0442\\u0432\\u043e\": 70}, {\"mb_used_counted\": 817.0, \"\\u041a\\u043e\\u043b\\u0438\\u0447\\u0435\\u0441\\u0442\\u0432\\u043e\": 62}, {\"mb_used_counted\": 818.0, \"\\u041a\\u043e\\u043b\\u0438\\u0447\\u0435\\u0441\\u0442\\u0432\\u043e\": 71}, {\"mb_used_counted\": 819.0, \"\\u041a\\u043e\\u043b\\u0438\\u0447\\u0435\\u0441\\u0442\\u0432\\u043e\": 70}, {\"mb_used_counted\": 820.0, \"\\u041a\\u043e\\u043b\\u0438\\u0447\\u0435\\u0441\\u0442\\u0432\\u043e\": 73}, {\"mb_used_counted\": 821.0, \"\\u041a\\u043e\\u043b\\u0438\\u0447\\u0435\\u0441\\u0442\\u0432\\u043e\": 57}, {\"mb_used_counted\": 822.0, \"\\u041a\\u043e\\u043b\\u0438\\u0447\\u0435\\u0441\\u0442\\u0432\\u043e\": 61}, {\"mb_used_counted\": 823.0, \"\\u041a\\u043e\\u043b\\u0438\\u0447\\u0435\\u0441\\u0442\\u0432\\u043e\": 54}, {\"mb_used_counted\": 824.0, \"\\u041a\\u043e\\u043b\\u0438\\u0447\\u0435\\u0441\\u0442\\u0432\\u043e\": 61}, {\"mb_used_counted\": 825.0, \"\\u041a\\u043e\\u043b\\u0438\\u0447\\u0435\\u0441\\u0442\\u0432\\u043e\": 62}, {\"mb_used_counted\": 826.0, \"\\u041a\\u043e\\u043b\\u0438\\u0447\\u0435\\u0441\\u0442\\u0432\\u043e\": 62}, {\"mb_used_counted\": 827.0, \"\\u041a\\u043e\\u043b\\u0438\\u0447\\u0435\\u0441\\u0442\\u0432\\u043e\": 59}, {\"mb_used_counted\": 828.0, \"\\u041a\\u043e\\u043b\\u0438\\u0447\\u0435\\u0441\\u0442\\u0432\\u043e\": 61}, {\"mb_used_counted\": 829.0, \"\\u041a\\u043e\\u043b\\u0438\\u0447\\u0435\\u0441\\u0442\\u0432\\u043e\": 56}, {\"mb_used_counted\": 830.0, \"\\u041a\\u043e\\u043b\\u0438\\u0447\\u0435\\u0441\\u0442\\u0432\\u043e\": 61}, {\"mb_used_counted\": 831.0, \"\\u041a\\u043e\\u043b\\u0438\\u0447\\u0435\\u0441\\u0442\\u0432\\u043e\": 38}, {\"mb_used_counted\": 832.0, \"\\u041a\\u043e\\u043b\\u0438\\u0447\\u0435\\u0441\\u0442\\u0432\\u043e\": 76}, {\"mb_used_counted\": 833.0, \"\\u041a\\u043e\\u043b\\u0438\\u0447\\u0435\\u0441\\u0442\\u0432\\u043e\": 56}, {\"mb_used_counted\": 834.0, \"\\u041a\\u043e\\u043b\\u0438\\u0447\\u0435\\u0441\\u0442\\u0432\\u043e\": 56}, {\"mb_used_counted\": 835.0, \"\\u041a\\u043e\\u043b\\u0438\\u0447\\u0435\\u0441\\u0442\\u0432\\u043e\": 63}, {\"mb_used_counted\": 836.0, \"\\u041a\\u043e\\u043b\\u0438\\u0447\\u0435\\u0441\\u0442\\u0432\\u043e\": 62}, {\"mb_used_counted\": 837.0, \"\\u041a\\u043e\\u043b\\u0438\\u0447\\u0435\\u0441\\u0442\\u0432\\u043e\": 59}, {\"mb_used_counted\": 838.0, \"\\u041a\\u043e\\u043b\\u0438\\u0447\\u0435\\u0441\\u0442\\u0432\\u043e\": 47}, {\"mb_used_counted\": 839.0, \"\\u041a\\u043e\\u043b\\u0438\\u0447\\u0435\\u0441\\u0442\\u0432\\u043e\": 62}, {\"mb_used_counted\": 840.0, \"\\u041a\\u043e\\u043b\\u0438\\u0447\\u0435\\u0441\\u0442\\u0432\\u043e\": 56}, {\"mb_used_counted\": 841.0, \"\\u041a\\u043e\\u043b\\u0438\\u0447\\u0435\\u0441\\u0442\\u0432\\u043e\": 63}, {\"mb_used_counted\": 842.0, \"\\u041a\\u043e\\u043b\\u0438\\u0447\\u0435\\u0441\\u0442\\u0432\\u043e\": 62}, {\"mb_used_counted\": 843.0, \"\\u041a\\u043e\\u043b\\u0438\\u0447\\u0435\\u0441\\u0442\\u0432\\u043e\": 50}, {\"mb_used_counted\": 844.0, \"\\u041a\\u043e\\u043b\\u0438\\u0447\\u0435\\u0441\\u0442\\u0432\\u043e\": 54}, {\"mb_used_counted\": 845.0, \"\\u041a\\u043e\\u043b\\u0438\\u0447\\u0435\\u0441\\u0442\\u0432\\u043e\": 52}, {\"mb_used_counted\": 846.0, \"\\u041a\\u043e\\u043b\\u0438\\u0447\\u0435\\u0441\\u0442\\u0432\\u043e\": 59}, {\"mb_used_counted\": 847.0, \"\\u041a\\u043e\\u043b\\u0438\\u0447\\u0435\\u0441\\u0442\\u0432\\u043e\": 51}, {\"mb_used_counted\": 848.0, \"\\u041a\\u043e\\u043b\\u0438\\u0447\\u0435\\u0441\\u0442\\u0432\\u043e\": 48}, {\"mb_used_counted\": 849.0, \"\\u041a\\u043e\\u043b\\u0438\\u0447\\u0435\\u0441\\u0442\\u0432\\u043e\": 56}, {\"mb_used_counted\": 850.0, \"\\u041a\\u043e\\u043b\\u0438\\u0447\\u0435\\u0441\\u0442\\u0432\\u043e\": 45}, {\"mb_used_counted\": 851.0, \"\\u041a\\u043e\\u043b\\u0438\\u0447\\u0435\\u0441\\u0442\\u0432\\u043e\": 59}, {\"mb_used_counted\": 852.0, \"\\u041a\\u043e\\u043b\\u0438\\u0447\\u0435\\u0441\\u0442\\u0432\\u043e\": 54}, {\"mb_used_counted\": 853.0, \"\\u041a\\u043e\\u043b\\u0438\\u0447\\u0435\\u0441\\u0442\\u0432\\u043e\": 61}, {\"mb_used_counted\": 854.0, \"\\u041a\\u043e\\u043b\\u0438\\u0447\\u0435\\u0441\\u0442\\u0432\\u043e\": 47}, {\"mb_used_counted\": 855.0, \"\\u041a\\u043e\\u043b\\u0438\\u0447\\u0435\\u0441\\u0442\\u0432\\u043e\": 66}, {\"mb_used_counted\": 856.0, \"\\u041a\\u043e\\u043b\\u0438\\u0447\\u0435\\u0441\\u0442\\u0432\\u043e\": 51}, {\"mb_used_counted\": 857.0, \"\\u041a\\u043e\\u043b\\u0438\\u0447\\u0435\\u0441\\u0442\\u0432\\u043e\": 54}, {\"mb_used_counted\": 858.0, \"\\u041a\\u043e\\u043b\\u0438\\u0447\\u0435\\u0441\\u0442\\u0432\\u043e\": 57}, {\"mb_used_counted\": 859.0, \"\\u041a\\u043e\\u043b\\u0438\\u0447\\u0435\\u0441\\u0442\\u0432\\u043e\": 51}, {\"mb_used_counted\": 860.0, \"\\u041a\\u043e\\u043b\\u0438\\u0447\\u0435\\u0441\\u0442\\u0432\\u043e\": 47}, {\"mb_used_counted\": 861.0, \"\\u041a\\u043e\\u043b\\u0438\\u0447\\u0435\\u0441\\u0442\\u0432\\u043e\": 47}, {\"mb_used_counted\": 862.0, \"\\u041a\\u043e\\u043b\\u0438\\u0447\\u0435\\u0441\\u0442\\u0432\\u043e\": 38}, {\"mb_used_counted\": 863.0, \"\\u041a\\u043e\\u043b\\u0438\\u0447\\u0435\\u0441\\u0442\\u0432\\u043e\": 65}, {\"mb_used_counted\": 864.0, \"\\u041a\\u043e\\u043b\\u0438\\u0447\\u0435\\u0441\\u0442\\u0432\\u043e\": 49}, {\"mb_used_counted\": 865.0, \"\\u041a\\u043e\\u043b\\u0438\\u0447\\u0435\\u0441\\u0442\\u0432\\u043e\": 44}, {\"mb_used_counted\": 866.0, \"\\u041a\\u043e\\u043b\\u0438\\u0447\\u0435\\u0441\\u0442\\u0432\\u043e\": 50}, {\"mb_used_counted\": 867.0, \"\\u041a\\u043e\\u043b\\u0438\\u0447\\u0435\\u0441\\u0442\\u0432\\u043e\": 43}, {\"mb_used_counted\": 868.0, \"\\u041a\\u043e\\u043b\\u0438\\u0447\\u0435\\u0441\\u0442\\u0432\\u043e\": 52}, {\"mb_used_counted\": 869.0, \"\\u041a\\u043e\\u043b\\u0438\\u0447\\u0435\\u0441\\u0442\\u0432\\u043e\": 42}, {\"mb_used_counted\": 870.0, \"\\u041a\\u043e\\u043b\\u0438\\u0447\\u0435\\u0441\\u0442\\u0432\\u043e\": 66}, {\"mb_used_counted\": 871.0, \"\\u041a\\u043e\\u043b\\u0438\\u0447\\u0435\\u0441\\u0442\\u0432\\u043e\": 43}, {\"mb_used_counted\": 872.0, \"\\u041a\\u043e\\u043b\\u0438\\u0447\\u0435\\u0441\\u0442\\u0432\\u043e\": 53}, {\"mb_used_counted\": 873.0, \"\\u041a\\u043e\\u043b\\u0438\\u0447\\u0435\\u0441\\u0442\\u0432\\u043e\": 46}, {\"mb_used_counted\": 874.0, \"\\u041a\\u043e\\u043b\\u0438\\u0447\\u0435\\u0441\\u0442\\u0432\\u043e\": 57}, {\"mb_used_counted\": 875.0, \"\\u041a\\u043e\\u043b\\u0438\\u0447\\u0435\\u0441\\u0442\\u0432\\u043e\": 52}, {\"mb_used_counted\": 876.0, \"\\u041a\\u043e\\u043b\\u0438\\u0447\\u0435\\u0441\\u0442\\u0432\\u043e\": 38}, {\"mb_used_counted\": 877.0, \"\\u041a\\u043e\\u043b\\u0438\\u0447\\u0435\\u0441\\u0442\\u0432\\u043e\": 50}, {\"mb_used_counted\": 878.0, \"\\u041a\\u043e\\u043b\\u0438\\u0447\\u0435\\u0441\\u0442\\u0432\\u043e\": 42}, {\"mb_used_counted\": 879.0, \"\\u041a\\u043e\\u043b\\u0438\\u0447\\u0435\\u0441\\u0442\\u0432\\u043e\": 43}, {\"mb_used_counted\": 880.0, \"\\u041a\\u043e\\u043b\\u0438\\u0447\\u0435\\u0441\\u0442\\u0432\\u043e\": 42}, {\"mb_used_counted\": 881.0, \"\\u041a\\u043e\\u043b\\u0438\\u0447\\u0435\\u0441\\u0442\\u0432\\u043e\": 48}, {\"mb_used_counted\": 882.0, \"\\u041a\\u043e\\u043b\\u0438\\u0447\\u0435\\u0441\\u0442\\u0432\\u043e\": 36}, {\"mb_used_counted\": 883.0, \"\\u041a\\u043e\\u043b\\u0438\\u0447\\u0435\\u0441\\u0442\\u0432\\u043e\": 51}, {\"mb_used_counted\": 884.0, \"\\u041a\\u043e\\u043b\\u0438\\u0447\\u0435\\u0441\\u0442\\u0432\\u043e\": 45}, {\"mb_used_counted\": 885.0, \"\\u041a\\u043e\\u043b\\u0438\\u0447\\u0435\\u0441\\u0442\\u0432\\u043e\": 42}, {\"mb_used_counted\": 886.0, \"\\u041a\\u043e\\u043b\\u0438\\u0447\\u0435\\u0441\\u0442\\u0432\\u043e\": 48}, {\"mb_used_counted\": 887.0, \"\\u041a\\u043e\\u043b\\u0438\\u0447\\u0435\\u0441\\u0442\\u0432\\u043e\": 39}, {\"mb_used_counted\": 888.0, \"\\u041a\\u043e\\u043b\\u0438\\u0447\\u0435\\u0441\\u0442\\u0432\\u043e\": 51}, {\"mb_used_counted\": 889.0, \"\\u041a\\u043e\\u043b\\u0438\\u0447\\u0435\\u0441\\u0442\\u0432\\u043e\": 42}, {\"mb_used_counted\": 890.0, \"\\u041a\\u043e\\u043b\\u0438\\u0447\\u0435\\u0441\\u0442\\u0432\\u043e\": 41}, {\"mb_used_counted\": 891.0, \"\\u041a\\u043e\\u043b\\u0438\\u0447\\u0435\\u0441\\u0442\\u0432\\u043e\": 53}, {\"mb_used_counted\": 892.0, \"\\u041a\\u043e\\u043b\\u0438\\u0447\\u0435\\u0441\\u0442\\u0432\\u043e\": 39}, {\"mb_used_counted\": 893.0, \"\\u041a\\u043e\\u043b\\u0438\\u0447\\u0435\\u0441\\u0442\\u0432\\u043e\": 45}, {\"mb_used_counted\": 894.0, \"\\u041a\\u043e\\u043b\\u0438\\u0447\\u0435\\u0441\\u0442\\u0432\\u043e\": 35}, {\"mb_used_counted\": 895.0, \"\\u041a\\u043e\\u043b\\u0438\\u0447\\u0435\\u0441\\u0442\\u0432\\u043e\": 47}, {\"mb_used_counted\": 896.0, \"\\u041a\\u043e\\u043b\\u0438\\u0447\\u0435\\u0441\\u0442\\u0432\\u043e\": 43}, {\"mb_used_counted\": 897.0, \"\\u041a\\u043e\\u043b\\u0438\\u0447\\u0435\\u0441\\u0442\\u0432\\u043e\": 41}, {\"mb_used_counted\": 898.0, \"\\u041a\\u043e\\u043b\\u0438\\u0447\\u0435\\u0441\\u0442\\u0432\\u043e\": 36}, {\"mb_used_counted\": 899.0, \"\\u041a\\u043e\\u043b\\u0438\\u0447\\u0435\\u0441\\u0442\\u0432\\u043e\": 39}, {\"mb_used_counted\": 900.0, \"\\u041a\\u043e\\u043b\\u0438\\u0447\\u0435\\u0441\\u0442\\u0432\\u043e\": 50}, {\"mb_used_counted\": 901.0, \"\\u041a\\u043e\\u043b\\u0438\\u0447\\u0435\\u0441\\u0442\\u0432\\u043e\": 55}, {\"mb_used_counted\": 902.0, \"\\u041a\\u043e\\u043b\\u0438\\u0447\\u0435\\u0441\\u0442\\u0432\\u043e\": 38}, {\"mb_used_counted\": 903.0, \"\\u041a\\u043e\\u043b\\u0438\\u0447\\u0435\\u0441\\u0442\\u0432\\u043e\": 51}, {\"mb_used_counted\": 904.0, \"\\u041a\\u043e\\u043b\\u0438\\u0447\\u0435\\u0441\\u0442\\u0432\\u043e\": 32}, {\"mb_used_counted\": 905.0, \"\\u041a\\u043e\\u043b\\u0438\\u0447\\u0435\\u0441\\u0442\\u0432\\u043e\": 37}, {\"mb_used_counted\": 906.0, \"\\u041a\\u043e\\u043b\\u0438\\u0447\\u0435\\u0441\\u0442\\u0432\\u043e\": 40}, {\"mb_used_counted\": 907.0, \"\\u041a\\u043e\\u043b\\u0438\\u0447\\u0435\\u0441\\u0442\\u0432\\u043e\": 42}, {\"mb_used_counted\": 908.0, \"\\u041a\\u043e\\u043b\\u0438\\u0447\\u0435\\u0441\\u0442\\u0432\\u043e\": 36}, {\"mb_used_counted\": 909.0, \"\\u041a\\u043e\\u043b\\u0438\\u0447\\u0435\\u0441\\u0442\\u0432\\u043e\": 35}, {\"mb_used_counted\": 910.0, \"\\u041a\\u043e\\u043b\\u0438\\u0447\\u0435\\u0441\\u0442\\u0432\\u043e\": 22}, {\"mb_used_counted\": 911.0, \"\\u041a\\u043e\\u043b\\u0438\\u0447\\u0435\\u0441\\u0442\\u0432\\u043e\": 51}, {\"mb_used_counted\": 912.0, \"\\u041a\\u043e\\u043b\\u0438\\u0447\\u0435\\u0441\\u0442\\u0432\\u043e\": 39}, {\"mb_used_counted\": 913.0, \"\\u041a\\u043e\\u043b\\u0438\\u0447\\u0435\\u0441\\u0442\\u0432\\u043e\": 53}, {\"mb_used_counted\": 914.0, \"\\u041a\\u043e\\u043b\\u0438\\u0447\\u0435\\u0441\\u0442\\u0432\\u043e\": 36}, {\"mb_used_counted\": 915.0, \"\\u041a\\u043e\\u043b\\u0438\\u0447\\u0435\\u0441\\u0442\\u0432\\u043e\": 39}, {\"mb_used_counted\": 916.0, \"\\u041a\\u043e\\u043b\\u0438\\u0447\\u0435\\u0441\\u0442\\u0432\\u043e\": 36}, {\"mb_used_counted\": 917.0, \"\\u041a\\u043e\\u043b\\u0438\\u0447\\u0435\\u0441\\u0442\\u0432\\u043e\": 31}, {\"mb_used_counted\": 918.0, \"\\u041a\\u043e\\u043b\\u0438\\u0447\\u0435\\u0441\\u0442\\u0432\\u043e\": 50}, {\"mb_used_counted\": 919.0, \"\\u041a\\u043e\\u043b\\u0438\\u0447\\u0435\\u0441\\u0442\\u0432\\u043e\": 29}, {\"mb_used_counted\": 920.0, \"\\u041a\\u043e\\u043b\\u0438\\u0447\\u0435\\u0441\\u0442\\u0432\\u043e\": 42}, {\"mb_used_counted\": 921.0, \"\\u041a\\u043e\\u043b\\u0438\\u0447\\u0435\\u0441\\u0442\\u0432\\u043e\": 43}, {\"mb_used_counted\": 922.0, \"\\u041a\\u043e\\u043b\\u0438\\u0447\\u0435\\u0441\\u0442\\u0432\\u043e\": 30}, {\"mb_used_counted\": 923.0, \"\\u041a\\u043e\\u043b\\u0438\\u0447\\u0435\\u0441\\u0442\\u0432\\u043e\": 19}, {\"mb_used_counted\": 924.0, \"\\u041a\\u043e\\u043b\\u0438\\u0447\\u0435\\u0441\\u0442\\u0432\\u043e\": 30}, {\"mb_used_counted\": 925.0, \"\\u041a\\u043e\\u043b\\u0438\\u0447\\u0435\\u0441\\u0442\\u0432\\u043e\": 31}, {\"mb_used_counted\": 926.0, \"\\u041a\\u043e\\u043b\\u0438\\u0447\\u0435\\u0441\\u0442\\u0432\\u043e\": 35}, {\"mb_used_counted\": 927.0, \"\\u041a\\u043e\\u043b\\u0438\\u0447\\u0435\\u0441\\u0442\\u0432\\u043e\": 34}, {\"mb_used_counted\": 928.0, \"\\u041a\\u043e\\u043b\\u0438\\u0447\\u0435\\u0441\\u0442\\u0432\\u043e\": 37}, {\"mb_used_counted\": 929.0, \"\\u041a\\u043e\\u043b\\u0438\\u0447\\u0435\\u0441\\u0442\\u0432\\u043e\": 40}, {\"mb_used_counted\": 930.0, \"\\u041a\\u043e\\u043b\\u0438\\u0447\\u0435\\u0441\\u0442\\u0432\\u043e\": 37}, {\"mb_used_counted\": 931.0, \"\\u041a\\u043e\\u043b\\u0438\\u0447\\u0435\\u0441\\u0442\\u0432\\u043e\": 36}, {\"mb_used_counted\": 932.0, \"\\u041a\\u043e\\u043b\\u0438\\u0447\\u0435\\u0441\\u0442\\u0432\\u043e\": 39}, {\"mb_used_counted\": 933.0, \"\\u041a\\u043e\\u043b\\u0438\\u0447\\u0435\\u0441\\u0442\\u0432\\u043e\": 38}, {\"mb_used_counted\": 934.0, \"\\u041a\\u043e\\u043b\\u0438\\u0447\\u0435\\u0441\\u0442\\u0432\\u043e\": 35}, {\"mb_used_counted\": 935.0, \"\\u041a\\u043e\\u043b\\u0438\\u0447\\u0435\\u0441\\u0442\\u0432\\u043e\": 28}, {\"mb_used_counted\": 936.0, \"\\u041a\\u043e\\u043b\\u0438\\u0447\\u0435\\u0441\\u0442\\u0432\\u043e\": 34}, {\"mb_used_counted\": 937.0, \"\\u041a\\u043e\\u043b\\u0438\\u0447\\u0435\\u0441\\u0442\\u0432\\u043e\": 40}, {\"mb_used_counted\": 938.0, \"\\u041a\\u043e\\u043b\\u0438\\u0447\\u0435\\u0441\\u0442\\u0432\\u043e\": 36}, {\"mb_used_counted\": 939.0, \"\\u041a\\u043e\\u043b\\u0438\\u0447\\u0435\\u0441\\u0442\\u0432\\u043e\": 33}, {\"mb_used_counted\": 940.0, \"\\u041a\\u043e\\u043b\\u0438\\u0447\\u0435\\u0441\\u0442\\u0432\\u043e\": 41}, {\"mb_used_counted\": 941.0, \"\\u041a\\u043e\\u043b\\u0438\\u0447\\u0435\\u0441\\u0442\\u0432\\u043e\": 30}, {\"mb_used_counted\": 942.0, \"\\u041a\\u043e\\u043b\\u0438\\u0447\\u0435\\u0441\\u0442\\u0432\\u043e\": 27}, {\"mb_used_counted\": 943.0, \"\\u041a\\u043e\\u043b\\u0438\\u0447\\u0435\\u0441\\u0442\\u0432\\u043e\": 28}, {\"mb_used_counted\": 944.0, \"\\u041a\\u043e\\u043b\\u0438\\u0447\\u0435\\u0441\\u0442\\u0432\\u043e\": 34}, {\"mb_used_counted\": 945.0, \"\\u041a\\u043e\\u043b\\u0438\\u0447\\u0435\\u0441\\u0442\\u0432\\u043e\": 31}, {\"mb_used_counted\": 946.0, \"\\u041a\\u043e\\u043b\\u0438\\u0447\\u0435\\u0441\\u0442\\u0432\\u043e\": 30}, {\"mb_used_counted\": 947.0, \"\\u041a\\u043e\\u043b\\u0438\\u0447\\u0435\\u0441\\u0442\\u0432\\u043e\": 29}, {\"mb_used_counted\": 948.0, \"\\u041a\\u043e\\u043b\\u0438\\u0447\\u0435\\u0441\\u0442\\u0432\\u043e\": 32}, {\"mb_used_counted\": 949.0, \"\\u041a\\u043e\\u043b\\u0438\\u0447\\u0435\\u0441\\u0442\\u0432\\u043e\": 37}, {\"mb_used_counted\": 950.0, \"\\u041a\\u043e\\u043b\\u0438\\u0447\\u0435\\u0441\\u0442\\u0432\\u043e\": 32}, {\"mb_used_counted\": 951.0, \"\\u041a\\u043e\\u043b\\u0438\\u0447\\u0435\\u0441\\u0442\\u0432\\u043e\": 32}, {\"mb_used_counted\": 952.0, \"\\u041a\\u043e\\u043b\\u0438\\u0447\\u0435\\u0441\\u0442\\u0432\\u043e\": 27}, {\"mb_used_counted\": 953.0, \"\\u041a\\u043e\\u043b\\u0438\\u0447\\u0435\\u0441\\u0442\\u0432\\u043e\": 32}, {\"mb_used_counted\": 954.0, \"\\u041a\\u043e\\u043b\\u0438\\u0447\\u0435\\u0441\\u0442\\u0432\\u043e\": 23}, {\"mb_used_counted\": 955.0, \"\\u041a\\u043e\\u043b\\u0438\\u0447\\u0435\\u0441\\u0442\\u0432\\u043e\": 17}, {\"mb_used_counted\": 956.0, \"\\u041a\\u043e\\u043b\\u0438\\u0447\\u0435\\u0441\\u0442\\u0432\\u043e\": 25}, {\"mb_used_counted\": 957.0, \"\\u041a\\u043e\\u043b\\u0438\\u0447\\u0435\\u0441\\u0442\\u0432\\u043e\": 34}, {\"mb_used_counted\": 958.0, \"\\u041a\\u043e\\u043b\\u0438\\u0447\\u0435\\u0441\\u0442\\u0432\\u043e\": 22}, {\"mb_used_counted\": 959.0, \"\\u041a\\u043e\\u043b\\u0438\\u0447\\u0435\\u0441\\u0442\\u0432\\u043e\": 29}, {\"mb_used_counted\": 960.0, \"\\u041a\\u043e\\u043b\\u0438\\u0447\\u0435\\u0441\\u0442\\u0432\\u043e\": 27}, {\"mb_used_counted\": 961.0, \"\\u041a\\u043e\\u043b\\u0438\\u0447\\u0435\\u0441\\u0442\\u0432\\u043e\": 26}, {\"mb_used_counted\": 962.0, \"\\u041a\\u043e\\u043b\\u0438\\u0447\\u0435\\u0441\\u0442\\u0432\\u043e\": 31}, {\"mb_used_counted\": 963.0, \"\\u041a\\u043e\\u043b\\u0438\\u0447\\u0435\\u0441\\u0442\\u0432\\u043e\": 33}, {\"mb_used_counted\": 964.0, \"\\u041a\\u043e\\u043b\\u0438\\u0447\\u0435\\u0441\\u0442\\u0432\\u043e\": 26}, {\"mb_used_counted\": 965.0, \"\\u041a\\u043e\\u043b\\u0438\\u0447\\u0435\\u0441\\u0442\\u0432\\u043e\": 22}, {\"mb_used_counted\": 966.0, \"\\u041a\\u043e\\u043b\\u0438\\u0447\\u0435\\u0441\\u0442\\u0432\\u043e\": 27}, {\"mb_used_counted\": 967.0, \"\\u041a\\u043e\\u043b\\u0438\\u0447\\u0435\\u0441\\u0442\\u0432\\u043e\": 35}, {\"mb_used_counted\": 968.0, \"\\u041a\\u043e\\u043b\\u0438\\u0447\\u0435\\u0441\\u0442\\u0432\\u043e\": 37}, {\"mb_used_counted\": 969.0, \"\\u041a\\u043e\\u043b\\u0438\\u0447\\u0435\\u0441\\u0442\\u0432\\u043e\": 28}, {\"mb_used_counted\": 970.0, \"\\u041a\\u043e\\u043b\\u0438\\u0447\\u0435\\u0441\\u0442\\u0432\\u043e\": 33}, {\"mb_used_counted\": 971.0, \"\\u041a\\u043e\\u043b\\u0438\\u0447\\u0435\\u0441\\u0442\\u0432\\u043e\": 27}, {\"mb_used_counted\": 972.0, \"\\u041a\\u043e\\u043b\\u0438\\u0447\\u0435\\u0441\\u0442\\u0432\\u043e\": 20}, {\"mb_used_counted\": 973.0, \"\\u041a\\u043e\\u043b\\u0438\\u0447\\u0435\\u0441\\u0442\\u0432\\u043e\": 27}, {\"mb_used_counted\": 974.0, \"\\u041a\\u043e\\u043b\\u0438\\u0447\\u0435\\u0441\\u0442\\u0432\\u043e\": 27}, {\"mb_used_counted\": 975.0, \"\\u041a\\u043e\\u043b\\u0438\\u0447\\u0435\\u0441\\u0442\\u0432\\u043e\": 27}, {\"mb_used_counted\": 976.0, \"\\u041a\\u043e\\u043b\\u0438\\u0447\\u0435\\u0441\\u0442\\u0432\\u043e\": 28}, {\"mb_used_counted\": 977.0, \"\\u041a\\u043e\\u043b\\u0438\\u0447\\u0435\\u0441\\u0442\\u0432\\u043e\": 23}, {\"mb_used_counted\": 978.0, \"\\u041a\\u043e\\u043b\\u0438\\u0447\\u0435\\u0441\\u0442\\u0432\\u043e\": 21}, {\"mb_used_counted\": 979.0, \"\\u041a\\u043e\\u043b\\u0438\\u0447\\u0435\\u0441\\u0442\\u0432\\u043e\": 40}, {\"mb_used_counted\": 980.0, \"\\u041a\\u043e\\u043b\\u0438\\u0447\\u0435\\u0441\\u0442\\u0432\\u043e\": 30}, {\"mb_used_counted\": 981.0, \"\\u041a\\u043e\\u043b\\u0438\\u0447\\u0435\\u0441\\u0442\\u0432\\u043e\": 21}, {\"mb_used_counted\": 982.0, \"\\u041a\\u043e\\u043b\\u0438\\u0447\\u0435\\u0441\\u0442\\u0432\\u043e\": 37}, {\"mb_used_counted\": 983.0, \"\\u041a\\u043e\\u043b\\u0438\\u0447\\u0435\\u0441\\u0442\\u0432\\u043e\": 28}, {\"mb_used_counted\": 984.0, \"\\u041a\\u043e\\u043b\\u0438\\u0447\\u0435\\u0441\\u0442\\u0432\\u043e\": 18}, {\"mb_used_counted\": 985.0, \"\\u041a\\u043e\\u043b\\u0438\\u0447\\u0435\\u0441\\u0442\\u0432\\u043e\": 23}, {\"mb_used_counted\": 986.0, \"\\u041a\\u043e\\u043b\\u0438\\u0447\\u0435\\u0441\\u0442\\u0432\\u043e\": 31}, {\"mb_used_counted\": 987.0, \"\\u041a\\u043e\\u043b\\u0438\\u0447\\u0435\\u0441\\u0442\\u0432\\u043e\": 32}, {\"mb_used_counted\": 988.0, \"\\u041a\\u043e\\u043b\\u0438\\u0447\\u0435\\u0441\\u0442\\u0432\\u043e\": 28}, {\"mb_used_counted\": 989.0, \"\\u041a\\u043e\\u043b\\u0438\\u0447\\u0435\\u0441\\u0442\\u0432\\u043e\": 28}, {\"mb_used_counted\": 990.0, \"\\u041a\\u043e\\u043b\\u0438\\u0447\\u0435\\u0441\\u0442\\u0432\\u043e\": 38}, {\"mb_used_counted\": 991.0, \"\\u041a\\u043e\\u043b\\u0438\\u0447\\u0435\\u0441\\u0442\\u0432\\u043e\": 18}, {\"mb_used_counted\": 992.0, \"\\u041a\\u043e\\u043b\\u0438\\u0447\\u0435\\u0441\\u0442\\u0432\\u043e\": 21}, {\"mb_used_counted\": 993.0, \"\\u041a\\u043e\\u043b\\u0438\\u0447\\u0435\\u0441\\u0442\\u0432\\u043e\": 25}, {\"mb_used_counted\": 994.0, \"\\u041a\\u043e\\u043b\\u0438\\u0447\\u0435\\u0441\\u0442\\u0432\\u043e\": 22}, {\"mb_used_counted\": 995.0, \"\\u041a\\u043e\\u043b\\u0438\\u0447\\u0435\\u0441\\u0442\\u0432\\u043e\": 18}, {\"mb_used_counted\": 996.0, \"\\u041a\\u043e\\u043b\\u0438\\u0447\\u0435\\u0441\\u0442\\u0432\\u043e\": 20}, {\"mb_used_counted\": 997.0, \"\\u041a\\u043e\\u043b\\u0438\\u0447\\u0435\\u0441\\u0442\\u0432\\u043e\": 22}, {\"mb_used_counted\": 998.0, \"\\u041a\\u043e\\u043b\\u0438\\u0447\\u0435\\u0441\\u0442\\u0432\\u043e\": 21}, {\"mb_used_counted\": 999.0, \"\\u041a\\u043e\\u043b\\u0438\\u0447\\u0435\\u0441\\u0442\\u0432\\u043e\": 26}, {\"mb_used_counted\": 1000.0, \"\\u041a\\u043e\\u043b\\u0438\\u0447\\u0435\\u0441\\u0442\\u0432\\u043e\": 12}, {\"mb_used_counted\": 1001.0, \"\\u041a\\u043e\\u043b\\u0438\\u0447\\u0435\\u0441\\u0442\\u0432\\u043e\": 19}, {\"mb_used_counted\": 1002.0, \"\\u041a\\u043e\\u043b\\u0438\\u0447\\u0435\\u0441\\u0442\\u0432\\u043e\": 22}, {\"mb_used_counted\": 1003.0, \"\\u041a\\u043e\\u043b\\u0438\\u0447\\u0435\\u0441\\u0442\\u0432\\u043e\": 18}, {\"mb_used_counted\": 1004.0, \"\\u041a\\u043e\\u043b\\u0438\\u0447\\u0435\\u0441\\u0442\\u0432\\u043e\": 17}, {\"mb_used_counted\": 1005.0, \"\\u041a\\u043e\\u043b\\u0438\\u0447\\u0435\\u0441\\u0442\\u0432\\u043e\": 20}, {\"mb_used_counted\": 1006.0, \"\\u041a\\u043e\\u043b\\u0438\\u0447\\u0435\\u0441\\u0442\\u0432\\u043e\": 19}, {\"mb_used_counted\": 1007.0, \"\\u041a\\u043e\\u043b\\u0438\\u0447\\u0435\\u0441\\u0442\\u0432\\u043e\": 33}, {\"mb_used_counted\": 1008.0, \"\\u041a\\u043e\\u043b\\u0438\\u0447\\u0435\\u0441\\u0442\\u0432\\u043e\": 17}, {\"mb_used_counted\": 1009.0, \"\\u041a\\u043e\\u043b\\u0438\\u0447\\u0435\\u0441\\u0442\\u0432\\u043e\": 23}, {\"mb_used_counted\": 1010.0, \"\\u041a\\u043e\\u043b\\u0438\\u0447\\u0435\\u0441\\u0442\\u0432\\u043e\": 11}, {\"mb_used_counted\": 1011.0, \"\\u041a\\u043e\\u043b\\u0438\\u0447\\u0435\\u0441\\u0442\\u0432\\u043e\": 16}, {\"mb_used_counted\": 1012.0, \"\\u041a\\u043e\\u043b\\u0438\\u0447\\u0435\\u0441\\u0442\\u0432\\u043e\": 18}, {\"mb_used_counted\": 1013.0, \"\\u041a\\u043e\\u043b\\u0438\\u0447\\u0435\\u0441\\u0442\\u0432\\u043e\": 22}, {\"mb_used_counted\": 1014.0, \"\\u041a\\u043e\\u043b\\u0438\\u0447\\u0435\\u0441\\u0442\\u0432\\u043e\": 22}, {\"mb_used_counted\": 1015.0, \"\\u041a\\u043e\\u043b\\u0438\\u0447\\u0435\\u0441\\u0442\\u0432\\u043e\": 18}, {\"mb_used_counted\": 1016.0, \"\\u041a\\u043e\\u043b\\u0438\\u0447\\u0435\\u0441\\u0442\\u0432\\u043e\": 17}, {\"mb_used_counted\": 1017.0, \"\\u041a\\u043e\\u043b\\u0438\\u0447\\u0435\\u0441\\u0442\\u0432\\u043e\": 28}, {\"mb_used_counted\": 1018.0, \"\\u041a\\u043e\\u043b\\u0438\\u0447\\u0435\\u0441\\u0442\\u0432\\u043e\": 17}, {\"mb_used_counted\": 1019.0, \"\\u041a\\u043e\\u043b\\u0438\\u0447\\u0435\\u0441\\u0442\\u0432\\u043e\": 22}, {\"mb_used_counted\": 1020.0, \"\\u041a\\u043e\\u043b\\u0438\\u0447\\u0435\\u0441\\u0442\\u0432\\u043e\": 11}, {\"mb_used_counted\": 1021.0, \"\\u041a\\u043e\\u043b\\u0438\\u0447\\u0435\\u0441\\u0442\\u0432\\u043e\": 18}, {\"mb_used_counted\": 1022.0, \"\\u041a\\u043e\\u043b\\u0438\\u0447\\u0435\\u0441\\u0442\\u0432\\u043e\": 25}, {\"mb_used_counted\": 1023.0, \"\\u041a\\u043e\\u043b\\u0438\\u0447\\u0435\\u0441\\u0442\\u0432\\u043e\": 18}, {\"mb_used_counted\": 1024.0, \"\\u041a\\u043e\\u043b\\u0438\\u0447\\u0435\\u0441\\u0442\\u0432\\u043e\": 28}, {\"mb_used_counted\": 1025.0, \"\\u041a\\u043e\\u043b\\u0438\\u0447\\u0435\\u0441\\u0442\\u0432\\u043e\": 13}, {\"mb_used_counted\": 1026.0, \"\\u041a\\u043e\\u043b\\u0438\\u0447\\u0435\\u0441\\u0442\\u0432\\u043e\": 23}, {\"mb_used_counted\": 1027.0, \"\\u041a\\u043e\\u043b\\u0438\\u0447\\u0435\\u0441\\u0442\\u0432\\u043e\": 22}, {\"mb_used_counted\": 1028.0, \"\\u041a\\u043e\\u043b\\u0438\\u0447\\u0435\\u0441\\u0442\\u0432\\u043e\": 19}, {\"mb_used_counted\": 1029.0, \"\\u041a\\u043e\\u043b\\u0438\\u0447\\u0435\\u0441\\u0442\\u0432\\u043e\": 21}, {\"mb_used_counted\": 1030.0, \"\\u041a\\u043e\\u043b\\u0438\\u0447\\u0435\\u0441\\u0442\\u0432\\u043e\": 23}, {\"mb_used_counted\": 1031.0, \"\\u041a\\u043e\\u043b\\u0438\\u0447\\u0435\\u0441\\u0442\\u0432\\u043e\": 13}, {\"mb_used_counted\": 1032.0, \"\\u041a\\u043e\\u043b\\u0438\\u0447\\u0435\\u0441\\u0442\\u0432\\u043e\": 20}, {\"mb_used_counted\": 1033.0, \"\\u041a\\u043e\\u043b\\u0438\\u0447\\u0435\\u0441\\u0442\\u0432\\u043e\": 16}, {\"mb_used_counted\": 1034.0, \"\\u041a\\u043e\\u043b\\u0438\\u0447\\u0435\\u0441\\u0442\\u0432\\u043e\": 19}, {\"mb_used_counted\": 1035.0, \"\\u041a\\u043e\\u043b\\u0438\\u0447\\u0435\\u0441\\u0442\\u0432\\u043e\": 16}, {\"mb_used_counted\": 1036.0, \"\\u041a\\u043e\\u043b\\u0438\\u0447\\u0435\\u0441\\u0442\\u0432\\u043e\": 14}, {\"mb_used_counted\": 1037.0, \"\\u041a\\u043e\\u043b\\u0438\\u0447\\u0435\\u0441\\u0442\\u0432\\u043e\": 15}, {\"mb_used_counted\": 1038.0, \"\\u041a\\u043e\\u043b\\u0438\\u0447\\u0435\\u0441\\u0442\\u0432\\u043e\": 18}, {\"mb_used_counted\": 1039.0, \"\\u041a\\u043e\\u043b\\u0438\\u0447\\u0435\\u0441\\u0442\\u0432\\u043e\": 15}, {\"mb_used_counted\": 1040.0, \"\\u041a\\u043e\\u043b\\u0438\\u0447\\u0435\\u0441\\u0442\\u0432\\u043e\": 12}, {\"mb_used_counted\": 1041.0, \"\\u041a\\u043e\\u043b\\u0438\\u0447\\u0435\\u0441\\u0442\\u0432\\u043e\": 24}, {\"mb_used_counted\": 1042.0, \"\\u041a\\u043e\\u043b\\u0438\\u0447\\u0435\\u0441\\u0442\\u0432\\u043e\": 14}, {\"mb_used_counted\": 1043.0, \"\\u041a\\u043e\\u043b\\u0438\\u0447\\u0435\\u0441\\u0442\\u0432\\u043e\": 18}, {\"mb_used_counted\": 1044.0, \"\\u041a\\u043e\\u043b\\u0438\\u0447\\u0435\\u0441\\u0442\\u0432\\u043e\": 18}, {\"mb_used_counted\": 1045.0, \"\\u041a\\u043e\\u043b\\u0438\\u0447\\u0435\\u0441\\u0442\\u0432\\u043e\": 14}, {\"mb_used_counted\": 1046.0, \"\\u041a\\u043e\\u043b\\u0438\\u0447\\u0435\\u0441\\u0442\\u0432\\u043e\": 23}, {\"mb_used_counted\": 1047.0, \"\\u041a\\u043e\\u043b\\u0438\\u0447\\u0435\\u0441\\u0442\\u0432\\u043e\": 16}, {\"mb_used_counted\": 1048.0, \"\\u041a\\u043e\\u043b\\u0438\\u0447\\u0435\\u0441\\u0442\\u0432\\u043e\": 22}, {\"mb_used_counted\": 1049.0, \"\\u041a\\u043e\\u043b\\u0438\\u0447\\u0435\\u0441\\u0442\\u0432\\u043e\": 21}, {\"mb_used_counted\": 1050.0, \"\\u041a\\u043e\\u043b\\u0438\\u0447\\u0435\\u0441\\u0442\\u0432\\u043e\": 18}, {\"mb_used_counted\": 1051.0, \"\\u041a\\u043e\\u043b\\u0438\\u0447\\u0435\\u0441\\u0442\\u0432\\u043e\": 19}, {\"mb_used_counted\": 1052.0, \"\\u041a\\u043e\\u043b\\u0438\\u0447\\u0435\\u0441\\u0442\\u0432\\u043e\": 17}, {\"mb_used_counted\": 1053.0, \"\\u041a\\u043e\\u043b\\u0438\\u0447\\u0435\\u0441\\u0442\\u0432\\u043e\": 18}, {\"mb_used_counted\": 1054.0, \"\\u041a\\u043e\\u043b\\u0438\\u0447\\u0435\\u0441\\u0442\\u0432\\u043e\": 11}, {\"mb_used_counted\": 1055.0, \"\\u041a\\u043e\\u043b\\u0438\\u0447\\u0435\\u0441\\u0442\\u0432\\u043e\": 15}, {\"mb_used_counted\": 1056.0, \"\\u041a\\u043e\\u043b\\u0438\\u0447\\u0435\\u0441\\u0442\\u0432\\u043e\": 17}, {\"mb_used_counted\": 1057.0, \"\\u041a\\u043e\\u043b\\u0438\\u0447\\u0435\\u0441\\u0442\\u0432\\u043e\": 13}, {\"mb_used_counted\": 1058.0, \"\\u041a\\u043e\\u043b\\u0438\\u0447\\u0435\\u0441\\u0442\\u0432\\u043e\": 16}, {\"mb_used_counted\": 1059.0, \"\\u041a\\u043e\\u043b\\u0438\\u0447\\u0435\\u0441\\u0442\\u0432\\u043e\": 20}, {\"mb_used_counted\": 1060.0, \"\\u041a\\u043e\\u043b\\u0438\\u0447\\u0435\\u0441\\u0442\\u0432\\u043e\": 15}, {\"mb_used_counted\": 1061.0, \"\\u041a\\u043e\\u043b\\u0438\\u0447\\u0435\\u0441\\u0442\\u0432\\u043e\": 18}, {\"mb_used_counted\": 1062.0, \"\\u041a\\u043e\\u043b\\u0438\\u0447\\u0435\\u0441\\u0442\\u0432\\u043e\": 12}, {\"mb_used_counted\": 1063.0, \"\\u041a\\u043e\\u043b\\u0438\\u0447\\u0435\\u0441\\u0442\\u0432\\u043e\": 9}, {\"mb_used_counted\": 1064.0, \"\\u041a\\u043e\\u043b\\u0438\\u0447\\u0435\\u0441\\u0442\\u0432\\u043e\": 12}, {\"mb_used_counted\": 1065.0, \"\\u041a\\u043e\\u043b\\u0438\\u0447\\u0435\\u0441\\u0442\\u0432\\u043e\": 9}, {\"mb_used_counted\": 1066.0, \"\\u041a\\u043e\\u043b\\u0438\\u0447\\u0435\\u0441\\u0442\\u0432\\u043e\": 9}, {\"mb_used_counted\": 1067.0, \"\\u041a\\u043e\\u043b\\u0438\\u0447\\u0435\\u0441\\u0442\\u0432\\u043e\": 21}, {\"mb_used_counted\": 1068.0, \"\\u041a\\u043e\\u043b\\u0438\\u0447\\u0435\\u0441\\u0442\\u0432\\u043e\": 18}, {\"mb_used_counted\": 1069.0, \"\\u041a\\u043e\\u043b\\u0438\\u0447\\u0435\\u0441\\u0442\\u0432\\u043e\": 12}, {\"mb_used_counted\": 1070.0, \"\\u041a\\u043e\\u043b\\u0438\\u0447\\u0435\\u0441\\u0442\\u0432\\u043e\": 11}, {\"mb_used_counted\": 1071.0, \"\\u041a\\u043e\\u043b\\u0438\\u0447\\u0435\\u0441\\u0442\\u0432\\u043e\": 11}, {\"mb_used_counted\": 1072.0, \"\\u041a\\u043e\\u043b\\u0438\\u0447\\u0435\\u0441\\u0442\\u0432\\u043e\": 12}, {\"mb_used_counted\": 1073.0, \"\\u041a\\u043e\\u043b\\u0438\\u0447\\u0435\\u0441\\u0442\\u0432\\u043e\": 8}, {\"mb_used_counted\": 1074.0, \"\\u041a\\u043e\\u043b\\u0438\\u0447\\u0435\\u0441\\u0442\\u0432\\u043e\": 18}, {\"mb_used_counted\": 1075.0, \"\\u041a\\u043e\\u043b\\u0438\\u0447\\u0435\\u0441\\u0442\\u0432\\u043e\": 10}, {\"mb_used_counted\": 1076.0, \"\\u041a\\u043e\\u043b\\u0438\\u0447\\u0435\\u0441\\u0442\\u0432\\u043e\": 10}, {\"mb_used_counted\": 1077.0, \"\\u041a\\u043e\\u043b\\u0438\\u0447\\u0435\\u0441\\u0442\\u0432\\u043e\": 11}, {\"mb_used_counted\": 1078.0, \"\\u041a\\u043e\\u043b\\u0438\\u0447\\u0435\\u0441\\u0442\\u0432\\u043e\": 13}, {\"mb_used_counted\": 1079.0, \"\\u041a\\u043e\\u043b\\u0438\\u0447\\u0435\\u0441\\u0442\\u0432\\u043e\": 15}, {\"mb_used_counted\": 1080.0, \"\\u041a\\u043e\\u043b\\u0438\\u0447\\u0435\\u0441\\u0442\\u0432\\u043e\": 13}, {\"mb_used_counted\": 1081.0, \"\\u041a\\u043e\\u043b\\u0438\\u0447\\u0435\\u0441\\u0442\\u0432\\u043e\": 15}, {\"mb_used_counted\": 1082.0, \"\\u041a\\u043e\\u043b\\u0438\\u0447\\u0435\\u0441\\u0442\\u0432\\u043e\": 10}, {\"mb_used_counted\": 1083.0, \"\\u041a\\u043e\\u043b\\u0438\\u0447\\u0435\\u0441\\u0442\\u0432\\u043e\": 10}, {\"mb_used_counted\": 1084.0, \"\\u041a\\u043e\\u043b\\u0438\\u0447\\u0435\\u0441\\u0442\\u0432\\u043e\": 14}, {\"mb_used_counted\": 1085.0, \"\\u041a\\u043e\\u043b\\u0438\\u0447\\u0435\\u0441\\u0442\\u0432\\u043e\": 16}, {\"mb_used_counted\": 1086.0, \"\\u041a\\u043e\\u043b\\u0438\\u0447\\u0435\\u0441\\u0442\\u0432\\u043e\": 10}, {\"mb_used_counted\": 1087.0, \"\\u041a\\u043e\\u043b\\u0438\\u0447\\u0435\\u0441\\u0442\\u0432\\u043e\": 17}, {\"mb_used_counted\": 1088.0, \"\\u041a\\u043e\\u043b\\u0438\\u0447\\u0435\\u0441\\u0442\\u0432\\u043e\": 11}, {\"mb_used_counted\": 1089.0, \"\\u041a\\u043e\\u043b\\u0438\\u0447\\u0435\\u0441\\u0442\\u0432\\u043e\": 11}, {\"mb_used_counted\": 1090.0, \"\\u041a\\u043e\\u043b\\u0438\\u0447\\u0435\\u0441\\u0442\\u0432\\u043e\": 11}, {\"mb_used_counted\": 1091.0, \"\\u041a\\u043e\\u043b\\u0438\\u0447\\u0435\\u0441\\u0442\\u0432\\u043e\": 9}, {\"mb_used_counted\": 1092.0, \"\\u041a\\u043e\\u043b\\u0438\\u0447\\u0435\\u0441\\u0442\\u0432\\u043e\": 11}, {\"mb_used_counted\": 1093.0, \"\\u041a\\u043e\\u043b\\u0438\\u0447\\u0435\\u0441\\u0442\\u0432\\u043e\": 10}, {\"mb_used_counted\": 1094.0, \"\\u041a\\u043e\\u043b\\u0438\\u0447\\u0435\\u0441\\u0442\\u0432\\u043e\": 7}, {\"mb_used_counted\": 1095.0, \"\\u041a\\u043e\\u043b\\u0438\\u0447\\u0435\\u0441\\u0442\\u0432\\u043e\": 6}, {\"mb_used_counted\": 1096.0, \"\\u041a\\u043e\\u043b\\u0438\\u0447\\u0435\\u0441\\u0442\\u0432\\u043e\": 7}, {\"mb_used_counted\": 1097.0, \"\\u041a\\u043e\\u043b\\u0438\\u0447\\u0435\\u0441\\u0442\\u0432\\u043e\": 7}, {\"mb_used_counted\": 1098.0, \"\\u041a\\u043e\\u043b\\u0438\\u0447\\u0435\\u0441\\u0442\\u0432\\u043e\": 10}, {\"mb_used_counted\": 1099.0, \"\\u041a\\u043e\\u043b\\u0438\\u0447\\u0435\\u0441\\u0442\\u0432\\u043e\": 8}, {\"mb_used_counted\": 1100.0, \"\\u041a\\u043e\\u043b\\u0438\\u0447\\u0435\\u0441\\u0442\\u0432\\u043e\": 12}, {\"mb_used_counted\": 1101.0, \"\\u041a\\u043e\\u043b\\u0438\\u0447\\u0435\\u0441\\u0442\\u0432\\u043e\": 9}, {\"mb_used_counted\": 1102.0, \"\\u041a\\u043e\\u043b\\u0438\\u0447\\u0435\\u0441\\u0442\\u0432\\u043e\": 14}, {\"mb_used_counted\": 1103.0, \"\\u041a\\u043e\\u043b\\u0438\\u0447\\u0435\\u0441\\u0442\\u0432\\u043e\": 8}, {\"mb_used_counted\": 1104.0, \"\\u041a\\u043e\\u043b\\u0438\\u0447\\u0435\\u0441\\u0442\\u0432\\u043e\": 8}, {\"mb_used_counted\": 1105.0, \"\\u041a\\u043e\\u043b\\u0438\\u0447\\u0435\\u0441\\u0442\\u0432\\u043e\": 11}, {\"mb_used_counted\": 1106.0, \"\\u041a\\u043e\\u043b\\u0438\\u0447\\u0435\\u0441\\u0442\\u0432\\u043e\": 11}, {\"mb_used_counted\": 1107.0, \"\\u041a\\u043e\\u043b\\u0438\\u0447\\u0435\\u0441\\u0442\\u0432\\u043e\": 16}, {\"mb_used_counted\": 1108.0, \"\\u041a\\u043e\\u043b\\u0438\\u0447\\u0435\\u0441\\u0442\\u0432\\u043e\": 8}, {\"mb_used_counted\": 1109.0, \"\\u041a\\u043e\\u043b\\u0438\\u0447\\u0435\\u0441\\u0442\\u0432\\u043e\": 10}, {\"mb_used_counted\": 1110.0, \"\\u041a\\u043e\\u043b\\u0438\\u0447\\u0435\\u0441\\u0442\\u0432\\u043e\": 10}, {\"mb_used_counted\": 1111.0, \"\\u041a\\u043e\\u043b\\u0438\\u0447\\u0435\\u0441\\u0442\\u0432\\u043e\": 16}, {\"mb_used_counted\": 1112.0, \"\\u041a\\u043e\\u043b\\u0438\\u0447\\u0435\\u0441\\u0442\\u0432\\u043e\": 8}, {\"mb_used_counted\": 1113.0, \"\\u041a\\u043e\\u043b\\u0438\\u0447\\u0435\\u0441\\u0442\\u0432\\u043e\": 8}, {\"mb_used_counted\": 1114.0, \"\\u041a\\u043e\\u043b\\u0438\\u0447\\u0435\\u0441\\u0442\\u0432\\u043e\": 14}, {\"mb_used_counted\": 1115.0, \"\\u041a\\u043e\\u043b\\u0438\\u0447\\u0435\\u0441\\u0442\\u0432\\u043e\": 9}, {\"mb_used_counted\": 1116.0, \"\\u041a\\u043e\\u043b\\u0438\\u0447\\u0435\\u0441\\u0442\\u0432\\u043e\": 12}, {\"mb_used_counted\": 1117.0, \"\\u041a\\u043e\\u043b\\u0438\\u0447\\u0435\\u0441\\u0442\\u0432\\u043e\": 9}, {\"mb_used_counted\": 1118.0, \"\\u041a\\u043e\\u043b\\u0438\\u0447\\u0435\\u0441\\u0442\\u0432\\u043e\": 11}, {\"mb_used_counted\": 1119.0, \"\\u041a\\u043e\\u043b\\u0438\\u0447\\u0435\\u0441\\u0442\\u0432\\u043e\": 5}, {\"mb_used_counted\": 1120.0, \"\\u041a\\u043e\\u043b\\u0438\\u0447\\u0435\\u0441\\u0442\\u0432\\u043e\": 4}, {\"mb_used_counted\": 1121.0, \"\\u041a\\u043e\\u043b\\u0438\\u0447\\u0435\\u0441\\u0442\\u0432\\u043e\": 4}, {\"mb_used_counted\": 1122.0, \"\\u041a\\u043e\\u043b\\u0438\\u0447\\u0435\\u0441\\u0442\\u0432\\u043e\": 3}, {\"mb_used_counted\": 1123.0, \"\\u041a\\u043e\\u043b\\u0438\\u0447\\u0435\\u0441\\u0442\\u0432\\u043e\": 12}, {\"mb_used_counted\": 1124.0, \"\\u041a\\u043e\\u043b\\u0438\\u0447\\u0435\\u0441\\u0442\\u0432\\u043e\": 2}, {\"mb_used_counted\": 1125.0, \"\\u041a\\u043e\\u043b\\u0438\\u0447\\u0435\\u0441\\u0442\\u0432\\u043e\": 13}, {\"mb_used_counted\": 1126.0, \"\\u041a\\u043e\\u043b\\u0438\\u0447\\u0435\\u0441\\u0442\\u0432\\u043e\": 12}, {\"mb_used_counted\": 1127.0, \"\\u041a\\u043e\\u043b\\u0438\\u0447\\u0435\\u0441\\u0442\\u0432\\u043e\": 11}, {\"mb_used_counted\": 1128.0, \"\\u041a\\u043e\\u043b\\u0438\\u0447\\u0435\\u0441\\u0442\\u0432\\u043e\": 18}, {\"mb_used_counted\": 1129.0, \"\\u041a\\u043e\\u043b\\u0438\\u0447\\u0435\\u0441\\u0442\\u0432\\u043e\": 10}, {\"mb_used_counted\": 1130.0, \"\\u041a\\u043e\\u043b\\u0438\\u0447\\u0435\\u0441\\u0442\\u0432\\u043e\": 3}, {\"mb_used_counted\": 1131.0, \"\\u041a\\u043e\\u043b\\u0438\\u0447\\u0435\\u0441\\u0442\\u0432\\u043e\": 13}, {\"mb_used_counted\": 1132.0, \"\\u041a\\u043e\\u043b\\u0438\\u0447\\u0435\\u0441\\u0442\\u0432\\u043e\": 6}, {\"mb_used_counted\": 1133.0, \"\\u041a\\u043e\\u043b\\u0438\\u0447\\u0435\\u0441\\u0442\\u0432\\u043e\": 9}, {\"mb_used_counted\": 1134.0, \"\\u041a\\u043e\\u043b\\u0438\\u0447\\u0435\\u0441\\u0442\\u0432\\u043e\": 9}, {\"mb_used_counted\": 1135.0, \"\\u041a\\u043e\\u043b\\u0438\\u0447\\u0435\\u0441\\u0442\\u0432\\u043e\": 8}, {\"mb_used_counted\": 1136.0, \"\\u041a\\u043e\\u043b\\u0438\\u0447\\u0435\\u0441\\u0442\\u0432\\u043e\": 9}, {\"mb_used_counted\": 1137.0, \"\\u041a\\u043e\\u043b\\u0438\\u0447\\u0435\\u0441\\u0442\\u0432\\u043e\": 5}, {\"mb_used_counted\": 1138.0, \"\\u041a\\u043e\\u043b\\u0438\\u0447\\u0435\\u0441\\u0442\\u0432\\u043e\": 14}, {\"mb_used_counted\": 1139.0, \"\\u041a\\u043e\\u043b\\u0438\\u0447\\u0435\\u0441\\u0442\\u0432\\u043e\": 11}, {\"mb_used_counted\": 1140.0, \"\\u041a\\u043e\\u043b\\u0438\\u0447\\u0435\\u0441\\u0442\\u0432\\u043e\": 15}, {\"mb_used_counted\": 1141.0, \"\\u041a\\u043e\\u043b\\u0438\\u0447\\u0435\\u0441\\u0442\\u0432\\u043e\": 6}, {\"mb_used_counted\": 1142.0, \"\\u041a\\u043e\\u043b\\u0438\\u0447\\u0435\\u0441\\u0442\\u0432\\u043e\": 5}, {\"mb_used_counted\": 1143.0, \"\\u041a\\u043e\\u043b\\u0438\\u0447\\u0435\\u0441\\u0442\\u0432\\u043e\": 3}, {\"mb_used_counted\": 1144.0, \"\\u041a\\u043e\\u043b\\u0438\\u0447\\u0435\\u0441\\u0442\\u0432\\u043e\": 7}, {\"mb_used_counted\": 1145.0, \"\\u041a\\u043e\\u043b\\u0438\\u0447\\u0435\\u0441\\u0442\\u0432\\u043e\": 4}, {\"mb_used_counted\": 1146.0, \"\\u041a\\u043e\\u043b\\u0438\\u0447\\u0435\\u0441\\u0442\\u0432\\u043e\": 7}, {\"mb_used_counted\": 1147.0, \"\\u041a\\u043e\\u043b\\u0438\\u0447\\u0435\\u0441\\u0442\\u0432\\u043e\": 8}, {\"mb_used_counted\": 1148.0, \"\\u041a\\u043e\\u043b\\u0438\\u0447\\u0435\\u0441\\u0442\\u0432\\u043e\": 9}, {\"mb_used_counted\": 1149.0, \"\\u041a\\u043e\\u043b\\u0438\\u0447\\u0435\\u0441\\u0442\\u0432\\u043e\": 9}, {\"mb_used_counted\": 1150.0, \"\\u041a\\u043e\\u043b\\u0438\\u0447\\u0435\\u0441\\u0442\\u0432\\u043e\": 11}, {\"mb_used_counted\": 1151.0, \"\\u041a\\u043e\\u043b\\u0438\\u0447\\u0435\\u0441\\u0442\\u0432\\u043e\": 7}, {\"mb_used_counted\": 1152.0, \"\\u041a\\u043e\\u043b\\u0438\\u0447\\u0435\\u0441\\u0442\\u0432\\u043e\": 3}, {\"mb_used_counted\": 1153.0, \"\\u041a\\u043e\\u043b\\u0438\\u0447\\u0435\\u0441\\u0442\\u0432\\u043e\": 10}, {\"mb_used_counted\": 1154.0, \"\\u041a\\u043e\\u043b\\u0438\\u0447\\u0435\\u0441\\u0442\\u0432\\u043e\": 6}, {\"mb_used_counted\": 1155.0, \"\\u041a\\u043e\\u043b\\u0438\\u0447\\u0435\\u0441\\u0442\\u0432\\u043e\": 6}, {\"mb_used_counted\": 1156.0, \"\\u041a\\u043e\\u043b\\u0438\\u0447\\u0435\\u0441\\u0442\\u0432\\u043e\": 5}, {\"mb_used_counted\": 1157.0, \"\\u041a\\u043e\\u043b\\u0438\\u0447\\u0435\\u0441\\u0442\\u0432\\u043e\": 8}, {\"mb_used_counted\": 1158.0, \"\\u041a\\u043e\\u043b\\u0438\\u0447\\u0435\\u0441\\u0442\\u0432\\u043e\": 6}, {\"mb_used_counted\": 1159.0, \"\\u041a\\u043e\\u043b\\u0438\\u0447\\u0435\\u0441\\u0442\\u0432\\u043e\": 6}, {\"mb_used_counted\": 1160.0, \"\\u041a\\u043e\\u043b\\u0438\\u0447\\u0435\\u0441\\u0442\\u0432\\u043e\": 5}, {\"mb_used_counted\": 1161.0, \"\\u041a\\u043e\\u043b\\u0438\\u0447\\u0435\\u0441\\u0442\\u0432\\u043e\": 8}, {\"mb_used_counted\": 1162.0, \"\\u041a\\u043e\\u043b\\u0438\\u0447\\u0435\\u0441\\u0442\\u0432\\u043e\": 10}, {\"mb_used_counted\": 1163.0, \"\\u041a\\u043e\\u043b\\u0438\\u0447\\u0435\\u0441\\u0442\\u0432\\u043e\": 7}, {\"mb_used_counted\": 1164.0, \"\\u041a\\u043e\\u043b\\u0438\\u0447\\u0435\\u0441\\u0442\\u0432\\u043e\": 5}, {\"mb_used_counted\": 1165.0, \"\\u041a\\u043e\\u043b\\u0438\\u0447\\u0435\\u0441\\u0442\\u0432\\u043e\": 4}, {\"mb_used_counted\": 1166.0, \"\\u041a\\u043e\\u043b\\u0438\\u0447\\u0435\\u0441\\u0442\\u0432\\u043e\": 6}, {\"mb_used_counted\": 1167.0, \"\\u041a\\u043e\\u043b\\u0438\\u0447\\u0435\\u0441\\u0442\\u0432\\u043e\": 8}, {\"mb_used_counted\": 1168.0, \"\\u041a\\u043e\\u043b\\u0438\\u0447\\u0435\\u0441\\u0442\\u0432\\u043e\": 7}, {\"mb_used_counted\": 1169.0, \"\\u041a\\u043e\\u043b\\u0438\\u0447\\u0435\\u0441\\u0442\\u0432\\u043e\": 5}, {\"mb_used_counted\": 1170.0, \"\\u041a\\u043e\\u043b\\u0438\\u0447\\u0435\\u0441\\u0442\\u0432\\u043e\": 8}, {\"mb_used_counted\": 1171.0, \"\\u041a\\u043e\\u043b\\u0438\\u0447\\u0435\\u0441\\u0442\\u0432\\u043e\": 10}, {\"mb_used_counted\": 1172.0, \"\\u041a\\u043e\\u043b\\u0438\\u0447\\u0435\\u0441\\u0442\\u0432\\u043e\": 3}, {\"mb_used_counted\": 1173.0, \"\\u041a\\u043e\\u043b\\u0438\\u0447\\u0435\\u0441\\u0442\\u0432\\u043e\": 2}, {\"mb_used_counted\": 1174.0, \"\\u041a\\u043e\\u043b\\u0438\\u0447\\u0435\\u0441\\u0442\\u0432\\u043e\": 7}, {\"mb_used_counted\": 1175.0, \"\\u041a\\u043e\\u043b\\u0438\\u0447\\u0435\\u0441\\u0442\\u0432\\u043e\": 8}, {\"mb_used_counted\": 1176.0, \"\\u041a\\u043e\\u043b\\u0438\\u0447\\u0435\\u0441\\u0442\\u0432\\u043e\": 10}, {\"mb_used_counted\": 1177.0, \"\\u041a\\u043e\\u043b\\u0438\\u0447\\u0435\\u0441\\u0442\\u0432\\u043e\": 4}, {\"mb_used_counted\": 1178.0, \"\\u041a\\u043e\\u043b\\u0438\\u0447\\u0435\\u0441\\u0442\\u0432\\u043e\": 7}, {\"mb_used_counted\": 1179.0, \"\\u041a\\u043e\\u043b\\u0438\\u0447\\u0435\\u0441\\u0442\\u0432\\u043e\": 7}, {\"mb_used_counted\": 1180.0, \"\\u041a\\u043e\\u043b\\u0438\\u0447\\u0435\\u0441\\u0442\\u0432\\u043e\": 2}, {\"mb_used_counted\": 1181.0, \"\\u041a\\u043e\\u043b\\u0438\\u0447\\u0435\\u0441\\u0442\\u0432\\u043e\": 6}, {\"mb_used_counted\": 1182.0, \"\\u041a\\u043e\\u043b\\u0438\\u0447\\u0435\\u0441\\u0442\\u0432\\u043e\": 5}, {\"mb_used_counted\": 1183.0, \"\\u041a\\u043e\\u043b\\u0438\\u0447\\u0435\\u0441\\u0442\\u0432\\u043e\": 8}, {\"mb_used_counted\": 1184.0, \"\\u041a\\u043e\\u043b\\u0438\\u0447\\u0435\\u0441\\u0442\\u0432\\u043e\": 3}, {\"mb_used_counted\": 1185.0, \"\\u041a\\u043e\\u043b\\u0438\\u0447\\u0435\\u0441\\u0442\\u0432\\u043e\": 9}, {\"mb_used_counted\": 1186.0, \"\\u041a\\u043e\\u043b\\u0438\\u0447\\u0435\\u0441\\u0442\\u0432\\u043e\": 5}, {\"mb_used_counted\": 1187.0, \"\\u041a\\u043e\\u043b\\u0438\\u0447\\u0435\\u0441\\u0442\\u0432\\u043e\": 2}, {\"mb_used_counted\": 1188.0, \"\\u041a\\u043e\\u043b\\u0438\\u0447\\u0435\\u0441\\u0442\\u0432\\u043e\": 4}, {\"mb_used_counted\": 1189.0, \"\\u041a\\u043e\\u043b\\u0438\\u0447\\u0435\\u0441\\u0442\\u0432\\u043e\": 5}, {\"mb_used_counted\": 1190.0, \"\\u041a\\u043e\\u043b\\u0438\\u0447\\u0435\\u0441\\u0442\\u0432\\u043e\": 3}, {\"mb_used_counted\": 1191.0, \"\\u041a\\u043e\\u043b\\u0438\\u0447\\u0435\\u0441\\u0442\\u0432\\u043e\": 8}, {\"mb_used_counted\": 1192.0, \"\\u041a\\u043e\\u043b\\u0438\\u0447\\u0435\\u0441\\u0442\\u0432\\u043e\": 5}, {\"mb_used_counted\": 1193.0, \"\\u041a\\u043e\\u043b\\u0438\\u0447\\u0435\\u0441\\u0442\\u0432\\u043e\": 5}, {\"mb_used_counted\": 1194.0, \"\\u041a\\u043e\\u043b\\u0438\\u0447\\u0435\\u0441\\u0442\\u0432\\u043e\": 2}, {\"mb_used_counted\": 1195.0, \"\\u041a\\u043e\\u043b\\u0438\\u0447\\u0435\\u0441\\u0442\\u0432\\u043e\": 11}, {\"mb_used_counted\": 1196.0, \"\\u041a\\u043e\\u043b\\u0438\\u0447\\u0435\\u0441\\u0442\\u0432\\u043e\": 5}, {\"mb_used_counted\": 1197.0, \"\\u041a\\u043e\\u043b\\u0438\\u0447\\u0435\\u0441\\u0442\\u0432\\u043e\": 8}, {\"mb_used_counted\": 1198.0, \"\\u041a\\u043e\\u043b\\u0438\\u0447\\u0435\\u0441\\u0442\\u0432\\u043e\": 7}, {\"mb_used_counted\": 1199.0, \"\\u041a\\u043e\\u043b\\u0438\\u0447\\u0435\\u0441\\u0442\\u0432\\u043e\": 3}, {\"mb_used_counted\": 1200.0, \"\\u041a\\u043e\\u043b\\u0438\\u0447\\u0435\\u0441\\u0442\\u0432\\u043e\": 7}, {\"mb_used_counted\": 1201.0, \"\\u041a\\u043e\\u043b\\u0438\\u0447\\u0435\\u0441\\u0442\\u0432\\u043e\": 3}, {\"mb_used_counted\": 1202.0, \"\\u041a\\u043e\\u043b\\u0438\\u0447\\u0435\\u0441\\u0442\\u0432\\u043e\": 4}, {\"mb_used_counted\": 1203.0, \"\\u041a\\u043e\\u043b\\u0438\\u0447\\u0435\\u0441\\u0442\\u0432\\u043e\": 4}, {\"mb_used_counted\": 1204.0, \"\\u041a\\u043e\\u043b\\u0438\\u0447\\u0435\\u0441\\u0442\\u0432\\u043e\": 3}, {\"mb_used_counted\": 1205.0, \"\\u041a\\u043e\\u043b\\u0438\\u0447\\u0435\\u0441\\u0442\\u0432\\u043e\": 3}, {\"mb_used_counted\": 1206.0, \"\\u041a\\u043e\\u043b\\u0438\\u0447\\u0435\\u0441\\u0442\\u0432\\u043e\": 3}, {\"mb_used_counted\": 1207.0, \"\\u041a\\u043e\\u043b\\u0438\\u0447\\u0435\\u0441\\u0442\\u0432\\u043e\": 8}, {\"mb_used_counted\": 1208.0, \"\\u041a\\u043e\\u043b\\u0438\\u0447\\u0435\\u0441\\u0442\\u0432\\u043e\": 5}, {\"mb_used_counted\": 1209.0, \"\\u041a\\u043e\\u043b\\u0438\\u0447\\u0435\\u0441\\u0442\\u0432\\u043e\": 8}, {\"mb_used_counted\": 1210.0, \"\\u041a\\u043e\\u043b\\u0438\\u0447\\u0435\\u0441\\u0442\\u0432\\u043e\": 5}, {\"mb_used_counted\": 1211.0, \"\\u041a\\u043e\\u043b\\u0438\\u0447\\u0435\\u0441\\u0442\\u0432\\u043e\": 6}, {\"mb_used_counted\": 1212.0, \"\\u041a\\u043e\\u043b\\u0438\\u0447\\u0435\\u0441\\u0442\\u0432\\u043e\": 5}, {\"mb_used_counted\": 1213.0, \"\\u041a\\u043e\\u043b\\u0438\\u0447\\u0435\\u0441\\u0442\\u0432\\u043e\": 1}, {\"mb_used_counted\": 1214.0, \"\\u041a\\u043e\\u043b\\u0438\\u0447\\u0435\\u0441\\u0442\\u0432\\u043e\": 5}, {\"mb_used_counted\": 1215.0, \"\\u041a\\u043e\\u043b\\u0438\\u0447\\u0435\\u0441\\u0442\\u0432\\u043e\": 4}, {\"mb_used_counted\": 1216.0, \"\\u041a\\u043e\\u043b\\u0438\\u0447\\u0435\\u0441\\u0442\\u0432\\u043e\": 3}, {\"mb_used_counted\": 1217.0, \"\\u041a\\u043e\\u043b\\u0438\\u0447\\u0435\\u0441\\u0442\\u0432\\u043e\": 2}, {\"mb_used_counted\": 1218.0, \"\\u041a\\u043e\\u043b\\u0438\\u0447\\u0435\\u0441\\u0442\\u0432\\u043e\": 3}, {\"mb_used_counted\": 1219.0, \"\\u041a\\u043e\\u043b\\u0438\\u0447\\u0435\\u0441\\u0442\\u0432\\u043e\": 6}, {\"mb_used_counted\": 1220.0, \"\\u041a\\u043e\\u043b\\u0438\\u0447\\u0435\\u0441\\u0442\\u0432\\u043e\": 6}, {\"mb_used_counted\": 1221.0, \"\\u041a\\u043e\\u043b\\u0438\\u0447\\u0435\\u0441\\u0442\\u0432\\u043e\": 7}, {\"mb_used_counted\": 1222.0, \"\\u041a\\u043e\\u043b\\u0438\\u0447\\u0435\\u0441\\u0442\\u0432\\u043e\": 1}, {\"mb_used_counted\": 1223.0, \"\\u041a\\u043e\\u043b\\u0438\\u0447\\u0435\\u0441\\u0442\\u0432\\u043e\": 2}, {\"mb_used_counted\": 1224.0, \"\\u041a\\u043e\\u043b\\u0438\\u0447\\u0435\\u0441\\u0442\\u0432\\u043e\": 3}, {\"mb_used_counted\": 1225.0, \"\\u041a\\u043e\\u043b\\u0438\\u0447\\u0435\\u0441\\u0442\\u0432\\u043e\": 7}, {\"mb_used_counted\": 1226.0, \"\\u041a\\u043e\\u043b\\u0438\\u0447\\u0435\\u0441\\u0442\\u0432\\u043e\": 6}, {\"mb_used_counted\": 1227.0, \"\\u041a\\u043e\\u043b\\u0438\\u0447\\u0435\\u0441\\u0442\\u0432\\u043e\": 4}, {\"mb_used_counted\": 1228.0, \"\\u041a\\u043e\\u043b\\u0438\\u0447\\u0435\\u0441\\u0442\\u0432\\u043e\": 4}, {\"mb_used_counted\": 1229.0, \"\\u041a\\u043e\\u043b\\u0438\\u0447\\u0435\\u0441\\u0442\\u0432\\u043e\": 3}, {\"mb_used_counted\": 1230.0, \"\\u041a\\u043e\\u043b\\u0438\\u0447\\u0435\\u0441\\u0442\\u0432\\u043e\": 1}, {\"mb_used_counted\": 1231.0, \"\\u041a\\u043e\\u043b\\u0438\\u0447\\u0435\\u0441\\u0442\\u0432\\u043e\": 4}, {\"mb_used_counted\": 1232.0, \"\\u041a\\u043e\\u043b\\u0438\\u0447\\u0435\\u0441\\u0442\\u0432\\u043e\": 2}, {\"mb_used_counted\": 1233.0, \"\\u041a\\u043e\\u043b\\u0438\\u0447\\u0435\\u0441\\u0442\\u0432\\u043e\": 5}, {\"mb_used_counted\": 1234.0, \"\\u041a\\u043e\\u043b\\u0438\\u0447\\u0435\\u0441\\u0442\\u0432\\u043e\": 4}, {\"mb_used_counted\": 1235.0, \"\\u041a\\u043e\\u043b\\u0438\\u0447\\u0435\\u0441\\u0442\\u0432\\u043e\": 5}, {\"mb_used_counted\": 1236.0, \"\\u041a\\u043e\\u043b\\u0438\\u0447\\u0435\\u0441\\u0442\\u0432\\u043e\": 2}, {\"mb_used_counted\": 1237.0, \"\\u041a\\u043e\\u043b\\u0438\\u0447\\u0435\\u0441\\u0442\\u0432\\u043e\": 3}, {\"mb_used_counted\": 1238.0, \"\\u041a\\u043e\\u043b\\u0438\\u0447\\u0435\\u0441\\u0442\\u0432\\u043e\": 5}, {\"mb_used_counted\": 1239.0, \"\\u041a\\u043e\\u043b\\u0438\\u0447\\u0435\\u0441\\u0442\\u0432\\u043e\": 2}, {\"mb_used_counted\": 1240.0, \"\\u041a\\u043e\\u043b\\u0438\\u0447\\u0435\\u0441\\u0442\\u0432\\u043e\": 4}, {\"mb_used_counted\": 1241.0, \"\\u041a\\u043e\\u043b\\u0438\\u0447\\u0435\\u0441\\u0442\\u0432\\u043e\": 4}, {\"mb_used_counted\": 1242.0, \"\\u041a\\u043e\\u043b\\u0438\\u0447\\u0435\\u0441\\u0442\\u0432\\u043e\": 2}, {\"mb_used_counted\": 1243.0, \"\\u041a\\u043e\\u043b\\u0438\\u0447\\u0435\\u0441\\u0442\\u0432\\u043e\": 3}, {\"mb_used_counted\": 1244.0, \"\\u041a\\u043e\\u043b\\u0438\\u0447\\u0435\\u0441\\u0442\\u0432\\u043e\": 2}, {\"mb_used_counted\": 1245.0, \"\\u041a\\u043e\\u043b\\u0438\\u0447\\u0435\\u0441\\u0442\\u0432\\u043e\": 3}, {\"mb_used_counted\": 1246.0, \"\\u041a\\u043e\\u043b\\u0438\\u0447\\u0435\\u0441\\u0442\\u0432\\u043e\": 4}, {\"mb_used_counted\": 1247.0, \"\\u041a\\u043e\\u043b\\u0438\\u0447\\u0435\\u0441\\u0442\\u0432\\u043e\": 5}, {\"mb_used_counted\": 1248.0, \"\\u041a\\u043e\\u043b\\u0438\\u0447\\u0435\\u0441\\u0442\\u0432\\u043e\": 2}, {\"mb_used_counted\": 1249.0, \"\\u041a\\u043e\\u043b\\u0438\\u0447\\u0435\\u0441\\u0442\\u0432\\u043e\": 7}, {\"mb_used_counted\": 1250.0, \"\\u041a\\u043e\\u043b\\u0438\\u0447\\u0435\\u0441\\u0442\\u0432\\u043e\": 5}, {\"mb_used_counted\": 1251.0, \"\\u041a\\u043e\\u043b\\u0438\\u0447\\u0435\\u0441\\u0442\\u0432\\u043e\": 2}, {\"mb_used_counted\": 1252.0, \"\\u041a\\u043e\\u043b\\u0438\\u0447\\u0435\\u0441\\u0442\\u0432\\u043e\": 3}, {\"mb_used_counted\": 1253.0, \"\\u041a\\u043e\\u043b\\u0438\\u0447\\u0435\\u0441\\u0442\\u0432\\u043e\": 3}, {\"mb_used_counted\": 1254.0, \"\\u041a\\u043e\\u043b\\u0438\\u0447\\u0435\\u0441\\u0442\\u0432\\u043e\": 3}, {\"mb_used_counted\": 1255.0, \"\\u041a\\u043e\\u043b\\u0438\\u0447\\u0435\\u0441\\u0442\\u0432\\u043e\": 6}, {\"mb_used_counted\": 1256.0, \"\\u041a\\u043e\\u043b\\u0438\\u0447\\u0435\\u0441\\u0442\\u0432\\u043e\": 2}, {\"mb_used_counted\": 1257.0, \"\\u041a\\u043e\\u043b\\u0438\\u0447\\u0435\\u0441\\u0442\\u0432\\u043e\": 1}, {\"mb_used_counted\": 1259.0, \"\\u041a\\u043e\\u043b\\u0438\\u0447\\u0435\\u0441\\u0442\\u0432\\u043e\": 3}, {\"mb_used_counted\": 1261.0, \"\\u041a\\u043e\\u043b\\u0438\\u0447\\u0435\\u0441\\u0442\\u0432\\u043e\": 2}, {\"mb_used_counted\": 1262.0, \"\\u041a\\u043e\\u043b\\u0438\\u0447\\u0435\\u0441\\u0442\\u0432\\u043e\": 3}, {\"mb_used_counted\": 1263.0, \"\\u041a\\u043e\\u043b\\u0438\\u0447\\u0435\\u0441\\u0442\\u0432\\u043e\": 2}, {\"mb_used_counted\": 1264.0, \"\\u041a\\u043e\\u043b\\u0438\\u0447\\u0435\\u0441\\u0442\\u0432\\u043e\": 3}, {\"mb_used_counted\": 1265.0, \"\\u041a\\u043e\\u043b\\u0438\\u0447\\u0435\\u0441\\u0442\\u0432\\u043e\": 4}, {\"mb_used_counted\": 1266.0, \"\\u041a\\u043e\\u043b\\u0438\\u0447\\u0435\\u0441\\u0442\\u0432\\u043e\": 1}, {\"mb_used_counted\": 1267.0, \"\\u041a\\u043e\\u043b\\u0438\\u0447\\u0435\\u0441\\u0442\\u0432\\u043e\": 2}, {\"mb_used_counted\": 1268.0, \"\\u041a\\u043e\\u043b\\u0438\\u0447\\u0435\\u0441\\u0442\\u0432\\u043e\": 3}, {\"mb_used_counted\": 1269.0, \"\\u041a\\u043e\\u043b\\u0438\\u0447\\u0435\\u0441\\u0442\\u0432\\u043e\": 5}, {\"mb_used_counted\": 1270.0, \"\\u041a\\u043e\\u043b\\u0438\\u0447\\u0435\\u0441\\u0442\\u0432\\u043e\": 3}, {\"mb_used_counted\": 1271.0, \"\\u041a\\u043e\\u043b\\u0438\\u0447\\u0435\\u0441\\u0442\\u0432\\u043e\": 3}, {\"mb_used_counted\": 1272.0, \"\\u041a\\u043e\\u043b\\u0438\\u0447\\u0435\\u0441\\u0442\\u0432\\u043e\": 3}, {\"mb_used_counted\": 1273.0, \"\\u041a\\u043e\\u043b\\u0438\\u0447\\u0435\\u0441\\u0442\\u0432\\u043e\": 1}, {\"mb_used_counted\": 1274.0, \"\\u041a\\u043e\\u043b\\u0438\\u0447\\u0435\\u0441\\u0442\\u0432\\u043e\": 2}, {\"mb_used_counted\": 1275.0, \"\\u041a\\u043e\\u043b\\u0438\\u0447\\u0435\\u0441\\u0442\\u0432\\u043e\": 2}, {\"mb_used_counted\": 1276.0, \"\\u041a\\u043e\\u043b\\u0438\\u0447\\u0435\\u0441\\u0442\\u0432\\u043e\": 2}, {\"mb_used_counted\": 1277.0, \"\\u041a\\u043e\\u043b\\u0438\\u0447\\u0435\\u0441\\u0442\\u0432\\u043e\": 2}, {\"mb_used_counted\": 1278.0, \"\\u041a\\u043e\\u043b\\u0438\\u0447\\u0435\\u0441\\u0442\\u0432\\u043e\": 1}, {\"mb_used_counted\": 1279.0, \"\\u041a\\u043e\\u043b\\u0438\\u0447\\u0435\\u0441\\u0442\\u0432\\u043e\": 1}, {\"mb_used_counted\": 1280.0, \"\\u041a\\u043e\\u043b\\u0438\\u0447\\u0435\\u0441\\u0442\\u0432\\u043e\": 2}, {\"mb_used_counted\": 1281.0, \"\\u041a\\u043e\\u043b\\u0438\\u0447\\u0435\\u0441\\u0442\\u0432\\u043e\": 3}, {\"mb_used_counted\": 1282.0, \"\\u041a\\u043e\\u043b\\u0438\\u0447\\u0435\\u0441\\u0442\\u0432\\u043e\": 2}, {\"mb_used_counted\": 1283.0, \"\\u041a\\u043e\\u043b\\u0438\\u0447\\u0435\\u0441\\u0442\\u0432\\u043e\": 3}, {\"mb_used_counted\": 1284.0, \"\\u041a\\u043e\\u043b\\u0438\\u0447\\u0435\\u0441\\u0442\\u0432\\u043e\": 2}, {\"mb_used_counted\": 1285.0, \"\\u041a\\u043e\\u043b\\u0438\\u0447\\u0435\\u0441\\u0442\\u0432\\u043e\": 2}, {\"mb_used_counted\": 1287.0, \"\\u041a\\u043e\\u043b\\u0438\\u0447\\u0435\\u0441\\u0442\\u0432\\u043e\": 1}, {\"mb_used_counted\": 1288.0, \"\\u041a\\u043e\\u043b\\u0438\\u0447\\u0435\\u0441\\u0442\\u0432\\u043e\": 3}, {\"mb_used_counted\": 1290.0, \"\\u041a\\u043e\\u043b\\u0438\\u0447\\u0435\\u0441\\u0442\\u0432\\u043e\": 2}, {\"mb_used_counted\": 1291.0, \"\\u041a\\u043e\\u043b\\u0438\\u0447\\u0435\\u0441\\u0442\\u0432\\u043e\": 1}, {\"mb_used_counted\": 1292.0, \"\\u041a\\u043e\\u043b\\u0438\\u0447\\u0435\\u0441\\u0442\\u0432\\u043e\": 1}, {\"mb_used_counted\": 1293.0, \"\\u041a\\u043e\\u043b\\u0438\\u0447\\u0435\\u0441\\u0442\\u0432\\u043e\": 3}, {\"mb_used_counted\": 1294.0, \"\\u041a\\u043e\\u043b\\u0438\\u0447\\u0435\\u0441\\u0442\\u0432\\u043e\": 1}, {\"mb_used_counted\": 1295.0, \"\\u041a\\u043e\\u043b\\u0438\\u0447\\u0435\\u0441\\u0442\\u0432\\u043e\": 2}, {\"mb_used_counted\": 1296.0, \"\\u041a\\u043e\\u043b\\u0438\\u0447\\u0435\\u0441\\u0442\\u0432\\u043e\": 2}, {\"mb_used_counted\": 1298.0, \"\\u041a\\u043e\\u043b\\u0438\\u0447\\u0435\\u0441\\u0442\\u0432\\u043e\": 1}, {\"mb_used_counted\": 1299.0, \"\\u041a\\u043e\\u043b\\u0438\\u0447\\u0435\\u0441\\u0442\\u0432\\u043e\": 1}, {\"mb_used_counted\": 1300.0, \"\\u041a\\u043e\\u043b\\u0438\\u0447\\u0435\\u0441\\u0442\\u0432\\u043e\": 2}, {\"mb_used_counted\": 1302.0, \"\\u041a\\u043e\\u043b\\u0438\\u0447\\u0435\\u0441\\u0442\\u0432\\u043e\": 2}, {\"mb_used_counted\": 1303.0, \"\\u041a\\u043e\\u043b\\u0438\\u0447\\u0435\\u0441\\u0442\\u0432\\u043e\": 3}, {\"mb_used_counted\": 1304.0, \"\\u041a\\u043e\\u043b\\u0438\\u0447\\u0435\\u0441\\u0442\\u0432\\u043e\": 2}, {\"mb_used_counted\": 1305.0, \"\\u041a\\u043e\\u043b\\u0438\\u0447\\u0435\\u0441\\u0442\\u0432\\u043e\": 2}, {\"mb_used_counted\": 1306.0, \"\\u041a\\u043e\\u043b\\u0438\\u0447\\u0435\\u0441\\u0442\\u0432\\u043e\": 2}, {\"mb_used_counted\": 1307.0, \"\\u041a\\u043e\\u043b\\u0438\\u0447\\u0435\\u0441\\u0442\\u0432\\u043e\": 1}, {\"mb_used_counted\": 1308.0, \"\\u041a\\u043e\\u043b\\u0438\\u0447\\u0435\\u0441\\u0442\\u0432\\u043e\": 1}, {\"mb_used_counted\": 1309.0, \"\\u041a\\u043e\\u043b\\u0438\\u0447\\u0435\\u0441\\u0442\\u0432\\u043e\": 2}, {\"mb_used_counted\": 1310.0, \"\\u041a\\u043e\\u043b\\u0438\\u0447\\u0435\\u0441\\u0442\\u0432\\u043e\": 1}, {\"mb_used_counted\": 1312.0, \"\\u041a\\u043e\\u043b\\u0438\\u0447\\u0435\\u0441\\u0442\\u0432\\u043e\": 2}, {\"mb_used_counted\": 1313.0, \"\\u041a\\u043e\\u043b\\u0438\\u0447\\u0435\\u0441\\u0442\\u0432\\u043e\": 2}, {\"mb_used_counted\": 1314.0, \"\\u041a\\u043e\\u043b\\u0438\\u0447\\u0435\\u0441\\u0442\\u0432\\u043e\": 3}, {\"mb_used_counted\": 1316.0, \"\\u041a\\u043e\\u043b\\u0438\\u0447\\u0435\\u0441\\u0442\\u0432\\u043e\": 3}, {\"mb_used_counted\": 1317.0, \"\\u041a\\u043e\\u043b\\u0438\\u0447\\u0435\\u0441\\u0442\\u0432\\u043e\": 2}, {\"mb_used_counted\": 1318.0, \"\\u041a\\u043e\\u043b\\u0438\\u0447\\u0435\\u0441\\u0442\\u0432\\u043e\": 1}, {\"mb_used_counted\": 1320.0, \"\\u041a\\u043e\\u043b\\u0438\\u0447\\u0435\\u0441\\u0442\\u0432\\u043e\": 3}, {\"mb_used_counted\": 1321.0, \"\\u041a\\u043e\\u043b\\u0438\\u0447\\u0435\\u0441\\u0442\\u0432\\u043e\": 1}, {\"mb_used_counted\": 1322.0, \"\\u041a\\u043e\\u043b\\u0438\\u0447\\u0435\\u0441\\u0442\\u0432\\u043e\": 1}, {\"mb_used_counted\": 1323.0, \"\\u041a\\u043e\\u043b\\u0438\\u0447\\u0435\\u0441\\u0442\\u0432\\u043e\": 1}, {\"mb_used_counted\": 1324.0, \"\\u041a\\u043e\\u043b\\u0438\\u0447\\u0435\\u0441\\u0442\\u0432\\u043e\": 1}, {\"mb_used_counted\": 1325.0, \"\\u041a\\u043e\\u043b\\u0438\\u0447\\u0435\\u0441\\u0442\\u0432\\u043e\": 3}, {\"mb_used_counted\": 1326.0, \"\\u041a\\u043e\\u043b\\u0438\\u0447\\u0435\\u0441\\u0442\\u0432\\u043e\": 2}, {\"mb_used_counted\": 1327.0, \"\\u041a\\u043e\\u043b\\u0438\\u0447\\u0435\\u0441\\u0442\\u0432\\u043e\": 1}, {\"mb_used_counted\": 1328.0, \"\\u041a\\u043e\\u043b\\u0438\\u0447\\u0435\\u0441\\u0442\\u0432\\u043e\": 3}, {\"mb_used_counted\": 1329.0, \"\\u041a\\u043e\\u043b\\u0438\\u0447\\u0435\\u0441\\u0442\\u0432\\u043e\": 3}, {\"mb_used_counted\": 1330.0, \"\\u041a\\u043e\\u043b\\u0438\\u0447\\u0435\\u0441\\u0442\\u0432\\u043e\": 1}, {\"mb_used_counted\": 1332.0, \"\\u041a\\u043e\\u043b\\u0438\\u0447\\u0435\\u0441\\u0442\\u0432\\u043e\": 5}, {\"mb_used_counted\": 1333.0, \"\\u041a\\u043e\\u043b\\u0438\\u0447\\u0435\\u0441\\u0442\\u0432\\u043e\": 1}, {\"mb_used_counted\": 1334.0, \"\\u041a\\u043e\\u043b\\u0438\\u0447\\u0435\\u0441\\u0442\\u0432\\u043e\": 3}, {\"mb_used_counted\": 1335.0, \"\\u041a\\u043e\\u043b\\u0438\\u0447\\u0435\\u0441\\u0442\\u0432\\u043e\": 1}, {\"mb_used_counted\": 1336.0, \"\\u041a\\u043e\\u043b\\u0438\\u0447\\u0435\\u0441\\u0442\\u0432\\u043e\": 1}, {\"mb_used_counted\": 1337.0, \"\\u041a\\u043e\\u043b\\u0438\\u0447\\u0435\\u0441\\u0442\\u0432\\u043e\": 3}, {\"mb_used_counted\": 1338.0, \"\\u041a\\u043e\\u043b\\u0438\\u0447\\u0435\\u0441\\u0442\\u0432\\u043e\": 3}, {\"mb_used_counted\": 1339.0, \"\\u041a\\u043e\\u043b\\u0438\\u0447\\u0435\\u0441\\u0442\\u0432\\u043e\": 3}, {\"mb_used_counted\": 1342.0, \"\\u041a\\u043e\\u043b\\u0438\\u0447\\u0435\\u0441\\u0442\\u0432\\u043e\": 1}, {\"mb_used_counted\": 1344.0, \"\\u041a\\u043e\\u043b\\u0438\\u0447\\u0435\\u0441\\u0442\\u0432\\u043e\": 1}, {\"mb_used_counted\": 1346.0, \"\\u041a\\u043e\\u043b\\u0438\\u0447\\u0435\\u0441\\u0442\\u0432\\u043e\": 1}, {\"mb_used_counted\": 1347.0, \"\\u041a\\u043e\\u043b\\u0438\\u0447\\u0435\\u0441\\u0442\\u0432\\u043e\": 1}, {\"mb_used_counted\": 1348.0, \"\\u041a\\u043e\\u043b\\u0438\\u0447\\u0435\\u0441\\u0442\\u0432\\u043e\": 1}, {\"mb_used_counted\": 1350.0, \"\\u041a\\u043e\\u043b\\u0438\\u0447\\u0435\\u0441\\u0442\\u0432\\u043e\": 2}, {\"mb_used_counted\": 1353.0, \"\\u041a\\u043e\\u043b\\u0438\\u0447\\u0435\\u0441\\u0442\\u0432\\u043e\": 3}, {\"mb_used_counted\": 1354.0, \"\\u041a\\u043e\\u043b\\u0438\\u0447\\u0435\\u0441\\u0442\\u0432\\u043e\": 1}, {\"mb_used_counted\": 1355.0, \"\\u041a\\u043e\\u043b\\u0438\\u0447\\u0435\\u0441\\u0442\\u0432\\u043e\": 1}, {\"mb_used_counted\": 1358.0, \"\\u041a\\u043e\\u043b\\u0438\\u0447\\u0435\\u0441\\u0442\\u0432\\u043e\": 4}, {\"mb_used_counted\": 1360.0, \"\\u041a\\u043e\\u043b\\u0438\\u0447\\u0435\\u0441\\u0442\\u0432\\u043e\": 1}, {\"mb_used_counted\": 1361.0, \"\\u041a\\u043e\\u043b\\u0438\\u0447\\u0435\\u0441\\u0442\\u0432\\u043e\": 1}, {\"mb_used_counted\": 1364.0, \"\\u041a\\u043e\\u043b\\u0438\\u0447\\u0435\\u0441\\u0442\\u0432\\u043e\": 1}, {\"mb_used_counted\": 1365.0, \"\\u041a\\u043e\\u043b\\u0438\\u0447\\u0435\\u0441\\u0442\\u0432\\u043e\": 2}, {\"mb_used_counted\": 1369.0, \"\\u041a\\u043e\\u043b\\u0438\\u0447\\u0435\\u0441\\u0442\\u0432\\u043e\": 2}, {\"mb_used_counted\": 1370.0, \"\\u041a\\u043e\\u043b\\u0438\\u0447\\u0435\\u0441\\u0442\\u0432\\u043e\": 3}, {\"mb_used_counted\": 1371.0, \"\\u041a\\u043e\\u043b\\u0438\\u0447\\u0435\\u0441\\u0442\\u0432\\u043e\": 1}, {\"mb_used_counted\": 1375.0, \"\\u041a\\u043e\\u043b\\u0438\\u0447\\u0435\\u0441\\u0442\\u0432\\u043e\": 1}, {\"mb_used_counted\": 1376.0, \"\\u041a\\u043e\\u043b\\u0438\\u0447\\u0435\\u0441\\u0442\\u0432\\u043e\": 2}, {\"mb_used_counted\": 1377.0, \"\\u041a\\u043e\\u043b\\u0438\\u0447\\u0435\\u0441\\u0442\\u0432\\u043e\": 1}, {\"mb_used_counted\": 1378.0, \"\\u041a\\u043e\\u043b\\u0438\\u0447\\u0435\\u0441\\u0442\\u0432\\u043e\": 3}, {\"mb_used_counted\": 1380.0, \"\\u041a\\u043e\\u043b\\u0438\\u0447\\u0435\\u0441\\u0442\\u0432\\u043e\": 1}, {\"mb_used_counted\": 1386.0, \"\\u041a\\u043e\\u043b\\u0438\\u0447\\u0435\\u0441\\u0442\\u0432\\u043e\": 1}, {\"mb_used_counted\": 1387.0, \"\\u041a\\u043e\\u043b\\u0438\\u0447\\u0435\\u0441\\u0442\\u0432\\u043e\": 2}, {\"mb_used_counted\": 1388.0, \"\\u041a\\u043e\\u043b\\u0438\\u0447\\u0435\\u0441\\u0442\\u0432\\u043e\": 1}, {\"mb_used_counted\": 1389.0, \"\\u041a\\u043e\\u043b\\u0438\\u0447\\u0435\\u0441\\u0442\\u0432\\u043e\": 1}, {\"mb_used_counted\": 1390.0, \"\\u041a\\u043e\\u043b\\u0438\\u0447\\u0435\\u0441\\u0442\\u0432\\u043e\": 1}, {\"mb_used_counted\": 1391.0, \"\\u041a\\u043e\\u043b\\u0438\\u0447\\u0435\\u0441\\u0442\\u0432\\u043e\": 3}, {\"mb_used_counted\": 1393.0, \"\\u041a\\u043e\\u043b\\u0438\\u0447\\u0435\\u0441\\u0442\\u0432\\u043e\": 1}, {\"mb_used_counted\": 1394.0, \"\\u041a\\u043e\\u043b\\u0438\\u0447\\u0435\\u0441\\u0442\\u0432\\u043e\": 1}, {\"mb_used_counted\": 1395.0, \"\\u041a\\u043e\\u043b\\u0438\\u0447\\u0435\\u0441\\u0442\\u0432\\u043e\": 1}, {\"mb_used_counted\": 1396.0, \"\\u041a\\u043e\\u043b\\u0438\\u0447\\u0435\\u0441\\u0442\\u0432\\u043e\": 2}, {\"mb_used_counted\": 1397.0, \"\\u041a\\u043e\\u043b\\u0438\\u0447\\u0435\\u0441\\u0442\\u0432\\u043e\": 2}, {\"mb_used_counted\": 1398.0, \"\\u041a\\u043e\\u043b\\u0438\\u0447\\u0435\\u0441\\u0442\\u0432\\u043e\": 1}, {\"mb_used_counted\": 1399.0, \"\\u041a\\u043e\\u043b\\u0438\\u0447\\u0435\\u0441\\u0442\\u0432\\u043e\": 1}, {\"mb_used_counted\": 1400.0, \"\\u041a\\u043e\\u043b\\u0438\\u0447\\u0435\\u0441\\u0442\\u0432\\u043e\": 2}, {\"mb_used_counted\": 1402.0, \"\\u041a\\u043e\\u043b\\u0438\\u0447\\u0435\\u0441\\u0442\\u0432\\u043e\": 1}, {\"mb_used_counted\": 1404.0, \"\\u041a\\u043e\\u043b\\u0438\\u0447\\u0435\\u0441\\u0442\\u0432\\u043e\": 2}, {\"mb_used_counted\": 1405.0, \"\\u041a\\u043e\\u043b\\u0438\\u0447\\u0435\\u0441\\u0442\\u0432\\u043e\": 1}, {\"mb_used_counted\": 1409.0, \"\\u041a\\u043e\\u043b\\u0438\\u0447\\u0435\\u0441\\u0442\\u0432\\u043e\": 2}, {\"mb_used_counted\": 1410.0, \"\\u041a\\u043e\\u043b\\u0438\\u0447\\u0435\\u0441\\u0442\\u0432\\u043e\": 1}, {\"mb_used_counted\": 1412.0, \"\\u041a\\u043e\\u043b\\u0438\\u0447\\u0435\\u0441\\u0442\\u0432\\u043e\": 2}, {\"mb_used_counted\": 1415.0, \"\\u041a\\u043e\\u043b\\u0438\\u0447\\u0435\\u0441\\u0442\\u0432\\u043e\": 2}, {\"mb_used_counted\": 1416.0, \"\\u041a\\u043e\\u043b\\u0438\\u0447\\u0435\\u0441\\u0442\\u0432\\u043e\": 1}, {\"mb_used_counted\": 1417.0, \"\\u041a\\u043e\\u043b\\u0438\\u0447\\u0435\\u0441\\u0442\\u0432\\u043e\": 1}, {\"mb_used_counted\": 1420.0, \"\\u041a\\u043e\\u043b\\u0438\\u0447\\u0435\\u0441\\u0442\\u0432\\u043e\": 2}, {\"mb_used_counted\": 1422.0, \"\\u041a\\u043e\\u043b\\u0438\\u0447\\u0435\\u0441\\u0442\\u0432\\u043e\": 1}, {\"mb_used_counted\": 1423.0, \"\\u041a\\u043e\\u043b\\u0438\\u0447\\u0435\\u0441\\u0442\\u0432\\u043e\": 1}, {\"mb_used_counted\": 1428.0, \"\\u041a\\u043e\\u043b\\u0438\\u0447\\u0435\\u0441\\u0442\\u0432\\u043e\": 2}, {\"mb_used_counted\": 1435.0, \"\\u041a\\u043e\\u043b\\u0438\\u0447\\u0435\\u0441\\u0442\\u0432\\u043e\": 1}, {\"mb_used_counted\": 1437.0, \"\\u041a\\u043e\\u043b\\u0438\\u0447\\u0435\\u0441\\u0442\\u0432\\u043e\": 3}, {\"mb_used_counted\": 1440.0, \"\\u041a\\u043e\\u043b\\u0438\\u0447\\u0435\\u0441\\u0442\\u0432\\u043e\": 1}, {\"mb_used_counted\": 1441.0, \"\\u041a\\u043e\\u043b\\u0438\\u0447\\u0435\\u0441\\u0442\\u0432\\u043e\": 1}, {\"mb_used_counted\": 1442.0, \"\\u041a\\u043e\\u043b\\u0438\\u0447\\u0435\\u0441\\u0442\\u0432\\u043e\": 1}, {\"mb_used_counted\": 1446.0, \"\\u041a\\u043e\\u043b\\u0438\\u0447\\u0435\\u0441\\u0442\\u0432\\u043e\": 1}, {\"mb_used_counted\": 1450.0, \"\\u041a\\u043e\\u043b\\u0438\\u0447\\u0435\\u0441\\u0442\\u0432\\u043e\": 1}, {\"mb_used_counted\": 1452.0, \"\\u041a\\u043e\\u043b\\u0438\\u0447\\u0435\\u0441\\u0442\\u0432\\u043e\": 2}, {\"mb_used_counted\": 1455.0, \"\\u041a\\u043e\\u043b\\u0438\\u0447\\u0435\\u0441\\u0442\\u0432\\u043e\": 1}, {\"mb_used_counted\": 1456.0, \"\\u041a\\u043e\\u043b\\u0438\\u0447\\u0435\\u0441\\u0442\\u0432\\u043e\": 1}, {\"mb_used_counted\": 1459.0, \"\\u041a\\u043e\\u043b\\u0438\\u0447\\u0435\\u0441\\u0442\\u0432\\u043e\": 2}, {\"mb_used_counted\": 1461.0, \"\\u041a\\u043e\\u043b\\u0438\\u0447\\u0435\\u0441\\u0442\\u0432\\u043e\": 1}, {\"mb_used_counted\": 1462.0, \"\\u041a\\u043e\\u043b\\u0438\\u0447\\u0435\\u0441\\u0442\\u0432\\u043e\": 1}, {\"mb_used_counted\": 1463.0, \"\\u041a\\u043e\\u043b\\u0438\\u0447\\u0435\\u0441\\u0442\\u0432\\u043e\": 1}, {\"mb_used_counted\": 1474.0, \"\\u041a\\u043e\\u043b\\u0438\\u0447\\u0435\\u0441\\u0442\\u0432\\u043e\": 1}, {\"mb_used_counted\": 1480.0, \"\\u041a\\u043e\\u043b\\u0438\\u0447\\u0435\\u0441\\u0442\\u0432\\u043e\": 1}, {\"mb_used_counted\": 1488.0, \"\\u041a\\u043e\\u043b\\u0438\\u0447\\u0435\\u0441\\u0442\\u0432\\u043e\": 1}, {\"mb_used_counted\": 1491.0, \"\\u041a\\u043e\\u043b\\u0438\\u0447\\u0435\\u0441\\u0442\\u0432\\u043e\": 1}, {\"mb_used_counted\": 1492.0, \"\\u041a\\u043e\\u043b\\u0438\\u0447\\u0435\\u0441\\u0442\\u0432\\u043e\": 2}, {\"mb_used_counted\": 1495.0, \"\\u041a\\u043e\\u043b\\u0438\\u0447\\u0435\\u0441\\u0442\\u0432\\u043e\": 1}, {\"mb_used_counted\": 1499.0, \"\\u041a\\u043e\\u043b\\u0438\\u0447\\u0435\\u0441\\u0442\\u0432\\u043e\": 1}, {\"mb_used_counted\": 1501.0, \"\\u041a\\u043e\\u043b\\u0438\\u0447\\u0435\\u0441\\u0442\\u0432\\u043e\": 1}, {\"mb_used_counted\": 1505.0, \"\\u041a\\u043e\\u043b\\u0438\\u0447\\u0435\\u0441\\u0442\\u0432\\u043e\": 1}, {\"mb_used_counted\": 1508.0, \"\\u041a\\u043e\\u043b\\u0438\\u0447\\u0435\\u0441\\u0442\\u0432\\u043e\": 1}, {\"mb_used_counted\": 1510.0, \"\\u041a\\u043e\\u043b\\u0438\\u0447\\u0435\\u0441\\u0442\\u0432\\u043e\": 1}, {\"mb_used_counted\": 1519.0, \"\\u041a\\u043e\\u043b\\u0438\\u0447\\u0435\\u0441\\u0442\\u0432\\u043e\": 1}, {\"mb_used_counted\": 1522.0, \"\\u041a\\u043e\\u043b\\u0438\\u0447\\u0435\\u0441\\u0442\\u0432\\u043e\": 1}, {\"mb_used_counted\": 1525.0, \"\\u041a\\u043e\\u043b\\u0438\\u0447\\u0435\\u0441\\u0442\\u0432\\u043e\": 1}, {\"mb_used_counted\": 1526.0, \"\\u041a\\u043e\\u043b\\u0438\\u0447\\u0435\\u0441\\u0442\\u0432\\u043e\": 1}, {\"mb_used_counted\": 1529.0, \"\\u041a\\u043e\\u043b\\u0438\\u0447\\u0435\\u0441\\u0442\\u0432\\u043e\": 1}, {\"mb_used_counted\": 1531.0, \"\\u041a\\u043e\\u043b\\u0438\\u0447\\u0435\\u0441\\u0442\\u0432\\u043e\": 1}, {\"mb_used_counted\": 1532.0, \"\\u041a\\u043e\\u043b\\u0438\\u0447\\u0435\\u0441\\u0442\\u0432\\u043e\": 1}, {\"mb_used_counted\": 1534.0, \"\\u041a\\u043e\\u043b\\u0438\\u0447\\u0435\\u0441\\u0442\\u0432\\u043e\": 1}, {\"mb_used_counted\": 1540.0, \"\\u041a\\u043e\\u043b\\u0438\\u0447\\u0435\\u0441\\u0442\\u0432\\u043e\": 1}, {\"mb_used_counted\": 1547.0, \"\\u041a\\u043e\\u043b\\u0438\\u0447\\u0435\\u0441\\u0442\\u0432\\u043e\": 1}, {\"mb_used_counted\": 1553.0, \"\\u041a\\u043e\\u043b\\u0438\\u0447\\u0435\\u0441\\u0442\\u0432\\u043e\": 1}, {\"mb_used_counted\": 1555.0, \"\\u041a\\u043e\\u043b\\u0438\\u0447\\u0435\\u0441\\u0442\\u0432\\u043e\": 1}, {\"mb_used_counted\": 1576.0, \"\\u041a\\u043e\\u043b\\u0438\\u0447\\u0435\\u0441\\u0442\\u0432\\u043e\": 1}, {\"mb_used_counted\": 1580.0, \"\\u041a\\u043e\\u043b\\u0438\\u0447\\u0435\\u0441\\u0442\\u0432\\u043e\": 1}, {\"mb_used_counted\": 1603.0, \"\\u041a\\u043e\\u043b\\u0438\\u0447\\u0435\\u0441\\u0442\\u0432\\u043e\": 1}, {\"mb_used_counted\": 1610.0, \"\\u041a\\u043e\\u043b\\u0438\\u0447\\u0435\\u0441\\u0442\\u0432\\u043e\": 1}, {\"mb_used_counted\": 1624.0, \"\\u041a\\u043e\\u043b\\u0438\\u0447\\u0435\\u0441\\u0442\\u0432\\u043e\": 1}, {\"mb_used_counted\": 1652.0, \"\\u041a\\u043e\\u043b\\u0438\\u0447\\u0435\\u0441\\u0442\\u0432\\u043e\": 2}, {\"mb_used_counted\": 1703.0, \"\\u041a\\u043e\\u043b\\u0438\\u0447\\u0435\\u0441\\u0442\\u0432\\u043e\": 1}, {\"mb_used_counted\": 1725.0, \"\\u041a\\u043e\\u043b\\u0438\\u0447\\u0435\\u0441\\u0442\\u0432\\u043e\": 1}]}}, {\"mode\": \"vega-lite\"});\n",
       "</script>"
      ],
      "text/plain": [
       "alt.LayerChart(...)"
      ]
     },
     "execution_count": 168,
     "metadata": {},
     "output_type": "execute_result"
    }
   ],
   "source": [
    "alt_value_counts(data_internet, 'mb_used_counted', 'Количество использованных Мб')\n",
    "#data_internet['mb_used_counted'].value_counts()"
   ]
  },
  {
   "cell_type": "markdown",
   "metadata": {},
   "source": [
    "Снова замечаем очень большое количество 19,6 тыс или более 11% нулевых значений потраченных Мб. Вероятно - это \"фантомные\" сессии, когда пользователь был в сети, но в интернет не заходил. \n",
    "\n",
    "Это очень много, чтобы от них избавиться - введем дополнительный датасет без учета этих значений - data_internet_active."
   ]
  },
  {
   "cell_type": "code",
   "execution_count": 169,
   "metadata": {},
   "outputs": [],
   "source": [
    "data_internet_active = data_internet.query('mb_used > 0')"
   ]
  },
  {
   "cell_type": "code",
   "execution_count": 170,
   "metadata": {},
   "outputs": [
    {
     "data": {
      "text/html": [
       "<div>\n",
       "<style scoped>\n",
       "    .dataframe tbody tr th:only-of-type {\n",
       "        vertical-align: middle;\n",
       "    }\n",
       "\n",
       "    .dataframe tbody tr th {\n",
       "        vertical-align: top;\n",
       "    }\n",
       "\n",
       "    .dataframe thead th {\n",
       "        text-align: right;\n",
       "    }\n",
       "</style>\n",
       "<table border=\"1\" class=\"dataframe\">\n",
       "  <thead>\n",
       "    <tr style=\"text-align: right;\">\n",
       "      <th></th>\n",
       "      <th>mb_used</th>\n",
       "      <th>user_id</th>\n",
       "      <th>mb_used_counted</th>\n",
       "      <th>month</th>\n",
       "    </tr>\n",
       "  </thead>\n",
       "  <tbody>\n",
       "    <tr>\n",
       "      <th>count</th>\n",
       "      <td>129798.000000</td>\n",
       "      <td>129798.000000</td>\n",
       "      <td>129798.000000</td>\n",
       "      <td>129798.000000</td>\n",
       "    </tr>\n",
       "    <tr>\n",
       "      <th>mean</th>\n",
       "      <td>426.087210</td>\n",
       "      <td>1253.046318</td>\n",
       "      <td>426.581758</td>\n",
       "      <td>8.558013</td>\n",
       "    </tr>\n",
       "    <tr>\n",
       "      <th>std</th>\n",
       "      <td>255.596447</td>\n",
       "      <td>143.782672</td>\n",
       "      <td>255.596114</td>\n",
       "      <td>2.787862</td>\n",
       "    </tr>\n",
       "    <tr>\n",
       "      <th>min</th>\n",
       "      <td>0.030000</td>\n",
       "      <td>1000.000000</td>\n",
       "      <td>1.000000</td>\n",
       "      <td>1.000000</td>\n",
       "    </tr>\n",
       "    <tr>\n",
       "      <th>25%</th>\n",
       "      <td>227.460000</td>\n",
       "      <td>1132.000000</td>\n",
       "      <td>228.000000</td>\n",
       "      <td>7.000000</td>\n",
       "    </tr>\n",
       "    <tr>\n",
       "      <th>50%</th>\n",
       "      <td>400.540000</td>\n",
       "      <td>1252.000000</td>\n",
       "      <td>401.000000</td>\n",
       "      <td>9.000000</td>\n",
       "    </tr>\n",
       "    <tr>\n",
       "      <th>75%</th>\n",
       "      <td>592.947500</td>\n",
       "      <td>1380.000000</td>\n",
       "      <td>593.000000</td>\n",
       "      <td>11.000000</td>\n",
       "    </tr>\n",
       "    <tr>\n",
       "      <th>max</th>\n",
       "      <td>1724.830000</td>\n",
       "      <td>1499.000000</td>\n",
       "      <td>1725.000000</td>\n",
       "      <td>12.000000</td>\n",
       "    </tr>\n",
       "  </tbody>\n",
       "</table>\n",
       "</div>"
      ],
      "text/plain": [
       "             mb_used        user_id  mb_used_counted          month\n",
       "count  129798.000000  129798.000000    129798.000000  129798.000000\n",
       "mean      426.087210    1253.046318       426.581758       8.558013\n",
       "std       255.596447     143.782672       255.596114       2.787862\n",
       "min         0.030000    1000.000000         1.000000       1.000000\n",
       "25%       227.460000    1132.000000       228.000000       7.000000\n",
       "50%       400.540000    1252.000000       401.000000       9.000000\n",
       "75%       592.947500    1380.000000       593.000000      11.000000\n",
       "max      1724.830000    1499.000000      1725.000000      12.000000"
      ]
     },
     "execution_count": 170,
     "metadata": {},
     "output_type": "execute_result"
    }
   ],
   "source": [
    "data_internet_active.describe()"
   ]
  },
  {
   "cell_type": "markdown",
   "metadata": {},
   "source": [
    "Посмотрим, как изменились наши основные статистические характеристики:\n",
    "\n",
    "    Мат.ожидание с 370.2 увеличилось до 426\n",
    "    Медиана увеичилась с 348 до 400,5\n",
    "    Среднеквадратическое  отклонение уменьшилось с 278.3 до 255,6"
   ]
  },
  {
   "cell_type": "markdown",
   "metadata": {},
   "source": [
    "Проанализируем табличку data_messages."
   ]
  },
  {
   "cell_type": "code",
   "execution_count": 171,
   "metadata": {},
   "outputs": [
    {
     "data": {
      "text/html": [
       "<div>\n",
       "<style scoped>\n",
       "    .dataframe tbody tr th:only-of-type {\n",
       "        vertical-align: middle;\n",
       "    }\n",
       "\n",
       "    .dataframe tbody tr th {\n",
       "        vertical-align: top;\n",
       "    }\n",
       "\n",
       "    .dataframe thead th {\n",
       "        text-align: right;\n",
       "    }\n",
       "</style>\n",
       "<table border=\"1\" class=\"dataframe\">\n",
       "  <thead>\n",
       "    <tr style=\"text-align: right;\">\n",
       "      <th></th>\n",
       "      <th>id</th>\n",
       "      <th>message_date</th>\n",
       "      <th>user_id</th>\n",
       "    </tr>\n",
       "  </thead>\n",
       "  <tbody>\n",
       "    <tr>\n",
       "      <th>0</th>\n",
       "      <td>1000_0</td>\n",
       "      <td>2018-06-27</td>\n",
       "      <td>1000</td>\n",
       "    </tr>\n",
       "    <tr>\n",
       "      <th>1</th>\n",
       "      <td>1000_1</td>\n",
       "      <td>2018-10-08</td>\n",
       "      <td>1000</td>\n",
       "    </tr>\n",
       "    <tr>\n",
       "      <th>2</th>\n",
       "      <td>1000_2</td>\n",
       "      <td>2018-08-04</td>\n",
       "      <td>1000</td>\n",
       "    </tr>\n",
       "    <tr>\n",
       "      <th>3</th>\n",
       "      <td>1000_3</td>\n",
       "      <td>2018-06-16</td>\n",
       "      <td>1000</td>\n",
       "    </tr>\n",
       "    <tr>\n",
       "      <th>4</th>\n",
       "      <td>1000_4</td>\n",
       "      <td>2018-12-05</td>\n",
       "      <td>1000</td>\n",
       "    </tr>\n",
       "  </tbody>\n",
       "</table>\n",
       "</div>"
      ],
      "text/plain": [
       "       id message_date  user_id\n",
       "0  1000_0   2018-06-27     1000\n",
       "1  1000_1   2018-10-08     1000\n",
       "2  1000_2   2018-08-04     1000\n",
       "3  1000_3   2018-06-16     1000\n",
       "4  1000_4   2018-12-05     1000"
      ]
     },
     "execution_count": 171,
     "metadata": {},
     "output_type": "execute_result"
    }
   ],
   "source": [
    "data_messages.head()"
   ]
  },
  {
   "cell_type": "code",
   "execution_count": 172,
   "metadata": {},
   "outputs": [
    {
     "name": "stdout",
     "output_type": "stream",
     "text": [
      "Минимальная дата равна 2018-01-02 00:00:00\n",
      "Максимальная дата равна 2018-12-31 00:00:00\n"
     ]
    }
   ],
   "source": [
    "print('Минимальная дата равна {}'.format(data_messages['message_date'].min()))\n",
    "print('Максимальная дата равна {}'.format(data_messages['message_date'].max()))"
   ]
  },
  {
   "cell_type": "markdown",
   "metadata": {},
   "source": [
    "Также для дальнейшего анализа нам необходимо вычислить месяц. Все даты находятся в 2018-м - можем сразу вычислить месяц. Сохраним его в отдельной колонке."
   ]
  },
  {
   "cell_type": "code",
   "execution_count": 173,
   "metadata": {},
   "outputs": [],
   "source": [
    "data_messages['month'] = data_messages['message_date'].dt.month"
   ]
  },
  {
   "cell_type": "markdown",
   "metadata": {},
   "source": [
    "Приступим к рассчетам. \n",
    "    \n",
    "    Необходимо рассчитать для каждого пользователя количество сделанных звонков и израсходованных минут разговора по месяцам.\n",
    "    \n",
    "Очень интересно заодно проверить количество \"активных\" звонков (не включая пропущенные/прозвоны) "
   ]
  },
  {
   "cell_type": "code",
   "execution_count": 174,
   "metadata": {},
   "outputs": [],
   "source": [
    "User_calls_stat = data_calls.pivot_table(\n",
    "    index = ['user_id', 'month'], \n",
    "    values = 'duration_counted', \n",
    "    aggfunc = ['count', 'sum']\n",
    ")"
   ]
  },
  {
   "cell_type": "code",
   "execution_count": 175,
   "metadata": {},
   "outputs": [],
   "source": [
    "User_activecalls_stat = data_calls_active.pivot_table(\n",
    "    index = ['user_id', 'month'], \n",
    "    values = 'duration_counted', \n",
    "    aggfunc = ['count']\n",
    ")"
   ]
  },
  {
   "cell_type": "code",
   "execution_count": 176,
   "metadata": {},
   "outputs": [],
   "source": [
    "User_calls_stat.columns = ['Calls', 'Minutes']\n",
    "User_activecalls_stat.columns = ['Active_calls']"
   ]
  },
  {
   "cell_type": "code",
   "execution_count": 177,
   "metadata": {},
   "outputs": [],
   "source": [
    "User_calls_stat.reset_index(inplace=True)  \n",
    "User_activecalls_stat.reset_index(inplace=True)  "
   ]
  },
  {
   "cell_type": "code",
   "execution_count": 178,
   "metadata": {},
   "outputs": [
    {
     "data": {
      "text/html": [
       "<div>\n",
       "<style scoped>\n",
       "    .dataframe tbody tr th:only-of-type {\n",
       "        vertical-align: middle;\n",
       "    }\n",
       "\n",
       "    .dataframe tbody tr th {\n",
       "        vertical-align: top;\n",
       "    }\n",
       "\n",
       "    .dataframe thead th {\n",
       "        text-align: right;\n",
       "    }\n",
       "</style>\n",
       "<table border=\"1\" class=\"dataframe\">\n",
       "  <thead>\n",
       "    <tr style=\"text-align: right;\">\n",
       "      <th></th>\n",
       "      <th>user_id</th>\n",
       "      <th>month</th>\n",
       "      <th>Calls</th>\n",
       "      <th>Minutes</th>\n",
       "    </tr>\n",
       "  </thead>\n",
       "  <tbody>\n",
       "    <tr>\n",
       "      <th>0</th>\n",
       "      <td>1000</td>\n",
       "      <td>5</td>\n",
       "      <td>22</td>\n",
       "      <td>159.0</td>\n",
       "    </tr>\n",
       "    <tr>\n",
       "      <th>1</th>\n",
       "      <td>1000</td>\n",
       "      <td>6</td>\n",
       "      <td>43</td>\n",
       "      <td>172.0</td>\n",
       "    </tr>\n",
       "    <tr>\n",
       "      <th>2</th>\n",
       "      <td>1000</td>\n",
       "      <td>7</td>\n",
       "      <td>47</td>\n",
       "      <td>340.0</td>\n",
       "    </tr>\n",
       "    <tr>\n",
       "      <th>3</th>\n",
       "      <td>1000</td>\n",
       "      <td>8</td>\n",
       "      <td>52</td>\n",
       "      <td>408.0</td>\n",
       "    </tr>\n",
       "    <tr>\n",
       "      <th>4</th>\n",
       "      <td>1000</td>\n",
       "      <td>9</td>\n",
       "      <td>58</td>\n",
       "      <td>466.0</td>\n",
       "    </tr>\n",
       "    <tr>\n",
       "      <th>5</th>\n",
       "      <td>1000</td>\n",
       "      <td>10</td>\n",
       "      <td>57</td>\n",
       "      <td>350.0</td>\n",
       "    </tr>\n",
       "    <tr>\n",
       "      <th>6</th>\n",
       "      <td>1000</td>\n",
       "      <td>11</td>\n",
       "      <td>43</td>\n",
       "      <td>338.0</td>\n",
       "    </tr>\n",
       "    <tr>\n",
       "      <th>7</th>\n",
       "      <td>1000</td>\n",
       "      <td>12</td>\n",
       "      <td>46</td>\n",
       "      <td>333.0</td>\n",
       "    </tr>\n",
       "    <tr>\n",
       "      <th>8</th>\n",
       "      <td>1001</td>\n",
       "      <td>11</td>\n",
       "      <td>59</td>\n",
       "      <td>430.0</td>\n",
       "    </tr>\n",
       "    <tr>\n",
       "      <th>9</th>\n",
       "      <td>1001</td>\n",
       "      <td>12</td>\n",
       "      <td>63</td>\n",
       "      <td>414.0</td>\n",
       "    </tr>\n",
       "  </tbody>\n",
       "</table>\n",
       "</div>"
      ],
      "text/plain": [
       "   user_id  month  Calls  Minutes\n",
       "0     1000      5     22    159.0\n",
       "1     1000      6     43    172.0\n",
       "2     1000      7     47    340.0\n",
       "3     1000      8     52    408.0\n",
       "4     1000      9     58    466.0\n",
       "5     1000     10     57    350.0\n",
       "6     1000     11     43    338.0\n",
       "7     1000     12     46    333.0\n",
       "8     1001     11     59    430.0\n",
       "9     1001     12     63    414.0"
      ]
     },
     "execution_count": 178,
     "metadata": {},
     "output_type": "execute_result"
    }
   ],
   "source": [
    "User_calls_stat.head(10)"
   ]
  },
  {
   "cell_type": "code",
   "execution_count": 179,
   "metadata": {},
   "outputs": [
    {
     "data": {
      "text/html": [
       "<div>\n",
       "<style scoped>\n",
       "    .dataframe tbody tr th:only-of-type {\n",
       "        vertical-align: middle;\n",
       "    }\n",
       "\n",
       "    .dataframe tbody tr th {\n",
       "        vertical-align: top;\n",
       "    }\n",
       "\n",
       "    .dataframe thead th {\n",
       "        text-align: right;\n",
       "    }\n",
       "</style>\n",
       "<table border=\"1\" class=\"dataframe\">\n",
       "  <thead>\n",
       "    <tr style=\"text-align: right;\">\n",
       "      <th></th>\n",
       "      <th>user_id</th>\n",
       "      <th>month</th>\n",
       "      <th>Active_calls</th>\n",
       "    </tr>\n",
       "  </thead>\n",
       "  <tbody>\n",
       "    <tr>\n",
       "      <th>0</th>\n",
       "      <td>1000</td>\n",
       "      <td>5</td>\n",
       "      <td>17</td>\n",
       "    </tr>\n",
       "    <tr>\n",
       "      <th>1</th>\n",
       "      <td>1000</td>\n",
       "      <td>6</td>\n",
       "      <td>28</td>\n",
       "    </tr>\n",
       "    <tr>\n",
       "      <th>2</th>\n",
       "      <td>1000</td>\n",
       "      <td>7</td>\n",
       "      <td>41</td>\n",
       "    </tr>\n",
       "    <tr>\n",
       "      <th>3</th>\n",
       "      <td>1000</td>\n",
       "      <td>8</td>\n",
       "      <td>42</td>\n",
       "    </tr>\n",
       "    <tr>\n",
       "      <th>4</th>\n",
       "      <td>1000</td>\n",
       "      <td>9</td>\n",
       "      <td>46</td>\n",
       "    </tr>\n",
       "    <tr>\n",
       "      <th>5</th>\n",
       "      <td>1000</td>\n",
       "      <td>10</td>\n",
       "      <td>44</td>\n",
       "    </tr>\n",
       "    <tr>\n",
       "      <th>6</th>\n",
       "      <td>1000</td>\n",
       "      <td>11</td>\n",
       "      <td>37</td>\n",
       "    </tr>\n",
       "    <tr>\n",
       "      <th>7</th>\n",
       "      <td>1000</td>\n",
       "      <td>12</td>\n",
       "      <td>38</td>\n",
       "    </tr>\n",
       "    <tr>\n",
       "      <th>8</th>\n",
       "      <td>1001</td>\n",
       "      <td>11</td>\n",
       "      <td>45</td>\n",
       "    </tr>\n",
       "    <tr>\n",
       "      <th>9</th>\n",
       "      <td>1001</td>\n",
       "      <td>12</td>\n",
       "      <td>47</td>\n",
       "    </tr>\n",
       "  </tbody>\n",
       "</table>\n",
       "</div>"
      ],
      "text/plain": [
       "   user_id  month  Active_calls\n",
       "0     1000      5            17\n",
       "1     1000      6            28\n",
       "2     1000      7            41\n",
       "3     1000      8            42\n",
       "4     1000      9            46\n",
       "5     1000     10            44\n",
       "6     1000     11            37\n",
       "7     1000     12            38\n",
       "8     1001     11            45\n",
       "9     1001     12            47"
      ]
     },
     "execution_count": 179,
     "metadata": {},
     "output_type": "execute_result"
    }
   ],
   "source": [
    "User_activecalls_stat.head(10)"
   ]
  },
  {
   "cell_type": "markdown",
   "metadata": {},
   "source": [
    "Продолжим рассчеты. Найдем количество отправленных сообщений для каждого пользователя по месяцам."
   ]
  },
  {
   "cell_type": "code",
   "execution_count": 180,
   "metadata": {},
   "outputs": [],
   "source": [
    "User_messages_stat = data_messages.pivot_table(index = ['user_id', 'month'], values = 'message_date', aggfunc = ['count'])"
   ]
  },
  {
   "cell_type": "code",
   "execution_count": 181,
   "metadata": {},
   "outputs": [],
   "source": [
    "User_messages_stat.columns = ['messages']\n",
    "User_messages_stat.reset_index(inplace = True)"
   ]
  },
  {
   "cell_type": "code",
   "execution_count": 182,
   "metadata": {},
   "outputs": [
    {
     "data": {
      "text/html": [
       "<div>\n",
       "<style scoped>\n",
       "    .dataframe tbody tr th:only-of-type {\n",
       "        vertical-align: middle;\n",
       "    }\n",
       "\n",
       "    .dataframe tbody tr th {\n",
       "        vertical-align: top;\n",
       "    }\n",
       "\n",
       "    .dataframe thead th {\n",
       "        text-align: right;\n",
       "    }\n",
       "</style>\n",
       "<table border=\"1\" class=\"dataframe\">\n",
       "  <thead>\n",
       "    <tr style=\"text-align: right;\">\n",
       "      <th></th>\n",
       "      <th>user_id</th>\n",
       "      <th>month</th>\n",
       "      <th>messages</th>\n",
       "    </tr>\n",
       "  </thead>\n",
       "  <tbody>\n",
       "    <tr>\n",
       "      <th>0</th>\n",
       "      <td>1000</td>\n",
       "      <td>5</td>\n",
       "      <td>22</td>\n",
       "    </tr>\n",
       "    <tr>\n",
       "      <th>1</th>\n",
       "      <td>1000</td>\n",
       "      <td>6</td>\n",
       "      <td>60</td>\n",
       "    </tr>\n",
       "    <tr>\n",
       "      <th>2</th>\n",
       "      <td>1000</td>\n",
       "      <td>7</td>\n",
       "      <td>75</td>\n",
       "    </tr>\n",
       "    <tr>\n",
       "      <th>3</th>\n",
       "      <td>1000</td>\n",
       "      <td>8</td>\n",
       "      <td>81</td>\n",
       "    </tr>\n",
       "    <tr>\n",
       "      <th>4</th>\n",
       "      <td>1000</td>\n",
       "      <td>9</td>\n",
       "      <td>57</td>\n",
       "    </tr>\n",
       "  </tbody>\n",
       "</table>\n",
       "</div>"
      ],
      "text/plain": [
       "   user_id  month  messages\n",
       "0     1000      5        22\n",
       "1     1000      6        60\n",
       "2     1000      7        75\n",
       "3     1000      8        81\n",
       "4     1000      9        57"
      ]
     },
     "execution_count": 182,
     "metadata": {},
     "output_type": "execute_result"
    }
   ],
   "source": [
    "User_messages_stat.head()"
   ]
  },
  {
   "cell_type": "markdown",
   "metadata": {},
   "source": [
    "Найдем объем израсходованного интернет-трафика для каждого пользователя по месяцам."
   ]
  },
  {
   "cell_type": "code",
   "execution_count": 183,
   "metadata": {},
   "outputs": [],
   "source": [
    "User_internet_stat = data_internet.pivot_table(\n",
    "    index = ['user_id', 'month'], \n",
    "    values = 'mb_used_counted', \n",
    "    aggfunc = ['sum']\n",
    ")"
   ]
  },
  {
   "cell_type": "code",
   "execution_count": 184,
   "metadata": {},
   "outputs": [],
   "source": [
    "User_internet_stat.columns = ['traffic']\n",
    "User_internet_stat.reset_index(inplace = True)"
   ]
  },
  {
   "cell_type": "code",
   "execution_count": 185,
   "metadata": {},
   "outputs": [
    {
     "data": {
      "text/html": [
       "<div>\n",
       "<style scoped>\n",
       "    .dataframe tbody tr th:only-of-type {\n",
       "        vertical-align: middle;\n",
       "    }\n",
       "\n",
       "    .dataframe tbody tr th {\n",
       "        vertical-align: top;\n",
       "    }\n",
       "\n",
       "    .dataframe thead th {\n",
       "        text-align: right;\n",
       "    }\n",
       "</style>\n",
       "<table border=\"1\" class=\"dataframe\">\n",
       "  <thead>\n",
       "    <tr style=\"text-align: right;\">\n",
       "      <th></th>\n",
       "      <th>user_id</th>\n",
       "      <th>month</th>\n",
       "      <th>traffic</th>\n",
       "    </tr>\n",
       "  </thead>\n",
       "  <tbody>\n",
       "    <tr>\n",
       "      <th>0</th>\n",
       "      <td>1000</td>\n",
       "      <td>5</td>\n",
       "      <td>2256.0</td>\n",
       "    </tr>\n",
       "    <tr>\n",
       "      <th>1</th>\n",
       "      <td>1000</td>\n",
       "      <td>6</td>\n",
       "      <td>23257.0</td>\n",
       "    </tr>\n",
       "    <tr>\n",
       "      <th>2</th>\n",
       "      <td>1000</td>\n",
       "      <td>7</td>\n",
       "      <td>14016.0</td>\n",
       "    </tr>\n",
       "    <tr>\n",
       "      <th>3</th>\n",
       "      <td>1000</td>\n",
       "      <td>8</td>\n",
       "      <td>14070.0</td>\n",
       "    </tr>\n",
       "    <tr>\n",
       "      <th>4</th>\n",
       "      <td>1000</td>\n",
       "      <td>9</td>\n",
       "      <td>14581.0</td>\n",
       "    </tr>\n",
       "  </tbody>\n",
       "</table>\n",
       "</div>"
      ],
      "text/plain": [
       "   user_id  month  traffic\n",
       "0     1000      5   2256.0\n",
       "1     1000      6  23257.0\n",
       "2     1000      7  14016.0\n",
       "3     1000      8  14070.0\n",
       "4     1000      9  14581.0"
      ]
     },
     "execution_count": 185,
     "metadata": {},
     "output_type": "execute_result"
    }
   ],
   "source": [
    "User_internet_stat.head()"
   ]
  },
  {
   "cell_type": "markdown",
   "metadata": {},
   "source": [
    "Сведем полученные данные в одну табличку - User_stat."
   ]
  },
  {
   "cell_type": "code",
   "execution_count": 186,
   "metadata": {},
   "outputs": [],
   "source": [
    "User_stat = User_calls_stat.set_index(['user_id', 'month']).join(\n",
    "    User_activecalls_stat.set_index(['user_id', 'month']), how = 'outer')\n",
    "\n",
    "User_stat = User_stat.join(User_messages_stat.set_index(['user_id', 'month']), how = 'outer')\n",
    "\n",
    "User_stat = User_stat.join(User_internet_stat.set_index(['user_id', 'month']), how = 'outer')"
   ]
  },
  {
   "cell_type": "code",
   "execution_count": 187,
   "metadata": {},
   "outputs": [
    {
     "data": {
      "text/plain": [
       "(55369459.0, 55369459.0)"
      ]
     },
     "execution_count": 187,
     "metadata": {},
     "output_type": "execute_result"
    }
   ],
   "source": [
    "User_internet_stat['traffic'].sum(), User_stat['traffic'].sum()"
   ]
  },
  {
   "cell_type": "code",
   "execution_count": 188,
   "metadata": {},
   "outputs": [
    {
     "data": {
      "text/html": [
       "<div>\n",
       "<style scoped>\n",
       "    .dataframe tbody tr th:only-of-type {\n",
       "        vertical-align: middle;\n",
       "    }\n",
       "\n",
       "    .dataframe tbody tr th {\n",
       "        vertical-align: top;\n",
       "    }\n",
       "\n",
       "    .dataframe thead th {\n",
       "        text-align: right;\n",
       "    }\n",
       "</style>\n",
       "<table border=\"1\" class=\"dataframe\">\n",
       "  <thead>\n",
       "    <tr style=\"text-align: right;\">\n",
       "      <th></th>\n",
       "      <th></th>\n",
       "      <th>Calls</th>\n",
       "      <th>Minutes</th>\n",
       "      <th>Active_calls</th>\n",
       "      <th>messages</th>\n",
       "      <th>traffic</th>\n",
       "    </tr>\n",
       "    <tr>\n",
       "      <th>user_id</th>\n",
       "      <th>month</th>\n",
       "      <th></th>\n",
       "      <th></th>\n",
       "      <th></th>\n",
       "      <th></th>\n",
       "      <th></th>\n",
       "    </tr>\n",
       "  </thead>\n",
       "  <tbody>\n",
       "    <tr>\n",
       "      <th rowspan=\"5\" valign=\"top\">1000</th>\n",
       "      <th>5</th>\n",
       "      <td>22.0</td>\n",
       "      <td>159.0</td>\n",
       "      <td>17.0</td>\n",
       "      <td>22.0</td>\n",
       "      <td>2256.0</td>\n",
       "    </tr>\n",
       "    <tr>\n",
       "      <th>6</th>\n",
       "      <td>43.0</td>\n",
       "      <td>172.0</td>\n",
       "      <td>28.0</td>\n",
       "      <td>60.0</td>\n",
       "      <td>23257.0</td>\n",
       "    </tr>\n",
       "    <tr>\n",
       "      <th>7</th>\n",
       "      <td>47.0</td>\n",
       "      <td>340.0</td>\n",
       "      <td>41.0</td>\n",
       "      <td>75.0</td>\n",
       "      <td>14016.0</td>\n",
       "    </tr>\n",
       "    <tr>\n",
       "      <th>8</th>\n",
       "      <td>52.0</td>\n",
       "      <td>408.0</td>\n",
       "      <td>42.0</td>\n",
       "      <td>81.0</td>\n",
       "      <td>14070.0</td>\n",
       "    </tr>\n",
       "    <tr>\n",
       "      <th>9</th>\n",
       "      <td>58.0</td>\n",
       "      <td>466.0</td>\n",
       "      <td>46.0</td>\n",
       "      <td>57.0</td>\n",
       "      <td>14581.0</td>\n",
       "    </tr>\n",
       "  </tbody>\n",
       "</table>\n",
       "</div>"
      ],
      "text/plain": [
       "               Calls  Minutes  Active_calls  messages  traffic\n",
       "user_id month                                                 \n",
       "1000    5       22.0    159.0          17.0      22.0   2256.0\n",
       "        6       43.0    172.0          28.0      60.0  23257.0\n",
       "        7       47.0    340.0          41.0      75.0  14016.0\n",
       "        8       52.0    408.0          42.0      81.0  14070.0\n",
       "        9       58.0    466.0          46.0      57.0  14581.0"
      ]
     },
     "execution_count": 188,
     "metadata": {},
     "output_type": "execute_result"
    }
   ],
   "source": [
    "User_stat.head()"
   ]
  },
  {
   "cell_type": "markdown",
   "metadata": {},
   "source": [
    "Проверим полученный датасет на пропущенные значения."
   ]
  },
  {
   "cell_type": "code",
   "execution_count": 189,
   "metadata": {},
   "outputs": [
    {
     "name": "stdout",
     "output_type": "stream",
     "text": [
      "<class 'pandas.core.frame.DataFrame'>\n",
      "MultiIndex: 3214 entries, (1000, 5) to (1499, 12)\n",
      "Data columns (total 5 columns):\n",
      " #   Column        Non-Null Count  Dtype  \n",
      "---  ------        --------------  -----  \n",
      " 0   Calls         3174 non-null   float64\n",
      " 1   Minutes       3174 non-null   float64\n",
      " 2   Active_calls  3168 non-null   float64\n",
      " 3   messages      2717 non-null   float64\n",
      " 4   traffic       3203 non-null   float64\n",
      "dtypes: float64(5)\n",
      "memory usage: 159.4 KB\n"
     ]
    }
   ],
   "source": [
    "User_stat.info()"
   ]
  },
  {
   "cell_type": "markdown",
   "metadata": {},
   "source": [
    "Количество звонков и количество минут - без пропущенных значений. В остальных колонках - пропущенные значения есть. Очевидно, что пропущенные значения не посчитались из-за отсутствия данных, поэтому логично их заполнить нулями."
   ]
  },
  {
   "cell_type": "code",
   "execution_count": 190,
   "metadata": {},
   "outputs": [],
   "source": [
    "User_stat = User_stat.fillna(0)"
   ]
  },
  {
   "cell_type": "markdown",
   "metadata": {},
   "source": [
    "Рассчитаем по каждому пользователю помесячную выручку. Для этого добавим в текущий датасет колонку 'tariff' в зависимости от пользователя. Предварительно сбросим индекс."
   ]
  },
  {
   "cell_type": "code",
   "execution_count": 191,
   "metadata": {},
   "outputs": [],
   "source": [
    "User_stat.reset_index(inplace = True)"
   ]
  },
  {
   "cell_type": "markdown",
   "metadata": {},
   "source": [
    "Создадим отдельную табличку соответствий пользователь - тариф, чтобы не тащить все колонки в таблицу user_stat"
   ]
  },
  {
   "cell_type": "code",
   "execution_count": 192,
   "metadata": {},
   "outputs": [],
   "source": [
    "data_users2tariff = data_users[['user_id', 'tariff']]"
   ]
  },
  {
   "cell_type": "code",
   "execution_count": 193,
   "metadata": {},
   "outputs": [],
   "source": [
    "User_stat = User_stat.set_index('user_id').join(data_users2tariff.set_index('user_id'))"
   ]
  },
  {
   "cell_type": "markdown",
   "metadata": {},
   "source": [
    "Проверяем"
   ]
  },
  {
   "cell_type": "code",
   "execution_count": 194,
   "metadata": {},
   "outputs": [
    {
     "name": "stdout",
     "output_type": "stream",
     "text": [
      "<class 'pandas.core.frame.DataFrame'>\n",
      "Int64Index: 3214 entries, 1000 to 1499\n",
      "Data columns (total 7 columns):\n",
      " #   Column        Non-Null Count  Dtype  \n",
      "---  ------        --------------  -----  \n",
      " 0   month         3214 non-null   int64  \n",
      " 1   Calls         3214 non-null   float64\n",
      " 2   Minutes       3214 non-null   float64\n",
      " 3   Active_calls  3214 non-null   float64\n",
      " 4   messages      3214 non-null   float64\n",
      " 5   traffic       3214 non-null   float64\n",
      " 6   tariff        3214 non-null   object \n",
      "dtypes: float64(5), int64(1), object(1)\n",
      "memory usage: 200.9+ KB\n"
     ]
    }
   ],
   "source": [
    "User_stat.info()"
   ]
  },
  {
   "cell_type": "code",
   "execution_count": 195,
   "metadata": {},
   "outputs": [
    {
     "data": {
      "text/html": [
       "<div>\n",
       "<style scoped>\n",
       "    .dataframe tbody tr th:only-of-type {\n",
       "        vertical-align: middle;\n",
       "    }\n",
       "\n",
       "    .dataframe tbody tr th {\n",
       "        vertical-align: top;\n",
       "    }\n",
       "\n",
       "    .dataframe thead th {\n",
       "        text-align: right;\n",
       "    }\n",
       "</style>\n",
       "<table border=\"1\" class=\"dataframe\">\n",
       "  <thead>\n",
       "    <tr style=\"text-align: right;\">\n",
       "      <th></th>\n",
       "      <th>user_id</th>\n",
       "      <th>month</th>\n",
       "      <th>Calls</th>\n",
       "      <th>Minutes</th>\n",
       "      <th>Active_calls</th>\n",
       "      <th>messages</th>\n",
       "      <th>traffic</th>\n",
       "      <th>tariff</th>\n",
       "    </tr>\n",
       "  </thead>\n",
       "  <tbody>\n",
       "    <tr>\n",
       "      <th>0</th>\n",
       "      <td>1000</td>\n",
       "      <td>5</td>\n",
       "      <td>22.0</td>\n",
       "      <td>159.0</td>\n",
       "      <td>17.0</td>\n",
       "      <td>22.0</td>\n",
       "      <td>2256.0</td>\n",
       "      <td>ultra</td>\n",
       "    </tr>\n",
       "    <tr>\n",
       "      <th>1</th>\n",
       "      <td>1000</td>\n",
       "      <td>6</td>\n",
       "      <td>43.0</td>\n",
       "      <td>172.0</td>\n",
       "      <td>28.0</td>\n",
       "      <td>60.0</td>\n",
       "      <td>23257.0</td>\n",
       "      <td>ultra</td>\n",
       "    </tr>\n",
       "    <tr>\n",
       "      <th>2</th>\n",
       "      <td>1000</td>\n",
       "      <td>7</td>\n",
       "      <td>47.0</td>\n",
       "      <td>340.0</td>\n",
       "      <td>41.0</td>\n",
       "      <td>75.0</td>\n",
       "      <td>14016.0</td>\n",
       "      <td>ultra</td>\n",
       "    </tr>\n",
       "    <tr>\n",
       "      <th>3</th>\n",
       "      <td>1000</td>\n",
       "      <td>8</td>\n",
       "      <td>52.0</td>\n",
       "      <td>408.0</td>\n",
       "      <td>42.0</td>\n",
       "      <td>81.0</td>\n",
       "      <td>14070.0</td>\n",
       "      <td>ultra</td>\n",
       "    </tr>\n",
       "    <tr>\n",
       "      <th>4</th>\n",
       "      <td>1000</td>\n",
       "      <td>9</td>\n",
       "      <td>58.0</td>\n",
       "      <td>466.0</td>\n",
       "      <td>46.0</td>\n",
       "      <td>57.0</td>\n",
       "      <td>14581.0</td>\n",
       "      <td>ultra</td>\n",
       "    </tr>\n",
       "  </tbody>\n",
       "</table>\n",
       "</div>"
      ],
      "text/plain": [
       "   user_id  month  Calls  Minutes  Active_calls  messages  traffic tariff\n",
       "0     1000      5   22.0    159.0          17.0      22.0   2256.0  ultra\n",
       "1     1000      6   43.0    172.0          28.0      60.0  23257.0  ultra\n",
       "2     1000      7   47.0    340.0          41.0      75.0  14016.0  ultra\n",
       "3     1000      8   52.0    408.0          42.0      81.0  14070.0  ultra\n",
       "4     1000      9   58.0    466.0          46.0      57.0  14581.0  ultra"
      ]
     },
     "execution_count": 195,
     "metadata": {},
     "output_type": "execute_result"
    }
   ],
   "source": [
    "User_stat.reset_index(inplace = True)\n",
    "User_stat.head()"
   ]
  },
  {
   "cell_type": "markdown",
   "metadata": {},
   "source": [
    "Отлично! Теперь мы готовы к рассчёту помесячной выручки. Напишем специальные функции для рассчета выручки по звонкам/сообщениям/интернету. Добавим соответствующие колонки и, потом, суммарную."
   ]
  },
  {
   "cell_type": "markdown",
   "metadata": {},
   "source": [
    "Напишем функцию, которая будут выводить лимиты по сообщения/минутам/траффику, а также соответствующие стоимости сверх лимита и абонентскую плату по введенному параметру и названию тарифа."
   ]
  },
  {
   "cell_type": "code",
   "execution_count": 196,
   "metadata": {},
   "outputs": [],
   "source": [
    "def get_param(tariff, param):\n",
    "    \"\"\"\n",
    "    tariff: наименование тарифа\n",
    "    param: наименование колонки датасета data_tariffs\n",
    "    \"\"\"\n",
    "    return data_tariffs.query('tariff == @tariff')[param].reset_index(drop = True)[0]"
   ]
  },
  {
   "cell_type": "markdown",
   "metadata": {},
   "source": [
    "Проверим нашу функцию"
   ]
  },
  {
   "cell_type": "code",
   "execution_count": 197,
   "metadata": {},
   "outputs": [
    {
     "name": "stdout",
     "output_type": "stream",
     "text": [
      "3000\n",
      "3\n"
     ]
    }
   ],
   "source": [
    "print(get_param('ultra', 'minutes_included'))\n",
    "print(get_param('smart', 'rub_per_message'))"
   ]
  },
  {
   "cell_type": "markdown",
   "metadata": {},
   "source": [
    "Функция для рассчета дохода по минутам сверх траффика."
   ]
  },
  {
   "cell_type": "code",
   "execution_count": 198,
   "metadata": {},
   "outputs": [],
   "source": [
    "def calc_calls_income(row):\n",
    "    try:\n",
    "        minutes = row['Minutes']\n",
    "        limit = get_param(row['tariff'], 'minutes_included')\n",
    "        cost = get_param(row['tariff'], 'rub_per_minute')\n",
    "        over_the_limit = minutes - limit\n",
    "        if over_the_limit <= 0:\n",
    "            return 0\n",
    "        return cost * over_the_limit\n",
    "    except:\n",
    "        return 'Ошибка при вычислении'"
   ]
  },
  {
   "cell_type": "markdown",
   "metadata": {},
   "source": [
    "Функция для рассчета дохода по сообщениям сверх траффика."
   ]
  },
  {
   "cell_type": "code",
   "execution_count": 199,
   "metadata": {},
   "outputs": [],
   "source": [
    "def calc_messages_income(row):\n",
    "    try:\n",
    "        messages = row['messages']\n",
    "        limit = get_param(row['tariff'], 'messages_included')\n",
    "        cost = get_param(row['tariff'], 'rub_per_message')\n",
    "        over_the_limit = messages - limit\n",
    "        if over_the_limit <= 0:\n",
    "            return 0\n",
    "        return cost * over_the_limit\n",
    "    except:\n",
    "        return 'Ошибка при вычислении'"
   ]
  },
  {
   "cell_type": "markdown",
   "metadata": {},
   "source": [
    "Функция для рассчета дохода по потраченным Мб сверх траффика. Т.к. сверх лимита идёт рассчёт уже в Гб - будем переводить трафик сверх лимита в Гб (делить разность на 1024) и округлять вверх.  "
   ]
  },
  {
   "cell_type": "code",
   "execution_count": 200,
   "metadata": {},
   "outputs": [],
   "source": [
    "def calc_traffic_income(row):\n",
    "    try:\n",
    "        traffic = row['traffic']\n",
    "        limit = get_param(row['tariff'], 'mb_per_month_included')\n",
    "        cost = get_param(row['tariff'], 'rub_per_gb')\n",
    "        over_the_limit = np.ceil((traffic - limit) / 1024)\n",
    "        if over_the_limit <= 0:\n",
    "            return 0\n",
    "        return cost * over_the_limit\n",
    "    except:\n",
    "        return 'Ошибка при вычислении'"
   ]
  },
  {
   "cell_type": "markdown",
   "metadata": {},
   "source": [
    "Рассчитаем теперь доходы по звонкам/сообщениям/интернету.."
   ]
  },
  {
   "cell_type": "code",
   "execution_count": 201,
   "metadata": {},
   "outputs": [],
   "source": [
    "User_stat['Calls_Income'] = User_stat.apply(calc_calls_income, axis = 1)"
   ]
  },
  {
   "cell_type": "code",
   "execution_count": 202,
   "metadata": {},
   "outputs": [],
   "source": [
    "User_stat['Messages_Income'] = User_stat.apply(calc_messages_income, axis = 1)"
   ]
  },
  {
   "cell_type": "code",
   "execution_count": 203,
   "metadata": {},
   "outputs": [],
   "source": [
    "User_stat['Internet_Income'] = User_stat.apply(calc_traffic_income, axis = 1)"
   ]
  },
  {
   "cell_type": "markdown",
   "metadata": {},
   "source": [
    "Проверим что получилось."
   ]
  },
  {
   "cell_type": "code",
   "execution_count": 204,
   "metadata": {},
   "outputs": [
    {
     "data": {
      "text/html": [
       "<div>\n",
       "<style scoped>\n",
       "    .dataframe tbody tr th:only-of-type {\n",
       "        vertical-align: middle;\n",
       "    }\n",
       "\n",
       "    .dataframe tbody tr th {\n",
       "        vertical-align: top;\n",
       "    }\n",
       "\n",
       "    .dataframe thead th {\n",
       "        text-align: right;\n",
       "    }\n",
       "</style>\n",
       "<table border=\"1\" class=\"dataframe\">\n",
       "  <thead>\n",
       "    <tr style=\"text-align: right;\">\n",
       "      <th></th>\n",
       "      <th>user_id</th>\n",
       "      <th>month</th>\n",
       "      <th>Calls</th>\n",
       "      <th>Minutes</th>\n",
       "      <th>Active_calls</th>\n",
       "      <th>messages</th>\n",
       "      <th>traffic</th>\n",
       "      <th>tariff</th>\n",
       "      <th>Calls_Income</th>\n",
       "      <th>Messages_Income</th>\n",
       "      <th>Internet_Income</th>\n",
       "    </tr>\n",
       "  </thead>\n",
       "  <tbody>\n",
       "    <tr>\n",
       "      <th>3209</th>\n",
       "      <td>1498</td>\n",
       "      <td>10</td>\n",
       "      <td>41.0</td>\n",
       "      <td>247.0</td>\n",
       "      <td>30.0</td>\n",
       "      <td>42.0</td>\n",
       "      <td>20604.0</td>\n",
       "      <td>smart</td>\n",
       "      <td>0.0</td>\n",
       "      <td>0.0</td>\n",
       "      <td>1200.0</td>\n",
       "    </tr>\n",
       "    <tr>\n",
       "      <th>3210</th>\n",
       "      <td>1499</td>\n",
       "      <td>9</td>\n",
       "      <td>9.0</td>\n",
       "      <td>70.0</td>\n",
       "      <td>8.0</td>\n",
       "      <td>11.0</td>\n",
       "      <td>1848.0</td>\n",
       "      <td>smart</td>\n",
       "      <td>0.0</td>\n",
       "      <td>0.0</td>\n",
       "      <td>0.0</td>\n",
       "    </tr>\n",
       "    <tr>\n",
       "      <th>3211</th>\n",
       "      <td>1499</td>\n",
       "      <td>10</td>\n",
       "      <td>68.0</td>\n",
       "      <td>449.0</td>\n",
       "      <td>44.0</td>\n",
       "      <td>48.0</td>\n",
       "      <td>17809.0</td>\n",
       "      <td>smart</td>\n",
       "      <td>0.0</td>\n",
       "      <td>0.0</td>\n",
       "      <td>600.0</td>\n",
       "    </tr>\n",
       "    <tr>\n",
       "      <th>3212</th>\n",
       "      <td>1499</td>\n",
       "      <td>11</td>\n",
       "      <td>74.0</td>\n",
       "      <td>612.0</td>\n",
       "      <td>62.0</td>\n",
       "      <td>59.0</td>\n",
       "      <td>17984.0</td>\n",
       "      <td>smart</td>\n",
       "      <td>336.0</td>\n",
       "      <td>27.0</td>\n",
       "      <td>600.0</td>\n",
       "    </tr>\n",
       "    <tr>\n",
       "      <th>3213</th>\n",
       "      <td>1499</td>\n",
       "      <td>12</td>\n",
       "      <td>69.0</td>\n",
       "      <td>492.0</td>\n",
       "      <td>56.0</td>\n",
       "      <td>66.0</td>\n",
       "      <td>13077.0</td>\n",
       "      <td>smart</td>\n",
       "      <td>0.0</td>\n",
       "      <td>48.0</td>\n",
       "      <td>0.0</td>\n",
       "    </tr>\n",
       "  </tbody>\n",
       "</table>\n",
       "</div>"
      ],
      "text/plain": [
       "      user_id  month  Calls  Minutes  Active_calls  messages  traffic tariff  \\\n",
       "3209     1498     10   41.0    247.0          30.0      42.0  20604.0  smart   \n",
       "3210     1499      9    9.0     70.0           8.0      11.0   1848.0  smart   \n",
       "3211     1499     10   68.0    449.0          44.0      48.0  17809.0  smart   \n",
       "3212     1499     11   74.0    612.0          62.0      59.0  17984.0  smart   \n",
       "3213     1499     12   69.0    492.0          56.0      66.0  13077.0  smart   \n",
       "\n",
       "      Calls_Income  Messages_Income  Internet_Income  \n",
       "3209           0.0              0.0           1200.0  \n",
       "3210           0.0              0.0              0.0  \n",
       "3211           0.0              0.0            600.0  \n",
       "3212         336.0             27.0            600.0  \n",
       "3213           0.0             48.0              0.0  "
      ]
     },
     "execution_count": 204,
     "metadata": {},
     "output_type": "execute_result"
    }
   ],
   "source": [
    "User_stat.tail()"
   ]
  },
  {
   "cell_type": "markdown",
   "metadata": {},
   "source": [
    "Для рассчёта помесячной выручки осталось добавить в таблицу абонентскую плату.\n",
    "Вынесем в отдельную таблицу соответствие тариф-абонентская плата, чтобы не тащить все колонки в исходную таблицу. "
   ]
  },
  {
   "cell_type": "code",
   "execution_count": 205,
   "metadata": {},
   "outputs": [],
   "source": [
    "tariff_2_fee = data_tariffs[['tariff', 'rub_monthly_fee']]"
   ]
  },
  {
   "cell_type": "code",
   "execution_count": 206,
   "metadata": {},
   "outputs": [],
   "source": [
    "User_stat = User_stat.set_index('tariff').join(tariff_2_fee.set_index('tariff'))\n"
   ]
  },
  {
   "cell_type": "code",
   "execution_count": 207,
   "metadata": {},
   "outputs": [
    {
     "data": {
      "text/html": [
       "<div>\n",
       "<style scoped>\n",
       "    .dataframe tbody tr th:only-of-type {\n",
       "        vertical-align: middle;\n",
       "    }\n",
       "\n",
       "    .dataframe tbody tr th {\n",
       "        vertical-align: top;\n",
       "    }\n",
       "\n",
       "    .dataframe thead th {\n",
       "        text-align: right;\n",
       "    }\n",
       "</style>\n",
       "<table border=\"1\" class=\"dataframe\">\n",
       "  <thead>\n",
       "    <tr style=\"text-align: right;\">\n",
       "      <th></th>\n",
       "      <th>tariff</th>\n",
       "      <th>user_id</th>\n",
       "      <th>month</th>\n",
       "      <th>Calls</th>\n",
       "      <th>Minutes</th>\n",
       "      <th>Active_calls</th>\n",
       "      <th>messages</th>\n",
       "      <th>traffic</th>\n",
       "      <th>Calls_Income</th>\n",
       "      <th>Messages_Income</th>\n",
       "      <th>Internet_Income</th>\n",
       "      <th>rub_monthly_fee</th>\n",
       "    </tr>\n",
       "  </thead>\n",
       "  <tbody>\n",
       "    <tr>\n",
       "      <th>3209</th>\n",
       "      <td>ultra</td>\n",
       "      <td>1495</td>\n",
       "      <td>8</td>\n",
       "      <td>17.0</td>\n",
       "      <td>92.0</td>\n",
       "      <td>13.0</td>\n",
       "      <td>13.0</td>\n",
       "      <td>2616.0</td>\n",
       "      <td>0.0</td>\n",
       "      <td>0.0</td>\n",
       "      <td>0.0</td>\n",
       "      <td>1950</td>\n",
       "    </tr>\n",
       "    <tr>\n",
       "      <th>3210</th>\n",
       "      <td>ultra</td>\n",
       "      <td>1495</td>\n",
       "      <td>9</td>\n",
       "      <td>112.0</td>\n",
       "      <td>813.0</td>\n",
       "      <td>95.0</td>\n",
       "      <td>82.0</td>\n",
       "      <td>33105.0</td>\n",
       "      <td>0.0</td>\n",
       "      <td>0.0</td>\n",
       "      <td>450.0</td>\n",
       "      <td>1950</td>\n",
       "    </tr>\n",
       "    <tr>\n",
       "      <th>3211</th>\n",
       "      <td>ultra</td>\n",
       "      <td>1495</td>\n",
       "      <td>10</td>\n",
       "      <td>152.0</td>\n",
       "      <td>1030.0</td>\n",
       "      <td>126.0</td>\n",
       "      <td>82.0</td>\n",
       "      <td>29393.0</td>\n",
       "      <td>0.0</td>\n",
       "      <td>0.0</td>\n",
       "      <td>0.0</td>\n",
       "      <td>1950</td>\n",
       "    </tr>\n",
       "    <tr>\n",
       "      <th>3212</th>\n",
       "      <td>ultra</td>\n",
       "      <td>1495</td>\n",
       "      <td>11</td>\n",
       "      <td>129.0</td>\n",
       "      <td>954.0</td>\n",
       "      <td>112.0</td>\n",
       "      <td>79.0</td>\n",
       "      <td>38972.0</td>\n",
       "      <td>0.0</td>\n",
       "      <td>0.0</td>\n",
       "      <td>1350.0</td>\n",
       "      <td>1950</td>\n",
       "    </tr>\n",
       "    <tr>\n",
       "      <th>3213</th>\n",
       "      <td>ultra</td>\n",
       "      <td>1495</td>\n",
       "      <td>12</td>\n",
       "      <td>155.0</td>\n",
       "      <td>1031.0</td>\n",
       "      <td>120.0</td>\n",
       "      <td>84.0</td>\n",
       "      <td>23450.0</td>\n",
       "      <td>0.0</td>\n",
       "      <td>0.0</td>\n",
       "      <td>0.0</td>\n",
       "      <td>1950</td>\n",
       "    </tr>\n",
       "  </tbody>\n",
       "</table>\n",
       "</div>"
      ],
      "text/plain": [
       "     tariff  user_id  month  Calls  Minutes  Active_calls  messages  traffic  \\\n",
       "3209  ultra     1495      8   17.0     92.0          13.0      13.0   2616.0   \n",
       "3210  ultra     1495      9  112.0    813.0          95.0      82.0  33105.0   \n",
       "3211  ultra     1495     10  152.0   1030.0         126.0      82.0  29393.0   \n",
       "3212  ultra     1495     11  129.0    954.0         112.0      79.0  38972.0   \n",
       "3213  ultra     1495     12  155.0   1031.0         120.0      84.0  23450.0   \n",
       "\n",
       "      Calls_Income  Messages_Income  Internet_Income  rub_monthly_fee  \n",
       "3209           0.0              0.0              0.0             1950  \n",
       "3210           0.0              0.0            450.0             1950  \n",
       "3211           0.0              0.0              0.0             1950  \n",
       "3212           0.0              0.0           1350.0             1950  \n",
       "3213           0.0              0.0              0.0             1950  "
      ]
     },
     "execution_count": 207,
     "metadata": {},
     "output_type": "execute_result"
    }
   ],
   "source": [
    "User_stat.reset_index(inplace = True)\n",
    "User_stat.tail()"
   ]
  },
  {
   "cell_type": "markdown",
   "metadata": {},
   "source": [
    "Теперь можем посчитать итоговую помесячную выручку с каждого пользователя."
   ]
  },
  {
   "cell_type": "code",
   "execution_count": 208,
   "metadata": {},
   "outputs": [],
   "source": [
    "User_stat['Total_Income'] = (User_stat['Calls_Income'] \n",
    "            + User_stat['Messages_Income'] \n",
    "            + User_stat['Internet_Income'] \n",
    "            + User_stat['rub_monthly_fee'])"
   ]
  },
  {
   "cell_type": "markdown",
   "metadata": {},
   "source": [
    "Проверим, что получилось"
   ]
  },
  {
   "cell_type": "code",
   "execution_count": 209,
   "metadata": {},
   "outputs": [
    {
     "data": {
      "text/html": [
       "<div>\n",
       "<style scoped>\n",
       "    .dataframe tbody tr th:only-of-type {\n",
       "        vertical-align: middle;\n",
       "    }\n",
       "\n",
       "    .dataframe tbody tr th {\n",
       "        vertical-align: top;\n",
       "    }\n",
       "\n",
       "    .dataframe thead th {\n",
       "        text-align: right;\n",
       "    }\n",
       "</style>\n",
       "<table border=\"1\" class=\"dataframe\">\n",
       "  <thead>\n",
       "    <tr style=\"text-align: right;\">\n",
       "      <th></th>\n",
       "      <th>tariff</th>\n",
       "      <th>user_id</th>\n",
       "      <th>month</th>\n",
       "      <th>Calls</th>\n",
       "      <th>Minutes</th>\n",
       "      <th>Active_calls</th>\n",
       "      <th>messages</th>\n",
       "      <th>traffic</th>\n",
       "      <th>Calls_Income</th>\n",
       "      <th>Messages_Income</th>\n",
       "      <th>Internet_Income</th>\n",
       "      <th>rub_monthly_fee</th>\n",
       "      <th>Total_Income</th>\n",
       "    </tr>\n",
       "  </thead>\n",
       "  <tbody>\n",
       "    <tr>\n",
       "      <th>0</th>\n",
       "      <td>smart</td>\n",
       "      <td>1001</td>\n",
       "      <td>11</td>\n",
       "      <td>59.0</td>\n",
       "      <td>430.0</td>\n",
       "      <td>45.0</td>\n",
       "      <td>0.0</td>\n",
       "      <td>18452.0</td>\n",
       "      <td>0.0</td>\n",
       "      <td>0.0</td>\n",
       "      <td>800.0</td>\n",
       "      <td>550</td>\n",
       "      <td>1350.0</td>\n",
       "    </tr>\n",
       "    <tr>\n",
       "      <th>1</th>\n",
       "      <td>smart</td>\n",
       "      <td>1001</td>\n",
       "      <td>12</td>\n",
       "      <td>63.0</td>\n",
       "      <td>414.0</td>\n",
       "      <td>47.0</td>\n",
       "      <td>0.0</td>\n",
       "      <td>14053.0</td>\n",
       "      <td>0.0</td>\n",
       "      <td>0.0</td>\n",
       "      <td>0.0</td>\n",
       "      <td>550</td>\n",
       "      <td>550.0</td>\n",
       "    </tr>\n",
       "    <tr>\n",
       "      <th>2</th>\n",
       "      <td>smart</td>\n",
       "      <td>1002</td>\n",
       "      <td>6</td>\n",
       "      <td>15.0</td>\n",
       "      <td>117.0</td>\n",
       "      <td>14.0</td>\n",
       "      <td>4.0</td>\n",
       "      <td>10871.0</td>\n",
       "      <td>0.0</td>\n",
       "      <td>0.0</td>\n",
       "      <td>0.0</td>\n",
       "      <td>550</td>\n",
       "      <td>550.0</td>\n",
       "    </tr>\n",
       "    <tr>\n",
       "      <th>3</th>\n",
       "      <td>smart</td>\n",
       "      <td>1002</td>\n",
       "      <td>7</td>\n",
       "      <td>26.0</td>\n",
       "      <td>214.0</td>\n",
       "      <td>21.0</td>\n",
       "      <td>11.0</td>\n",
       "      <td>17601.0</td>\n",
       "      <td>0.0</td>\n",
       "      <td>0.0</td>\n",
       "      <td>600.0</td>\n",
       "      <td>550</td>\n",
       "      <td>1150.0</td>\n",
       "    </tr>\n",
       "    <tr>\n",
       "      <th>4</th>\n",
       "      <td>smart</td>\n",
       "      <td>1002</td>\n",
       "      <td>8</td>\n",
       "      <td>42.0</td>\n",
       "      <td>289.0</td>\n",
       "      <td>37.0</td>\n",
       "      <td>13.0</td>\n",
       "      <td>20347.0</td>\n",
       "      <td>0.0</td>\n",
       "      <td>0.0</td>\n",
       "      <td>1000.0</td>\n",
       "      <td>550</td>\n",
       "      <td>1550.0</td>\n",
       "    </tr>\n",
       "    <tr>\n",
       "      <th>5</th>\n",
       "      <td>smart</td>\n",
       "      <td>1002</td>\n",
       "      <td>9</td>\n",
       "      <td>36.0</td>\n",
       "      <td>206.0</td>\n",
       "      <td>25.0</td>\n",
       "      <td>4.0</td>\n",
       "      <td>16712.0</td>\n",
       "      <td>0.0</td>\n",
       "      <td>0.0</td>\n",
       "      <td>400.0</td>\n",
       "      <td>550</td>\n",
       "      <td>950.0</td>\n",
       "    </tr>\n",
       "    <tr>\n",
       "      <th>6</th>\n",
       "      <td>smart</td>\n",
       "      <td>1002</td>\n",
       "      <td>10</td>\n",
       "      <td>33.0</td>\n",
       "      <td>212.0</td>\n",
       "      <td>24.0</td>\n",
       "      <td>10.0</td>\n",
       "      <td>13905.0</td>\n",
       "      <td>0.0</td>\n",
       "      <td>0.0</td>\n",
       "      <td>0.0</td>\n",
       "      <td>550</td>\n",
       "      <td>550.0</td>\n",
       "    </tr>\n",
       "    <tr>\n",
       "      <th>7</th>\n",
       "      <td>smart</td>\n",
       "      <td>1002</td>\n",
       "      <td>11</td>\n",
       "      <td>32.0</td>\n",
       "      <td>243.0</td>\n",
       "      <td>25.0</td>\n",
       "      <td>16.0</td>\n",
       "      <td>18610.0</td>\n",
       "      <td>0.0</td>\n",
       "      <td>0.0</td>\n",
       "      <td>800.0</td>\n",
       "      <td>550</td>\n",
       "      <td>1350.0</td>\n",
       "    </tr>\n",
       "    <tr>\n",
       "      <th>8</th>\n",
       "      <td>smart</td>\n",
       "      <td>1002</td>\n",
       "      <td>12</td>\n",
       "      <td>33.0</td>\n",
       "      <td>236.0</td>\n",
       "      <td>27.0</td>\n",
       "      <td>12.0</td>\n",
       "      <td>18137.0</td>\n",
       "      <td>0.0</td>\n",
       "      <td>0.0</td>\n",
       "      <td>600.0</td>\n",
       "      <td>550</td>\n",
       "      <td>1150.0</td>\n",
       "    </tr>\n",
       "    <tr>\n",
       "      <th>9</th>\n",
       "      <td>smart</td>\n",
       "      <td>1005</td>\n",
       "      <td>1</td>\n",
       "      <td>15.0</td>\n",
       "      <td>95.0</td>\n",
       "      <td>11.0</td>\n",
       "      <td>7.0</td>\n",
       "      <td>2730.0</td>\n",
       "      <td>0.0</td>\n",
       "      <td>0.0</td>\n",
       "      <td>0.0</td>\n",
       "      <td>550</td>\n",
       "      <td>550.0</td>\n",
       "    </tr>\n",
       "  </tbody>\n",
       "</table>\n",
       "</div>"
      ],
      "text/plain": [
       "  tariff  user_id  month  Calls  Minutes  Active_calls  messages  traffic  \\\n",
       "0  smart     1001     11   59.0    430.0          45.0       0.0  18452.0   \n",
       "1  smart     1001     12   63.0    414.0          47.0       0.0  14053.0   \n",
       "2  smart     1002      6   15.0    117.0          14.0       4.0  10871.0   \n",
       "3  smart     1002      7   26.0    214.0          21.0      11.0  17601.0   \n",
       "4  smart     1002      8   42.0    289.0          37.0      13.0  20347.0   \n",
       "5  smart     1002      9   36.0    206.0          25.0       4.0  16712.0   \n",
       "6  smart     1002     10   33.0    212.0          24.0      10.0  13905.0   \n",
       "7  smart     1002     11   32.0    243.0          25.0      16.0  18610.0   \n",
       "8  smart     1002     12   33.0    236.0          27.0      12.0  18137.0   \n",
       "9  smart     1005      1   15.0     95.0          11.0       7.0   2730.0   \n",
       "\n",
       "   Calls_Income  Messages_Income  Internet_Income  rub_monthly_fee  \\\n",
       "0           0.0              0.0            800.0              550   \n",
       "1           0.0              0.0              0.0              550   \n",
       "2           0.0              0.0              0.0              550   \n",
       "3           0.0              0.0            600.0              550   \n",
       "4           0.0              0.0           1000.0              550   \n",
       "5           0.0              0.0            400.0              550   \n",
       "6           0.0              0.0              0.0              550   \n",
       "7           0.0              0.0            800.0              550   \n",
       "8           0.0              0.0            600.0              550   \n",
       "9           0.0              0.0              0.0              550   \n",
       "\n",
       "   Total_Income  \n",
       "0        1350.0  \n",
       "1         550.0  \n",
       "2         550.0  \n",
       "3        1150.0  \n",
       "4        1550.0  \n",
       "5         950.0  \n",
       "6         550.0  \n",
       "7        1350.0  \n",
       "8        1150.0  \n",
       "9         550.0  "
      ]
     },
     "execution_count": 209,
     "metadata": {},
     "output_type": "execute_result"
    }
   ],
   "source": [
    "User_stat.head(10)"
   ]
  },
  {
   "cell_type": "markdown",
   "metadata": {},
   "source": [
    "### Вывод\n",
    "\n",
    "На этом этапе мы решили проблемы выявленные на первом этапе. Необходимые колонки были приведены к типу DateTime. Ненужные колонки - удалены.\n",
    "\n",
    "Провели анализ данных. Выявили очень большое количество нулевых значений в таблицах data_calls и data_internet.\n",
    "\n",
    "data_calls:\n",
    "\n",
    "Огромное количество нулевых значений. Видимо это пропущенные вызовы и/или прозвоны. Количество таковых значений очень велико - 39613. Это около 19,5% от общей выборки. Дилемма.. С одной стороны избавиться от них мы не можем (их число слишком велико), а с другой - они очевидно будут влиять на \"полезные\" данные. Оставим текущий датасет как есть. Но создадим новый - без учета звонков с нулевой длительностью - data_calls_active.\n",
    "Оценили статистические характеристики data_calls_active в сравнении с data_calls.\n",
    "Распределение длительности звонков стало похоже на нормальное. Средняя длительность выросла с 6.75 до 8.4, медиана - с 6 до 7.74, а среднеквадрати́чное отклонение уменьшилось с 5,84 до 5,35.\n",
    "\n",
    "\n",
    "data_internet:\n",
    "Очень большое количество 19,6 тыс или более 11% нулевых значений потраченных Мб. Вероятно - это \"фантомные\" сессии, когда пользователь был в сети, но в интернет не заходил. Создали новую табличку data_internet_active, в которую не вошли нулевые значения.\n",
    "Вот так изменились наши основные статистические характеристики:\n",
    "Мат.ожидание с 370.2 увеличилось до 426\n",
    "Медиана увеичилась с 348 до 400,5\n",
    "Среднеквадратическое  отклонение уменьшилось с 278.3 до 255,6\n",
    "\n",
    "После чего посчитали для каждого пользователя статистику по месяцам.\n",
    "\n",
    "    количество сделанных звонков и израсходованных минут разговора по месяцам;\n",
    "    количество отправленных сообщений по месяцам;\n",
    "    объем израсходованного интернет-трафика по месяцам;\n",
    "    помесячную выручку с каждого пользователя."
   ]
  },
  {
   "cell_type": "markdown",
   "metadata": {},
   "source": [
    "<a name=\"paragraph3\"></a>\n",
    "## 3. Анализ данных"
   ]
  },
  {
   "cell_type": "markdown",
   "metadata": {},
   "source": [
    "Приступим к анализу данных.\n"
   ]
  },
  {
   "cell_type": "code",
   "execution_count": 210,
   "metadata": {},
   "outputs": [],
   "source": [
    "User_stat_smart = User_stat.query('tariff == \"smart\"')"
   ]
  },
  {
   "cell_type": "code",
   "execution_count": 211,
   "metadata": {},
   "outputs": [],
   "source": [
    "User_stat_ultra = User_stat.query('tariff == \"ultra\"')"
   ]
  },
  {
   "cell_type": "markdown",
   "metadata": {},
   "source": [
    "Проанализируем общие статистические характеристики для обоих тарифов.\n",
    "\n",
    "Тариф - smart"
   ]
  },
  {
   "cell_type": "code",
   "execution_count": 212,
   "metadata": {},
   "outputs": [
    {
     "data": {
      "text/html": [
       "<div>\n",
       "<style scoped>\n",
       "    .dataframe tbody tr th:only-of-type {\n",
       "        vertical-align: middle;\n",
       "    }\n",
       "\n",
       "    .dataframe tbody tr th {\n",
       "        vertical-align: top;\n",
       "    }\n",
       "\n",
       "    .dataframe thead th {\n",
       "        text-align: right;\n",
       "    }\n",
       "</style>\n",
       "<table border=\"1\" class=\"dataframe\">\n",
       "  <thead>\n",
       "    <tr style=\"text-align: right;\">\n",
       "      <th></th>\n",
       "      <th>user_id</th>\n",
       "      <th>month</th>\n",
       "      <th>Calls</th>\n",
       "      <th>Minutes</th>\n",
       "      <th>Active_calls</th>\n",
       "      <th>messages</th>\n",
       "      <th>traffic</th>\n",
       "      <th>Calls_Income</th>\n",
       "      <th>Messages_Income</th>\n",
       "      <th>Internet_Income</th>\n",
       "      <th>rub_monthly_fee</th>\n",
       "      <th>Total_Income</th>\n",
       "    </tr>\n",
       "  </thead>\n",
       "  <tbody>\n",
       "    <tr>\n",
       "      <th>count</th>\n",
       "      <td>2229.000000</td>\n",
       "      <td>2229.000000</td>\n",
       "      <td>2229.000000</td>\n",
       "      <td>2229.000000</td>\n",
       "      <td>2229.000000</td>\n",
       "      <td>2229.000000</td>\n",
       "      <td>2229.000000</td>\n",
       "      <td>2229.000000</td>\n",
       "      <td>2229.000000</td>\n",
       "      <td>2229.000000</td>\n",
       "      <td>2229.0</td>\n",
       "      <td>2229.000000</td>\n",
       "    </tr>\n",
       "    <tr>\n",
       "      <th>mean</th>\n",
       "      <td>1246.506505</td>\n",
       "      <td>8.346792</td>\n",
       "      <td>58.463437</td>\n",
       "      <td>417.934948</td>\n",
       "      <td>46.947510</td>\n",
       "      <td>33.384029</td>\n",
       "      <td>16229.188425</td>\n",
       "      <td>124.816958</td>\n",
       "      <td>17.399731</td>\n",
       "      <td>602.422611</td>\n",
       "      <td>550.0</td>\n",
       "      <td>1294.639300</td>\n",
       "    </tr>\n",
       "    <tr>\n",
       "      <th>std</th>\n",
       "      <td>146.119496</td>\n",
       "      <td>2.920316</td>\n",
       "      <td>25.939858</td>\n",
       "      <td>190.313730</td>\n",
       "      <td>21.039171</td>\n",
       "      <td>28.227876</td>\n",
       "      <td>5877.576978</td>\n",
       "      <td>254.035718</td>\n",
       "      <td>40.327368</td>\n",
       "      <td>739.433926</td>\n",
       "      <td>0.0</td>\n",
       "      <td>820.933202</td>\n",
       "    </tr>\n",
       "    <tr>\n",
       "      <th>min</th>\n",
       "      <td>1001.000000</td>\n",
       "      <td>1.000000</td>\n",
       "      <td>0.000000</td>\n",
       "      <td>0.000000</td>\n",
       "      <td>0.000000</td>\n",
       "      <td>0.000000</td>\n",
       "      <td>0.000000</td>\n",
       "      <td>0.000000</td>\n",
       "      <td>0.000000</td>\n",
       "      <td>0.000000</td>\n",
       "      <td>550.0</td>\n",
       "      <td>550.000000</td>\n",
       "    </tr>\n",
       "    <tr>\n",
       "      <th>25%</th>\n",
       "      <td>1121.000000</td>\n",
       "      <td>6.000000</td>\n",
       "      <td>40.000000</td>\n",
       "      <td>282.000000</td>\n",
       "      <td>32.000000</td>\n",
       "      <td>10.000000</td>\n",
       "      <td>12658.000000</td>\n",
       "      <td>0.000000</td>\n",
       "      <td>0.000000</td>\n",
       "      <td>0.000000</td>\n",
       "      <td>550.0</td>\n",
       "      <td>550.000000</td>\n",
       "    </tr>\n",
       "    <tr>\n",
       "      <th>50%</th>\n",
       "      <td>1239.000000</td>\n",
       "      <td>9.000000</td>\n",
       "      <td>60.000000</td>\n",
       "      <td>422.000000</td>\n",
       "      <td>47.000000</td>\n",
       "      <td>28.000000</td>\n",
       "      <td>16531.000000</td>\n",
       "      <td>0.000000</td>\n",
       "      <td>0.000000</td>\n",
       "      <td>400.000000</td>\n",
       "      <td>550.0</td>\n",
       "      <td>1038.000000</td>\n",
       "    </tr>\n",
       "    <tr>\n",
       "      <th>75%</th>\n",
       "      <td>1376.000000</td>\n",
       "      <td>11.000000</td>\n",
       "      <td>76.000000</td>\n",
       "      <td>545.000000</td>\n",
       "      <td>61.000000</td>\n",
       "      <td>51.000000</td>\n",
       "      <td>20068.000000</td>\n",
       "      <td>135.000000</td>\n",
       "      <td>3.000000</td>\n",
       "      <td>1000.000000</td>\n",
       "      <td>550.0</td>\n",
       "      <td>1750.000000</td>\n",
       "    </tr>\n",
       "    <tr>\n",
       "      <th>max</th>\n",
       "      <td>1499.000000</td>\n",
       "      <td>12.000000</td>\n",
       "      <td>198.000000</td>\n",
       "      <td>1435.000000</td>\n",
       "      <td>162.000000</td>\n",
       "      <td>143.000000</td>\n",
       "      <td>38610.000000</td>\n",
       "      <td>2805.000000</td>\n",
       "      <td>279.000000</td>\n",
       "      <td>4600.000000</td>\n",
       "      <td>550.0</td>\n",
       "      <td>6770.000000</td>\n",
       "    </tr>\n",
       "  </tbody>\n",
       "</table>\n",
       "</div>"
      ],
      "text/plain": [
       "           user_id        month        Calls      Minutes  Active_calls  \\\n",
       "count  2229.000000  2229.000000  2229.000000  2229.000000   2229.000000   \n",
       "mean   1246.506505     8.346792    58.463437   417.934948     46.947510   \n",
       "std     146.119496     2.920316    25.939858   190.313730     21.039171   \n",
       "min    1001.000000     1.000000     0.000000     0.000000      0.000000   \n",
       "25%    1121.000000     6.000000    40.000000   282.000000     32.000000   \n",
       "50%    1239.000000     9.000000    60.000000   422.000000     47.000000   \n",
       "75%    1376.000000    11.000000    76.000000   545.000000     61.000000   \n",
       "max    1499.000000    12.000000   198.000000  1435.000000    162.000000   \n",
       "\n",
       "          messages       traffic  Calls_Income  Messages_Income  \\\n",
       "count  2229.000000   2229.000000   2229.000000      2229.000000   \n",
       "mean     33.384029  16229.188425    124.816958        17.399731   \n",
       "std      28.227876   5877.576978    254.035718        40.327368   \n",
       "min       0.000000      0.000000      0.000000         0.000000   \n",
       "25%      10.000000  12658.000000      0.000000         0.000000   \n",
       "50%      28.000000  16531.000000      0.000000         0.000000   \n",
       "75%      51.000000  20068.000000    135.000000         3.000000   \n",
       "max     143.000000  38610.000000   2805.000000       279.000000   \n",
       "\n",
       "       Internet_Income  rub_monthly_fee  Total_Income  \n",
       "count      2229.000000           2229.0   2229.000000  \n",
       "mean        602.422611            550.0   1294.639300  \n",
       "std         739.433926              0.0    820.933202  \n",
       "min           0.000000            550.0    550.000000  \n",
       "25%           0.000000            550.0    550.000000  \n",
       "50%         400.000000            550.0   1038.000000  \n",
       "75%        1000.000000            550.0   1750.000000  \n",
       "max        4600.000000            550.0   6770.000000  "
      ]
     },
     "execution_count": 212,
     "metadata": {},
     "output_type": "execute_result"
    }
   ],
   "source": [
    "User_stat_smart.describe()"
   ]
  },
  {
   "cell_type": "markdown",
   "metadata": {},
   "source": [
    "Тариф - ultra"
   ]
  },
  {
   "cell_type": "code",
   "execution_count": 213,
   "metadata": {
    "scrolled": true
   },
   "outputs": [
    {
     "data": {
      "text/html": [
       "<div>\n",
       "<style scoped>\n",
       "    .dataframe tbody tr th:only-of-type {\n",
       "        vertical-align: middle;\n",
       "    }\n",
       "\n",
       "    .dataframe tbody tr th {\n",
       "        vertical-align: top;\n",
       "    }\n",
       "\n",
       "    .dataframe thead th {\n",
       "        text-align: right;\n",
       "    }\n",
       "</style>\n",
       "<table border=\"1\" class=\"dataframe\">\n",
       "  <thead>\n",
       "    <tr style=\"text-align: right;\">\n",
       "      <th></th>\n",
       "      <th>user_id</th>\n",
       "      <th>month</th>\n",
       "      <th>Calls</th>\n",
       "      <th>Minutes</th>\n",
       "      <th>Active_calls</th>\n",
       "      <th>messages</th>\n",
       "      <th>traffic</th>\n",
       "      <th>Calls_Income</th>\n",
       "      <th>Messages_Income</th>\n",
       "      <th>Internet_Income</th>\n",
       "      <th>rub_monthly_fee</th>\n",
       "      <th>Total_Income</th>\n",
       "    </tr>\n",
       "  </thead>\n",
       "  <tbody>\n",
       "    <tr>\n",
       "      <th>count</th>\n",
       "      <td>985.000000</td>\n",
       "      <td>985.000000</td>\n",
       "      <td>985.000000</td>\n",
       "      <td>985.000000</td>\n",
       "      <td>985.000000</td>\n",
       "      <td>985.000000</td>\n",
       "      <td>985.000000</td>\n",
       "      <td>985.0</td>\n",
       "      <td>985.0</td>\n",
       "      <td>985.000000</td>\n",
       "      <td>985.0</td>\n",
       "      <td>985.000000</td>\n",
       "    </tr>\n",
       "    <tr>\n",
       "      <th>mean</th>\n",
       "      <td>1263.094416</td>\n",
       "      <td>8.250761</td>\n",
       "      <td>73.392893</td>\n",
       "      <td>526.623350</td>\n",
       "      <td>59.236548</td>\n",
       "      <td>49.363452</td>\n",
       "      <td>19486.901523</td>\n",
       "      <td>0.0</td>\n",
       "      <td>0.0</td>\n",
       "      <td>121.065990</td>\n",
       "      <td>1950.0</td>\n",
       "      <td>2071.065990</td>\n",
       "    </tr>\n",
       "    <tr>\n",
       "      <th>std</th>\n",
       "      <td>140.694908</td>\n",
       "      <td>2.871762</td>\n",
       "      <td>43.916853</td>\n",
       "      <td>317.606098</td>\n",
       "      <td>35.562722</td>\n",
       "      <td>47.804457</td>\n",
       "      <td>10096.317202</td>\n",
       "      <td>0.0</td>\n",
       "      <td>0.0</td>\n",
       "      <td>378.802377</td>\n",
       "      <td>0.0</td>\n",
       "      <td>378.802377</td>\n",
       "    </tr>\n",
       "    <tr>\n",
       "      <th>min</th>\n",
       "      <td>1000.000000</td>\n",
       "      <td>1.000000</td>\n",
       "      <td>0.000000</td>\n",
       "      <td>0.000000</td>\n",
       "      <td>0.000000</td>\n",
       "      <td>0.000000</td>\n",
       "      <td>0.000000</td>\n",
       "      <td>0.0</td>\n",
       "      <td>0.0</td>\n",
       "      <td>0.000000</td>\n",
       "      <td>1950.0</td>\n",
       "      <td>1950.000000</td>\n",
       "    </tr>\n",
       "    <tr>\n",
       "      <th>25%</th>\n",
       "      <td>1143.000000</td>\n",
       "      <td>6.000000</td>\n",
       "      <td>41.000000</td>\n",
       "      <td>284.000000</td>\n",
       "      <td>33.000000</td>\n",
       "      <td>6.000000</td>\n",
       "      <td>11785.000000</td>\n",
       "      <td>0.0</td>\n",
       "      <td>0.0</td>\n",
       "      <td>0.000000</td>\n",
       "      <td>1950.0</td>\n",
       "      <td>1950.000000</td>\n",
       "    </tr>\n",
       "    <tr>\n",
       "      <th>50%</th>\n",
       "      <td>1277.000000</td>\n",
       "      <td>9.000000</td>\n",
       "      <td>74.000000</td>\n",
       "      <td>518.000000</td>\n",
       "      <td>58.000000</td>\n",
       "      <td>38.000000</td>\n",
       "      <td>19324.000000</td>\n",
       "      <td>0.0</td>\n",
       "      <td>0.0</td>\n",
       "      <td>0.000000</td>\n",
       "      <td>1950.0</td>\n",
       "      <td>1950.000000</td>\n",
       "    </tr>\n",
       "    <tr>\n",
       "      <th>75%</th>\n",
       "      <td>1381.000000</td>\n",
       "      <td>11.000000</td>\n",
       "      <td>104.000000</td>\n",
       "      <td>752.000000</td>\n",
       "      <td>84.000000</td>\n",
       "      <td>79.000000</td>\n",
       "      <td>26863.000000</td>\n",
       "      <td>0.0</td>\n",
       "      <td>0.0</td>\n",
       "      <td>0.000000</td>\n",
       "      <td>1950.0</td>\n",
       "      <td>1950.000000</td>\n",
       "    </tr>\n",
       "    <tr>\n",
       "      <th>max</th>\n",
       "      <td>1495.000000</td>\n",
       "      <td>12.000000</td>\n",
       "      <td>244.000000</td>\n",
       "      <td>1673.000000</td>\n",
       "      <td>190.000000</td>\n",
       "      <td>224.000000</td>\n",
       "      <td>49789.000000</td>\n",
       "      <td>0.0</td>\n",
       "      <td>0.0</td>\n",
       "      <td>2850.000000</td>\n",
       "      <td>1950.0</td>\n",
       "      <td>4800.000000</td>\n",
       "    </tr>\n",
       "  </tbody>\n",
       "</table>\n",
       "</div>"
      ],
      "text/plain": [
       "           user_id       month       Calls      Minutes  Active_calls  \\\n",
       "count   985.000000  985.000000  985.000000   985.000000    985.000000   \n",
       "mean   1263.094416    8.250761   73.392893   526.623350     59.236548   \n",
       "std     140.694908    2.871762   43.916853   317.606098     35.562722   \n",
       "min    1000.000000    1.000000    0.000000     0.000000      0.000000   \n",
       "25%    1143.000000    6.000000   41.000000   284.000000     33.000000   \n",
       "50%    1277.000000    9.000000   74.000000   518.000000     58.000000   \n",
       "75%    1381.000000   11.000000  104.000000   752.000000     84.000000   \n",
       "max    1495.000000   12.000000  244.000000  1673.000000    190.000000   \n",
       "\n",
       "         messages       traffic  Calls_Income  Messages_Income  \\\n",
       "count  985.000000    985.000000         985.0            985.0   \n",
       "mean    49.363452  19486.901523           0.0              0.0   \n",
       "std     47.804457  10096.317202           0.0              0.0   \n",
       "min      0.000000      0.000000           0.0              0.0   \n",
       "25%      6.000000  11785.000000           0.0              0.0   \n",
       "50%     38.000000  19324.000000           0.0              0.0   \n",
       "75%     79.000000  26863.000000           0.0              0.0   \n",
       "max    224.000000  49789.000000           0.0              0.0   \n",
       "\n",
       "       Internet_Income  rub_monthly_fee  Total_Income  \n",
       "count       985.000000            985.0    985.000000  \n",
       "mean        121.065990           1950.0   2071.065990  \n",
       "std         378.802377              0.0    378.802377  \n",
       "min           0.000000           1950.0   1950.000000  \n",
       "25%           0.000000           1950.0   1950.000000  \n",
       "50%           0.000000           1950.0   1950.000000  \n",
       "75%           0.000000           1950.0   1950.000000  \n",
       "max        2850.000000           1950.0   4800.000000  "
      ]
     },
     "execution_count": 213,
     "metadata": {},
     "output_type": "execute_result"
    }
   ],
   "source": [
    "User_stat_ultra.describe()"
   ]
  },
  {
   "cell_type": "markdown",
   "metadata": {},
   "source": [
    "Проанализируем общее количество потраченных минут в месяц по обоим тарифам."
   ]
  },
  {
   "cell_type": "code",
   "execution_count": 214,
   "metadata": {},
   "outputs": [
    {
     "data": {
      "image/png": "[encoded data removed]",
      "text/plain": [
       "<Figure size 792x432 with 1 Axes>"
      ]
     },
     "metadata": {
      "needs_background": "light"
     },
     "output_type": "display_data"
    }
   ],
   "source": [
    "side_by_side_hist(\n",
    "    User_stat_smart['Minutes'],\n",
    "    User_stat_ultra['Minutes'],\n",
    "    'Сравнительная гистограмма по количеству минут в месяц', \n",
    "    'Количество минут за месяц', \n",
    "    ['Smart', 'Ultra']\n",
    ")"
   ]
  },
  {
   "cell_type": "markdown",
   "metadata": {},
   "source": [
    "Посчитаем дисперсии"
   ]
  },
  {
   "cell_type": "code",
   "execution_count": 215,
   "metadata": {},
   "outputs": [
    {
     "name": "stdout",
     "output_type": "stream",
     "text": [
      "Тариф Smart. Общее количество потраченных минут. Дисперсия: 36203.066652094654\n",
      "Тариф Ultra. Общее количество потраченных минут. Дисперсия: 100771.22361720214\n"
     ]
    }
   ],
   "source": [
    "print('Тариф Smart. Общее количество потраченных минут. Дисперсия: {}'.\n",
    "      format(np.var(User_stat_smart['Minutes'])))\n",
    "print('Тариф Ultra. Общее количество потраченных минут. Дисперсия: {}'.\n",
    "      format(np.var(User_stat_ultra['Minutes'])))\n"
   ]
  },
  {
   "cell_type": "markdown",
   "metadata": {},
   "source": [
    "##### Количество минут - вывод:\n",
    "\n",
    "    Проанализировали общее количество потраченных минут, а также добавили дополнительную прибыль при выходе из лимита.\n",
    "    \n",
    "    Тариф smart (по плану - 500)\n",
    "        Среднее количество минут - 417.9\n",
    "        Среднеквадратическое отклонение - 190.3\n",
    "        Медиана - 422\n",
    "        Средняя прибыль по минутам сверх лимита - 124.8\n",
    "        Дисперсия - 36203\n",
    "        \n",
    "    Тариф ultra (по плану - 3000)\n",
    "        Среднее количество минут - 526.6\n",
    "        Среднеквадратическое отклонение - 317.6\n",
    "        Медиана - 518\n",
    "        Средняя прибыль по минутам сверх лимита - 0\n",
    "        Дисперсия - 100771\n",
    "        \n",
    "Заметим, что количество потраченных минут для пользователей обоих тарифов отличается, но не очень сильно. Пик на графике и среднее/медиана для тарифа smart находится до 500 (в районе 420), а для пользователей ultra чуть выше 500 - 520-550, но эти значения для пользователей преподнесли бы дополнительные затраты, если бы они были на тарифе smart. При этом распределение для пользователей тарифа ultra относительно равномерное. Примерно, на интервале 250-800 - значения распределены равномерно, за исключением небольшого пика около 550. \n",
    "\n",
    "\n",
    "При этом, если пользователи тарифа smart доплачивают порой сверх абонентской за минуты сверх лимита, то пользователи тарифа ultra не только к этому не близки, но у них ещё и огромный запас. При лимите минут в 3000 - максимальное потраченное за месяц значение минут - 1673. Это значит, что дополнительную прибыль по звонкам пользователи тарифа ultra не принесут."
   ]
  },
  {
   "cell_type": "code",
   "execution_count": 216,
   "metadata": {},
   "outputs": [
    {
     "data": {
      "image/png": "[encoded data removed]",
      "text/plain": [
       "<Figure size 792x432 with 1 Axes>"
      ]
     },
     "metadata": {
      "needs_background": "light"
     },
     "output_type": "display_data"
    }
   ],
   "source": [
    "side_by_side_hist(\n",
    "    User_stat_smart['messages'],\n",
    "    User_stat_ultra['messages'],\n",
    "    'Сравнительная гистограмма по количеству сообщений в месяц', \n",
    "    'Количество сообщений за месяц', \n",
    "    ['Smart', 'Ultra']\n",
    ")"
   ]
  },
  {
   "cell_type": "markdown",
   "metadata": {},
   "source": [
    " Посчитаем дисперсии"
   ]
  },
  {
   "cell_type": "code",
   "execution_count": 217,
   "metadata": {},
   "outputs": [
    {
     "name": "stdout",
     "output_type": "stream",
     "text": [
      "Тариф Smart. Общее количество сообщений. Дисперсия: 796.455482917076\n",
      "Тариф Ultra. Общее количество сообщений. Дисперсия: 2282.946075394892\n"
     ]
    }
   ],
   "source": [
    "print('Тариф Smart. Общее количество сообщений. Дисперсия: {}'.\n",
    "      format(np.var(User_stat_smart['messages'])))\n",
    "print('Тариф Ultra. Общее количество сообщений. Дисперсия: {}'.\n",
    "      format(np.var(User_stat_ultra['messages'])))\n"
   ]
  },
  {
   "cell_type": "markdown",
   "metadata": {},
   "source": [
    "##### Количество сообщений - вывод:\n",
    "\n",
    "Проанализировали общее количество сообщений в месяц, а также проанализировали дополнительную прибыль по этому параметру.\n",
    "    \n",
    "    Тариф smart (по плану - 50)\n",
    "        Среднее количество сообщений - 33.4\n",
    "        Среднеквадратическое отклонение - 28.3\n",
    "        Медиана - 28\n",
    "        Средняя прибыль - 17.5\n",
    "        Дисперсия - 796\n",
    "    Тариф ultra (по плану - 1000)\n",
    "        Среднее количество сообщений - 49.4\n",
    "        Среднеквадратическое отклонение - 47.8\n",
    "        Медиана - 38\n",
    "        Средняя прибыль - 0\n",
    "        Дисперсия - 2283\n",
    "        \n",
    "Аналогичная ситуация и сообщениями. Пользователи ultra отправляют их не сильно больше и очень далеки от лимита, чтобы приносить дополнительную прибыль. При этом пользователи тарифа smart хоть и немного (самую малость), но выходят за рамки лимита и приносят дополнительную прибыль по этому параметру. \n",
    "\n",
    "При этом по графику становится очевидно, что пик приходится на значения до и около 10 (для обоих тарифов), после чего значения идут на убыль. Видимо, сообщения уходят в прошлое и нет никаких предпосылок для смещения этого пика в большую сторону."
   ]
  },
  {
   "cell_type": "code",
   "execution_count": 218,
   "metadata": {},
   "outputs": [
    {
     "data": {
      "image/png": "[encoded data removed]",
      "text/plain": [
       "<Figure size 792x432 with 1 Axes>"
      ]
     },
     "metadata": {
      "needs_background": "light"
     },
     "output_type": "display_data"
    }
   ],
   "source": [
    "side_by_side_hist(\n",
    "    User_stat_smart['traffic'],\n",
    "    User_stat_ultra['traffic'],\n",
    "    'Сравнительная гистограмма по количеству использованных Мб в месяц', \n",
    "    'Количество использованных Мб за месяц', \n",
    "    ['Smart', 'Ultra']\n",
    ")"
   ]
  },
  {
   "cell_type": "markdown",
   "metadata": {},
   "source": [
    "Посчитаем дисперсии"
   ]
  },
  {
   "cell_type": "code",
   "execution_count": 219,
   "metadata": {},
   "outputs": [
    {
     "name": "stdout",
     "output_type": "stream",
     "text": [
      "Тариф Smart. Общее количество сообщений. Дисперсия: 34530412.737039655\n",
      "Тариф Ultra. Общее количество сообщений. Дисперсия: 101832133.10806865\n"
     ]
    }
   ],
   "source": [
    "print('Тариф Smart. Общее количество сообщений. Дисперсия: {}'.\n",
    "      format(np.var(User_stat_smart['traffic'])))\n",
    "print('Тариф Ultra. Общее количество сообщений. Дисперсия: {}'.\n",
    "      format(np.var(User_stat_ultra['traffic'])))\n"
   ]
  },
  {
   "cell_type": "markdown",
   "metadata": {},
   "source": [
    "##### Количество потраченных Мб - вывод:\n",
    "\n",
    "Проанализировали общее количество потраченных Мб в месяц, а также проанализировали дополнительную прибыль по этому параметру.\n",
    "    \n",
    "    Тариф smart (по плану - 15360)\n",
    "        Среднее количество потраченных Мб - 16229\n",
    "        Среднеквадратическое отклонение - 5877\n",
    "        Медиана - 16531\n",
    "        Средняя прибыль - 602\n",
    "        Дисперсия - 34530413\n",
    "        \n",
    "    Тариф ultra (по плану - 1000)\n",
    "        Среднее количество потраченных Мб - 19486\n",
    "        Среднеквадратическое отклонение - 10096\n",
    "        Медиана - 19324\n",
    "        Средняя прибыль - 121\n",
    "        Дисперсия - 101832133\n",
    "        \n",
    "Итак, пользователи обоих тарифов также не очень сильно отличаются по потреблению интернета. Однако распределения разные.. У тарифа smart прослеживается более яркий пик на гистограмме, в районе значений 15000-17500. Для тарифа ultra значения относительно равномерно \"размазаны\" на интервале 7500-30000, что подтверждается также среднеквадратическим отклонением - для ultra оно гораздо больше.\n",
    "\n",
    "При этом, если пользователи ultra выходят за рамки лимита крайне редко, то пользователи тарифа смарт выходят из лимита регулярно - среднее и медиана лежат выше лимита.\n",
    "При этом дополнительную прибыль относительно абонентсткой платы дают оба тарифа. smart даёт побольше (602), ultra - чуть поменьше (121)."
   ]
  },
  {
   "cell_type": "markdown",
   "metadata": {},
   "source": [
    "### Вывод:\n",
    "\n",
    "Мы провели анализ основных характеристик тарифных планов smart и ultra - сколько минут, сообщений, интернет-траффика необходимо пользователям каждого тарифа в месяц.\n",
    "\n",
    "Количество минут - вывод:\n",
    "\n",
    "Тариф smart (по плану - 500)\n",
    "    Среднее количество минут - 419.1\n",
    "    Среднеквадратическое отклонение - 189.3\n",
    "    Медиана - 423\n",
    "    Средняя прибыль по минутам сверх лимита - 125.2\n",
    "\n",
    "Тариф ultra (по плану - 3000)\n",
    "    Среднее количество минут - 545.5\n",
    "    Среднеквадратическое отклонение - 306.9\n",
    "    Медиана - 528\n",
    "    Средняя прибыль по минутам сверх лимита - 0\n",
    "\n",
    "Заметим, что количество потраченных минут для пользователей обоих тарифов отличается, но не очень сильно. Пик на графике и среднее/медиана для тарифа smart находится до 500 (в районе 420), а для пользователей ultra чуть выше 500 - 520-550, но эти значения для пользователей преподнесли бы дополнительные затраты, если бы они были на тарифе smart. При этом распределение для пользователей тарифа ultra относительно равномерное. Примерно, на интервале 250-800 - значения распределены равномерно, за исключением небольшого пика около 550.\n",
    "\n",
    "При этом, если пользователи тарифа smart доплачивают порой сверх абонентской за минуты сверх лимита, то пользователи тарифа ultra не только к этому не близки, но у них ещё и огромный запас. При лимите минут в 3000 - максимальное потраченное за месяц значение минут - 1673. Это значит, что дополнительную прибыль по звонкам пользователи тарифа ultra не принесут.\n",
    "\n",
    "Количество сообщений - вывод:\n",
    "\n",
    "Тариф smart (по плану - 50)\n",
    "    Среднее количество сообщений - 33.4\n",
    "    Среднеквадратическое отклонение - 28.3\n",
    "    Медиана - 28\n",
    "    Средняя прибыль - 17.5\n",
    "\n",
    "Тариф ultra (по плану - 1000)\n",
    "    Среднее количество сообщений - 49\n",
    "    Среднеквадратическое отклонение - 46.9\n",
    "    Медиана - 39\n",
    "    Средняя прибыль - 0\n",
    "\n",
    "Аналогичная ситуация и сообщениями. Пользователи ultra отправляют их не сильно больше и очень далеки от лимита, чтобы приносить дополнительную прибыль. При этом пользователи тарифа smart хоть и немного (самую малость), но выходят за рамки лимита и приносят дополнительную прибыль по этому параметру.\n",
    "\n",
    "При этом по графику становится очевидно, что пик приходится на значения до и около 10 (для обоих тарифов), после чего значения идут на убыль. Видимо, сообщения уходят в прошлое и нет никаких предпосылок для смещения этого пика в большую сторону.\n",
    "\n",
    "Объем интернет-трафика - вывод:\n",
    "\n",
    "Тариф smart (по плану - 15360)\n",
    "    Среднее количество потраченных Мб - 16230\n",
    "    Среднеквадратическое отклонение - 5883\n",
    "    Медиана - 16527\n",
    "    Средняя прибыль - 603\n",
    "\n",
    "Тариф ultra (по плану - 1000)\n",
    "    Среднее количество потраченных Мб - 19480\n",
    "    Среднеквадратическое отклонение - 10135\n",
    "    Медиана - 19374\n",
    "    Средняя прибыль - 122\n",
    "\n",
    "Итак, пользователи обоих тарифов также не очень сильно отличаются по потреблению интернета. Однако распределения разные.. У тарифа smart прослеживается более яркий пик на гистограмме, в районе значений 15000-17500. Для тарифа ultra значения относительно равномерно \"размазаны\" на интервале 7500-30000, что подтверждается также среднеквадратическим отклонением - для ultra оно гораздо больше.\n",
    "\n",
    "При этом, если пользователи ultra выходят за рамки лимита крайне редко, то пользователи тарифа смарт выходят из лимита регулярно - среднее и медиана лежат выше лимита. При этом дополнительную прибыль относительно абонентсткой платы дают оба тарифа. smart даёт побольше (603), ultra - чуть поменьше (122).\n",
    "\n",
    "\n",
    "Кроме этого заметим, что общее количество месяцев (из выборки) проведенное на тарифе смарт равно 2223, а на тарифе ultra - 951. На основании чего делаем вывод, что тарифный план smart популярнее в 2.34 раза. Также мы высчитали сколько в среднем обходится пользователям данные тарифные планы: smart - 1296 и ultra - 2072. ultra обходится примерно в 1.6 раза дороже. Но именно за счёт популярности smart приносит доходов больше, а именно в 1,46 раза (2223x1296 / 951x2072).   \n",
    "\n",
    "\n",
    "Анализируя необходимое количество минут/сообщений/объема интернет-траффика - можно сделать вывод, что в среднем пользователи обоих тарифных планов схожи друг с другом. Пользователи ultra потребляют, конечно, больше, но не в разы (как относятся лимиты обоих тарифных планов). Количество минут, если мы рассматриваем среднее/медиану (а они отличаются не сильно) ~420 и ~545. Про количество сообщений можно сказать, что не играют большую роль - можно было бы ими даже пренеберечь. Большинство пользователей ограничивается до 10 сообщениями в месяц, что с запасом меньше лимита на обоих тарифах. И объем потраченнного интернет-траффика - 16230 (smart) и 19480 (ultra). Количество потраченных минут (в среднем) для пользоватлей ultra больше в 1.3 раза, а интернет-траффика - в 1.2 раза. \n",
    "\n",
    "Если мы рассмотрим среднестатистические параметры пользователя пакета ultra на тарифном пане smart в плане оплаты. Получим следующие цифры 550 + 45х3 + 4х200 = 1485. И это запас ещё почти в 500р, или +2Гб и около 30 мин до стоимости тарифного плана ultra. В связи с этим - можно обосновать поведение пользователей: пользователи тарифного плана ultra любят перестраховываться и иметь запас, или, возможно, не хотят следить за лимитами. А пользователи, тарифного плана smart, наоборот, более расчетливы и готовы превышать лимиты в разумных пределах.\n"
   ]
  },
  {
   "cell_type": "markdown",
   "metadata": {},
   "source": [
    "<a name=\"paragraph4\"></a>\n",
    "## 4. Проверка гипотез"
   ]
  },
  {
   "cell_type": "markdown",
   "metadata": {},
   "source": [
    "##### Гипотеза №1. Средняя выручка пользователей тарифов «Ультра» и «Смарт» различается.\n",
    "\n",
    "H0 - Средние выручки пользователей тарифов smart и ultra примерно равны\n",
    "\n",
    "H1 - Средние выручки пользователей тарифов smart и ultra отличаются.\n",
    "\n",
    "Зададим пороговое значение alpha = 0.05"
   ]
  },
  {
   "cell_type": "code",
   "execution_count": 220,
   "metadata": {},
   "outputs": [],
   "source": [
    "alpha = 0.05"
   ]
  },
  {
   "cell_type": "markdown",
   "metadata": {},
   "source": [
    "Посчитаем дисперсии"
   ]
  },
  {
   "cell_type": "code",
   "execution_count": 221,
   "metadata": {},
   "outputs": [
    {
     "name": "stdout",
     "output_type": "stream",
     "text": [
      "Тариф Smart. Общий доход. Дисперсия: 673628.9744267926\n",
      "Тариф Ultra. Общий доход. Дисперсия: 143345.5641732557\n"
     ]
    }
   ],
   "source": [
    "print('Тариф Smart. Общий доход. Дисперсия: {}'.\n",
    "      format(np.var(User_stat_smart['Total_Income'])))\n",
    "print('Тариф Ultra. Общий доход. Дисперсия: {}'.\n",
    "      format(np.var(User_stat_ultra['Total_Income'])))\n"
   ]
  },
  {
   "cell_type": "markdown",
   "metadata": {},
   "source": [
    "Дисперсии отличаются в несколько раз. Лучше использовать параметр equal_var = False. Проверим, дополнительно, на тестах Левене и Барлетта."
   ]
  },
  {
   "cell_type": "code",
   "execution_count": 222,
   "metadata": {},
   "outputs": [
    {
     "name": "stdout",
     "output_type": "stream",
     "text": [
      "p-value по тесту Левене 1.6855369377883898e-124\n",
      "p-value по тесту Барлетта 3.002696850995861e-140\n"
     ]
    }
   ],
   "source": [
    "stat_lv, p_lv = levene(User_stat_smart['Total_Income'], User_stat_ultra['Total_Income'])\n",
    "stat_bt, p_bt = bartlett(User_stat_smart['Total_Income'], User_stat_ultra['Total_Income'])\n",
    "\n",
    "print('p-value по тесту Левене {}'.format(p_lv))\n",
    "print('p-value по тесту Барлетта {}'.format(p_bt))"
   ]
  },
  {
   "cell_type": "markdown",
   "metadata": {},
   "source": [
    "Очень маленькие p-value подтверждают большое расхождение в дисперсиях выборок"
   ]
  },
  {
   "cell_type": "code",
   "execution_count": 223,
   "metadata": {},
   "outputs": [],
   "source": [
    "results = st.ttest_ind(\n",
    "    User_stat_smart['Total_Income'],\n",
    "    User_stat_ultra['Total_Income'], equal_var = False)"
   ]
  },
  {
   "cell_type": "code",
   "execution_count": 224,
   "metadata": {},
   "outputs": [
    {
     "name": "stdout",
     "output_type": "stream",
     "text": [
      "p-значение: 2.7240946993530856e-246\n",
      "Отвергаем нулевую гипотезу\n"
     ]
    }
   ],
   "source": [
    "print('p-значение:', results.pvalue)\n",
    "\n",
    "if (results.pvalue < alpha):\n",
    "    print(\"Отвергаем нулевую гипотезу\")\n",
    "else:\n",
    "    print(\"У нас не достаточно данных, чтобы отвергнуть нулевую гипотезу\") "
   ]
  },
  {
   "cell_type": "code",
   "execution_count": 225,
   "metadata": {},
   "outputs": [
    {
     "data": {
      "image/png": "[encoded data removed]",
      "text/plain": [
       "<Figure size 792x432 with 1 Axes>"
      ]
     },
     "metadata": {
      "needs_background": "light"
     },
     "output_type": "display_data"
    }
   ],
   "source": [
    "side_by_side_hist(\n",
    "    User_stat_smart['Total_Income'],\n",
    "    User_stat_ultra['Total_Income'],\n",
    "    'Сравнительная гистограмма по выручке за месяц', \n",
    "    'выручка за месяц', \n",
    "    ['Smart', 'Ultra']\n",
    ")"
   ]
  },
  {
   "cell_type": "markdown",
   "metadata": {},
   "source": [
    "Значение p-value имеет порядок 10 в -246 степени. Что очень мало - из чего следует, что выручки пользователей тарифов smart и ultra имеют серьезные отличия. Что, в принципе, подтвержается посчитанными ранее значениями мат.ожидания и стандартного отклонения и построенным выше гистограммой - выручка за месяц пользователей тарифов smart и ultra. "
   ]
  },
  {
   "cell_type": "markdown",
   "metadata": {},
   "source": [
    "##### Гипотеза №2. Средняя выручка пользователей из Москвы отличается от выручки пользователей из других регионов. \n",
    "Добавим в датасет User_stat колонку город проживания пользователя - city. Для этого определим датасет соотношений пользователь - город."
   ]
  },
  {
   "cell_type": "code",
   "execution_count": 226,
   "metadata": {},
   "outputs": [],
   "source": [
    "User2City = data_users[['user_id', 'city']]"
   ]
  },
  {
   "cell_type": "code",
   "execution_count": 227,
   "metadata": {},
   "outputs": [
    {
     "data": {
      "text/html": [
       "<div>\n",
       "<style scoped>\n",
       "    .dataframe tbody tr th:only-of-type {\n",
       "        vertical-align: middle;\n",
       "    }\n",
       "\n",
       "    .dataframe tbody tr th {\n",
       "        vertical-align: top;\n",
       "    }\n",
       "\n",
       "    .dataframe thead th {\n",
       "        text-align: right;\n",
       "    }\n",
       "</style>\n",
       "<table border=\"1\" class=\"dataframe\">\n",
       "  <thead>\n",
       "    <tr style=\"text-align: right;\">\n",
       "      <th></th>\n",
       "      <th>user_id</th>\n",
       "      <th>city</th>\n",
       "    </tr>\n",
       "  </thead>\n",
       "  <tbody>\n",
       "    <tr>\n",
       "      <th>0</th>\n",
       "      <td>1000</td>\n",
       "      <td>Краснодар</td>\n",
       "    </tr>\n",
       "    <tr>\n",
       "      <th>1</th>\n",
       "      <td>1001</td>\n",
       "      <td>Москва</td>\n",
       "    </tr>\n",
       "    <tr>\n",
       "      <th>2</th>\n",
       "      <td>1002</td>\n",
       "      <td>Стерлитамак</td>\n",
       "    </tr>\n",
       "    <tr>\n",
       "      <th>3</th>\n",
       "      <td>1003</td>\n",
       "      <td>Москва</td>\n",
       "    </tr>\n",
       "    <tr>\n",
       "      <th>4</th>\n",
       "      <td>1004</td>\n",
       "      <td>Новокузнецк</td>\n",
       "    </tr>\n",
       "  </tbody>\n",
       "</table>\n",
       "</div>"
      ],
      "text/plain": [
       "   user_id         city\n",
       "0     1000    Краснодар\n",
       "1     1001       Москва\n",
       "2     1002  Стерлитамак\n",
       "3     1003       Москва\n",
       "4     1004  Новокузнецк"
      ]
     },
     "execution_count": 227,
     "metadata": {},
     "output_type": "execute_result"
    }
   ],
   "source": [
    "User2City.head()"
   ]
  },
  {
   "cell_type": "code",
   "execution_count": 228,
   "metadata": {},
   "outputs": [],
   "source": [
    "User_stat = User_stat.set_index('user_id').join(User2City.set_index('user_id'))"
   ]
  },
  {
   "cell_type": "code",
   "execution_count": 229,
   "metadata": {},
   "outputs": [],
   "source": [
    "User_stat.reset_index(inplace = True)"
   ]
  },
  {
   "cell_type": "code",
   "execution_count": 230,
   "metadata": {},
   "outputs": [
    {
     "data": {
      "text/html": [
       "<div>\n",
       "<style scoped>\n",
       "    .dataframe tbody tr th:only-of-type {\n",
       "        vertical-align: middle;\n",
       "    }\n",
       "\n",
       "    .dataframe tbody tr th {\n",
       "        vertical-align: top;\n",
       "    }\n",
       "\n",
       "    .dataframe thead th {\n",
       "        text-align: right;\n",
       "    }\n",
       "</style>\n",
       "<table border=\"1\" class=\"dataframe\">\n",
       "  <thead>\n",
       "    <tr style=\"text-align: right;\">\n",
       "      <th></th>\n",
       "      <th>user_id</th>\n",
       "      <th>tariff</th>\n",
       "      <th>month</th>\n",
       "      <th>Calls</th>\n",
       "      <th>Minutes</th>\n",
       "      <th>Active_calls</th>\n",
       "      <th>messages</th>\n",
       "      <th>traffic</th>\n",
       "      <th>Calls_Income</th>\n",
       "      <th>Messages_Income</th>\n",
       "      <th>Internet_Income</th>\n",
       "      <th>rub_monthly_fee</th>\n",
       "      <th>Total_Income</th>\n",
       "      <th>city</th>\n",
       "    </tr>\n",
       "  </thead>\n",
       "  <tbody>\n",
       "    <tr>\n",
       "      <th>0</th>\n",
       "      <td>1000</td>\n",
       "      <td>ultra</td>\n",
       "      <td>5</td>\n",
       "      <td>22.0</td>\n",
       "      <td>159.0</td>\n",
       "      <td>17.0</td>\n",
       "      <td>22.0</td>\n",
       "      <td>2256.0</td>\n",
       "      <td>0.0</td>\n",
       "      <td>0.0</td>\n",
       "      <td>0.0</td>\n",
       "      <td>1950</td>\n",
       "      <td>1950.0</td>\n",
       "      <td>Краснодар</td>\n",
       "    </tr>\n",
       "    <tr>\n",
       "      <th>1</th>\n",
       "      <td>1000</td>\n",
       "      <td>ultra</td>\n",
       "      <td>6</td>\n",
       "      <td>43.0</td>\n",
       "      <td>172.0</td>\n",
       "      <td>28.0</td>\n",
       "      <td>60.0</td>\n",
       "      <td>23257.0</td>\n",
       "      <td>0.0</td>\n",
       "      <td>0.0</td>\n",
       "      <td>0.0</td>\n",
       "      <td>1950</td>\n",
       "      <td>1950.0</td>\n",
       "      <td>Краснодар</td>\n",
       "    </tr>\n",
       "    <tr>\n",
       "      <th>2</th>\n",
       "      <td>1000</td>\n",
       "      <td>ultra</td>\n",
       "      <td>7</td>\n",
       "      <td>47.0</td>\n",
       "      <td>340.0</td>\n",
       "      <td>41.0</td>\n",
       "      <td>75.0</td>\n",
       "      <td>14016.0</td>\n",
       "      <td>0.0</td>\n",
       "      <td>0.0</td>\n",
       "      <td>0.0</td>\n",
       "      <td>1950</td>\n",
       "      <td>1950.0</td>\n",
       "      <td>Краснодар</td>\n",
       "    </tr>\n",
       "    <tr>\n",
       "      <th>3</th>\n",
       "      <td>1000</td>\n",
       "      <td>ultra</td>\n",
       "      <td>8</td>\n",
       "      <td>52.0</td>\n",
       "      <td>408.0</td>\n",
       "      <td>42.0</td>\n",
       "      <td>81.0</td>\n",
       "      <td>14070.0</td>\n",
       "      <td>0.0</td>\n",
       "      <td>0.0</td>\n",
       "      <td>0.0</td>\n",
       "      <td>1950</td>\n",
       "      <td>1950.0</td>\n",
       "      <td>Краснодар</td>\n",
       "    </tr>\n",
       "    <tr>\n",
       "      <th>4</th>\n",
       "      <td>1000</td>\n",
       "      <td>ultra</td>\n",
       "      <td>9</td>\n",
       "      <td>58.0</td>\n",
       "      <td>466.0</td>\n",
       "      <td>46.0</td>\n",
       "      <td>57.0</td>\n",
       "      <td>14581.0</td>\n",
       "      <td>0.0</td>\n",
       "      <td>0.0</td>\n",
       "      <td>0.0</td>\n",
       "      <td>1950</td>\n",
       "      <td>1950.0</td>\n",
       "      <td>Краснодар</td>\n",
       "    </tr>\n",
       "  </tbody>\n",
       "</table>\n",
       "</div>"
      ],
      "text/plain": [
       "   user_id tariff  month  Calls  Minutes  Active_calls  messages  traffic  \\\n",
       "0     1000  ultra      5   22.0    159.0          17.0      22.0   2256.0   \n",
       "1     1000  ultra      6   43.0    172.0          28.0      60.0  23257.0   \n",
       "2     1000  ultra      7   47.0    340.0          41.0      75.0  14016.0   \n",
       "3     1000  ultra      8   52.0    408.0          42.0      81.0  14070.0   \n",
       "4     1000  ultra      9   58.0    466.0          46.0      57.0  14581.0   \n",
       "\n",
       "   Calls_Income  Messages_Income  Internet_Income  rub_monthly_fee  \\\n",
       "0           0.0              0.0              0.0             1950   \n",
       "1           0.0              0.0              0.0             1950   \n",
       "2           0.0              0.0              0.0             1950   \n",
       "3           0.0              0.0              0.0             1950   \n",
       "4           0.0              0.0              0.0             1950   \n",
       "\n",
       "   Total_Income       city  \n",
       "0        1950.0  Краснодар  \n",
       "1        1950.0  Краснодар  \n",
       "2        1950.0  Краснодар  \n",
       "3        1950.0  Краснодар  \n",
       "4        1950.0  Краснодар  "
      ]
     },
     "execution_count": 230,
     "metadata": {},
     "output_type": "execute_result"
    }
   ],
   "source": [
    "User_stat.head()"
   ]
  },
  {
   "cell_type": "markdown",
   "metadata": {},
   "source": [
    "Выделим из полученной таблицы два датасета - данные Москвы и регионов."
   ]
  },
  {
   "cell_type": "code",
   "execution_count": 231,
   "metadata": {},
   "outputs": [],
   "source": [
    "User_stat_msk = User_stat.query('city == \"Москва\"')\n",
    "User_stat_reg = User_stat.query('city != \"Москва\"')"
   ]
  },
  {
   "cell_type": "markdown",
   "metadata": {},
   "source": [
    "Формулируем гипотезу:\n",
    "\n",
    "H0 - Средние выручки пользователей тарифов из Москвы и регионов примерно равны\n",
    "\n",
    "H1 - Средние выручки пользователей тарифов из Москвы и регионов отличаются.\n",
    "\n",
    "Задаем пороговое значение alpha = 0.05:"
   ]
  },
  {
   "cell_type": "code",
   "execution_count": 232,
   "metadata": {},
   "outputs": [],
   "source": [
    "alpha = 0.05"
   ]
  },
  {
   "cell_type": "markdown",
   "metadata": {},
   "source": [
    "Посчитаем дисперсии"
   ]
  },
  {
   "cell_type": "code",
   "execution_count": 233,
   "metadata": {},
   "outputs": [
    {
     "name": "stdout",
     "output_type": "stream",
     "text": [
      "Пользователи из Москвы. Общий доход. Дисперсия: 565256.3794161082\n",
      "Пользователи из регионов. Общий доход. Дисперсия: 656514.2841040745\n"
     ]
    }
   ],
   "source": [
    "print('Пользователи из Москвы. Общий доход. Дисперсия: {}'.\n",
    "      format(np.var(User_stat_msk['Total_Income'])))\n",
    "print('Пользователи из регионов. Общий доход. Дисперсия: {}'.\n",
    "      format(np.var(User_stat_reg['Total_Income'])))\n"
   ]
  },
  {
   "cell_type": "markdown",
   "metadata": {},
   "source": [
    "Дисперсии практически не отличаются. Лучше использовать параметр equal_var = True. Проверим, дополнительно, на тестах Левене и Барлетта."
   ]
  },
  {
   "cell_type": "code",
   "execution_count": 234,
   "metadata": {},
   "outputs": [
    {
     "name": "stdout",
     "output_type": "stream",
     "text": [
      "p-value по тесту Левене 0.009373921759468934\n",
      "p-value по тесту Барлетта 0.021658266854862596\n"
     ]
    }
   ],
   "source": [
    "stat_lv, p_lv = levene(User_stat_msk['Total_Income'], User_stat_reg['Total_Income'])\n",
    "stat_bt, p_bt = bartlett(User_stat_msk['Total_Income'], User_stat_reg['Total_Income'])\n",
    "\n",
    "print('p-value по тесту Левене {}'.format(p_lv))\n",
    "print('p-value по тесту Барлетта {}'.format(p_bt))"
   ]
  },
  {
   "cell_type": "markdown",
   "metadata": {},
   "source": [
    "Полученные p-value имеют достаточно высокие значения - дисперсии имеют примерно равные значения"
   ]
  },
  {
   "cell_type": "code",
   "execution_count": 235,
   "metadata": {},
   "outputs": [],
   "source": [
    "result_msk2reg = st.ttest_ind(\n",
    "    User_stat_msk['Total_Income'],\n",
    "    User_stat_reg['Total_Income'], equal_var = True)"
   ]
  },
  {
   "cell_type": "code",
   "execution_count": 236,
   "metadata": {},
   "outputs": [
    {
     "name": "stdout",
     "output_type": "stream",
     "text": [
      "p-значение: 0.531666503831252\n",
      "У нас не достаточно данных, чтобы отвергнуть нулевую гипотезу\n"
     ]
    }
   ],
   "source": [
    "print('p-значение:', result_msk2reg.pvalue)\n",
    "\n",
    "if (result_msk2reg.pvalue < alpha):\n",
    "    print(\"Отвергаем нулевую гипотезу\")\n",
    "else:\n",
    "    print(\"У нас не достаточно данных, чтобы отвергнуть нулевую гипотезу\")"
   ]
  },
  {
   "cell_type": "code",
   "execution_count": 237,
   "metadata": {},
   "outputs": [
    {
     "data": {
      "image/png": "[encoded data removed]",
      "text/plain": [
       "<Figure size 792x432 with 1 Axes>"
      ]
     },
     "metadata": {
      "needs_background": "light"
     },
     "output_type": "display_data"
    }
   ],
   "source": [
    "side_by_side_hist(\n",
    "    User_stat_msk['Total_Income'],\n",
    "    User_stat_reg['Total_Income'],\n",
    "    'Сравнительная гистограмма по выручке за месяц', \n",
    "    'выручка за месяц', \n",
    "    ['Москва', 'Регионы']\n",
    ")"
   ]
  },
  {
   "cell_type": "markdown",
   "metadata": {},
   "source": [
    "Значение p-value равно 0.53. Что достаточно много и говорит о том, что выручки пользователей из Москвы и регионов в целом схожи. Что, в принципе, подтвержается посчитанными ранее значениями мат.ожидания и стандартного отклонения и построенным выше гистограммой - выручка за месяц пользователей из Москвы и регионов. "
   ]
  },
  {
   "cell_type": "markdown",
   "metadata": {},
   "source": [
    "<a name=\"paragraph5\"></a>\n",
    "## 5. Вывод"
   ]
  },
  {
   "cell_type": "markdown",
   "metadata": {},
   "source": [
    "###### На первом этапе мы провели первичный анализ данных. Выявили следующие проблемы:\n",
    "\n",
    "Несоответсвие типов данных. Следующие колонки на втором этапе будут приведены к типу Datetime.\n",
    "\n",
    "    call_date - data_calls - datetime\n",
    "    churn_date - data_users - datetime\n",
    "    reg_date - data_users - datetime\n",
    "    message_date - data_messages - datetime\n",
    "    session_date - data_internet - datetime\n",
    "\n",
    "Лишняя колонка \"Unnamed: 0\" в датасете data_internet. \n",
    "\n",
    "Несоответсвие наименований колонок тариф в таблицах data_users и data_tariffs (устранено).\n",
    "\n",
    "По некоторым колонкам обкаружили отсутствие данных, но оно - не оказалось критичным.\n",
    "\n",
    "###### На втором этапе мы решили проблемы выявленные на первом этапе. Необходимые колонки были приведены к типу DateTime. Ненужные колонки - удалены.\n",
    "\n",
    "Приступили к анализу данных. Выявили очень большое количество нулевых значений в таблицах data_calls и data_internet.\n",
    "\n",
    "data_calls:\n",
    "\n",
    "Огромное количество нулевых значений. Видимо это пропущенные вызовы и/или прозвоны. Количество таковых значений очень велико - 39613. Это около 19,5% от общей выборки. Дилемма.. С одной стороны избавиться от них мы не можем (их число слишком велико), а с другой - они очевидно будут влиять на \"полезные\" данные. Оставим текущий датасет как есть. Но создадим новый - без учета звонков с нулевой длительностью - data_calls_active. Оценили статистические характеристики data_calls_active в сравнении с data_calls. Распределение длительности звонков стало похоже на нормальное. Средняя длительность выросла с 6.75 до 8.4, медиана - с 6 до 7.74, а среднеквадрати́чное отклонение уменьшилось с 5,84 до 5,35.\n",
    "\n",
    "data_internet: Очень большое количество 19,6 тыс или более 11% нулевых значений потраченных Мб. Вероятно - это \"фантомные\" сессии, когда пользователь был в сети, но в интернет не заходил. Создали новую табличку data_internet_active, в которую не вошли нулевые значения. Вот так изменились наши основные статистические характеристики: Мат.ожидание с 370.2 увеличилось до 426 Медиана увеичилась с 348 до 400,5 Среднеквадратическое отклонение уменьшилось с 278.3 до 255,6\n",
    "\n",
    "После чего посчитали для каждого пользователя статистику по месяцам.\n",
    "\n",
    "количество сделанных звонков и израсходованных минут разговора по месяцам;\n",
    "количество отправленных сообщений по месяцам;\n",
    "объем израсходованного интернет-трафика по месяцам;\n",
    "помесячную выручку с каждого пользователя.\n",
    "\n",
    "###### Третий этап - анализ данных\n",
    "\n",
    "Мы провели анализ основных характеристик тарифных планов smart и ultra - сколько минут, сообщений, интернет-траффика необходимо пользователям каждого тарифа в месяц.\n",
    "\n",
    "Количество минут - вывод:\n",
    "\n",
    "Тариф smart (по плану - 500) Среднее количество минут - 419.1 Среднеквадратическое отклонение - 189.3 Медиана - 423 Средняя прибыль по минутам сверх лимита - 125.2\n",
    "\n",
    "Тариф ultra (по плану - 3000) Среднее количество минут - 545.5 Среднеквадратическое отклонение - 306.9 Медиана - 528 Средняя прибыль по минутам сверх лимита - 0\n",
    "\n",
    "Заметим, что количество потраченных минут для пользователей обоих тарифов отличается, но не очень сильно. Пик на графике и среднее/медиана для тарифа smart находится до 500 (в районе 420), а для пользователей ultra чуть выше 500 - 520-550, но эти значения для пользователей преподнесли бы дополнительные затраты, если бы они были на тарифе smart. При этом распределение для пользователей тарифа ultra относительно равномерное. Примерно, на интервале 250-800 - значения распределены равномерно, за исключением небольшого пика около 550.\n",
    "\n",
    "При этом, если пользователи тарифа smart доплачивают порой сверх абонентской за минуты сверх лимита, то пользователи тарифа ultra не только к этому не близки, но у них ещё и огромный запас. При лимите минут в 3000 - максимальное потраченное за месяц значение минут - 1673. Это значит, что дополнительную прибыль по звонкам пользователи тарифа ultra не принесут.\n",
    "\n",
    "Количество сообщений - вывод:\n",
    "\n",
    "Тариф smart (по плану - 50) Среднее количество сообщений - 33.4 Среднеквадратическое отклонение - 28.3 Медиана - 28 Средняя прибыль - 17.5\n",
    "\n",
    "Тариф ultra (по плану - 1000) Среднее количество сообщений - 49 Среднеквадратическое отклонение - 46.9 Медиана - 39 Средняя прибыль - 0\n",
    "\n",
    "Аналогичная ситуация и сообщениями. Пользователи ultra отправляют их не сильно больше и очень далеки от лимита, чтобы приносить дополнительную прибыль. При этом пользователи тарифа smart хоть и немного (самую малость), но выходят за рамки лимита и приносят дополнительную прибыль по этому параметру.\n",
    "\n",
    "При этом по графику становится очевидно, что пик приходится на значения до и около 10 (для обоих тарифов), после чего значения идут на убыль. Видимо, сообщения уходят в прошлое и нет никаких предпосылок для смещения этого пика в большую сторону.\n",
    "\n",
    "Объем интернет-трафика - вывод:\n",
    "\n",
    "Тариф smart (по плану - 15360) Среднее количество потраченных Мб - 16230 Среднеквадратическое отклонение - 5883 Медиана - 16527 Средняя прибыль - 603\n",
    "\n",
    "Тариф ultra (по плану - 1000) Среднее количество потраченных Мб - 19480 Среднеквадратическое отклонение - 10135 Медиана - 19374 Средняя прибыль - 122\n",
    "\n",
    "Итак, пользователи обоих тарифов также не очень сильно отличаются по потреблению интернета. Однако распределения разные.. У тарифа smart прослеживается более яркий пик на гистограмме, в районе значений 15000-17500. Для тарифа ultra значения относительно равномерно \"размазаны\" на интервале 7500-30000, что подтверждается также среднеквадратическим отклонением - для ultra оно гораздо больше.\n",
    "\n",
    "При этом, если пользователи ultra выходят за рамки лимита крайне редко, то пользователи тарифа смарт выходят из лимита регулярно - среднее и медиана лежат выше лимита. При этом дополнительную прибыль относительно абонентсткой платы дают оба тарифа. smart даёт побольше (603), ultra - чуть поменьше (122).\n",
    "\n",
    "Кроме этого заметим, что общее количество месяцев (из выборки) проведенное на тарифе смарт равно 2223, а на тарифе ultra - 951. На основании чего делаем вывод, что тарифный план smart популярнее в 2.34 раза. Также мы высчитали сколько в среднем обходится пользователям данные тарифные планы: smart - 1296 и ultra - 2072. ultra обходится примерно в 1.6 раза дороже. Но именно за счёт популярности smart приносит доходов больше, а именно в 1,46 раза (2223x1296 / 951x2072).\n",
    "\n",
    "Анализируя необходимое количество минут/сообщений/объема интернет-траффика - можно сделать вывод, что в среднем пользователи обоих тарифных планов схожи друг с другом. Пользователи ultra потребляют, конечно, больше, но не в разы (как относятся лимиты обоих тарифных планов). Количество минут, если мы рассматриваем среднее/медиану (а они отличаются не сильно) ~420 и ~545. Про количество сообщений можно сказать, что не играют большую роль - можно было бы ими даже пренеберечь. Большинство пользователей ограничивается до 10 сообщениями в месяц, что с запасом меньше лимита на обоих тарифах. И объем потраченнного интернет-траффика - 16230 (smart) и 19480 (ultra). Количество потраченных минут (в среднем) для пользоватлей ultra больше в 1.3 раза, а интернет-траффика - в 1.2 раза.\n",
    "\n",
    "Если мы рассмотрим среднестатистические параметры пользователя пакета ultra на тарифном пане smart в плане оплаты. Получим следующие цифры 550 + 45х3 + 4х200 = 1485. И это запас ещё почти в 500р, или +2Гб и около 30 мин до стоимости тарифного плана ultra. В связи с этим - можно обосновать поведение пользователей: пользователи тарифного плана ultra любят перестраховываться и иметь запас, или, возможно, не хотят следить за лимитами. А пользователи, тарифного плана smart, наоборот, более расчетливы и готовы превышать лимиты в разумных пределах.\n",
    "\n",
    "\n",
    "###### Четвертый этап - проверка гипотез.\n",
    "\n",
    "Гипотеза №1. Средняя выручка пользователей тарифов «Ультра» и «Смарт» различается.\n",
    "\n",
    "    H0 - Средние выручки пользователей тарифов smart и ultra примерно равны\n",
    "    H1 - Средние выручки пользователей тарифов smart и ultra отличаются.\n",
    "\n",
    "    Отвергаем нулевую гипотезу\n",
    "\n",
    "Значение p-value имеет порядок 10 в -153 степени. Что очень мало - из чего следует, что выручки пользователей тарифов smart и ultra имеют серьезные отличия. Что, в принципе, подтвержается посчитанными ранее значениями мат.ожидания и стандартного отклонения и построенным выше гистограммой - выручка за месяц пользователей тарифов smart и ultra. \n",
    "\n",
    "Гипотеза №2. Средняя выручка пользователей из Москвы отличается от выручки пользователей из других регионов.\n",
    "    \n",
    "    H0 - Средние выручки пользователей тарифов из Москвы и регионов примерно равны\n",
    "    H1 - Средние выручки пользователей тарифов из Москвы и регионов отличаются.\n",
    "\n",
    "    Подтверждаем нулевую гипотезу\n",
    "\n",
    "Значение p-value равно 0.45. Что достаточно много и говорит о том, что выручки пользователей из Москвы и регионов в целом схожи. Что, в принципе, подтвержается посчитанными ранее значениями мат.ожидания и стандартного отклонения и построенным выше гистограммой - выручка за месяц пользователей из Москвы и регионов."
   ]
  },
  {
   "cell_type": "markdown",
   "metadata": {},
   "source": [
    "С точки зрения доходности с человека - выгоднее тариф Ultra. Если мы будем ещё рассматривать и популярность вместе с доходностью - выгоднее тариф Smart.  \n",
    "    Можно рассмотреть две тактики развития - перетягивание клиентов smart на сторону ultra, или привлечение новых клиентов на довольно выгодный smart. Можно также эти тактики совмещать. Совместно с этим можно слегка подредактировать тарифы. Например, на ultra неоправданно большие лимиты по количеству минут и сообщений - можно их уменьшить, к примеру, количество минут до 1000, а сообщений до 150/200, чтобы некоторое (минимальное) количество пользователей чуть-чуть выходили за эти рамки и приносили хоть и небольшую, но дополнительную прибыль.  \n",
    "    На тарифе smart большинство пользователей очень часто превышают лимиты и очень серьезно их превышают. Поэтому можно дать им чуть больше \"свободы\" добавить 2-3 Гб и 100 мин, увеличив при этом абонентскую плату на рублей 300-400. При этом мы, правда, уйдём от аудитории, которая не предпочитает часто пользоваться мобильными услугами (которым хватает пару сотен минут и 5-10 Гб интернета, условно).  \n",
    "    А можем поступить иначе - сделать абонентскую плату чуть дешевле и урезать количество минут и интернета(или увеличить стоимость услуг сверх лимита - это будет не так заметно для пользователей). И при этом, также, чуть \"опустить\", аналогично, тариф ultra. Таким образом простимулировать переход пользователей с тарифа smart на тариф ultra.  \n",
    " "
   ]
  }
 ],
 "metadata": {
  "kernelspec": {
   "display_name": "Python 3",
   "language": "python",
   "name": "python3"
  },
  "language_info": {
   "codemirror_mode": {
    "name": "ipython",
    "version": 3
   },
   "file_extension": ".py",
   "mimetype": "text/x-python",
   "name": "python",
   "nbconvert_exporter": "python",
   "pygments_lexer": "ipython3",
   "version": "3.8.5"
  },
  "toc": {
   "base_numbering": 1,
   "nav_menu": {},
   "number_sections": true,
   "sideBar": true,
   "skip_h1_title": true,
   "title_cell": "Table of Contents",
   "title_sidebar": "Contents",
   "toc_cell": false,
   "toc_position": {},
   "toc_section_display": true,
   "toc_window_display": false
  }
 },
 "nbformat": 4,
 "nbformat_minor": 2
}
