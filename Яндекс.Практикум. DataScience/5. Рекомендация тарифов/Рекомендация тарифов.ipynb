{
 "cells": [
  {
   "cell_type": "markdown",
   "metadata": {},
   "source": [
    "## Рекомендация тарифов"
   ]
  },
  {
   "cell_type": "markdown",
   "metadata": {},
   "source": [
    "## Оглавление   \n",
    " [Откройте и изучите файл](#paragraph3)  \n",
    " [Разбейте данные на выборки](#paragraph4)  \n",
    " [Исследуйте модели](#paragraph5)  \n",
    " [Проверьте модель на тестовой выборке](#paragraph6)  \n",
    " [(бонус) Проверьте модели на адекватность](#paragraph7)  \n",
    " [Вывод](#paragraph8)  \n",
    " [Чек-лист готовности проекта](#paragraph9)"
   ]
  },
  {
   "cell_type": "markdown",
   "metadata": {},
   "source": [
    "В вашем распоряжении данные о поведении клиентов, которые уже перешли на эти тарифы (из проекта курса «Статистический анализ данных»). Нужно построить модель для задачи классификации, которая выберет подходящий тариф. Предобработка данных не понадобится — вы её уже сделали.\n",
    "\n",
    "Постройте модель с максимально большим значением *accuracy*. Чтобы сдать проект успешно, нужно довести долю правильных ответов по крайней мере до 0.75. Проверьте *accuracy* на тестовой выборке самостоятельно."
   ]
  },
  {
   "cell_type": "markdown",
   "metadata": {},
   "source": [
    "<a name=\"paragraph3\"></a>\n",
    "## Откройте и изучите файл"
   ]
  },
  {
   "cell_type": "markdown",
   "metadata": {},
   "source": [
    "Импортируем библиотеки"
   ]
  },
  {
   "cell_type": "code",
   "execution_count": 1,
   "metadata": {},
   "outputs": [],
   "source": [
    "import pandas as pd\n",
    "from sklearn.model_selection import train_test_split\n",
    "from sklearn.metrics import accuracy_score\n",
    "from sklearn.tree import DecisionTreeClassifier\n",
    "from sklearn.linear_model import LogisticRegression\n",
    "import matplotlib.pyplot as plt\n",
    "from sklearn.ensemble import RandomForestClassifier\n",
    "from random import *\n"
   ]
  },
  {
   "cell_type": "markdown",
   "metadata": {},
   "source": [
    "Прочитаем данные"
   ]
  },
  {
   "cell_type": "code",
   "execution_count": 6,
   "metadata": {},
   "outputs": [],
   "source": [
    "data = pd.read_csv('datasets/users_behavior.csv')"
   ]
  },
  {
   "cell_type": "markdown",
   "metadata": {},
   "source": [
    "Представление данных:"
   ]
  },
  {
   "cell_type": "code",
   "execution_count": 7,
   "metadata": {},
   "outputs": [
    {
     "data": {
      "text/html": [
       "<div>\n",
       "<style scoped>\n",
       "    .dataframe tbody tr th:only-of-type {\n",
       "        vertical-align: middle;\n",
       "    }\n",
       "\n",
       "    .dataframe tbody tr th {\n",
       "        vertical-align: top;\n",
       "    }\n",
       "\n",
       "    .dataframe thead th {\n",
       "        text-align: right;\n",
       "    }\n",
       "</style>\n",
       "<table border=\"1\" class=\"dataframe\">\n",
       "  <thead>\n",
       "    <tr style=\"text-align: right;\">\n",
       "      <th></th>\n",
       "      <th>calls</th>\n",
       "      <th>minutes</th>\n",
       "      <th>messages</th>\n",
       "      <th>mb_used</th>\n",
       "      <th>is_ultra</th>\n",
       "    </tr>\n",
       "  </thead>\n",
       "  <tbody>\n",
       "    <tr>\n",
       "      <th>0</th>\n",
       "      <td>40.0</td>\n",
       "      <td>311.90</td>\n",
       "      <td>83.0</td>\n",
       "      <td>19915.42</td>\n",
       "      <td>0</td>\n",
       "    </tr>\n",
       "    <tr>\n",
       "      <th>1</th>\n",
       "      <td>85.0</td>\n",
       "      <td>516.75</td>\n",
       "      <td>56.0</td>\n",
       "      <td>22696.96</td>\n",
       "      <td>0</td>\n",
       "    </tr>\n",
       "    <tr>\n",
       "      <th>2</th>\n",
       "      <td>77.0</td>\n",
       "      <td>467.66</td>\n",
       "      <td>86.0</td>\n",
       "      <td>21060.45</td>\n",
       "      <td>0</td>\n",
       "    </tr>\n",
       "    <tr>\n",
       "      <th>3</th>\n",
       "      <td>106.0</td>\n",
       "      <td>745.53</td>\n",
       "      <td>81.0</td>\n",
       "      <td>8437.39</td>\n",
       "      <td>1</td>\n",
       "    </tr>\n",
       "    <tr>\n",
       "      <th>4</th>\n",
       "      <td>66.0</td>\n",
       "      <td>418.74</td>\n",
       "      <td>1.0</td>\n",
       "      <td>14502.75</td>\n",
       "      <td>0</td>\n",
       "    </tr>\n",
       "  </tbody>\n",
       "</table>\n",
       "</div>"
      ],
      "text/plain": [
       "   calls  minutes  messages   mb_used  is_ultra\n",
       "0   40.0   311.90      83.0  19915.42         0\n",
       "1   85.0   516.75      56.0  22696.96         0\n",
       "2   77.0   467.66      86.0  21060.45         0\n",
       "3  106.0   745.53      81.0   8437.39         1\n",
       "4   66.0   418.74       1.0  14502.75         0"
      ]
     },
     "metadata": {},
     "output_type": "display_data"
    }
   ],
   "source": [
    "display(data.head(5))"
   ]
  },
  {
   "cell_type": "code",
   "execution_count": 8,
   "metadata": {},
   "outputs": [
    {
     "name": "stdout",
     "output_type": "stream",
     "text": [
      "<class 'pandas.core.frame.DataFrame'>\n",
      "RangeIndex: 3214 entries, 0 to 3213\n",
      "Data columns (total 5 columns):\n",
      " #   Column    Non-Null Count  Dtype  \n",
      "---  ------    --------------  -----  \n",
      " 0   calls     3214 non-null   float64\n",
      " 1   minutes   3214 non-null   float64\n",
      " 2   messages  3214 non-null   float64\n",
      " 3   mb_used   3214 non-null   float64\n",
      " 4   is_ultra  3214 non-null   int64  \n",
      "dtypes: float64(4), int64(1)\n",
      "memory usage: 125.7 KB\n"
     ]
    }
   ],
   "source": [
    "data.info()"
   ]
  },
  {
   "cell_type": "markdown",
   "metadata": {},
   "source": [
    "Напишем функцию для вывода простейшей гистограммы и проверим с её помощью значения в колонках."
   ]
  },
  {
   "cell_type": "code",
   "execution_count": 9,
   "metadata": {},
   "outputs": [],
   "source": [
    "def simple_hist(df, col, title, label_y, label_x, bins):\n",
    "    \"\"\"\n",
    "    data: Датасет, подлежащий анализу\n",
    "    col: Колонка датасета, подлежащая анализу \n",
    "    title: заголовок графика\n",
    "    label_y: подпись по оси Y\n",
    "    label_x: подпись по оси X\n",
    "    bins: количество корзин \n",
    "    \"\"\"\n",
    "    df.hist(col, bins = bins)\n",
    "    plt.title(title)\n",
    "    plt.ylabel(label_y)\n",
    "    plt.xlabel(label_x)"
   ]
  },
  {
   "cell_type": "code",
   "execution_count": 10,
   "metadata": {},
   "outputs": [
    {
     "data": {
      "image/png": "[encoded data removed]",
      "text/plain": [
       "<Figure size 432x288 with 1 Axes>"
      ]
     },
     "metadata": {
      "needs_background": "light"
     },
     "output_type": "display_data"
    }
   ],
   "source": [
    "simple_hist(data, \n",
    "            'calls', \n",
    "            'Звонки', \n",
    "            'Количество', 'Звонки в месяц', \n",
    "            15)"
   ]
  },
  {
   "cell_type": "code",
   "execution_count": 11,
   "metadata": {},
   "outputs": [
    {
     "data": {
      "image/png": "[encoded data removed]",
      "text/plain": [
       "<Figure size 432x288 with 1 Axes>"
      ]
     },
     "metadata": {
      "needs_background": "light"
     },
     "output_type": "display_data"
    }
   ],
   "source": [
    "simple_hist(data, \n",
    "            'minutes', \n",
    "            'Минуты', \n",
    "            'Количество', 'Минуты в месяц', \n",
    "            15)"
   ]
  },
  {
   "cell_type": "code",
   "execution_count": 12,
   "metadata": {},
   "outputs": [
    {
     "data": {
      "image/png": "[encoded data removed]",
      "text/plain": [
       "<Figure size 432x288 with 1 Axes>"
      ]
     },
     "metadata": {
      "needs_background": "light"
     },
     "output_type": "display_data"
    }
   ],
   "source": [
    "simple_hist(data, \n",
    "            'messages', \n",
    "            'Сообщения', \n",
    "            'Количество', 'Сообщения в месяц', \n",
    "            15)"
   ]
  },
  {
   "cell_type": "code",
   "execution_count": 13,
   "metadata": {},
   "outputs": [
    {
     "data": {
      "image/png": "[encoded data removed]",
      "text/plain": [
       "<Figure size 432x288 with 1 Axes>"
      ]
     },
     "metadata": {
      "needs_background": "light"
     },
     "output_type": "display_data"
    }
   ],
   "source": [
    "simple_hist(data, \n",
    "            'mb_used', \n",
    "            'Интернет', \n",
    "            'Количество', 'Потраченные Мб', \n",
    "            15)"
   ]
  },
  {
   "cell_type": "code",
   "execution_count": 14,
   "metadata": {},
   "outputs": [
    {
     "data": {
      "text/plain": [
       "0    2229\n",
       "1     985\n",
       "Name: is_ultra, dtype: int64"
      ]
     },
     "execution_count": 14,
     "metadata": {},
     "output_type": "execute_result"
    }
   ],
   "source": [
    "data['is_ultra'].value_counts()"
   ]
  },
  {
   "cell_type": "markdown",
   "metadata": {},
   "source": [
    "С виду выборка кажется предобработанной (как и было сказано в условии) - можем продолжать."
   ]
  },
  {
   "cell_type": "markdown",
   "metadata": {},
   "source": [
    "<a name=\"paragraph4\"></a>\n",
    "## Разбейте данные на выборки"
   ]
  },
  {
   "cell_type": "markdown",
   "metadata": {},
   "source": [
    "Заметим, что количество наблюдений тарифа ультра составляет примерно 30.65% от выборки.\n",
    "Наш целевой признак определяется всего двумя значениями. Один из которых встречается всего в 30.65% случаев. \n",
    "Будем использовать параметр stratify для равномерного разделения выборки."
   ]
  },
  {
   "cell_type": "markdown",
   "metadata": {},
   "source": [
    "Получим тестовую выборку"
   ]
  },
  {
   "cell_type": "code",
   "execution_count": 15,
   "metadata": {},
   "outputs": [],
   "source": [
    "data_prev, data_test = train_test_split(data, test_size=0.2, random_state=666, stratify = data['is_ultra'])"
   ]
  },
  {
   "cell_type": "markdown",
   "metadata": {},
   "source": [
    "Получим валидационную выборку"
   ]
  },
  {
   "cell_type": "code",
   "execution_count": 16,
   "metadata": {},
   "outputs": [],
   "source": [
    "data_train, data_valid = train_test_split(data_prev, test_size=0.25, random_state=666, stratify = data_prev['is_ultra'] )"
   ]
  },
  {
   "cell_type": "markdown",
   "metadata": {},
   "source": [
    "Определим функции которые будут выделять отдельно признаки и отдельно целевой признак."
   ]
  },
  {
   "cell_type": "code",
   "execution_count": 17,
   "metadata": {},
   "outputs": [],
   "source": [
    "def get_target(data):\n",
    "    return data['is_ultra']"
   ]
  },
  {
   "cell_type": "code",
   "execution_count": 18,
   "metadata": {},
   "outputs": [],
   "source": [
    "def get_features(data):\n",
    "    return data.drop(['is_ultra'], axis = 1)"
   ]
  },
  {
   "cell_type": "markdown",
   "metadata": {},
   "source": [
    "Выделим отдельно признаки и целевой признак для обучаещего датасета."
   ]
  },
  {
   "cell_type": "code",
   "execution_count": 19,
   "metadata": {},
   "outputs": [],
   "source": [
    "target_train = get_target(data_train)\n",
    "features_train = get_features(data_train)"
   ]
  },
  {
   "cell_type": "markdown",
   "metadata": {},
   "source": [
    "Выделим отдельно признаки и целевой признак для валидационного датасета."
   ]
  },
  {
   "cell_type": "code",
   "execution_count": 20,
   "metadata": {},
   "outputs": [],
   "source": [
    "target_valid = get_target(data_valid)\n",
    "features_valid = get_features(data_valid)"
   ]
  },
  {
   "cell_type": "markdown",
   "metadata": {},
   "source": [
    "Выделим отдельно признаки и целевой признак для тестового датасета."
   ]
  },
  {
   "cell_type": "code",
   "execution_count": 21,
   "metadata": {},
   "outputs": [],
   "source": [
    "target_test = get_target(data_test)\n",
    "features_test = get_features(data_test)"
   ]
  },
  {
   "cell_type": "markdown",
   "metadata": {},
   "source": [
    "<a name=\"paragraph5\"></a>\n",
    "## Исследуйте модели"
   ]
  },
  {
   "cell_type": "markdown",
   "metadata": {},
   "source": [
    "Построим модель дерево решений.  \n",
    "Поэкспериментируем с гиперпараметром max_depth(максимальная глубина). Проверим модели со значениями от 1 до 15."
   ]
  },
  {
   "cell_type": "code",
   "execution_count": 22,
   "metadata": {},
   "outputs": [
    {
     "name": "stdout",
     "output_type": "stream",
     "text": [
      "Accuracy наилучшей модели на валидационной выборке: 0.7869362363919129\n",
      "Наилучшее количество узлов: 4\n"
     ]
    }
   ],
   "source": [
    "best_depth = None\n",
    "best_result = 0\n",
    "best_model_tree = None\n",
    "\n",
    "for depth in range(1, 16):\n",
    "    model_tree = DecisionTreeClassifier(random_state = 1, max_depth = depth)\n",
    "    model_tree.fit(features_train, target_train) \n",
    "    predictions = model_tree.predict(features_valid) \n",
    "    result = accuracy_score(target_valid, predictions)\n",
    "    if result > best_result:\n",
    "        best_depth = depth\n",
    "        best_result = result\n",
    "        best_model_tree = model_tree\n",
    "    \n",
    "print(\"Accuracy наилучшей модели на валидационной выборке:\", best_result)\n",
    "print(\"Наилучшее количество узлов:\", best_depth)"
   ]
  },
  {
   "cell_type": "markdown",
   "metadata": {},
   "source": [
    "Получили лучшую модель с максимальной глубиной равной 4.\n",
    "Доля правильных ответов составила 78,7%"
   ]
  },
  {
   "cell_type": "markdown",
   "metadata": {},
   "source": [
    "Построим модель случайный лес.  \n",
    "Поэкспериментируем с гиперпараметрами:  \n",
    "max_depth (макс. глубина) - Проверим модели со значениями от 1 до 15  \n",
    "est (количество деревьев) - Проверим модели со значениями от 1 до 30  \n",
    "criterion - выполним с критерием “gini” и с критерием “entropy\" отдельно"
   ]
  },
  {
   "cell_type": "markdown",
   "metadata": {},
   "source": [
    "Случайный лес. Критерий gini."
   ]
  },
  {
   "cell_type": "code",
   "execution_count": 23,
   "metadata": {},
   "outputs": [
    {
     "name": "stdout",
     "output_type": "stream",
     "text": [
      "Accuracy наилучшей модели на валидационной выборке: 0.8040435458786936\n",
      "Наилучшее количество деревьев: 14\n",
      "Наилучшее количество узлов: 8\n"
     ]
    }
   ],
   "source": [
    "best_model_forest_gini = None\n",
    "best_result_forest_gini = 0\n",
    "best_est_forest_gini = 0\n",
    "best_depth_forest_gini = 0\n",
    "\n",
    "for est in range(1, 31):\n",
    "    for depthh in range(1, 16):\n",
    "        model = RandomForestClassifier(random_state=1, max_depth = depthh, n_estimators=est, criterion = 'gini')\n",
    "        model.fit(features_train, target_train)\n",
    "        result = model.score(features_valid, target_valid)\n",
    "        \n",
    "        if result > best_result_forest_gini:\n",
    "            best_model_forest_gini = model\n",
    "            best_est_forest_gini = est\n",
    "            best_depth_forest_gini = depthh\n",
    "            best_result_forest_gini = result\n",
    "            \n",
    "print(\"Accuracy наилучшей модели на валидационной выборке:\", best_result_forest_gini)\n",
    "print(\"Наилучшее количество деревьев:\", best_est_forest_gini)\n",
    "print(\"Наилучшее количество узлов:\", best_depth_forest_gini)"
   ]
  },
  {
   "cell_type": "markdown",
   "metadata": {},
   "source": [
    "Лучшая модель \"Случайный лес. gini\" получилась с количеством деревьев 14 и максимальной глубиной 8.\n",
    "Точность составила 80,4%."
   ]
  },
  {
   "cell_type": "markdown",
   "metadata": {},
   "source": [
    "Случайный лес. Критерий entropy."
   ]
  },
  {
   "cell_type": "code",
   "execution_count": 24,
   "metadata": {},
   "outputs": [
    {
     "name": "stdout",
     "output_type": "stream",
     "text": [
      "Accuracy наилучшей модели на валидационной выборке: 0.7993779160186625\n",
      "Наилучшее количество деревьев: 12\n",
      "Наилучшее количество узлов: 7\n"
     ]
    }
   ],
   "source": [
    "best_model_forest_entropy = None\n",
    "best_result_forest_entropy = 0\n",
    "best_est_forest_entropy = 0\n",
    "best_depth_forest_entropy = 0\n",
    "\n",
    "for est in range(1, 31):\n",
    "    for depthh in range(1, 16):\n",
    "        model = RandomForestClassifier(random_state=1, \n",
    "                                       max_depth = depthh, \n",
    "                                       n_estimators=est, \n",
    "                                       criterion = 'entropy')\n",
    "        model.fit(features_train, target_train)\n",
    "        result = model.score(features_valid, target_valid)\n",
    "        if result > best_result_forest_entropy:\n",
    "            best_model_forest_entropy = model\n",
    "            best_est_forest_entropy = est\n",
    "            best_depth_forest_entropy = depthh\n",
    "            best_result_forest_entropy = result\n",
    "            \n",
    "print(\"Accuracy наилучшей модели на валидационной выборке:\", best_result_forest_entropy)\n",
    "print(\"Наилучшее количество деревьев:\", best_est_forest_entropy)\n",
    "print(\"Наилучшее количество узлов:\", best_depth_forest_entropy)"
   ]
  },
  {
   "cell_type": "markdown",
   "metadata": {},
   "source": [
    "Лучшая модель \"Случайный лес. entropy\" получилась с количеством деревьев 12 и максимальной глубиной 7. Точность составила 79,9%."
   ]
  },
  {
   "cell_type": "markdown",
   "metadata": {},
   "source": [
    "Построим модель логистическая регрессия."
   ]
  },
  {
   "cell_type": "code",
   "execution_count": 25,
   "metadata": {},
   "outputs": [
    {
     "name": "stdout",
     "output_type": "stream",
     "text": [
      "Accuracy модели логистической регрессии на валидационной выборке: 0.7402799377916018\n"
     ]
    }
   ],
   "source": [
    "model_logRegression = LogisticRegression(random_state = 1)\n",
    "model_logRegression.fit(features_train, target_train)\n",
    "result = model_logRegression.score(features_valid, target_valid)\n",
    "\n",
    "print(\"Accuracy модели логистической регрессии на валидационной выборке:\", result)"
   ]
  },
  {
   "cell_type": "markdown",
   "metadata": {},
   "source": [
    "Точность получилась равна 72,5%"
   ]
  },
  {
   "cell_type": "markdown",
   "metadata": {},
   "source": [
    "<a name=\"paragraph6\"></a>\n",
    "## Проверьте модель на тестовой выборке"
   ]
  },
  {
   "cell_type": "markdown",
   "metadata": {},
   "source": [
    "Проверим лучшие модели на тестовой выборке."
   ]
  },
  {
   "cell_type": "markdown",
   "metadata": {},
   "source": [
    "Модель дерево решений."
   ]
  },
  {
   "cell_type": "code",
   "execution_count": 26,
   "metadata": {},
   "outputs": [
    {
     "name": "stdout",
     "output_type": "stream",
     "text": [
      "Accuracy наилучшей модели на тестовой выборке: 0.7978227060653188\n"
     ]
    }
   ],
   "source": [
    "predictions = best_model_tree.predict(features_test) \n",
    "result = accuracy_score(target_test, predictions)\n",
    "\n",
    "print(\"Accuracy наилучшей модели на тестовой выборке:\", result)"
   ]
  },
  {
   "cell_type": "markdown",
   "metadata": {},
   "source": [
    "Модель случайный лес. gini."
   ]
  },
  {
   "cell_type": "code",
   "execution_count": 27,
   "metadata": {},
   "outputs": [
    {
     "name": "stdout",
     "output_type": "stream",
     "text": [
      "Accuracy наилучшей модели на тестовой выборке: 0.8055987558320373\n"
     ]
    }
   ],
   "source": [
    "result = best_model_forest_gini.score(features_test, target_test)\n",
    "\n",
    "print(\"Accuracy наилучшей модели на тестовой выборке:\", result)"
   ]
  },
  {
   "cell_type": "markdown",
   "metadata": {},
   "source": [
    "Модель случайный лес. entropy."
   ]
  },
  {
   "cell_type": "code",
   "execution_count": 28,
   "metadata": {},
   "outputs": [
    {
     "name": "stdout",
     "output_type": "stream",
     "text": [
      "Accuracy наилучшей модели на тестовой выборке: 0.80248833592535\n"
     ]
    }
   ],
   "source": [
    "result = best_model_forest_entropy.score(features_test, target_test)\n",
    "\n",
    "print(\"Accuracy наилучшей модели на тестовой выборке:\", result)"
   ]
  },
  {
   "cell_type": "markdown",
   "metadata": {},
   "source": [
    "Модель логистическая регрессия."
   ]
  },
  {
   "cell_type": "code",
   "execution_count": 29,
   "metadata": {},
   "outputs": [
    {
     "name": "stdout",
     "output_type": "stream",
     "text": [
      "Accuracy модели логистической регрессии на тестовой выборке: 0.7465007776049767\n"
     ]
    }
   ],
   "source": [
    "result = model_logRegression.score(features_test, target_test)\n",
    "\n",
    "print(\"Accuracy модели логистической регрессии на тестовой выборке:\", result)"
   ]
  },
  {
   "cell_type": "markdown",
   "metadata": {},
   "source": [
    "Accuracy наилучшей модели дерево решений. на тестовой выборке: 79.8%  \n",
    "Accuracy наилучшей модели случайный лес (gini) на тестовой выборке: 80.6%  \n",
    "Accuracy наилучшей модели случайный лес (entropy) на тестовой выборке: 80.2%  \n",
    "Accuracy модели логистическая регрессия на тестовой выборке: 72,8%  \n",
    "\n",
    "\n",
    "Все модели оказались устойчивыми. Точность предсказаний осталась на уровне валидационной выборки. \n",
    "\n",
    "Лучшая модель - случайный лес, однако её построение может занять некоторое время. Модели дерево решений и логистическая регрессия строятся мгновенно."
   ]
  },
  {
   "cell_type": "markdown",
   "metadata": {},
   "source": [
    "<a name=\"paragraph7\"></a>\n",
    "##  (бонус) Проверьте модели на адекватность"
   ]
  },
  {
   "cell_type": "markdown",
   "metadata": {},
   "source": [
    "Попытаемся проанализировать исходные данные. Выявить закономерности и на их основании, \"на глаз\", предсказать тот или иной результат.\n",
    "Анализировать будем датасет data_train."
   ]
  },
  {
   "cell_type": "markdown",
   "metadata": {},
   "source": [
    "Разделим данные по тарифам."
   ]
  },
  {
   "cell_type": "code",
   "execution_count": 30,
   "metadata": {},
   "outputs": [],
   "source": [
    "data_ultra = data_train.query('is_ultra == 1')\n",
    "data_smart = data_train.query('is_ultra == 0')"
   ]
  },
  {
   "cell_type": "code",
   "execution_count": 31,
   "metadata": {},
   "outputs": [
    {
     "data": {
      "text/html": [
       "<div>\n",
       "<style scoped>\n",
       "    .dataframe tbody tr th:only-of-type {\n",
       "        vertical-align: middle;\n",
       "    }\n",
       "\n",
       "    .dataframe tbody tr th {\n",
       "        vertical-align: top;\n",
       "    }\n",
       "\n",
       "    .dataframe thead th {\n",
       "        text-align: right;\n",
       "    }\n",
       "</style>\n",
       "<table border=\"1\" class=\"dataframe\">\n",
       "  <thead>\n",
       "    <tr style=\"text-align: right;\">\n",
       "      <th></th>\n",
       "      <th>calls</th>\n",
       "      <th>minutes</th>\n",
       "      <th>messages</th>\n",
       "      <th>mb_used</th>\n",
       "      <th>is_ultra</th>\n",
       "    </tr>\n",
       "  </thead>\n",
       "  <tbody>\n",
       "    <tr>\n",
       "      <th>1993</th>\n",
       "      <td>33.0</td>\n",
       "      <td>244.64</td>\n",
       "      <td>0.0</td>\n",
       "      <td>41587.07</td>\n",
       "      <td>1</td>\n",
       "    </tr>\n",
       "    <tr>\n",
       "      <th>164</th>\n",
       "      <td>72.0</td>\n",
       "      <td>507.52</td>\n",
       "      <td>38.0</td>\n",
       "      <td>3179.50</td>\n",
       "      <td>1</td>\n",
       "    </tr>\n",
       "    <tr>\n",
       "      <th>2115</th>\n",
       "      <td>85.0</td>\n",
       "      <td>514.90</td>\n",
       "      <td>0.0</td>\n",
       "      <td>9296.37</td>\n",
       "      <td>1</td>\n",
       "    </tr>\n",
       "    <tr>\n",
       "      <th>850</th>\n",
       "      <td>97.0</td>\n",
       "      <td>705.60</td>\n",
       "      <td>47.0</td>\n",
       "      <td>14407.85</td>\n",
       "      <td>1</td>\n",
       "    </tr>\n",
       "    <tr>\n",
       "      <th>2169</th>\n",
       "      <td>134.0</td>\n",
       "      <td>947.28</td>\n",
       "      <td>67.0</td>\n",
       "      <td>20160.96</td>\n",
       "      <td>1</td>\n",
       "    </tr>\n",
       "    <tr>\n",
       "      <th>...</th>\n",
       "      <td>...</td>\n",
       "      <td>...</td>\n",
       "      <td>...</td>\n",
       "      <td>...</td>\n",
       "      <td>...</td>\n",
       "    </tr>\n",
       "    <tr>\n",
       "      <th>1533</th>\n",
       "      <td>0.0</td>\n",
       "      <td>0.00</td>\n",
       "      <td>188.0</td>\n",
       "      <td>33189.50</td>\n",
       "      <td>1</td>\n",
       "    </tr>\n",
       "    <tr>\n",
       "      <th>3208</th>\n",
       "      <td>164.0</td>\n",
       "      <td>1016.98</td>\n",
       "      <td>71.0</td>\n",
       "      <td>17787.52</td>\n",
       "      <td>1</td>\n",
       "    </tr>\n",
       "    <tr>\n",
       "      <th>1281</th>\n",
       "      <td>148.0</td>\n",
       "      <td>1115.64</td>\n",
       "      <td>41.0</td>\n",
       "      <td>25465.40</td>\n",
       "      <td>1</td>\n",
       "    </tr>\n",
       "    <tr>\n",
       "      <th>1450</th>\n",
       "      <td>19.0</td>\n",
       "      <td>129.01</td>\n",
       "      <td>151.0</td>\n",
       "      <td>28584.39</td>\n",
       "      <td>1</td>\n",
       "    </tr>\n",
       "    <tr>\n",
       "      <th>1582</th>\n",
       "      <td>32.0</td>\n",
       "      <td>187.90</td>\n",
       "      <td>0.0</td>\n",
       "      <td>37601.43</td>\n",
       "      <td>1</td>\n",
       "    </tr>\n",
       "  </tbody>\n",
       "</table>\n",
       "<p>591 rows × 5 columns</p>\n",
       "</div>"
      ],
      "text/plain": [
       "      calls  minutes  messages   mb_used  is_ultra\n",
       "1993   33.0   244.64       0.0  41587.07         1\n",
       "164    72.0   507.52      38.0   3179.50         1\n",
       "2115   85.0   514.90       0.0   9296.37         1\n",
       "850    97.0   705.60      47.0  14407.85         1\n",
       "2169  134.0   947.28      67.0  20160.96         1\n",
       "...     ...      ...       ...       ...       ...\n",
       "1533    0.0     0.00     188.0  33189.50         1\n",
       "3208  164.0  1016.98      71.0  17787.52         1\n",
       "1281  148.0  1115.64      41.0  25465.40         1\n",
       "1450   19.0   129.01     151.0  28584.39         1\n",
       "1582   32.0   187.90       0.0  37601.43         1\n",
       "\n",
       "[591 rows x 5 columns]"
      ]
     },
     "execution_count": 31,
     "metadata": {},
     "output_type": "execute_result"
    }
   ],
   "source": [
    "data_ultra"
   ]
  },
  {
   "cell_type": "markdown",
   "metadata": {},
   "source": [
    "Напишем функцию для сравнения обоих тарифов по параметрам на одном графике."
   ]
  },
  {
   "cell_type": "code",
   "execution_count": 32,
   "metadata": {},
   "outputs": [],
   "source": [
    "def SidebySideHist(data1, data2, FieldSmart = None, FieldUltra = None, LabelHorz = 'Количество наблюдений', LabelVert = None, TitleHist = 'Сравнительная гистограмма', bins = 20, names = ['Smart', 'Ultra']):\n",
    "    \"\"\"\n",
    "    FieldSmart: Колонка датасета data1, которая участвует в сравнении\n",
    "    FieldUltra: Колонка датасета data2, которая участвует в сравнении\n",
    "    LabelVert: подпись по оси Y\n",
    "    LabelHorz: подпись по оси X\n",
    "    TitleHist: заголовок графика\n",
    "    bins: количество корзин \n",
    "    \"\"\"\n",
    "    value_smart = data1[FieldSmart]\n",
    "    value_ultra = data2[FieldUltra]\n",
    "\n",
    "    colors = ['#E0DF00', '#56B4E9']\n",
    "\n",
    "    \n",
    "    plt.figure(figsize=(20,10))\n",
    "    plt.hist([value_smart, value_ultra], bins = bins, density=True,\n",
    "             color = colors, label=names)\n",
    "    # Plot formatting\n",
    "    plt.legend()\n",
    "    plt.xlabel(LabelHorz)\n",
    "    plt.ylabel(LabelVert)\n",
    "    plt.title(TitleHist)"
   ]
  },
  {
   "cell_type": "code",
   "execution_count": 33,
   "metadata": {},
   "outputs": [
    {
     "data": {
      "image/png": "[encoded data removed]",
      "text/plain": [
       "<Figure size 1440x720 with 1 Axes>"
      ]
     },
     "metadata": {
      "needs_background": "light"
     },
     "output_type": "display_data"
    }
   ],
   "source": [
    "SidebySideHist(data_smart, data_ultra, 'calls', 'calls', 'Количество звонков', 'Количество наблюдений', 'Сравнительная гистограмма', 20, ['Smart', 'Ultra']);"
   ]
  },
  {
   "cell_type": "code",
   "execution_count": 34,
   "metadata": {},
   "outputs": [
    {
     "data": {
      "image/png": "[encoded data removed]",
      "text/plain": [
       "<Figure size 1440x720 with 1 Axes>"
      ]
     },
     "metadata": {
      "needs_background": "light"
     },
     "output_type": "display_data"
    }
   ],
   "source": [
    "SidebySideHist(data_smart, data_ultra, 'minutes', 'minutes', 'Количество минут', 'Количество наблюдений', 'Сравнительная гистограмма', 20, ['Smart', 'Ultra']);"
   ]
  },
  {
   "cell_type": "code",
   "execution_count": 35,
   "metadata": {},
   "outputs": [
    {
     "data": {
      "image/png": "[encoded data removed]",
      "text/plain": [
       "<Figure size 1440x720 with 1 Axes>"
      ]
     },
     "metadata": {
      "needs_background": "light"
     },
     "output_type": "display_data"
    }
   ],
   "source": [
    "SidebySideHist(data_smart, data_ultra, 'messages', 'messages', 'Количество сообщений', 'Количество наблюдений', 'Сравнительная гистограмма', 20, ['Smart', 'Ultra']);"
   ]
  },
  {
   "cell_type": "code",
   "execution_count": 36,
   "metadata": {},
   "outputs": [
    {
     "data": {
      "image/png": "[encoded data removed]",
      "text/plain": [
       "<Figure size 1440x720 with 1 Axes>"
      ]
     },
     "metadata": {
      "needs_background": "light"
     },
     "output_type": "display_data"
    }
   ],
   "source": [
    "SidebySideHist(data_smart, data_ultra, 'mb_used', 'mb_used', 'Количество интернет-траффика', 'Количество наблюдений', 'Сравнительная гистограмма', 20, ['Smart', 'Ultra']);"
   ]
  },
  {
   "cell_type": "markdown",
   "metadata": {},
   "source": [
    "Посмотрим на статистические характеристики тарифов."
   ]
  },
  {
   "cell_type": "markdown",
   "metadata": {},
   "source": [
    "Тариф Смарт:"
   ]
  },
  {
   "cell_type": "code",
   "execution_count": 37,
   "metadata": {},
   "outputs": [
    {
     "data": {
      "text/html": [
       "<div>\n",
       "<style scoped>\n",
       "    .dataframe tbody tr th:only-of-type {\n",
       "        vertical-align: middle;\n",
       "    }\n",
       "\n",
       "    .dataframe tbody tr th {\n",
       "        vertical-align: top;\n",
       "    }\n",
       "\n",
       "    .dataframe thead th {\n",
       "        text-align: right;\n",
       "    }\n",
       "</style>\n",
       "<table border=\"1\" class=\"dataframe\">\n",
       "  <thead>\n",
       "    <tr style=\"text-align: right;\">\n",
       "      <th></th>\n",
       "      <th>calls</th>\n",
       "      <th>minutes</th>\n",
       "      <th>messages</th>\n",
       "      <th>mb_used</th>\n",
       "      <th>is_ultra</th>\n",
       "    </tr>\n",
       "  </thead>\n",
       "  <tbody>\n",
       "    <tr>\n",
       "      <th>count</th>\n",
       "      <td>1337.000000</td>\n",
       "      <td>1337.000000</td>\n",
       "      <td>1337.000000</td>\n",
       "      <td>1337.000000</td>\n",
       "      <td>1337.0</td>\n",
       "    </tr>\n",
       "    <tr>\n",
       "      <th>mean</th>\n",
       "      <td>58.376215</td>\n",
       "      <td>405.694480</td>\n",
       "      <td>33.913239</td>\n",
       "      <td>16055.341339</td>\n",
       "      <td>0.0</td>\n",
       "    </tr>\n",
       "    <tr>\n",
       "      <th>std</th>\n",
       "      <td>26.145232</td>\n",
       "      <td>186.035095</td>\n",
       "      <td>28.337544</td>\n",
       "      <td>5863.064274</td>\n",
       "      <td>0.0</td>\n",
       "    </tr>\n",
       "    <tr>\n",
       "      <th>min</th>\n",
       "      <td>0.000000</td>\n",
       "      <td>0.000000</td>\n",
       "      <td>0.000000</td>\n",
       "      <td>0.000000</td>\n",
       "      <td>0.0</td>\n",
       "    </tr>\n",
       "    <tr>\n",
       "      <th>25%</th>\n",
       "      <td>40.000000</td>\n",
       "      <td>276.810000</td>\n",
       "      <td>10.000000</td>\n",
       "      <td>12617.750000</td>\n",
       "      <td>0.0</td>\n",
       "    </tr>\n",
       "    <tr>\n",
       "      <th>50%</th>\n",
       "      <td>60.000000</td>\n",
       "      <td>411.460000</td>\n",
       "      <td>28.000000</td>\n",
       "      <td>16367.640000</td>\n",
       "      <td>0.0</td>\n",
       "    </tr>\n",
       "    <tr>\n",
       "      <th>75%</th>\n",
       "      <td>76.000000</td>\n",
       "      <td>528.430000</td>\n",
       "      <td>52.000000</td>\n",
       "      <td>19918.660000</td>\n",
       "      <td>0.0</td>\n",
       "    </tr>\n",
       "    <tr>\n",
       "      <th>max</th>\n",
       "      <td>198.000000</td>\n",
       "      <td>1390.220000</td>\n",
       "      <td>143.000000</td>\n",
       "      <td>38552.620000</td>\n",
       "      <td>0.0</td>\n",
       "    </tr>\n",
       "  </tbody>\n",
       "</table>\n",
       "</div>"
      ],
      "text/plain": [
       "             calls      minutes     messages       mb_used  is_ultra\n",
       "count  1337.000000  1337.000000  1337.000000   1337.000000    1337.0\n",
       "mean     58.376215   405.694480    33.913239  16055.341339       0.0\n",
       "std      26.145232   186.035095    28.337544   5863.064274       0.0\n",
       "min       0.000000     0.000000     0.000000      0.000000       0.0\n",
       "25%      40.000000   276.810000    10.000000  12617.750000       0.0\n",
       "50%      60.000000   411.460000    28.000000  16367.640000       0.0\n",
       "75%      76.000000   528.430000    52.000000  19918.660000       0.0\n",
       "max     198.000000  1390.220000   143.000000  38552.620000       0.0"
      ]
     },
     "execution_count": 37,
     "metadata": {},
     "output_type": "execute_result"
    }
   ],
   "source": [
    "data_smart.describe()"
   ]
  },
  {
   "cell_type": "markdown",
   "metadata": {},
   "source": [
    "Тариф Ультра:"
   ]
  },
  {
   "cell_type": "code",
   "execution_count": 38,
   "metadata": {},
   "outputs": [
    {
     "data": {
      "text/html": [
       "<div>\n",
       "<style scoped>\n",
       "    .dataframe tbody tr th:only-of-type {\n",
       "        vertical-align: middle;\n",
       "    }\n",
       "\n",
       "    .dataframe tbody tr th {\n",
       "        vertical-align: top;\n",
       "    }\n",
       "\n",
       "    .dataframe thead th {\n",
       "        text-align: right;\n",
       "    }\n",
       "</style>\n",
       "<table border=\"1\" class=\"dataframe\">\n",
       "  <thead>\n",
       "    <tr style=\"text-align: right;\">\n",
       "      <th></th>\n",
       "      <th>calls</th>\n",
       "      <th>minutes</th>\n",
       "      <th>messages</th>\n",
       "      <th>mb_used</th>\n",
       "      <th>is_ultra</th>\n",
       "    </tr>\n",
       "  </thead>\n",
       "  <tbody>\n",
       "    <tr>\n",
       "      <th>count</th>\n",
       "      <td>591.000000</td>\n",
       "      <td>591.000000</td>\n",
       "      <td>591.000000</td>\n",
       "      <td>591.000000</td>\n",
       "      <td>591.0</td>\n",
       "    </tr>\n",
       "    <tr>\n",
       "      <th>mean</th>\n",
       "      <td>73.725888</td>\n",
       "      <td>512.151015</td>\n",
       "      <td>51.164129</td>\n",
       "      <td>19593.287631</td>\n",
       "      <td>1.0</td>\n",
       "    </tr>\n",
       "    <tr>\n",
       "      <th>std</th>\n",
       "      <td>45.311120</td>\n",
       "      <td>316.628874</td>\n",
       "      <td>48.783213</td>\n",
       "      <td>10153.386784</td>\n",
       "      <td>0.0</td>\n",
       "    </tr>\n",
       "    <tr>\n",
       "      <th>min</th>\n",
       "      <td>0.000000</td>\n",
       "      <td>0.000000</td>\n",
       "      <td>0.000000</td>\n",
       "      <td>0.000000</td>\n",
       "      <td>1.0</td>\n",
       "    </tr>\n",
       "    <tr>\n",
       "      <th>25%</th>\n",
       "      <td>39.000000</td>\n",
       "      <td>265.410000</td>\n",
       "      <td>7.000000</td>\n",
       "      <td>11673.120000</td>\n",
       "      <td>1.0</td>\n",
       "    </tr>\n",
       "    <tr>\n",
       "      <th>50%</th>\n",
       "      <td>74.000000</td>\n",
       "      <td>510.850000</td>\n",
       "      <td>40.000000</td>\n",
       "      <td>19459.080000</td>\n",
       "      <td>1.0</td>\n",
       "    </tr>\n",
       "    <tr>\n",
       "      <th>75%</th>\n",
       "      <td>106.000000</td>\n",
       "      <td>740.815000</td>\n",
       "      <td>81.000000</td>\n",
       "      <td>27036.370000</td>\n",
       "      <td>1.0</td>\n",
       "    </tr>\n",
       "    <tr>\n",
       "      <th>max</th>\n",
       "      <td>244.000000</td>\n",
       "      <td>1632.060000</td>\n",
       "      <td>224.000000</td>\n",
       "      <td>48351.610000</td>\n",
       "      <td>1.0</td>\n",
       "    </tr>\n",
       "  </tbody>\n",
       "</table>\n",
       "</div>"
      ],
      "text/plain": [
       "            calls      minutes    messages       mb_used  is_ultra\n",
       "count  591.000000   591.000000  591.000000    591.000000     591.0\n",
       "mean    73.725888   512.151015   51.164129  19593.287631       1.0\n",
       "std     45.311120   316.628874   48.783213  10153.386784       0.0\n",
       "min      0.000000     0.000000    0.000000      0.000000       1.0\n",
       "25%     39.000000   265.410000    7.000000  11673.120000       1.0\n",
       "50%     74.000000   510.850000   40.000000  19459.080000       1.0\n",
       "75%    106.000000   740.815000   81.000000  27036.370000       1.0\n",
       "max    244.000000  1632.060000  224.000000  48351.610000       1.0"
      ]
     },
     "execution_count": 38,
     "metadata": {},
     "output_type": "execute_result"
    }
   ],
   "source": [
    "data_ultra.describe()"
   ]
  },
  {
   "cell_type": "markdown",
   "metadata": {},
   "source": [
    "Заметим, что наиболее ярко датасета отличаются по количеству использованных минут и потраченных Мб. Будем исследовать данные параметры.\n",
    "\n",
    "Количество использованных Мб:\n",
    "    Тариф смарт:\n",
    "        Медиана - 16367\n",
    "        Среднее - 16055\n",
    "    Тариф ультра:\n",
    "        Медиана - 19459\n",
    "        Среднее - 19593\n",
    "\n",
    "Количество использованных минут:\n",
    "    Тариф смарт:\n",
    "        Медиана - 411\n",
    "        Среднее - 405\n",
    "    Тариф ультра:\n",
    "        Медиана - 510\n",
    "        Среднее - 512\n",
    "        \n",
    "Можем предположить, ориентируясь на эти значения и на графики, что \n",
    "Пользователи тарифа смарт тратят:\n",
    "    Меньше 400 мин И меньше 16000 Мб\n",
    "Пользователи ультра тратят:\n",
    "    Больше 500 мин И больше 19000 Мб\n",
    "    \n",
    "На отрезке 400-500 мин или 16000-19000 Мб лежат \"пограничные\" пользователи. Исследуем их отдельно.\n",
    "Выделим в отдельные датасеты и посмотрим на графике."
   ]
  },
  {
   "cell_type": "code",
   "execution_count": 39,
   "metadata": {},
   "outputs": [],
   "source": [
    "data_smart_border = data_smart.query('minutes >= 400 and minutes <= 500 or mb_used >= 16000 and mb_used <= 19000')\n",
    "data_ultra_border = data_ultra.query('minutes >= 400 and minutes <= 500 or mb_used >= 16000 and mb_used <= 19000')"
   ]
  },
  {
   "cell_type": "code",
   "execution_count": 40,
   "metadata": {},
   "outputs": [
    {
     "data": {
      "image/png": "[encoded data removed]",
      "text/plain": [
       "<Figure size 1440x720 with 1 Axes>"
      ]
     },
     "metadata": {
      "needs_background": "light"
     },
     "output_type": "display_data"
    }
   ],
   "source": [
    "SidebySideHist(data_smart_border, data_ultra_border, 'minutes', 'minutes', 'Количество минут', 'Количество наблюдений', 'Сравнительная гистограмма. \"Пограничные\" пользователи', 20, ['Smart', 'Ultra']);"
   ]
  },
  {
   "cell_type": "code",
   "execution_count": 41,
   "metadata": {},
   "outputs": [
    {
     "data": {
      "image/png": "[encoded data removed]",
      "text/plain": [
       "<Figure size 1440x720 with 1 Axes>"
      ]
     },
     "metadata": {
      "needs_background": "light"
     },
     "output_type": "display_data"
    }
   ],
   "source": [
    "SidebySideHist(data_smart_border, data_ultra_border, 'mb_used', 'mb_used', 'Количество интернет-траффика', 'Количество наблюдений', 'Сравнительная гистограмма. \"Пограничные\" пользователи', 20, ['Smart', 'Ultra']);"
   ]
  },
  {
   "cell_type": "markdown",
   "metadata": {},
   "source": [
    "Для \"пограничных\" пользователей определим следующие правила определения:\n",
    "    \n",
    "    Тариф смарт:\n",
    "        1 Количество минут < 500\n",
    "    Тариф ультра:\n",
    "        1 Количество минут > 600 \n",
    "        2 Количество интернет-трафика > 20000\n",
    "        \n",
    "Для остальных пользователей - определить очень сложно (они очень похожи), поэтому будем отбирать функцией рандома."
   ]
  },
  {
   "cell_type": "markdown",
   "metadata": {},
   "source": [
    "Напишем специальную функцию определения. После чего с её помощью предскажем данные на тестовой и валидационной выборках "
   ]
  },
  {
   "cell_type": "code",
   "execution_count": 42,
   "metadata": {},
   "outputs": [],
   "source": [
    "def predict_tariff(row):\n",
    "    try:\n",
    "        if(row['minutes'] < 400 and row['mb_used'] < 16000):\n",
    "            return 0;\n",
    "        if(row['minutes'] > 500 and row['mb_used'] > 19000):\n",
    "            return 1;\n",
    "        if (row['minutes'] >= 400 and row['minutes'] <= 500 or row['mb_used'] >= 16000 and row['mb_used'] <= 19000):\n",
    "            if(row['minutes'] < 500):\n",
    "                return 0;\n",
    "            if(row['minutes'] > 600):\n",
    "                return 1;\n",
    "            if(row['mb_used'] > 20000):\n",
    "                return 1;\n",
    "        return randint(0, 1);\n",
    "    except:\n",
    "        return 'Ошибка при вычислении'"
   ]
  },
  {
   "cell_type": "markdown",
   "metadata": {},
   "source": [
    "Напишем функцию подсчета точности предсказания."
   ]
  },
  {
   "cell_type": "code",
   "execution_count": 43,
   "metadata": {},
   "outputs": [],
   "source": [
    "def accuracy(data):\n",
    "    try:\n",
    "        count = 0\n",
    "        for index, row in data.iterrows():\n",
    "            if(row['predictions'] == row['is_ultra']):\n",
    "                count = count + 1\n",
    "        return count/len(data)\n",
    "    except:\n",
    "        return 'Ошибка при вычислении'"
   ]
  },
  {
   "cell_type": "code",
   "execution_count": 44,
   "metadata": {},
   "outputs": [
    {
     "name": "stderr",
     "output_type": "stream",
     "text": [
      "<ipython-input-44-be1ede6b19e3>:1: SettingWithCopyWarning: \n",
      "A value is trying to be set on a copy of a slice from a DataFrame.\n",
      "Try using .loc[row_indexer,col_indexer] = value instead\n",
      "\n",
      "See the caveats in the documentation: https://pandas.pydata.org/pandas-docs/stable/user_guide/indexing.html#returning-a-view-versus-a-copy\n",
      "  data_valid['predictions'] = data_valid.apply(predict_tariff, axis = 1);\n"
     ]
    }
   ],
   "source": [
    "data_valid['predictions'] = data_valid.apply(predict_tariff, axis = 1);"
   ]
  },
  {
   "cell_type": "code",
   "execution_count": 45,
   "metadata": {},
   "outputs": [
    {
     "name": "stdout",
     "output_type": "stream",
     "text": [
      "Точность функции на валидационной выборке: 0.6236391912908242\n"
     ]
    }
   ],
   "source": [
    "print(\"Точность функции на валидационной выборке:\", accuracy(data_valid))"
   ]
  },
  {
   "cell_type": "markdown",
   "metadata": {},
   "source": [
    "Протестируем на тестовой выборке"
   ]
  },
  {
   "cell_type": "code",
   "execution_count": 46,
   "metadata": {},
   "outputs": [
    {
     "name": "stderr",
     "output_type": "stream",
     "text": [
      "<ipython-input-46-1c84b9f3289f>:1: SettingWithCopyWarning: \n",
      "A value is trying to be set on a copy of a slice from a DataFrame.\n",
      "Try using .loc[row_indexer,col_indexer] = value instead\n",
      "\n",
      "See the caveats in the documentation: https://pandas.pydata.org/pandas-docs/stable/user_guide/indexing.html#returning-a-view-versus-a-copy\n",
      "  data_test['predictions'] = data_test.apply(predict_tariff, axis = 1);\n"
     ]
    }
   ],
   "source": [
    "data_test['predictions'] = data_test.apply(predict_tariff, axis = 1);"
   ]
  },
  {
   "cell_type": "code",
   "execution_count": 48,
   "metadata": {},
   "outputs": [
    {
     "name": "stdout",
     "output_type": "stream",
     "text": [
      "Точность функции на тестовой выборке: 0.6485225505443235\n"
     ]
    }
   ],
   "source": [
    "print(\"Точность функции на тестовой выборке:\", accuracy(data_test))"
   ]
  },
  {
   "cell_type": "markdown",
   "metadata": {},
   "source": [
    "Из-за добавленного эффекта случайности при определении тарифа по признакам, точность нашей функции предсказания - плавающая. Я выполнил её несколько раз и получались значения в районе 60-65% точности. Что, однако, не так уж и плохо.\n",
    "При этом, можно утверждать, что модели дерево решений, случайный лес и логистическая регрессия прошли тест на адекватность и они, действительно, будут полезны при решении практических задач - т.к. определяют точнее, чем мы определили методом \"на глаз\"."
   ]
  },
  {
   "cell_type": "code",
   "execution_count": 49,
   "metadata": {},
   "outputs": [
    {
     "data": {
      "text/plain": [
       "0    0.693624\n",
       "1    0.306376\n",
       "Name: is_ultra, dtype: float64"
      ]
     },
     "execution_count": 49,
     "metadata": {},
     "output_type": "execute_result"
    }
   ],
   "source": [
    "target_test.value_counts() / features_test.shape[0]"
   ]
  },
  {
   "cell_type": "code",
   "execution_count": 50,
   "metadata": {},
   "outputs": [
    {
     "name": "stdout",
     "output_type": "stream",
     "text": [
      "Лес auc тест 0.8139241082606815\n",
      "Регресиия auc тест 0.6769707040586374\n"
     ]
    }
   ],
   "source": [
    "\n",
    "from sklearn.metrics import roc_auc_score\n",
    "\n",
    "# для подсчета  auc вторым аргументов я передаю предсказанную вероятность принадлежности к классу,\n",
    "# а не сам предсказанный класс\n",
    "\n",
    "print('Лес auc тест', roc_auc_score(target_test, best_model_forest_entropy.predict_proba(features_test)[:, 1]))\n",
    "print('Регресиия auc тест', roc_auc_score(target_test, model_logRegression.predict_proba(features_test)[:, 1]))"
   ]
  },
  {
   "cell_type": "markdown",
   "metadata": {},
   "source": [
    "<a name=\"paragraph8\"></a>\n",
    "## Вывод"
   ]
  },
  {
   "cell_type": "markdown",
   "metadata": {},
   "source": [
    "На первом этапе мы открыли и проанализировали исходные данные. Убедились, что предобработка уже проведена.  \n",
    "\n",
    "На втором этапе было произведено разбиение исходных данных на обучающую, валидационную и тестовую выборки.  \n",
    "Было отмечено, что наш целевой признак определяется всего двумя значениями. Одно из которых (тариф ультра) встречается всего в 30.65% от выборки. Было принято решение использовать параметр stratify для равномерного разделения выборки. После разбиения исходных данных мы разделили отдельно признаки и целевой признак.\n",
    "\n",
    "На третьем этапе провели исследование моделей.  \n",
    "Модель дерево решений:\n",
    "\n",
    "    Происследованы модели со значениями гиперпараметра max_depth(максимальная глубина) от 1 до 15.  \n",
    "    Получили лучшую модель с максимальной глубиной равной 4.\n",
    "    Точность составила 78,7%\n",
    "    \n",
    "Модель случайный лес.\n",
    "\n",
    "    Происследованы модели со значениями гиперпараметров:\n",
    "    max_depth (макс. глубина) - от 1 до 15\n",
    "    est (количество деревьев) - от 1 до 30\n",
    "    criterion - выполним с критерием “gini” и с критерием “entropy\" отдельно\n",
    "    \n",
    "    Лучшая модель получилась с количеством деревьев 14, максимальной глубиной 8, критерий gini. \n",
    "    Точность составила 80,4%.\n",
    "    \n",
    "    Лучшая модель \"Случайный лес. entropy\" получилась с количеством деревьев 12 и максимальной глубиной 7.  \n",
    "    Точность составила 79,9%.\n",
    "\n",
    "    \n",
    "Модель логистическая регрессия.\n",
    "\n",
    "    Точность получилась равна 72,5%\n",
    "    \n",
    "Исследования на тестовой выборке показали следующие результаты.\n",
    "\n",
    "Accuracy наилучшей модели дерево решений. на тестовой выборке: 79.8%  \n",
    "Accuracy наилучшей модели случайный лес (gini) на тестовой выборке: 80.6%  \n",
    "Accuracy наилучшей модели случайный лес (entropy) на тестовой выборке: 80.2%  \n",
    "Accuracy модели логистическая регрессия на тестовой выборке: 72,8%  \n",
    "\n",
    "\n",
    "Все модели оказались устойчивыми. Точность предсказаний осталась на уровне валидационной выборки. \n",
    "\n",
    "Лучшая модель - случайный лес, однако её построение может занять некоторое время. Модели дерево решений и логистическая регрессия строятся мгновенно.\n",
    "\n",
    "БОНУС! Проверка моделей на адекватность.  \n",
    "Проанализировали исходные данные на примере датасета data_train. Для начала разделили данные по тарифам, после чего проанализировали каждый датасет.  \n",
    "Наиболее ярко датасета отличаются по количеству использованных минут и потраченных Мб. Будем исследовать данные параметры.\n",
    "Количество использованных Мб:  \n",
    "Тариф смарт:  \n",
    "Медиана - 16367 Среднее - 16055  \n",
    "Тариф ультра:  \n",
    "Медиана - 19459 Среднее - 19593  \n",
    "Количество использованных минут:  \n",
    "Тариф смарт: Медиана - 411 Среднее - 405  \n",
    "Тариф ультра: Медиана - 510 Среднее - 512\n",
    "\n",
    "Можем предположить, ориентируясь на эти значения и на графики, что пользователи тарифа смарт тратят:  \n",
    "Меньше 400 мин И меньше 16000 Мб  \n",
    "Пользователи ультра тратят: Больше 500 мин И больше 19000 Мб  \n",
    "\n",
    "На отрезке 400-500 мин или 16000-19000 Мб лежат \"пограничные\" пользователи. Происследовали их отдельно.\n",
    "\n",
    "Для \"пограничных\" пользователей определили следующие правила определения:\n",
    "\n",
    "Тариф смарт:\n",
    "    1 Количество минут < 500\n",
    "Тариф ультра:\n",
    "    1 Количество минут > 600 \n",
    "    2 Количество интернет-трафика > 20000\n",
    "\n",
    "Для остальных пользователей - определить очень сложно (они очень похожи), поэтому будем отбирать функцией рандома.\n",
    "\n",
    "Из-за добавленного эффекта случайности при определении тарифа по признакам, точность нашей функции предсказания - плавающая. Я выполнил её несколько раз и получались значения в районе 60-65% точности. Что, однако, не так уж и плохо.\n",
    "При этом, можно утверждать, что модели дерево решений, случайный лес и логистическая регрессия прошли тест на адекватность и они, действительно, будут полезны при решении практических задач - т.к. определяют точнее, чем мы определили методом \"на глаз\"."
   ]
  },
  {
   "cell_type": "markdown",
   "metadata": {},
   "source": [
    "<a name=\"paragraph9\"></a>\n",
    "## Чек-лист готовности проекта"
   ]
  },
  {
   "cell_type": "markdown",
   "metadata": {},
   "source": [
    "Поставьте 'x' в выполненных пунктах. Далее нажмите Shift+Enter."
   ]
  },
  {
   "cell_type": "markdown",
   "metadata": {},
   "source": [
    "- [x] Jupyter Notebook открыт\n",
    "- [x] Весь код исполняется без ошибок\n",
    "- [x] Ячейки с кодом расположены в порядке исполнения\n",
    "- [x] Выполнено задание 1: данные загружены и изучены\n",
    "- [x] Выполнено задание 2: данные разбиты на три выборки\n",
    "- [x] Выполнено задание 3: проведено исследование моделей\n",
    "    - [x] Рассмотрено больше одной модели\n",
    "    - [ ] Рассмотрено хотя бы 3 значения гипепараметров для какой-нибудь модели\n",
    "    - [x] Написаны выводы по результатам исследования\n",
    "- [x] Выполнено задание 3: Проведено тестирование\n",
    "- [x] Удалось достичь accuracy не меньше 0.75\n"
   ]
  },
  {
   "cell_type": "code",
   "execution_count": null,
   "metadata": {},
   "outputs": [],
   "source": []
  }
 ],
 "metadata": {
  "kernelspec": {
   "display_name": "Python 3",
   "language": "python",
   "name": "python3"
  },
  "language_info": {
   "codemirror_mode": {
    "name": "ipython",
    "version": 3
   },
   "file_extension": ".py",
   "mimetype": "text/x-python",
   "name": "python",
   "nbconvert_exporter": "python",
   "pygments_lexer": "ipython3",
   "version": "3.8.5"
  },
  "toc": {
   "base_numbering": 1,
   "nav_menu": {},
   "number_sections": true,
   "sideBar": true,
   "skip_h1_title": false,
   "title_cell": "Table of Contents",
   "title_sidebar": "Contents",
   "toc_cell": false,
   "toc_position": {},
   "toc_section_display": true,
   "toc_window_display": false
  }
 },
 "nbformat": 4,
 "nbformat_minor": 2
}
