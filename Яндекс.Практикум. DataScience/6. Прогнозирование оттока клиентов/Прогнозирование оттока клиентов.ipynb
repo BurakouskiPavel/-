{
 "cells": [
  {
   "cell_type": "markdown",
   "metadata": {},
   "source": [
    "# Отток клиентов"
   ]
  },
  {
   "cell_type": "markdown",
   "metadata": {},
   "source": [
    "Из «Бета-Банка» стали уходить клиенты. Каждый месяц. Немного, но заметно. Банковские маркетологи посчитали: сохранять текущих клиентов дешевле, чем привлекать новых.\n",
    "\n",
    "Нужно спрогнозировать, уйдёт клиент из банка в ближайшее время или нет. Вам предоставлены исторические данные о поведении клиентов и расторжении договоров с банком. \n",
    "\n",
    "Постройте модель с предельно большим значением *F1*-меры. Чтобы сдать проект успешно, нужно довести метрику до 0.59. Проверьте *F1*-меру на тестовой выборке самостоятельно.\n",
    "\n",
    "Дополнительно измеряйте *AUC-ROC*, сравнивайте её значение с *F1*-мерой.\n",
    "\n",
    "Источник данных: [https://www.kaggle.com/barelydedicated/bank-customer-churn-modeling](https://www.kaggle.com/barelydedicated/bank-customer-churn-modeling)"
   ]
  },
  {
   "cell_type": "markdown",
   "metadata": {},
   "source": [
    "# 1. Подготовка данных"
   ]
  },
  {
   "cell_type": "markdown",
   "metadata": {},
   "source": [
    "Импортируем библиотеки."
   ]
  },
  {
   "cell_type": "code",
   "execution_count": 1,
   "metadata": {},
   "outputs": [],
   "source": [
    "import pandas as pd\n",
    "import numpy as np\n",
    "from sklearn.model_selection import train_test_split\n",
    "\n",
    "from sklearn.tree import DecisionTreeClassifier\n",
    "from sklearn.linear_model import LogisticRegression\n",
    "from sklearn.ensemble import RandomForestClassifier\n",
    "\n",
    "from sklearn.metrics import accuracy_score\n",
    "\n",
    "from sklearn.metrics import confusion_matrix\n",
    "from sklearn.metrics import recall_score\n",
    "from sklearn.metrics import precision_score \n",
    "from sklearn.metrics import f1_score\n",
    "from sklearn.metrics import roc_auc_score\n",
    "from sklearn.metrics import roc_curve \n",
    "\n",
    "from sklearn.model_selection import RandomizedSearchCV\n",
    "from sklearn.model_selection import GridSearchCV\n",
    "\n",
    "import matplotlib.pyplot as plt\n",
    "\n",
    "from sklearn.utils import shuffle"
   ]
  },
  {
   "cell_type": "markdown",
   "metadata": {},
   "source": [
    "Отключим предупреждения"
   ]
  },
  {
   "cell_type": "code",
   "execution_count": 2,
   "metadata": {},
   "outputs": [],
   "source": [
    "import warnings\n",
    "warnings.filterwarnings('ignore')  # \"error\", \"ignore\", \"always\", \"default\", \"module\" or \"once\""
   ]
  },
  {
   "cell_type": "markdown",
   "metadata": {},
   "source": [
    "Установим случайное число"
   ]
  },
  {
   "cell_type": "code",
   "execution_count": 3,
   "metadata": {},
   "outputs": [],
   "source": [
    "random_value = 12345"
   ]
  },
  {
   "cell_type": "markdown",
   "metadata": {},
   "source": [
    "Читаем данные."
   ]
  },
  {
   "cell_type": "code",
   "execution_count": 5,
   "metadata": {},
   "outputs": [],
   "source": [
    "data = pd.read_csv('datasets/Churn.csv')"
   ]
  },
  {
   "cell_type": "markdown",
   "metadata": {},
   "source": [
    "Рассмотрим первые 10 строк."
   ]
  },
  {
   "cell_type": "code",
   "execution_count": 6,
   "metadata": {},
   "outputs": [
    {
     "data": {
      "text/html": [
       "<div>\n",
       "<style scoped>\n",
       "    .dataframe tbody tr th:only-of-type {\n",
       "        vertical-align: middle;\n",
       "    }\n",
       "\n",
       "    .dataframe tbody tr th {\n",
       "        vertical-align: top;\n",
       "    }\n",
       "\n",
       "    .dataframe thead th {\n",
       "        text-align: right;\n",
       "    }\n",
       "</style>\n",
       "<table border=\"1\" class=\"dataframe\">\n",
       "  <thead>\n",
       "    <tr style=\"text-align: right;\">\n",
       "      <th></th>\n",
       "      <th>RowNumber</th>\n",
       "      <th>CustomerId</th>\n",
       "      <th>Surname</th>\n",
       "      <th>CreditScore</th>\n",
       "      <th>Geography</th>\n",
       "      <th>Gender</th>\n",
       "      <th>Age</th>\n",
       "      <th>Tenure</th>\n",
       "      <th>Balance</th>\n",
       "      <th>NumOfProducts</th>\n",
       "      <th>HasCrCard</th>\n",
       "      <th>IsActiveMember</th>\n",
       "      <th>EstimatedSalary</th>\n",
       "      <th>Exited</th>\n",
       "    </tr>\n",
       "  </thead>\n",
       "  <tbody>\n",
       "    <tr>\n",
       "      <th>0</th>\n",
       "      <td>1</td>\n",
       "      <td>15634602</td>\n",
       "      <td>Hargrave</td>\n",
       "      <td>619</td>\n",
       "      <td>France</td>\n",
       "      <td>Female</td>\n",
       "      <td>42</td>\n",
       "      <td>2.0</td>\n",
       "      <td>0.00</td>\n",
       "      <td>1</td>\n",
       "      <td>1</td>\n",
       "      <td>1</td>\n",
       "      <td>101348.88</td>\n",
       "      <td>1</td>\n",
       "    </tr>\n",
       "    <tr>\n",
       "      <th>1</th>\n",
       "      <td>2</td>\n",
       "      <td>15647311</td>\n",
       "      <td>Hill</td>\n",
       "      <td>608</td>\n",
       "      <td>Spain</td>\n",
       "      <td>Female</td>\n",
       "      <td>41</td>\n",
       "      <td>1.0</td>\n",
       "      <td>83807.86</td>\n",
       "      <td>1</td>\n",
       "      <td>0</td>\n",
       "      <td>1</td>\n",
       "      <td>112542.58</td>\n",
       "      <td>0</td>\n",
       "    </tr>\n",
       "    <tr>\n",
       "      <th>2</th>\n",
       "      <td>3</td>\n",
       "      <td>15619304</td>\n",
       "      <td>Onio</td>\n",
       "      <td>502</td>\n",
       "      <td>France</td>\n",
       "      <td>Female</td>\n",
       "      <td>42</td>\n",
       "      <td>8.0</td>\n",
       "      <td>159660.80</td>\n",
       "      <td>3</td>\n",
       "      <td>1</td>\n",
       "      <td>0</td>\n",
       "      <td>113931.57</td>\n",
       "      <td>1</td>\n",
       "    </tr>\n",
       "    <tr>\n",
       "      <th>3</th>\n",
       "      <td>4</td>\n",
       "      <td>15701354</td>\n",
       "      <td>Boni</td>\n",
       "      <td>699</td>\n",
       "      <td>France</td>\n",
       "      <td>Female</td>\n",
       "      <td>39</td>\n",
       "      <td>1.0</td>\n",
       "      <td>0.00</td>\n",
       "      <td>2</td>\n",
       "      <td>0</td>\n",
       "      <td>0</td>\n",
       "      <td>93826.63</td>\n",
       "      <td>0</td>\n",
       "    </tr>\n",
       "    <tr>\n",
       "      <th>4</th>\n",
       "      <td>5</td>\n",
       "      <td>15737888</td>\n",
       "      <td>Mitchell</td>\n",
       "      <td>850</td>\n",
       "      <td>Spain</td>\n",
       "      <td>Female</td>\n",
       "      <td>43</td>\n",
       "      <td>2.0</td>\n",
       "      <td>125510.82</td>\n",
       "      <td>1</td>\n",
       "      <td>1</td>\n",
       "      <td>1</td>\n",
       "      <td>79084.10</td>\n",
       "      <td>0</td>\n",
       "    </tr>\n",
       "    <tr>\n",
       "      <th>5</th>\n",
       "      <td>6</td>\n",
       "      <td>15574012</td>\n",
       "      <td>Chu</td>\n",
       "      <td>645</td>\n",
       "      <td>Spain</td>\n",
       "      <td>Male</td>\n",
       "      <td>44</td>\n",
       "      <td>8.0</td>\n",
       "      <td>113755.78</td>\n",
       "      <td>2</td>\n",
       "      <td>1</td>\n",
       "      <td>0</td>\n",
       "      <td>149756.71</td>\n",
       "      <td>1</td>\n",
       "    </tr>\n",
       "    <tr>\n",
       "      <th>6</th>\n",
       "      <td>7</td>\n",
       "      <td>15592531</td>\n",
       "      <td>Bartlett</td>\n",
       "      <td>822</td>\n",
       "      <td>France</td>\n",
       "      <td>Male</td>\n",
       "      <td>50</td>\n",
       "      <td>7.0</td>\n",
       "      <td>0.00</td>\n",
       "      <td>2</td>\n",
       "      <td>1</td>\n",
       "      <td>1</td>\n",
       "      <td>10062.80</td>\n",
       "      <td>0</td>\n",
       "    </tr>\n",
       "    <tr>\n",
       "      <th>7</th>\n",
       "      <td>8</td>\n",
       "      <td>15656148</td>\n",
       "      <td>Obinna</td>\n",
       "      <td>376</td>\n",
       "      <td>Germany</td>\n",
       "      <td>Female</td>\n",
       "      <td>29</td>\n",
       "      <td>4.0</td>\n",
       "      <td>115046.74</td>\n",
       "      <td>4</td>\n",
       "      <td>1</td>\n",
       "      <td>0</td>\n",
       "      <td>119346.88</td>\n",
       "      <td>1</td>\n",
       "    </tr>\n",
       "    <tr>\n",
       "      <th>8</th>\n",
       "      <td>9</td>\n",
       "      <td>15792365</td>\n",
       "      <td>He</td>\n",
       "      <td>501</td>\n",
       "      <td>France</td>\n",
       "      <td>Male</td>\n",
       "      <td>44</td>\n",
       "      <td>4.0</td>\n",
       "      <td>142051.07</td>\n",
       "      <td>2</td>\n",
       "      <td>0</td>\n",
       "      <td>1</td>\n",
       "      <td>74940.50</td>\n",
       "      <td>0</td>\n",
       "    </tr>\n",
       "    <tr>\n",
       "      <th>9</th>\n",
       "      <td>10</td>\n",
       "      <td>15592389</td>\n",
       "      <td>H?</td>\n",
       "      <td>684</td>\n",
       "      <td>France</td>\n",
       "      <td>Male</td>\n",
       "      <td>27</td>\n",
       "      <td>2.0</td>\n",
       "      <td>134603.88</td>\n",
       "      <td>1</td>\n",
       "      <td>1</td>\n",
       "      <td>1</td>\n",
       "      <td>71725.73</td>\n",
       "      <td>0</td>\n",
       "    </tr>\n",
       "  </tbody>\n",
       "</table>\n",
       "</div>"
      ],
      "text/plain": [
       "   RowNumber  CustomerId   Surname  CreditScore Geography  Gender  Age  \\\n",
       "0          1    15634602  Hargrave          619    France  Female   42   \n",
       "1          2    15647311      Hill          608     Spain  Female   41   \n",
       "2          3    15619304      Onio          502    France  Female   42   \n",
       "3          4    15701354      Boni          699    France  Female   39   \n",
       "4          5    15737888  Mitchell          850     Spain  Female   43   \n",
       "5          6    15574012       Chu          645     Spain    Male   44   \n",
       "6          7    15592531  Bartlett          822    France    Male   50   \n",
       "7          8    15656148    Obinna          376   Germany  Female   29   \n",
       "8          9    15792365        He          501    France    Male   44   \n",
       "9         10    15592389        H?          684    France    Male   27   \n",
       "\n",
       "   Tenure    Balance  NumOfProducts  HasCrCard  IsActiveMember  \\\n",
       "0     2.0       0.00              1          1               1   \n",
       "1     1.0   83807.86              1          0               1   \n",
       "2     8.0  159660.80              3          1               0   \n",
       "3     1.0       0.00              2          0               0   \n",
       "4     2.0  125510.82              1          1               1   \n",
       "5     8.0  113755.78              2          1               0   \n",
       "6     7.0       0.00              2          1               1   \n",
       "7     4.0  115046.74              4          1               0   \n",
       "8     4.0  142051.07              2          0               1   \n",
       "9     2.0  134603.88              1          1               1   \n",
       "\n",
       "   EstimatedSalary  Exited  \n",
       "0        101348.88       1  \n",
       "1        112542.58       0  \n",
       "2        113931.57       1  \n",
       "3         93826.63       0  \n",
       "4         79084.10       0  \n",
       "5        149756.71       1  \n",
       "6         10062.80       0  \n",
       "7        119346.88       1  \n",
       "8         74940.50       0  \n",
       "9         71725.73       0  "
      ]
     },
     "metadata": {},
     "output_type": "display_data"
    }
   ],
   "source": [
    "display(data.head(10))"
   ]
  },
  {
   "cell_type": "markdown",
   "metadata": {},
   "source": [
    "Общая информация о колонках."
   ]
  },
  {
   "cell_type": "code",
   "execution_count": 7,
   "metadata": {},
   "outputs": [
    {
     "name": "stdout",
     "output_type": "stream",
     "text": [
      "<class 'pandas.core.frame.DataFrame'>\n",
      "RangeIndex: 10000 entries, 0 to 9999\n",
      "Data columns (total 14 columns):\n",
      " #   Column           Non-Null Count  Dtype  \n",
      "---  ------           --------------  -----  \n",
      " 0   RowNumber        10000 non-null  int64  \n",
      " 1   CustomerId       10000 non-null  int64  \n",
      " 2   Surname          10000 non-null  object \n",
      " 3   CreditScore      10000 non-null  int64  \n",
      " 4   Geography        10000 non-null  object \n",
      " 5   Gender           10000 non-null  object \n",
      " 6   Age              10000 non-null  int64  \n",
      " 7   Tenure           9091 non-null   float64\n",
      " 8   Balance          10000 non-null  float64\n",
      " 9   NumOfProducts    10000 non-null  int64  \n",
      " 10  HasCrCard        10000 non-null  int64  \n",
      " 11  IsActiveMember   10000 non-null  int64  \n",
      " 12  EstimatedSalary  10000 non-null  float64\n",
      " 13  Exited           10000 non-null  int64  \n",
      "dtypes: float64(3), int64(8), object(3)\n",
      "memory usage: 1.1+ MB\n"
     ]
    }
   ],
   "source": [
    "data.info()"
   ]
  },
  {
   "cell_type": "code",
   "execution_count": 8,
   "metadata": {},
   "outputs": [
    {
     "data": {
      "text/html": [
       "<div>\n",
       "<style scoped>\n",
       "    .dataframe tbody tr th:only-of-type {\n",
       "        vertical-align: middle;\n",
       "    }\n",
       "\n",
       "    .dataframe tbody tr th {\n",
       "        vertical-align: top;\n",
       "    }\n",
       "\n",
       "    .dataframe thead th {\n",
       "        text-align: right;\n",
       "    }\n",
       "</style>\n",
       "<table border=\"1\" class=\"dataframe\">\n",
       "  <thead>\n",
       "    <tr style=\"text-align: right;\">\n",
       "      <th></th>\n",
       "      <th>RowNumber</th>\n",
       "      <th>CustomerId</th>\n",
       "      <th>CreditScore</th>\n",
       "      <th>Age</th>\n",
       "      <th>Tenure</th>\n",
       "      <th>Balance</th>\n",
       "      <th>NumOfProducts</th>\n",
       "      <th>HasCrCard</th>\n",
       "      <th>IsActiveMember</th>\n",
       "      <th>EstimatedSalary</th>\n",
       "      <th>Exited</th>\n",
       "    </tr>\n",
       "  </thead>\n",
       "  <tbody>\n",
       "    <tr>\n",
       "      <th>count</th>\n",
       "      <td>10000.00000</td>\n",
       "      <td>1.000000e+04</td>\n",
       "      <td>10000.000000</td>\n",
       "      <td>10000.000000</td>\n",
       "      <td>9091.000000</td>\n",
       "      <td>10000.000000</td>\n",
       "      <td>10000.000000</td>\n",
       "      <td>10000.00000</td>\n",
       "      <td>10000.000000</td>\n",
       "      <td>10000.000000</td>\n",
       "      <td>10000.000000</td>\n",
       "    </tr>\n",
       "    <tr>\n",
       "      <th>mean</th>\n",
       "      <td>5000.50000</td>\n",
       "      <td>1.569094e+07</td>\n",
       "      <td>650.528800</td>\n",
       "      <td>38.921800</td>\n",
       "      <td>4.997690</td>\n",
       "      <td>76485.889288</td>\n",
       "      <td>1.530200</td>\n",
       "      <td>0.70550</td>\n",
       "      <td>0.515100</td>\n",
       "      <td>100090.239881</td>\n",
       "      <td>0.203700</td>\n",
       "    </tr>\n",
       "    <tr>\n",
       "      <th>std</th>\n",
       "      <td>2886.89568</td>\n",
       "      <td>7.193619e+04</td>\n",
       "      <td>96.653299</td>\n",
       "      <td>10.487806</td>\n",
       "      <td>2.894723</td>\n",
       "      <td>62397.405202</td>\n",
       "      <td>0.581654</td>\n",
       "      <td>0.45584</td>\n",
       "      <td>0.499797</td>\n",
       "      <td>57510.492818</td>\n",
       "      <td>0.402769</td>\n",
       "    </tr>\n",
       "    <tr>\n",
       "      <th>min</th>\n",
       "      <td>1.00000</td>\n",
       "      <td>1.556570e+07</td>\n",
       "      <td>350.000000</td>\n",
       "      <td>18.000000</td>\n",
       "      <td>0.000000</td>\n",
       "      <td>0.000000</td>\n",
       "      <td>1.000000</td>\n",
       "      <td>0.00000</td>\n",
       "      <td>0.000000</td>\n",
       "      <td>11.580000</td>\n",
       "      <td>0.000000</td>\n",
       "    </tr>\n",
       "    <tr>\n",
       "      <th>25%</th>\n",
       "      <td>2500.75000</td>\n",
       "      <td>1.562853e+07</td>\n",
       "      <td>584.000000</td>\n",
       "      <td>32.000000</td>\n",
       "      <td>2.000000</td>\n",
       "      <td>0.000000</td>\n",
       "      <td>1.000000</td>\n",
       "      <td>0.00000</td>\n",
       "      <td>0.000000</td>\n",
       "      <td>51002.110000</td>\n",
       "      <td>0.000000</td>\n",
       "    </tr>\n",
       "    <tr>\n",
       "      <th>50%</th>\n",
       "      <td>5000.50000</td>\n",
       "      <td>1.569074e+07</td>\n",
       "      <td>652.000000</td>\n",
       "      <td>37.000000</td>\n",
       "      <td>5.000000</td>\n",
       "      <td>97198.540000</td>\n",
       "      <td>1.000000</td>\n",
       "      <td>1.00000</td>\n",
       "      <td>1.000000</td>\n",
       "      <td>100193.915000</td>\n",
       "      <td>0.000000</td>\n",
       "    </tr>\n",
       "    <tr>\n",
       "      <th>75%</th>\n",
       "      <td>7500.25000</td>\n",
       "      <td>1.575323e+07</td>\n",
       "      <td>718.000000</td>\n",
       "      <td>44.000000</td>\n",
       "      <td>7.000000</td>\n",
       "      <td>127644.240000</td>\n",
       "      <td>2.000000</td>\n",
       "      <td>1.00000</td>\n",
       "      <td>1.000000</td>\n",
       "      <td>149388.247500</td>\n",
       "      <td>0.000000</td>\n",
       "    </tr>\n",
       "    <tr>\n",
       "      <th>max</th>\n",
       "      <td>10000.00000</td>\n",
       "      <td>1.581569e+07</td>\n",
       "      <td>850.000000</td>\n",
       "      <td>92.000000</td>\n",
       "      <td>10.000000</td>\n",
       "      <td>250898.090000</td>\n",
       "      <td>4.000000</td>\n",
       "      <td>1.00000</td>\n",
       "      <td>1.000000</td>\n",
       "      <td>199992.480000</td>\n",
       "      <td>1.000000</td>\n",
       "    </tr>\n",
       "  </tbody>\n",
       "</table>\n",
       "</div>"
      ],
      "text/plain": [
       "         RowNumber    CustomerId   CreditScore           Age       Tenure  \\\n",
       "count  10000.00000  1.000000e+04  10000.000000  10000.000000  9091.000000   \n",
       "mean    5000.50000  1.569094e+07    650.528800     38.921800     4.997690   \n",
       "std     2886.89568  7.193619e+04     96.653299     10.487806     2.894723   \n",
       "min        1.00000  1.556570e+07    350.000000     18.000000     0.000000   \n",
       "25%     2500.75000  1.562853e+07    584.000000     32.000000     2.000000   \n",
       "50%     5000.50000  1.569074e+07    652.000000     37.000000     5.000000   \n",
       "75%     7500.25000  1.575323e+07    718.000000     44.000000     7.000000   \n",
       "max    10000.00000  1.581569e+07    850.000000     92.000000    10.000000   \n",
       "\n",
       "             Balance  NumOfProducts    HasCrCard  IsActiveMember  \\\n",
       "count   10000.000000   10000.000000  10000.00000    10000.000000   \n",
       "mean    76485.889288       1.530200      0.70550        0.515100   \n",
       "std     62397.405202       0.581654      0.45584        0.499797   \n",
       "min         0.000000       1.000000      0.00000        0.000000   \n",
       "25%         0.000000       1.000000      0.00000        0.000000   \n",
       "50%     97198.540000       1.000000      1.00000        1.000000   \n",
       "75%    127644.240000       2.000000      1.00000        1.000000   \n",
       "max    250898.090000       4.000000      1.00000        1.000000   \n",
       "\n",
       "       EstimatedSalary        Exited  \n",
       "count     10000.000000  10000.000000  \n",
       "mean     100090.239881      0.203700  \n",
       "std       57510.492818      0.402769  \n",
       "min          11.580000      0.000000  \n",
       "25%       51002.110000      0.000000  \n",
       "50%      100193.915000      0.000000  \n",
       "75%      149388.247500      0.000000  \n",
       "max      199992.480000      1.000000  "
      ]
     },
     "execution_count": 8,
     "metadata": {},
     "output_type": "execute_result"
    }
   ],
   "source": [
    "data.describe()"
   ]
  },
  {
   "cell_type": "markdown",
   "metadata": {},
   "source": [
    "Можно отметить следующие проблемы:\n",
    "1. Колонка Tenure - есть пропущенные данные. Можно предположить, что пропущенными являются именно нулевые значения. (Недвижимости нет - значит можно ее и не указывать). Пометим, что нужно заполнить нолями.\n",
    "2. Колонки HasCrCard, IsActiveMember, Exited - необходимо привести к типу bool.\n",
    "3. Колонку Tenure можно привести к типу int.\n",
    "4. От колонок RowNumber, CustomerId, Surname можно отказаться - поскольку на факт ухода клиента от этих данных не зависит, а именно это мы и исследуем в текущей работе."
   ]
  },
  {
   "cell_type": "markdown",
   "metadata": {},
   "source": [
    "Заполним пропущенные значения столбца Tenure"
   ]
  },
  {
   "cell_type": "code",
   "execution_count": 9,
   "metadata": {},
   "outputs": [],
   "source": [
    "data['Tenure'] = data['Tenure'].fillna(0)"
   ]
  },
  {
   "cell_type": "markdown",
   "metadata": {},
   "source": [
    "Приведем данные к необходимым типам:  \n",
    "Tenure - int  \n",
    "HasCrCard, IsActiveMember, Exited - bool."
   ]
  },
  {
   "cell_type": "code",
   "execution_count": 10,
   "metadata": {},
   "outputs": [],
   "source": [
    "data['Tenure'] = data['Tenure'].astype('int')\n",
    "\n",
    "data['HasCrCard'] = data['HasCrCard'].astype('bool')\n",
    "data['IsActiveMember'] = data['IsActiveMember'].astype('bool')\n",
    "data['Exited'] = data['Exited'].astype('bool')"
   ]
  },
  {
   "cell_type": "markdown",
   "metadata": {},
   "source": [
    "Удалим лишние колонки"
   ]
  },
  {
   "cell_type": "code",
   "execution_count": 11,
   "metadata": {},
   "outputs": [],
   "source": [
    "data = data.drop(['RowNumber', 'CustomerId', 'Surname'], axis=1)"
   ]
  },
  {
   "cell_type": "markdown",
   "metadata": {},
   "source": [
    "Рассмотрим соотношение значений целевого признака"
   ]
  },
  {
   "cell_type": "code",
   "execution_count": 12,
   "metadata": {},
   "outputs": [
    {
     "data": {
      "text/plain": [
       "False    7963\n",
       "True     2037\n",
       "Name: Exited, dtype: int64"
      ]
     },
     "execution_count": 12,
     "metadata": {},
     "output_type": "execute_result"
    }
   ],
   "source": [
    "data['Exited'].value_counts()"
   ]
  },
  {
   "cell_type": "markdown",
   "metadata": {},
   "source": [
    "Соотношение примерно 1 к 4."
   ]
  },
  {
   "cell_type": "markdown",
   "metadata": {},
   "source": [
    "Заметим также, что у нас есть два категориальных столбца Gender и Geography. Модель с такими столбцами обучить мы не сможем, поэтому воспользуемся техникой прямого кодирования."
   ]
  },
  {
   "cell_type": "code",
   "execution_count": 13,
   "metadata": {},
   "outputs": [],
   "source": [
    "data = pd.get_dummies(data, drop_first = True)"
   ]
  },
  {
   "cell_type": "markdown",
   "metadata": {},
   "source": [
    "Напишем функцию для определения обучающей, валидационной, кроссвалидационной и тестовой выборок из первоначального датасета"
   ]
  },
  {
   "cell_type": "code",
   "execution_count": 14,
   "metadata": {},
   "outputs": [],
   "source": [
    "def super_split_data(data, target_field):\n",
    "    # Получим кроссвалидационную и тестовую выборки \n",
    "    data_cv, data_test = train_test_split(data, test_size=0.2, random_state=random_value, shuffle = True, stratify = data[target_field])\n",
    "    \n",
    "    # Получим обучающую и валидационную выборки \n",
    "    data_train, data_valid = train_test_split(data_cv, test_size=0.25, random_state=random_value, shuffle = True, stratify = data_cv[target_field])\n",
    "    \n",
    "    return data_train, data_valid, data_cv, data_test"
   ]
  },
  {
   "cell_type": "code",
   "execution_count": 15,
   "metadata": {},
   "outputs": [],
   "source": [
    "data_train, data_valid, data_cv, data_test = super_split_data(data, 'Exited')"
   ]
  },
  {
   "cell_type": "markdown",
   "metadata": {},
   "source": [
    "Определим функции которые будут выделять отдельно признаки и отдельно целевой признак."
   ]
  },
  {
   "cell_type": "code",
   "execution_count": 16,
   "metadata": {},
   "outputs": [],
   "source": [
    "def get_target(data, field):\n",
    "    return data[field]"
   ]
  },
  {
   "cell_type": "code",
   "execution_count": 17,
   "metadata": {},
   "outputs": [],
   "source": [
    "def get_features(data, field):\n",
    "    return data.drop([field], axis = 1)"
   ]
  },
  {
   "cell_type": "markdown",
   "metadata": {},
   "source": [
    "И функцию, возвращающую отдельно признаки и целевой признак."
   ]
  },
  {
   "cell_type": "code",
   "execution_count": 18,
   "metadata": {},
   "outputs": [],
   "source": [
    "def ftr_trgt_split(data, target_field):\n",
    "    features_train = get_features(data, target_field)\n",
    "    target_train = get_target(data, target_field)\n",
    "    return features_train, target_train"
   ]
  },
  {
   "cell_type": "markdown",
   "metadata": {},
   "source": [
    "Выделим отдельно признаки и целевой признак для обучающего датасета."
   ]
  },
  {
   "cell_type": "code",
   "execution_count": 19,
   "metadata": {},
   "outputs": [],
   "source": [
    "features_train, target_train = ftr_trgt_split(data_train, 'Exited')"
   ]
  },
  {
   "cell_type": "markdown",
   "metadata": {},
   "source": [
    "Выделим отдельно признаки и целевой признак для валидационного датасета."
   ]
  },
  {
   "cell_type": "code",
   "execution_count": 20,
   "metadata": {},
   "outputs": [],
   "source": [
    "features_valid, target_valid = ftr_trgt_split(data_valid, 'Exited')"
   ]
  },
  {
   "cell_type": "markdown",
   "metadata": {},
   "source": [
    "Выделим отдельно признаки и целевой признак для кроссвалидационного датасета."
   ]
  },
  {
   "cell_type": "code",
   "execution_count": 21,
   "metadata": {},
   "outputs": [],
   "source": [
    "features_cv, target_cv = ftr_trgt_split(data_cv, 'Exited')"
   ]
  },
  {
   "cell_type": "markdown",
   "metadata": {},
   "source": [
    "Выделим отдельно признаки и целевой признак для тестового датасета."
   ]
  },
  {
   "cell_type": "code",
   "execution_count": 22,
   "metadata": {},
   "outputs": [],
   "source": [
    "features_test, target_test = ftr_trgt_split(data_test, 'Exited')"
   ]
  },
  {
   "cell_type": "markdown",
   "metadata": {},
   "source": [
    "Посмотрим на матрицу корреляции. Заметно, что коррелирующих признаков у нас нет."
   ]
  },
  {
   "cell_type": "code",
   "execution_count": 23,
   "metadata": {},
   "outputs": [
    {
     "data": {
      "text/html": [
       "<style  type=\"text/css\" >\n",
       "#T_789d2f2d_ca21_11eb_a488_00059a3c7a00row0_col0,#T_789d2f2d_ca21_11eb_a488_00059a3c7a00row1_col1,#T_789d2f2d_ca21_11eb_a488_00059a3c7a00row2_col2,#T_789d2f2d_ca21_11eb_a488_00059a3c7a00row3_col3,#T_789d2f2d_ca21_11eb_a488_00059a3c7a00row4_col4,#T_789d2f2d_ca21_11eb_a488_00059a3c7a00row5_col5,#T_789d2f2d_ca21_11eb_a488_00059a3c7a00row6_col6,#T_789d2f2d_ca21_11eb_a488_00059a3c7a00row7_col7,#T_789d2f2d_ca21_11eb_a488_00059a3c7a00row8_col8,#T_789d2f2d_ca21_11eb_a488_00059a3c7a00row9_col9,#T_789d2f2d_ca21_11eb_a488_00059a3c7a00row10_col10{\n",
       "            background-color:  #b40426;\n",
       "            color:  #f1f1f1;\n",
       "        }#T_789d2f2d_ca21_11eb_a488_00059a3c7a00row0_col1,#T_789d2f2d_ca21_11eb_a488_00059a3c7a00row1_col2,#T_789d2f2d_ca21_11eb_a488_00059a3c7a00row3_col6,#T_789d2f2d_ca21_11eb_a488_00059a3c7a00row4_col6,#T_789d2f2d_ca21_11eb_a488_00059a3c7a00row7_col6,#T_789d2f2d_ca21_11eb_a488_00059a3c7a00row9_col1,#T_789d2f2d_ca21_11eb_a488_00059a3c7a00row10_col5{\n",
       "            background-color:  #3f53c6;\n",
       "            color:  #f1f1f1;\n",
       "        }#T_789d2f2d_ca21_11eb_a488_00059a3c7a00row0_col2,#T_789d2f2d_ca21_11eb_a488_00059a3c7a00row0_col10,#T_789d2f2d_ca21_11eb_a488_00059a3c7a00row1_col7,#T_789d2f2d_ca21_11eb_a488_00059a3c7a00row3_col5,#T_789d2f2d_ca21_11eb_a488_00059a3c7a00row5_col1,#T_789d2f2d_ca21_11eb_a488_00059a3c7a00row5_col6,#T_789d2f2d_ca21_11eb_a488_00059a3c7a00row7_col5,#T_789d2f2d_ca21_11eb_a488_00059a3c7a00row8_col6{\n",
       "            background-color:  #3e51c5;\n",
       "            color:  #f1f1f1;\n",
       "        }#T_789d2f2d_ca21_11eb_a488_00059a3c7a00row0_col3,#T_789d2f2d_ca21_11eb_a488_00059a3c7a00row5_col4,#T_789d2f2d_ca21_11eb_a488_00059a3c7a00row5_col9,#T_789d2f2d_ca21_11eb_a488_00059a3c7a00row9_col4,#T_789d2f2d_ca21_11eb_a488_00059a3c7a00row10_col3,#T_789d2f2d_ca21_11eb_a488_00059a3c7a00row10_col8{\n",
       "            background-color:  #86a9fc;\n",
       "            color:  #000000;\n",
       "        }#T_789d2f2d_ca21_11eb_a488_00059a3c7a00row0_col4,#T_789d2f2d_ca21_11eb_a488_00059a3c7a00row6_col8{\n",
       "            background-color:  #8badfd;\n",
       "            color:  #000000;\n",
       "        }#T_789d2f2d_ca21_11eb_a488_00059a3c7a00row0_col5,#T_789d2f2d_ca21_11eb_a488_00059a3c7a00row1_col5,#T_789d2f2d_ca21_11eb_a488_00059a3c7a00row2_col6,#T_789d2f2d_ca21_11eb_a488_00059a3c7a00row3_col4,#T_789d2f2d_ca21_11eb_a488_00059a3c7a00row3_col7,#T_789d2f2d_ca21_11eb_a488_00059a3c7a00row4_col1,#T_789d2f2d_ca21_11eb_a488_00059a3c7a00row4_col3,#T_789d2f2d_ca21_11eb_a488_00059a3c7a00row4_col10,#T_789d2f2d_ca21_11eb_a488_00059a3c7a00row5_col0,#T_789d2f2d_ca21_11eb_a488_00059a3c7a00row5_col7,#T_789d2f2d_ca21_11eb_a488_00059a3c7a00row6_col2,#T_789d2f2d_ca21_11eb_a488_00059a3c7a00row6_col7,#T_789d2f2d_ca21_11eb_a488_00059a3c7a00row8_col9,#T_789d2f2d_ca21_11eb_a488_00059a3c7a00row9_col5,#T_789d2f2d_ca21_11eb_a488_00059a3c7a00row9_col8,#T_789d2f2d_ca21_11eb_a488_00059a3c7a00row10_col0,#T_789d2f2d_ca21_11eb_a488_00059a3c7a00row10_col7{\n",
       "            background-color:  #3b4cc0;\n",
       "            color:  #f1f1f1;\n",
       "        }#T_789d2f2d_ca21_11eb_a488_00059a3c7a00row0_col6{\n",
       "            background-color:  #485fd1;\n",
       "            color:  #f1f1f1;\n",
       "        }#T_789d2f2d_ca21_11eb_a488_00059a3c7a00row0_col7,#T_789d2f2d_ca21_11eb_a488_00059a3c7a00row7_col2,#T_789d2f2d_ca21_11eb_a488_00059a3c7a00row7_col10,#T_789d2f2d_ca21_11eb_a488_00059a3c7a00row8_col2,#T_789d2f2d_ca21_11eb_a488_00059a3c7a00row9_col2{\n",
       "            background-color:  #4055c8;\n",
       "            color:  #f1f1f1;\n",
       "        }#T_789d2f2d_ca21_11eb_a488_00059a3c7a00row0_col8,#T_789d2f2d_ca21_11eb_a488_00059a3c7a00row0_col9,#T_789d2f2d_ca21_11eb_a488_00059a3c7a00row1_col3,#T_789d2f2d_ca21_11eb_a488_00059a3c7a00row4_col9{\n",
       "            background-color:  #8fb1fe;\n",
       "            color:  #000000;\n",
       "        }#T_789d2f2d_ca21_11eb_a488_00059a3c7a00row1_col0,#T_789d2f2d_ca21_11eb_a488_00059a3c7a00row1_col10,#T_789d2f2d_ca21_11eb_a488_00059a3c7a00row2_col7,#T_789d2f2d_ca21_11eb_a488_00059a3c7a00row3_col2,#T_789d2f2d_ca21_11eb_a488_00059a3c7a00row8_col10,#T_789d2f2d_ca21_11eb_a488_00059a3c7a00row9_col7,#T_789d2f2d_ca21_11eb_a488_00059a3c7a00row10_col1{\n",
       "            background-color:  #3c4ec2;\n",
       "            color:  #f1f1f1;\n",
       "        }#T_789d2f2d_ca21_11eb_a488_00059a3c7a00row1_col4,#T_789d2f2d_ca21_11eb_a488_00059a3c7a00row10_col4{\n",
       "            background-color:  #7b9ff9;\n",
       "            color:  #000000;\n",
       "        }#T_789d2f2d_ca21_11eb_a488_00059a3c7a00row1_col6{\n",
       "            background-color:  #5b7ae5;\n",
       "            color:  #000000;\n",
       "        }#T_789d2f2d_ca21_11eb_a488_00059a3c7a00row1_col8{\n",
       "            background-color:  #9abbff;\n",
       "            color:  #000000;\n",
       "        }#T_789d2f2d_ca21_11eb_a488_00059a3c7a00row1_col9{\n",
       "            background-color:  #88abfd;\n",
       "            color:  #000000;\n",
       "        }#T_789d2f2d_ca21_11eb_a488_00059a3c7a00row2_col0,#T_789d2f2d_ca21_11eb_a488_00059a3c7a00row6_col5,#T_789d2f2d_ca21_11eb_a488_00059a3c7a00row8_col7{\n",
       "            background-color:  #3d50c3;\n",
       "            color:  #f1f1f1;\n",
       "        }#T_789d2f2d_ca21_11eb_a488_00059a3c7a00row2_col1,#T_789d2f2d_ca21_11eb_a488_00059a3c7a00row3_col0,#T_789d2f2d_ca21_11eb_a488_00059a3c7a00row4_col7,#T_789d2f2d_ca21_11eb_a488_00059a3c7a00row5_col10,#T_789d2f2d_ca21_11eb_a488_00059a3c7a00row9_col0{\n",
       "            background-color:  #4257c9;\n",
       "            color:  #f1f1f1;\n",
       "        }#T_789d2f2d_ca21_11eb_a488_00059a3c7a00row2_col3{\n",
       "            background-color:  #80a3fa;\n",
       "            color:  #000000;\n",
       "        }#T_789d2f2d_ca21_11eb_a488_00059a3c7a00row2_col4,#T_789d2f2d_ca21_11eb_a488_00059a3c7a00row2_col8,#T_789d2f2d_ca21_11eb_a488_00059a3c7a00row2_col9,#T_789d2f2d_ca21_11eb_a488_00059a3c7a00row4_col8,#T_789d2f2d_ca21_11eb_a488_00059a3c7a00row7_col9{\n",
       "            background-color:  #8caffe;\n",
       "            color:  #000000;\n",
       "        }#T_789d2f2d_ca21_11eb_a488_00059a3c7a00row2_col5,#T_789d2f2d_ca21_11eb_a488_00059a3c7a00row4_col5,#T_789d2f2d_ca21_11eb_a488_00059a3c7a00row8_col0{\n",
       "            background-color:  #4358cb;\n",
       "            color:  #f1f1f1;\n",
       "        }#T_789d2f2d_ca21_11eb_a488_00059a3c7a00row2_col10,#T_789d2f2d_ca21_11eb_a488_00059a3c7a00row6_col10{\n",
       "            background-color:  #4c66d6;\n",
       "            color:  #000000;\n",
       "        }#T_789d2f2d_ca21_11eb_a488_00059a3c7a00row3_col1{\n",
       "            background-color:  #4e68d8;\n",
       "            color:  #000000;\n",
       "        }#T_789d2f2d_ca21_11eb_a488_00059a3c7a00row3_col8{\n",
       "            background-color:  #ead5c9;\n",
       "            color:  #000000;\n",
       "        }#T_789d2f2d_ca21_11eb_a488_00059a3c7a00row3_col9{\n",
       "            background-color:  #6788ee;\n",
       "            color:  #000000;\n",
       "        }#T_789d2f2d_ca21_11eb_a488_00059a3c7a00row3_col10,#T_789d2f2d_ca21_11eb_a488_00059a3c7a00row7_col1,#T_789d2f2d_ca21_11eb_a488_00059a3c7a00row9_col6{\n",
       "            background-color:  #455cce;\n",
       "            color:  #f1f1f1;\n",
       "        }#T_789d2f2d_ca21_11eb_a488_00059a3c7a00row4_col0,#T_789d2f2d_ca21_11eb_a488_00059a3c7a00row6_col0{\n",
       "            background-color:  #465ecf;\n",
       "            color:  #f1f1f1;\n",
       "        }#T_789d2f2d_ca21_11eb_a488_00059a3c7a00row4_col2,#T_789d2f2d_ca21_11eb_a488_00059a3c7a00row8_col5,#T_789d2f2d_ca21_11eb_a488_00059a3c7a00row9_col10{\n",
       "            background-color:  #4961d2;\n",
       "            color:  #f1f1f1;\n",
       "        }#T_789d2f2d_ca21_11eb_a488_00059a3c7a00row5_col2,#T_789d2f2d_ca21_11eb_a488_00059a3c7a00row7_col0{\n",
       "            background-color:  #445acc;\n",
       "            color:  #f1f1f1;\n",
       "        }#T_789d2f2d_ca21_11eb_a488_00059a3c7a00row5_col3,#T_789d2f2d_ca21_11eb_a488_00059a3c7a00row6_col3{\n",
       "            background-color:  #82a6fb;\n",
       "            color:  #000000;\n",
       "        }#T_789d2f2d_ca21_11eb_a488_00059a3c7a00row5_col8{\n",
       "            background-color:  #94b6ff;\n",
       "            color:  #000000;\n",
       "        }#T_789d2f2d_ca21_11eb_a488_00059a3c7a00row6_col1{\n",
       "            background-color:  #5e7de7;\n",
       "            color:  #000000;\n",
       "        }#T_789d2f2d_ca21_11eb_a488_00059a3c7a00row6_col4,#T_789d2f2d_ca21_11eb_a488_00059a3c7a00row7_col3,#T_789d2f2d_ca21_11eb_a488_00059a3c7a00row8_col4{\n",
       "            background-color:  #84a7fc;\n",
       "            color:  #000000;\n",
       "        }#T_789d2f2d_ca21_11eb_a488_00059a3c7a00row6_col9{\n",
       "            background-color:  #90b2fe;\n",
       "            color:  #000000;\n",
       "        }#T_789d2f2d_ca21_11eb_a488_00059a3c7a00row7_col4{\n",
       "            background-color:  #89acfd;\n",
       "            color:  #000000;\n",
       "        }#T_789d2f2d_ca21_11eb_a488_00059a3c7a00row7_col8{\n",
       "            background-color:  #8db0fe;\n",
       "            color:  #000000;\n",
       "        }#T_789d2f2d_ca21_11eb_a488_00059a3c7a00row8_col1{\n",
       "            background-color:  #536edd;\n",
       "            color:  #000000;\n",
       "        }#T_789d2f2d_ca21_11eb_a488_00059a3c7a00row8_col3{\n",
       "            background-color:  #e6d7cf;\n",
       "            color:  #000000;\n",
       "        }#T_789d2f2d_ca21_11eb_a488_00059a3c7a00row9_col3{\n",
       "            background-color:  #5f7fe8;\n",
       "            color:  #000000;\n",
       "        }#T_789d2f2d_ca21_11eb_a488_00059a3c7a00row10_col2{\n",
       "            background-color:  #4a63d3;\n",
       "            color:  #f1f1f1;\n",
       "        }#T_789d2f2d_ca21_11eb_a488_00059a3c7a00row10_col6{\n",
       "            background-color:  #4b64d5;\n",
       "            color:  #f1f1f1;\n",
       "        }#T_789d2f2d_ca21_11eb_a488_00059a3c7a00row10_col9{\n",
       "            background-color:  #92b4fe;\n",
       "            color:  #000000;\n",
       "        }</style><table id=\"T_789d2f2d_ca21_11eb_a488_00059a3c7a00\" ><thead>    <tr>        <th class=\"blank level0\" ></th>        <th class=\"col_heading level0 col0\" >CreditScore</th>        <th class=\"col_heading level0 col1\" >Age</th>        <th class=\"col_heading level0 col2\" >Tenure</th>        <th class=\"col_heading level0 col3\" >Balance</th>        <th class=\"col_heading level0 col4\" >NumOfProducts</th>        <th class=\"col_heading level0 col5\" >HasCrCard</th>        <th class=\"col_heading level0 col6\" >IsActiveMember</th>        <th class=\"col_heading level0 col7\" >EstimatedSalary</th>        <th class=\"col_heading level0 col8\" >Geography_Germany</th>        <th class=\"col_heading level0 col9\" >Geography_Spain</th>        <th class=\"col_heading level0 col10\" >Gender_Male</th>    </tr></thead><tbody>\n",
       "                <tr>\n",
       "                        <th id=\"T_789d2f2d_ca21_11eb_a488_00059a3c7a00level0_row0\" class=\"row_heading level0 row0\" >CreditScore</th>\n",
       "                        <td id=\"T_789d2f2d_ca21_11eb_a488_00059a3c7a00row0_col0\" class=\"data row0 col0\" >1.000000</td>\n",
       "                        <td id=\"T_789d2f2d_ca21_11eb_a488_00059a3c7a00row0_col1\" class=\"data row0 col1\" >-0.013553</td>\n",
       "                        <td id=\"T_789d2f2d_ca21_11eb_a488_00059a3c7a00row0_col2\" class=\"data row0 col2\" >-0.007534</td>\n",
       "                        <td id=\"T_789d2f2d_ca21_11eb_a488_00059a3c7a00row0_col3\" class=\"data row0 col3\" >0.009032</td>\n",
       "                        <td id=\"T_789d2f2d_ca21_11eb_a488_00059a3c7a00row0_col4\" class=\"data row0 col4\" >0.023945</td>\n",
       "                        <td id=\"T_789d2f2d_ca21_11eb_a488_00059a3c7a00row0_col5\" class=\"data row0 col5\" >-0.018227</td>\n",
       "                        <td id=\"T_789d2f2d_ca21_11eb_a488_00059a3c7a00row0_col6\" class=\"data row0 col6\" >0.022291</td>\n",
       "                        <td id=\"T_789d2f2d_ca21_11eb_a488_00059a3c7a00row0_col7\" class=\"data row0 col7\" >0.016233</td>\n",
       "                        <td id=\"T_789d2f2d_ca21_11eb_a488_00059a3c7a00row0_col8\" class=\"data row0 col8\" >0.010084</td>\n",
       "                        <td id=\"T_789d2f2d_ca21_11eb_a488_00059a3c7a00row0_col9\" class=\"data row0 col9\" >0.008098</td>\n",
       "                        <td id=\"T_789d2f2d_ca21_11eb_a488_00059a3c7a00row0_col10\" class=\"data row0 col10\" >-0.017697</td>\n",
       "            </tr>\n",
       "            <tr>\n",
       "                        <th id=\"T_789d2f2d_ca21_11eb_a488_00059a3c7a00level0_row1\" class=\"row_heading level0 row1\" >Age</th>\n",
       "                        <td id=\"T_789d2f2d_ca21_11eb_a488_00059a3c7a00row1_col0\" class=\"data row1 col0\" >-0.013553</td>\n",
       "                        <td id=\"T_789d2f2d_ca21_11eb_a488_00059a3c7a00row1_col1\" class=\"data row1 col1\" >1.000000</td>\n",
       "                        <td id=\"T_789d2f2d_ca21_11eb_a488_00059a3c7a00row1_col2\" class=\"data row1 col2\" >-0.003559</td>\n",
       "                        <td id=\"T_789d2f2d_ca21_11eb_a488_00059a3c7a00row1_col3\" class=\"data row1 col3\" >0.035900</td>\n",
       "                        <td id=\"T_789d2f2d_ca21_11eb_a488_00059a3c7a00row1_col4\" class=\"data row1 col4\" >-0.031275</td>\n",
       "                        <td id=\"T_789d2f2d_ca21_11eb_a488_00059a3c7a00row1_col5\" class=\"data row1 col5\" >-0.018478</td>\n",
       "                        <td id=\"T_789d2f2d_ca21_11eb_a488_00059a3c7a00row1_col6\" class=\"data row1 col6\" >0.088732</td>\n",
       "                        <td id=\"T_789d2f2d_ca21_11eb_a488_00059a3c7a00row1_col7\" class=\"data row1 col7\" >0.007978</td>\n",
       "                        <td id=\"T_789d2f2d_ca21_11eb_a488_00059a3c7a00row1_col8\" class=\"data row1 col8\" >0.053099</td>\n",
       "                        <td id=\"T_789d2f2d_ca21_11eb_a488_00059a3c7a00row1_col9\" class=\"data row1 col9\" >-0.013428</td>\n",
       "                        <td id=\"T_789d2f2d_ca21_11eb_a488_00059a3c7a00row1_col10\" class=\"data row1 col10\" >-0.023332</td>\n",
       "            </tr>\n",
       "            <tr>\n",
       "                        <th id=\"T_789d2f2d_ca21_11eb_a488_00059a3c7a00level0_row2\" class=\"row_heading level0 row2\" >Tenure</th>\n",
       "                        <td id=\"T_789d2f2d_ca21_11eb_a488_00059a3c7a00row2_col0\" class=\"data row2 col0\" >-0.007534</td>\n",
       "                        <td id=\"T_789d2f2d_ca21_11eb_a488_00059a3c7a00row2_col1\" class=\"data row2 col1\" >-0.003559</td>\n",
       "                        <td id=\"T_789d2f2d_ca21_11eb_a488_00059a3c7a00row2_col2\" class=\"data row2 col2\" >1.000000</td>\n",
       "                        <td id=\"T_789d2f2d_ca21_11eb_a488_00059a3c7a00row2_col3\" class=\"data row2 col3\" >-0.017577</td>\n",
       "                        <td id=\"T_789d2f2d_ca21_11eb_a488_00059a3c7a00row2_col4\" class=\"data row2 col4\" >0.025855</td>\n",
       "                        <td id=\"T_789d2f2d_ca21_11eb_a488_00059a3c7a00row2_col5\" class=\"data row2 col5\" >0.012582</td>\n",
       "                        <td id=\"T_789d2f2d_ca21_11eb_a488_00059a3c7a00row2_col6\" class=\"data row2 col6\" >-0.022474</td>\n",
       "                        <td id=\"T_789d2f2d_ca21_11eb_a488_00059a3c7a00row2_col7\" class=\"data row2 col7\" >0.000699</td>\n",
       "                        <td id=\"T_789d2f2d_ca21_11eb_a488_00059a3c7a00row2_col8\" class=\"data row2 col8\" >-0.000241</td>\n",
       "                        <td id=\"T_789d2f2d_ca21_11eb_a488_00059a3c7a00row2_col9\" class=\"data row2 col9\" >-0.001782</td>\n",
       "                        <td id=\"T_789d2f2d_ca21_11eb_a488_00059a3c7a00row2_col10\" class=\"data row2 col10\" >0.031864</td>\n",
       "            </tr>\n",
       "            <tr>\n",
       "                        <th id=\"T_789d2f2d_ca21_11eb_a488_00059a3c7a00level0_row3\" class=\"row_heading level0 row3\" >Balance</th>\n",
       "                        <td id=\"T_789d2f2d_ca21_11eb_a488_00059a3c7a00row3_col0\" class=\"data row3 col0\" >0.009032</td>\n",
       "                        <td id=\"T_789d2f2d_ca21_11eb_a488_00059a3c7a00row3_col1\" class=\"data row3 col1\" >0.035900</td>\n",
       "                        <td id=\"T_789d2f2d_ca21_11eb_a488_00059a3c7a00row3_col2\" class=\"data row3 col2\" >-0.017577</td>\n",
       "                        <td id=\"T_789d2f2d_ca21_11eb_a488_00059a3c7a00row3_col3\" class=\"data row3 col3\" >1.000000</td>\n",
       "                        <td id=\"T_789d2f2d_ca21_11eb_a488_00059a3c7a00row3_col4\" class=\"data row3 col4\" >-0.292605</td>\n",
       "                        <td id=\"T_789d2f2d_ca21_11eb_a488_00059a3c7a00row3_col5\" class=\"data row3 col5\" >-0.005314</td>\n",
       "                        <td id=\"T_789d2f2d_ca21_11eb_a488_00059a3c7a00row3_col6\" class=\"data row3 col6\" >-0.004859</td>\n",
       "                        <td id=\"T_789d2f2d_ca21_11eb_a488_00059a3c7a00row3_col7\" class=\"data row3 col7\" >-0.004243</td>\n",
       "                        <td id=\"T_789d2f2d_ca21_11eb_a488_00059a3c7a00row3_col8\" class=\"data row3 col8\" >0.402504</td>\n",
       "                        <td id=\"T_789d2f2d_ca21_11eb_a488_00059a3c7a00row3_col9\" class=\"data row3 col9\" >-0.139661</td>\n",
       "                        <td id=\"T_789d2f2d_ca21_11eb_a488_00059a3c7a00row3_col10\" class=\"data row3 col10\" >0.007500</td>\n",
       "            </tr>\n",
       "            <tr>\n",
       "                        <th id=\"T_789d2f2d_ca21_11eb_a488_00059a3c7a00level0_row4\" class=\"row_heading level0 row4\" >NumOfProducts</th>\n",
       "                        <td id=\"T_789d2f2d_ca21_11eb_a488_00059a3c7a00row4_col0\" class=\"data row4 col0\" >0.023945</td>\n",
       "                        <td id=\"T_789d2f2d_ca21_11eb_a488_00059a3c7a00row4_col1\" class=\"data row4 col1\" >-0.031275</td>\n",
       "                        <td id=\"T_789d2f2d_ca21_11eb_a488_00059a3c7a00row4_col2\" class=\"data row4 col2\" >0.025855</td>\n",
       "                        <td id=\"T_789d2f2d_ca21_11eb_a488_00059a3c7a00row4_col3\" class=\"data row4 col3\" >-0.292605</td>\n",
       "                        <td id=\"T_789d2f2d_ca21_11eb_a488_00059a3c7a00row4_col4\" class=\"data row4 col4\" >1.000000</td>\n",
       "                        <td id=\"T_789d2f2d_ca21_11eb_a488_00059a3c7a00row4_col5\" class=\"data row4 col5\" >0.009876</td>\n",
       "                        <td id=\"T_789d2f2d_ca21_11eb_a488_00059a3c7a00row4_col6\" class=\"data row4 col6\" >-0.002524</td>\n",
       "                        <td id=\"T_789d2f2d_ca21_11eb_a488_00059a3c7a00row4_col7\" class=\"data row4 col7\" >0.020266</td>\n",
       "                        <td id=\"T_789d2f2d_ca21_11eb_a488_00059a3c7a00row4_col8\" class=\"data row4 col8\" >-0.001764</td>\n",
       "                        <td id=\"T_789d2f2d_ca21_11eb_a488_00059a3c7a00row4_col9\" class=\"data row4 col9\" >0.009144</td>\n",
       "                        <td id=\"T_789d2f2d_ca21_11eb_a488_00059a3c7a00row4_col10\" class=\"data row4 col10\" >-0.030170</td>\n",
       "            </tr>\n",
       "            <tr>\n",
       "                        <th id=\"T_789d2f2d_ca21_11eb_a488_00059a3c7a00level0_row5\" class=\"row_heading level0 row5\" >HasCrCard</th>\n",
       "                        <td id=\"T_789d2f2d_ca21_11eb_a488_00059a3c7a00row5_col0\" class=\"data row5 col0\" >-0.018227</td>\n",
       "                        <td id=\"T_789d2f2d_ca21_11eb_a488_00059a3c7a00row5_col1\" class=\"data row5 col1\" >-0.018478</td>\n",
       "                        <td id=\"T_789d2f2d_ca21_11eb_a488_00059a3c7a00row5_col2\" class=\"data row5 col2\" >0.012582</td>\n",
       "                        <td id=\"T_789d2f2d_ca21_11eb_a488_00059a3c7a00row5_col3\" class=\"data row5 col3\" >-0.005314</td>\n",
       "                        <td id=\"T_789d2f2d_ca21_11eb_a488_00059a3c7a00row5_col4\" class=\"data row5 col4\" >0.009876</td>\n",
       "                        <td id=\"T_789d2f2d_ca21_11eb_a488_00059a3c7a00row5_col5\" class=\"data row5 col5\" >1.000000</td>\n",
       "                        <td id=\"T_789d2f2d_ca21_11eb_a488_00059a3c7a00row5_col6\" class=\"data row5 col6\" >-0.009788</td>\n",
       "                        <td id=\"T_789d2f2d_ca21_11eb_a488_00059a3c7a00row5_col7\" class=\"data row5 col7\" >-0.004466</td>\n",
       "                        <td id=\"T_789d2f2d_ca21_11eb_a488_00059a3c7a00row5_col8\" class=\"data row5 col8\" >0.030326</td>\n",
       "                        <td id=\"T_789d2f2d_ca21_11eb_a488_00059a3c7a00row5_col9\" class=\"data row5 col9\" >-0.019268</td>\n",
       "                        <td id=\"T_789d2f2d_ca21_11eb_a488_00059a3c7a00row5_col10\" class=\"data row5 col10\" >-0.002305</td>\n",
       "            </tr>\n",
       "            <tr>\n",
       "                        <th id=\"T_789d2f2d_ca21_11eb_a488_00059a3c7a00level0_row6\" class=\"row_heading level0 row6\" >IsActiveMember</th>\n",
       "                        <td id=\"T_789d2f2d_ca21_11eb_a488_00059a3c7a00row6_col0\" class=\"data row6 col0\" >0.022291</td>\n",
       "                        <td id=\"T_789d2f2d_ca21_11eb_a488_00059a3c7a00row6_col1\" class=\"data row6 col1\" >0.088732</td>\n",
       "                        <td id=\"T_789d2f2d_ca21_11eb_a488_00059a3c7a00row6_col2\" class=\"data row6 col2\" >-0.022474</td>\n",
       "                        <td id=\"T_789d2f2d_ca21_11eb_a488_00059a3c7a00row6_col3\" class=\"data row6 col3\" >-0.004859</td>\n",
       "                        <td id=\"T_789d2f2d_ca21_11eb_a488_00059a3c7a00row6_col4\" class=\"data row6 col4\" >-0.002524</td>\n",
       "                        <td id=\"T_789d2f2d_ca21_11eb_a488_00059a3c7a00row6_col5\" class=\"data row6 col5\" >-0.009788</td>\n",
       "                        <td id=\"T_789d2f2d_ca21_11eb_a488_00059a3c7a00row6_col6\" class=\"data row6 col6\" >1.000000</td>\n",
       "                        <td id=\"T_789d2f2d_ca21_11eb_a488_00059a3c7a00row6_col7\" class=\"data row6 col7\" >-0.004721</td>\n",
       "                        <td id=\"T_789d2f2d_ca21_11eb_a488_00059a3c7a00row6_col8\" class=\"data row6 col8\" >-0.007708</td>\n",
       "                        <td id=\"T_789d2f2d_ca21_11eb_a488_00059a3c7a00row6_col9\" class=\"data row6 col9\" >0.013719</td>\n",
       "                        <td id=\"T_789d2f2d_ca21_11eb_a488_00059a3c7a00row6_col10\" class=\"data row6 col10\" >0.033578</td>\n",
       "            </tr>\n",
       "            <tr>\n",
       "                        <th id=\"T_789d2f2d_ca21_11eb_a488_00059a3c7a00level0_row7\" class=\"row_heading level0 row7\" >EstimatedSalary</th>\n",
       "                        <td id=\"T_789d2f2d_ca21_11eb_a488_00059a3c7a00row7_col0\" class=\"data row7 col0\" >0.016233</td>\n",
       "                        <td id=\"T_789d2f2d_ca21_11eb_a488_00059a3c7a00row7_col1\" class=\"data row7 col1\" >0.007978</td>\n",
       "                        <td id=\"T_789d2f2d_ca21_11eb_a488_00059a3c7a00row7_col2\" class=\"data row7 col2\" >0.000699</td>\n",
       "                        <td id=\"T_789d2f2d_ca21_11eb_a488_00059a3c7a00row7_col3\" class=\"data row7 col3\" >-0.004243</td>\n",
       "                        <td id=\"T_789d2f2d_ca21_11eb_a488_00059a3c7a00row7_col4\" class=\"data row7 col4\" >0.020266</td>\n",
       "                        <td id=\"T_789d2f2d_ca21_11eb_a488_00059a3c7a00row7_col5\" class=\"data row7 col5\" >-0.004466</td>\n",
       "                        <td id=\"T_789d2f2d_ca21_11eb_a488_00059a3c7a00row7_col6\" class=\"data row7 col6\" >-0.004721</td>\n",
       "                        <td id=\"T_789d2f2d_ca21_11eb_a488_00059a3c7a00row7_col7\" class=\"data row7 col7\" >1.000000</td>\n",
       "                        <td id=\"T_789d2f2d_ca21_11eb_a488_00059a3c7a00row7_col8\" class=\"data row7 col8\" >0.004729</td>\n",
       "                        <td id=\"T_789d2f2d_ca21_11eb_a488_00059a3c7a00row7_col9\" class=\"data row7 col9\" >-0.001947</td>\n",
       "                        <td id=\"T_789d2f2d_ca21_11eb_a488_00059a3c7a00row7_col10\" class=\"data row7 col10\" >-0.006840</td>\n",
       "            </tr>\n",
       "            <tr>\n",
       "                        <th id=\"T_789d2f2d_ca21_11eb_a488_00059a3c7a00level0_row8\" class=\"row_heading level0 row8\" >Geography_Germany</th>\n",
       "                        <td id=\"T_789d2f2d_ca21_11eb_a488_00059a3c7a00row8_col0\" class=\"data row8 col0\" >0.010084</td>\n",
       "                        <td id=\"T_789d2f2d_ca21_11eb_a488_00059a3c7a00row8_col1\" class=\"data row8 col1\" >0.053099</td>\n",
       "                        <td id=\"T_789d2f2d_ca21_11eb_a488_00059a3c7a00row8_col2\" class=\"data row8 col2\" >-0.000241</td>\n",
       "                        <td id=\"T_789d2f2d_ca21_11eb_a488_00059a3c7a00row8_col3\" class=\"data row8 col3\" >0.402504</td>\n",
       "                        <td id=\"T_789d2f2d_ca21_11eb_a488_00059a3c7a00row8_col4\" class=\"data row8 col4\" >-0.001764</td>\n",
       "                        <td id=\"T_789d2f2d_ca21_11eb_a488_00059a3c7a00row8_col5\" class=\"data row8 col5\" >0.030326</td>\n",
       "                        <td id=\"T_789d2f2d_ca21_11eb_a488_00059a3c7a00row8_col6\" class=\"data row8 col6\" >-0.007708</td>\n",
       "                        <td id=\"T_789d2f2d_ca21_11eb_a488_00059a3c7a00row8_col7\" class=\"data row8 col7\" >0.004729</td>\n",
       "                        <td id=\"T_789d2f2d_ca21_11eb_a488_00059a3c7a00row8_col8\" class=\"data row8 col8\" >1.000000</td>\n",
       "                        <td id=\"T_789d2f2d_ca21_11eb_a488_00059a3c7a00row8_col9\" class=\"data row8 col9\" >-0.330374</td>\n",
       "                        <td id=\"T_789d2f2d_ca21_11eb_a488_00059a3c7a00row8_col10\" class=\"data row8 col10\" >-0.023080</td>\n",
       "            </tr>\n",
       "            <tr>\n",
       "                        <th id=\"T_789d2f2d_ca21_11eb_a488_00059a3c7a00level0_row9\" class=\"row_heading level0 row9\" >Geography_Spain</th>\n",
       "                        <td id=\"T_789d2f2d_ca21_11eb_a488_00059a3c7a00row9_col0\" class=\"data row9 col0\" >0.008098</td>\n",
       "                        <td id=\"T_789d2f2d_ca21_11eb_a488_00059a3c7a00row9_col1\" class=\"data row9 col1\" >-0.013428</td>\n",
       "                        <td id=\"T_789d2f2d_ca21_11eb_a488_00059a3c7a00row9_col2\" class=\"data row9 col2\" >-0.001782</td>\n",
       "                        <td id=\"T_789d2f2d_ca21_11eb_a488_00059a3c7a00row9_col3\" class=\"data row9 col3\" >-0.139661</td>\n",
       "                        <td id=\"T_789d2f2d_ca21_11eb_a488_00059a3c7a00row9_col4\" class=\"data row9 col4\" >0.009144</td>\n",
       "                        <td id=\"T_789d2f2d_ca21_11eb_a488_00059a3c7a00row9_col5\" class=\"data row9 col5\" >-0.019268</td>\n",
       "                        <td id=\"T_789d2f2d_ca21_11eb_a488_00059a3c7a00row9_col6\" class=\"data row9 col6\" >0.013719</td>\n",
       "                        <td id=\"T_789d2f2d_ca21_11eb_a488_00059a3c7a00row9_col7\" class=\"data row9 col7\" >-0.001947</td>\n",
       "                        <td id=\"T_789d2f2d_ca21_11eb_a488_00059a3c7a00row9_col8\" class=\"data row9 col8\" >-0.330374</td>\n",
       "                        <td id=\"T_789d2f2d_ca21_11eb_a488_00059a3c7a00row9_col9\" class=\"data row9 col9\" >1.000000</td>\n",
       "                        <td id=\"T_789d2f2d_ca21_11eb_a488_00059a3c7a00row9_col10\" class=\"data row9 col10\" >0.022142</td>\n",
       "            </tr>\n",
       "            <tr>\n",
       "                        <th id=\"T_789d2f2d_ca21_11eb_a488_00059a3c7a00level0_row10\" class=\"row_heading level0 row10\" >Gender_Male</th>\n",
       "                        <td id=\"T_789d2f2d_ca21_11eb_a488_00059a3c7a00row10_col0\" class=\"data row10 col0\" >-0.017697</td>\n",
       "                        <td id=\"T_789d2f2d_ca21_11eb_a488_00059a3c7a00row10_col1\" class=\"data row10 col1\" >-0.023332</td>\n",
       "                        <td id=\"T_789d2f2d_ca21_11eb_a488_00059a3c7a00row10_col2\" class=\"data row10 col2\" >0.031864</td>\n",
       "                        <td id=\"T_789d2f2d_ca21_11eb_a488_00059a3c7a00row10_col3\" class=\"data row10 col3\" >0.007500</td>\n",
       "                        <td id=\"T_789d2f2d_ca21_11eb_a488_00059a3c7a00row10_col4\" class=\"data row10 col4\" >-0.030170</td>\n",
       "                        <td id=\"T_789d2f2d_ca21_11eb_a488_00059a3c7a00row10_col5\" class=\"data row10 col5\" >-0.002305</td>\n",
       "                        <td id=\"T_789d2f2d_ca21_11eb_a488_00059a3c7a00row10_col6\" class=\"data row10 col6\" >0.033578</td>\n",
       "                        <td id=\"T_789d2f2d_ca21_11eb_a488_00059a3c7a00row10_col7\" class=\"data row10 col7\" >-0.006840</td>\n",
       "                        <td id=\"T_789d2f2d_ca21_11eb_a488_00059a3c7a00row10_col8\" class=\"data row10 col8\" >-0.023080</td>\n",
       "                        <td id=\"T_789d2f2d_ca21_11eb_a488_00059a3c7a00row10_col9\" class=\"data row10 col9\" >0.022142</td>\n",
       "                        <td id=\"T_789d2f2d_ca21_11eb_a488_00059a3c7a00row10_col10\" class=\"data row10 col10\" >1.000000</td>\n",
       "            </tr>\n",
       "    </tbody></table>"
      ],
      "text/plain": [
       "<pandas.io.formats.style.Styler at 0xc21f520>"
      ]
     },
     "execution_count": 23,
     "metadata": {},
     "output_type": "execute_result"
    }
   ],
   "source": [
    "corr = features_train.corr()\n",
    "corr.style.background_gradient(cmap='coolwarm')"
   ]
  },
  {
   "cell_type": "markdown",
   "metadata": {},
   "source": [
    "## Вывод\n",
    "\n",
    "В ходе первичного анализа данных были обнаружены и решены следующие проблемы:\n",
    "\n",
    "    Колонка Tenure - есть пропущенные данные. Можно предположить, что пропущенными являются именно нулевые значения. (Недвижимости нет - значит можно ее и не указывать). Пометим, что нужно заполнить нолями.\n",
    "    Колонки HasCrCard, IsActiveMember, Exited - необходимо привести к типу bool.\n",
    "    Колонку Tenure можно привести к типу int.\n",
    "    От колонок RowNumber, CustomerId, Surname можно отказаться - поскольку на факт ухода клиента от этих данных не зависит, а именно это мы и исследуем в текущей работе.\n",
    "\n",
    "Далее было рассмотрено соотношение значений целевого признака - 1 к 4.  \n",
    "После чего исходный датасет был разбит на обучающую, валидационную, кроссвалидационную и тестовую выборки, которые в свою очередь были отдельно разделены на признаки и целевой признак. \n",
    "\n",
    "На обучающем датасете построили матрицу корреляции и выявили, что коррелирующих признаков у нас нет."
   ]
  },
  {
   "cell_type": "markdown",
   "metadata": {},
   "source": [
    "# 2. Исследование задачи"
   ]
  },
  {
   "cell_type": "markdown",
   "metadata": {},
   "source": [
    "## Дерево решений"
   ]
  },
  {
   "cell_type": "markdown",
   "metadata": {},
   "source": [
    "Попробуем обучить модели без учета дисбаланса классов.  \n",
    "Начнем с модели \"Дерево решений\".\n",
    "\n",
    "Переберем модели со следующими вариантами параметров:  \n",
    "\n",
    "    макс. глубина - от 1 до 10.  \n",
    "    мин. число образцов в листах - 10 значений в диапазоне от 2 до 50 с одинаковым интервалом.  \n",
    "    \n",
    "И оформим нахождение модели в функцию, которую дальше будем использовать на измененной обучающей выборке."
   ]
  },
  {
   "cell_type": "markdown",
   "metadata": {},
   "source": [
    "Предварительно напишем другую функцию, которая будет подбирать наилучший порог под максимальное значение F1-меры.   \n",
    "Рассматриваемые значения порога от 0 до 1 с интервалом 0,1."
   ]
  },
  {
   "cell_type": "code",
   "execution_count": 24,
   "metadata": {},
   "outputs": [],
   "source": [
    "def find_best_f1(model, features, target):\n",
    "    \n",
    "    probabilities = model.predict_proba(features)\n",
    "    probabilities_one = probabilities[:, 1]\n",
    "\n",
    "    max_f1 = 0\n",
    "    Best_Threshold = 0\n",
    "    \n",
    "    for threshold in np.arange(0.01, 1, 0.1):\n",
    "        predicted = (probabilities_one > threshold)\n",
    "        f1 = f1_score(target, predicted)\n",
    "        \n",
    "        if(max_f1 < f1):\n",
    "            max_f1 = f1  \n",
    "            Best_Threshold = threshold\n",
    "    return Best_Threshold, max_f1"
   ]
  },
  {
   "cell_type": "code",
   "execution_count": 25,
   "metadata": {},
   "outputs": [],
   "source": [
    "def My_DecisionTreeClassifier(features_train, target_train, features_valid, target_valid, c_weight = None):\n",
    "    best_depth = None\n",
    "    best_leaf = 0\n",
    "    best_F1 = 0\n",
    "    best_model_tree = None\n",
    "    best_threshold = 0\n",
    "    \n",
    "    for depth in range(1, 10):\n",
    "        for leaf in np.linspace(2, 50, num=10, endpoint=True, retstep=False, dtype='int'):\n",
    "            model_tree = DecisionTreeClassifier(random_state = random_value, \n",
    "                                                min_samples_leaf = leaf, \n",
    "                                                max_depth = depth, \n",
    "                                                class_weight = c_weight);\n",
    "            model_tree.fit(features_train, target_train) \n",
    "            #predictions = model_tree.predict(features_valid) # для однозначного определения класса\n",
    "            threshold, result = find_best_f1(model_tree, features_valid, target_valid) \n",
    "            #f1_score(target_valid, predictions); # для однозначного определения класса\n",
    "            if result > best_F1:\n",
    "                best_depth = depth\n",
    "                best_leaf = leaf\n",
    "                best_F1 = result\n",
    "                best_model_tree = model_tree\n",
    "                best_threshold = threshold\n",
    "                \n",
    "    print(\"Порог:\", best_threshold)\n",
    "    print(\"F1-мера наилучшей модели на валидационной выборке:\", best_F1)\n",
    "    print(\"Наилучшее количество примеров в листе:\", best_leaf)\n",
    "    print(\"Наилучшая глубина дерева:\", best_depth)\n",
    "    \n",
    "    return best_model_tree"
   ]
  },
  {
   "cell_type": "code",
   "execution_count": 26,
   "metadata": {},
   "outputs": [
    {
     "name": "stdout",
     "output_type": "stream",
     "text": [
      "Порог: 0.41000000000000003\n",
      "F1-мера наилучшей модели на валидационной выборке: 0.616643929058663\n",
      "Наилучшее количество примеров в листе: 7\n",
      "Наилучшая глубина дерева: 7\n",
      "Wall time: 3.95 s\n"
     ]
    }
   ],
   "source": [
    "%%time\n",
    "best_model_tree = My_DecisionTreeClassifier(features_train, target_train, features_valid, target_valid)"
   ]
  },
  {
   "cell_type": "markdown",
   "metadata": {},
   "source": [
    "Рассчитаем статистические параметры модели. \n",
    "\n",
    "Напишем специальную функцию:"
   ]
  },
  {
   "cell_type": "code",
   "execution_count": 27,
   "metadata": {},
   "outputs": [],
   "source": [
    "# Используется при вероятностном определении класса\n",
    "def ModelStat_Info(model, features, target):\n",
    "    \n",
    "    probabilities = model.predict_proba(features)\n",
    "    probabilities_one = probabilities[:, 1]\n",
    "\n",
    "    max_f1 = 0\n",
    "    recall = 0\n",
    "    precision = 0\n",
    "    auc_roc = 0\n",
    "    Best_Threshold = 0\n",
    "    \n",
    "    for threshold in np.arange(0.01, 1, 0.1):\n",
    "        predicted = (probabilities_one > threshold)\n",
    "        f1 = f1_score(target, predicted)\n",
    "        \n",
    "        if(max_f1 < f1):\n",
    "            max_f1 = f1\n",
    "            recall = recall_score(target, predicted)\n",
    "            precision = precision_score(target, predicted)\n",
    "            auc_roc = roc_auc_score(target, predicted)   \n",
    "            Best_Threshold = threshold\n",
    "    print('Порог : {}'.format(Best_Threshold))        \n",
    "    print('Полнота : {}'.format(recall))\n",
    "    print('Точность : {}'.format(precision))\n",
    "    print('F1-мера : {}'.format(max_f1))\n",
    "    print('AUC-ROC : {}'.format(auc_roc))\n",
    "        "
   ]
  },
  {
   "cell_type": "code",
   "execution_count": 28,
   "metadata": {},
   "outputs": [],
   "source": [
    "# Используется при однозначном определении класса\n",
    "def ModelStat_Info2(model, features, target):\n",
    "    predictions = model.predict(features) \n",
    "    print('Матрица ошибок : {}'\n",
    "          .format(confusion_matrix(target, predictions)))\n",
    "\n",
    "    print('Полнота : {}'.format(recall_score(target_, predictions)))\n",
    "    print('Точность : {}'.format(precision_score(target, predictions)))\n",
    "    print('F1-мера : {}'.format(f1_score(target, predictions)))\n",
    "    \n",
    "    probabilities = model.predict_proba(features)\n",
    "    probabilities_one = probabilities[:, 1]\n",
    "    auc_roc = roc_auc_score(target, probabilities_one)\n",
    "    print('AUC-ROC : {}'.format(auc_roc))"
   ]
  },
  {
   "cell_type": "markdown",
   "metadata": {},
   "source": [
    "Результаты на обучающей выборке:"
   ]
  },
  {
   "cell_type": "code",
   "execution_count": 29,
   "metadata": {},
   "outputs": [
    {
     "name": "stdout",
     "output_type": "stream",
     "text": [
      "Порог : 0.31000000000000005\n",
      "Полнота : 0.6909239574816026\n",
      "Точность : 0.5913226032190343\n",
      "F1-мера : 0.6372549019607844\n",
      "AUC-ROC : 0.7843357488894301\n"
     ]
    }
   ],
   "source": [
    "ModelStat_Info(best_model_tree, features_train, target_train)"
   ]
  },
  {
   "cell_type": "markdown",
   "metadata": {},
   "source": [
    "Результаты на валидационной выборке:"
   ]
  },
  {
   "cell_type": "code",
   "execution_count": 30,
   "metadata": {},
   "outputs": [
    {
     "name": "stdout",
     "output_type": "stream",
     "text": [
      "Порог : 0.41000000000000003\n",
      "Полнота : 0.5552825552825553\n",
      "Точность : 0.6932515337423313\n",
      "F1-мера : 0.616643929058663\n",
      "AUC-ROC : 0.7462539581183649\n"
     ]
    }
   ],
   "source": [
    "ModelStat_Info(best_model_tree, features_valid, target_valid)"
   ]
  },
  {
   "cell_type": "markdown",
   "metadata": {},
   "source": [
    "## Случайный лес"
   ]
  },
  {
   "cell_type": "markdown",
   "metadata": {},
   "source": [
    "Переберем модели со следующими вариантами параметров:  \n",
    "\n",
    "    Количество деревьев - от 10 до 150 с интервалом 10\n",
    "    макс. глубина - от 1 до 15 с интервалом 1\n",
    "    \n",
    "И оформим нахождение модели в функцию, которую дальше будем использовать на измененной обучающей выборке."
   ]
  },
  {
   "cell_type": "code",
   "execution_count": 31,
   "metadata": {},
   "outputs": [],
   "source": [
    "def My_RandomForestClassifier(features_train, target_train, features_valid, target_valid, c_weight = None):\n",
    "    best_fg_model = None\n",
    "    best_fg_result = 0\n",
    "    best_fg_est = 0\n",
    "    best_fg_depth = 0\n",
    "    best_threshold = 0\n",
    "    \n",
    "    for est in range(10, 150, 10):\n",
    "        for depthh in range(1, 15, 1):\n",
    "            model = RandomForestClassifier(\n",
    "                random_state=random_value, \n",
    "                max_depth = depthh, \n",
    "                n_estimators=est,\n",
    "                criterion = 'gini', \n",
    "                class_weight=c_weight)\n",
    "            model.fit(features_train, target_train)\n",
    "            \n",
    "                # Используется при однозначном определении класса\n",
    "            #predictions = model.predict(features_valid)\n",
    "            #result = f1_score(predictions, target_valid)\n",
    "            \n",
    "                # Используется при вероятностном определении класса\n",
    "            threshold, result = find_best_f1(model, features_valid, target_valid) \n",
    "            \n",
    "            if result > best_fg_result:\n",
    "                best_fg_model = model\n",
    "                best_fg_est = est\n",
    "                best_fg_depth = depthh\n",
    "                best_fg_result = result\n",
    "                best_threshold = threshold\n",
    "                \n",
    "                \n",
    "    print(\"Порог:\", threshold)\n",
    "    print(\"F1-мера наилучшей модели на валидационной выборке:\", best_fg_result)\n",
    "    print(\"Наилучшее количество деревьев:\", best_fg_est)\n",
    "    print(\"Наилучшая глубина дерева:\", best_fg_depth)\n",
    "  #  print(\"Минимальное количество примеров для разделения узла:\", best_min_samples_split)\n",
    "    \n",
    "    return best_fg_model"
   ]
  },
  {
   "cell_type": "code",
   "execution_count": 32,
   "metadata": {},
   "outputs": [
    {
     "name": "stdout",
     "output_type": "stream",
     "text": [
      "Порог: 0.31000000000000005\n",
      "F1-мера наилучшей модели на валидационной выборке: 0.6360153256704981\n",
      "Наилучшее количество деревьев: 130\n",
      "Наилучшая глубина дерева: 8\n",
      "Wall time: 1min 40s\n"
     ]
    }
   ],
   "source": [
    "%%time\n",
    "best_fg_model = My_RandomForestClassifier(features_train, target_train, features_valid, target_valid)"
   ]
  },
  {
   "cell_type": "markdown",
   "metadata": {},
   "source": [
    "Результаты на обучающей выборке:"
   ]
  },
  {
   "cell_type": "code",
   "execution_count": 33,
   "metadata": {},
   "outputs": [
    {
     "name": "stdout",
     "output_type": "stream",
     "text": [
      "Порог : 0.31000000000000005\n",
      "Полнота : 0.6590351594439902\n",
      "Точность : 0.7367458866544789\n",
      "F1-мера : 0.6957272334915839\n",
      "AUC-ROC : 0.7993731376035108\n"
     ]
    }
   ],
   "source": [
    "ModelStat_Info(best_fg_model, features_train, target_train)"
   ]
  },
  {
   "cell_type": "markdown",
   "metadata": {},
   "source": [
    "Результаты на валидационной выборке: "
   ]
  },
  {
   "cell_type": "code",
   "execution_count": 34,
   "metadata": {},
   "outputs": [
    {
     "name": "stdout",
     "output_type": "stream",
     "text": [
      "Порог : 0.31000000000000005\n",
      "Полнота : 0.6117936117936118\n",
      "Точность : 0.6622340425531915\n",
      "F1-мера : 0.6360153256704981\n",
      "AUC-ROC : 0.7660349101027067\n"
     ]
    }
   ],
   "source": [
    "ModelStat_Info(best_fg_model, features_valid, target_valid)"
   ]
  },
  {
   "cell_type": "markdown",
   "metadata": {},
   "source": [
    "## Логистическая регрессия"
   ]
  },
  {
   "cell_type": "code",
   "execution_count": 35,
   "metadata": {},
   "outputs": [],
   "source": [
    "def My_LogisticRegression(features_train, target_train, features_valid, target_valid, c_weight = None):\n",
    "    model_logRegression = LogisticRegression(random_state = random_value, solver='liblinear', class_weight=c_weight)\n",
    "    model_logRegression.fit(features_train, target_train)\n",
    "        \n",
    "        # Используется при однозначном определении класса\n",
    "    #predictions = model_logRegression.predict(features_valid)\n",
    "        \n",
    "        # Используется при вероятностном определении класса\n",
    "    threshold, result = find_best_f1(model_logRegression, features_valid, target_valid) \n",
    "    \n",
    "    print(\"Порог:\", threshold)\n",
    "    print('F1-мера : {}'.format(result))\n",
    "    \n",
    "    return model_logRegression"
   ]
  },
  {
   "cell_type": "code",
   "execution_count": 36,
   "metadata": {},
   "outputs": [
    {
     "name": "stdout",
     "output_type": "stream",
     "text": [
      "Порог: 0.21000000000000002\n",
      "F1-мера : 0.3866459627329193\n"
     ]
    }
   ],
   "source": [
    "model_logRegression = My_LogisticRegression(features_train, target_train, features_valid, target_valid)"
   ]
  },
  {
   "cell_type": "code",
   "execution_count": 37,
   "metadata": {},
   "outputs": [
    {
     "name": "stdout",
     "output_type": "stream",
     "text": [
      "Порог : 0.21000000000000002\n",
      "Полнота : 0.6117936117936118\n",
      "Точность : 0.282633371169126\n",
      "F1-мера : 0.3866459627329193\n",
      "AUC-ROC : 0.6075289465119974\n"
     ]
    }
   ],
   "source": [
    "ModelStat_Info(model_logRegression, features_valid, target_valid)"
   ]
  },
  {
   "cell_type": "markdown",
   "metadata": {},
   "source": [
    "## Вывод:\n",
    "\n",
    "Обучили модели без учета дисбаланса классов.\n",
    "##### \"Дерево решений\".\n",
    "\n",
    "Перебрали модели со следующими вариантами параметров:\n",
    "\n",
    "макс. глубина - от 1 до 10.  \n",
    "мин. число образцов в листах - 10 значений в диапазоне от 2 до 50 с одинаковым интервалом.  \n",
    "\n",
    "Оформили нахождение модели в функцию, которую дальше будем использовать на измененной обучающей выборке.\n",
    "Написали также функцию, которая будет подбирать наилучший порог под максимальное значение F1-меры.\n",
    "Рассматриваемые значения порога от 0.01 до 1 с интервалом 0,1.\n",
    "\n",
    "###### Лучшая модель (без учета дисбаланса классов):\n",
    "Порог: 0.41\n",
    "Наилучшее количество примеров в листе: 7\n",
    "Наилучшая глубина дерева: 7\n",
    "F1-мера наилучшей модели на валидационной выборке: 0.62\n",
    "AUC-ROC : 0.78\n",
    "\n",
    "##### Случайный лес\n",
    "Перебрали модели со следующими вариантами параметров:\n",
    "\n",
    "Количество деревьев - от 10 до 150 с интервалом 10\n",
    "макс. глубина - от 1 до 15 с интервалом 1\n",
    "\n",
    "###### Лучшая модель (без учета дисбаланса классов):\n",
    "Порог: 0.31\n",
    "Наилучшее количество деревьев: 130\n",
    "Наилучшая глубина дерева: 8\n",
    "F1-мера наилучшей модели на валидационной выборке: 0.64\n",
    "AUC-ROC : 0.77\n",
    "\n",
    "##### Логистическая регрессия\n",
    "Построили модель с параметром solver='liblinear'  \n",
    "      \n",
    "###### Лучшая модель (без учета дисбаланса классов):\n",
    "Порог : 0.21\n",
    "F1-мера : 0.39\n",
    "AUC-ROC : 0.61\n",
    "\n",
    "##### Обобщение:\n",
    "Благодаря поиску оптимального порога мы получили довольно неплохие предварительные модели (даже без учета дисбаланса классов). Если бы порог был стандартным - результаты были бы несколько хуже."
   ]
  },
  {
   "cell_type": "markdown",
   "metadata": {},
   "source": [
    "# Борьба с дисбалансом"
   ]
  },
  {
   "cell_type": "markdown",
   "metadata": {},
   "source": [
    "## Downsampling"
   ]
  },
  {
   "cell_type": "markdown",
   "metadata": {},
   "source": [
    "Напишем функцию уменьшения выборки:"
   ]
  },
  {
   "cell_type": "code",
   "execution_count": 38,
   "metadata": {},
   "outputs": [],
   "source": [
    "def downsample(features, target, fraction):\n",
    "    features_zeros = features[target == 0]\n",
    "    features_ones = features[target == 1]\n",
    "    target_zeros = target[target == 0]\n",
    "    target_ones = target[target == 1]\n",
    "    \n",
    "    features_downsampled = pd.concat(\n",
    "        [features_zeros.sample(frac=fraction, random_state=random_value)] + [features_ones]) \n",
    "    target_downsampled = pd.concat(\n",
    "        [target_zeros.sample(frac=fraction, random_state=random_value)] + [target_ones]) \n",
    "    \n",
    "    features_downsampled, target_downsampled = shuffle(\n",
    "        features_downsampled, target_downsampled, random_state=random_value)\n",
    "    \n",
    "    return features_downsampled, target_downsampled"
   ]
  },
  {
   "cell_type": "markdown",
   "metadata": {},
   "source": [
    "Поскольку соотношение классов, посчитанное нами ранее, равно 1 к 4. Можно взять параметр Fraction = 0.3."
   ]
  },
  {
   "cell_type": "code",
   "execution_count": 39,
   "metadata": {},
   "outputs": [],
   "source": [
    "features_downsampled, target_downsampled = downsample(features_train, target_train, 0.3)"
   ]
  },
  {
   "cell_type": "markdown",
   "metadata": {},
   "source": [
    "### Downsampling. Дерево решений"
   ]
  },
  {
   "cell_type": "markdown",
   "metadata": {},
   "source": [
    "Найдем теперь лучшую модель \"дерева решений\" на новых данных. И посмотрим её правильность. "
   ]
  },
  {
   "cell_type": "code",
   "execution_count": 40,
   "metadata": {},
   "outputs": [
    {
     "name": "stdout",
     "output_type": "stream",
     "text": [
      "Порог: 0.51\n",
      "F1-мера наилучшей модели на валидационной выборке: 0.598669623059867\n",
      "Наилучшее количество примеров в листе: 28\n",
      "Наилучшая глубина дерева: 5\n",
      "Wall time: 2.74 s\n"
     ]
    }
   ],
   "source": [
    "%%time\n",
    "best_model_tree_Downsampling = My_DecisionTreeClassifier(features_downsampled, target_downsampled, features_valid, target_valid)"
   ]
  },
  {
   "cell_type": "code",
   "execution_count": 41,
   "metadata": {},
   "outputs": [
    {
     "name": "stdout",
     "output_type": "stream",
     "text": [
      "Порог : 0.51\n",
      "Полнота : 0.6633906633906634\n",
      "Точность : 0.5454545454545454\n",
      "F1-мера : 0.598669623059867\n",
      "AUC-ROC : 0.761073862768778\n"
     ]
    }
   ],
   "source": [
    "ModelStat_Info(best_model_tree_Downsampling, features_valid, target_valid)"
   ]
  },
  {
   "cell_type": "markdown",
   "metadata": {},
   "source": [
    "### Downsampling. Случайный лес"
   ]
  },
  {
   "cell_type": "code",
   "execution_count": 42,
   "metadata": {},
   "outputs": [
    {
     "name": "stdout",
     "output_type": "stream",
     "text": [
      "Порог: 0.51\n",
      "F1-мера наилучшей модели на валидационной выборке: 0.6436285097192225\n",
      "Наилучшее количество деревьев: 140\n",
      "Наилучшая глубина дерева: 12\n",
      "Wall time: 1min 7s\n"
     ]
    }
   ],
   "source": [
    "%%time\n",
    "best_fg_model_Downsampling = My_RandomForestClassifier(features_downsampled, target_downsampled, features_valid, target_valid)"
   ]
  },
  {
   "cell_type": "code",
   "execution_count": 43,
   "metadata": {
    "scrolled": true
   },
   "outputs": [
    {
     "name": "stdout",
     "output_type": "stream",
     "text": [
      "Порог : 0.51\n",
      "Полнота : 0.7321867321867321\n",
      "Точность : 0.5741811175337187\n",
      "F1-мера : 0.6436285097192225\n",
      "AUC-ROC : 0.796727389947729\n"
     ]
    }
   ],
   "source": [
    "ModelStat_Info(best_fg_model_Downsampling, features_valid, target_valid)"
   ]
  },
  {
   "cell_type": "markdown",
   "metadata": {},
   "source": [
    "### Downsampling. Логистическая регрессия"
   ]
  },
  {
   "cell_type": "code",
   "execution_count": 44,
   "metadata": {},
   "outputs": [
    {
     "name": "stdout",
     "output_type": "stream",
     "text": [
      "Порог: 0.51\n",
      "F1-мера : 0.45837414299706175\n",
      "Wall time: 40 ms\n"
     ]
    }
   ],
   "source": [
    "%%time\n",
    "model_logRegression_Downsampling = My_LogisticRegression(features_downsampled, target_downsampled, features_valid, target_valid)"
   ]
  },
  {
   "cell_type": "code",
   "execution_count": 45,
   "metadata": {},
   "outputs": [
    {
     "name": "stdout",
     "output_type": "stream",
     "text": [
      "Порог : 0.51\n",
      "Полнота : 0.5749385749385749\n",
      "Точность : 0.3811074918566775\n",
      "F1-мера : 0.45837414299706175\n",
      "AUC-ROC : 0.668197473282219\n"
     ]
    }
   ],
   "source": [
    "ModelStat_Info(model_logRegression_Downsampling, features_valid, target_valid)"
   ]
  },
  {
   "cell_type": "markdown",
   "metadata": {},
   "source": [
    "## 3. Upsampling"
   ]
  },
  {
   "cell_type": "markdown",
   "metadata": {},
   "source": [
    "Напишем функцию увеличения выборки:"
   ]
  },
  {
   "cell_type": "code",
   "execution_count": 46,
   "metadata": {},
   "outputs": [],
   "source": [
    "def upsample(features, target, repeat):\n",
    "    features_zeros = features[target == 0]\n",
    "    features_ones = features[target == 1]\n",
    "    target_zeros = target[target == 0]\n",
    "    target_ones = target[target == 1]\n",
    "\n",
    "    features_upsampled = pd.concat([features_zeros] + [features_ones] * repeat)\n",
    "    target_upsampled = pd.concat([target_zeros] + [target_ones] * repeat)\n",
    "    \n",
    "    features_upsampled, target_upsampled = shuffle(\n",
    "        features_upsampled, target_upsampled, random_state=random_value)\n",
    "    \n",
    "    return features_upsampled, target_upsampled"
   ]
  },
  {
   "cell_type": "code",
   "execution_count": 47,
   "metadata": {},
   "outputs": [],
   "source": [
    "features_upsampled, target_upsampled = upsample(features_train, target_train, 3)"
   ]
  },
  {
   "cell_type": "markdown",
   "metadata": {},
   "source": [
    "### Upsampling. Дерево решений"
   ]
  },
  {
   "cell_type": "code",
   "execution_count": 48,
   "metadata": {},
   "outputs": [
    {
     "name": "stdout",
     "output_type": "stream",
     "text": [
      "Порог: 0.6100000000000001\n",
      "F1-мера наилучшей модели на валидационной выборке: 0.609442060085837\n",
      "Наилучшее количество примеров в листе: 28\n",
      "Наилучшая глубина дерева: 6\n",
      "Wall time: 4.67 s\n"
     ]
    }
   ],
   "source": [
    "%%time\n",
    "best_model_tree_Upsampling = My_DecisionTreeClassifier(features_upsampled, target_upsampled, features_valid, target_valid)"
   ]
  },
  {
   "cell_type": "code",
   "execution_count": 49,
   "metadata": {},
   "outputs": [
    {
     "name": "stdout",
     "output_type": "stream",
     "text": [
      "Порог : 0.6100000000000001\n",
      "Полнота : 0.6977886977886978\n",
      "Точность : 0.540952380952381\n",
      "F1-мера : 0.609442060085837\n",
      "AUC-ROC : 0.7732509088441291\n"
     ]
    }
   ],
   "source": [
    "ModelStat_Info(best_model_tree_Upsampling, features_valid, target_valid)"
   ]
  },
  {
   "cell_type": "markdown",
   "metadata": {},
   "source": [
    "### Upsampling. Случайный лес"
   ]
  },
  {
   "cell_type": "code",
   "execution_count": 50,
   "metadata": {},
   "outputs": [
    {
     "name": "stdout",
     "output_type": "stream",
     "text": [
      "Порог: 0.41000000000000003\n",
      "F1-мера наилучшей модели на валидационной выборке: 0.6495327102803738\n",
      "Наилучшее количество деревьев: 60\n",
      "Наилучшая глубина дерева: 8\n",
      "Wall time: 2min 13s\n"
     ]
    }
   ],
   "source": [
    "%%time\n",
    "best_fg_model_Upsampling = My_RandomForestClassifier(features_upsampled, target_upsampled, features_valid, target_valid)"
   ]
  },
  {
   "cell_type": "code",
   "execution_count": 51,
   "metadata": {},
   "outputs": [
    {
     "name": "stdout",
     "output_type": "stream",
     "text": [
      "Порог : 0.51\n",
      "Полнота : 0.683046683046683\n",
      "Точность : 0.6191536748329621\n",
      "F1-мера : 0.6495327102803738\n",
      "AUC-ROC : 0.7878510251391607\n"
     ]
    }
   ],
   "source": [
    "ModelStat_Info(best_fg_model_Upsampling, features_valid, target_valid)"
   ]
  },
  {
   "cell_type": "markdown",
   "metadata": {},
   "source": [
    "### Upsampling. Логистическая регрессия"
   ]
  },
  {
   "cell_type": "code",
   "execution_count": 52,
   "metadata": {},
   "outputs": [
    {
     "name": "stdout",
     "output_type": "stream",
     "text": [
      "Порог: 0.41000000000000003\n",
      "F1-мера : 0.44509516837481694\n",
      "Wall time: 70 ms\n"
     ]
    }
   ],
   "source": [
    "%%time\n",
    "model_logRegression_Upsampling = My_LogisticRegression(features_upsampled, target_upsampled, features_valid, target_valid)"
   ]
  },
  {
   "cell_type": "code",
   "execution_count": 53,
   "metadata": {},
   "outputs": [
    {
     "name": "stdout",
     "output_type": "stream",
     "text": [
      "Порог : 0.41000000000000003\n",
      "Полнота : 0.7469287469287469\n",
      "Точность : 0.3169968717413973\n",
      "F1-мера : 0.44509516837481694\n",
      "AUC-ROC : 0.6678774305892949\n"
     ]
    }
   ],
   "source": [
    "ModelStat_Info(model_logRegression_Upsampling, features_valid, target_valid)"
   ]
  },
  {
   "cell_type": "markdown",
   "metadata": {},
   "source": [
    "## Параметр Class_weight = 'balanced' (CW)"
   ]
  },
  {
   "cell_type": "markdown",
   "metadata": {},
   "source": [
    "### CW. Дерево решений"
   ]
  },
  {
   "cell_type": "code",
   "execution_count": 54,
   "metadata": {},
   "outputs": [
    {
     "name": "stdout",
     "output_type": "stream",
     "text": [
      "Порог: 0.6100000000000001\n",
      "F1-мера наилучшей модели на валидационной выборке: 0.6098081023454158\n",
      "Наилучшее количество примеров в листе: 18\n",
      "Наилучшая глубина дерева: 6\n",
      "Wall time: 4.11 s\n"
     ]
    }
   ],
   "source": [
    "%%time\n",
    "best_model_tree_CW = My_DecisionTreeClassifier(features_train, target_train, features_valid, target_valid, 'balanced')"
   ]
  },
  {
   "cell_type": "code",
   "execution_count": 55,
   "metadata": {},
   "outputs": [
    {
     "name": "stdout",
     "output_type": "stream",
     "text": [
      "Порог : 0.6100000000000001\n",
      "Полнота : 0.7027027027027027\n",
      "Точность : 0.5386064030131826\n",
      "F1-мера : 0.6098081023454158\n",
      "AUC-ROC : 0.7744524185202151\n"
     ]
    }
   ],
   "source": [
    "ModelStat_Info(best_model_tree_CW, features_valid, target_valid)"
   ]
  },
  {
   "cell_type": "markdown",
   "metadata": {},
   "source": [
    "### CW. Случайный лес"
   ]
  },
  {
   "cell_type": "code",
   "execution_count": 56,
   "metadata": {},
   "outputs": [
    {
     "name": "stdout",
     "output_type": "stream",
     "text": [
      "Порог: 0.41000000000000003\n",
      "F1-мера наилучшей модели на валидационной выборке: 0.64075382803298\n",
      "Наилучшее количество деревьев: 100\n",
      "Наилучшая глубина дерева: 9\n",
      "Wall time: 1min 44s\n"
     ]
    }
   ],
   "source": [
    "%%time\n",
    "best_fg_model_CW = My_RandomForestClassifier(features_train, \n",
    "                                                     target_train, \n",
    "                                                     features_valid, \n",
    "                                                     target_valid, \n",
    "                                                     'balanced')"
   ]
  },
  {
   "cell_type": "code",
   "execution_count": 57,
   "metadata": {},
   "outputs": [
    {
     "name": "stdout",
     "output_type": "stream",
     "text": [
      "Порог : 0.51\n",
      "Полнота : 0.6683046683046683\n",
      "Точность : 0.6153846153846154\n",
      "F1-мера : 0.64075382803298\n",
      "AUC-ROC : 0.7807938909633825\n"
     ]
    }
   ],
   "source": [
    "ModelStat_Info(best_fg_model_CW, features_valid, target_valid)"
   ]
  },
  {
   "cell_type": "markdown",
   "metadata": {},
   "source": [
    "### CW. Логистическая регрессия"
   ]
  },
  {
   "cell_type": "code",
   "execution_count": 58,
   "metadata": {},
   "outputs": [
    {
     "name": "stdout",
     "output_type": "stream",
     "text": [
      "Порог: 0.51\n",
      "F1-мера : 0.4829351535836178\n",
      "Wall time: 60 ms\n"
     ]
    }
   ],
   "source": [
    "%%time\n",
    "model_logRegression_CW = My_LogisticRegression(features_train, target_train, features_valid, target_valid, 'balanced')"
   ]
  },
  {
   "cell_type": "code",
   "execution_count": 59,
   "metadata": {},
   "outputs": [
    {
     "name": "stdout",
     "output_type": "stream",
     "text": [
      "Порог : 0.51\n",
      "Полнота : 0.6953316953316954\n",
      "Точность : 0.36993464052287583\n",
      "F1-мера : 0.4829351535836178\n",
      "AUC-ROC : 0.6963789675654082\n"
     ]
    }
   ],
   "source": [
    "ModelStat_Info(model_logRegression_CW, features_valid, target_valid)"
   ]
  },
  {
   "cell_type": "markdown",
   "metadata": {},
   "source": [
    "## Вывод.\n",
    "\n",
    "Произвели три попытки борьбы с дисбалансом классов. Получились следующие результаты (в скобках указаны значения без учета дисбаланса): \n",
    "\n",
    "\n",
    "##### Дерево решений:\n",
    "\n",
    "###### Downsampling - удаление части выборки преобладающего класса  \n",
    "Наилучшая модель:\n",
    "    Порог: 0.51     \n",
    "    Наилучшее количество примеров в листе: 28  \n",
    "    Наилучшая глубина дерева: 5\n",
    "    F1-мера наилучшей модели на валидационной выборке: 0.599 (0.62)\n",
    "    AUC-ROC : 0.76 (0.78)\n",
    "\n",
    "###### Upsampling - дублирование выборки класса в меньшинстве  \n",
    "Наилучшая модель:\n",
    "    Порог: 0.61\n",
    "    Наилучшее количество примеров в листе: 28\n",
    "    Наилучшая глубина дерева: 6\n",
    "    F1-мера наилучшей модели на валидационной выборке: 0.61 (0.62)\n",
    "    AUC-ROC : 0.77 (0.78)\n",
    "\n",
    "###### C помощью параметра Class_weight = 'balanced'.\n",
    "Наилучшая модель:\n",
    "    Порог: 0.61\n",
    "    Наилучшее количество примеров в листе: 18\n",
    "    Наилучшая глубина дерева: 6\n",
    "    F1-мера наилучшей модели на валидационной выборке: 0.61 (0.62)\n",
    "    AUC-ROC : 0.77 (0.78)\n",
    "\n",
    "\n",
    "##### Случайный лес:\n",
    "\n",
    "###### Downsampling - удаление части выборки преобладающего класса  \n",
    "Наилучшая модель:\n",
    "    Порог: 0.51\n",
    "    Наилучшее количество деревьев: 140\n",
    "    Наилучшая глубина дерева: 12\n",
    "    F1-мера наилучшей модели на валидационной выборке: 0.64 (0.64)\n",
    "    AUC-ROC : 0.78 (0.77)\n",
    "\n",
    "###### Upsampling - дублирование выборки класса в меньшинстве  \n",
    "Наилучшая модель:\n",
    "    Порог: 0.41\n",
    "    Наилучшее количество деревьев: 60\n",
    "    Наилучшая глубина дерева: 8\n",
    "    F1-мера наилучшей модели на валидационной выборке: 0.65 (0.64)\n",
    "    AUC-ROC : 0.79 (0.77)\n",
    "    \n",
    "###### C помощью параметра Class_weight = 'balanced'.\n",
    "Наилучшая модель:\n",
    "    Порог: 0.31\n",
    "    Наилучшее количество деревьев: 60\n",
    "    Наилучшая глубина дерева: 9\n",
    "    F1-мера наилучшей модели на валидационной выборке: 0.65 (0.64)\n",
    "    AUC-ROC : 0.79 (0.77)\n",
    "    \n",
    "##### Логистическая регрессия: \n",
    "\n",
    "###### Downsampling - удаление части выборки преобладающего класса  \n",
    "Наилучшая модель:\n",
    "    Порог : 0.51\n",
    "    F1-мера : 0.46 (0.39)\n",
    "    AUC-ROC : 0.67 (0.61)\n",
    "    \n",
    "###### Upsampling - дублирование выборки класса в меньшинстве  \n",
    "Наилучшая модель:\n",
    "    Порог : 0.51\n",
    "    F1-мера : 0.46 (0.39)\n",
    "    AUC-ROC : 0.67 (0.61)\n",
    "\n",
    "###### C помощью параметра Class_weight = 'balanced'.\n",
    "Наилучшая модель:\n",
    "    Порог : 0.61\n",
    "    F1-мера : 0.52 (0.39)\n",
    "    AUC-ROC : 0.71 (0.61)\n",
    "    \n",
    "##### Обобщая можно сделать следующие выводы: \n",
    "1.    Значение F1-меры для логистической регрессии очень сильно зависит от балансировки весов класса. Веса используются в формулах вычисления принадлежности (прогнозирования) классу.  \n",
    "2.    На модели \"Дерево решений\" и  \"случайный лес\" учёт баланса классов влияет не очень сильно (за исключением Downsampling - лишает алгоритм данных)\n",
    "3.    Для логистической регрессии параметр Class_weight = 'balanced' работает эффективнее.  \n",
    "4.    Приблизительно одинаковые значения AUC-ROC для моделей \"Дерево решений\" и  \"случайный лес\" подтверждают, что баланс классов на их результативность не влияет. В отличии от модели \"Логистическая регрессия\". Это связано с особенностями алгоритмов данных моделей."
   ]
  },
  {
   "cell_type": "markdown",
   "metadata": {},
   "source": [
    "# 4. Тестирование модели"
   ]
  },
  {
   "cell_type": "markdown",
   "metadata": {},
   "source": [
    "Протестируем некоторые из полученных моделей."
   ]
  },
  {
   "cell_type": "markdown",
   "metadata": {},
   "source": [
    "Напишем для этого специальную функцию для определения F1-меры по установленному ранее порогу."
   ]
  },
  {
   "cell_type": "code",
   "execution_count": 60,
   "metadata": {},
   "outputs": [],
   "source": [
    "# Используется при вероятностном определении класса\n",
    "def ModelStat_Info_threshold(model, features, target, threshold):\n",
    "    \n",
    "    probabilities = model.predict_proba(features)\n",
    "    probabilities_one = probabilities[:, 1]\n",
    "\n",
    "    max_f1 = 0\n",
    "    recall = 0\n",
    "    precision = 0\n",
    "    auc_roc = 0\n",
    "    Best_Threshold = 0\n",
    "    \n",
    "    predicted = (probabilities_one > threshold)\n",
    "    f1 = f1_score(target, predicted)\n",
    "    recall = recall_score(target, predicted)\n",
    "    precision = precision_score(target, predicted)\n",
    "    auc_roc = roc_auc_score(target, predicted)\n",
    "    \n",
    "    print('Порог : {}'.format(threshold))        \n",
    "    print('Полнота : {}'.format(recall))\n",
    "    print('Точность : {}'.format(precision))\n",
    "    print('F1-мера : {}'.format(f1))\n",
    "    print('AUC-ROC : {}'.format(auc_roc))\n",
    "        "
   ]
  },
  {
   "cell_type": "markdown",
   "metadata": {},
   "source": [
    "## Дерево решений "
   ]
  },
  {
   "cell_type": "markdown",
   "metadata": {},
   "source": [
    "Модель \"Дерево решений\" с параметром Class_weight = 'balanced'. Наилучший порог, рассчитанный ранее, равен 0.61"
   ]
  },
  {
   "cell_type": "code",
   "execution_count": 61,
   "metadata": {},
   "outputs": [
    {
     "name": "stdout",
     "output_type": "stream",
     "text": [
      "Порог : 0.61\n",
      "Полнота : 0.7100737100737101\n",
      "Точность : 0.5017361111111112\n",
      "F1-мера : 0.5879959308240083\n",
      "AUC-ROC : 0.7649552480060955\n",
      "Wall time: 52 ms\n"
     ]
    }
   ],
   "source": [
    "%%time\n",
    "best_model_tree_CW.fit(features_cv, target_cv)\n",
    "ModelStat_Info_threshold(best_model_tree_CW, features_test, target_test, 0.61)"
   ]
  },
  {
   "cell_type": "markdown",
   "metadata": {},
   "source": [
    "## Случайный лес"
   ]
  },
  {
   "cell_type": "markdown",
   "metadata": {},
   "source": [
    "Модель \"Случайный лес\" не учитывающая дисбаланс классов. Наилучший порог, рассчитанный ранее, равен 0.31"
   ]
  },
  {
   "cell_type": "code",
   "execution_count": 62,
   "metadata": {},
   "outputs": [
    {
     "name": "stdout",
     "output_type": "stream",
     "text": [
      "Порог : 0.31\n",
      "Полнота : 0.6314496314496314\n",
      "Точность : 0.6539440203562341\n",
      "F1-мера : 0.6425\n",
      "AUC-ROC : 0.7730380611736544\n"
     ]
    }
   ],
   "source": [
    "best_fg_model.fit(features_cv, target_cv)\n",
    "ModelStat_Info_threshold(best_fg_model, features_test, target_test, 0.31)"
   ]
  },
  {
   "cell_type": "markdown",
   "metadata": {},
   "source": [
    "Модель \"Случайный лес\" Downsampling. Наилучший порог, рассчитанный ранее, равен 0.51"
   ]
  },
  {
   "cell_type": "code",
   "execution_count": 63,
   "metadata": {},
   "outputs": [
    {
     "name": "stdout",
     "output_type": "stream",
     "text": [
      "Порог : 0.51\n",
      "Полнота : 0.4398034398034398\n",
      "Точность : 0.788546255506608\n",
      "F1-мера : 0.5646687697160884\n",
      "AUC-ROC : 0.7048358065307218\n"
     ]
    }
   ],
   "source": [
    "best_fg_model_Downsampling.fit(features_cv, target_cv)\n",
    "ModelStat_Info_threshold(best_fg_model_Downsampling, features_test, target_test, 0.51)"
   ]
  },
  {
   "cell_type": "markdown",
   "metadata": {},
   "source": [
    "Модель \"Случайный лес\" Upsampling. Наилучший порог, рассчитанный ранее, равен 0.41"
   ]
  },
  {
   "cell_type": "code",
   "execution_count": 64,
   "metadata": {},
   "outputs": [
    {
     "name": "stdout",
     "output_type": "stream",
     "text": [
      "Порог : 0.41\n",
      "Полнота : 0.4914004914004914\n",
      "Точность : 0.7490636704119851\n",
      "F1-мера : 0.5934718100890207\n",
      "AUC-ROC : 0.7246707416198942\n"
     ]
    }
   ],
   "source": [
    "best_fg_model_Upsampling.fit(features_cv, target_cv)\n",
    "ModelStat_Info_threshold(best_fg_model_Upsampling, features_test, target_test, 0.41)"
   ]
  },
  {
   "cell_type": "markdown",
   "metadata": {},
   "source": [
    "Модель \"Случайный лес\" с параметром Class_weight = 'balanced'. Наилучший порог, рассчитанный ранее, равен 0.31"
   ]
  },
  {
   "cell_type": "code",
   "execution_count": 65,
   "metadata": {},
   "outputs": [
    {
     "name": "stdout",
     "output_type": "stream",
     "text": [
      "Порог : 0.31\n",
      "Полнота : 0.8845208845208845\n",
      "Точность : 0.3866809881847476\n",
      "F1-мера : 0.5381165919282511\n",
      "AUC-ROC : 0.7630388477846106\n"
     ]
    }
   ],
   "source": [
    "best_fg_model_CW.fit(features_cv, target_cv)\n",
    "ModelStat_Info_threshold(best_fg_model_CW, features_test, target_test, 0.31)"
   ]
  },
  {
   "cell_type": "markdown",
   "metadata": {},
   "source": [
    "## Логистическая регрессия"
   ]
  },
  {
   "cell_type": "markdown",
   "metadata": {},
   "source": [
    "Модель \"Логистическая регрессия\" с параметром Class_weight = 'balanced'"
   ]
  },
  {
   "cell_type": "code",
   "execution_count": 66,
   "metadata": {},
   "outputs": [
    {
     "name": "stdout",
     "output_type": "stream",
     "text": [
      "Порог : 0.51\n",
      "Полнота : 0.6904176904176904\n",
      "Точность : 0.3561470215462611\n",
      "F1-мера : 0.4698996655518395\n",
      "AUC-ROC : 0.6857612620324485\n",
      "Wall time: 90 ms\n"
     ]
    }
   ],
   "source": [
    "%%time\n",
    "model_logRegression_CW.fit(features_cv, target_cv)\n",
    "ModelStat_Info(model_logRegression_CW, features_test, target_test)"
   ]
  },
  {
   "cell_type": "markdown",
   "metadata": {},
   "source": [
    "## Вывод\n",
    "\n",
    "Переобучили наилучшие модели, полученные ранее, на объединенной выборке (обуч. + валид.) и посмотрели результаты.\n",
    "\n",
    "Выводы получились довольно неожиданными: (в скобках значения на валидационной выборке)\n",
    "\n",
    "    Дерево решений. CW:\n",
    "        F1-мера : 0.59 (0.61)\n",
    "    \n",
    "    Модель \"Случайный лес\" не учитывающая дисбаланс классов:\n",
    "        F1-мера : 0.64 (0.64)\n",
    "        \n",
    "    Модель \"Случайный лес\". Downsampling:\n",
    "        F1-мера : 0.56 (0.64)\n",
    "    \n",
    "    Модель \"Случайный лес\". Upsampling:\n",
    "        F1-мера : 0.59 (0.65)\n",
    "\n",
    "    Модель \"Случайный лес\". CW:\n",
    "        F1-мера : 0.53 (0.65)\n",
    "        \n",
    "    Модель \"Логистическая регрессия\":\n",
    "        F1-мера : 0.50 (0.52)\n",
    "        \n",
    "    Учитывать баланс классов стоит только в модели логистическая регрессия.\n",
    "    В модели \"дерево решений\" и \"случайный лес\" он, будто, вносит некоторый хаос. Результаты на тестовой выборке для моделей, учитывающих дисбаланс классов, заметно просели. Есть ощущение, что с учетом этого параметра данные модели переобучаются. \n",
    "    \n",
    "    Особенно на фоне модели \"Случайный лес\" без учета дисбаланса классов - эта модель показала себя стабильно. На валидационной выборке значение F1-меры - 0,64 и на тестовой те же 0,64. \n",
    "\n",
    "    В итоге - лучшая модель - \"Случайный лес\" без учета дисбаланса классов с параметрами:\n",
    "        количество деревьев: 130 \n",
    "        глубина дерева: 8\n",
    "    \n",
    "    А учёт баланса классов - обязателен для моделей логистической регрессии."
   ]
  },
  {
   "cell_type": "markdown",
   "metadata": {},
   "source": [
    "# Кросс-валидация (дополнительно)"
   ]
  },
  {
   "cell_type": "markdown",
   "metadata": {},
   "source": [
    "Построим модель случайного леса с помощью кросс-валидации со следующим перебором параметров:  \n",
    "\n",
    "    количество деревьев - от 10 до 151 с шагом 15.  \n",
    "    максимальная глубина - от 1 до 20 с шагом 2.\n",
    "    \n"
   ]
  },
  {
   "cell_type": "code",
   "execution_count": 67,
   "metadata": {},
   "outputs": [
    {
     "name": "stdout",
     "output_type": "stream",
     "text": [
      "Wall time: 0 ns\n"
     ]
    }
   ],
   "source": [
    "%%time\n",
    "param_dist = { 'n_estimators': range (10, 151, 15),\n",
    "    'max_depth': range (1, 20, 2)}\n",
    "\n",
    "model_forestCV = RandomForestClassifier(random_state = random_value)\n",
    "\n",
    "rs_CV = GridSearchCV(model_forestCV, \n",
    "                     param_grid=param_dist, \n",
    "                     cv = 4,\n",
    "                     return_train_score = True,\n",
    "                     n_jobs = 1,\n",
    "                     verbose = 2\n",
    "                    )"
   ]
  },
  {
   "cell_type": "code",
   "execution_count": 68,
   "metadata": {
    "scrolled": true
   },
   "outputs": [
    {
     "name": "stdout",
     "output_type": "stream",
     "text": [
      "Fitting 4 folds for each of 100 candidates, totalling 400 fits\n",
      "[CV] max_depth=1, n_estimators=10 ....................................\n",
      "[CV] ..................... max_depth=1, n_estimators=10, total=   0.1s\n",
      "[CV] max_depth=1, n_estimators=10 ....................................\n",
      "[CV] ..................... max_depth=1, n_estimators=10, total=   0.1s\n",
      "[CV] max_depth=1, n_estimators=10 ....................................\n"
     ]
    },
    {
     "name": "stderr",
     "output_type": "stream",
     "text": [
      "[Parallel(n_jobs=1)]: Using backend SequentialBackend with 1 concurrent workers.\n",
      "[Parallel(n_jobs=1)]: Done   1 out of   1 | elapsed:    0.0s remaining:    0.0s\n"
     ]
    },
    {
     "name": "stdout",
     "output_type": "stream",
     "text": [
      "[CV] ..................... max_depth=1, n_estimators=10, total=   0.1s\n",
      "[CV] max_depth=1, n_estimators=10 ....................................\n",
      "[CV] ..................... max_depth=1, n_estimators=10, total=   0.1s\n",
      "[CV] max_depth=1, n_estimators=25 ....................................\n",
      "[CV] ..................... max_depth=1, n_estimators=25, total=   0.1s\n",
      "[CV] max_depth=1, n_estimators=25 ....................................\n",
      "[CV] ..................... max_depth=1, n_estimators=25, total=   0.1s\n",
      "[CV] max_depth=1, n_estimators=25 ....................................\n",
      "[CV] ..................... max_depth=1, n_estimators=25, total=   0.1s\n",
      "[CV] max_depth=1, n_estimators=25 ....................................\n",
      "[CV] ..................... max_depth=1, n_estimators=25, total=   0.1s\n",
      "[CV] max_depth=1, n_estimators=40 ....................................\n",
      "[CV] ..................... max_depth=1, n_estimators=40, total=   0.2s\n",
      "[CV] max_depth=1, n_estimators=40 ....................................\n",
      "[CV] ..................... max_depth=1, n_estimators=40, total=   0.1s\n",
      "[CV] max_depth=1, n_estimators=40 ....................................\n",
      "[CV] ..................... max_depth=1, n_estimators=40, total=   0.1s\n",
      "[CV] max_depth=1, n_estimators=40 ....................................\n",
      "[CV] ..................... max_depth=1, n_estimators=40, total=   0.1s\n",
      "[CV] max_depth=1, n_estimators=55 ....................................\n",
      "[CV] ..................... max_depth=1, n_estimators=55, total=   0.2s\n",
      "[CV] max_depth=1, n_estimators=55 ....................................\n",
      "[CV] ..................... max_depth=1, n_estimators=55, total=   0.2s\n",
      "[CV] max_depth=1, n_estimators=55 ....................................\n",
      "[CV] ..................... max_depth=1, n_estimators=55, total=   0.2s\n",
      "[CV] max_depth=1, n_estimators=55 ....................................\n",
      "[CV] ..................... max_depth=1, n_estimators=55, total=   0.2s\n",
      "[CV] max_depth=1, n_estimators=70 ....................................\n",
      "[CV] ..................... max_depth=1, n_estimators=70, total=   0.2s\n",
      "[CV] max_depth=1, n_estimators=70 ....................................\n",
      "[CV] ..................... max_depth=1, n_estimators=70, total=   0.3s\n",
      "[CV] max_depth=1, n_estimators=70 ....................................\n",
      "[CV] ..................... max_depth=1, n_estimators=70, total=   0.2s\n",
      "[CV] max_depth=1, n_estimators=70 ....................................\n",
      "[CV] ..................... max_depth=1, n_estimators=70, total=   0.3s\n",
      "[CV] max_depth=1, n_estimators=85 ....................................\n",
      "[CV] ..................... max_depth=1, n_estimators=85, total=   0.3s\n",
      "[CV] max_depth=1, n_estimators=85 ....................................\n",
      "[CV] ..................... max_depth=1, n_estimators=85, total=   0.3s\n",
      "[CV] max_depth=1, n_estimators=85 ....................................\n",
      "[CV] ..................... max_depth=1, n_estimators=85, total=   0.3s\n",
      "[CV] max_depth=1, n_estimators=85 ....................................\n",
      "[CV] ..................... max_depth=1, n_estimators=85, total=   0.3s\n",
      "[CV] max_depth=1, n_estimators=100 ...................................\n",
      "[CV] .................... max_depth=1, n_estimators=100, total=   0.4s\n",
      "[CV] max_depth=1, n_estimators=100 ...................................\n",
      "[CV] .................... max_depth=1, n_estimators=100, total=   0.4s\n",
      "[CV] max_depth=1, n_estimators=100 ...................................\n",
      "[CV] .................... max_depth=1, n_estimators=100, total=   0.4s\n",
      "[CV] max_depth=1, n_estimators=100 ...................................\n",
      "[CV] .................... max_depth=1, n_estimators=100, total=   0.4s\n",
      "[CV] max_depth=1, n_estimators=115 ...................................\n",
      "[CV] .................... max_depth=1, n_estimators=115, total=   0.4s\n",
      "[CV] max_depth=1, n_estimators=115 ...................................\n",
      "[CV] .................... max_depth=1, n_estimators=115, total=   0.4s\n",
      "[CV] max_depth=1, n_estimators=115 ...................................\n",
      "[CV] .................... max_depth=1, n_estimators=115, total=   0.4s\n",
      "[CV] max_depth=1, n_estimators=115 ...................................\n",
      "[CV] .................... max_depth=1, n_estimators=115, total=   0.4s\n",
      "[CV] max_depth=1, n_estimators=130 ...................................\n",
      "[CV] .................... max_depth=1, n_estimators=130, total=   0.5s\n",
      "[CV] max_depth=1, n_estimators=130 ...................................\n",
      "[CV] .................... max_depth=1, n_estimators=130, total=   0.5s\n",
      "[CV] max_depth=1, n_estimators=130 ...................................\n",
      "[CV] .................... max_depth=1, n_estimators=130, total=   0.5s\n",
      "[CV] max_depth=1, n_estimators=130 ...................................\n",
      "[CV] .................... max_depth=1, n_estimators=130, total=   0.5s\n",
      "[CV] max_depth=1, n_estimators=145 ...................................\n",
      "[CV] .................... max_depth=1, n_estimators=145, total=   0.5s\n",
      "[CV] max_depth=1, n_estimators=145 ...................................\n",
      "[CV] .................... max_depth=1, n_estimators=145, total=   0.5s\n",
      "[CV] max_depth=1, n_estimators=145 ...................................\n",
      "[CV] .................... max_depth=1, n_estimators=145, total=   0.5s\n",
      "[CV] max_depth=1, n_estimators=145 ...................................\n",
      "[CV] .................... max_depth=1, n_estimators=145, total=   0.5s\n",
      "[CV] max_depth=3, n_estimators=10 ....................................\n",
      "[CV] ..................... max_depth=3, n_estimators=10, total=   0.1s\n",
      "[CV] max_depth=3, n_estimators=10 ....................................\n",
      "[CV] ..................... max_depth=3, n_estimators=10, total=   0.1s\n",
      "[CV] max_depth=3, n_estimators=10 ....................................\n",
      "[CV] ..................... max_depth=3, n_estimators=10, total=   0.1s\n",
      "[CV] max_depth=3, n_estimators=10 ....................................\n",
      "[CV] ..................... max_depth=3, n_estimators=10, total=   0.1s\n",
      "[CV] max_depth=3, n_estimators=25 ....................................\n",
      "[CV] ..................... max_depth=3, n_estimators=25, total=   0.1s\n",
      "[CV] max_depth=3, n_estimators=25 ....................................\n",
      "[CV] ..................... max_depth=3, n_estimators=25, total=   0.1s\n",
      "[CV] max_depth=3, n_estimators=25 ....................................\n",
      "[CV] ..................... max_depth=3, n_estimators=25, total=   0.1s\n",
      "[CV] max_depth=3, n_estimators=25 ....................................\n",
      "[CV] ..................... max_depth=3, n_estimators=25, total=   0.1s\n",
      "[CV] max_depth=3, n_estimators=40 ....................................\n",
      "[CV] ..................... max_depth=3, n_estimators=40, total=   0.2s\n",
      "[CV] max_depth=3, n_estimators=40 ....................................\n",
      "[CV] ..................... max_depth=3, n_estimators=40, total=   0.2s\n",
      "[CV] max_depth=3, n_estimators=40 ....................................\n",
      "[CV] ..................... max_depth=3, n_estimators=40, total=   0.2s\n",
      "[CV] max_depth=3, n_estimators=40 ....................................\n",
      "[CV] ..................... max_depth=3, n_estimators=40, total=   0.2s\n",
      "[CV] max_depth=3, n_estimators=55 ....................................\n",
      "[CV] ..................... max_depth=3, n_estimators=55, total=   0.3s\n",
      "[CV] max_depth=3, n_estimators=55 ....................................\n",
      "[CV] ..................... max_depth=3, n_estimators=55, total=   0.2s\n",
      "[CV] max_depth=3, n_estimators=55 ....................................\n",
      "[CV] ..................... max_depth=3, n_estimators=55, total=   0.3s\n",
      "[CV] max_depth=3, n_estimators=55 ....................................\n",
      "[CV] ..................... max_depth=3, n_estimators=55, total=   0.3s\n",
      "[CV] max_depth=3, n_estimators=70 ....................................\n",
      "[CV] ..................... max_depth=3, n_estimators=70, total=   0.3s\n",
      "[CV] max_depth=3, n_estimators=70 ....................................\n",
      "[CV] ..................... max_depth=3, n_estimators=70, total=   0.3s\n",
      "[CV] max_depth=3, n_estimators=70 ....................................\n",
      "[CV] ..................... max_depth=3, n_estimators=70, total=   0.3s\n",
      "[CV] max_depth=3, n_estimators=70 ....................................\n",
      "[CV] ..................... max_depth=3, n_estimators=70, total=   0.3s\n",
      "[CV] max_depth=3, n_estimators=85 ....................................\n"
     ]
    },
    {
     "name": "stdout",
     "output_type": "stream",
     "text": [
      "[CV] ..................... max_depth=3, n_estimators=85, total=   0.4s\n",
      "[CV] max_depth=3, n_estimators=85 ....................................\n",
      "[CV] ..................... max_depth=3, n_estimators=85, total=   0.4s\n",
      "[CV] max_depth=3, n_estimators=85 ....................................\n",
      "[CV] ..................... max_depth=3, n_estimators=85, total=   0.4s\n",
      "[CV] max_depth=3, n_estimators=85 ....................................\n",
      "[CV] ..................... max_depth=3, n_estimators=85, total=   0.4s\n",
      "[CV] max_depth=3, n_estimators=100 ...................................\n",
      "[CV] .................... max_depth=3, n_estimators=100, total=   0.5s\n",
      "[CV] max_depth=3, n_estimators=100 ...................................\n",
      "[CV] .................... max_depth=3, n_estimators=100, total=   0.5s\n",
      "[CV] max_depth=3, n_estimators=100 ...................................\n",
      "[CV] .................... max_depth=3, n_estimators=100, total=   0.6s\n",
      "[CV] max_depth=3, n_estimators=100 ...................................\n",
      "[CV] .................... max_depth=3, n_estimators=100, total=   0.5s\n",
      "[CV] max_depth=3, n_estimators=115 ...................................\n",
      "[CV] .................... max_depth=3, n_estimators=115, total=   0.6s\n",
      "[CV] max_depth=3, n_estimators=115 ...................................\n",
      "[CV] .................... max_depth=3, n_estimators=115, total=   0.6s\n",
      "[CV] max_depth=3, n_estimators=115 ...................................\n",
      "[CV] .................... max_depth=3, n_estimators=115, total=   0.6s\n",
      "[CV] max_depth=3, n_estimators=115 ...................................\n",
      "[CV] .................... max_depth=3, n_estimators=115, total=   0.6s\n",
      "[CV] max_depth=3, n_estimators=130 ...................................\n",
      "[CV] .................... max_depth=3, n_estimators=130, total=   0.7s\n",
      "[CV] max_depth=3, n_estimators=130 ...................................\n",
      "[CV] .................... max_depth=3, n_estimators=130, total=   0.6s\n",
      "[CV] max_depth=3, n_estimators=130 ...................................\n",
      "[CV] .................... max_depth=3, n_estimators=130, total=   0.6s\n",
      "[CV] max_depth=3, n_estimators=130 ...................................\n",
      "[CV] .................... max_depth=3, n_estimators=130, total=   0.6s\n",
      "[CV] max_depth=3, n_estimators=145 ...................................\n",
      "[CV] .................... max_depth=3, n_estimators=145, total=   0.6s\n",
      "[CV] max_depth=3, n_estimators=145 ...................................\n",
      "[CV] .................... max_depth=3, n_estimators=145, total=   0.7s\n",
      "[CV] max_depth=3, n_estimators=145 ...................................\n",
      "[CV] .................... max_depth=3, n_estimators=145, total=   0.7s\n",
      "[CV] max_depth=3, n_estimators=145 ...................................\n",
      "[CV] .................... max_depth=3, n_estimators=145, total=   0.7s\n",
      "[CV] max_depth=5, n_estimators=10 ....................................\n",
      "[CV] ..................... max_depth=5, n_estimators=10, total=   0.1s\n",
      "[CV] max_depth=5, n_estimators=10 ....................................\n",
      "[CV] ..................... max_depth=5, n_estimators=10, total=   0.1s\n",
      "[CV] max_depth=5, n_estimators=10 ....................................\n",
      "[CV] ..................... max_depth=5, n_estimators=10, total=   0.1s\n",
      "[CV] max_depth=5, n_estimators=10 ....................................\n",
      "[CV] ..................... max_depth=5, n_estimators=10, total=   0.1s\n",
      "[CV] max_depth=5, n_estimators=25 ....................................\n",
      "[CV] ..................... max_depth=5, n_estimators=25, total=   0.2s\n",
      "[CV] max_depth=5, n_estimators=25 ....................................\n",
      "[CV] ..................... max_depth=5, n_estimators=25, total=   0.2s\n",
      "[CV] max_depth=5, n_estimators=25 ....................................\n",
      "[CV] ..................... max_depth=5, n_estimators=25, total=   0.2s\n",
      "[CV] max_depth=5, n_estimators=25 ....................................\n",
      "[CV] ..................... max_depth=5, n_estimators=25, total=   0.2s\n",
      "[CV] max_depth=5, n_estimators=40 ....................................\n",
      "[CV] ..................... max_depth=5, n_estimators=40, total=   0.2s\n",
      "[CV] max_depth=5, n_estimators=40 ....................................\n",
      "[CV] ..................... max_depth=5, n_estimators=40, total=   0.2s\n",
      "[CV] max_depth=5, n_estimators=40 ....................................\n",
      "[CV] ..................... max_depth=5, n_estimators=40, total=   0.2s\n",
      "[CV] max_depth=5, n_estimators=40 ....................................\n",
      "[CV] ..................... max_depth=5, n_estimators=40, total=   0.2s\n",
      "[CV] max_depth=5, n_estimators=55 ....................................\n",
      "[CV] ..................... max_depth=5, n_estimators=55, total=   0.3s\n",
      "[CV] max_depth=5, n_estimators=55 ....................................\n",
      "[CV] ..................... max_depth=5, n_estimators=55, total=   0.3s\n",
      "[CV] max_depth=5, n_estimators=55 ....................................\n",
      "[CV] ..................... max_depth=5, n_estimators=55, total=   0.3s\n",
      "[CV] max_depth=5, n_estimators=55 ....................................\n",
      "[CV] ..................... max_depth=5, n_estimators=55, total=   0.3s\n",
      "[CV] max_depth=5, n_estimators=70 ....................................\n",
      "[CV] ..................... max_depth=5, n_estimators=70, total=   0.5s\n",
      "[CV] max_depth=5, n_estimators=70 ....................................\n",
      "[CV] ..................... max_depth=5, n_estimators=70, total=   0.4s\n",
      "[CV] max_depth=5, n_estimators=70 ....................................\n",
      "[CV] ..................... max_depth=5, n_estimators=70, total=   0.4s\n",
      "[CV] max_depth=5, n_estimators=70 ....................................\n",
      "[CV] ..................... max_depth=5, n_estimators=70, total=   0.4s\n",
      "[CV] max_depth=5, n_estimators=85 ....................................\n",
      "[CV] ..................... max_depth=5, n_estimators=85, total=   0.5s\n",
      "[CV] max_depth=5, n_estimators=85 ....................................\n",
      "[CV] ..................... max_depth=5, n_estimators=85, total=   0.5s\n",
      "[CV] max_depth=5, n_estimators=85 ....................................\n",
      "[CV] ..................... max_depth=5, n_estimators=85, total=   0.5s\n",
      "[CV] max_depth=5, n_estimators=85 ....................................\n",
      "[CV] ..................... max_depth=5, n_estimators=85, total=   0.5s\n",
      "[CV] max_depth=5, n_estimators=100 ...................................\n",
      "[CV] .................... max_depth=5, n_estimators=100, total=   0.6s\n",
      "[CV] max_depth=5, n_estimators=100 ...................................\n",
      "[CV] .................... max_depth=5, n_estimators=100, total=   0.6s\n",
      "[CV] max_depth=5, n_estimators=100 ...................................\n",
      "[CV] .................... max_depth=5, n_estimators=100, total=   0.6s\n",
      "[CV] max_depth=5, n_estimators=100 ...................................\n",
      "[CV] .................... max_depth=5, n_estimators=100, total=   0.6s\n",
      "[CV] max_depth=5, n_estimators=115 ...................................\n",
      "[CV] .................... max_depth=5, n_estimators=115, total=   0.7s\n",
      "[CV] max_depth=5, n_estimators=115 ...................................\n",
      "[CV] .................... max_depth=5, n_estimators=115, total=   0.7s\n",
      "[CV] max_depth=5, n_estimators=115 ...................................\n",
      "[CV] .................... max_depth=5, n_estimators=115, total=   0.7s\n",
      "[CV] max_depth=5, n_estimators=115 ...................................\n",
      "[CV] .................... max_depth=5, n_estimators=115, total=   0.7s\n",
      "[CV] max_depth=5, n_estimators=130 ...................................\n",
      "[CV] .................... max_depth=5, n_estimators=130, total=   0.7s\n",
      "[CV] max_depth=5, n_estimators=130 ...................................\n",
      "[CV] .................... max_depth=5, n_estimators=130, total=   0.7s\n",
      "[CV] max_depth=5, n_estimators=130 ...................................\n",
      "[CV] .................... max_depth=5, n_estimators=130, total=   0.7s\n",
      "[CV] max_depth=5, n_estimators=130 ...................................\n",
      "[CV] .................... max_depth=5, n_estimators=130, total=   0.7s\n",
      "[CV] max_depth=5, n_estimators=145 ...................................\n",
      "[CV] .................... max_depth=5, n_estimators=145, total=   0.8s\n",
      "[CV] max_depth=5, n_estimators=145 ...................................\n",
      "[CV] .................... max_depth=5, n_estimators=145, total=   0.8s\n",
      "[CV] max_depth=5, n_estimators=145 ...................................\n"
     ]
    },
    {
     "name": "stdout",
     "output_type": "stream",
     "text": [
      "[CV] .................... max_depth=5, n_estimators=145, total=   0.8s\n",
      "[CV] max_depth=5, n_estimators=145 ...................................\n",
      "[CV] .................... max_depth=5, n_estimators=145, total=   0.8s\n",
      "[CV] max_depth=7, n_estimators=10 ....................................\n",
      "[CV] ..................... max_depth=7, n_estimators=10, total=   0.1s\n",
      "[CV] max_depth=7, n_estimators=10 ....................................\n",
      "[CV] ..................... max_depth=7, n_estimators=10, total=   0.1s\n",
      "[CV] max_depth=7, n_estimators=10 ....................................\n",
      "[CV] ..................... max_depth=7, n_estimators=10, total=   0.1s\n",
      "[CV] max_depth=7, n_estimators=10 ....................................\n",
      "[CV] ..................... max_depth=7, n_estimators=10, total=   0.1s\n",
      "[CV] max_depth=7, n_estimators=25 ....................................\n",
      "[CV] ..................... max_depth=7, n_estimators=25, total=   0.2s\n",
      "[CV] max_depth=7, n_estimators=25 ....................................\n",
      "[CV] ..................... max_depth=7, n_estimators=25, total=   0.2s\n",
      "[CV] max_depth=7, n_estimators=25 ....................................\n",
      "[CV] ..................... max_depth=7, n_estimators=25, total=   0.2s\n",
      "[CV] max_depth=7, n_estimators=25 ....................................\n",
      "[CV] ..................... max_depth=7, n_estimators=25, total=   0.2s\n",
      "[CV] max_depth=7, n_estimators=40 ....................................\n",
      "[CV] ..................... max_depth=7, n_estimators=40, total=   0.3s\n",
      "[CV] max_depth=7, n_estimators=40 ....................................\n",
      "[CV] ..................... max_depth=7, n_estimators=40, total=   0.3s\n",
      "[CV] max_depth=7, n_estimators=40 ....................................\n",
      "[CV] ..................... max_depth=7, n_estimators=40, total=   0.3s\n",
      "[CV] max_depth=7, n_estimators=40 ....................................\n",
      "[CV] ..................... max_depth=7, n_estimators=40, total=   0.3s\n",
      "[CV] max_depth=7, n_estimators=55 ....................................\n",
      "[CV] ..................... max_depth=7, n_estimators=55, total=   0.4s\n",
      "[CV] max_depth=7, n_estimators=55 ....................................\n",
      "[CV] ..................... max_depth=7, n_estimators=55, total=   0.4s\n",
      "[CV] max_depth=7, n_estimators=55 ....................................\n",
      "[CV] ..................... max_depth=7, n_estimators=55, total=   0.4s\n",
      "[CV] max_depth=7, n_estimators=55 ....................................\n",
      "[CV] ..................... max_depth=7, n_estimators=55, total=   0.4s\n",
      "[CV] max_depth=7, n_estimators=70 ....................................\n",
      "[CV] ..................... max_depth=7, n_estimators=70, total=   0.5s\n",
      "[CV] max_depth=7, n_estimators=70 ....................................\n",
      "[CV] ..................... max_depth=7, n_estimators=70, total=   0.5s\n",
      "[CV] max_depth=7, n_estimators=70 ....................................\n",
      "[CV] ..................... max_depth=7, n_estimators=70, total=   0.5s\n",
      "[CV] max_depth=7, n_estimators=70 ....................................\n",
      "[CV] ..................... max_depth=7, n_estimators=70, total=   0.5s\n",
      "[CV] max_depth=7, n_estimators=85 ....................................\n",
      "[CV] ..................... max_depth=7, n_estimators=85, total=   0.5s\n",
      "[CV] max_depth=7, n_estimators=85 ....................................\n",
      "[CV] ..................... max_depth=7, n_estimators=85, total=   0.6s\n",
      "[CV] max_depth=7, n_estimators=85 ....................................\n",
      "[CV] ..................... max_depth=7, n_estimators=85, total=   0.5s\n",
      "[CV] max_depth=7, n_estimators=85 ....................................\n",
      "[CV] ..................... max_depth=7, n_estimators=85, total=   0.6s\n",
      "[CV] max_depth=7, n_estimators=100 ...................................\n",
      "[CV] .................... max_depth=7, n_estimators=100, total=   0.6s\n",
      "[CV] max_depth=7, n_estimators=100 ...................................\n",
      "[CV] .................... max_depth=7, n_estimators=100, total=   0.6s\n",
      "[CV] max_depth=7, n_estimators=100 ...................................\n",
      "[CV] .................... max_depth=7, n_estimators=100, total=   0.7s\n",
      "[CV] max_depth=7, n_estimators=100 ...................................\n",
      "[CV] .................... max_depth=7, n_estimators=100, total=   0.7s\n",
      "[CV] max_depth=7, n_estimators=115 ...................................\n",
      "[CV] .................... max_depth=7, n_estimators=115, total=   0.8s\n",
      "[CV] max_depth=7, n_estimators=115 ...................................\n",
      "[CV] .................... max_depth=7, n_estimators=115, total=   0.8s\n",
      "[CV] max_depth=7, n_estimators=115 ...................................\n",
      "[CV] .................... max_depth=7, n_estimators=115, total=   0.8s\n",
      "[CV] max_depth=7, n_estimators=115 ...................................\n",
      "[CV] .................... max_depth=7, n_estimators=115, total=   0.7s\n",
      "[CV] max_depth=7, n_estimators=130 ...................................\n",
      "[CV] .................... max_depth=7, n_estimators=130, total=   0.9s\n",
      "[CV] max_depth=7, n_estimators=130 ...................................\n",
      "[CV] .................... max_depth=7, n_estimators=130, total=   0.9s\n",
      "[CV] max_depth=7, n_estimators=130 ...................................\n",
      "[CV] .................... max_depth=7, n_estimators=130, total=   0.9s\n",
      "[CV] max_depth=7, n_estimators=130 ...................................\n",
      "[CV] .................... max_depth=7, n_estimators=130, total=   0.9s\n",
      "[CV] max_depth=7, n_estimators=145 ...................................\n",
      "[CV] .................... max_depth=7, n_estimators=145, total=   1.0s\n",
      "[CV] max_depth=7, n_estimators=145 ...................................\n",
      "[CV] .................... max_depth=7, n_estimators=145, total=   1.0s\n",
      "[CV] max_depth=7, n_estimators=145 ...................................\n",
      "[CV] .................... max_depth=7, n_estimators=145, total=   0.9s\n",
      "[CV] max_depth=7, n_estimators=145 ...................................\n",
      "[CV] .................... max_depth=7, n_estimators=145, total=   0.9s\n",
      "[CV] max_depth=9, n_estimators=10 ....................................\n",
      "[CV] ..................... max_depth=9, n_estimators=10, total=   0.1s\n",
      "[CV] max_depth=9, n_estimators=10 ....................................\n",
      "[CV] ..................... max_depth=9, n_estimators=10, total=   0.1s\n",
      "[CV] max_depth=9, n_estimators=10 ....................................\n",
      "[CV] ..................... max_depth=9, n_estimators=10, total=   0.1s\n",
      "[CV] max_depth=9, n_estimators=10 ....................................\n",
      "[CV] ..................... max_depth=9, n_estimators=10, total=   0.1s\n",
      "[CV] max_depth=9, n_estimators=25 ....................................\n",
      "[CV] ..................... max_depth=9, n_estimators=25, total=   0.2s\n",
      "[CV] max_depth=9, n_estimators=25 ....................................\n",
      "[CV] ..................... max_depth=9, n_estimators=25, total=   0.2s\n",
      "[CV] max_depth=9, n_estimators=25 ....................................\n",
      "[CV] ..................... max_depth=9, n_estimators=25, total=   0.2s\n",
      "[CV] max_depth=9, n_estimators=25 ....................................\n",
      "[CV] ..................... max_depth=9, n_estimators=25, total=   0.2s\n",
      "[CV] max_depth=9, n_estimators=40 ....................................\n",
      "[CV] ..................... max_depth=9, n_estimators=40, total=   0.3s\n",
      "[CV] max_depth=9, n_estimators=40 ....................................\n",
      "[CV] ..................... max_depth=9, n_estimators=40, total=   0.3s\n",
      "[CV] max_depth=9, n_estimators=40 ....................................\n",
      "[CV] ..................... max_depth=9, n_estimators=40, total=   0.3s\n",
      "[CV] max_depth=9, n_estimators=40 ....................................\n",
      "[CV] ..................... max_depth=9, n_estimators=40, total=   0.3s\n",
      "[CV] max_depth=9, n_estimators=55 ....................................\n",
      "[CV] ..................... max_depth=9, n_estimators=55, total=   0.4s\n",
      "[CV] max_depth=9, n_estimators=55 ....................................\n",
      "[CV] ..................... max_depth=9, n_estimators=55, total=   0.4s\n",
      "[CV] max_depth=9, n_estimators=55 ....................................\n",
      "[CV] ..................... max_depth=9, n_estimators=55, total=   0.4s\n",
      "[CV] max_depth=9, n_estimators=55 ....................................\n",
      "[CV] ..................... max_depth=9, n_estimators=55, total=   0.4s\n",
      "[CV] max_depth=9, n_estimators=70 ....................................\n"
     ]
    },
    {
     "name": "stdout",
     "output_type": "stream",
     "text": [
      "[CV] ..................... max_depth=9, n_estimators=70, total=   0.6s\n",
      "[CV] max_depth=9, n_estimators=70 ....................................\n",
      "[CV] ..................... max_depth=9, n_estimators=70, total=   0.5s\n",
      "[CV] max_depth=9, n_estimators=70 ....................................\n",
      "[CV] ..................... max_depth=9, n_estimators=70, total=   0.6s\n",
      "[CV] max_depth=9, n_estimators=70 ....................................\n",
      "[CV] ..................... max_depth=9, n_estimators=70, total=   0.6s\n",
      "[CV] max_depth=9, n_estimators=85 ....................................\n",
      "[CV] ..................... max_depth=9, n_estimators=85, total=   0.7s\n",
      "[CV] max_depth=9, n_estimators=85 ....................................\n",
      "[CV] ..................... max_depth=9, n_estimators=85, total=   0.7s\n",
      "[CV] max_depth=9, n_estimators=85 ....................................\n",
      "[CV] ..................... max_depth=9, n_estimators=85, total=   0.7s\n",
      "[CV] max_depth=9, n_estimators=85 ....................................\n",
      "[CV] ..................... max_depth=9, n_estimators=85, total=   0.7s\n",
      "[CV] max_depth=9, n_estimators=100 ...................................\n",
      "[CV] .................... max_depth=9, n_estimators=100, total=   0.8s\n",
      "[CV] max_depth=9, n_estimators=100 ...................................\n",
      "[CV] .................... max_depth=9, n_estimators=100, total=   0.8s\n",
      "[CV] max_depth=9, n_estimators=100 ...................................\n",
      "[CV] .................... max_depth=9, n_estimators=100, total=   0.8s\n",
      "[CV] max_depth=9, n_estimators=100 ...................................\n",
      "[CV] .................... max_depth=9, n_estimators=100, total=   0.8s\n",
      "[CV] max_depth=9, n_estimators=115 ...................................\n",
      "[CV] .................... max_depth=9, n_estimators=115, total=   0.9s\n",
      "[CV] max_depth=9, n_estimators=115 ...................................\n",
      "[CV] .................... max_depth=9, n_estimators=115, total=   0.9s\n",
      "[CV] max_depth=9, n_estimators=115 ...................................\n",
      "[CV] .................... max_depth=9, n_estimators=115, total=   0.9s\n",
      "[CV] max_depth=9, n_estimators=115 ...................................\n",
      "[CV] .................... max_depth=9, n_estimators=115, total=   0.9s\n",
      "[CV] max_depth=9, n_estimators=130 ...................................\n",
      "[CV] .................... max_depth=9, n_estimators=130, total=   1.1s\n",
      "[CV] max_depth=9, n_estimators=130 ...................................\n",
      "[CV] .................... max_depth=9, n_estimators=130, total=   1.0s\n",
      "[CV] max_depth=9, n_estimators=130 ...................................\n",
      "[CV] .................... max_depth=9, n_estimators=130, total=   1.0s\n",
      "[CV] max_depth=9, n_estimators=130 ...................................\n",
      "[CV] .................... max_depth=9, n_estimators=130, total=   1.0s\n",
      "[CV] max_depth=9, n_estimators=145 ...................................\n",
      "[CV] .................... max_depth=9, n_estimators=145, total=   1.1s\n",
      "[CV] max_depth=9, n_estimators=145 ...................................\n",
      "[CV] .................... max_depth=9, n_estimators=145, total=   1.1s\n",
      "[CV] max_depth=9, n_estimators=145 ...................................\n",
      "[CV] .................... max_depth=9, n_estimators=145, total=   1.1s\n",
      "[CV] max_depth=9, n_estimators=145 ...................................\n",
      "[CV] .................... max_depth=9, n_estimators=145, total=   1.1s\n",
      "[CV] max_depth=11, n_estimators=10 ...................................\n",
      "[CV] .................... max_depth=11, n_estimators=10, total=   0.1s\n",
      "[CV] max_depth=11, n_estimators=10 ...................................\n",
      "[CV] .................... max_depth=11, n_estimators=10, total=   0.1s\n",
      "[CV] max_depth=11, n_estimators=10 ...................................\n",
      "[CV] .................... max_depth=11, n_estimators=10, total=   0.1s\n",
      "[CV] max_depth=11, n_estimators=10 ...................................\n",
      "[CV] .................... max_depth=11, n_estimators=10, total=   0.1s\n",
      "[CV] max_depth=11, n_estimators=25 ...................................\n",
      "[CV] .................... max_depth=11, n_estimators=25, total=   0.2s\n",
      "[CV] max_depth=11, n_estimators=25 ...................................\n",
      "[CV] .................... max_depth=11, n_estimators=25, total=   0.2s\n",
      "[CV] max_depth=11, n_estimators=25 ...................................\n",
      "[CV] .................... max_depth=11, n_estimators=25, total=   0.2s\n",
      "[CV] max_depth=11, n_estimators=25 ...................................\n",
      "[CV] .................... max_depth=11, n_estimators=25, total=   0.2s\n",
      "[CV] max_depth=11, n_estimators=40 ...................................\n",
      "[CV] .................... max_depth=11, n_estimators=40, total=   0.4s\n",
      "[CV] max_depth=11, n_estimators=40 ...................................\n",
      "[CV] .................... max_depth=11, n_estimators=40, total=   0.3s\n",
      "[CV] max_depth=11, n_estimators=40 ...................................\n",
      "[CV] .................... max_depth=11, n_estimators=40, total=   0.3s\n",
      "[CV] max_depth=11, n_estimators=40 ...................................\n",
      "[CV] .................... max_depth=11, n_estimators=40, total=   0.4s\n",
      "[CV] max_depth=11, n_estimators=55 ...................................\n",
      "[CV] .................... max_depth=11, n_estimators=55, total=   0.5s\n",
      "[CV] max_depth=11, n_estimators=55 ...................................\n",
      "[CV] .................... max_depth=11, n_estimators=55, total=   0.5s\n",
      "[CV] max_depth=11, n_estimators=55 ...................................\n",
      "[CV] .................... max_depth=11, n_estimators=55, total=   0.5s\n",
      "[CV] max_depth=11, n_estimators=55 ...................................\n",
      "[CV] .................... max_depth=11, n_estimators=55, total=   0.5s\n",
      "[CV] max_depth=11, n_estimators=70 ...................................\n",
      "[CV] .................... max_depth=11, n_estimators=70, total=   0.6s\n",
      "[CV] max_depth=11, n_estimators=70 ...................................\n",
      "[CV] .................... max_depth=11, n_estimators=70, total=   0.6s\n",
      "[CV] max_depth=11, n_estimators=70 ...................................\n",
      "[CV] .................... max_depth=11, n_estimators=70, total=   0.6s\n",
      "[CV] max_depth=11, n_estimators=70 ...................................\n",
      "[CV] .................... max_depth=11, n_estimators=70, total=   0.6s\n",
      "[CV] max_depth=11, n_estimators=85 ...................................\n",
      "[CV] .................... max_depth=11, n_estimators=85, total=   0.7s\n",
      "[CV] max_depth=11, n_estimators=85 ...................................\n",
      "[CV] .................... max_depth=11, n_estimators=85, total=   0.7s\n",
      "[CV] max_depth=11, n_estimators=85 ...................................\n",
      "[CV] .................... max_depth=11, n_estimators=85, total=   0.7s\n",
      "[CV] max_depth=11, n_estimators=85 ...................................\n",
      "[CV] .................... max_depth=11, n_estimators=85, total=   0.7s\n",
      "[CV] max_depth=11, n_estimators=100 ..................................\n",
      "[CV] ................... max_depth=11, n_estimators=100, total=   0.9s\n",
      "[CV] max_depth=11, n_estimators=100 ..................................\n",
      "[CV] ................... max_depth=11, n_estimators=100, total=   0.8s\n",
      "[CV] max_depth=11, n_estimators=100 ..................................\n",
      "[CV] ................... max_depth=11, n_estimators=100, total=   0.8s\n",
      "[CV] max_depth=11, n_estimators=100 ..................................\n",
      "[CV] ................... max_depth=11, n_estimators=100, total=   0.8s\n",
      "[CV] max_depth=11, n_estimators=115 ..................................\n",
      "[CV] ................... max_depth=11, n_estimators=115, total=   1.0s\n",
      "[CV] max_depth=11, n_estimators=115 ..................................\n",
      "[CV] ................... max_depth=11, n_estimators=115, total=   1.0s\n",
      "[CV] max_depth=11, n_estimators=115 ..................................\n",
      "[CV] ................... max_depth=11, n_estimators=115, total=   0.9s\n",
      "[CV] max_depth=11, n_estimators=115 ..................................\n",
      "[CV] ................... max_depth=11, n_estimators=115, total=   1.0s\n",
      "[CV] max_depth=11, n_estimators=130 ..................................\n",
      "[CV] ................... max_depth=11, n_estimators=130, total=   1.1s\n",
      "[CV] max_depth=11, n_estimators=130 ..................................\n",
      "[CV] ................... max_depth=11, n_estimators=130, total=   1.1s\n",
      "[CV] max_depth=11, n_estimators=130 ..................................\n"
     ]
    },
    {
     "name": "stdout",
     "output_type": "stream",
     "text": [
      "[CV] ................... max_depth=11, n_estimators=130, total=   1.1s\n",
      "[CV] max_depth=11, n_estimators=130 ..................................\n",
      "[CV] ................... max_depth=11, n_estimators=130, total=   1.1s\n",
      "[CV] max_depth=11, n_estimators=145 ..................................\n",
      "[CV] ................... max_depth=11, n_estimators=145, total=   1.3s\n",
      "[CV] max_depth=11, n_estimators=145 ..................................\n",
      "[CV] ................... max_depth=11, n_estimators=145, total=   1.2s\n",
      "[CV] max_depth=11, n_estimators=145 ..................................\n",
      "[CV] ................... max_depth=11, n_estimators=145, total=   1.2s\n",
      "[CV] max_depth=11, n_estimators=145 ..................................\n",
      "[CV] ................... max_depth=11, n_estimators=145, total=   1.2s\n",
      "[CV] max_depth=13, n_estimators=10 ...................................\n",
      "[CV] .................... max_depth=13, n_estimators=10, total=   0.1s\n",
      "[CV] max_depth=13, n_estimators=10 ...................................\n",
      "[CV] .................... max_depth=13, n_estimators=10, total=   0.1s\n",
      "[CV] max_depth=13, n_estimators=10 ...................................\n",
      "[CV] .................... max_depth=13, n_estimators=10, total=   0.1s\n",
      "[CV] max_depth=13, n_estimators=10 ...................................\n",
      "[CV] .................... max_depth=13, n_estimators=10, total=   0.1s\n",
      "[CV] max_depth=13, n_estimators=25 ...................................\n",
      "[CV] .................... max_depth=13, n_estimators=25, total=   0.2s\n",
      "[CV] max_depth=13, n_estimators=25 ...................................\n",
      "[CV] .................... max_depth=13, n_estimators=25, total=   0.2s\n",
      "[CV] max_depth=13, n_estimators=25 ...................................\n",
      "[CV] .................... max_depth=13, n_estimators=25, total=   0.3s\n",
      "[CV] max_depth=13, n_estimators=25 ...................................\n",
      "[CV] .................... max_depth=13, n_estimators=25, total=   0.2s\n",
      "[CV] max_depth=13, n_estimators=40 ...................................\n",
      "[CV] .................... max_depth=13, n_estimators=40, total=   0.4s\n",
      "[CV] max_depth=13, n_estimators=40 ...................................\n",
      "[CV] .................... max_depth=13, n_estimators=40, total=   0.4s\n",
      "[CV] max_depth=13, n_estimators=40 ...................................\n",
      "[CV] .................... max_depth=13, n_estimators=40, total=   0.4s\n",
      "[CV] max_depth=13, n_estimators=40 ...................................\n",
      "[CV] .................... max_depth=13, n_estimators=40, total=   0.4s\n",
      "[CV] max_depth=13, n_estimators=55 ...................................\n",
      "[CV] .................... max_depth=13, n_estimators=55, total=   0.5s\n",
      "[CV] max_depth=13, n_estimators=55 ...................................\n",
      "[CV] .................... max_depth=13, n_estimators=55, total=   0.5s\n",
      "[CV] max_depth=13, n_estimators=55 ...................................\n",
      "[CV] .................... max_depth=13, n_estimators=55, total=   0.5s\n",
      "[CV] max_depth=13, n_estimators=55 ...................................\n",
      "[CV] .................... max_depth=13, n_estimators=55, total=   0.5s\n",
      "[CV] max_depth=13, n_estimators=70 ...................................\n",
      "[CV] .................... max_depth=13, n_estimators=70, total=   0.7s\n",
      "[CV] max_depth=13, n_estimators=70 ...................................\n",
      "[CV] .................... max_depth=13, n_estimators=70, total=   0.6s\n",
      "[CV] max_depth=13, n_estimators=70 ...................................\n",
      "[CV] .................... max_depth=13, n_estimators=70, total=   0.6s\n",
      "[CV] max_depth=13, n_estimators=70 ...................................\n",
      "[CV] .................... max_depth=13, n_estimators=70, total=   0.6s\n",
      "[CV] max_depth=13, n_estimators=85 ...................................\n",
      "[CV] .................... max_depth=13, n_estimators=85, total=   0.7s\n",
      "[CV] max_depth=13, n_estimators=85 ...................................\n",
      "[CV] .................... max_depth=13, n_estimators=85, total=   0.8s\n",
      "[CV] max_depth=13, n_estimators=85 ...................................\n",
      "[CV] .................... max_depth=13, n_estimators=85, total=   0.8s\n",
      "[CV] max_depth=13, n_estimators=85 ...................................\n",
      "[CV] .................... max_depth=13, n_estimators=85, total=   0.8s\n",
      "[CV] max_depth=13, n_estimators=100 ..................................\n",
      "[CV] ................... max_depth=13, n_estimators=100, total=   0.9s\n",
      "[CV] max_depth=13, n_estimators=100 ..................................\n",
      "[CV] ................... max_depth=13, n_estimators=100, total=   0.9s\n",
      "[CV] max_depth=13, n_estimators=100 ..................................\n",
      "[CV] ................... max_depth=13, n_estimators=100, total=   0.9s\n",
      "[CV] max_depth=13, n_estimators=100 ..................................\n",
      "[CV] ................... max_depth=13, n_estimators=100, total=   0.9s\n",
      "[CV] max_depth=13, n_estimators=115 ..................................\n",
      "[CV] ................... max_depth=13, n_estimators=115, total=   1.0s\n",
      "[CV] max_depth=13, n_estimators=115 ..................................\n",
      "[CV] ................... max_depth=13, n_estimators=115, total=   1.1s\n",
      "[CV] max_depth=13, n_estimators=115 ..................................\n",
      "[CV] ................... max_depth=13, n_estimators=115, total=   1.0s\n",
      "[CV] max_depth=13, n_estimators=115 ..................................\n",
      "[CV] ................... max_depth=13, n_estimators=115, total=   1.1s\n",
      "[CV] max_depth=13, n_estimators=130 ..................................\n",
      "[CV] ................... max_depth=13, n_estimators=130, total=   1.2s\n",
      "[CV] max_depth=13, n_estimators=130 ..................................\n",
      "[CV] ................... max_depth=13, n_estimators=130, total=   1.3s\n",
      "[CV] max_depth=13, n_estimators=130 ..................................\n",
      "[CV] ................... max_depth=13, n_estimators=130, total=   1.2s\n",
      "[CV] max_depth=13, n_estimators=130 ..................................\n",
      "[CV] ................... max_depth=13, n_estimators=130, total=   1.4s\n",
      "[CV] max_depth=13, n_estimators=145 ..................................\n",
      "[CV] ................... max_depth=13, n_estimators=145, total=   1.4s\n",
      "[CV] max_depth=13, n_estimators=145 ..................................\n",
      "[CV] ................... max_depth=13, n_estimators=145, total=   1.4s\n",
      "[CV] max_depth=13, n_estimators=145 ..................................\n",
      "[CV] ................... max_depth=13, n_estimators=145, total=   1.7s\n",
      "[CV] max_depth=13, n_estimators=145 ..................................\n",
      "[CV] ................... max_depth=13, n_estimators=145, total=   1.8s\n",
      "[CV] max_depth=15, n_estimators=10 ...................................\n",
      "[CV] .................... max_depth=15, n_estimators=10, total=   0.1s\n",
      "[CV] max_depth=15, n_estimators=10 ...................................\n",
      "[CV] .................... max_depth=15, n_estimators=10, total=   0.1s\n",
      "[CV] max_depth=15, n_estimators=10 ...................................\n",
      "[CV] .................... max_depth=15, n_estimators=10, total=   0.1s\n",
      "[CV] max_depth=15, n_estimators=10 ...................................\n",
      "[CV] .................... max_depth=15, n_estimators=10, total=   0.1s\n",
      "[CV] max_depth=15, n_estimators=25 ...................................\n",
      "[CV] .................... max_depth=15, n_estimators=25, total=   0.3s\n",
      "[CV] max_depth=15, n_estimators=25 ...................................\n",
      "[CV] .................... max_depth=15, n_estimators=25, total=   0.3s\n",
      "[CV] max_depth=15, n_estimators=25 ...................................\n",
      "[CV] .................... max_depth=15, n_estimators=25, total=   0.3s\n",
      "[CV] max_depth=15, n_estimators=25 ...................................\n",
      "[CV] .................... max_depth=15, n_estimators=25, total=   0.3s\n",
      "[CV] max_depth=15, n_estimators=40 ...................................\n",
      "[CV] .................... max_depth=15, n_estimators=40, total=   0.5s\n",
      "[CV] max_depth=15, n_estimators=40 ...................................\n",
      "[CV] .................... max_depth=15, n_estimators=40, total=   0.5s\n",
      "[CV] max_depth=15, n_estimators=40 ...................................\n",
      "[CV] .................... max_depth=15, n_estimators=40, total=   0.5s\n",
      "[CV] max_depth=15, n_estimators=40 ...................................\n",
      "[CV] .................... max_depth=15, n_estimators=40, total=   0.5s\n",
      "[CV] max_depth=15, n_estimators=55 ...................................\n"
     ]
    },
    {
     "name": "stdout",
     "output_type": "stream",
     "text": [
      "[CV] .................... max_depth=15, n_estimators=55, total=   0.6s\n",
      "[CV] max_depth=15, n_estimators=55 ...................................\n",
      "[CV] .................... max_depth=15, n_estimators=55, total=   0.7s\n",
      "[CV] max_depth=15, n_estimators=55 ...................................\n",
      "[CV] .................... max_depth=15, n_estimators=55, total=   0.8s\n",
      "[CV] max_depth=15, n_estimators=55 ...................................\n",
      "[CV] .................... max_depth=15, n_estimators=55, total=   0.6s\n",
      "[CV] max_depth=15, n_estimators=70 ...................................\n",
      "[CV] .................... max_depth=15, n_estimators=70, total=   0.7s\n",
      "[CV] max_depth=15, n_estimators=70 ...................................\n",
      "[CV] .................... max_depth=15, n_estimators=70, total=   0.7s\n",
      "[CV] max_depth=15, n_estimators=70 ...................................\n",
      "[CV] .................... max_depth=15, n_estimators=70, total=   0.7s\n",
      "[CV] max_depth=15, n_estimators=70 ...................................\n",
      "[CV] .................... max_depth=15, n_estimators=70, total=   0.7s\n",
      "[CV] max_depth=15, n_estimators=85 ...................................\n",
      "[CV] .................... max_depth=15, n_estimators=85, total=   0.8s\n",
      "[CV] max_depth=15, n_estimators=85 ...................................\n",
      "[CV] .................... max_depth=15, n_estimators=85, total=   0.8s\n",
      "[CV] max_depth=15, n_estimators=85 ...................................\n",
      "[CV] .................... max_depth=15, n_estimators=85, total=   0.8s\n",
      "[CV] max_depth=15, n_estimators=85 ...................................\n",
      "[CV] .................... max_depth=15, n_estimators=85, total=   0.9s\n",
      "[CV] max_depth=15, n_estimators=100 ..................................\n",
      "[CV] ................... max_depth=15, n_estimators=100, total=   1.0s\n",
      "[CV] max_depth=15, n_estimators=100 ..................................\n",
      "[CV] ................... max_depth=15, n_estimators=100, total=   1.0s\n",
      "[CV] max_depth=15, n_estimators=100 ..................................\n",
      "[CV] ................... max_depth=15, n_estimators=100, total=   1.0s\n",
      "[CV] max_depth=15, n_estimators=100 ..................................\n",
      "[CV] ................... max_depth=15, n_estimators=100, total=   1.0s\n",
      "[CV] max_depth=15, n_estimators=115 ..................................\n",
      "[CV] ................... max_depth=15, n_estimators=115, total=   1.2s\n",
      "[CV] max_depth=15, n_estimators=115 ..................................\n",
      "[CV] ................... max_depth=15, n_estimators=115, total=   1.1s\n",
      "[CV] max_depth=15, n_estimators=115 ..................................\n",
      "[CV] ................... max_depth=15, n_estimators=115, total=   1.2s\n",
      "[CV] max_depth=15, n_estimators=115 ..................................\n",
      "[CV] ................... max_depth=15, n_estimators=115, total=   1.1s\n",
      "[CV] max_depth=15, n_estimators=130 ..................................\n",
      "[CV] ................... max_depth=15, n_estimators=130, total=   1.3s\n",
      "[CV] max_depth=15, n_estimators=130 ..................................\n",
      "[CV] ................... max_depth=15, n_estimators=130, total=   1.3s\n",
      "[CV] max_depth=15, n_estimators=130 ..................................\n",
      "[CV] ................... max_depth=15, n_estimators=130, total=   1.3s\n",
      "[CV] max_depth=15, n_estimators=130 ..................................\n",
      "[CV] ................... max_depth=15, n_estimators=130, total=   1.3s\n",
      "[CV] max_depth=15, n_estimators=145 ..................................\n",
      "[CV] ................... max_depth=15, n_estimators=145, total=   1.4s\n",
      "[CV] max_depth=15, n_estimators=145 ..................................\n",
      "[CV] ................... max_depth=15, n_estimators=145, total=   1.5s\n",
      "[CV] max_depth=15, n_estimators=145 ..................................\n",
      "[CV] ................... max_depth=15, n_estimators=145, total=   1.4s\n",
      "[CV] max_depth=15, n_estimators=145 ..................................\n",
      "[CV] ................... max_depth=15, n_estimators=145, total=   1.5s\n",
      "[CV] max_depth=17, n_estimators=10 ...................................\n",
      "[CV] .................... max_depth=17, n_estimators=10, total=   0.1s\n",
      "[CV] max_depth=17, n_estimators=10 ...................................\n",
      "[CV] .................... max_depth=17, n_estimators=10, total=   0.1s\n",
      "[CV] max_depth=17, n_estimators=10 ...................................\n",
      "[CV] .................... max_depth=17, n_estimators=10, total=   0.1s\n",
      "[CV] max_depth=17, n_estimators=10 ...................................\n",
      "[CV] .................... max_depth=17, n_estimators=10, total=   0.1s\n",
      "[CV] max_depth=17, n_estimators=25 ...................................\n",
      "[CV] .................... max_depth=17, n_estimators=25, total=   0.3s\n",
      "[CV] max_depth=17, n_estimators=25 ...................................\n",
      "[CV] .................... max_depth=17, n_estimators=25, total=   0.3s\n",
      "[CV] max_depth=17, n_estimators=25 ...................................\n",
      "[CV] .................... max_depth=17, n_estimators=25, total=   0.2s\n",
      "[CV] max_depth=17, n_estimators=25 ...................................\n",
      "[CV] .................... max_depth=17, n_estimators=25, total=   0.3s\n",
      "[CV] max_depth=17, n_estimators=40 ...................................\n",
      "[CV] .................... max_depth=17, n_estimators=40, total=   0.5s\n",
      "[CV] max_depth=17, n_estimators=40 ...................................\n",
      "[CV] .................... max_depth=17, n_estimators=40, total=   0.5s\n",
      "[CV] max_depth=17, n_estimators=40 ...................................\n",
      "[CV] .................... max_depth=17, n_estimators=40, total=   0.4s\n",
      "[CV] max_depth=17, n_estimators=40 ...................................\n",
      "[CV] .................... max_depth=17, n_estimators=40, total=   0.5s\n",
      "[CV] max_depth=17, n_estimators=55 ...................................\n",
      "[CV] .................... max_depth=17, n_estimators=55, total=   0.6s\n",
      "[CV] max_depth=17, n_estimators=55 ...................................\n",
      "[CV] .................... max_depth=17, n_estimators=55, total=   0.6s\n",
      "[CV] max_depth=17, n_estimators=55 ...................................\n",
      "[CV] .................... max_depth=17, n_estimators=55, total=   0.6s\n",
      "[CV] max_depth=17, n_estimators=55 ...................................\n",
      "[CV] .................... max_depth=17, n_estimators=55, total=   0.6s\n",
      "[CV] max_depth=17, n_estimators=70 ...................................\n",
      "[CV] .................... max_depth=17, n_estimators=70, total=   0.8s\n",
      "[CV] max_depth=17, n_estimators=70 ...................................\n",
      "[CV] .................... max_depth=17, n_estimators=70, total=   0.8s\n",
      "[CV] max_depth=17, n_estimators=70 ...................................\n",
      "[CV] .................... max_depth=17, n_estimators=70, total=   0.8s\n",
      "[CV] max_depth=17, n_estimators=70 ...................................\n",
      "[CV] .................... max_depth=17, n_estimators=70, total=   0.8s\n",
      "[CV] max_depth=17, n_estimators=85 ...................................\n",
      "[CV] .................... max_depth=17, n_estimators=85, total=   0.9s\n",
      "[CV] max_depth=17, n_estimators=85 ...................................\n",
      "[CV] .................... max_depth=17, n_estimators=85, total=   0.9s\n",
      "[CV] max_depth=17, n_estimators=85 ...................................\n",
      "[CV] .................... max_depth=17, n_estimators=85, total=   0.9s\n",
      "[CV] max_depth=17, n_estimators=85 ...................................\n",
      "[CV] .................... max_depth=17, n_estimators=85, total=   0.9s\n",
      "[CV] max_depth=17, n_estimators=100 ..................................\n",
      "[CV] ................... max_depth=17, n_estimators=100, total=   1.0s\n",
      "[CV] max_depth=17, n_estimators=100 ..................................\n",
      "[CV] ................... max_depth=17, n_estimators=100, total=   1.0s\n",
      "[CV] max_depth=17, n_estimators=100 ..................................\n",
      "[CV] ................... max_depth=17, n_estimators=100, total=   1.0s\n",
      "[CV] max_depth=17, n_estimators=100 ..................................\n",
      "[CV] ................... max_depth=17, n_estimators=100, total=   1.0s\n",
      "[CV] max_depth=17, n_estimators=115 ..................................\n",
      "[CV] ................... max_depth=17, n_estimators=115, total=   1.2s\n",
      "[CV] max_depth=17, n_estimators=115 ..................................\n",
      "[CV] ................... max_depth=17, n_estimators=115, total=   1.1s\n",
      "[CV] max_depth=17, n_estimators=115 ..................................\n"
     ]
    },
    {
     "name": "stdout",
     "output_type": "stream",
     "text": [
      "[CV] ................... max_depth=17, n_estimators=115, total=   1.2s\n",
      "[CV] max_depth=17, n_estimators=115 ..................................\n",
      "[CV] ................... max_depth=17, n_estimators=115, total=   1.2s\n",
      "[CV] max_depth=17, n_estimators=130 ..................................\n",
      "[CV] ................... max_depth=17, n_estimators=130, total=   1.3s\n",
      "[CV] max_depth=17, n_estimators=130 ..................................\n",
      "[CV] ................... max_depth=17, n_estimators=130, total=   1.2s\n",
      "[CV] max_depth=17, n_estimators=130 ..................................\n",
      "[CV] ................... max_depth=17, n_estimators=130, total=   1.2s\n",
      "[CV] max_depth=17, n_estimators=130 ..................................\n",
      "[CV] ................... max_depth=17, n_estimators=130, total=   1.2s\n",
      "[CV] max_depth=17, n_estimators=145 ..................................\n",
      "[CV] ................... max_depth=17, n_estimators=145, total=   1.4s\n",
      "[CV] max_depth=17, n_estimators=145 ..................................\n",
      "[CV] ................... max_depth=17, n_estimators=145, total=   1.3s\n",
      "[CV] max_depth=17, n_estimators=145 ..................................\n",
      "[CV] ................... max_depth=17, n_estimators=145, total=   1.4s\n",
      "[CV] max_depth=17, n_estimators=145 ..................................\n",
      "[CV] ................... max_depth=17, n_estimators=145, total=   1.5s\n",
      "[CV] max_depth=19, n_estimators=10 ...................................\n",
      "[CV] .................... max_depth=19, n_estimators=10, total=   0.1s\n",
      "[CV] max_depth=19, n_estimators=10 ...................................\n",
      "[CV] .................... max_depth=19, n_estimators=10, total=   0.1s\n",
      "[CV] max_depth=19, n_estimators=10 ...................................\n",
      "[CV] .................... max_depth=19, n_estimators=10, total=   0.1s\n",
      "[CV] max_depth=19, n_estimators=10 ...................................\n",
      "[CV] .................... max_depth=19, n_estimators=10, total=   0.1s\n",
      "[CV] max_depth=19, n_estimators=25 ...................................\n",
      "[CV] .................... max_depth=19, n_estimators=25, total=   0.3s\n",
      "[CV] max_depth=19, n_estimators=25 ...................................\n",
      "[CV] .................... max_depth=19, n_estimators=25, total=   0.3s\n",
      "[CV] max_depth=19, n_estimators=25 ...................................\n",
      "[CV] .................... max_depth=19, n_estimators=25, total=   0.3s\n",
      "[CV] max_depth=19, n_estimators=25 ...................................\n",
      "[CV] .................... max_depth=19, n_estimators=25, total=   0.3s\n",
      "[CV] max_depth=19, n_estimators=40 ...................................\n",
      "[CV] .................... max_depth=19, n_estimators=40, total=   0.4s\n",
      "[CV] max_depth=19, n_estimators=40 ...................................\n",
      "[CV] .................... max_depth=19, n_estimators=40, total=   0.4s\n",
      "[CV] max_depth=19, n_estimators=40 ...................................\n",
      "[CV] .................... max_depth=19, n_estimators=40, total=   0.4s\n",
      "[CV] max_depth=19, n_estimators=40 ...................................\n",
      "[CV] .................... max_depth=19, n_estimators=40, total=   0.4s\n",
      "[CV] max_depth=19, n_estimators=55 ...................................\n",
      "[CV] .................... max_depth=19, n_estimators=55, total=   0.6s\n",
      "[CV] max_depth=19, n_estimators=55 ...................................\n",
      "[CV] .................... max_depth=19, n_estimators=55, total=   0.5s\n",
      "[CV] max_depth=19, n_estimators=55 ...................................\n",
      "[CV] .................... max_depth=19, n_estimators=55, total=   0.6s\n",
      "[CV] max_depth=19, n_estimators=55 ...................................\n",
      "[CV] .................... max_depth=19, n_estimators=55, total=   0.6s\n",
      "[CV] max_depth=19, n_estimators=70 ...................................\n",
      "[CV] .................... max_depth=19, n_estimators=70, total=   0.7s\n",
      "[CV] max_depth=19, n_estimators=70 ...................................\n",
      "[CV] .................... max_depth=19, n_estimators=70, total=   0.7s\n",
      "[CV] max_depth=19, n_estimators=70 ...................................\n",
      "[CV] .................... max_depth=19, n_estimators=70, total=   0.8s\n",
      "[CV] max_depth=19, n_estimators=70 ...................................\n",
      "[CV] .................... max_depth=19, n_estimators=70, total=   0.7s\n",
      "[CV] max_depth=19, n_estimators=85 ...................................\n",
      "[CV] .................... max_depth=19, n_estimators=85, total=   0.9s\n",
      "[CV] max_depth=19, n_estimators=85 ...................................\n",
      "[CV] .................... max_depth=19, n_estimators=85, total=   0.9s\n",
      "[CV] max_depth=19, n_estimators=85 ...................................\n",
      "[CV] .................... max_depth=19, n_estimators=85, total=   0.9s\n",
      "[CV] max_depth=19, n_estimators=85 ...................................\n",
      "[CV] .................... max_depth=19, n_estimators=85, total=   0.9s\n",
      "[CV] max_depth=19, n_estimators=100 ..................................\n",
      "[CV] ................... max_depth=19, n_estimators=100, total=   1.0s\n",
      "[CV] max_depth=19, n_estimators=100 ..................................\n",
      "[CV] ................... max_depth=19, n_estimators=100, total=   1.0s\n",
      "[CV] max_depth=19, n_estimators=100 ..................................\n",
      "[CV] ................... max_depth=19, n_estimators=100, total=   1.0s\n",
      "[CV] max_depth=19, n_estimators=100 ..................................\n",
      "[CV] ................... max_depth=19, n_estimators=100, total=   1.1s\n",
      "[CV] max_depth=19, n_estimators=115 ..................................\n",
      "[CV] ................... max_depth=19, n_estimators=115, total=   1.2s\n",
      "[CV] max_depth=19, n_estimators=115 ..................................\n",
      "[CV] ................... max_depth=19, n_estimators=115, total=   1.2s\n",
      "[CV] max_depth=19, n_estimators=115 ..................................\n",
      "[CV] ................... max_depth=19, n_estimators=115, total=   1.2s\n",
      "[CV] max_depth=19, n_estimators=115 ..................................\n",
      "[CV] ................... max_depth=19, n_estimators=115, total=   1.2s\n",
      "[CV] max_depth=19, n_estimators=130 ..................................\n",
      "[CV] ................... max_depth=19, n_estimators=130, total=   1.3s\n",
      "[CV] max_depth=19, n_estimators=130 ..................................\n",
      "[CV] ................... max_depth=19, n_estimators=130, total=   1.3s\n",
      "[CV] max_depth=19, n_estimators=130 ..................................\n",
      "[CV] ................... max_depth=19, n_estimators=130, total=   1.3s\n",
      "[CV] max_depth=19, n_estimators=130 ..................................\n",
      "[CV] ................... max_depth=19, n_estimators=130, total=   1.3s\n",
      "[CV] max_depth=19, n_estimators=145 ..................................\n",
      "[CV] ................... max_depth=19, n_estimators=145, total=   1.5s\n",
      "[CV] max_depth=19, n_estimators=145 ..................................\n",
      "[CV] ................... max_depth=19, n_estimators=145, total=   1.5s\n",
      "[CV] max_depth=19, n_estimators=145 ..................................\n",
      "[CV] ................... max_depth=19, n_estimators=145, total=   1.5s\n",
      "[CV] max_depth=19, n_estimators=145 ..................................\n",
      "[CV] ................... max_depth=19, n_estimators=145, total=   1.5s\n"
     ]
    },
    {
     "name": "stderr",
     "output_type": "stream",
     "text": [
      "[Parallel(n_jobs=1)]: Done 400 out of 400 | elapsed:  4.6min finished\n"
     ]
    },
    {
     "name": "stdout",
     "output_type": "stream",
     "text": [
      "Wall time: 4min 34s\n"
     ]
    },
    {
     "data": {
      "text/plain": [
       "GridSearchCV(cv=4, estimator=RandomForestClassifier(random_state=12345),\n",
       "             n_jobs=1,\n",
       "             param_grid={'max_depth': range(1, 20, 2),\n",
       "                         'n_estimators': range(10, 151, 15)},\n",
       "             return_train_score=True, verbose=2)"
      ]
     },
     "execution_count": 68,
     "metadata": {},
     "output_type": "execute_result"
    }
   ],
   "source": [
    "%%time\n",
    "rs_CV.fit(features_cv, target_cv)"
   ]
  },
  {
   "cell_type": "markdown",
   "metadata": {},
   "source": [
    "Посмотрим какие получились параметры наилучшей модели."
   ]
  },
  {
   "cell_type": "code",
   "execution_count": 69,
   "metadata": {},
   "outputs": [
    {
     "data": {
      "text/plain": [
       "{'max_depth': 11, 'n_estimators': 85}"
      ]
     },
     "execution_count": 69,
     "metadata": {},
     "output_type": "execute_result"
    }
   ],
   "source": [
    "rs_CV.best_params_"
   ]
  },
  {
   "cell_type": "markdown",
   "metadata": {},
   "source": [
    "Проверим результаты:"
   ]
  },
  {
   "cell_type": "code",
   "execution_count": 70,
   "metadata": {},
   "outputs": [
    {
     "name": "stdout",
     "output_type": "stream",
     "text": [
      "Порог : 0.31000000000000005\n",
      "Полнота : 0.6707616707616708\n",
      "Точность : 0.5909090909090909\n",
      "F1-мера : 0.6283084004602993\n",
      "AUC-ROC : 0.7760588014825303\n"
     ]
    }
   ],
   "source": [
    "model_forestCV.fit(features_cv, target_cv) \n",
    "ModelStat_Info(model_forestCV, features_test, target_test)"
   ]
  },
  {
   "cell_type": "markdown",
   "metadata": {},
   "source": [
    "## Вывод\n",
    "    \n",
    "Дополнительно построили модель с помощью кросс-валидации.  \n",
    "Получили наилучшие параметры для модели:  \n",
    "    Количество деревьев - 145  \n",
    "    Максимальная глубина - 11\n",
    "    \n",
    "В итоге получились следующие результаты:\n",
    "\n",
    "    Порог : 0.31\n",
    "    Полнота : 0.62\n",
    "    Точность : 0.6\n",
    "    F1-мера : 0.61\n",
    "    AUC-ROC : 0.76"
   ]
  },
  {
   "cell_type": "markdown",
   "metadata": {},
   "source": [
    "# Вывод\n",
    "\n",
    "## Этап предобработки данных\n",
    "В ходе первичного анализа данных были обнаружены и решены следующие проблемы:\n",
    "\n",
    "    Колонка Tenure - есть пропущенные данные. Можно предположить, что пропущенными являются именно нулевые значения. (Недвижимости нет - значит можно ее и не указывать). Пометим, что нужно заполнить нолями.\n",
    "    Колонки HasCrCard, IsActiveMember, Exited - необходимо привести к типу bool.\n",
    "    Колонку Tenure можно привести к типу int.\n",
    "    От колонок RowNumber, CustomerId, Surname можно отказаться - поскольку на факт ухода клиента от этих данных не зависит, а именно это мы и исследуем в текущей работе.\n",
    "\n",
    "Далее было рассмотрено соотношение значений целевого признака - 1 к 4.  \n",
    "После чего исходный датасет был разбит на обучающую, валидационную, кроссвалидационную и тестовую выборки, которые в свою очередь были отдельно разделены на признаки и целевой признак. \n",
    "\n",
    "На обучающем датасете построили матрицу корреляции и выявили, что коррелирующих признаков у нас нет.\n",
    "\n",
    "## Обучение моделей без учета дисбаланса классов\n",
    "\n",
    "Обучили модели без учета дисбаланса классов.\n",
    "##### \"Дерево решений\".\n",
    "\n",
    "Перебрали модели со следующими вариантами параметров:\n",
    "\n",
    "макс. глубина - от 1 до 10.  \n",
    "мин. число образцов в листах - 10 значений в диапазоне от 2 до 50 с одинаковым интервалом.  \n",
    "\n",
    "Оформили нахождение модели в функцию, которую дальше будем использовать на измененной обучающей выборке.\n",
    "Написали также функцию, которая будет подбирать наилучший порог под максимальное значение F1-меры.\n",
    "Рассматриваемые значения порога от 0.01 до 1 с интервалом 0,1.\n",
    "\n",
    "###### Лучшая модель (без учета дисбаланса классов):\n",
    "Порог: 0.41  \n",
    "Наилучшее количество примеров в листе: 7  \n",
    "Наилучшая глубина дерева: 7   \n",
    "F1-мера наилучшей модели на валидационной выборке: 0.62  \n",
    "AUC-ROC : 0.78  \n",
    "\n",
    "##### Случайный лес\n",
    "Перебрали модели со следующими вариантами параметров:\n",
    "\n",
    "Количество деревьев - от 10 до 150 с интервалом 10  \n",
    "макс. глубина - от 1 до 15 с интервалом 1  \n",
    "\n",
    "###### Лучшая модель (без учета дисбаланса классов):\n",
    "Порог: 0.31  \n",
    "Наилучшее количество деревьев: 130  \n",
    "Наилучшая глубина дерева: 8   \n",
    "F1-мера наилучшей модели на валидационной выборке: 0.64  \n",
    "AUC-ROC : 0.77  \n",
    "\n",
    "##### Логистическая регрессия\n",
    "Построили модель с параметром solver='liblinear'  \n",
    "      \n",
    "###### Лучшая модель (без учета дисбаланса классов):\n",
    "Порог : 0.21\n",
    "F1-мера : 0.39\n",
    "AUC-ROC : 0.61\n",
    "\n",
    "##### Обобщение:\n",
    "Благодаря поиску оптимального порога мы получили довольно неплохие предварительные модели (даже без учета дисбаланса классов). Если бы порог был стандартным - результаты были бы несколько хуже.\n",
    "\n",
    "## Обучение моделей с учетом дисбаланса классов\n",
    "\n",
    "Произвели три попытки борьбы с дисбалансом классов. Получились следующие результаты (в скобках указаны значения без учета дисбаланса): \n",
    "\n",
    "\n",
    "##### Дерево решений:\n",
    "\n",
    "###### Downsampling - удаление части выборки преобладающего класса  \n",
    "Наилучшая модель:\n",
    "\n",
    "    Порог: 0.51     \n",
    "    Наилучшее количество примеров в листе: 28  \n",
    "    Наилучшая глубина дерева: 5\n",
    "    F1-мера наилучшей модели на валидационной выборке: 0.599 (0.62)\n",
    "    AUC-ROC : 0.76 (0.78)\n",
    "\n",
    "###### Upsampling - дублирование выборки класса в меньшинстве  \n",
    "Наилучшая модель:\n",
    "\n",
    "    Порог: 0.61\n",
    "    Наилучшее количество примеров в листе: 28\n",
    "    Наилучшая глубина дерева: 6\n",
    "    F1-мера наилучшей модели на валидационной выборке: 0.61 (0.62)\n",
    "    AUC-ROC : 0.77 (0.78)\n",
    "\n",
    "###### C помощью параметра Class_weight = 'balanced'.\n",
    "Наилучшая модель:\n",
    "\n",
    "    Порог: 0.61\n",
    "    Наилучшее количество примеров в листе: 18\n",
    "    Наилучшая глубина дерева: 6\n",
    "    F1-мера наилучшей модели на валидационной выборке: 0.61 (0.62)\n",
    "    AUC-ROC : 0.77 (0.78)\n",
    "\n",
    "\n",
    "##### Случайный лес:\n",
    "\n",
    "###### Downsampling - удаление части выборки преобладающего класса  \n",
    "Наилучшая модель:\n",
    "\n",
    "    Порог: 0.51\n",
    "    Наилучшее количество деревьев: 140\n",
    "    Наилучшая глубина дерева: 12\n",
    "    F1-мера наилучшей модели на валидационной выборке: 0.64 (0.64)\n",
    "    AUC-ROC : 0.78 (0.77)\n",
    "\n",
    "###### Upsampling - дублирование выборки класса в меньшинстве  \n",
    "Наилучшая модель:\n",
    "\n",
    "    Порог: 0.41\n",
    "    Наилучшее количество деревьев: 60\n",
    "    Наилучшая глубина дерева: 8\n",
    "    F1-мера наилучшей модели на валидационной выборке: 0.65 (0.64)\n",
    "    AUC-ROC : 0.79 (0.77)\n",
    "    \n",
    "###### C помощью параметра Class_weight = 'balanced'.\n",
    "Наилучшая модель:\n",
    "\n",
    "    Порог: 0.31\n",
    "    Наилучшее количество деревьев: 60\n",
    "    Наилучшая глубина дерева: 9\n",
    "    F1-мера наилучшей модели на валидационной выборке: 0.65 (0.64)\n",
    "    AUC-ROC : 0.79 (0.77)\n",
    "    \n",
    "##### Логистическая регрессия: \n",
    "\n",
    "###### Downsampling - удаление части выборки преобладающего класса  \n",
    "Наилучшая модель:\n",
    "\n",
    "    Порог : 0.51\n",
    "    F1-мера : 0.46 (0.39)\n",
    "    AUC-ROC : 0.67 (0.61)\n",
    "    \n",
    "###### Upsampling - дублирование выборки класса в меньшинстве  \n",
    "Наилучшая модель:\n",
    "\n",
    "    Порог : 0.51\n",
    "    F1-мера : 0.46 (0.39)\n",
    "    AUC-ROC : 0.67 (0.61)\n",
    "\n",
    "###### C помощью параметра Class_weight = 'balanced'.\n",
    "Наилучшая модель:\n",
    "\n",
    "    Порог : 0.61\n",
    "    F1-мера : 0.52 (0.39)\n",
    "    AUC-ROC : 0.71 (0.61)\n",
    "    \n",
    "##### Обобщая можно сделать следующие выводы: \n",
    "1.    Значение F1-меры для логистической регрессии очень сильно зависит от балансировки весов класса. Веса используются в формулах вычисления принадлежности (прогнозирования) классу.  \n",
    "2.    На модели \"Дерево решений\" и  \"случайный лес\" учёт баланса классов влияет не очень сильно (за исключением Downsampling - лишает алгоритм данных)\n",
    "3.    Для логистической регрессии параметр Class_weight = 'balanced' работает эффективнее.  \n",
    "4.    Приблизительно одинаковые значения AUC-ROC для моделей \"Дерево решений\" и  \"случайный лес\" подтверждают, что баланс классов на их результативность не влияет. В отличии от модели \"Логистическая регрессия\". Это связано с особенностями алгоритмов данных моделей.\n",
    "\n",
    "## Тестирование\n",
    "\n",
    "Переобучили наилучшие модели, полученные ранее, на объединенной выборке (обуч. + валид.) и посмотрели результаты.\n",
    "\n",
    "Выводы получились довольно неожиданными: (в скобках значения на валидационной выборке)\n",
    "\n",
    "    Дерево решений. CW:\n",
    "        F1-мера : 0.59 (0.61)\n",
    "    \n",
    "    Модель \"Случайный лес\" не учитывающая дисбаланс классов:\n",
    "        F1-мера : 0.64 (0.64)\n",
    "        \n",
    "    Модель \"Случайный лес\". Downsampling:\n",
    "        F1-мера : 0.56 (0.64)\n",
    "    \n",
    "    Модель \"Случайный лес\". Upsampling:\n",
    "        F1-мера : 0.59 (0.65)\n",
    "\n",
    "    Модель \"Случайный лес\". CW:\n",
    "        F1-мера : 0.53 (0.65)\n",
    "        \n",
    "    Модель \"Логистическая регрессия\":\n",
    "        F1-мера : 0.50 (0.52)\n",
    "        \n",
    "    Учитывать баланс классов стоит только в модели логистическая регрессия.\n",
    "    В модели \"дерево решений\" и \"случайный лес\" он, будто, вносит некоторый хаос. Результаты на тестовой выборке для моделей, учитывающих дисбаланс классов, заметно просели. Есть ощущение, что с учетом этого параметра данные модели переобучаются. \n",
    "    \n",
    "    Особенно на фоне модели \"Случайный лес\" без учета дисбаланса классов - эта модель показала себя стабильно. На валидационной выборке значение F1-меры - 0,64 и на тестовой те же 0,64. \n",
    "\n",
    "###### В итоге - лучшая модель - \"Случайный лес\" без учета дисбаланса классов с параметрами:\n",
    "        количество деревьев: 130 \n",
    "        глубина дерева: 8\n",
    "    \n",
    "###### А учёт баланса классов - обязателен для моделей логистической регрессии.\n",
    "    \n",
    "## Кросс-валидация   \n",
    "\n",
    "Дополнительно построили модель случайного леса с помощью кросс-валидации со следующим перебором параметров:  \n",
    "\n",
    "количество деревьев - от 10 до 151 с шагом 15.   \n",
    "максимальная глубина - от 1 до 20 с шагом 2.  \n",
    "\n",
    "Получили наилучшие параметры для модели:  \n",
    "Количество деревьев - 145  \n",
    "Максимальная глубина - 11  \n",
    "\n",
    "В итоге получились следующие результаты:  \n",
    "Порог : 0.31  \n",
    "Полнота : 0.62  \n",
    "Точность : 0.6  \n",
    "F1-мера : 0.61  \n",
    "AUC-ROC : 0.76  "
   ]
  },
  {
   "cell_type": "code",
   "execution_count": null,
   "metadata": {},
   "outputs": [],
   "source": []
  }
 ],
 "metadata": {
  "kernelspec": {
   "display_name": "Python 3",
   "language": "python",
   "name": "python3"
  },
  "language_info": {
   "codemirror_mode": {
    "name": "ipython",
    "version": 3
   },
   "file_extension": ".py",
   "mimetype": "text/x-python",
   "name": "python",
   "nbconvert_exporter": "python",
   "pygments_lexer": "ipython3",
   "version": "3.8.5"
  },
  "toc": {
   "base_numbering": 1,
   "nav_menu": {},
   "number_sections": true,
   "sideBar": true,
   "skip_h1_title": false,
   "title_cell": "Table of Contents",
   "title_sidebar": "Contents",
   "toc_cell": false,
   "toc_position": {},
   "toc_section_display": true,
   "toc_window_display": false
  }
 },
 "nbformat": 4,
 "nbformat_minor": 2
}
