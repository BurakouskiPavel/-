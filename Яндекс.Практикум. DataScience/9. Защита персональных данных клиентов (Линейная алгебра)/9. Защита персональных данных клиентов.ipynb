{
 "cells": [
  {
   "cell_type": "markdown",
   "metadata": {
    "toc": true
   },
   "source": [
    "<h1>Содержание<span class=\"tocSkip\"></span></h1>\n",
    "<div class=\"toc\"><ul class=\"toc-item\"><li><span><a href=\"#Загрузка-данных\" data-toc-modified-id=\"Загрузка-данных-1\"><span class=\"toc-item-num\">1&nbsp;&nbsp;</span>Загрузка данных</a></span></li><li><span><a href=\"#Умножение-матриц\" data-toc-modified-id=\"Умножение-матриц-2\"><span class=\"toc-item-num\">2&nbsp;&nbsp;</span>Умножение матриц</a></span><ul class=\"toc-item\"><li><span><a href=\"#Вывод\" data-toc-modified-id=\"Вывод-2.1\"><span class=\"toc-item-num\">2.1&nbsp;&nbsp;</span>Вывод</a></span></li></ul></li><li><span><a href=\"#Алгоритм-преобразования\" data-toc-modified-id=\"Алгоритм-преобразования-3\"><span class=\"toc-item-num\">3&nbsp;&nbsp;</span>Алгоритм преобразования</a></span></li><li><span><a href=\"#Проверка-алгоритма\" data-toc-modified-id=\"Проверка-алгоритма-4\"><span class=\"toc-item-num\">4&nbsp;&nbsp;</span>Проверка алгоритма</a></span><ul class=\"toc-item\"><li><span><a href=\"#Масштабирование-признаков\" data-toc-modified-id=\"Масштабирование-признаков-4.1\"><span class=\"toc-item-num\">4.1&nbsp;&nbsp;</span>Масштабирование признаков</a></span></li><li><span><a href=\"#Линейная-регрессия\" data-toc-modified-id=\"Линейная-регрессия-4.2\"><span class=\"toc-item-num\">4.2&nbsp;&nbsp;</span>Линейная регрессия</a></span></li><li><span><a href=\"#Lasso-регрессия\" data-toc-modified-id=\"Lasso-регрессия-4.3\"><span class=\"toc-item-num\">4.3&nbsp;&nbsp;</span>Lasso-регрессия</a></span></li><li><span><a href=\"#Ridge-регрессия\" data-toc-modified-id=\"Ridge-регрессия-4.4\"><span class=\"toc-item-num\">4.4&nbsp;&nbsp;</span>Ridge-регрессия</a></span></li></ul></li><li><span><a href=\"#Вывод\" data-toc-modified-id=\"Вывод-5\"><span class=\"toc-item-num\">5&nbsp;&nbsp;</span>Вывод</a></span></li><li><span><a href=\"#-Комментарий-ревьюера\" data-toc-modified-id=\"-Комментарий-ревьюера-6\"><span class=\"toc-item-num\">6&nbsp;&nbsp;</span> Комментарий ревьюера</a></span></li><li><span><a href=\"#Чек-лист-проверки\" data-toc-modified-id=\"Чек-лист-проверки-7\"><span class=\"toc-item-num\">7&nbsp;&nbsp;</span>Чек-лист проверки</a></span></li></ul></div>"
   ]
  },
  {
   "cell_type": "markdown",
   "metadata": {},
   "source": [
    "# Защита персональных данных клиентов"
   ]
  },
  {
   "cell_type": "markdown",
   "metadata": {},
   "source": [
    "Вам нужно защитить данные клиентов страховой компании «Хоть потоп». Разработайте такой метод преобразования данных, чтобы по ним было сложно восстановить персональную информацию. Обоснуйте корректность его работы.\n",
    "\n",
    "Нужно защитить данные, чтобы при преобразовании качество моделей машинного обучения не ухудшилось. Подбирать наилучшую модель не требуется."
   ]
  },
  {
   "cell_type": "markdown",
   "metadata": {},
   "source": [
    "## Загрузка данных"
   ]
  },
  {
   "cell_type": "markdown",
   "metadata": {},
   "source": [
    "Загрузим библиотеки"
   ]
  },
  {
   "cell_type": "code",
   "execution_count": 1,
   "metadata": {},
   "outputs": [
    {
     "name": "stdout",
     "output_type": "stream",
     "text": [
      "^C\n",
      "Note: you may need to restart the kernel to use updated packages.\n"
     ]
    }
   ],
   "source": [
    "# Установка altair\n",
    "%pip install altair vega_datasets"
   ]
  },
  {
   "cell_type": "code",
   "execution_count": 5,
   "metadata": {},
   "outputs": [],
   "source": [
    "import pandas as pd\n",
    "import numpy as np\n",
    "\n",
    "\n",
    "import seaborn as sns\n",
    "import altair as alt # https://altair-viz.github.io/index.html\n",
    "import matplotlib.pyplot as plt\n",
    "from matplotlib import rcParams\n",
    "\n",
    "from sklearn.model_selection import train_test_split\n",
    "\n",
    "from sklearn.preprocessing import StandardScaler\n",
    "\n",
    "from sklearn.linear_model import LinearRegression\n",
    "from sklearn.linear_model import Ridge\n",
    "from sklearn.linear_model import ElasticNet\n",
    "from sklearn import linear_model\n",
    "\n",
    "from sklearn.utils import shuffle\n",
    "from sklearn.metrics import r2_score"
   ]
  },
  {
   "cell_type": "code",
   "execution_count": 6,
   "metadata": {},
   "outputs": [],
   "source": [
    "random_value = 2021"
   ]
  },
  {
   "cell_type": "markdown",
   "metadata": {},
   "source": [
    "Прочитаем данные"
   ]
  },
  {
   "cell_type": "code",
   "execution_count": 8,
   "metadata": {},
   "outputs": [],
   "source": [
    "data = pd.read_csv('datasets/insurance.csv')"
   ]
  },
  {
   "cell_type": "code",
   "execution_count": 9,
   "metadata": {},
   "outputs": [
    {
     "data": {
      "text/html": [
       "<div>\n",
       "<style scoped>\n",
       "    .dataframe tbody tr th:only-of-type {\n",
       "        vertical-align: middle;\n",
       "    }\n",
       "\n",
       "    .dataframe tbody tr th {\n",
       "        vertical-align: top;\n",
       "    }\n",
       "\n",
       "    .dataframe thead th {\n",
       "        text-align: right;\n",
       "    }\n",
       "</style>\n",
       "<table border=\"1\" class=\"dataframe\">\n",
       "  <thead>\n",
       "    <tr style=\"text-align: right;\">\n",
       "      <th></th>\n",
       "      <th>Пол</th>\n",
       "      <th>Возраст</th>\n",
       "      <th>Зарплата</th>\n",
       "      <th>Члены семьи</th>\n",
       "      <th>Страховые выплаты</th>\n",
       "    </tr>\n",
       "  </thead>\n",
       "  <tbody>\n",
       "    <tr>\n",
       "      <th>0</th>\n",
       "      <td>1</td>\n",
       "      <td>41.0</td>\n",
       "      <td>49600.0</td>\n",
       "      <td>1</td>\n",
       "      <td>0</td>\n",
       "    </tr>\n",
       "    <tr>\n",
       "      <th>1</th>\n",
       "      <td>0</td>\n",
       "      <td>46.0</td>\n",
       "      <td>38000.0</td>\n",
       "      <td>1</td>\n",
       "      <td>1</td>\n",
       "    </tr>\n",
       "    <tr>\n",
       "      <th>2</th>\n",
       "      <td>0</td>\n",
       "      <td>29.0</td>\n",
       "      <td>21000.0</td>\n",
       "      <td>0</td>\n",
       "      <td>0</td>\n",
       "    </tr>\n",
       "    <tr>\n",
       "      <th>3</th>\n",
       "      <td>0</td>\n",
       "      <td>21.0</td>\n",
       "      <td>41700.0</td>\n",
       "      <td>2</td>\n",
       "      <td>0</td>\n",
       "    </tr>\n",
       "    <tr>\n",
       "      <th>4</th>\n",
       "      <td>1</td>\n",
       "      <td>28.0</td>\n",
       "      <td>26100.0</td>\n",
       "      <td>0</td>\n",
       "      <td>0</td>\n",
       "    </tr>\n",
       "  </tbody>\n",
       "</table>\n",
       "</div>"
      ],
      "text/plain": [
       "   Пол  Возраст  Зарплата  Члены семьи  Страховые выплаты\n",
       "0    1     41.0   49600.0            1                  0\n",
       "1    0     46.0   38000.0            1                  1\n",
       "2    0     29.0   21000.0            0                  0\n",
       "3    0     21.0   41700.0            2                  0\n",
       "4    1     28.0   26100.0            0                  0"
      ]
     },
     "execution_count": 9,
     "metadata": {},
     "output_type": "execute_result"
    }
   ],
   "source": [
    "data.head()"
   ]
  },
  {
   "cell_type": "code",
   "execution_count": 10,
   "metadata": {},
   "outputs": [
    {
     "name": "stdout",
     "output_type": "stream",
     "text": [
      "<class 'pandas.core.frame.DataFrame'>\n",
      "RangeIndex: 5000 entries, 0 to 4999\n",
      "Data columns (total 5 columns):\n",
      " #   Column             Non-Null Count  Dtype  \n",
      "---  ------             --------------  -----  \n",
      " 0   Пол                5000 non-null   int64  \n",
      " 1   Возраст            5000 non-null   float64\n",
      " 2   Зарплата           5000 non-null   float64\n",
      " 3   Члены семьи        5000 non-null   int64  \n",
      " 4   Страховые выплаты  5000 non-null   int64  \n",
      "dtypes: float64(2), int64(3)\n",
      "memory usage: 195.4 KB\n"
     ]
    }
   ],
   "source": [
    "data.info()"
   ]
  },
  {
   "cell_type": "code",
   "execution_count": 11,
   "metadata": {},
   "outputs": [
    {
     "data": {
      "text/html": [
       "<div>\n",
       "<style scoped>\n",
       "    .dataframe tbody tr th:only-of-type {\n",
       "        vertical-align: middle;\n",
       "    }\n",
       "\n",
       "    .dataframe tbody tr th {\n",
       "        vertical-align: top;\n",
       "    }\n",
       "\n",
       "    .dataframe thead th {\n",
       "        text-align: right;\n",
       "    }\n",
       "</style>\n",
       "<table border=\"1\" class=\"dataframe\">\n",
       "  <thead>\n",
       "    <tr style=\"text-align: right;\">\n",
       "      <th></th>\n",
       "      <th>Пол</th>\n",
       "      <th>Возраст</th>\n",
       "      <th>Зарплата</th>\n",
       "      <th>Члены семьи</th>\n",
       "      <th>Страховые выплаты</th>\n",
       "    </tr>\n",
       "  </thead>\n",
       "  <tbody>\n",
       "    <tr>\n",
       "      <th>count</th>\n",
       "      <td>5000.000000</td>\n",
       "      <td>5000.000000</td>\n",
       "      <td>5000.000000</td>\n",
       "      <td>5000.000000</td>\n",
       "      <td>5000.000000</td>\n",
       "    </tr>\n",
       "    <tr>\n",
       "      <th>mean</th>\n",
       "      <td>0.499000</td>\n",
       "      <td>30.952800</td>\n",
       "      <td>39916.360000</td>\n",
       "      <td>1.194200</td>\n",
       "      <td>0.148000</td>\n",
       "    </tr>\n",
       "    <tr>\n",
       "      <th>std</th>\n",
       "      <td>0.500049</td>\n",
       "      <td>8.440807</td>\n",
       "      <td>9900.083569</td>\n",
       "      <td>1.091387</td>\n",
       "      <td>0.463183</td>\n",
       "    </tr>\n",
       "    <tr>\n",
       "      <th>min</th>\n",
       "      <td>0.000000</td>\n",
       "      <td>18.000000</td>\n",
       "      <td>5300.000000</td>\n",
       "      <td>0.000000</td>\n",
       "      <td>0.000000</td>\n",
       "    </tr>\n",
       "    <tr>\n",
       "      <th>25%</th>\n",
       "      <td>0.000000</td>\n",
       "      <td>24.000000</td>\n",
       "      <td>33300.000000</td>\n",
       "      <td>0.000000</td>\n",
       "      <td>0.000000</td>\n",
       "    </tr>\n",
       "    <tr>\n",
       "      <th>50%</th>\n",
       "      <td>0.000000</td>\n",
       "      <td>30.000000</td>\n",
       "      <td>40200.000000</td>\n",
       "      <td>1.000000</td>\n",
       "      <td>0.000000</td>\n",
       "    </tr>\n",
       "    <tr>\n",
       "      <th>75%</th>\n",
       "      <td>1.000000</td>\n",
       "      <td>37.000000</td>\n",
       "      <td>46600.000000</td>\n",
       "      <td>2.000000</td>\n",
       "      <td>0.000000</td>\n",
       "    </tr>\n",
       "    <tr>\n",
       "      <th>max</th>\n",
       "      <td>1.000000</td>\n",
       "      <td>65.000000</td>\n",
       "      <td>79000.000000</td>\n",
       "      <td>6.000000</td>\n",
       "      <td>5.000000</td>\n",
       "    </tr>\n",
       "  </tbody>\n",
       "</table>\n",
       "</div>"
      ],
      "text/plain": [
       "               Пол      Возраст      Зарплата  Члены семьи  Страховые выплаты\n",
       "count  5000.000000  5000.000000   5000.000000  5000.000000        5000.000000\n",
       "mean      0.499000    30.952800  39916.360000     1.194200           0.148000\n",
       "std       0.500049     8.440807   9900.083569     1.091387           0.463183\n",
       "min       0.000000    18.000000   5300.000000     0.000000           0.000000\n",
       "25%       0.000000    24.000000  33300.000000     0.000000           0.000000\n",
       "50%       0.000000    30.000000  40200.000000     1.000000           0.000000\n",
       "75%       1.000000    37.000000  46600.000000     2.000000           0.000000\n",
       "max       1.000000    65.000000  79000.000000     6.000000           5.000000"
      ]
     },
     "execution_count": 11,
     "metadata": {},
     "output_type": "execute_result"
    }
   ],
   "source": [
    "data.describe()"
   ]
  },
  {
   "cell_type": "markdown",
   "metadata": {},
   "source": [
    "Напишем функцию для отображения уникальных значений столбца и общее количество значений по каждому уникальному значению."
   ]
  },
  {
   "cell_type": "code",
   "execution_count": 12,
   "metadata": {},
   "outputs": [],
   "source": [
    "def alt_value_counts(df, col, title):\n",
    "    \n",
    "    series_age_info = df.groupby(col)[col].count()\n",
    "    data_age_info = pd.DataFrame({col:series_age_info.index, 'Количество':series_age_info.values})\n",
    "    \n",
    "    bars = alt.Chart(data_age_info, title = title).mark_bar().encode(\n",
    "        x='Количество:Q',\n",
    "        y=col + \":O\"\n",
    "    )\n",
    "\n",
    "    text = bars.mark_text(\n",
    "        align='left',\n",
    "        baseline='middle',\n",
    "        dx=3  # Nudges text to right so it doesn't appear on top of the bar\n",
    "    ).encode(\n",
    "        text='Количество:Q'\n",
    "    )\n",
    "\n",
    "    return (bars + text).properties(height = len(series_age_info) * 20)"
   ]
  },
  {
   "cell_type": "markdown",
   "metadata": {},
   "source": [
    "И функцию для отображения распределения"
   ]
  },
  {
   "cell_type": "code",
   "execution_count": 13,
   "metadata": {},
   "outputs": [],
   "source": [
    "def sns_hist(series, title, ox_label):\n",
    "    plt.figure(figsize=(10,5))\n",
    "    sns.distplot(series)\n",
    "    plt.axvline(series.median())\n",
    "    plt.xlabel(ox_label, fontsize=16)\n",
    "    plt.ylabel('Плотность', fontsize=16)\n",
    "    plt.title(title, fontsize=20)\n",
    "    rcParams['axes.titlepad'] = 0"
   ]
  },
  {
   "cell_type": "markdown",
   "metadata": {},
   "source": [
    "Изучим данные:"
   ]
  },
  {
   "cell_type": "code",
   "execution_count": 14,
   "metadata": {},
   "outputs": [
    {
     "data": {
      "text/html": [
       "\n",
       "<div id=\"altair-viz-75a38b6af5234eb6bbbca73c672f89f3\"></div>\n",
       "<script type=\"text/javascript\">\n",
       "  (function(spec, embedOpt){\n",
       "    let outputDiv = document.currentScript.previousElementSibling;\n",
       "    if (outputDiv.id !== \"altair-viz-75a38b6af5234eb6bbbca73c672f89f3\") {\n",
       "      outputDiv = document.getElementById(\"altair-viz-75a38b6af5234eb6bbbca73c672f89f3\");\n",
       "    }\n",
       "    const paths = {\n",
       "      \"vega\": \"https://cdn.jsdelivr.net/npm//vega@5?noext\",\n",
       "      \"vega-lib\": \"https://cdn.jsdelivr.net/npm//vega-lib?noext\",\n",
       "      \"vega-lite\": \"https://cdn.jsdelivr.net/npm//vega-lite@4.8.1?noext\",\n",
       "      \"vega-embed\": \"https://cdn.jsdelivr.net/npm//vega-embed@6?noext\",\n",
       "    };\n",
       "\n",
       "    function loadScript(lib) {\n",
       "      return new Promise(function(resolve, reject) {\n",
       "        var s = document.createElement('script');\n",
       "        s.src = paths[lib];\n",
       "        s.async = true;\n",
       "        s.onload = () => resolve(paths[lib]);\n",
       "        s.onerror = () => reject(`Error loading script: ${paths[lib]}`);\n",
       "        document.getElementsByTagName(\"head\")[0].appendChild(s);\n",
       "      });\n",
       "    }\n",
       "\n",
       "    function showError(err) {\n",
       "      outputDiv.innerHTML = `<div class=\"error\" style=\"color:red;\">${err}</div>`;\n",
       "      throw err;\n",
       "    }\n",
       "\n",
       "    function displayChart(vegaEmbed) {\n",
       "      vegaEmbed(outputDiv, spec, embedOpt)\n",
       "        .catch(err => showError(`Javascript Error: ${err.message}<br>This usually means there's a typo in your chart specification. See the javascript console for the full traceback.`));\n",
       "    }\n",
       "\n",
       "    if(typeof define === \"function\" && define.amd) {\n",
       "      requirejs.config({paths});\n",
       "      require([\"vega-embed\"], displayChart, err => showError(`Error loading script: ${err.message}`));\n",
       "    } else if (typeof vegaEmbed === \"function\") {\n",
       "      displayChart(vegaEmbed);\n",
       "    } else {\n",
       "      loadScript(\"vega\")\n",
       "        .then(() => loadScript(\"vega-lite\"))\n",
       "        .then(() => loadScript(\"vega-embed\"))\n",
       "        .catch(showError)\n",
       "        .then(() => displayChart(vegaEmbed));\n",
       "    }\n",
       "  })({\"config\": {\"view\": {\"continuousWidth\": 400, \"continuousHeight\": 300}}, \"layer\": [{\"mark\": \"bar\", \"encoding\": {\"x\": {\"type\": \"quantitative\", \"field\": \"\\u041a\\u043e\\u043b\\u0438\\u0447\\u0435\\u0441\\u0442\\u0432\\u043e\"}, \"y\": {\"type\": \"ordinal\", \"field\": \"\\u041f\\u043e\\u043b\"}}, \"title\": \"\\u041f\\u043e\\u043b\"}, {\"mark\": {\"type\": \"text\", \"align\": \"left\", \"baseline\": \"middle\", \"dx\": 3}, \"encoding\": {\"text\": {\"type\": \"quantitative\", \"field\": \"\\u041a\\u043e\\u043b\\u0438\\u0447\\u0435\\u0441\\u0442\\u0432\\u043e\"}, \"x\": {\"type\": \"quantitative\", \"field\": \"\\u041a\\u043e\\u043b\\u0438\\u0447\\u0435\\u0441\\u0442\\u0432\\u043e\"}, \"y\": {\"type\": \"ordinal\", \"field\": \"\\u041f\\u043e\\u043b\"}}, \"title\": \"\\u041f\\u043e\\u043b\"}], \"data\": {\"name\": \"data-1630d60597666b20b5f244ecffcd7828\"}, \"height\": 40, \"$schema\": \"https://vega.github.io/schema/vega-lite/v4.8.1.json\", \"datasets\": {\"data-1630d60597666b20b5f244ecffcd7828\": [{\"\\u041f\\u043e\\u043b\": 0, \"\\u041a\\u043e\\u043b\\u0438\\u0447\\u0435\\u0441\\u0442\\u0432\\u043e\": 2505}, {\"\\u041f\\u043e\\u043b\": 1, \"\\u041a\\u043e\\u043b\\u0438\\u0447\\u0435\\u0441\\u0442\\u0432\\u043e\": 2495}]}}, {\"mode\": \"vega-lite\"});\n",
       "</script>"
      ],
      "text/plain": [
       "alt.LayerChart(...)"
      ]
     },
     "execution_count": 14,
     "metadata": {},
     "output_type": "execute_result"
    }
   ],
   "source": [
    "alt_value_counts(data, 'Пол', 'Пол')"
   ]
  },
  {
   "cell_type": "code",
   "execution_count": 15,
   "metadata": {},
   "outputs": [
    {
     "data": {
      "text/html": [
       "\n",
       "<div id=\"altair-viz-8855fc36d36b44769d0185202a4d91d7\"></div>\n",
       "<script type=\"text/javascript\">\n",
       "  (function(spec, embedOpt){\n",
       "    let outputDiv = document.currentScript.previousElementSibling;\n",
       "    if (outputDiv.id !== \"altair-viz-8855fc36d36b44769d0185202a4d91d7\") {\n",
       "      outputDiv = document.getElementById(\"altair-viz-8855fc36d36b44769d0185202a4d91d7\");\n",
       "    }\n",
       "    const paths = {\n",
       "      \"vega\": \"https://cdn.jsdelivr.net/npm//vega@5?noext\",\n",
       "      \"vega-lib\": \"https://cdn.jsdelivr.net/npm//vega-lib?noext\",\n",
       "      \"vega-lite\": \"https://cdn.jsdelivr.net/npm//vega-lite@4.8.1?noext\",\n",
       "      \"vega-embed\": \"https://cdn.jsdelivr.net/npm//vega-embed@6?noext\",\n",
       "    };\n",
       "\n",
       "    function loadScript(lib) {\n",
       "      return new Promise(function(resolve, reject) {\n",
       "        var s = document.createElement('script');\n",
       "        s.src = paths[lib];\n",
       "        s.async = true;\n",
       "        s.onload = () => resolve(paths[lib]);\n",
       "        s.onerror = () => reject(`Error loading script: ${paths[lib]}`);\n",
       "        document.getElementsByTagName(\"head\")[0].appendChild(s);\n",
       "      });\n",
       "    }\n",
       "\n",
       "    function showError(err) {\n",
       "      outputDiv.innerHTML = `<div class=\"error\" style=\"color:red;\">${err}</div>`;\n",
       "      throw err;\n",
       "    }\n",
       "\n",
       "    function displayChart(vegaEmbed) {\n",
       "      vegaEmbed(outputDiv, spec, embedOpt)\n",
       "        .catch(err => showError(`Javascript Error: ${err.message}<br>This usually means there's a typo in your chart specification. See the javascript console for the full traceback.`));\n",
       "    }\n",
       "\n",
       "    if(typeof define === \"function\" && define.amd) {\n",
       "      requirejs.config({paths});\n",
       "      require([\"vega-embed\"], displayChart, err => showError(`Error loading script: ${err.message}`));\n",
       "    } else if (typeof vegaEmbed === \"function\") {\n",
       "      displayChart(vegaEmbed);\n",
       "    } else {\n",
       "      loadScript(\"vega\")\n",
       "        .then(() => loadScript(\"vega-lite\"))\n",
       "        .then(() => loadScript(\"vega-embed\"))\n",
       "        .catch(showError)\n",
       "        .then(() => displayChart(vegaEmbed));\n",
       "    }\n",
       "  })({\"config\": {\"view\": {\"continuousWidth\": 400, \"continuousHeight\": 300}}, \"layer\": [{\"mark\": \"bar\", \"encoding\": {\"x\": {\"type\": \"quantitative\", \"field\": \"\\u041a\\u043e\\u043b\\u0438\\u0447\\u0435\\u0441\\u0442\\u0432\\u043e\"}, \"y\": {\"type\": \"ordinal\", \"field\": \"\\u0412\\u043e\\u0437\\u0440\\u0430\\u0441\\u0442\"}}, \"title\": \"\\u0412\\u043e\\u0437\\u0440\\u0430\\u0441\\u0442\"}, {\"mark\": {\"type\": \"text\", \"align\": \"left\", \"baseline\": \"middle\", \"dx\": 3}, \"encoding\": {\"text\": {\"type\": \"quantitative\", \"field\": \"\\u041a\\u043e\\u043b\\u0438\\u0447\\u0435\\u0441\\u0442\\u0432\\u043e\"}, \"x\": {\"type\": \"quantitative\", \"field\": \"\\u041a\\u043e\\u043b\\u0438\\u0447\\u0435\\u0441\\u0442\\u0432\\u043e\"}, \"y\": {\"type\": \"ordinal\", \"field\": \"\\u0412\\u043e\\u0437\\u0440\\u0430\\u0441\\u0442\"}}, \"title\": \"\\u0412\\u043e\\u0437\\u0440\\u0430\\u0441\\u0442\"}], \"data\": {\"name\": \"data-310c0923462cd64fae313af04a2ed714\"}, \"height\": 920, \"$schema\": \"https://vega.github.io/schema/vega-lite/v4.8.1.json\", \"datasets\": {\"data-310c0923462cd64fae313af04a2ed714\": [{\"\\u0412\\u043e\\u0437\\u0440\\u0430\\u0441\\u0442\": 18.0, \"\\u041a\\u043e\\u043b\\u0438\\u0447\\u0435\\u0441\\u0442\\u0432\\u043e\": 117}, {\"\\u0412\\u043e\\u0437\\u0440\\u0430\\u0441\\u0442\": 19.0, \"\\u041a\\u043e\\u043b\\u0438\\u0447\\u0435\\u0441\\u0442\\u0432\\u043e\": 223}, {\"\\u0412\\u043e\\u0437\\u0440\\u0430\\u0441\\u0442\": 20.0, \"\\u041a\\u043e\\u043b\\u0438\\u0447\\u0435\\u0441\\u0442\\u0432\\u043e\": 195}, {\"\\u0412\\u043e\\u0437\\u0440\\u0430\\u0441\\u0442\": 21.0, \"\\u041a\\u043e\\u043b\\u0438\\u0447\\u0435\\u0441\\u0442\\u0432\\u043e\": 200}, {\"\\u0412\\u043e\\u0437\\u0440\\u0430\\u0441\\u0442\": 22.0, \"\\u041a\\u043e\\u043b\\u0438\\u0447\\u0435\\u0441\\u0442\\u0432\\u043e\": 209}, {\"\\u0412\\u043e\\u0437\\u0440\\u0430\\u0441\\u0442\": 23.0, \"\\u041a\\u043e\\u043b\\u0438\\u0447\\u0435\\u0441\\u0442\\u0432\\u043e\": 202}, {\"\\u0412\\u043e\\u0437\\u0440\\u0430\\u0441\\u0442\": 24.0, \"\\u041a\\u043e\\u043b\\u0438\\u0447\\u0435\\u0441\\u0442\\u0432\\u043e\": 182}, {\"\\u0412\\u043e\\u0437\\u0440\\u0430\\u0441\\u0442\": 25.0, \"\\u041a\\u043e\\u043b\\u0438\\u0447\\u0435\\u0441\\u0442\\u0432\\u043e\": 214}, {\"\\u0412\\u043e\\u0437\\u0440\\u0430\\u0441\\u0442\": 26.0, \"\\u041a\\u043e\\u043b\\u0438\\u0447\\u0435\\u0441\\u0442\\u0432\\u043e\": 211}, {\"\\u0412\\u043e\\u0437\\u0440\\u0430\\u0441\\u0442\": 27.0, \"\\u041a\\u043e\\u043b\\u0438\\u0447\\u0435\\u0441\\u0442\\u0432\\u043e\": 209}, {\"\\u0412\\u043e\\u0437\\u0440\\u0430\\u0441\\u0442\": 28.0, \"\\u041a\\u043e\\u043b\\u0438\\u0447\\u0435\\u0441\\u0442\\u0432\\u043e\": 204}, {\"\\u0412\\u043e\\u0437\\u0440\\u0430\\u0441\\u0442\": 29.0, \"\\u041a\\u043e\\u043b\\u0438\\u0447\\u0435\\u0441\\u0442\\u0432\\u043e\": 203}, {\"\\u0412\\u043e\\u0437\\u0440\\u0430\\u0441\\u0442\": 30.0, \"\\u041a\\u043e\\u043b\\u0438\\u0447\\u0435\\u0441\\u0442\\u0432\\u043e\": 202}, {\"\\u0412\\u043e\\u0437\\u0440\\u0430\\u0441\\u0442\": 31.0, \"\\u041a\\u043e\\u043b\\u0438\\u0447\\u0435\\u0441\\u0442\\u0432\\u043e\": 212}, {\"\\u0412\\u043e\\u0437\\u0440\\u0430\\u0441\\u0442\": 32.0, \"\\u041a\\u043e\\u043b\\u0438\\u0447\\u0435\\u0441\\u0442\\u0432\\u043e\": 206}, {\"\\u0412\\u043e\\u0437\\u0440\\u0430\\u0441\\u0442\": 33.0, \"\\u041a\\u043e\\u043b\\u0438\\u0447\\u0435\\u0441\\u0442\\u0432\\u043e\": 191}, {\"\\u0412\\u043e\\u0437\\u0440\\u0430\\u0441\\u0442\": 34.0, \"\\u041a\\u043e\\u043b\\u0438\\u0447\\u0435\\u0441\\u0442\\u0432\\u043e\": 177}, {\"\\u0412\\u043e\\u0437\\u0440\\u0430\\u0441\\u0442\": 35.0, \"\\u041a\\u043e\\u043b\\u0438\\u0447\\u0435\\u0441\\u0442\\u0432\\u043e\": 179}, {\"\\u0412\\u043e\\u0437\\u0440\\u0430\\u0441\\u0442\": 36.0, \"\\u041a\\u043e\\u043b\\u0438\\u0447\\u0435\\u0441\\u0442\\u0432\\u043e\": 193}, {\"\\u0412\\u043e\\u0437\\u0440\\u0430\\u0441\\u0442\": 37.0, \"\\u041a\\u043e\\u043b\\u0438\\u0447\\u0435\\u0441\\u0442\\u0432\\u043e\": 147}, {\"\\u0412\\u043e\\u0437\\u0440\\u0430\\u0441\\u0442\": 38.0, \"\\u041a\\u043e\\u043b\\u0438\\u0447\\u0435\\u0441\\u0442\\u0432\\u043e\": 139}, {\"\\u0412\\u043e\\u0437\\u0440\\u0430\\u0441\\u0442\": 39.0, \"\\u041a\\u043e\\u043b\\u0438\\u0447\\u0435\\u0441\\u0442\\u0432\\u043e\": 141}, {\"\\u0412\\u043e\\u0437\\u0440\\u0430\\u0441\\u0442\": 40.0, \"\\u041a\\u043e\\u043b\\u0438\\u0447\\u0435\\u0441\\u0442\\u0432\\u043e\": 114}, {\"\\u0412\\u043e\\u0437\\u0440\\u0430\\u0441\\u0442\": 41.0, \"\\u041a\\u043e\\u043b\\u0438\\u0447\\u0435\\u0441\\u0442\\u0432\\u043e\": 129}, {\"\\u0412\\u043e\\u0437\\u0440\\u0430\\u0441\\u0442\": 42.0, \"\\u041a\\u043e\\u043b\\u0438\\u0447\\u0435\\u0441\\u0442\\u0432\\u043e\": 93}, {\"\\u0412\\u043e\\u0437\\u0440\\u0430\\u0441\\u0442\": 43.0, \"\\u041a\\u043e\\u043b\\u0438\\u0447\\u0435\\u0441\\u0442\\u0432\\u043e\": 77}, {\"\\u0412\\u043e\\u0437\\u0440\\u0430\\u0441\\u0442\": 44.0, \"\\u041a\\u043e\\u043b\\u0438\\u0447\\u0435\\u0441\\u0442\\u0432\\u043e\": 74}, {\"\\u0412\\u043e\\u0437\\u0440\\u0430\\u0441\\u0442\": 45.0, \"\\u041a\\u043e\\u043b\\u0438\\u0447\\u0435\\u0441\\u0442\\u0432\\u043e\": 73}, {\"\\u0412\\u043e\\u0437\\u0440\\u0430\\u0441\\u0442\": 46.0, \"\\u041a\\u043e\\u043b\\u0438\\u0447\\u0435\\u0441\\u0442\\u0432\\u043e\": 60}, {\"\\u0412\\u043e\\u0437\\u0440\\u0430\\u0441\\u0442\": 47.0, \"\\u041a\\u043e\\u043b\\u0438\\u0447\\u0435\\u0441\\u0442\\u0432\\u043e\": 47}, {\"\\u0412\\u043e\\u0437\\u0440\\u0430\\u0441\\u0442\": 48.0, \"\\u041a\\u043e\\u043b\\u0438\\u0447\\u0435\\u0441\\u0442\\u0432\\u043e\": 26}, {\"\\u0412\\u043e\\u0437\\u0440\\u0430\\u0441\\u0442\": 49.0, \"\\u041a\\u043e\\u043b\\u0438\\u0447\\u0435\\u0441\\u0442\\u0432\\u043e\": 37}, {\"\\u0412\\u043e\\u0437\\u0440\\u0430\\u0441\\u0442\": 50.0, \"\\u041a\\u043e\\u043b\\u0438\\u0447\\u0435\\u0441\\u0442\\u0432\\u043e\": 27}, {\"\\u0412\\u043e\\u0437\\u0440\\u0430\\u0441\\u0442\": 51.0, \"\\u041a\\u043e\\u043b\\u0438\\u0447\\u0435\\u0441\\u0442\\u0432\\u043e\": 21}, {\"\\u0412\\u043e\\u0437\\u0440\\u0430\\u0441\\u0442\": 52.0, \"\\u041a\\u043e\\u043b\\u0438\\u0447\\u0435\\u0441\\u0442\\u0432\\u043e\": 22}, {\"\\u0412\\u043e\\u0437\\u0440\\u0430\\u0441\\u0442\": 53.0, \"\\u041a\\u043e\\u043b\\u0438\\u0447\\u0435\\u0441\\u0442\\u0432\\u043e\": 11}, {\"\\u0412\\u043e\\u0437\\u0440\\u0430\\u0441\\u0442\": 54.0, \"\\u041a\\u043e\\u043b\\u0438\\u0447\\u0435\\u0441\\u0442\\u0432\\u043e\": 7}, {\"\\u0412\\u043e\\u0437\\u0440\\u0430\\u0441\\u0442\": 55.0, \"\\u041a\\u043e\\u043b\\u0438\\u0447\\u0435\\u0441\\u0442\\u0432\\u043e\": 9}, {\"\\u0412\\u043e\\u0437\\u0440\\u0430\\u0441\\u0442\": 56.0, \"\\u041a\\u043e\\u043b\\u0438\\u0447\\u0435\\u0441\\u0442\\u0432\\u043e\": 5}, {\"\\u0412\\u043e\\u0437\\u0440\\u0430\\u0441\\u0442\": 57.0, \"\\u041a\\u043e\\u043b\\u0438\\u0447\\u0435\\u0441\\u0442\\u0432\\u043e\": 2}, {\"\\u0412\\u043e\\u0437\\u0440\\u0430\\u0441\\u0442\": 58.0, \"\\u041a\\u043e\\u043b\\u0438\\u0447\\u0435\\u0441\\u0442\\u0432\\u043e\": 2}, {\"\\u0412\\u043e\\u0437\\u0440\\u0430\\u0441\\u0442\": 59.0, \"\\u041a\\u043e\\u043b\\u0438\\u0447\\u0435\\u0441\\u0442\\u0432\\u043e\": 3}, {\"\\u0412\\u043e\\u0437\\u0440\\u0430\\u0441\\u0442\": 60.0, \"\\u041a\\u043e\\u043b\\u0438\\u0447\\u0435\\u0441\\u0442\\u0432\\u043e\": 2}, {\"\\u0412\\u043e\\u0437\\u0440\\u0430\\u0441\\u0442\": 61.0, \"\\u041a\\u043e\\u043b\\u0438\\u0447\\u0435\\u0441\\u0442\\u0432\\u043e\": 1}, {\"\\u0412\\u043e\\u0437\\u0440\\u0430\\u0441\\u0442\": 62.0, \"\\u041a\\u043e\\u043b\\u0438\\u0447\\u0435\\u0441\\u0442\\u0432\\u043e\": 1}, {\"\\u0412\\u043e\\u0437\\u0440\\u0430\\u0441\\u0442\": 65.0, \"\\u041a\\u043e\\u043b\\u0438\\u0447\\u0435\\u0441\\u0442\\u0432\\u043e\": 1}]}}, {\"mode\": \"vega-lite\"});\n",
       "</script>"
      ],
      "text/plain": [
       "alt.LayerChart(...)"
      ]
     },
     "execution_count": 15,
     "metadata": {},
     "output_type": "execute_result"
    }
   ],
   "source": [
    "alt_value_counts(data, 'Возраст', 'Возраст')"
   ]
  },
  {
   "cell_type": "code",
   "execution_count": 16,
   "metadata": {},
   "outputs": [
    {
     "name": "stderr",
     "output_type": "stream",
     "text": [
      "C:\\Users\\Brkv\\anaconda3\\lib\\site-packages\\seaborn\\distributions.py:2551: FutureWarning: `distplot` is a deprecated function and will be removed in a future version. Please adapt your code to use either `displot` (a figure-level function with similar flexibility) or `histplot` (an axes-level function for histograms).\n",
      "  warnings.warn(msg, FutureWarning)\n"
     ]
    },
    {
     "data": {
      "image/png": "[encoded data removed]",
      "text/plain": [
       "<Figure size 720x360 with 1 Axes>"
      ]
     },
     "metadata": {
      "needs_background": "light"
     },
     "output_type": "display_data"
    }
   ],
   "source": [
    "sns_hist(data['Зарплата'], 'Зарплата', 'Зарплата')"
   ]
  },
  {
   "cell_type": "code",
   "execution_count": 17,
   "metadata": {},
   "outputs": [
    {
     "data": {
      "text/html": [
       "\n",
       "<div id=\"altair-viz-444d59287fd648689696e02314ff8924\"></div>\n",
       "<script type=\"text/javascript\">\n",
       "  (function(spec, embedOpt){\n",
       "    let outputDiv = document.currentScript.previousElementSibling;\n",
       "    if (outputDiv.id !== \"altair-viz-444d59287fd648689696e02314ff8924\") {\n",
       "      outputDiv = document.getElementById(\"altair-viz-444d59287fd648689696e02314ff8924\");\n",
       "    }\n",
       "    const paths = {\n",
       "      \"vega\": \"https://cdn.jsdelivr.net/npm//vega@5?noext\",\n",
       "      \"vega-lib\": \"https://cdn.jsdelivr.net/npm//vega-lib?noext\",\n",
       "      \"vega-lite\": \"https://cdn.jsdelivr.net/npm//vega-lite@4.8.1?noext\",\n",
       "      \"vega-embed\": \"https://cdn.jsdelivr.net/npm//vega-embed@6?noext\",\n",
       "    };\n",
       "\n",
       "    function loadScript(lib) {\n",
       "      return new Promise(function(resolve, reject) {\n",
       "        var s = document.createElement('script');\n",
       "        s.src = paths[lib];\n",
       "        s.async = true;\n",
       "        s.onload = () => resolve(paths[lib]);\n",
       "        s.onerror = () => reject(`Error loading script: ${paths[lib]}`);\n",
       "        document.getElementsByTagName(\"head\")[0].appendChild(s);\n",
       "      });\n",
       "    }\n",
       "\n",
       "    function showError(err) {\n",
       "      outputDiv.innerHTML = `<div class=\"error\" style=\"color:red;\">${err}</div>`;\n",
       "      throw err;\n",
       "    }\n",
       "\n",
       "    function displayChart(vegaEmbed) {\n",
       "      vegaEmbed(outputDiv, spec, embedOpt)\n",
       "        .catch(err => showError(`Javascript Error: ${err.message}<br>This usually means there's a typo in your chart specification. See the javascript console for the full traceback.`));\n",
       "    }\n",
       "\n",
       "    if(typeof define === \"function\" && define.amd) {\n",
       "      requirejs.config({paths});\n",
       "      require([\"vega-embed\"], displayChart, err => showError(`Error loading script: ${err.message}`));\n",
       "    } else if (typeof vegaEmbed === \"function\") {\n",
       "      displayChart(vegaEmbed);\n",
       "    } else {\n",
       "      loadScript(\"vega\")\n",
       "        .then(() => loadScript(\"vega-lite\"))\n",
       "        .then(() => loadScript(\"vega-embed\"))\n",
       "        .catch(showError)\n",
       "        .then(() => displayChart(vegaEmbed));\n",
       "    }\n",
       "  })({\"config\": {\"view\": {\"continuousWidth\": 400, \"continuousHeight\": 300}}, \"layer\": [{\"mark\": \"bar\", \"encoding\": {\"x\": {\"type\": \"quantitative\", \"field\": \"\\u041a\\u043e\\u043b\\u0438\\u0447\\u0435\\u0441\\u0442\\u0432\\u043e\"}, \"y\": {\"type\": \"ordinal\", \"field\": \"\\u0427\\u043b\\u0435\\u043d\\u044b \\u0441\\u0435\\u043c\\u044c\\u0438\"}}, \"title\": \"\\u0427\\u043b\\u0435\\u043d\\u044b \\u0441\\u0435\\u043c\\u044c\\u0438\"}, {\"mark\": {\"type\": \"text\", \"align\": \"left\", \"baseline\": \"middle\", \"dx\": 3}, \"encoding\": {\"text\": {\"type\": \"quantitative\", \"field\": \"\\u041a\\u043e\\u043b\\u0438\\u0447\\u0435\\u0441\\u0442\\u0432\\u043e\"}, \"x\": {\"type\": \"quantitative\", \"field\": \"\\u041a\\u043e\\u043b\\u0438\\u0447\\u0435\\u0441\\u0442\\u0432\\u043e\"}, \"y\": {\"type\": \"ordinal\", \"field\": \"\\u0427\\u043b\\u0435\\u043d\\u044b \\u0441\\u0435\\u043c\\u044c\\u0438\"}}, \"title\": \"\\u0427\\u043b\\u0435\\u043d\\u044b \\u0441\\u0435\\u043c\\u044c\\u0438\"}], \"data\": {\"name\": \"data-ec2f025ee645bde20e1a1f3e31c79cc4\"}, \"height\": 140, \"$schema\": \"https://vega.github.io/schema/vega-lite/v4.8.1.json\", \"datasets\": {\"data-ec2f025ee645bde20e1a1f3e31c79cc4\": [{\"\\u0427\\u043b\\u0435\\u043d\\u044b \\u0441\\u0435\\u043c\\u044c\\u0438\": 0, \"\\u041a\\u043e\\u043b\\u0438\\u0447\\u0435\\u0441\\u0442\\u0432\\u043e\": 1513}, {\"\\u0427\\u043b\\u0435\\u043d\\u044b \\u0441\\u0435\\u043c\\u044c\\u0438\": 1, \"\\u041a\\u043e\\u043b\\u0438\\u0447\\u0435\\u0441\\u0442\\u0432\\u043e\": 1814}, {\"\\u0427\\u043b\\u0435\\u043d\\u044b \\u0441\\u0435\\u043c\\u044c\\u0438\": 2, \"\\u041a\\u043e\\u043b\\u0438\\u0447\\u0435\\u0441\\u0442\\u0432\\u043e\": 1071}, {\"\\u0427\\u043b\\u0435\\u043d\\u044b \\u0441\\u0435\\u043c\\u044c\\u0438\": 3, \"\\u041a\\u043e\\u043b\\u0438\\u0447\\u0435\\u0441\\u0442\\u0432\\u043e\": 439}, {\"\\u0427\\u043b\\u0435\\u043d\\u044b \\u0441\\u0435\\u043c\\u044c\\u0438\": 4, \"\\u041a\\u043e\\u043b\\u0438\\u0447\\u0435\\u0441\\u0442\\u0432\\u043e\": 124}, {\"\\u0427\\u043b\\u0435\\u043d\\u044b \\u0441\\u0435\\u043c\\u044c\\u0438\": 5, \"\\u041a\\u043e\\u043b\\u0438\\u0447\\u0435\\u0441\\u0442\\u0432\\u043e\": 32}, {\"\\u0427\\u043b\\u0435\\u043d\\u044b \\u0441\\u0435\\u043c\\u044c\\u0438\": 6, \"\\u041a\\u043e\\u043b\\u0438\\u0447\\u0435\\u0441\\u0442\\u0432\\u043e\": 7}]}}, {\"mode\": \"vega-lite\"});\n",
       "</script>"
      ],
      "text/plain": [
       "alt.LayerChart(...)"
      ]
     },
     "execution_count": 17,
     "metadata": {},
     "output_type": "execute_result"
    }
   ],
   "source": [
    "alt_value_counts(data, 'Члены семьи', 'Члены семьи')"
   ]
  },
  {
   "cell_type": "code",
   "execution_count": 18,
   "metadata": {},
   "outputs": [
    {
     "data": {
      "text/html": [
       "\n",
       "<div id=\"altair-viz-7d13cebfa4044d848a3dd21fc87e8c6b\"></div>\n",
       "<script type=\"text/javascript\">\n",
       "  (function(spec, embedOpt){\n",
       "    let outputDiv = document.currentScript.previousElementSibling;\n",
       "    if (outputDiv.id !== \"altair-viz-7d13cebfa4044d848a3dd21fc87e8c6b\") {\n",
       "      outputDiv = document.getElementById(\"altair-viz-7d13cebfa4044d848a3dd21fc87e8c6b\");\n",
       "    }\n",
       "    const paths = {\n",
       "      \"vega\": \"https://cdn.jsdelivr.net/npm//vega@5?noext\",\n",
       "      \"vega-lib\": \"https://cdn.jsdelivr.net/npm//vega-lib?noext\",\n",
       "      \"vega-lite\": \"https://cdn.jsdelivr.net/npm//vega-lite@4.8.1?noext\",\n",
       "      \"vega-embed\": \"https://cdn.jsdelivr.net/npm//vega-embed@6?noext\",\n",
       "    };\n",
       "\n",
       "    function loadScript(lib) {\n",
       "      return new Promise(function(resolve, reject) {\n",
       "        var s = document.createElement('script');\n",
       "        s.src = paths[lib];\n",
       "        s.async = true;\n",
       "        s.onload = () => resolve(paths[lib]);\n",
       "        s.onerror = () => reject(`Error loading script: ${paths[lib]}`);\n",
       "        document.getElementsByTagName(\"head\")[0].appendChild(s);\n",
       "      });\n",
       "    }\n",
       "\n",
       "    function showError(err) {\n",
       "      outputDiv.innerHTML = `<div class=\"error\" style=\"color:red;\">${err}</div>`;\n",
       "      throw err;\n",
       "    }\n",
       "\n",
       "    function displayChart(vegaEmbed) {\n",
       "      vegaEmbed(outputDiv, spec, embedOpt)\n",
       "        .catch(err => showError(`Javascript Error: ${err.message}<br>This usually means there's a typo in your chart specification. See the javascript console for the full traceback.`));\n",
       "    }\n",
       "\n",
       "    if(typeof define === \"function\" && define.amd) {\n",
       "      requirejs.config({paths});\n",
       "      require([\"vega-embed\"], displayChart, err => showError(`Error loading script: ${err.message}`));\n",
       "    } else if (typeof vegaEmbed === \"function\") {\n",
       "      displayChart(vegaEmbed);\n",
       "    } else {\n",
       "      loadScript(\"vega\")\n",
       "        .then(() => loadScript(\"vega-lite\"))\n",
       "        .then(() => loadScript(\"vega-embed\"))\n",
       "        .catch(showError)\n",
       "        .then(() => displayChart(vegaEmbed));\n",
       "    }\n",
       "  })({\"config\": {\"view\": {\"continuousWidth\": 400, \"continuousHeight\": 300}}, \"layer\": [{\"mark\": \"bar\", \"encoding\": {\"x\": {\"type\": \"quantitative\", \"field\": \"\\u041a\\u043e\\u043b\\u0438\\u0447\\u0435\\u0441\\u0442\\u0432\\u043e\"}, \"y\": {\"type\": \"ordinal\", \"field\": \"\\u0421\\u0442\\u0440\\u0430\\u0445\\u043e\\u0432\\u044b\\u0435 \\u0432\\u044b\\u043f\\u043b\\u0430\\u0442\\u044b\"}}, \"title\": \"\\u0421\\u0442\\u0440\\u0430\\u0445\\u043e\\u0432\\u044b\\u0435 \\u0432\\u044b\\u043f\\u043b\\u0430\\u0442\\u044b\"}, {\"mark\": {\"type\": \"text\", \"align\": \"left\", \"baseline\": \"middle\", \"dx\": 3}, \"encoding\": {\"text\": {\"type\": \"quantitative\", \"field\": \"\\u041a\\u043e\\u043b\\u0438\\u0447\\u0435\\u0441\\u0442\\u0432\\u043e\"}, \"x\": {\"type\": \"quantitative\", \"field\": \"\\u041a\\u043e\\u043b\\u0438\\u0447\\u0435\\u0441\\u0442\\u0432\\u043e\"}, \"y\": {\"type\": \"ordinal\", \"field\": \"\\u0421\\u0442\\u0440\\u0430\\u0445\\u043e\\u0432\\u044b\\u0435 \\u0432\\u044b\\u043f\\u043b\\u0430\\u0442\\u044b\"}}, \"title\": \"\\u0421\\u0442\\u0440\\u0430\\u0445\\u043e\\u0432\\u044b\\u0435 \\u0432\\u044b\\u043f\\u043b\\u0430\\u0442\\u044b\"}], \"data\": {\"name\": \"data-dba4a3ed1fbc01cfe7108a34e47de8da\"}, \"height\": 120, \"$schema\": \"https://vega.github.io/schema/vega-lite/v4.8.1.json\", \"datasets\": {\"data-dba4a3ed1fbc01cfe7108a34e47de8da\": [{\"\\u0421\\u0442\\u0440\\u0430\\u0445\\u043e\\u0432\\u044b\\u0435 \\u0432\\u044b\\u043f\\u043b\\u0430\\u0442\\u044b\": 0, \"\\u041a\\u043e\\u043b\\u0438\\u0447\\u0435\\u0441\\u0442\\u0432\\u043e\": 4436}, {\"\\u0421\\u0442\\u0440\\u0430\\u0445\\u043e\\u0432\\u044b\\u0435 \\u0432\\u044b\\u043f\\u043b\\u0430\\u0442\\u044b\": 1, \"\\u041a\\u043e\\u043b\\u0438\\u0447\\u0435\\u0441\\u0442\\u0432\\u043e\": 423}, {\"\\u0421\\u0442\\u0440\\u0430\\u0445\\u043e\\u0432\\u044b\\u0435 \\u0432\\u044b\\u043f\\u043b\\u0430\\u0442\\u044b\": 2, \"\\u041a\\u043e\\u043b\\u0438\\u0447\\u0435\\u0441\\u0442\\u0432\\u043e\": 115}, {\"\\u0421\\u0442\\u0440\\u0430\\u0445\\u043e\\u0432\\u044b\\u0435 \\u0432\\u044b\\u043f\\u043b\\u0430\\u0442\\u044b\": 3, \"\\u041a\\u043e\\u043b\\u0438\\u0447\\u0435\\u0441\\u0442\\u0432\\u043e\": 18}, {\"\\u0421\\u0442\\u0440\\u0430\\u0445\\u043e\\u0432\\u044b\\u0435 \\u0432\\u044b\\u043f\\u043b\\u0430\\u0442\\u044b\": 4, \"\\u041a\\u043e\\u043b\\u0438\\u0447\\u0435\\u0441\\u0442\\u0432\\u043e\": 7}, {\"\\u0421\\u0442\\u0440\\u0430\\u0445\\u043e\\u0432\\u044b\\u0435 \\u0432\\u044b\\u043f\\u043b\\u0430\\u0442\\u044b\": 5, \"\\u041a\\u043e\\u043b\\u0438\\u0447\\u0435\\u0441\\u0442\\u0432\\u043e\": 1}]}}, {\"mode\": \"vega-lite\"});\n",
       "</script>"
      ],
      "text/plain": [
       "alt.LayerChart(...)"
      ]
     },
     "execution_count": 18,
     "metadata": {},
     "output_type": "execute_result"
    }
   ],
   "source": [
    "alt_value_counts(data, 'Страховые выплаты', 'Страховые выплаты')"
   ]
  },
  {
   "cell_type": "markdown",
   "metadata": {},
   "source": [
    "С данными всё в порядке. Но столбцы Возраст и Зарплата мы имеем право привести к типу int."
   ]
  },
  {
   "cell_type": "code",
   "execution_count": 19,
   "metadata": {},
   "outputs": [],
   "source": [
    "data['Возраст'] = data['Возраст'].astype('int')\n",
    "data['Зарплата'] = data['Зарплата'].astype('int')"
   ]
  },
  {
   "cell_type": "markdown",
   "metadata": {},
   "source": [
    "Посмотрим на матрицу корреляции."
   ]
  },
  {
   "cell_type": "code",
   "execution_count": 20,
   "metadata": {},
   "outputs": [
    {
     "data": {
      "text/plain": [
       "<AxesSubplot:>"
      ]
     },
     "execution_count": 20,
     "metadata": {},
     "output_type": "execute_result"
    },
    {
     "data": {
      "image/png": "[encoded data removed]",
      "text/plain": [
       "<Figure size 432x288 with 2 Axes>"
      ]
     },
     "metadata": {
      "needs_background": "light"
     },
     "output_type": "display_data"
    }
   ],
   "source": [
    "sns.heatmap(data.corr(), annot=True)"
   ]
  },
  {
   "cell_type": "markdown",
   "metadata": {},
   "source": [
    "Всё в норме. Отклонений нет."
   ]
  },
  {
   "cell_type": "markdown",
   "metadata": {},
   "source": [
    "## Умножение матриц"
   ]
  },
  {
   "cell_type": "markdown",
   "metadata": {},
   "source": [
    "В этом задании вы можете записывать формулы в *Jupyter Notebook.*\n",
    "\n",
    "Чтобы записать формулу внутри текста, окружите её символами доллара \\\\$; если снаружи —  двойными символами \\\\$\\\\$. Эти формулы записываются на языке вёрстки *LaTeX.* \n",
    "\n",
    "Для примера мы записали формулы линейной регрессии. Можете их скопировать и отредактировать, чтобы решить задачу.\n",
    "\n",
    "Работать в *LaTeX* необязательно."
   ]
  },
  {
   "cell_type": "markdown",
   "metadata": {},
   "source": [
    "Обозначения:\n",
    "\n",
    "- $X$ — матрица признаков (нулевой столбец состоит из единиц)\n",
    "\n",
    "- $y$ — вектор целевого признака\n",
    "\n",
    "- $P$ — матрица, на которую умножаются признаки\n",
    "\n",
    "- $w$ — вектор весов линейной регрессии (нулевой элемент равен сдвигу)"
   ]
  },
  {
   "cell_type": "markdown",
   "metadata": {},
   "source": [
    "Предсказания:\n",
    "\n",
    "$$\n",
    "a = Xw\n",
    "$$\n",
    "\n",
    "Задача обучения:\n",
    "\n",
    "$$\n",
    "w = \\arg\\min_w MSE(Xw, y)\n",
    "$$\n",
    "\n",
    "Формула обучения:\n",
    "\n",
    "$$\n",
    "w = (X^T X)^{-1} X^T y\n",
    "$$"
   ]
  },
  {
   "cell_type": "markdown",
   "metadata": {},
   "source": [
    "**Ответ:** Не изменится\n",
    "\n",
    "**Обоснование:** \n",
    "\n",
    "Пусть наша первоначальная матрица признаков - X, а обратимая матрица, на которую мы будем домножать - P.\n",
    "Тогда, предсказания для первоначальной матрицы можно выразить как \n",
    "$$\n",
    "a = Xw - (!)\n",
    "$$\n",
    "где\n",
    "$$\n",
    "w = (X^T X)^{-1} X^T y       \n",
    "$$\n",
    "Или\n",
    "$$\n",
    "a = X(X^T X)^{-1} X^T y      - (0)\n",
    "$$\n",
    "\n",
    "А аналогичные предсказания для признаков X' домноженных на матрицу P **X' = XP** можно выразить так:\n",
    "$$\n",
    "a' = X'w' = XPw' \n",
    "$$\n",
    ", где \n",
    "$$\n",
    "w' = (X'^T X')^{-1} X'^T y   \n",
    "$$\n",
    "Получаем:\n",
    "$$\n",
    "a' = XP((XP)^T XP )^{-1} (XP)^T y - (1)\n",
    "$$\n",
    "Используем правило\n",
    "$$\n",
    "(AB)^T = B^T A^T \n",
    "$$\n",
    "\n",
    "Получаем из **(1)**:\n",
    "$$\n",
    "a' = XP((P^T X^T) (XP))^{-1} (P^T X^T) y - (2)\n",
    "$$\n",
    "\n",
    "Обратная матрица от произведения матриц равна:\n",
    "$$\n",
    "(AB)^{-1} = B^{-1} A^{-1} \n",
    "$$\n",
    "\n",
    "Используя это правило преобразуем **(2)**:\n",
    "$$\n",
    "a' = XP (XP)^{-1} (P^T X^T)^{-1} (P^T X^T) y - (2.1)\n",
    "$$\n",
    "\n",
    "И раскроем скобки ещё раз:\n",
    "$$\n",
    "a' = XP P^{-1} X^{-1} X^{T-1} P^{T-1} P^T X^T y - (3)\n",
    "$$\n",
    "\n",
    "В выражении **(3)** видим любопытную деталь - выделим её в скобки:\n",
    "$$\n",
    "a' = X(P P^{-1}) X^{-1} X^{T-1} (P^{T-1} P^T) X^T y - (3.1)\n",
    "$$\n",
    "\n",
    "Т.к. одно из свойств привзедения нескольких матриц имеет следующий вид:\n",
    "$$\n",
    "ABC = A(BC) = (AB)C\n",
    "$$\n",
    "А также:\n",
    "$$\n",
    "AA^{-1} = A^{-1}A = E\n",
    "$$\n",
    "\n",
    "Преобразуем **(3.1)** в выражение следующего вида:\n",
    "\n",
    "$$\n",
    "a' = XE X^{-1} X^{T-1} E X^T y - (3.2)\n",
    "$$\n",
    "\n",
    "В свою очередь:\n",
    "$$\n",
    "AE = EA = A\n",
    "$$\n",
    "Поэтому:\n",
    "$$\n",
    "a' = X X^{-1} X^{T-1} X^T y - (3.3)\n",
    "$$\n",
    "\n",
    "Возвращая первую часть обратно под скобки - получаем:\n",
    "\n",
    "$$\n",
    "a' = X (X^T X)^{-1} X^T y - (4)\n",
    "$$\n",
    "\n",
    "В свою очередь правая часть (начиная со второго множителя равна w), откуда:\n",
    "$$\n",
    "a' = Xw - (5)\n",
    "$$\n",
    "\n",
    "Возвращаясь к метке **(!)** приходим к выводу:\n",
    "$$\n",
    "a' = a\n",
    "$$\n",
    "\n",
    "Ч.т.д."
   ]
  },
  {
   "cell_type": "markdown",
   "metadata": {},
   "source": [
    "### Вывод\n",
    "Домножение матрицы признаков на обратимую матрицу не изменит предсказания модели."
   ]
  },
  {
   "cell_type": "markdown",
   "metadata": {},
   "source": [
    "## Алгоритм преобразования"
   ]
  },
  {
   "cell_type": "markdown",
   "metadata": {},
   "source": [
    "**Алгоритм**\n",
    "\n",
    "Исходя из выводов полученных в предыдущем пункте можно предложить следующий алгоритм преобразования - домножение на обратимую матрицу (ключевая матрица) порядка [n x n], где n - количество признаков. В нашем случае ключевая матрица будет порядка [4 х 4]."
   ]
  },
  {
   "cell_type": "markdown",
   "metadata": {},
   "source": [
    "**Обоснование**\n",
    "\n",
    "Перемножение матриц - достаточно непредсказуемая (в плане результата операция), поэтому восстановить, не зная ключевой матрицы, исходные данные - крайне проблематичная задача.\n",
    "\n",
    "В свою очередь, зная ключевое матрицу, расшифровать можно простым домножением уже преобразованных признаков на матрицу обратную ключевой."
   ]
  },
  {
   "cell_type": "markdown",
   "metadata": {},
   "source": [
    "## Проверка алгоритма"
   ]
  },
  {
   "cell_type": "markdown",
   "metadata": {},
   "source": [
    "Напишем функцию для определения обучающей, валидационной, кроссвалидационной и тестовой выборок из первоначального датасета"
   ]
  },
  {
   "cell_type": "code",
   "execution_count": 21,
   "metadata": {},
   "outputs": [],
   "source": [
    "def split_data(data):\n",
    "    # Получим обучающую и тестовую выборки \n",
    "    data_train, data_test = train_test_split(data, test_size=0.25, random_state=random_value, shuffle = True)\n",
    "\n",
    "    return data_train, data_test"
   ]
  },
  {
   "cell_type": "code",
   "execution_count": 22,
   "metadata": {},
   "outputs": [],
   "source": [
    "data_train, data_test = split_data(data)"
   ]
  },
  {
   "cell_type": "markdown",
   "metadata": {},
   "source": [
    "Определим функции которые будут выделять отдельно признаки и отдельно целевой признак."
   ]
  },
  {
   "cell_type": "code",
   "execution_count": 23,
   "metadata": {},
   "outputs": [],
   "source": [
    "def get_target(data, field):\n",
    "    return data[field]"
   ]
  },
  {
   "cell_type": "code",
   "execution_count": 24,
   "metadata": {},
   "outputs": [],
   "source": [
    "def get_features(data, field):\n",
    "    return data.drop([field], axis = 1)"
   ]
  },
  {
   "cell_type": "markdown",
   "metadata": {},
   "source": [
    "И функцию, возвращающую отдельно признаки и целевой признак."
   ]
  },
  {
   "cell_type": "code",
   "execution_count": 25,
   "metadata": {},
   "outputs": [],
   "source": [
    "def ftr_trgt_split(data, target_field):\n",
    "    features_train = get_features(data, target_field)\n",
    "    target_train = get_target(data, target_field)\n",
    "    return features_train, target_train"
   ]
  },
  {
   "cell_type": "code",
   "execution_count": 26,
   "metadata": {},
   "outputs": [],
   "source": [
    "features_train, target_train = ftr_trgt_split(data_train, 'Страховые выплаты')"
   ]
  },
  {
   "cell_type": "code",
   "execution_count": 27,
   "metadata": {},
   "outputs": [],
   "source": [
    "features_test, target_test = ftr_trgt_split(data_test, 'Страховые выплаты')"
   ]
  },
  {
   "cell_type": "markdown",
   "metadata": {},
   "source": [
    "Определим ключевую матрицу. Она должна быть обратимой."
   ]
  },
  {
   "cell_type": "code",
   "execution_count": 28,
   "metadata": {},
   "outputs": [],
   "source": [
    "def generate_key_matrix(n, extr_value):\n",
    "    #Функция генерирующая случайную обратимую матрицу размерности [n x n] \n",
    "        #с распределением случайных чисел от -extr_value до extr_value\n",
    "    #n - размерность матрицы\n",
    "    #extr_value - число определяющее нижнюю (со знаком \"-\") и верхнюю границы распределения случайных чисел матрицы\n",
    "    try:\n",
    "        key_matrix = np.random.randint(-extr_value, extr_value, size=(n, n))\n",
    "        if(np.linalg.det(key_matrix) == 0):\n",
    "            key_matrix = generate_key_matrix(n)\n",
    "            return key_matrix\n",
    "        return key_matrix\n",
    "    except:\n",
    "        print('Ошибка вычисления')"
   ]
  },
  {
   "cell_type": "code",
   "execution_count": 29,
   "metadata": {},
   "outputs": [],
   "source": [
    "key_matrix = generate_key_matrix(4, 100)"
   ]
  },
  {
   "cell_type": "code",
   "execution_count": 30,
   "metadata": {},
   "outputs": [
    {
     "name": "stdout",
     "output_type": "stream",
     "text": [
      "Определитель ключевой матрицы равен:  -122066895.99999972\n"
     ]
    }
   ],
   "source": [
    "print('Определитель ключевой матрицы равен: ', np.linalg.det(key_matrix))"
   ]
  },
  {
   "cell_type": "markdown",
   "metadata": {},
   "source": [
    "Определитель ключевой матрицы не равен нулю.\n",
    "\n",
    "Зашифруем признаки обучающей и тестовой выборки в отдельные переменные. "
   ]
  },
  {
   "cell_type": "code",
   "execution_count": 31,
   "metadata": {},
   "outputs": [],
   "source": [
    "features_train_modified = np.array(features_train) @ key_matrix\n",
    "features_test_modified = np.array(features_test) @ key_matrix"
   ]
  },
  {
   "cell_type": "markdown",
   "metadata": {},
   "source": [
    "Посмотрим на корреляцию признаков в зашифрованных данных"
   ]
  },
  {
   "cell_type": "code",
   "execution_count": 32,
   "metadata": {},
   "outputs": [
    {
     "data": {
      "text/plain": [
       "<AxesSubplot:>"
      ]
     },
     "execution_count": 32,
     "metadata": {},
     "output_type": "execute_result"
    },
    {
     "data": {
      "image/png": "[encoded data removed]",
      "text/plain": [
       "<Figure size 432x288 with 2 Axes>"
      ]
     },
     "metadata": {
      "needs_background": "light"
     },
     "output_type": "display_data"
    }
   ],
   "source": [
    "sns.heatmap(pd.DataFrame(data=features_train_modified, columns = features_train.columns).corr(), annot=True)"
   ]
  },
  {
   "cell_type": "markdown",
   "metadata": {},
   "source": [
    "Удивительно, но все они коррелируют друг с другом..\n",
    "Убедимся в этом построив график зависимости возраста и зарплаты, например, до и после шифрования."
   ]
  },
  {
   "cell_type": "code",
   "execution_count": 33,
   "metadata": {},
   "outputs": [],
   "source": [
    "def dependance_2cols(field_x, label_x, field_y, label_y, data, title):\n",
    "    plt.figure(figsize=(4,4))\n",
    "    sns.jointplot(\n",
    "        x=field_x, \n",
    "        y=field_y, \n",
    "        data=data, \n",
    "        kind=\"reg\", \n",
    "        #truncate=False, \n",
    "        height=7\n",
    "    )\n",
    "    plt.xlabel(label_x, fontsize=16)\n",
    "    plt.ylabel(label_y, fontsize=16)\n",
    "  #  plt.title(title, fontsize=20)\n",
    "  #  rcParams['axes.titlepad'] = 100 "
   ]
  },
  {
   "cell_type": "code",
   "execution_count": 34,
   "metadata": {},
   "outputs": [
    {
     "data": {
      "text/plain": [
       "0.0"
      ]
     },
     "execution_count": 34,
     "metadata": {},
     "output_type": "execute_result"
    }
   ],
   "source": [
    "rcParams['axes.titlepad']"
   ]
  },
  {
   "cell_type": "code",
   "execution_count": 35,
   "metadata": {},
   "outputs": [
    {
     "data": {
      "text/plain": [
       "<Figure size 288x288 with 0 Axes>"
      ]
     },
     "metadata": {},
     "output_type": "display_data"
    },
    {
     "data": {
      "image/png": "[encoded data removed]",
      "text/plain": [
       "<Figure size 504x504 with 3 Axes>"
      ]
     },
     "metadata": {
      "needs_background": "light"
     },
     "output_type": "display_data"
    }
   ],
   "source": [
    "dependance_2cols('Возраст', \n",
    "                 'Возраст', \n",
    "                 'Зарплата', \n",
    "                 'Зарплата', \n",
    "                 data_train, \n",
    "                 'Зависимость возраста и зарплаты. До шифрования.')"
   ]
  },
  {
   "cell_type": "code",
   "execution_count": 36,
   "metadata": {},
   "outputs": [
    {
     "data": {
      "text/plain": [
       "<Figure size 288x288 with 0 Axes>"
      ]
     },
     "metadata": {},
     "output_type": "display_data"
    },
    {
     "data": {
      "image/png": "[encoded data removed]",
      "text/plain": [
       "<Figure size 504x504 with 3 Axes>"
      ]
     },
     "metadata": {
      "needs_background": "light"
     },
     "output_type": "display_data"
    }
   ],
   "source": [
    "dependance_2cols('Возраст', \n",
    "                 'Возраст', \n",
    "                 'Зарплата', \n",
    "                 'Зарплата', \n",
    "                 pd.DataFrame(data=features_train_modified, columns = features_train.columns), \n",
    "                 'Зависимость возраста и зарплаты. После шифрования.')"
   ]
  },
  {
   "cell_type": "markdown",
   "metadata": {},
   "source": [
    "Да, действительно, зависимость стала строго линейной.\n",
    "Это, видимо, происходит из-за того, что одни и те же признаки разных наблюдений после умножения на обратимую матрицу будут описываться одним и тем же уравнением.\n",
    "\n",
    "Также можно предположить, что эффективность lasso-регрессии на этих данных будет отличаться за счёт зануления весов коррелирующих признаков. \n"
   ]
  },
  {
   "cell_type": "markdown",
   "metadata": {},
   "source": [
    "Напишем функции обучения моделей."
   ]
  },
  {
   "cell_type": "code",
   "execution_count": 37,
   "metadata": {},
   "outputs": [],
   "source": [
    "def linear_regressio(features, target):\n",
    "    model = LinearRegression(fit_intercept = True, normalize = True, copy_X = True)\n",
    "    model.fit(features, target)\n",
    "    \n",
    "    return model"
   ]
  },
  {
   "cell_type": "code",
   "execution_count": 38,
   "metadata": {},
   "outputs": [],
   "source": [
    "def lasso_regressio(features, target):\n",
    "    model = linear_model.Lasso(alpha=0.01)\n",
    "    model.fit(features, target)\n",
    "    \n",
    "    return model"
   ]
  },
  {
   "cell_type": "code",
   "execution_count": 105,
   "metadata": {},
   "outputs": [],
   "source": [
    "def ridge_regressio(features, target, alpha=0.1):\n",
    "    model = Ridge(alpha=alpha, solver = 'cholesky')\n",
    "    model.fit(features, target)\n",
    "    \n",
    "    return model"
   ]
  },
  {
   "cell_type": "markdown",
   "metadata": {},
   "source": [
    "Функция предсказания ответов и подсчета R2."
   ]
  },
  {
   "cell_type": "code",
   "execution_count": 40,
   "metadata": {},
   "outputs": [],
   "source": [
    "def do_predict_and_r2(model, features):\n",
    "    y = model.predict(features)\n",
    "    return r2_score(target_test, y)"
   ]
  },
  {
   "cell_type": "markdown",
   "metadata": {},
   "source": [
    "Функция вывода коэффициентов"
   ]
  },
  {
   "cell_type": "code",
   "execution_count": 41,
   "metadata": {},
   "outputs": [],
   "source": [
    "def get_coeffs(model):\n",
    "    return model.coef_"
   ]
  },
  {
   "cell_type": "markdown",
   "metadata": {},
   "source": [
    "### Масштабирование признаков"
   ]
  },
  {
   "cell_type": "markdown",
   "metadata": {},
   "source": [
    "Приведем все признаки к одному масштабу"
   ]
  },
  {
   "cell_type": "code",
   "execution_count": 42,
   "metadata": {},
   "outputs": [],
   "source": [
    "def super_scaler(data_train, data_test):\n",
    "    #numeric = data_train.columns\n",
    "\n",
    "    scaler = StandardScaler()\n",
    "    scaler.fit(data_train)\n",
    "    data_train = scaler.transform(data_train)\n",
    "    data_test = scaler.transform(data_test)\n",
    "    return data_train, data_test"
   ]
  },
  {
   "cell_type": "code",
   "execution_count": 43,
   "metadata": {},
   "outputs": [],
   "source": [
    "features_train_sc, features_test_sc = super_scaler(\n",
    "    features_train, \n",
    "    features_test\n",
    ")"
   ]
  },
  {
   "cell_type": "code",
   "execution_count": 44,
   "metadata": {},
   "outputs": [],
   "source": [
    "features_train_modified_sc, features_test_modified_sc = super_scaler(\n",
    "    features_train_modified, \n",
    "    features_test_modified\n",
    ")"
   ]
  },
  {
   "cell_type": "markdown",
   "metadata": {},
   "source": [
    "### Линейная регрессия"
   ]
  },
  {
   "cell_type": "code",
   "execution_count": 55,
   "metadata": {},
   "outputs": [
    {
     "name": "stdout",
     "output_type": "stream",
     "text": [
      "Wall time: 17 ms\n"
     ]
    }
   ],
   "source": [
    "%%time\n",
    "lin_model_1 = linear_regressio(features_train_sc, target_train)\n",
    "lin_model_2 = linear_regressio(features_train_modified_sc, target_train)"
   ]
  },
  {
   "cell_type": "code",
   "execution_count": 57,
   "metadata": {},
   "outputs": [
    {
     "name": "stdout",
     "output_type": "stream",
     "text": [
      "R2 модели линейной регрессии на обычных данных:  0.4163585126426165\n",
      "R2 модели линейной регрессии на зашифрованных данных:  0.416358512642685\n"
     ]
    }
   ],
   "source": [
    "print('R2 модели линейной регрессии на обычных данных: ', do_predict_and_r2(lin_model_1, features_test_sc))\n",
    "print('R2 модели линейной регрессии на зашифрованных данных: ', do_predict_and_r2(lin_model_2, features_test_modified_sc))"
   ]
  },
  {
   "cell_type": "code",
   "execution_count": 58,
   "metadata": {},
   "outputs": [
    {
     "name": "stdout",
     "output_type": "stream",
     "text": [
      "Коэффициенты модели линейной регрессии на обычных данных:  [-7.63994824e-05  2.93837416e-01 -3.15851817e-03 -1.77947008e-02]\n",
      "Коэффициенты модели линейной регрессии на зашифрованных данных:  [-349.97826014 -310.76972794  187.19410218 -147.99657903]\n"
     ]
    }
   ],
   "source": [
    "print('Коэффициенты модели линейной регрессии на обычных данных: ', get_coeffs(lin_model_1))\n",
    "print('Коэффициенты модели линейной регрессии на зашифрованных данных: ', get_coeffs(lin_model_2))"
   ]
  },
  {
   "cell_type": "markdown",
   "metadata": {},
   "source": [
    "Вот мы и убедились в том, что эффективность модели линейной регрессии после домножения на обратимую матрицу не меняется.\n",
    "\n",
    "При этом коэффициенты изменились."
   ]
  },
  {
   "cell_type": "markdown",
   "metadata": {},
   "source": [
    "### Lasso-регрессия"
   ]
  },
  {
   "cell_type": "code",
   "execution_count": 49,
   "metadata": {},
   "outputs": [
    {
     "name": "stdout",
     "output_type": "stream",
     "text": [
      "Wall time: 39 ms\n"
     ]
    }
   ],
   "source": [
    "%%time\n",
    "lasso_1 = lasso_regressio(features_train_sc, target_train)\n",
    "lasso_2 = lasso_regressio(features_train_modified_sc, target_train)"
   ]
  },
  {
   "cell_type": "code",
   "execution_count": 50,
   "metadata": {},
   "outputs": [
    {
     "name": "stdout",
     "output_type": "stream",
     "text": [
      "R2 модели lasso-регрессии на обычных данных:  0.4149383735646045\n",
      "R2 модели lasso-регрессии на зашифрованных данных:  -0.0003400591262927577\n"
     ]
    }
   ],
   "source": [
    "print('R2 модели lasso-регрессии на обычных данных: ', do_predict_and_r2(lasso_1, features_test_sc))\n",
    "print('R2 модели lasso-регрессии на зашифрованных данных: ', do_predict_and_r2(lasso_2, features_test_modified_sc))"
   ]
  },
  {
   "cell_type": "code",
   "execution_count": 51,
   "metadata": {},
   "outputs": [
    {
     "name": "stdout",
     "output_type": "stream",
     "text": [
      "Коэффициенты модели lasso-регрессии на обычных данных:  [ 0.          0.28408974 -0.         -0.00786306]\n",
      "Коэффициенты модели lasso-регрессии на зашифрованных данных:  [-0.          0.         -0.         -0.00120676]\n"
     ]
    }
   ],
   "source": [
    "print('Коэффициенты модели lasso-регрессии на обычных данных: ', get_coeffs(lasso_1))\n",
    "print('Коэффициенты модели lasso-регрессии на зашифрованных данных: ', get_coeffs(lasso_2))"
   ]
  },
  {
   "cell_type": "markdown",
   "metadata": {},
   "source": [
    "Да, действительно почти все признаки во втором случае равны нулю. И модель почти равносильна выводу матожидания, R2 тоже это показывает - он около 0."
   ]
  },
  {
   "cell_type": "code",
   "execution_count": null,
   "metadata": {},
   "outputs": [],
   "source": [
    "coeffs = np.linalg.inv(key_matrix) @ get_coeffs(lin_model_1).T\n",
    "print(\n",
    "    'Рассчитанные весовые коэффициенты модели линейной регрессии на зашифрованных данных', \n",
    "    coeffs\n",
    ")"
   ]
  },
  {
   "cell_type": "markdown",
   "metadata": {},
   "source": [
    "### Ridge-регрессия"
   ]
  },
  {
   "cell_type": "code",
   "execution_count": 52,
   "metadata": {},
   "outputs": [],
   "source": [
    "ridge_1 = ridge_regressio(features_train_sc, target_train)\n",
    "ridge_2 = ridge_regressio(features_train_modified_sc, target_train)"
   ]
  },
  {
   "cell_type": "code",
   "execution_count": 53,
   "metadata": {},
   "outputs": [
    {
     "name": "stdout",
     "output_type": "stream",
     "text": [
      "R2 модели ridge-регрессии на обычных данных:  0.41635723005659986\n",
      "R2 модели ridge-регрессии на зашифрованных данных:  0.017318150577318447\n"
     ]
    }
   ],
   "source": [
    "print('R2 модели ridge-регрессии на обычных данных: ', do_predict_and_r2(ridge_1, features_test_sc))\n",
    "print('R2 модели ridge-регрессии на зашифрованных данных: ', do_predict_and_r2(ridge_2, features_test_modified_sc))"
   ]
  },
  {
   "cell_type": "code",
   "execution_count": 54,
   "metadata": {},
   "outputs": [
    {
     "name": "stdout",
     "output_type": "stream",
     "text": [
      "Коэффициенты модели ridge-регрессии на обычных данных:  [-7.62278806e-05  2.93829579e-01 -3.15864328e-03 -1.77943581e-02]\n",
      "Коэффициенты модели ridge-регрессии на зашифрованных данных:  [-0.55982942 -5.46502816  1.65262145 -6.56884784]\n"
     ]
    }
   ],
   "source": [
    "print('Коэффициенты модели ridge-регрессии на обычных данных: ', get_coeffs(ridge_1))\n",
    "print('Коэффициенты модели ridge-регрессии на зашифрованных данных: ', get_coeffs(ridge_2))"
   ]
  },
  {
   "cell_type": "markdown",
   "metadata": {},
   "source": [
    "И снова во втором случае, за счёт регуляризации зашифрованный датасет предсказывается гораздо хуже.\n",
    "\n",
    "P.S. А без масштабирования признаков предсказания были одинаковы. Почему так происходит?"
   ]
  },
  {
   "cell_type": "markdown",
   "metadata": {},
   "source": [
    "## Расчёт коэффициентов"
   ]
  },
  {
   "cell_type": "markdown",
   "metadata": {},
   "source": [
    "### Линейная регрессия"
   ]
  },
  {
   "cell_type": "code",
   "execution_count": 60,
   "metadata": {},
   "outputs": [
    {
     "name": "stdout",
     "output_type": "stream",
     "text": [
      "Коэффициенты модели линейной регрессии на обычных данных:  [-7.63994824e-05  2.93837416e-01 -3.15851817e-03 -1.77947008e-02]\n"
     ]
    }
   ],
   "source": [
    "print('Коэффициенты модели линейной регрессии на обычных данных: ', get_coeffs(lin_model_1))"
   ]
  },
  {
   "cell_type": "code",
   "execution_count": 59,
   "metadata": {},
   "outputs": [
    {
     "data": {
      "text/plain": [
       "array([-7.63994824e-05,  2.93837416e-01, -3.15851817e-03, -1.77947008e-02])"
      ]
     },
     "execution_count": 59,
     "metadata": {},
     "output_type": "execute_result"
    }
   ],
   "source": [
    "np.linalg.inv(features_train_sc.T @ features_train_sc) @ features_train_sc.T @ target_train"
   ]
  },
  {
   "cell_type": "markdown",
   "metadata": {},
   "source": [
    "### Lasso-регрессия"
   ]
  },
  {
   "cell_type": "code",
   "execution_count": 122,
   "metadata": {},
   "outputs": [
    {
     "name": "stdout",
     "output_type": "stream",
     "text": [
      "Коэффициенты модели линейной регрессии на обычных данных:  [ 0.          0.28408974 -0.         -0.00786306]\n"
     ]
    }
   ],
   "source": [
    "print('Коэффициенты модели линейной регрессии на обычных данных: ', get_coeffs(lasso_1))"
   ]
  },
  {
   "cell_type": "code",
   "execution_count": 123,
   "metadata": {},
   "outputs": [
    {
     "data": {
      "text/plain": [
       "array([-0.13160576,  0.15696531, -0.14322167, -0.15977433])"
      ]
     },
     "execution_count": 123,
     "metadata": {},
     "output_type": "execute_result"
    }
   ],
   "source": [
    "np.linalg.inv(features_train_sc.T @ features_train_sc) @ (features_train_sc.T @ target_train - 0.5 * lambda_L1 @ np.eye(4))"
   ]
  },
  {
   "cell_type": "code",
   "execution_count": 69,
   "metadata": {},
   "outputs": [
    {
     "data": {
      "text/plain": [
       "array([  23.58348008, 1103.32972893,  -40.49857093,  -84.8060093 ])"
      ]
     },
     "execution_count": 69,
     "metadata": {},
     "output_type": "execute_result"
    }
   ],
   "source": [
    "features_train_sc.T @ target_train "
   ]
  },
  {
   "cell_type": "markdown",
   "metadata": {},
   "source": [
    "### Ridge-регрессия"
   ]
  },
  {
   "cell_type": "code",
   "execution_count": 124,
   "metadata": {},
   "outputs": [
    {
     "data": {
      "text/plain": [
       "array([10, 10, 10, 10])"
      ]
     },
     "execution_count": 124,
     "metadata": {},
     "output_type": "execute_result"
    }
   ],
   "source": [
    "\n",
    "l = 10\n",
    "lambda_L1 = np.array([l, l, l, l])\n",
    "lambda_L1"
   ]
  },
  {
   "cell_type": "code",
   "execution_count": 125,
   "metadata": {},
   "outputs": [],
   "source": [
    "ridge_1 = ridge_regressio(features_train_sc, target_train, alpha=l)"
   ]
  },
  {
   "cell_type": "code",
   "execution_count": 126,
   "metadata": {},
   "outputs": [
    {
     "name": "stdout",
     "output_type": "stream",
     "text": [
      "Коэффициенты модели ridge-регрессии на обычных данных:  [-5.93290243e-05  2.93055806e-01 -3.17093909e-03 -1.77604930e-02]\n"
     ]
    }
   ],
   "source": [
    "print('Коэффициенты модели ridge-регрессии на обычных данных: ', get_coeffs(ridge_1))"
   ]
  },
  {
   "cell_type": "code",
   "execution_count": 127,
   "metadata": {},
   "outputs": [
    {
     "data": {
      "text/plain": [
       "array([-5.93290243e-05,  2.93055806e-01, -3.17093909e-03, -1.77604930e-02])"
      ]
     },
     "execution_count": 127,
     "metadata": {},
     "output_type": "execute_result"
    }
   ],
   "source": [
    "np.linalg.inv(features_train_sc.T @ features_train_sc + l * np.eye(4) ) @ features_train_sc.T @ target_train"
   ]
  },
  {
   "cell_type": "markdown",
   "metadata": {},
   "source": [
    "## Вывод\n",
    "\n",
    "На **первом этапе** были загружены и изучены данные.  \n",
    "Принято решение столбцы Возраст и Зарплата привести к типу int.\n",
    "\n",
    "На **втором этапе** было доказано, что домножение матрицы признаков на обратимую матрицу не изменит предсказания модели.\n",
    "\n",
    "На **третьем этапе**, исходя из выводов полученных в предыдущем пункте, предложен следующий алгоритм преобразования - домножение на обратимую матрицу (ключевая матрица) порядка [n x n], где n - количество признаков. В нашем случае ключевая матрица будет порядка [4 х 4].  \n",
    "Обоснование:  \n",
    "Перемножение матриц - достаточно непредсказуемая (в плане результата операция), поэтому восстановить, не зная ключевой матрицы, исходные данные - крайне проблематичная задача.  \n",
    "В свою очередь, зная ключевое матрицу, расшифровать можно простым домножением уже преобразованных признаков на матрицу обратную ключевой.  \n",
    "На **заключительном этапе** была произведена проверка алгоритма.\n",
    "Для обычной линейной регрессии показатель R2 остался неизменным. В то время как для моделей с использованием регуляризации - результаты кардинально изменились.\n"
   ]
  }
 ],
 "metadata": {
  "kernelspec": {
   "display_name": "Python 3",
   "language": "python",
   "name": "python3"
  },
  "language_info": {
   "codemirror_mode": {
    "name": "ipython",
    "version": 3
   },
   "file_extension": ".py",
   "mimetype": "text/x-python",
   "name": "python",
   "nbconvert_exporter": "python",
   "pygments_lexer": "ipython3",
   "version": "3.8.5"
  },
  "toc": {
   "base_numbering": 1,
   "nav_menu": {},
   "number_sections": true,
   "sideBar": true,
   "skip_h1_title": true,
   "title_cell": "Содержание",
   "title_sidebar": "Contents",
   "toc_cell": true,
   "toc_position": {
    "height": "calc(100% - 180px)",
    "left": "10px",
    "top": "150px",
    "width": "309.4px"
   },
   "toc_section_display": true,
   "toc_window_display": true
  }
 },
 "nbformat": 4,
 "nbformat_minor": 2
}
