{
 "cells": [
  {
   "cell_type": "markdown",
   "metadata": {},
   "source": [
    "# Выбор локации для скважины"
   ]
  },
  {
   "cell_type": "markdown",
   "metadata": {},
   "source": [
    "Допустим, вы работаете в добывающей компании «ГлавРосГосНефть». Нужно решить, где бурить новую скважину.\n",
    "\n",
    "Вам предоставлены пробы нефти в трёх регионах: в каждом 10 000 месторождений, где измерили качество нефти и объём её запасов. Постройте модель машинного обучения, которая поможет определить регион, где добыча принесёт наибольшую прибыль. Проанализируйте возможную прибыль и риски техникой *Bootstrap.*\n",
    "\n",
    "Шаги для выбора локации:\n",
    "\n",
    "- В избранном регионе ищут месторождения, для каждого определяют значения признаков;\n",
    "- Строят модель и оценивают объём запасов;\n",
    "- Выбирают месторождения с самым высокими оценками значений. Количество месторождений зависит от бюджета компании и стоимости разработки одной скважины;\n",
    "- Прибыль равна суммарной прибыли отобранных месторождений."
   ]
  },
  {
   "cell_type": "markdown",
   "metadata": {},
   "source": [
    "## Загрузка и подготовка данных"
   ]
  },
  {
   "cell_type": "markdown",
   "metadata": {},
   "source": [
    "Загрузим необходимые библиотеки"
   ]
  },
  {
   "cell_type": "code",
   "execution_count": 1,
   "metadata": {},
   "outputs": [],
   "source": [
    "import pandas as pd\n",
    "import numpy as np\n",
    "from scipy import stats as st \n",
    "\n",
    "from sklearn.model_selection import train_test_split\n",
    "\n",
    "import seaborn as sns\n",
    "\n",
    "from sklearn.preprocessing import StandardScaler\n",
    "from sklearn.linear_model import LinearRegression\n",
    "from sklearn.linear_model import HuberRegressor\n",
    "from sklearn.linear_model import SGDRegressor\n",
    "\n",
    "from sklearn.metrics import mean_squared_error\n",
    "from sklearn.metrics import r2_score\n",
    "\n",
    "from sklearn.model_selection import GridSearchCV\n",
    "from sklearn.pipeline import make_pipeline\n",
    "from sklearn.datasets import make_classification"
   ]
  },
  {
   "cell_type": "markdown",
   "metadata": {},
   "source": [
    "Установим случайное число"
   ]
  },
  {
   "cell_type": "code",
   "execution_count": 1,
   "metadata": {},
   "outputs": [],
   "source": [
    "random_value = 2021"
   ]
  },
  {
   "cell_type": "markdown",
   "metadata": {},
   "source": [
    "Отключим предупреждения"
   ]
  },
  {
   "cell_type": "code",
   "execution_count": 3,
   "metadata": {},
   "outputs": [],
   "source": [
    "import warnings\n",
    "warnings.filterwarnings('ignore')  # \"error\", \"ignore\", \"always\", \"default\", \"module\" or \"once\""
   ]
  },
  {
   "cell_type": "markdown",
   "metadata": {},
   "source": [
    "Считаем данные."
   ]
  },
  {
   "cell_type": "code",
   "execution_count": 4,
   "metadata": {},
   "outputs": [],
   "source": [
    "data0 = pd.read_csv('/datasets/geo_data_0.csv')\n",
    "data1 = pd.read_csv('/datasets/geo_data_1.csv')\n",
    "data2 = pd.read_csv('/datasets/geo_data_2.csv')"
   ]
  },
  {
   "cell_type": "code",
   "execution_count": 5,
   "metadata": {},
   "outputs": [
    {
     "name": "stdout",
     "output_type": "stream",
     "text": [
      "<class 'pandas.core.frame.DataFrame'>\n",
      "RangeIndex: 100000 entries, 0 to 99999\n",
      "Data columns (total 5 columns):\n",
      "id         100000 non-null object\n",
      "f0         100000 non-null float64\n",
      "f1         100000 non-null float64\n",
      "f2         100000 non-null float64\n",
      "product    100000 non-null float64\n",
      "dtypes: float64(4), object(1)\n",
      "memory usage: 3.8+ MB\n"
     ]
    }
   ],
   "source": [
    "data0.info()"
   ]
  },
  {
   "cell_type": "code",
   "execution_count": 6,
   "metadata": {},
   "outputs": [
    {
     "name": "stdout",
     "output_type": "stream",
     "text": [
      "<class 'pandas.core.frame.DataFrame'>\n",
      "RangeIndex: 100000 entries, 0 to 99999\n",
      "Data columns (total 5 columns):\n",
      "id         100000 non-null object\n",
      "f0         100000 non-null float64\n",
      "f1         100000 non-null float64\n",
      "f2         100000 non-null float64\n",
      "product    100000 non-null float64\n",
      "dtypes: float64(4), object(1)\n",
      "memory usage: 3.8+ MB\n"
     ]
    }
   ],
   "source": [
    "data1.info()"
   ]
  },
  {
   "cell_type": "code",
   "execution_count": 7,
   "metadata": {},
   "outputs": [
    {
     "name": "stdout",
     "output_type": "stream",
     "text": [
      "<class 'pandas.core.frame.DataFrame'>\n",
      "RangeIndex: 100000 entries, 0 to 99999\n",
      "Data columns (total 5 columns):\n",
      "id         100000 non-null object\n",
      "f0         100000 non-null float64\n",
      "f1         100000 non-null float64\n",
      "f2         100000 non-null float64\n",
      "product    100000 non-null float64\n",
      "dtypes: float64(4), object(1)\n",
      "memory usage: 3.8+ MB\n"
     ]
    }
   ],
   "source": [
    "data2.info()"
   ]
  },
  {
   "cell_type": "markdown",
   "metadata": {},
   "source": [
    "Посмотрим содержимое."
   ]
  },
  {
   "cell_type": "code",
   "execution_count": 8,
   "metadata": {},
   "outputs": [
    {
     "data": {
      "text/html": [
       "<div>\n",
       "<style scoped>\n",
       "    .dataframe tbody tr th:only-of-type {\n",
       "        vertical-align: middle;\n",
       "    }\n",
       "\n",
       "    .dataframe tbody tr th {\n",
       "        vertical-align: top;\n",
       "    }\n",
       "\n",
       "    .dataframe thead th {\n",
       "        text-align: right;\n",
       "    }\n",
       "</style>\n",
       "<table border=\"1\" class=\"dataframe\">\n",
       "  <thead>\n",
       "    <tr style=\"text-align: right;\">\n",
       "      <th></th>\n",
       "      <th>id</th>\n",
       "      <th>f0</th>\n",
       "      <th>f1</th>\n",
       "      <th>f2</th>\n",
       "      <th>product</th>\n",
       "    </tr>\n",
       "  </thead>\n",
       "  <tbody>\n",
       "    <tr>\n",
       "      <td>0</td>\n",
       "      <td>txEyH</td>\n",
       "      <td>0.705745</td>\n",
       "      <td>-0.497823</td>\n",
       "      <td>1.221170</td>\n",
       "      <td>105.280062</td>\n",
       "    </tr>\n",
       "    <tr>\n",
       "      <td>1</td>\n",
       "      <td>2acmU</td>\n",
       "      <td>1.334711</td>\n",
       "      <td>-0.340164</td>\n",
       "      <td>4.365080</td>\n",
       "      <td>73.037750</td>\n",
       "    </tr>\n",
       "    <tr>\n",
       "      <td>2</td>\n",
       "      <td>409Wp</td>\n",
       "      <td>1.022732</td>\n",
       "      <td>0.151990</td>\n",
       "      <td>1.419926</td>\n",
       "      <td>85.265647</td>\n",
       "    </tr>\n",
       "    <tr>\n",
       "      <td>3</td>\n",
       "      <td>iJLyR</td>\n",
       "      <td>-0.032172</td>\n",
       "      <td>0.139033</td>\n",
       "      <td>2.978566</td>\n",
       "      <td>168.620776</td>\n",
       "    </tr>\n",
       "    <tr>\n",
       "      <td>4</td>\n",
       "      <td>Xdl7t</td>\n",
       "      <td>1.988431</td>\n",
       "      <td>0.155413</td>\n",
       "      <td>4.751769</td>\n",
       "      <td>154.036647</td>\n",
       "    </tr>\n",
       "  </tbody>\n",
       "</table>\n",
       "</div>"
      ],
      "text/plain": [
       "      id        f0        f1        f2     product\n",
       "0  txEyH  0.705745 -0.497823  1.221170  105.280062\n",
       "1  2acmU  1.334711 -0.340164  4.365080   73.037750\n",
       "2  409Wp  1.022732  0.151990  1.419926   85.265647\n",
       "3  iJLyR -0.032172  0.139033  2.978566  168.620776\n",
       "4  Xdl7t  1.988431  0.155413  4.751769  154.036647"
      ]
     },
     "metadata": {},
     "output_type": "display_data"
    },
    {
     "data": {
      "text/html": [
       "<div>\n",
       "<style scoped>\n",
       "    .dataframe tbody tr th:only-of-type {\n",
       "        vertical-align: middle;\n",
       "    }\n",
       "\n",
       "    .dataframe tbody tr th {\n",
       "        vertical-align: top;\n",
       "    }\n",
       "\n",
       "    .dataframe thead th {\n",
       "        text-align: right;\n",
       "    }\n",
       "</style>\n",
       "<table border=\"1\" class=\"dataframe\">\n",
       "  <thead>\n",
       "    <tr style=\"text-align: right;\">\n",
       "      <th></th>\n",
       "      <th>id</th>\n",
       "      <th>f0</th>\n",
       "      <th>f1</th>\n",
       "      <th>f2</th>\n",
       "      <th>product</th>\n",
       "    </tr>\n",
       "  </thead>\n",
       "  <tbody>\n",
       "    <tr>\n",
       "      <td>0</td>\n",
       "      <td>kBEdx</td>\n",
       "      <td>-15.001348</td>\n",
       "      <td>-8.276000</td>\n",
       "      <td>-0.005876</td>\n",
       "      <td>3.179103</td>\n",
       "    </tr>\n",
       "    <tr>\n",
       "      <td>1</td>\n",
       "      <td>62mP7</td>\n",
       "      <td>14.272088</td>\n",
       "      <td>-3.475083</td>\n",
       "      <td>0.999183</td>\n",
       "      <td>26.953261</td>\n",
       "    </tr>\n",
       "    <tr>\n",
       "      <td>2</td>\n",
       "      <td>vyE1P</td>\n",
       "      <td>6.263187</td>\n",
       "      <td>-5.948386</td>\n",
       "      <td>5.001160</td>\n",
       "      <td>134.766305</td>\n",
       "    </tr>\n",
       "    <tr>\n",
       "      <td>3</td>\n",
       "      <td>KcrkZ</td>\n",
       "      <td>-13.081196</td>\n",
       "      <td>-11.506057</td>\n",
       "      <td>4.999415</td>\n",
       "      <td>137.945408</td>\n",
       "    </tr>\n",
       "    <tr>\n",
       "      <td>4</td>\n",
       "      <td>AHL4O</td>\n",
       "      <td>12.702195</td>\n",
       "      <td>-8.147433</td>\n",
       "      <td>5.004363</td>\n",
       "      <td>134.766305</td>\n",
       "    </tr>\n",
       "  </tbody>\n",
       "</table>\n",
       "</div>"
      ],
      "text/plain": [
       "      id         f0         f1        f2     product\n",
       "0  kBEdx -15.001348  -8.276000 -0.005876    3.179103\n",
       "1  62mP7  14.272088  -3.475083  0.999183   26.953261\n",
       "2  vyE1P   6.263187  -5.948386  5.001160  134.766305\n",
       "3  KcrkZ -13.081196 -11.506057  4.999415  137.945408\n",
       "4  AHL4O  12.702195  -8.147433  5.004363  134.766305"
      ]
     },
     "metadata": {},
     "output_type": "display_data"
    },
    {
     "data": {
      "text/html": [
       "<div>\n",
       "<style scoped>\n",
       "    .dataframe tbody tr th:only-of-type {\n",
       "        vertical-align: middle;\n",
       "    }\n",
       "\n",
       "    .dataframe tbody tr th {\n",
       "        vertical-align: top;\n",
       "    }\n",
       "\n",
       "    .dataframe thead th {\n",
       "        text-align: right;\n",
       "    }\n",
       "</style>\n",
       "<table border=\"1\" class=\"dataframe\">\n",
       "  <thead>\n",
       "    <tr style=\"text-align: right;\">\n",
       "      <th></th>\n",
       "      <th>id</th>\n",
       "      <th>f0</th>\n",
       "      <th>f1</th>\n",
       "      <th>f2</th>\n",
       "      <th>product</th>\n",
       "    </tr>\n",
       "  </thead>\n",
       "  <tbody>\n",
       "    <tr>\n",
       "      <td>0</td>\n",
       "      <td>fwXo0</td>\n",
       "      <td>-1.146987</td>\n",
       "      <td>0.963328</td>\n",
       "      <td>-0.828965</td>\n",
       "      <td>27.758673</td>\n",
       "    </tr>\n",
       "    <tr>\n",
       "      <td>1</td>\n",
       "      <td>WJtFt</td>\n",
       "      <td>0.262778</td>\n",
       "      <td>0.269839</td>\n",
       "      <td>-2.530187</td>\n",
       "      <td>56.069697</td>\n",
       "    </tr>\n",
       "    <tr>\n",
       "      <td>2</td>\n",
       "      <td>ovLUW</td>\n",
       "      <td>0.194587</td>\n",
       "      <td>0.289035</td>\n",
       "      <td>-5.586433</td>\n",
       "      <td>62.871910</td>\n",
       "    </tr>\n",
       "    <tr>\n",
       "      <td>3</td>\n",
       "      <td>q6cA6</td>\n",
       "      <td>2.236060</td>\n",
       "      <td>-0.553760</td>\n",
       "      <td>0.930038</td>\n",
       "      <td>114.572842</td>\n",
       "    </tr>\n",
       "    <tr>\n",
       "      <td>4</td>\n",
       "      <td>WPMUX</td>\n",
       "      <td>-0.515993</td>\n",
       "      <td>1.716266</td>\n",
       "      <td>5.899011</td>\n",
       "      <td>149.600746</td>\n",
       "    </tr>\n",
       "  </tbody>\n",
       "</table>\n",
       "</div>"
      ],
      "text/plain": [
       "      id        f0        f1        f2     product\n",
       "0  fwXo0 -1.146987  0.963328 -0.828965   27.758673\n",
       "1  WJtFt  0.262778  0.269839 -2.530187   56.069697\n",
       "2  ovLUW  0.194587  0.289035 -5.586433   62.871910\n",
       "3  q6cA6  2.236060 -0.553760  0.930038  114.572842\n",
       "4  WPMUX -0.515993  1.716266  5.899011  149.600746"
      ]
     },
     "metadata": {},
     "output_type": "display_data"
    }
   ],
   "source": [
    "display(data0.head())\n",
    "display(data1.head())\n",
    "display(data2.head())"
   ]
  },
  {
   "cell_type": "markdown",
   "metadata": {},
   "source": [
    "Проверим есть ли полные дубликаты и дубликаты по id для 0-го региона"
   ]
  },
  {
   "cell_type": "code",
   "execution_count": 9,
   "metadata": {},
   "outputs": [
    {
     "data": {
      "text/html": [
       "<div>\n",
       "<style scoped>\n",
       "    .dataframe tbody tr th:only-of-type {\n",
       "        vertical-align: middle;\n",
       "    }\n",
       "\n",
       "    .dataframe tbody tr th {\n",
       "        vertical-align: top;\n",
       "    }\n",
       "\n",
       "    .dataframe thead th {\n",
       "        text-align: right;\n",
       "    }\n",
       "</style>\n",
       "<table border=\"1\" class=\"dataframe\">\n",
       "  <thead>\n",
       "    <tr style=\"text-align: right;\">\n",
       "      <th></th>\n",
       "      <th>id</th>\n",
       "      <th>f0</th>\n",
       "      <th>f1</th>\n",
       "      <th>f2</th>\n",
       "      <th>product</th>\n",
       "    </tr>\n",
       "  </thead>\n",
       "  <tbody>\n",
       "  </tbody>\n",
       "</table>\n",
       "</div>"
      ],
      "text/plain": [
       "Empty DataFrame\n",
       "Columns: [id, f0, f1, f2, product]\n",
       "Index: []"
      ]
     },
     "execution_count": 9,
     "metadata": {},
     "output_type": "execute_result"
    }
   ],
   "source": [
    "data0[data0.duplicated()]"
   ]
  },
  {
   "cell_type": "code",
   "execution_count": 10,
   "metadata": {},
   "outputs": [
    {
     "data": {
      "text/html": [
       "<div>\n",
       "<style scoped>\n",
       "    .dataframe tbody tr th:only-of-type {\n",
       "        vertical-align: middle;\n",
       "    }\n",
       "\n",
       "    .dataframe tbody tr th {\n",
       "        vertical-align: top;\n",
       "    }\n",
       "\n",
       "    .dataframe thead th {\n",
       "        text-align: right;\n",
       "    }\n",
       "</style>\n",
       "<table border=\"1\" class=\"dataframe\">\n",
       "  <thead>\n",
       "    <tr style=\"text-align: right;\">\n",
       "      <th></th>\n",
       "      <th>id</th>\n",
       "      <th>f0</th>\n",
       "      <th>f1</th>\n",
       "      <th>f2</th>\n",
       "      <th>product</th>\n",
       "    </tr>\n",
       "  </thead>\n",
       "  <tbody>\n",
       "    <tr>\n",
       "      <td>7530</td>\n",
       "      <td>HZww2</td>\n",
       "      <td>1.061194</td>\n",
       "      <td>-0.373969</td>\n",
       "      <td>10.430210</td>\n",
       "      <td>158.828695</td>\n",
       "    </tr>\n",
       "    <tr>\n",
       "      <td>41724</td>\n",
       "      <td>bxg6G</td>\n",
       "      <td>-0.823752</td>\n",
       "      <td>0.546319</td>\n",
       "      <td>3.630479</td>\n",
       "      <td>93.007798</td>\n",
       "    </tr>\n",
       "    <tr>\n",
       "      <td>51970</td>\n",
       "      <td>A5aEY</td>\n",
       "      <td>-0.180335</td>\n",
       "      <td>0.935548</td>\n",
       "      <td>-2.094773</td>\n",
       "      <td>33.020205</td>\n",
       "    </tr>\n",
       "    <tr>\n",
       "      <td>63593</td>\n",
       "      <td>QcMuo</td>\n",
       "      <td>0.635635</td>\n",
       "      <td>-0.473422</td>\n",
       "      <td>0.862670</td>\n",
       "      <td>64.578675</td>\n",
       "    </tr>\n",
       "    <tr>\n",
       "      <td>66136</td>\n",
       "      <td>74z30</td>\n",
       "      <td>1.084962</td>\n",
       "      <td>-0.312358</td>\n",
       "      <td>6.990771</td>\n",
       "      <td>127.643327</td>\n",
       "    </tr>\n",
       "    <tr>\n",
       "      <td>69163</td>\n",
       "      <td>AGS9W</td>\n",
       "      <td>-0.933795</td>\n",
       "      <td>0.116194</td>\n",
       "      <td>-3.655896</td>\n",
       "      <td>19.230453</td>\n",
       "    </tr>\n",
       "    <tr>\n",
       "      <td>75715</td>\n",
       "      <td>Tdehs</td>\n",
       "      <td>0.112079</td>\n",
       "      <td>0.430296</td>\n",
       "      <td>3.218993</td>\n",
       "      <td>60.964018</td>\n",
       "    </tr>\n",
       "    <tr>\n",
       "      <td>90815</td>\n",
       "      <td>fiKDv</td>\n",
       "      <td>0.049883</td>\n",
       "      <td>0.841313</td>\n",
       "      <td>6.394613</td>\n",
       "      <td>137.346586</td>\n",
       "    </tr>\n",
       "    <tr>\n",
       "      <td>92341</td>\n",
       "      <td>TtcGQ</td>\n",
       "      <td>0.110711</td>\n",
       "      <td>1.022689</td>\n",
       "      <td>0.911381</td>\n",
       "      <td>101.318008</td>\n",
       "    </tr>\n",
       "    <tr>\n",
       "      <td>97785</td>\n",
       "      <td>bsk9y</td>\n",
       "      <td>0.378429</td>\n",
       "      <td>0.005837</td>\n",
       "      <td>0.160827</td>\n",
       "      <td>160.637302</td>\n",
       "    </tr>\n",
       "  </tbody>\n",
       "</table>\n",
       "</div>"
      ],
      "text/plain": [
       "          id        f0        f1         f2     product\n",
       "7530   HZww2  1.061194 -0.373969  10.430210  158.828695\n",
       "41724  bxg6G -0.823752  0.546319   3.630479   93.007798\n",
       "51970  A5aEY -0.180335  0.935548  -2.094773   33.020205\n",
       "63593  QcMuo  0.635635 -0.473422   0.862670   64.578675\n",
       "66136  74z30  1.084962 -0.312358   6.990771  127.643327\n",
       "69163  AGS9W -0.933795  0.116194  -3.655896   19.230453\n",
       "75715  Tdehs  0.112079  0.430296   3.218993   60.964018\n",
       "90815  fiKDv  0.049883  0.841313   6.394613  137.346586\n",
       "92341  TtcGQ  0.110711  1.022689   0.911381  101.318008\n",
       "97785  bsk9y  0.378429  0.005837   0.160827  160.637302"
      ]
     },
     "execution_count": 10,
     "metadata": {},
     "output_type": "execute_result"
    }
   ],
   "source": [
    "data0[data0.duplicated(subset = ['id'])]"
   ]
  },
  {
   "cell_type": "markdown",
   "metadata": {},
   "source": [
    "Проверим есть ли полные дубликаты и дубликаты по id для 1-го региона"
   ]
  },
  {
   "cell_type": "code",
   "execution_count": 11,
   "metadata": {},
   "outputs": [
    {
     "data": {
      "text/html": [
       "<div>\n",
       "<style scoped>\n",
       "    .dataframe tbody tr th:only-of-type {\n",
       "        vertical-align: middle;\n",
       "    }\n",
       "\n",
       "    .dataframe tbody tr th {\n",
       "        vertical-align: top;\n",
       "    }\n",
       "\n",
       "    .dataframe thead th {\n",
       "        text-align: right;\n",
       "    }\n",
       "</style>\n",
       "<table border=\"1\" class=\"dataframe\">\n",
       "  <thead>\n",
       "    <tr style=\"text-align: right;\">\n",
       "      <th></th>\n",
       "      <th>id</th>\n",
       "      <th>f0</th>\n",
       "      <th>f1</th>\n",
       "      <th>f2</th>\n",
       "      <th>product</th>\n",
       "    </tr>\n",
       "  </thead>\n",
       "  <tbody>\n",
       "  </tbody>\n",
       "</table>\n",
       "</div>"
      ],
      "text/plain": [
       "Empty DataFrame\n",
       "Columns: [id, f0, f1, f2, product]\n",
       "Index: []"
      ]
     },
     "execution_count": 11,
     "metadata": {},
     "output_type": "execute_result"
    }
   ],
   "source": [
    "data1[data1.duplicated()]"
   ]
  },
  {
   "cell_type": "code",
   "execution_count": 12,
   "metadata": {},
   "outputs": [
    {
     "data": {
      "text/html": [
       "<div>\n",
       "<style scoped>\n",
       "    .dataframe tbody tr th:only-of-type {\n",
       "        vertical-align: middle;\n",
       "    }\n",
       "\n",
       "    .dataframe tbody tr th {\n",
       "        vertical-align: top;\n",
       "    }\n",
       "\n",
       "    .dataframe thead th {\n",
       "        text-align: right;\n",
       "    }\n",
       "</style>\n",
       "<table border=\"1\" class=\"dataframe\">\n",
       "  <thead>\n",
       "    <tr style=\"text-align: right;\">\n",
       "      <th></th>\n",
       "      <th>id</th>\n",
       "      <th>f0</th>\n",
       "      <th>f1</th>\n",
       "      <th>f2</th>\n",
       "      <th>product</th>\n",
       "    </tr>\n",
       "  </thead>\n",
       "  <tbody>\n",
       "    <tr>\n",
       "      <td>41906</td>\n",
       "      <td>LHZR0</td>\n",
       "      <td>-8.989672</td>\n",
       "      <td>-4.286607</td>\n",
       "      <td>2.009139</td>\n",
       "      <td>57.085625</td>\n",
       "    </tr>\n",
       "    <tr>\n",
       "      <td>82178</td>\n",
       "      <td>bfPNe</td>\n",
       "      <td>-6.202799</td>\n",
       "      <td>-4.820045</td>\n",
       "      <td>2.995107</td>\n",
       "      <td>84.038886</td>\n",
       "    </tr>\n",
       "    <tr>\n",
       "      <td>82873</td>\n",
       "      <td>wt4Uk</td>\n",
       "      <td>10.259972</td>\n",
       "      <td>-9.376355</td>\n",
       "      <td>4.994297</td>\n",
       "      <td>134.766305</td>\n",
       "    </tr>\n",
       "    <tr>\n",
       "      <td>84461</td>\n",
       "      <td>5ltQ6</td>\n",
       "      <td>18.213839</td>\n",
       "      <td>2.191999</td>\n",
       "      <td>3.993869</td>\n",
       "      <td>107.813044</td>\n",
       "    </tr>\n",
       "  </tbody>\n",
       "</table>\n",
       "</div>"
      ],
      "text/plain": [
       "          id         f0        f1        f2     product\n",
       "41906  LHZR0  -8.989672 -4.286607  2.009139   57.085625\n",
       "82178  bfPNe  -6.202799 -4.820045  2.995107   84.038886\n",
       "82873  wt4Uk  10.259972 -9.376355  4.994297  134.766305\n",
       "84461  5ltQ6  18.213839  2.191999  3.993869  107.813044"
      ]
     },
     "execution_count": 12,
     "metadata": {},
     "output_type": "execute_result"
    }
   ],
   "source": [
    "data1[data1.duplicated(subset = ['id'])]"
   ]
  },
  {
   "cell_type": "markdown",
   "metadata": {},
   "source": [
    "Проверим есть ли полные дубликаты и дубликаты по id для 2-го региона"
   ]
  },
  {
   "cell_type": "code",
   "execution_count": 13,
   "metadata": {},
   "outputs": [
    {
     "data": {
      "text/html": [
       "<div>\n",
       "<style scoped>\n",
       "    .dataframe tbody tr th:only-of-type {\n",
       "        vertical-align: middle;\n",
       "    }\n",
       "\n",
       "    .dataframe tbody tr th {\n",
       "        vertical-align: top;\n",
       "    }\n",
       "\n",
       "    .dataframe thead th {\n",
       "        text-align: right;\n",
       "    }\n",
       "</style>\n",
       "<table border=\"1\" class=\"dataframe\">\n",
       "  <thead>\n",
       "    <tr style=\"text-align: right;\">\n",
       "      <th></th>\n",
       "      <th>id</th>\n",
       "      <th>f0</th>\n",
       "      <th>f1</th>\n",
       "      <th>f2</th>\n",
       "      <th>product</th>\n",
       "    </tr>\n",
       "  </thead>\n",
       "  <tbody>\n",
       "  </tbody>\n",
       "</table>\n",
       "</div>"
      ],
      "text/plain": [
       "Empty DataFrame\n",
       "Columns: [id, f0, f1, f2, product]\n",
       "Index: []"
      ]
     },
     "execution_count": 13,
     "metadata": {},
     "output_type": "execute_result"
    }
   ],
   "source": [
    "data2[data2.duplicated()]"
   ]
  },
  {
   "cell_type": "code",
   "execution_count": 14,
   "metadata": {},
   "outputs": [
    {
     "data": {
      "text/html": [
       "<div>\n",
       "<style scoped>\n",
       "    .dataframe tbody tr th:only-of-type {\n",
       "        vertical-align: middle;\n",
       "    }\n",
       "\n",
       "    .dataframe tbody tr th {\n",
       "        vertical-align: top;\n",
       "    }\n",
       "\n",
       "    .dataframe thead th {\n",
       "        text-align: right;\n",
       "    }\n",
       "</style>\n",
       "<table border=\"1\" class=\"dataframe\">\n",
       "  <thead>\n",
       "    <tr style=\"text-align: right;\">\n",
       "      <th></th>\n",
       "      <th>id</th>\n",
       "      <th>f0</th>\n",
       "      <th>f1</th>\n",
       "      <th>f2</th>\n",
       "      <th>product</th>\n",
       "    </tr>\n",
       "  </thead>\n",
       "  <tbody>\n",
       "    <tr>\n",
       "      <td>43233</td>\n",
       "      <td>xCHr8</td>\n",
       "      <td>-0.847066</td>\n",
       "      <td>2.101796</td>\n",
       "      <td>5.597130</td>\n",
       "      <td>184.388641</td>\n",
       "    </tr>\n",
       "    <tr>\n",
       "      <td>49564</td>\n",
       "      <td>VF7Jo</td>\n",
       "      <td>-0.883115</td>\n",
       "      <td>0.560537</td>\n",
       "      <td>0.723601</td>\n",
       "      <td>136.233420</td>\n",
       "    </tr>\n",
       "    <tr>\n",
       "      <td>55967</td>\n",
       "      <td>KUPhW</td>\n",
       "      <td>1.211150</td>\n",
       "      <td>3.176408</td>\n",
       "      <td>5.543540</td>\n",
       "      <td>132.831802</td>\n",
       "    </tr>\n",
       "    <tr>\n",
       "      <td>95090</td>\n",
       "      <td>Vcm5J</td>\n",
       "      <td>2.587702</td>\n",
       "      <td>1.986875</td>\n",
       "      <td>2.482245</td>\n",
       "      <td>92.327572</td>\n",
       "    </tr>\n",
       "  </tbody>\n",
       "</table>\n",
       "</div>"
      ],
      "text/plain": [
       "          id        f0        f1        f2     product\n",
       "43233  xCHr8 -0.847066  2.101796  5.597130  184.388641\n",
       "49564  VF7Jo -0.883115  0.560537  0.723601  136.233420\n",
       "55967  KUPhW  1.211150  3.176408  5.543540  132.831802\n",
       "95090  Vcm5J  2.587702  1.986875  2.482245   92.327572"
      ]
     },
     "execution_count": 14,
     "metadata": {},
     "output_type": "execute_result"
    }
   ],
   "source": [
    "data2[data2.duplicated(subset = ['id'])]"
   ]
  },
  {
   "cell_type": "markdown",
   "metadata": {},
   "source": [
    "Поскольку полные дубликаты отсутствуют, а дубликатов по id очень малое количество. Принимаем решение от них не избавляться и оставить всё как есть."
   ]
  },
  {
   "cell_type": "markdown",
   "metadata": {},
   "source": [
    "Столбец id нам не пригодится. Можем от него избавиться. Напишем функцию и используем её на каждом датасете."
   ]
  },
  {
   "cell_type": "code",
   "execution_count": 15,
   "metadata": {},
   "outputs": [],
   "source": [
    "def drop_col(data, field):\n",
    "    return data.drop([field], axis = 1)"
   ]
  },
  {
   "cell_type": "code",
   "execution_count": 16,
   "metadata": {},
   "outputs": [],
   "source": [
    "data0 = drop_col(data0, 'id')\n",
    "data1 = drop_col(data1, 'id')\n",
    "data2 = drop_col(data2, 'id')"
   ]
  },
  {
   "cell_type": "markdown",
   "metadata": {},
   "source": [
    "Посмотрим на матрицу корреляции для каждого датасета. Оформим её в отдельную функцию."
   ]
  },
  {
   "cell_type": "code",
   "execution_count": 17,
   "metadata": {},
   "outputs": [],
   "source": [
    "def data_corr(data):\n",
    "    corr = data.corr()\n",
    "    sns.heatmap(corr, xticklabels=corr.columns, yticklabels=corr.columns, cmap='coolwarm', annot = True)"
   ]
  },
  {
   "cell_type": "code",
   "execution_count": 18,
   "metadata": {},
   "outputs": [
    {
     "data": {
      "image/png": "[encoded data removed]",
      "text/plain": [
       "<Figure size 432x288 with 2 Axes>"
      ]
     },
     "metadata": {
      "needs_background": "light"
     },
     "output_type": "display_data"
    }
   ],
   "source": [
    "data_corr(data0)"
   ]
  },
  {
   "cell_type": "code",
   "execution_count": 19,
   "metadata": {},
   "outputs": [
    {
     "data": {
      "image/png": "[encoded data removed]",
      "text/plain": [
       "<Figure size 432x288 with 2 Axes>"
      ]
     },
     "metadata": {
      "needs_background": "light"
     },
     "output_type": "display_data"
    }
   ],
   "source": [
    "data_corr(data1)"
   ]
  },
  {
   "cell_type": "code",
   "execution_count": 20,
   "metadata": {},
   "outputs": [
    {
     "data": {
      "image/png": "[encoded data removed]",
      "text/plain": [
       "<Figure size 432x288 with 2 Axes>"
      ]
     },
     "metadata": {
      "needs_background": "light"
     },
     "output_type": "display_data"
    }
   ],
   "source": [
    "data_corr(data2)"
   ]
  },
  {
   "cell_type": "markdown",
   "metadata": {},
   "source": [
    "Напишем функцию для определения обучающей и валидационной выборок из первоначального датасета"
   ]
  },
  {
   "cell_type": "code",
   "execution_count": 21,
   "metadata": {},
   "outputs": [],
   "source": [
    "def super_split_data(data):\n",
    "    # Получим обучающую и валидационную выборки \n",
    "    data_train, data_valid = train_test_split(data, test_size=0.25, random_state=random_value, shuffle = True)\n",
    "    \n",
    "    return data_train, data_valid"
   ]
  },
  {
   "cell_type": "markdown",
   "metadata": {},
   "source": [
    "Определим функции которые будут выделять отдельно признаки и отдельно целевой признак."
   ]
  },
  {
   "cell_type": "code",
   "execution_count": 22,
   "metadata": {},
   "outputs": [],
   "source": [
    "def get_target(data, field):\n",
    "    return data[field]"
   ]
  },
  {
   "cell_type": "code",
   "execution_count": 23,
   "metadata": {},
   "outputs": [],
   "source": [
    "def get_features(data, field):\n",
    "    return data.drop([field], axis = 1)"
   ]
  },
  {
   "cell_type": "markdown",
   "metadata": {},
   "source": [
    "И функцию, возвращающую отдельно признаки и целевой признак.\n"
   ]
  },
  {
   "cell_type": "code",
   "execution_count": 24,
   "metadata": {},
   "outputs": [],
   "source": [
    "def ftr_trgt_split(data, target_field):\n",
    "    features_train = get_features(data, target_field)\n",
    "    target_train = get_target(data, target_field)\n",
    "    return features_train, target_train"
   ]
  },
  {
   "cell_type": "markdown",
   "metadata": {},
   "source": [
    "###### Разделим датасет 0-го региона."
   ]
  },
  {
   "cell_type": "code",
   "execution_count": 25,
   "metadata": {},
   "outputs": [],
   "source": [
    "data0_train, data0_valid = super_split_data(data0)"
   ]
  },
  {
   "cell_type": "markdown",
   "metadata": {},
   "source": [
    "Разобьем каждую из выборок на признаки и целевой признак"
   ]
  },
  {
   "cell_type": "code",
   "execution_count": 26,
   "metadata": {},
   "outputs": [],
   "source": [
    "features0_train, target0_train = ftr_trgt_split(data0_train, 'product')\n",
    "features0_valid, target0_valid = ftr_trgt_split(data0_valid, 'product')"
   ]
  },
  {
   "cell_type": "markdown",
   "metadata": {},
   "source": [
    "###### Разделим датасет 1-го региона."
   ]
  },
  {
   "cell_type": "code",
   "execution_count": 27,
   "metadata": {},
   "outputs": [],
   "source": [
    "data1_train, data1_valid = super_split_data(data1)\n",
    "\n",
    "features1_train, target1_train = ftr_trgt_split(data1_train, 'product')\n",
    "features1_valid, target1_valid = ftr_trgt_split(data1_valid, 'product')"
   ]
  },
  {
   "cell_type": "markdown",
   "metadata": {},
   "source": [
    "###### Разделим датасет 2-го региона."
   ]
  },
  {
   "cell_type": "code",
   "execution_count": 28,
   "metadata": {},
   "outputs": [],
   "source": [
    "data2_train, data2_valid = super_split_data(data2)\n",
    "\n",
    "features2_train, target2_train = ftr_trgt_split(data2_train, 'product')\n",
    "features2_valid, target2_valid = ftr_trgt_split(data2_valid, 'product')"
   ]
  },
  {
   "cell_type": "markdown",
   "metadata": {},
   "source": [
    "Приведем все признаки к одному масштабу.  \n",
    "Напишем функцию."
   ]
  },
  {
   "cell_type": "code",
   "execution_count": 29,
   "metadata": {},
   "outputs": [],
   "source": [
    "def super_scaler(data_train, data_valid):\n",
    "    numeric = data_train.columns\n",
    "\n",
    "    scaler = StandardScaler()\n",
    "    scaler.fit(data_train[numeric])\n",
    "    data_train[numeric] = scaler.transform(data_train[numeric])\n",
    "    data_valid[numeric] = scaler.transform(data_valid[numeric])\n",
    "    return data_train, data_valid"
   ]
  },
  {
   "cell_type": "code",
   "execution_count": 30,
   "metadata": {},
   "outputs": [
    {
     "data": {
      "text/html": [
       "<div>\n",
       "<style scoped>\n",
       "    .dataframe tbody tr th:only-of-type {\n",
       "        vertical-align: middle;\n",
       "    }\n",
       "\n",
       "    .dataframe tbody tr th {\n",
       "        vertical-align: top;\n",
       "    }\n",
       "\n",
       "    .dataframe thead th {\n",
       "        text-align: right;\n",
       "    }\n",
       "</style>\n",
       "<table border=\"1\" class=\"dataframe\">\n",
       "  <thead>\n",
       "    <tr style=\"text-align: right;\">\n",
       "      <th></th>\n",
       "      <th>f0</th>\n",
       "      <th>f1</th>\n",
       "      <th>f2</th>\n",
       "    </tr>\n",
       "  </thead>\n",
       "  <tbody>\n",
       "    <tr>\n",
       "      <td>23307</td>\n",
       "      <td>-10.857844</td>\n",
       "      <td>0.375746</td>\n",
       "      <td>4.994666</td>\n",
       "    </tr>\n",
       "    <tr>\n",
       "      <td>36679</td>\n",
       "      <td>-6.588782</td>\n",
       "      <td>-1.911753</td>\n",
       "      <td>2.006798</td>\n",
       "    </tr>\n",
       "    <tr>\n",
       "      <td>36626</td>\n",
       "      <td>-12.900191</td>\n",
       "      <td>-9.675777</td>\n",
       "      <td>5.002740</td>\n",
       "    </tr>\n",
       "    <tr>\n",
       "      <td>83753</td>\n",
       "      <td>5.058371</td>\n",
       "      <td>-6.845921</td>\n",
       "      <td>4.995702</td>\n",
       "    </tr>\n",
       "    <tr>\n",
       "      <td>52604</td>\n",
       "      <td>15.639849</td>\n",
       "      <td>-1.218381</td>\n",
       "      <td>4.000002</td>\n",
       "    </tr>\n",
       "  </tbody>\n",
       "</table>\n",
       "</div>"
      ],
      "text/plain": [
       "              f0        f1        f2\n",
       "23307 -10.857844  0.375746  4.994666\n",
       "36679  -6.588782 -1.911753  2.006798\n",
       "36626 -12.900191 -9.675777  5.002740\n",
       "83753   5.058371 -6.845921  4.995702\n",
       "52604  15.639849 -1.218381  4.000002"
      ]
     },
     "execution_count": 30,
     "metadata": {},
     "output_type": "execute_result"
    }
   ],
   "source": [
    "features1_valid.head(5)"
   ]
  },
  {
   "cell_type": "markdown",
   "metadata": {},
   "source": [
    "Приведем все признаки к единому масштабу для данных каждого региона."
   ]
  },
  {
   "cell_type": "code",
   "execution_count": 31,
   "metadata": {},
   "outputs": [],
   "source": [
    "features0_train, features0_valid = super_scaler(features0_train, features0_valid)"
   ]
  },
  {
   "cell_type": "code",
   "execution_count": 32,
   "metadata": {},
   "outputs": [],
   "source": [
    "features1_train, features1_valid = super_scaler(features1_train, features1_valid)"
   ]
  },
  {
   "cell_type": "code",
   "execution_count": 33,
   "metadata": {},
   "outputs": [],
   "source": [
    "features2_train, features2_valid = super_scaler(features2_train, features2_valid)"
   ]
  },
  {
   "cell_type": "markdown",
   "metadata": {},
   "source": [
    "###### Вывод\n",
    "\n",
    "Изучили содержимое таблиц. Убедились в отсутствии пропусков. Проверили данные на полные дубликаты и дубликаты по id. Поскольку полные дубликаты отсутствуют, а дубликатов по id очень малое количество - приняли решение от них не избавляться и оставить всё как есть. Столбец id при обучении моделей нам не пригодится – избавимся от него. Изучили матрицы корреляции для данных по каждому региону. Замечаем, что для 1-го региона признак f2 очень сильно коррелирует с целевым признаком. Разделили данные каждого региона на обучающую и валидационную выборки (в соотношении 75:25), а также на признаки и целевой признак. Привели признаки к единому масштабу для данных каждого региона."
   ]
  },
  {
   "cell_type": "markdown",
   "metadata": {},
   "source": [
    "## Обучение и проверка модели"
   ]
  },
  {
   "cell_type": "markdown",
   "metadata": {},
   "source": [
    "Напишем функцию обучения модели линейной регрессии."
   ]
  },
  {
   "cell_type": "code",
   "execution_count": 34,
   "metadata": {},
   "outputs": [],
   "source": [
    "def lin_regress(features, target):\n",
    "    reg = LinearRegression()\n",
    "    reg.fit(features, target)\n",
    "    return reg"
   ]
  },
  {
   "cell_type": "markdown",
   "metadata": {},
   "source": [
    "Напишем функцию для обучения модели SGDRegressor"
   ]
  },
  {
   "cell_type": "code",
   "execution_count": 35,
   "metadata": {},
   "outputs": [],
   "source": [
    "def regr_sgd(features, target):\n",
    "    reg = SGDRegressor()\n",
    "    reg.fit(features, target)\n",
    "    return reg"
   ]
  },
  {
   "cell_type": "markdown",
   "metadata": {},
   "source": [
    "Напишем функцию для обучения модели HuberRegressor"
   ]
  },
  {
   "cell_type": "code",
   "execution_count": 36,
   "metadata": {},
   "outputs": [],
   "source": [
    "def regr_huber(features, target):\n",
    "    reg = HuberRegressor()\n",
    "    reg.fit(features, target)\n",
    "    return reg"
   ]
  },
  {
   "cell_type": "markdown",
   "metadata": {},
   "source": [
    "Напишем функцию предсказания на основе обученной модели.\n",
    "Поскольку предсказания выводятся в массиве, привидем к Series и установим аналогичные с target индексы.  \n",
    "\n",
    "Поскольку предсказания выводятся в массиве. Напишем функцию привидения к Series и установим аналогичные с target индексы."
   ]
  },
  {
   "cell_type": "code",
   "execution_count": 37,
   "metadata": {},
   "outputs": [],
   "source": [
    "def find_predictions(model, features_valid, indexes):\n",
    "    predictions = model.predict(features_valid)\n",
    "    \n",
    "    np_array = np.array(predictions)\n",
    "    new_predictions = pd.Series(np_array, index = indexes)\n",
    "    \n",
    "    return new_predictions"
   ]
  },
  {
   "cell_type": "markdown",
   "metadata": {},
   "source": [
    "Напишем функции нахождения статистических параметров."
   ]
  },
  {
   "cell_type": "code",
   "execution_count": 38,
   "metadata": {},
   "outputs": [],
   "source": [
    "def find_mse(target, predicted):\n",
    "    print(\"MSE =\", mean_squared_error(target, predicted))\n",
    "\n",
    "def find_rmse(target, predicted):\n",
    "    print(\"RMSE =\", mean_squared_error(target, predicted) ** 0.5)\n",
    "    \n",
    "def find_r2(target, predicted):\n",
    "    print(\"R2 =\", r2_score(target, predicted))\n",
    "\n",
    "def find_mean(seria, label):\n",
    "    print(label, seria.mean())"
   ]
  },
  {
   "cell_type": "markdown",
   "metadata": {},
   "source": [
    "###### Проанализируем данные по 0-му региону"
   ]
  },
  {
   "cell_type": "markdown",
   "metadata": {},
   "source": [
    "Обучим линейную модель на данных 0-го региона."
   ]
  },
  {
   "cell_type": "code",
   "execution_count": 39,
   "metadata": {},
   "outputs": [],
   "source": [
    "model_lin_reg_0 = lin_regress(features0_train, target0_train)"
   ]
  },
  {
   "cell_type": "markdown",
   "metadata": {},
   "source": [
    "Найдем предсказания по валидационной выборке"
   ]
  },
  {
   "cell_type": "code",
   "execution_count": 40,
   "metadata": {},
   "outputs": [],
   "source": [
    "predictions_0 = find_predictions(model_lin_reg_0, features0_valid, target0_valid.index)"
   ]
  },
  {
   "cell_type": "markdown",
   "metadata": {},
   "source": [
    "Оценим параметры"
   ]
  },
  {
   "cell_type": "code",
   "execution_count": 41,
   "metadata": {},
   "outputs": [
    {
     "name": "stdout",
     "output_type": "stream",
     "text": [
      "MSE = 1412.6244385381565\n",
      "RMSE = 37.584896415158\n",
      "R2 = 0.27416947215836573\n",
      "Средний реальный запас сырья: 92.59154798340687\n",
      "Средний предсказанный запас сырья: 92.67593566325512\n"
     ]
    }
   ],
   "source": [
    "find_mse(target0_valid, predictions_0)\n",
    "find_rmse(target0_valid, predictions_0)\n",
    "find_r2(target0_valid, predictions_0)\n",
    "find_mean(target0_valid, 'Средний реальный запас сырья:')\n",
    "find_mean(predictions_0, 'Средний предсказанный запас сырья:')"
   ]
  },
  {
   "cell_type": "markdown",
   "metadata": {},
   "source": [
    "Обучим модель SGDRegressor на данных 0-го региона."
   ]
  },
  {
   "cell_type": "code",
   "execution_count": 42,
   "metadata": {},
   "outputs": [],
   "source": [
    "model_sgd_reg_0 = regr_sgd(features0_train, target0_train)"
   ]
  },
  {
   "cell_type": "markdown",
   "metadata": {},
   "source": [
    "Найдем предсказания по валидационной выборке"
   ]
  },
  {
   "cell_type": "code",
   "execution_count": 43,
   "metadata": {},
   "outputs": [],
   "source": [
    "predictions_sgd_0 = find_predictions(model_sgd_reg_0, features0_valid, target0_valid.index)"
   ]
  },
  {
   "cell_type": "markdown",
   "metadata": {},
   "source": [
    "Оценим параметры"
   ]
  },
  {
   "cell_type": "code",
   "execution_count": 44,
   "metadata": {},
   "outputs": [
    {
     "name": "stdout",
     "output_type": "stream",
     "text": [
      "MSE = 1412.3813946228347\n",
      "RMSE = 37.581663010341025\n",
      "R2 = 0.27429435226700183\n",
      "Средний реальный запас сырья: 92.59154798340687\n",
      "Средний предсказанный запас сырья: 92.49233305226215\n"
     ]
    }
   ],
   "source": [
    "find_mse(target0_valid, predictions_sgd_0)\n",
    "find_rmse(target0_valid, predictions_sgd_0)\n",
    "find_r2(target0_valid, predictions_sgd_0)\n",
    "find_mean(target0_valid, 'Средний реальный запас сырья:')\n",
    "find_mean(predictions_sgd_0, 'Средний предсказанный запас сырья:')"
   ]
  },
  {
   "cell_type": "markdown",
   "metadata": {},
   "source": [
    "Обучим модель HuberRegressor на данных 0-го региона. Найдем предсказания и оценим параметры."
   ]
  },
  {
   "cell_type": "code",
   "execution_count": 45,
   "metadata": {},
   "outputs": [
    {
     "name": "stdout",
     "output_type": "stream",
     "text": [
      "MSE = 1416.4856015113783\n",
      "RMSE = 37.63622724864141\n",
      "R2 = 0.27218554077329327\n",
      "Средний реальный запас сырья: 92.59154798340687\n",
      "Средний предсказанный запас сырья: 92.65135988723215\n"
     ]
    }
   ],
   "source": [
    "model_huber_reg_0 = regr_huber(features0_train, target0_train)\n",
    "\n",
    "predictions_huber_0 = find_predictions(model_huber_reg_0, features0_valid, target0_valid.index)\n",
    "\n",
    "find_mse(target0_valid, predictions_huber_0)\n",
    "find_rmse(target0_valid, predictions_huber_0)\n",
    "find_r2(target0_valid, predictions_huber_0)\n",
    "find_mean(target0_valid, 'Средний реальный запас сырья:')\n",
    "find_mean(predictions_huber_0, 'Средний предсказанный запас сырья:')"
   ]
  },
  {
   "cell_type": "markdown",
   "metadata": {},
   "source": [
    "###### Проанализируем данные по 1-му региону"
   ]
  },
  {
   "cell_type": "markdown",
   "metadata": {},
   "source": [
    "Обучим модель на данных 1-го региона."
   ]
  },
  {
   "cell_type": "code",
   "execution_count": 46,
   "metadata": {},
   "outputs": [],
   "source": [
    "model_lin_reg_1 = lin_regress(features1_train, target1_train)"
   ]
  },
  {
   "cell_type": "markdown",
   "metadata": {},
   "source": [
    "Найдем предсказания по валидационной выборке"
   ]
  },
  {
   "cell_type": "code",
   "execution_count": 47,
   "metadata": {},
   "outputs": [],
   "source": [
    "predictions_1 = find_predictions(model_lin_reg_1, features1_valid, target1_valid.index)"
   ]
  },
  {
   "cell_type": "markdown",
   "metadata": {},
   "source": [
    "Оценим параметры"
   ]
  },
  {
   "cell_type": "code",
   "execution_count": 48,
   "metadata": {},
   "outputs": [
    {
     "name": "stdout",
     "output_type": "stream",
     "text": [
      "MSE = 0.7927084870200093\n",
      "RMSE = 0.8903417810144648\n",
      "R2 = 0.999627404125662\n",
      "Средний реальный запас сырья: 68.8294618013646\n",
      "Средний предсказанный запас сырья: 68.83871774575076\n"
     ]
    }
   ],
   "source": [
    "find_mse(target1_valid, predictions_1)\n",
    "find_rmse(target1_valid, predictions_1)\n",
    "find_r2(target1_valid, predictions_1)\n",
    "find_mean(target1_valid, 'Средний реальный запас сырья:')\n",
    "find_mean(predictions_1, 'Средний предсказанный запас сырья:')"
   ]
  },
  {
   "cell_type": "markdown",
   "metadata": {},
   "source": [
    "Обучим модель SGDRegressor на данных 1-го региона. Найдем предсказания и оценим параметры."
   ]
  },
  {
   "cell_type": "code",
   "execution_count": 49,
   "metadata": {},
   "outputs": [
    {
     "name": "stdout",
     "output_type": "stream",
     "text": [
      "MSE = 0.7926381355705518\n",
      "RMSE = 0.8903022720236942\n",
      "R2 = 0.9996274371928743\n",
      "Средний реальный запас сырья: 68.8294618013646\n",
      "Средний предсказанный запас сырья: 68.83186914156295\n"
     ]
    }
   ],
   "source": [
    "model_sgd_reg_1 = regr_sgd(features1_train, target1_train)\n",
    "\n",
    "predictions_sgd_1 = find_predictions(model_sgd_reg_1, features1_valid, target1_valid.index)\n",
    "\n",
    "find_mse(target1_valid, predictions_sgd_1)\n",
    "find_rmse(target1_valid, predictions_sgd_1)\n",
    "find_r2(target1_valid, predictions_sgd_1)\n",
    "find_mean(target1_valid, 'Средний реальный запас сырья:')\n",
    "find_mean(predictions_sgd_1, 'Средний предсказанный запас сырья:')"
   ]
  },
  {
   "cell_type": "markdown",
   "metadata": {},
   "source": [
    "Обучим модель HuberRegressor на данных 1-го региона. Найдем предсказания и оценим параметры."
   ]
  },
  {
   "cell_type": "code",
   "execution_count": 50,
   "metadata": {},
   "outputs": [
    {
     "name": "stdout",
     "output_type": "stream",
     "text": [
      "MSE = 0.7936844342800511\n",
      "RMSE = 0.8908896869310201\n",
      "R2 = 0.9996269454022743\n",
      "Средний реальный запас сырья: 68.8294618013646\n",
      "Средний предсказанный запас сырья: 68.83889099625095\n"
     ]
    }
   ],
   "source": [
    "model_huber_reg_1 = regr_huber(features1_train, target1_train)\n",
    "\n",
    "predictions_huber_1 = find_predictions(model_huber_reg_1, features1_valid, target1_valid.index)\n",
    "\n",
    "find_mse(target1_valid, predictions_huber_1)\n",
    "find_rmse(target1_valid, predictions_huber_1)\n",
    "find_r2(target1_valid, predictions_huber_1)\n",
    "find_mean(target1_valid, 'Средний реальный запас сырья:')\n",
    "find_mean(predictions_huber_1, 'Средний предсказанный запас сырья:')"
   ]
  },
  {
   "cell_type": "markdown",
   "metadata": {},
   "source": [
    "###### Проанализируем данные по 2-му региону"
   ]
  },
  {
   "cell_type": "markdown",
   "metadata": {},
   "source": [
    "Обучим модель на данных 2-го региона."
   ]
  },
  {
   "cell_type": "code",
   "execution_count": 51,
   "metadata": {},
   "outputs": [],
   "source": [
    "model_lin_reg_2 = lin_regress(features2_train, target2_train)"
   ]
  },
  {
   "cell_type": "markdown",
   "metadata": {},
   "source": [
    "Найдем предсказания по валидационной выборке"
   ]
  },
  {
   "cell_type": "code",
   "execution_count": 52,
   "metadata": {},
   "outputs": [],
   "source": [
    "predictions_2 = find_predictions(model_lin_reg_2, features2_valid, target2_valid.index)"
   ]
  },
  {
   "cell_type": "markdown",
   "metadata": {},
   "source": [
    "Оценим параметры"
   ]
  },
  {
   "cell_type": "code",
   "execution_count": 53,
   "metadata": {},
   "outputs": [
    {
     "name": "stdout",
     "output_type": "stream",
     "text": [
      "MSE = 1599.6284398664257\n",
      "RMSE = 39.99535522865656\n",
      "R2 = 0.20018490294080582\n",
      "Средний реальный запас сырья: 94.87823945324702\n",
      "Средний предсказанный запас сырья: 94.9891117869199\n"
     ]
    }
   ],
   "source": [
    "find_mse(target2_valid, predictions_2)\n",
    "find_rmse(target2_valid, predictions_2)\n",
    "find_r2(target2_valid, predictions_2)\n",
    "find_mean(target2_valid, 'Средний реальный запас сырья:')\n",
    "find_mean(predictions_2, 'Средний предсказанный запас сырья:')"
   ]
  },
  {
   "cell_type": "markdown",
   "metadata": {},
   "source": [
    "Обучим модель SGDRegressor на данных 2-го региона. Найдем предсказания и оценим параметры."
   ]
  },
  {
   "cell_type": "code",
   "execution_count": 54,
   "metadata": {},
   "outputs": [
    {
     "name": "stdout",
     "output_type": "stream",
     "text": [
      "MSE = 1600.5597840177718\n",
      "RMSE = 40.006996688301555\n",
      "R2 = 0.19971923035444783\n",
      "Средний реальный запас сырья: 94.87823945324702\n",
      "Средний предсказанный запас сырья: 94.41819607621062\n"
     ]
    }
   ],
   "source": [
    "model_sgd_reg_2 = regr_sgd(features2_train, target2_train)\n",
    "\n",
    "predictions_sgd_2 = find_predictions(model_sgd_reg_2, features2_valid, target1_valid.index)\n",
    "\n",
    "find_mse(target2_valid, predictions_sgd_2)\n",
    "find_rmse(target2_valid, predictions_sgd_2)\n",
    "find_r2(target2_valid, predictions_sgd_2)\n",
    "find_mean(target2_valid, 'Средний реальный запас сырья:')\n",
    "find_mean(predictions_sgd_2, 'Средний предсказанный запас сырья:')"
   ]
  },
  {
   "cell_type": "markdown",
   "metadata": {},
   "source": [
    "Обучим модель HuberRegressor на данных 1-го региона. Найдем предсказания и оценим параметры."
   ]
  },
  {
   "cell_type": "code",
   "execution_count": 55,
   "metadata": {},
   "outputs": [
    {
     "name": "stdout",
     "output_type": "stream",
     "text": [
      "MSE = 1602.4021764522558\n",
      "RMSE = 40.03001594369225\n",
      "R2 = 0.19879803312696476\n",
      "Средний реальный запас сырья: 94.87823945324702\n",
      "Средний предсказанный запас сырья: 94.89053391820023\n"
     ]
    }
   ],
   "source": [
    "model_huber_reg_2 = regr_huber(features2_train, target2_train)\n",
    "\n",
    "predictions_huber_2 = find_predictions(model_huber_reg_2, features2_valid, target2_valid.index)\n",
    "\n",
    "find_mse(target2_valid, predictions_huber_2)\n",
    "find_rmse(target2_valid, predictions_huber_2)\n",
    "find_r2(target2_valid, predictions_huber_2)\n",
    "find_mean(target2_valid, 'Средний реальный запас сырья:')\n",
    "find_mean(predictions_huber_2, 'Средний предсказанный запас сырья:')"
   ]
  },
  {
   "cell_type": "code",
   "execution_count": 56,
   "metadata": {},
   "outputs": [],
   "source": [
    "def get_stat():\n",
    "    df = pd.DataFrame(columns=['Модель', 'MSE', 'RMSE', 'R2', 'Средний реальный запас сырья', 'Средний предсказанный запас сырья'])\n",
    "    return df\n",
    "\n",
    "def add_row(df, model_name, target, predicted):\n",
    "    df = df.set_value(len(df), 'Модель', model_name)\n",
    "    df = df.set_value(len(df) - 1, 'MSE', mean_squared_error(target, predicted))\n",
    "    df = df.set_value(len(df) - 1, 'RMSE', mean_squared_error(target, predicted)  ** 0.5)\n",
    "    df = df.set_value(len(df) - 1, 'R2', r2_score(target, predicted))\n",
    "    df = df.set_value(len(df) - 1, 'Средний реальный запас сырья', target.mean())\n",
    "    df = df.set_value(len(df) - 1, 'Средний предсказанный запас сырья', predicted.mean())\n",
    "    return df"
   ]
  },
  {
   "cell_type": "markdown",
   "metadata": {},
   "source": [
    "Заполним статистику по 0-му региону."
   ]
  },
  {
   "cell_type": "code",
   "execution_count": 57,
   "metadata": {},
   "outputs": [
    {
     "data": {
      "text/html": [
       "<div>\n",
       "<style scoped>\n",
       "    .dataframe tbody tr th:only-of-type {\n",
       "        vertical-align: middle;\n",
       "    }\n",
       "\n",
       "    .dataframe tbody tr th {\n",
       "        vertical-align: top;\n",
       "    }\n",
       "\n",
       "    .dataframe thead th {\n",
       "        text-align: right;\n",
       "    }\n",
       "</style>\n",
       "<table border=\"1\" class=\"dataframe\">\n",
       "  <thead>\n",
       "    <tr style=\"text-align: right;\">\n",
       "      <th></th>\n",
       "      <th>Модель</th>\n",
       "      <th>MSE</th>\n",
       "      <th>RMSE</th>\n",
       "      <th>R2</th>\n",
       "      <th>Средний реальный запас сырья</th>\n",
       "      <th>Средний предсказанный запас сырья</th>\n",
       "    </tr>\n",
       "  </thead>\n",
       "  <tbody>\n",
       "    <tr>\n",
       "      <td>0</td>\n",
       "      <td>linear_regression</td>\n",
       "      <td>1412.62</td>\n",
       "      <td>37.5849</td>\n",
       "      <td>0.274169</td>\n",
       "      <td>92.5915</td>\n",
       "      <td>92.6759</td>\n",
       "    </tr>\n",
       "    <tr>\n",
       "      <td>1</td>\n",
       "      <td>SGDRegressor</td>\n",
       "      <td>1412.38</td>\n",
       "      <td>37.5817</td>\n",
       "      <td>0.274294</td>\n",
       "      <td>92.5915</td>\n",
       "      <td>92.4923</td>\n",
       "    </tr>\n",
       "    <tr>\n",
       "      <td>2</td>\n",
       "      <td>HuberRegressor</td>\n",
       "      <td>1416.49</td>\n",
       "      <td>37.6362</td>\n",
       "      <td>0.272186</td>\n",
       "      <td>92.5915</td>\n",
       "      <td>92.6514</td>\n",
       "    </tr>\n",
       "  </tbody>\n",
       "</table>\n",
       "</div>"
      ],
      "text/plain": [
       "              Модель      MSE     RMSE        R2 Средний реальный запас сырья  \\\n",
       "0  linear_regression  1412.62  37.5849  0.274169                      92.5915   \n",
       "1       SGDRegressor  1412.38  37.5817  0.274294                      92.5915   \n",
       "2     HuberRegressor  1416.49  37.6362  0.272186                      92.5915   \n",
       "\n",
       "  Средний предсказанный запас сырья  \n",
       "0                           92.6759  \n",
       "1                           92.4923  \n",
       "2                           92.6514  "
      ]
     },
     "metadata": {},
     "output_type": "display_data"
    }
   ],
   "source": [
    "stat_0_reg = get_stat()\n",
    "stat_0_reg = add_row(stat_0_reg,\n",
    "            'linear_regression',\n",
    "             target0_valid,\n",
    "             predictions_0\n",
    "            )\n",
    "\n",
    "stat_0_reg = add_row(stat_0_reg,\n",
    "            'SGDRegressor',\n",
    "             target0_valid,\n",
    "             predictions_sgd_0\n",
    "            )\n",
    "\n",
    "stat_0_reg = add_row(stat_0_reg,\n",
    "            'HuberRegressor',\n",
    "             target0_valid,\n",
    "             predictions_huber_0\n",
    "            )\n",
    "display(stat_0_reg)"
   ]
  },
  {
   "cell_type": "markdown",
   "metadata": {},
   "source": [
    "Заполним статистику по 1-му региону."
   ]
  },
  {
   "cell_type": "code",
   "execution_count": 58,
   "metadata": {},
   "outputs": [
    {
     "data": {
      "text/html": [
       "<div>\n",
       "<style scoped>\n",
       "    .dataframe tbody tr th:only-of-type {\n",
       "        vertical-align: middle;\n",
       "    }\n",
       "\n",
       "    .dataframe tbody tr th {\n",
       "        vertical-align: top;\n",
       "    }\n",
       "\n",
       "    .dataframe thead th {\n",
       "        text-align: right;\n",
       "    }\n",
       "</style>\n",
       "<table border=\"1\" class=\"dataframe\">\n",
       "  <thead>\n",
       "    <tr style=\"text-align: right;\">\n",
       "      <th></th>\n",
       "      <th>Модель</th>\n",
       "      <th>MSE</th>\n",
       "      <th>RMSE</th>\n",
       "      <th>R2</th>\n",
       "      <th>Средний реальный запас сырья</th>\n",
       "      <th>Средний предсказанный запас сырья</th>\n",
       "    </tr>\n",
       "  </thead>\n",
       "  <tbody>\n",
       "    <tr>\n",
       "      <td>0</td>\n",
       "      <td>linear_regression</td>\n",
       "      <td>0.792708</td>\n",
       "      <td>0.890342</td>\n",
       "      <td>0.999627</td>\n",
       "      <td>68.8295</td>\n",
       "      <td>68.8387</td>\n",
       "    </tr>\n",
       "    <tr>\n",
       "      <td>1</td>\n",
       "      <td>SGDRegressor</td>\n",
       "      <td>0.792638</td>\n",
       "      <td>0.890302</td>\n",
       "      <td>0.999627</td>\n",
       "      <td>68.8295</td>\n",
       "      <td>68.8319</td>\n",
       "    </tr>\n",
       "    <tr>\n",
       "      <td>2</td>\n",
       "      <td>HuberRegressor</td>\n",
       "      <td>0.793684</td>\n",
       "      <td>0.89089</td>\n",
       "      <td>0.999627</td>\n",
       "      <td>68.8295</td>\n",
       "      <td>68.8389</td>\n",
       "    </tr>\n",
       "  </tbody>\n",
       "</table>\n",
       "</div>"
      ],
      "text/plain": [
       "              Модель       MSE      RMSE        R2  \\\n",
       "0  linear_regression  0.792708  0.890342  0.999627   \n",
       "1       SGDRegressor  0.792638  0.890302  0.999627   \n",
       "2     HuberRegressor  0.793684   0.89089  0.999627   \n",
       "\n",
       "  Средний реальный запас сырья Средний предсказанный запас сырья  \n",
       "0                      68.8295                           68.8387  \n",
       "1                      68.8295                           68.8319  \n",
       "2                      68.8295                           68.8389  "
      ]
     },
     "metadata": {},
     "output_type": "display_data"
    }
   ],
   "source": [
    "stat_1_reg = get_stat()\n",
    "stat_1_reg = add_row(stat_1_reg,\n",
    "            'linear_regression',\n",
    "             target1_valid,\n",
    "             predictions_1\n",
    "            )\n",
    "\n",
    "stat_1_reg = add_row(stat_1_reg,\n",
    "            'SGDRegressor',\n",
    "             target1_valid,\n",
    "             predictions_sgd_1\n",
    "            )\n",
    "\n",
    "stat_1_reg = add_row(stat_1_reg,\n",
    "            'HuberRegressor',\n",
    "             target1_valid,\n",
    "             predictions_huber_1\n",
    "            )\n",
    "display(stat_1_reg)"
   ]
  },
  {
   "cell_type": "markdown",
   "metadata": {},
   "source": [
    "Заполним статистику по 2-му региону."
   ]
  },
  {
   "cell_type": "code",
   "execution_count": 59,
   "metadata": {},
   "outputs": [
    {
     "data": {
      "text/html": [
       "<div>\n",
       "<style scoped>\n",
       "    .dataframe tbody tr th:only-of-type {\n",
       "        vertical-align: middle;\n",
       "    }\n",
       "\n",
       "    .dataframe tbody tr th {\n",
       "        vertical-align: top;\n",
       "    }\n",
       "\n",
       "    .dataframe thead th {\n",
       "        text-align: right;\n",
       "    }\n",
       "</style>\n",
       "<table border=\"1\" class=\"dataframe\">\n",
       "  <thead>\n",
       "    <tr style=\"text-align: right;\">\n",
       "      <th></th>\n",
       "      <th>Модель</th>\n",
       "      <th>MSE</th>\n",
       "      <th>RMSE</th>\n",
       "      <th>R2</th>\n",
       "      <th>Средний реальный запас сырья</th>\n",
       "      <th>Средний предсказанный запас сырья</th>\n",
       "    </tr>\n",
       "  </thead>\n",
       "  <tbody>\n",
       "    <tr>\n",
       "      <td>0</td>\n",
       "      <td>linear_regression</td>\n",
       "      <td>1412.62</td>\n",
       "      <td>37.5849</td>\n",
       "      <td>0.274169</td>\n",
       "      <td>92.5915</td>\n",
       "      <td>92.6759</td>\n",
       "    </tr>\n",
       "    <tr>\n",
       "      <td>1</td>\n",
       "      <td>SGDRegressor</td>\n",
       "      <td>1412.38</td>\n",
       "      <td>37.5817</td>\n",
       "      <td>0.274294</td>\n",
       "      <td>92.5915</td>\n",
       "      <td>92.4923</td>\n",
       "    </tr>\n",
       "    <tr>\n",
       "      <td>2</td>\n",
       "      <td>HuberRegressor</td>\n",
       "      <td>1416.49</td>\n",
       "      <td>37.6362</td>\n",
       "      <td>0.272186</td>\n",
       "      <td>92.5915</td>\n",
       "      <td>92.6514</td>\n",
       "    </tr>\n",
       "  </tbody>\n",
       "</table>\n",
       "</div>"
      ],
      "text/plain": [
       "              Модель      MSE     RMSE        R2 Средний реальный запас сырья  \\\n",
       "0  linear_regression  1412.62  37.5849  0.274169                      92.5915   \n",
       "1       SGDRegressor  1412.38  37.5817  0.274294                      92.5915   \n",
       "2     HuberRegressor  1416.49  37.6362  0.272186                      92.5915   \n",
       "\n",
       "  Средний предсказанный запас сырья  \n",
       "0                           92.6759  \n",
       "1                           92.4923  \n",
       "2                           92.6514  "
      ]
     },
     "metadata": {},
     "output_type": "display_data"
    }
   ],
   "source": [
    "stat_2_reg = get_stat()\n",
    "stat_2_reg = add_row(stat_2_reg,\n",
    "            'linear_regression',\n",
    "             target0_valid,\n",
    "             predictions_0\n",
    "            )\n",
    "\n",
    "stat_2_reg = add_row(stat_2_reg,\n",
    "            'SGDRegressor',\n",
    "             target0_valid,\n",
    "             predictions_sgd_0\n",
    "            )\n",
    "\n",
    "stat_2_reg = add_row(stat_2_reg,\n",
    "            'HuberRegressor',\n",
    "             target0_valid,\n",
    "             predictions_huber_0\n",
    "            )\n",
    "display(stat_2_reg)"
   ]
  },
  {
   "cell_type": "markdown",
   "metadata": {},
   "source": [
    "###### Вывод: \n",
    "\n",
    "Написали функции для обучения модели линейной регрессии, модели SGDRegressor, модели HuberRegressor. Написали функцию предсказания на основе обученной модели. Поскольку предсказания выводятся в массиве, привели к Series и установили аналогичные с target индексы. Написали функции нахождения результатов успешности модели – MSE, RMSE, R2. А также - Средний реальный запас сырья и Средний предсказанный запас сырья.\n",
    "Получили следующие результаты:\n",
    "\n",
    "###### Данные по 0-му региону\n",
    "Представлены в таблице ниже:"
   ]
  },
  {
   "cell_type": "code",
   "execution_count": 60,
   "metadata": {},
   "outputs": [
    {
     "data": {
      "text/html": [
       "<div>\n",
       "<style scoped>\n",
       "    .dataframe tbody tr th:only-of-type {\n",
       "        vertical-align: middle;\n",
       "    }\n",
       "\n",
       "    .dataframe tbody tr th {\n",
       "        vertical-align: top;\n",
       "    }\n",
       "\n",
       "    .dataframe thead th {\n",
       "        text-align: right;\n",
       "    }\n",
       "</style>\n",
       "<table border=\"1\" class=\"dataframe\">\n",
       "  <thead>\n",
       "    <tr style=\"text-align: right;\">\n",
       "      <th></th>\n",
       "      <th>Модель</th>\n",
       "      <th>MSE</th>\n",
       "      <th>RMSE</th>\n",
       "      <th>R2</th>\n",
       "      <th>Средний реальный запас сырья</th>\n",
       "      <th>Средний предсказанный запас сырья</th>\n",
       "    </tr>\n",
       "  </thead>\n",
       "  <tbody>\n",
       "    <tr>\n",
       "      <td>0</td>\n",
       "      <td>linear_regression</td>\n",
       "      <td>1412.62</td>\n",
       "      <td>37.5849</td>\n",
       "      <td>0.274169</td>\n",
       "      <td>92.5915</td>\n",
       "      <td>92.6759</td>\n",
       "    </tr>\n",
       "    <tr>\n",
       "      <td>1</td>\n",
       "      <td>SGDRegressor</td>\n",
       "      <td>1412.38</td>\n",
       "      <td>37.5817</td>\n",
       "      <td>0.274294</td>\n",
       "      <td>92.5915</td>\n",
       "      <td>92.4923</td>\n",
       "    </tr>\n",
       "    <tr>\n",
       "      <td>2</td>\n",
       "      <td>HuberRegressor</td>\n",
       "      <td>1416.49</td>\n",
       "      <td>37.6362</td>\n",
       "      <td>0.272186</td>\n",
       "      <td>92.5915</td>\n",
       "      <td>92.6514</td>\n",
       "    </tr>\n",
       "  </tbody>\n",
       "</table>\n",
       "</div>"
      ],
      "text/plain": [
       "              Модель      MSE     RMSE        R2 Средний реальный запас сырья  \\\n",
       "0  linear_regression  1412.62  37.5849  0.274169                      92.5915   \n",
       "1       SGDRegressor  1412.38  37.5817  0.274294                      92.5915   \n",
       "2     HuberRegressor  1416.49  37.6362  0.272186                      92.5915   \n",
       "\n",
       "  Средний предсказанный запас сырья  \n",
       "0                           92.6759  \n",
       "1                           92.4923  \n",
       "2                           92.6514  "
      ]
     },
     "metadata": {},
     "output_type": "display_data"
    }
   ],
   "source": [
    "display(stat_0_reg)"
   ]
  },
  {
   "cell_type": "markdown",
   "metadata": {},
   "source": [
    "###### Данные по 1-му региону\n",
    "Представлены в таблице ниже:"
   ]
  },
  {
   "cell_type": "code",
   "execution_count": 61,
   "metadata": {},
   "outputs": [
    {
     "data": {
      "text/html": [
       "<div>\n",
       "<style scoped>\n",
       "    .dataframe tbody tr th:only-of-type {\n",
       "        vertical-align: middle;\n",
       "    }\n",
       "\n",
       "    .dataframe tbody tr th {\n",
       "        vertical-align: top;\n",
       "    }\n",
       "\n",
       "    .dataframe thead th {\n",
       "        text-align: right;\n",
       "    }\n",
       "</style>\n",
       "<table border=\"1\" class=\"dataframe\">\n",
       "  <thead>\n",
       "    <tr style=\"text-align: right;\">\n",
       "      <th></th>\n",
       "      <th>Модель</th>\n",
       "      <th>MSE</th>\n",
       "      <th>RMSE</th>\n",
       "      <th>R2</th>\n",
       "      <th>Средний реальный запас сырья</th>\n",
       "      <th>Средний предсказанный запас сырья</th>\n",
       "    </tr>\n",
       "  </thead>\n",
       "  <tbody>\n",
       "    <tr>\n",
       "      <td>0</td>\n",
       "      <td>linear_regression</td>\n",
       "      <td>0.792708</td>\n",
       "      <td>0.890342</td>\n",
       "      <td>0.999627</td>\n",
       "      <td>68.8295</td>\n",
       "      <td>68.8387</td>\n",
       "    </tr>\n",
       "    <tr>\n",
       "      <td>1</td>\n",
       "      <td>SGDRegressor</td>\n",
       "      <td>0.792638</td>\n",
       "      <td>0.890302</td>\n",
       "      <td>0.999627</td>\n",
       "      <td>68.8295</td>\n",
       "      <td>68.8319</td>\n",
       "    </tr>\n",
       "    <tr>\n",
       "      <td>2</td>\n",
       "      <td>HuberRegressor</td>\n",
       "      <td>0.793684</td>\n",
       "      <td>0.89089</td>\n",
       "      <td>0.999627</td>\n",
       "      <td>68.8295</td>\n",
       "      <td>68.8389</td>\n",
       "    </tr>\n",
       "  </tbody>\n",
       "</table>\n",
       "</div>"
      ],
      "text/plain": [
       "              Модель       MSE      RMSE        R2  \\\n",
       "0  linear_regression  0.792708  0.890342  0.999627   \n",
       "1       SGDRegressor  0.792638  0.890302  0.999627   \n",
       "2     HuberRegressor  0.793684   0.89089  0.999627   \n",
       "\n",
       "  Средний реальный запас сырья Средний предсказанный запас сырья  \n",
       "0                      68.8295                           68.8387  \n",
       "1                      68.8295                           68.8319  \n",
       "2                      68.8295                           68.8389  "
      ]
     },
     "metadata": {},
     "output_type": "display_data"
    }
   ],
   "source": [
    "display(stat_1_reg)"
   ]
  },
  {
   "cell_type": "markdown",
   "metadata": {},
   "source": [
    "###### Проанализируем данные по 2-му региону\n",
    "Представлены в таблице ниже:"
   ]
  },
  {
   "cell_type": "code",
   "execution_count": 62,
   "metadata": {},
   "outputs": [
    {
     "data": {
      "text/html": [
       "<div>\n",
       "<style scoped>\n",
       "    .dataframe tbody tr th:only-of-type {\n",
       "        vertical-align: middle;\n",
       "    }\n",
       "\n",
       "    .dataframe tbody tr th {\n",
       "        vertical-align: top;\n",
       "    }\n",
       "\n",
       "    .dataframe thead th {\n",
       "        text-align: right;\n",
       "    }\n",
       "</style>\n",
       "<table border=\"1\" class=\"dataframe\">\n",
       "  <thead>\n",
       "    <tr style=\"text-align: right;\">\n",
       "      <th></th>\n",
       "      <th>Модель</th>\n",
       "      <th>MSE</th>\n",
       "      <th>RMSE</th>\n",
       "      <th>R2</th>\n",
       "      <th>Средний реальный запас сырья</th>\n",
       "      <th>Средний предсказанный запас сырья</th>\n",
       "    </tr>\n",
       "  </thead>\n",
       "  <tbody>\n",
       "    <tr>\n",
       "      <td>0</td>\n",
       "      <td>linear_regression</td>\n",
       "      <td>1412.62</td>\n",
       "      <td>37.5849</td>\n",
       "      <td>0.274169</td>\n",
       "      <td>92.5915</td>\n",
       "      <td>92.6759</td>\n",
       "    </tr>\n",
       "    <tr>\n",
       "      <td>1</td>\n",
       "      <td>SGDRegressor</td>\n",
       "      <td>1412.38</td>\n",
       "      <td>37.5817</td>\n",
       "      <td>0.274294</td>\n",
       "      <td>92.5915</td>\n",
       "      <td>92.4923</td>\n",
       "    </tr>\n",
       "    <tr>\n",
       "      <td>2</td>\n",
       "      <td>HuberRegressor</td>\n",
       "      <td>1416.49</td>\n",
       "      <td>37.6362</td>\n",
       "      <td>0.272186</td>\n",
       "      <td>92.5915</td>\n",
       "      <td>92.6514</td>\n",
       "    </tr>\n",
       "  </tbody>\n",
       "</table>\n",
       "</div>"
      ],
      "text/plain": [
       "              Модель      MSE     RMSE        R2 Средний реальный запас сырья  \\\n",
       "0  linear_regression  1412.62  37.5849  0.274169                      92.5915   \n",
       "1       SGDRegressor  1412.38  37.5817  0.274294                      92.5915   \n",
       "2     HuberRegressor  1416.49  37.6362  0.272186                      92.5915   \n",
       "\n",
       "  Средний предсказанный запас сырья  \n",
       "0                           92.6759  \n",
       "1                           92.4923  \n",
       "2                           92.6514  "
      ]
     },
     "metadata": {},
     "output_type": "display_data"
    }
   ],
   "source": [
    "display(stat_2_reg)"
   ]
  },
  {
   "cell_type": "markdown",
   "metadata": {},
   "source": [
    "###### Обобщая:\n",
    "Линейная модель получилась самой успешной. Показатель R2 – самый высокий и, соответственно, метрики MSE, RMSE – самые низкие.   \n",
    "При этом значения метрики R2, > 0, демонстрируют то, что модель полезна и прогнозирует лучше, чем условные случайные предсказания.  \n",
    "На данных первого региона видим почти 100% попадание (R2 стремится к 1). Это произошло за счёт, фактически, прямой корреляции одного из признаков с целевым, замеченной нами ранее.  "
   ]
  },
  {
   "cell_type": "markdown",
   "metadata": {},
   "source": [
    "## Подготовка к расчёту прибыли"
   ]
  },
  {
   "cell_type": "markdown",
   "metadata": {},
   "source": [
    "Рассчитайте достаточный объём сырья для безубыточной разработки новой скважины.\n",
    "\n",
    "При разведке региона исследуют 500 точек, из которых с помощью машинного обучения выбирают 200 лучших для разработки.\n",
    "Бюджет на разработку скважин в регионе — 10 млрд рублей.\n",
    "При нынешних ценах один баррель сырья приносит 450 рублей дохода. Доход с каждой единицы продукта составляет 450 тыс. рублей, поскольку объём указан в тысячах баррелей."
   ]
  },
  {
   "cell_type": "code",
   "execution_count": 63,
   "metadata": {},
   "outputs": [],
   "source": [
    "BUDGET_OF_REGION = 10000000000\n",
    "PRICE = 450000\n",
    "OIL_WELL = 200"
   ]
  },
  {
   "cell_type": "code",
   "execution_count": 64,
   "metadata": {},
   "outputs": [
    {
     "name": "stdout",
     "output_type": "stream",
     "text": [
      "Объём сырья для безубыточной разработки новой скважины:  111.11111111111111\n"
     ]
    }
   ],
   "source": [
    "print('Объём сырья для безубыточной разработки новой скважины: ', BUDGET_OF_REGION / PRICE / OIL_WELL)"
   ]
  },
  {
   "cell_type": "markdown",
   "metadata": {},
   "source": [
    "Сравним полученный объём сырья со средним запасом в каждом регионе. "
   ]
  },
  {
   "cell_type": "code",
   "execution_count": 65,
   "metadata": {},
   "outputs": [
    {
     "name": "stdout",
     "output_type": "stream",
     "text": [
      "Средний объем запасов скважины в 0-м регионе:  92.50000000000001\n",
      "Средний объем запасов скважины в 1-м регионе:  68.82500000000002\n",
      "Средний объем запасов скважины в 2-м регионе:  95.00000000000004\n"
     ]
    }
   ],
   "source": [
    "print('Средний объем запасов скважины в 0-м регионе: ', data0['product'].mean())\n",
    "print('Средний объем запасов скважины в 1-м регионе: ', data1['product'].mean())\n",
    "print('Средний объем запасов скважины в 2-м регионе: ', data2['product'].mean())"
   ]
  },
  {
   "cell_type": "markdown",
   "metadata": {},
   "source": [
    "###### Вывод: \n",
    "\n",
    "Объём сырья для безубыточной разработки новой скважины равен 111.11, но при этом объем запасов среднестатистической скважины в регионах значительно меньше этого значения: 92.5, 68.83, 95.\n",
    "\n",
    "При этом особенно выделяется 1-ый регион, средние запасы которого меньше необходимых 111,11 в более чем 1,5 раза. Но, при этом, наша модель очень хорошо прогнозирует запасы скважин именно в этом регионе."
   ]
  },
  {
   "cell_type": "markdown",
   "metadata": {},
   "source": [
    "## Расчёт прибыли и рисков "
   ]
  },
  {
   "cell_type": "markdown",
   "metadata": {},
   "source": [
    "Напишем функцию подсчета прибыли для выбранных скважин."
   ]
  },
  {
   "cell_type": "code",
   "execution_count": 66,
   "metadata": {},
   "outputs": [],
   "source": [
    "def revenue(target, predictions, cost, count):\n",
    "    probs_sorted = predictions.sort_values(ascending=False)\n",
    "    deposits = target[probs_sorted.index][:count]\n",
    "    return cost * deposits.sum() - BUDGET_OF_REGION"
   ]
  },
  {
   "cell_type": "markdown",
   "metadata": {},
   "source": [
    "Напишем функцию, в которой сгенерируем 1000 выборок, чтобы найти распределение прибыли "
   ]
  },
  {
   "cell_type": "code",
   "execution_count": 67,
   "metadata": {},
   "outputs": [],
   "source": [
    "def super_bootsrtap(target, predictions):\n",
    "    state = np.random.RandomState(12345)\n",
    "\n",
    "    values = []\n",
    "    for i in range(1000):\n",
    "        some_target = target.sample(replace = True, random_state = state, n = 500)\n",
    "        some_predictions = predictions[some_target.index]\n",
    "\n",
    "        values.append(revenue(some_target, some_predictions, PRICE, 200))\n",
    "\n",
    "    values = pd.Series(values)\n",
    "    return values "
   ]
  },
  {
   "cell_type": "markdown",
   "metadata": {},
   "source": [
    "Напишем функции вычисляющие среднюю выручку, 95%-й доверительный интервал и риск убытков."
   ]
  },
  {
   "cell_type": "code",
   "execution_count": 68,
   "metadata": {},
   "outputs": [],
   "source": [
    "def mean_revenue(values):\n",
    "    print(\"Средняя выручка:\", values.mean())\n",
    "    \n",
    "def dov_interval_95(values):\n",
    "    print(\"95%-й Доверительный интервал:\", values.quantile(0.025), '-', values.quantile(0.975))\n",
    "    \n",
    "def risk_of_loss(values):\n",
    "    print(\"Риск убытков:\", st.percentileofscore(values, 0), '%')"
   ]
  },
  {
   "cell_type": "markdown",
   "metadata": {},
   "source": [
    "Найдем распределение возможной прибыли для каждого региона."
   ]
  },
  {
   "cell_type": "code",
   "execution_count": 69,
   "metadata": {},
   "outputs": [],
   "source": [
    "raspred_0 = super_bootsrtap(target0_valid, predictions_0)\n",
    "raspred_1 = super_bootsrtap(target1_valid, predictions_1)\n",
    "raspred_2 = super_bootsrtap(target2_valid, predictions_2)"
   ]
  },
  {
   "cell_type": "markdown",
   "metadata": {},
   "source": [
    "Найдем статистичекие характеристики для распределения 0-го региона."
   ]
  },
  {
   "cell_type": "code",
   "execution_count": 70,
   "metadata": {},
   "outputs": [
    {
     "name": "stdout",
     "output_type": "stream",
     "text": [
      "Средняя выручка: 457113928.16599864\n",
      "95%-й Доверительный интервал: -70724706.13525699 - 1000293734.26832\n",
      "Риск убытков: 5.0 %\n"
     ]
    }
   ],
   "source": [
    "mean_revenue(raspred_0)\n",
    "dov_interval_95(raspred_0)\n",
    "risk_of_loss(raspred_0)"
   ]
  },
  {
   "cell_type": "markdown",
   "metadata": {},
   "source": [
    "Найдем статистичекие характеристики для распределения 1-го региона."
   ]
  },
  {
   "cell_type": "code",
   "execution_count": 71,
   "metadata": {},
   "outputs": [
    {
     "name": "stdout",
     "output_type": "stream",
     "text": [
      "Средняя выручка: 522977226.6420639\n",
      "95%-й Доверительный интервал: 88935781.55294026 - 963644260.1581268\n",
      "Риск убытков: 0.4 %\n"
     ]
    }
   ],
   "source": [
    "mean_revenue(raspred_1)\n",
    "dov_interval_95(raspred_1)\n",
    "risk_of_loss(raspred_1)"
   ]
  },
  {
   "cell_type": "markdown",
   "metadata": {},
   "source": [
    "Найдем статистичекие характеристики для распределения 2-го региона."
   ]
  },
  {
   "cell_type": "code",
   "execution_count": 72,
   "metadata": {},
   "outputs": [
    {
     "name": "stdout",
     "output_type": "stream",
     "text": [
      "Средняя выручка: 363224735.8548959\n",
      "95%-й Доверительный интервал: -192431772.25365472 - 859125011.8797085\n",
      "Риск убытков: 10.4 %\n"
     ]
    }
   ],
   "source": [
    "mean_revenue(raspred_2)\n",
    "dov_interval_95(raspred_2)\n",
    "risk_of_loss(raspred_2)"
   ]
  },
  {
   "cell_type": "code",
   "execution_count": 73,
   "metadata": {},
   "outputs": [],
   "source": [
    "def get_results():\n",
    "    df = pd.DataFrame(columns=['Регион', 'Средняя прибыль', '95%-й Доверительный интервал', 'Риск убытков'])\n",
    "    return df\n",
    "\n",
    "def add_result(df, region_name, raspred):\n",
    "    df = df.set_value(len(df), 'Регион', region_name)\n",
    "    df = df.set_value(len(df) - 1, 'Средняя прибыль', round(raspred.mean()))\n",
    "    df = df.set_value(len(df) - 1, '95%-й Доверительный интервал', str(round(raspred.quantile(0.025), 0)) + '-' + str(round(raspred.quantile(0.975))))\n",
    "    df = df.set_value(len(df) - 1, 'Риск убытков', str(st.percentileofscore(raspred, 0)) + ' %')\n",
    "    return df"
   ]
  },
  {
   "cell_type": "code",
   "execution_count": 74,
   "metadata": {},
   "outputs": [
    {
     "data": {
      "text/html": [
       "<div>\n",
       "<style scoped>\n",
       "    .dataframe tbody tr th:only-of-type {\n",
       "        vertical-align: middle;\n",
       "    }\n",
       "\n",
       "    .dataframe tbody tr th {\n",
       "        vertical-align: top;\n",
       "    }\n",
       "\n",
       "    .dataframe thead th {\n",
       "        text-align: right;\n",
       "    }\n",
       "</style>\n",
       "<table border=\"1\" class=\"dataframe\">\n",
       "  <thead>\n",
       "    <tr style=\"text-align: right;\">\n",
       "      <th></th>\n",
       "      <th>Регион</th>\n",
       "      <th>Средняя прибыль</th>\n",
       "      <th>95%-й Доверительный интервал</th>\n",
       "      <th>Риск убытков</th>\n",
       "    </tr>\n",
       "  </thead>\n",
       "  <tbody>\n",
       "    <tr>\n",
       "      <td>0</td>\n",
       "      <td>0-й регион</td>\n",
       "      <td>457113928</td>\n",
       "      <td>-70724706.0-1000293734</td>\n",
       "      <td>5.0 %</td>\n",
       "    </tr>\n",
       "    <tr>\n",
       "      <td>1</td>\n",
       "      <td>1-й регион</td>\n",
       "      <td>522977227</td>\n",
       "      <td>88935782.0-963644260</td>\n",
       "      <td>0.4 %</td>\n",
       "    </tr>\n",
       "    <tr>\n",
       "      <td>2</td>\n",
       "      <td>2-й регион</td>\n",
       "      <td>363224736</td>\n",
       "      <td>-192431772.0-859125012</td>\n",
       "      <td>10.4 %</td>\n",
       "    </tr>\n",
       "  </tbody>\n",
       "</table>\n",
       "</div>"
      ],
      "text/plain": [
       "       Регион Средняя прибыль 95%-й Доверительный интервал Риск убытков\n",
       "0  0-й регион       457113928       -70724706.0-1000293734        5.0 %\n",
       "1  1-й регион       522977227         88935782.0-963644260        0.4 %\n",
       "2  2-й регион       363224736       -192431772.0-859125012       10.4 %"
      ]
     },
     "metadata": {},
     "output_type": "display_data"
    }
   ],
   "source": [
    "results = get_results()\n",
    "add_result(results, '0-й регион', raspred_0)\n",
    "add_result(results, '1-й регион', raspred_1)\n",
    "add_result(results, '2-й регион', raspred_2)\n",
    "display(results)"
   ]
  },
  {
   "cell_type": "markdown",
   "metadata": {},
   "source": [
    "###### Вывод\n",
    "Написали функцию подсчета прибыли для выбранных скважин, функцию, в которой сгенерируем 1000 выборок, чтобы найти распределение прибыли. И функции, вычисляющие среднюю выручку, 95%-й доверительный интервал и риск убытков.\n",
    "Найдем распределение возможной прибыли для каждого региона по предсказаниям модели линейной регрессии.\n",
    "И получили следующие результаты:"
   ]
  },
  {
   "cell_type": "code",
   "execution_count": 75,
   "metadata": {},
   "outputs": [
    {
     "data": {
      "text/html": [
       "<div>\n",
       "<style scoped>\n",
       "    .dataframe tbody tr th:only-of-type {\n",
       "        vertical-align: middle;\n",
       "    }\n",
       "\n",
       "    .dataframe tbody tr th {\n",
       "        vertical-align: top;\n",
       "    }\n",
       "\n",
       "    .dataframe thead th {\n",
       "        text-align: right;\n",
       "    }\n",
       "</style>\n",
       "<table border=\"1\" class=\"dataframe\">\n",
       "  <thead>\n",
       "    <tr style=\"text-align: right;\">\n",
       "      <th></th>\n",
       "      <th>Регион</th>\n",
       "      <th>Средняя прибыль</th>\n",
       "      <th>95%-й Доверительный интервал</th>\n",
       "      <th>Риск убытков</th>\n",
       "    </tr>\n",
       "  </thead>\n",
       "  <tbody>\n",
       "    <tr>\n",
       "      <td>0</td>\n",
       "      <td>0-й регион</td>\n",
       "      <td>457113928</td>\n",
       "      <td>-70724706.0-1000293734</td>\n",
       "      <td>5.0 %</td>\n",
       "    </tr>\n",
       "    <tr>\n",
       "      <td>1</td>\n",
       "      <td>1-й регион</td>\n",
       "      <td>522977227</td>\n",
       "      <td>88935782.0-963644260</td>\n",
       "      <td>0.4 %</td>\n",
       "    </tr>\n",
       "    <tr>\n",
       "      <td>2</td>\n",
       "      <td>2-й регион</td>\n",
       "      <td>363224736</td>\n",
       "      <td>-192431772.0-859125012</td>\n",
       "      <td>10.4 %</td>\n",
       "    </tr>\n",
       "  </tbody>\n",
       "</table>\n",
       "</div>"
      ],
      "text/plain": [
       "       Регион Средняя прибыль 95%-й Доверительный интервал Риск убытков\n",
       "0  0-й регион       457113928       -70724706.0-1000293734        5.0 %\n",
       "1  1-й регион       522977227         88935782.0-963644260        0.4 %\n",
       "2  2-й регион       363224736       -192431772.0-859125012       10.4 %"
      ]
     },
     "metadata": {},
     "output_type": "display_data"
    }
   ],
   "source": [
    "display(results)"
   ]
  },
  {
   "cell_type": "markdown",
   "metadata": {},
   "source": [
    "###### Обобщая. \n",
    "Можно сделать следующий вывод. По предварительным оценкам 1-й регион никак не подходил под выбор для разработки скважин. Средние запасы региона (68.8) гораздо меньше чем остальных регионов (92-95) и рассчитанного запаса для безубыточной разработки месторождения (111.11). Но, благодаря качественно прогнозирующей модели, самые оптимистичные прогнозы касаются именно 1-го региона – риск убытков всего 0.4%. И именно этот регион и предлагается для разработки на основании проведенного исследования."
   ]
  },
  {
   "cell_type": "markdown",
   "metadata": {},
   "source": [
    "## Вывод\n",
    "###### Загрузка и подготовка данных\n",
    "\n",
    "Изучили содержимое таблиц. Убедились в отсутствии пропусков. Проверили данные на полные дубликаты и дубликаты по id. Поскольку полные дубликаты отсутствуют, а дубликатов по id очень малое количество - приняли решение от них не избавляться и оставить всё как есть. Столбец id при обучении моделей нам не пригодится – избавимся от него. Изучили матрицы корреляции для данных по каждому региону. Замечаем, что для 1-го региона признак f2 очень сильно коррелирует с целевым признаком. Разделили данные каждого региона на обучающую и валидационную выборки (в соотношении 75:25), а также на признаки и целевой признак. Привели признаки к единому масштабу для данных каждого региона.\n",
    "\n",
    "###### Обучение и проверка модели\n",
    "\n",
    "Написали функции для обучения модели линейной регрессии, модели SGDRegressor, модели HuberRegressor. Написали функцию предсказания на основе обученной модели. Поскольку предсказания выводятся в массиве, привели к Series и установили аналогичные с target индексы. Написали функции нахождения результатов успешности модели – MSE, RMSE, R2. А также - Средний реальный запас сырья и Средний предсказанный запас сырья. Получили следующие результаты:\n",
    "\n",
    "###### Данные по 0-му региону"
   ]
  },
  {
   "cell_type": "code",
   "execution_count": 76,
   "metadata": {},
   "outputs": [
    {
     "data": {
      "text/html": [
       "<div>\n",
       "<style scoped>\n",
       "    .dataframe tbody tr th:only-of-type {\n",
       "        vertical-align: middle;\n",
       "    }\n",
       "\n",
       "    .dataframe tbody tr th {\n",
       "        vertical-align: top;\n",
       "    }\n",
       "\n",
       "    .dataframe thead th {\n",
       "        text-align: right;\n",
       "    }\n",
       "</style>\n",
       "<table border=\"1\" class=\"dataframe\">\n",
       "  <thead>\n",
       "    <tr style=\"text-align: right;\">\n",
       "      <th></th>\n",
       "      <th>Модель</th>\n",
       "      <th>MSE</th>\n",
       "      <th>RMSE</th>\n",
       "      <th>R2</th>\n",
       "      <th>Средний реальный запас сырья</th>\n",
       "      <th>Средний предсказанный запас сырья</th>\n",
       "    </tr>\n",
       "  </thead>\n",
       "  <tbody>\n",
       "    <tr>\n",
       "      <td>0</td>\n",
       "      <td>linear_regression</td>\n",
       "      <td>1412.62</td>\n",
       "      <td>37.5849</td>\n",
       "      <td>0.274169</td>\n",
       "      <td>92.5915</td>\n",
       "      <td>92.6759</td>\n",
       "    </tr>\n",
       "    <tr>\n",
       "      <td>1</td>\n",
       "      <td>SGDRegressor</td>\n",
       "      <td>1412.38</td>\n",
       "      <td>37.5817</td>\n",
       "      <td>0.274294</td>\n",
       "      <td>92.5915</td>\n",
       "      <td>92.4923</td>\n",
       "    </tr>\n",
       "    <tr>\n",
       "      <td>2</td>\n",
       "      <td>HuberRegressor</td>\n",
       "      <td>1416.49</td>\n",
       "      <td>37.6362</td>\n",
       "      <td>0.272186</td>\n",
       "      <td>92.5915</td>\n",
       "      <td>92.6514</td>\n",
       "    </tr>\n",
       "  </tbody>\n",
       "</table>\n",
       "</div>"
      ],
      "text/plain": [
       "              Модель      MSE     RMSE        R2 Средний реальный запас сырья  \\\n",
       "0  linear_regression  1412.62  37.5849  0.274169                      92.5915   \n",
       "1       SGDRegressor  1412.38  37.5817  0.274294                      92.5915   \n",
       "2     HuberRegressor  1416.49  37.6362  0.272186                      92.5915   \n",
       "\n",
       "  Средний предсказанный запас сырья  \n",
       "0                           92.6759  \n",
       "1                           92.4923  \n",
       "2                           92.6514  "
      ]
     },
     "metadata": {},
     "output_type": "display_data"
    }
   ],
   "source": [
    "display(stat_0_reg)"
   ]
  },
  {
   "cell_type": "markdown",
   "metadata": {},
   "source": [
    "###### Данные по 1-му региону"
   ]
  },
  {
   "cell_type": "code",
   "execution_count": 77,
   "metadata": {},
   "outputs": [
    {
     "data": {
      "text/html": [
       "<div>\n",
       "<style scoped>\n",
       "    .dataframe tbody tr th:only-of-type {\n",
       "        vertical-align: middle;\n",
       "    }\n",
       "\n",
       "    .dataframe tbody tr th {\n",
       "        vertical-align: top;\n",
       "    }\n",
       "\n",
       "    .dataframe thead th {\n",
       "        text-align: right;\n",
       "    }\n",
       "</style>\n",
       "<table border=\"1\" class=\"dataframe\">\n",
       "  <thead>\n",
       "    <tr style=\"text-align: right;\">\n",
       "      <th></th>\n",
       "      <th>Модель</th>\n",
       "      <th>MSE</th>\n",
       "      <th>RMSE</th>\n",
       "      <th>R2</th>\n",
       "      <th>Средний реальный запас сырья</th>\n",
       "      <th>Средний предсказанный запас сырья</th>\n",
       "    </tr>\n",
       "  </thead>\n",
       "  <tbody>\n",
       "    <tr>\n",
       "      <td>0</td>\n",
       "      <td>linear_regression</td>\n",
       "      <td>0.792708</td>\n",
       "      <td>0.890342</td>\n",
       "      <td>0.999627</td>\n",
       "      <td>68.8295</td>\n",
       "      <td>68.8387</td>\n",
       "    </tr>\n",
       "    <tr>\n",
       "      <td>1</td>\n",
       "      <td>SGDRegressor</td>\n",
       "      <td>0.792638</td>\n",
       "      <td>0.890302</td>\n",
       "      <td>0.999627</td>\n",
       "      <td>68.8295</td>\n",
       "      <td>68.8319</td>\n",
       "    </tr>\n",
       "    <tr>\n",
       "      <td>2</td>\n",
       "      <td>HuberRegressor</td>\n",
       "      <td>0.793684</td>\n",
       "      <td>0.89089</td>\n",
       "      <td>0.999627</td>\n",
       "      <td>68.8295</td>\n",
       "      <td>68.8389</td>\n",
       "    </tr>\n",
       "  </tbody>\n",
       "</table>\n",
       "</div>"
      ],
      "text/plain": [
       "              Модель       MSE      RMSE        R2  \\\n",
       "0  linear_regression  0.792708  0.890342  0.999627   \n",
       "1       SGDRegressor  0.792638  0.890302  0.999627   \n",
       "2     HuberRegressor  0.793684   0.89089  0.999627   \n",
       "\n",
       "  Средний реальный запас сырья Средний предсказанный запас сырья  \n",
       "0                      68.8295                           68.8387  \n",
       "1                      68.8295                           68.8319  \n",
       "2                      68.8295                           68.8389  "
      ]
     },
     "metadata": {},
     "output_type": "display_data"
    }
   ],
   "source": [
    "display(stat_1_reg)"
   ]
  },
  {
   "cell_type": "markdown",
   "metadata": {},
   "source": [
    "###### Данные по 2-му региону"
   ]
  },
  {
   "cell_type": "code",
   "execution_count": 78,
   "metadata": {},
   "outputs": [
    {
     "data": {
      "text/html": [
       "<div>\n",
       "<style scoped>\n",
       "    .dataframe tbody tr th:only-of-type {\n",
       "        vertical-align: middle;\n",
       "    }\n",
       "\n",
       "    .dataframe tbody tr th {\n",
       "        vertical-align: top;\n",
       "    }\n",
       "\n",
       "    .dataframe thead th {\n",
       "        text-align: right;\n",
       "    }\n",
       "</style>\n",
       "<table border=\"1\" class=\"dataframe\">\n",
       "  <thead>\n",
       "    <tr style=\"text-align: right;\">\n",
       "      <th></th>\n",
       "      <th>Модель</th>\n",
       "      <th>MSE</th>\n",
       "      <th>RMSE</th>\n",
       "      <th>R2</th>\n",
       "      <th>Средний реальный запас сырья</th>\n",
       "      <th>Средний предсказанный запас сырья</th>\n",
       "    </tr>\n",
       "  </thead>\n",
       "  <tbody>\n",
       "    <tr>\n",
       "      <td>0</td>\n",
       "      <td>linear_regression</td>\n",
       "      <td>1412.62</td>\n",
       "      <td>37.5849</td>\n",
       "      <td>0.274169</td>\n",
       "      <td>92.5915</td>\n",
       "      <td>92.6759</td>\n",
       "    </tr>\n",
       "    <tr>\n",
       "      <td>1</td>\n",
       "      <td>SGDRegressor</td>\n",
       "      <td>1412.38</td>\n",
       "      <td>37.5817</td>\n",
       "      <td>0.274294</td>\n",
       "      <td>92.5915</td>\n",
       "      <td>92.4923</td>\n",
       "    </tr>\n",
       "    <tr>\n",
       "      <td>2</td>\n",
       "      <td>HuberRegressor</td>\n",
       "      <td>1416.49</td>\n",
       "      <td>37.6362</td>\n",
       "      <td>0.272186</td>\n",
       "      <td>92.5915</td>\n",
       "      <td>92.6514</td>\n",
       "    </tr>\n",
       "  </tbody>\n",
       "</table>\n",
       "</div>"
      ],
      "text/plain": [
       "              Модель      MSE     RMSE        R2 Средний реальный запас сырья  \\\n",
       "0  linear_regression  1412.62  37.5849  0.274169                      92.5915   \n",
       "1       SGDRegressor  1412.38  37.5817  0.274294                      92.5915   \n",
       "2     HuberRegressor  1416.49  37.6362  0.272186                      92.5915   \n",
       "\n",
       "  Средний предсказанный запас сырья  \n",
       "0                           92.6759  \n",
       "1                           92.4923  \n",
       "2                           92.6514  "
      ]
     },
     "metadata": {},
     "output_type": "display_data"
    }
   ],
   "source": [
    "display(stat_2_reg)"
   ]
  },
  {
   "cell_type": "markdown",
   "metadata": {},
   "source": [
    "Линейная модель получилась самой успешной. Показатель R2 – самый высокий и, соответственно, метрики MSE, RMSE – самые низкие.\n",
    "При этом значения метрики R2, > 0, демонстрируют то, что модель полезна и прогнозирует лучше, чем условные случайные предсказания.\n",
    "На данных первого региона видим почти 100% попадание (R2 стремится к 1). Это произошло за счёт, фактически, прямой корреляции одного из признаков с целевым, замеченной нами ранее. \n",
    "\n",
    "###### Подготовка к расчёту прибыли\n",
    "\n",
    "Объём сырья для безубыточной разработки новой скважины равен 111.11, но при этом объем запасов среднестатистической скважины в регионах значительно меньше этого значения: 92.5, 68.83, 95.\n",
    "\n",
    "При этом особенно выделяется 1-ый регион, средние запасы которого меньше необходимых 111,11 в более чем 1,5 раза. Но, при этом, наша модель очень хорошо прогнозирует запасы скважин именно в этом регионе.\n",
    "\n",
    "######  Расчёт прибыли и рисков\n",
    "\n",
    "Написали функцию подсчета прибыли для выбранных скважин, функцию, в которой сгенерируем 1000 выборок, чтобы найти распределение прибыли. И функции, вычисляющие среднюю выручку, 95%-й доверительный интервал и риск убытков. Найдем распределение возможной прибыли для каждого региона по предсказаниям модели линейной регрессии. И получили следующие результаты:"
   ]
  },
  {
   "cell_type": "code",
   "execution_count": 79,
   "metadata": {},
   "outputs": [
    {
     "data": {
      "text/html": [
       "<div>\n",
       "<style scoped>\n",
       "    .dataframe tbody tr th:only-of-type {\n",
       "        vertical-align: middle;\n",
       "    }\n",
       "\n",
       "    .dataframe tbody tr th {\n",
       "        vertical-align: top;\n",
       "    }\n",
       "\n",
       "    .dataframe thead th {\n",
       "        text-align: right;\n",
       "    }\n",
       "</style>\n",
       "<table border=\"1\" class=\"dataframe\">\n",
       "  <thead>\n",
       "    <tr style=\"text-align: right;\">\n",
       "      <th></th>\n",
       "      <th>Регион</th>\n",
       "      <th>Средняя прибыль</th>\n",
       "      <th>95%-й Доверительный интервал</th>\n",
       "      <th>Риск убытков</th>\n",
       "    </tr>\n",
       "  </thead>\n",
       "  <tbody>\n",
       "    <tr>\n",
       "      <td>0</td>\n",
       "      <td>0-й регион</td>\n",
       "      <td>457113928</td>\n",
       "      <td>-70724706.0-1000293734</td>\n",
       "      <td>5.0 %</td>\n",
       "    </tr>\n",
       "    <tr>\n",
       "      <td>1</td>\n",
       "      <td>1-й регион</td>\n",
       "      <td>522977227</td>\n",
       "      <td>88935782.0-963644260</td>\n",
       "      <td>0.4 %</td>\n",
       "    </tr>\n",
       "    <tr>\n",
       "      <td>2</td>\n",
       "      <td>2-й регион</td>\n",
       "      <td>363224736</td>\n",
       "      <td>-192431772.0-859125012</td>\n",
       "      <td>10.4 %</td>\n",
       "    </tr>\n",
       "  </tbody>\n",
       "</table>\n",
       "</div>"
      ],
      "text/plain": [
       "       Регион Средняя прибыль 95%-й Доверительный интервал Риск убытков\n",
       "0  0-й регион       457113928       -70724706.0-1000293734        5.0 %\n",
       "1  1-й регион       522977227         88935782.0-963644260        0.4 %\n",
       "2  2-й регион       363224736       -192431772.0-859125012       10.4 %"
      ]
     },
     "metadata": {},
     "output_type": "display_data"
    }
   ],
   "source": [
    "display(results)"
   ]
  },
  {
   "cell_type": "markdown",
   "metadata": {},
   "source": [
    "###### Обобщая. \n",
    "Можно сделать следующий вывод. По предварительным оценкам 1-й регион никак не подходил под выбор для разработки скважин. Средние запасы региона (68.8) гораздо меньше чем остальных регионов (92-95) и рассчитанного запаса для безубыточной разработки месторождения (111.11). Но, благодаря качественно прогнозирующей модели, самые оптимистичные прогнозы касаются именно 1-го региона – риск убытков всего 0.4%. И именно этот регион и предлагается для разработки на основании проведенного исследования."
   ]
  },
  {
   "cell_type": "markdown",
   "metadata": {},
   "source": [
    "## Чек-лист готовности проекта"
   ]
  },
  {
   "cell_type": "markdown",
   "metadata": {},
   "source": [
    "Поставьте 'x' в выполненных пунктах. Далее нажмите Shift+Enter."
   ]
  },
  {
   "cell_type": "markdown",
   "metadata": {},
   "source": [
    "- [x]  Jupyter Notebook открыт\n",
    "- [x]  Весь код выполняется без ошибок\n",
    "- [x]  Ячейки с кодом расположены в порядке исполнения\n",
    "- [x]  Выполнен шаг 1: данные подготовлены\n",
    "- [x]  Выполнен шаг 2: модели обучены и проверены\n",
    "    - [x]  Данные корректно разбиты на обучающую и валидационную выборки\n",
    "    - [x]  Модели обучены, предсказания сделаны\n",
    "    - [x]  Предсказания и правильные ответы на валидационной выборке сохранены\n",
    "    - [x]  На экране напечатаны результаты\n",
    "    - [x]  Сделаны выводы\n",
    "- [x]  Выполнен шаг 3: проведена подготовка к расчёту прибыли\n",
    "    - [x]  Для всех ключевых значений созданы константы Python\n",
    "    - [x]  Посчитано минимальное среднее количество продукта в месторождениях региона, достаточное для разработки\n",
    "    - [x]  По предыдущему пункту сделаны выводы\n",
    "    - [x]  Написана функция расчёта прибыли\n",
    "- [x]  Выполнен шаг 4: посчитаны риски и прибыль\n",
    "    - [x]  Проведена процедура *Bootstrap*\n",
    "    - [x]  Все параметры бутстрепа соответствуют условию\n",
    "    - [x]  Найдены все нужные величины\n",
    "    - [x]  Предложен регион для разработки месторождения\n",
    "    - [x]  Выбор региона обоснован"
   ]
  },
  {
   "cell_type": "code",
   "execution_count": null,
   "metadata": {},
   "outputs": [],
   "source": []
  }
 ],
 "metadata": {
  "kernelspec": {
   "display_name": "Python 3",
   "language": "python",
   "name": "python3"
  },
  "language_info": {
   "codemirror_mode": {
    "name": "ipython",
    "version": 3
   },
   "file_extension": ".py",
   "mimetype": "text/x-python",
   "name": "python",
   "nbconvert_exporter": "python",
   "pygments_lexer": "ipython3",
   "version": "3.8.5"
  },
  "toc": {
   "base_numbering": 1,
   "nav_menu": {},
   "number_sections": true,
   "sideBar": true,
   "skip_h1_title": true,
   "title_cell": "Table of Contents",
   "title_sidebar": "Contents",
   "toc_cell": false,
   "toc_position": {},
   "toc_section_display": true,
   "toc_window_display": false
  }
 },
 "nbformat": 4,
 "nbformat_minor": 2
}
